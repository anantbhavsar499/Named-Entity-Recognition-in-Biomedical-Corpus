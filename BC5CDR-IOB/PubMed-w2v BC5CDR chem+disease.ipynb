{
 "cells": [
  {
   "cell_type": "code",
   "execution_count": null,
   "metadata": {
    "colab": {
     "base_uri": "https://localhost:8080/",
     "height": 35
    },
    "colab_type": "code",
    "executionInfo": {
     "elapsed": 9074,
     "status": "ok",
     "timestamp": 1573419735338,
     "user": {
      "displayName": "Anant Bhavsar",
      "photoUrl": "",
      "userId": "10842212189610618468"
     },
     "user_tz": -330
    },
    "id": "ARlAq1RUWNfn",
    "outputId": "46d3f2f0-019c-4d70-cc00-b602741ff03b"
   },
   "outputs": [],
   "source": [
    "import pandas as pd\n",
    "import numpy as np\n",
    "import keras_contrib\n",
    "from keras.preprocessing.sequence import pad_sequences\n",
    "from keras.utils import to_categorical\n",
    "from keras.layers import LSTM, Dense, TimeDistributed, Embedding, Bidirectional\n",
    "from keras.models import Model, Input\n",
    "from keras_contrib.layers import CRF\n",
    "from keras.callbacks import ModelCheckpoint\n",
    "from keras.initializers import Constant\n",
    "import csv\n",
    "import warnings\n",
    "warnings.filterwarnings(\"ignore\")\n",
    "import random\n",
    "random.seed(10)\n",
    "from sklearn.model_selection import train_test_split\n",
    "import matplotlib.pyplot as plt\n",
    "%matplotlib inline\n",
    "import os\n",
    "\n",
    "from sklearn_crfsuite.metrics import flat_classification_report\n",
    "from sklearn.metrics import f1_score\n",
    "from seqeval.metrics import precision_score, recall_score, f1_score, classification_report\n",
    "from sklearn.metrics import confusion_matrix\n",
    "from sklearn.utils.multiclass import unique_labels\n",
    "from keras.preprocessing.text import text_to_word_sequence\n",
    "from gensim.models.keyedvectors import KeyedVectors"
   ]
  },
  {
   "cell_type": "code",
   "execution_count": 0,
   "metadata": {
    "colab": {},
    "colab_type": "code",
    "id": "G3-6XQZvWEUU"
   },
   "outputs": [],
   "source": [
    "tsvfile=open(\"BC5CDR-IOB/train.tsv\",encoding=\"utf-8\")\n",
    "tsvreader = csv.reader(tsvfile, delimiter=\"\\t\")\n",
    "data=[]\n",
    "sentences=[]\n",
    "words=[]\n",
    "tags=[]\n",
    "maxsentlen=0\n",
    "for line in tsvreader:\n",
    "    if line!=[]:\n",
    "        data.append(line)\n",
    "        if line[0] not in words:\n",
    "            words.append(line[0])\n",
    "        if line[1] not in tags:\n",
    "            tags.append(line[1])\n",
    "    else:\n",
    "        sentences.append(data)\n",
    "        if len(data)>maxsentlen:\n",
    "            maxsentlen=len(data)\n",
    "        data=[]"
   ]
  },
  {
   "cell_type": "code",
   "execution_count": 27,
   "metadata": {
    "colab": {
     "base_uri": "https://localhost:8080/",
     "height": 53
    },
    "colab_type": "code",
    "executionInfo": {
     "elapsed": 1160,
     "status": "ok",
     "timestamp": 1573419747294,
     "user": {
      "displayName": "Anant Bhavsar",
      "photoUrl": "",
      "userId": "10842212189610618468"
     },
     "user_tz": -330
    },
    "id": "u1IVTV7nWEU3",
    "outputId": "bb103b7c-c91b-45e4-a9fc-c40987e27212"
   },
   "outputs": [
    {
     "name": "stdout",
     "output_type": "stream",
     "text": [
      "4560\n",
      "9980\n"
     ]
    }
   ],
   "source": [
    "print(len(sentences))\n",
    "print(len(words))"
   ]
  },
  {
   "cell_type": "code",
   "execution_count": 28,
   "metadata": {
    "colab": {
     "base_uri": "https://localhost:8080/",
     "height": 90
    },
    "colab_type": "code",
    "executionInfo": {
     "elapsed": 2076,
     "status": "ok",
     "timestamp": 1573419749601,
     "user": {
      "displayName": "Anant Bhavsar",
      "photoUrl": "",
      "userId": "10842212189610618468"
     },
     "user_tz": -330
    },
    "id": "a9p87RdNWEVf",
    "outputId": "bdea4bdf-c85f-4038-a71c-a551781da8c7"
   },
   "outputs": [
    {
     "name": "stdout",
     "output_type": "stream",
     "text": [
      "2\n",
      "1\n",
      "Selegiline\n",
      "6\n"
     ]
    }
   ],
   "source": [
    "word_to_index = {w : i + 2 for i, w in enumerate(words)}\n",
    "print(word_to_index[words[0]])\n",
    "word_to_index[\"UNK\"] = 1\n",
    "word_to_index[\"PAD\"] = 0\n",
    "\n",
    "# Dictionary lable:index pair\n",
    "# label is key and value is index.\n",
    "tag_to_index = {t : i + 1 for i, t in enumerate(tags)}\n",
    "print(tag_to_index[tags[0]])\n",
    "\n",
    "tag_to_index[\"PAD\"] = 0\n",
    "\n",
    "idx2word = {i: w for w, i in word_to_index.items()}\n",
    "print(idx2word[2])\n",
    "idx2tag = {i: w for w, i in tag_to_index.items()}\n",
    "print(len(tag_to_index))"
   ]
  },
  {
   "cell_type": "code",
   "execution_count": 0,
   "metadata": {
    "colab": {},
    "colab_type": "code",
    "id": "MgkRWpqnWEWP"
   },
   "outputs": [],
   "source": [
    "# Number of data points passed in each iteration\n",
    "batch_size =50\n",
    "# Passes through entire dataset\n",
    "epochs = 20\n",
    "# Maximum length of review\n",
    "max_len = maxsentlen+15\n",
    "# Dimension of embedding vector\n",
    "embedding_dim= 200"
   ]
  },
  {
   "cell_type": "code",
   "execution_count": 162,
   "metadata": {
    "colab": {
     "base_uri": "https://localhost:8080/",
     "height": 164
    },
    "colab_type": "code",
    "executionInfo": {
     "elapsed": 5390,
     "status": "ok",
     "timestamp": 1573428373975,
     "user": {
      "displayName": "Anant Bhavsar",
      "photoUrl": "",
      "userId": "10842212189610618468"
     },
     "user_tz": -330
    },
    "id": "_EuoNKazWEWr",
    "outputId": "be5620f8-3f0e-4497-a223-3de53a50abd6"
   },
   "outputs": [
    {
     "name": "stdout",
     "output_type": "stream",
     "text": [
      "[2, 3, 4, 5, 6, 7, 8, 9, 10, 11, 12, 13, 14, 15, 16, 17, 18, 19, 20, 21, 22] [23, 12, 24, 25, 26, 8, 9, 10, 27, 28, 29, 30, 31, 32, 33, 34, 35, 36, 37, 7, 38, 39, 8, 9, 10, 11, 30, 40, 32, 41, 42, 43, 44, 45, 46, 47, 48, 49, 50, 3, 51, 52, 39, 53, 54, 50, 3, 51, 55, 22]\n",
      "[['Selegiline', 'B-Chemical'], ['-', 'O'], ['induced', 'O'], ['postural', 'B-Disease'], ['hypotension', 'I-Disease'], ['in', 'O'], ['Parkinson', 'B-Disease'], [\"'\", 'I-Disease'], ['s', 'I-Disease'], ['disease', 'I-Disease'], [':', 'O'], ['a', 'O'], ['longitudinal', 'O'], ['study', 'O'], ['on', 'O'], ['the', 'O'], ['effects', 'O'], ['of', 'O'], ['drug', 'O'], ['withdrawal', 'O'], ['.', 'O']]\n",
      "[['OBJECTIVES', 'O'], [':', 'O'], ['The', 'O'], ['United', 'O'], ['Kingdom', 'O'], ['Parkinson', 'B-Disease'], [\"'\", 'I-Disease'], ['s', 'I-Disease'], ['Disease', 'I-Disease'], ['Research', 'O'], ['Group', 'O'], ['(', 'O'], ['UKPDRG', 'O'], [')', 'O'], ['trial', 'O'], ['found', 'O'], ['an', 'O'], ['increased', 'O'], ['mortality', 'O'], ['in', 'O'], ['patients', 'O'], ['with', 'O'], ['Parkinson', 'B-Disease'], [\"'\", 'I-Disease'], ['s', 'I-Disease'], ['disease', 'I-Disease'], ['(', 'O'], ['PD', 'B-Disease'], [')', 'O'], ['randomized', 'O'], ['to', 'O'], ['receive', 'O'], ['10', 'O'], ['mg', 'O'], ['selegiline', 'B-Chemical'], ['per', 'O'], ['day', 'O'], ['and', 'O'], ['L', 'B-Chemical'], ['-', 'I-Chemical'], ['dopa', 'I-Chemical'], ['compared', 'O'], ['with', 'O'], ['those', 'O'], ['taking', 'O'], ['L', 'B-Chemical'], ['-', 'I-Chemical'], ['dopa', 'I-Chemical'], ['alone', 'O'], ['.', 'O']]\n",
      "[['Recently', 'O'], [',', 'O'], ['we', 'O'], ['found', 'O'], ['that', 'O'], ['therapy', 'O'], ['with', 'O'], ['selegiline', 'B-Chemical'], ['and', 'O'], ['L', 'B-Chemical'], ['-', 'I-Chemical'], ['dopa', 'I-Chemical'], ['was', 'O'], ['associated', 'O'], ['with', 'O'], ['selective', 'O'], ['systolic', 'B-Disease'], ['orthostatic', 'I-Disease'], ['hypotension', 'I-Disease'], ['which', 'O'], ['was', 'O'], ['abolished', 'O'], ['by', 'O'], ['withdrawal', 'O'], ['of', 'O'], ['selegiline', 'B-Chemical'], ['.', 'O']]\n",
      "[['This', 'O'], ['unwanted', 'O'], ['effect', 'O'], ['on', 'O'], ['postural', 'O'], ['blood', 'O'], ['pressure', 'O'], ['was', 'O'], ['not', 'O'], ['the', 'O'], ['result', 'O'], ['of', 'O'], ['underlying', 'O'], ['autonomic', 'O'], ['failure', 'O'], ['.', 'O']]\n",
      "[['The', 'O'], ['aims', 'O'], ['of', 'O'], ['this', 'O'], ['study', 'O'], ['were', 'O'], ['to', 'O'], ['confirm', 'O'], ['our', 'O'], ['previous', 'O'], ['findings', 'O'], ['in', 'O'], ['a', 'O'], ['separate', 'O'], ['cohort', 'O'], ['of', 'O'], ['patients', 'O'], ['and', 'O'], ['to', 'O'], ['determine', 'O'], ['the', 'O'], ['time', 'O'], ['course', 'O'], ['of', 'O'], ['the', 'O'], ['cardiovascular', 'O'], ['consequences', 'O'], ['of', 'O'], ['stopping', 'O'], ['selegiline', 'B-Chemical'], ['in', 'O'], ['the', 'O'], ['expectation', 'O'], ['that', 'O'], ['this', 'O'], ['might', 'O'], ['shed', 'O'], ['light', 'O'], ['on', 'O'], ['the', 'O'], ['mechanisms', 'O'], ['by', 'O'], ['which', 'O'], ['the', 'O'], ['drug', 'O'], ['causes', 'O'], ['orthostatic', 'B-Disease'], ['hypotension', 'I-Disease'], ['.', 'O']]\n",
      "[['METHODS', 'O'], [':', 'O'], ['The', 'O'], ['cardiovascular', 'O'], ['responses', 'O'], ['to', 'O'], ['standing', 'O'], ['and', 'O'], ['head', 'O'], ['-', 'O'], ['up', 'O'], ['tilt', 'O'], ['were', 'O'], ['studied', 'O'], ['repeatedly', 'O'], ['in', 'O'], ['PD', 'B-Disease'], ['patients', 'O'], ['receiving', 'O'], ['selegiline', 'B-Chemical'], ['and', 'O'], ['as', 'O'], ['the', 'O'], ['drug', 'O'], ['was', 'O'], ['withdrawn', 'O'], ['.', 'O']]\n"
     ]
    }
   ],
   "source": [
    "X = [[word_to_index[w[0]] for w in s] for s in sentences]\n",
    "print(X[0],X[1])\n",
    "count=0\n",
    "for s in sentences:\n",
    "    print(s)\n",
    "    count=count+1\n",
    "    if count>5:\n",
    "        break\n",
    "# Padding each sequence to have same length  of each word\n",
    "X = pad_sequences(maxlen = max_len, sequences = X, padding = \"post\", value = word_to_index[\"PAD\"])"
   ]
  },
  {
   "cell_type": "code",
   "execution_count": 163,
   "metadata": {
    "colab": {
     "base_uri": "https://localhost:8080/",
     "height": 181
    },
    "colab_type": "code",
    "executionInfo": {
     "elapsed": 4837,
     "status": "ok",
     "timestamp": 1573428373977,
     "user": {
      "displayName": "Anant Bhavsar",
      "photoUrl": "",
      "userId": "10842212189610618468"
     },
     "user_tz": -330
    },
    "id": "z7cjgZ5OWEXB",
    "outputId": "84b7ff96-d5cd-4595-ba05-e1c059a18fa4"
   },
   "outputs": [
    {
     "name": "stdout",
     "output_type": "stream",
     "text": [
      "[ 2  3  4  5  6  7  8  9 10 11 12 13 14 15 16 17 18 19 20 21 22  0  0  0\n",
      "  0  0  0  0  0  0  0  0  0  0  0  0  0  0  0  0  0  0  0  0  0  0  0  0\n",
      "  0  0  0  0  0  0  0  0  0  0  0  0  0  0  0  0  0  0  0  0  0  0  0  0\n",
      "  0  0  0  0  0  0  0  0  0  0  0  0  0  0  0  0  0  0  0  0  0  0  0  0\n",
      "  0  0  0  0  0  0  0  0  0  0  0  0  0  0  0  0  0  0  0  0  0  0  0  0\n",
      "  0  0  0  0  0  0  0  0  0  0  0  0  0  0  0  0  0  0  0  0  0  0  0  0\n",
      "  0  0  0  0  0  0  0  0  0  0  0  0  0  0  0  0  0  0  0  0  0  0  0  0\n",
      "  0]\n"
     ]
    },
    {
     "data": {
      "text/plain": [
       "169"
      ]
     },
     "execution_count": 163,
     "metadata": {
      "tags": []
     },
     "output_type": "execute_result"
    }
   ],
   "source": [
    "print(X[0])\n",
    "len(X[0])"
   ]
  },
  {
   "cell_type": "code",
   "execution_count": 164,
   "metadata": {
    "colab": {
     "base_uri": "https://localhost:8080/",
     "height": 35
    },
    "colab_type": "code",
    "executionInfo": {
     "elapsed": 6088,
     "status": "ok",
     "timestamp": 1573428375800,
     "user": {
      "displayName": "Anant Bhavsar",
      "photoUrl": "",
      "userId": "10842212189610618468"
     },
     "user_tz": -330
    },
    "id": "9mBsa7QDWEXU",
    "outputId": "d6af3751-689a-4055-a796-81c28df16b9a"
   },
   "outputs": [
    {
     "name": "stdout",
     "output_type": "stream",
     "text": [
      "[1, 2, 2, 3, 4, 2, 3, 4, 4, 4, 2, 2, 2, 2, 2, 2, 2, 2, 2, 2, 2]\n"
     ]
    }
   ],
   "source": [
    "# Convert label to index\n",
    "y = [[tag_to_index[w[1]] for w in s] for s in sentences]\n",
    "print(y[0])\n",
    "# padding\n",
    "y = pad_sequences(maxlen = max_len, sequences = y, padding = \"post\", value = tag_to_index[\"PAD\"])"
   ]
  },
  {
   "cell_type": "code",
   "execution_count": 165,
   "metadata": {
    "colab": {
     "base_uri": "https://localhost:8080/",
     "height": 72
    },
    "colab_type": "code",
    "executionInfo": {
     "elapsed": 5602,
     "status": "ok",
     "timestamp": 1573428375802,
     "user": {
      "displayName": "Anant Bhavsar",
      "photoUrl": "",
      "userId": "10842212189610618468"
     },
     "user_tz": -330
    },
    "id": "X2fyCjskWEXk",
    "outputId": "4972ad09-3e09-47eb-9372-eebf77838ddc"
   },
   "outputs": [
    {
     "name": "stdout",
     "output_type": "stream",
     "text": [
      "5\n",
      "[0. 0. 1. 0. 0. 0.] [0. 0. 1. 0. 0. 0.]\n",
      "6\n"
     ]
    }
   ],
   "source": [
    "num_tag = 5\n",
    "print(num_tag)\n",
    "# One hot encoded labels\n",
    "y = [to_categorical(i, num_classes = num_tag + 1) for i in y]\n",
    "print(y[0][1],y[0][18])\n",
    "print(len(y[0][1]))"
   ]
  },
  {
   "cell_type": "code",
   "execution_count": 168,
   "metadata": {
    "colab": {
     "base_uri": "https://localhost:8080/",
     "height": 235
    },
    "colab_type": "code",
    "executionInfo": {
     "elapsed": 4477,
     "status": "ok",
     "timestamp": 1573428375808,
     "user": {
      "displayName": "Anant Bhavsar",
      "photoUrl": "",
      "userId": "10842212189610618468"
     },
     "user_tz": -330
    },
    "id": "WssrPkOGWEYX",
    "outputId": "436ffd86-7c43-4ce7-ad24-1a6bfbb16021"
   },
   "outputs": [
    {
     "name": "stdout",
     "output_type": "stream",
     "text": [
      "*****Before Processing first sentence : *****\n",
      " Selegiline - induced postural hypotension in Parkinson ' s disease : a longitudinal study on the effects of drug withdrawal .\n",
      "*****After Processing first sentence : *****\n",
      "  [ 2  3  4  5  6  7  8  9 10 11 12 13 14 15 16 17 18 19 20 21 22  0  0  0\n",
      "  0  0  0  0  0  0  0  0  0  0  0  0  0  0  0  0  0  0  0  0  0  0  0  0\n",
      "  0  0  0  0  0  0  0  0  0  0  0  0  0  0  0  0  0  0  0  0  0  0  0  0\n",
      "  0  0  0  0  0  0  0  0  0  0  0  0  0  0  0  0  0  0  0  0  0  0  0  0\n",
      "  0  0  0  0  0  0  0  0  0  0  0  0  0  0  0  0  0  0  0  0  0  0  0  0\n",
      "  0  0  0  0  0  0  0  0  0  0  0  0  0  0  0  0  0  0  0  0  0  0  0  0\n",
      "  0  0  0  0  0  0  0  0  0  0  0  0  0  0  0  0  0  0  0  0  0  0  0  0\n",
      "  0]\n"
     ]
    },
    {
     "data": {
      "text/plain": [
       "169"
      ]
     },
     "execution_count": 168,
     "metadata": {
      "tags": []
     },
     "output_type": "execute_result"
    }
   ],
   "source": [
    "# Let's check the first sentence before and after processing.\n",
    "print('*****Before Processing first sentence : *****\\n', ' '.join([w[0] for w in sentences[0]]))\n",
    "print('*****After Processing first sentence : *****\\n ', X[0])\n",
    "len(X[0])"
   ]
  },
  {
   "cell_type": "code",
   "execution_count": 169,
   "metadata": {
    "colab": {
     "base_uri": "https://localhost:8080/",
     "height": 199
    },
    "colab_type": "code",
    "executionInfo": {
     "elapsed": 4099,
     "status": "ok",
     "timestamp": 1573428375810,
     "user": {
      "displayName": "Anant Bhavsar",
      "photoUrl": "",
      "userId": "10842212189610618468"
     },
     "user_tz": -330
    },
    "id": "_sBzOCBPWEYf",
    "outputId": "a4fa6afd-249c-488e-cccd-5e7e2e02dbd9"
   },
   "outputs": [
    {
     "name": "stdout",
     "output_type": "stream",
     "text": [
      "*****Before Processing first sentence : *****\n",
      " B-Chemical O O B-Disease I-Disease O B-Disease I-Disease I-Disease I-Disease O O O O O O O O O O O\n",
      "*****After Processing first sentence : *****\n",
      "  [[0. 1. 0. 0. 0. 0.]\n",
      " [0. 0. 1. 0. 0. 0.]\n",
      " [0. 0. 1. 0. 0. 0.]\n",
      " ...\n",
      " [1. 0. 0. 0. 0. 0.]\n",
      " [1. 0. 0. 0. 0. 0.]\n",
      " [1. 0. 0. 0. 0. 0.]]\n"
     ]
    }
   ],
   "source": [
    "# First label before and after processing.\n",
    "print('*****Before Processing first sentence : *****\\n', ' '.join([w[1] for w in sentences[0]]))\n",
    "print('*****After Processing first sentence : *****\\n ', y[0])"
   ]
  },
  {
   "cell_type": "code",
   "execution_count": 171,
   "metadata": {
    "colab": {
     "base_uri": "https://localhost:8080/",
     "height": 55
    },
    "colab_type": "code",
    "executionInfo": {
     "elapsed": 4745,
     "status": "ok",
     "timestamp": 1573428377235,
     "user": {
      "displayName": "Anant Bhavsar",
      "photoUrl": "",
      "userId": "10842212189610618468"
     },
     "user_tz": -330
    },
    "id": "9Ohut9VvWEY0",
    "outputId": "4a54fdc2-85ce-4daf-f121-56ef75a31cdf"
   },
   "outputs": [
    {
     "data": {
      "text/plain": [
       "'path = \"/content/drive/My Drive/Colab Notebooks/PubMed-w2v.bin\"\\nembedding = KeyedVectors.load_word2vec_format(path, binary=True)\\nembeddings_index={}\\nfor word in embedding.wv.vocab:\\n    emb = embedding[word]\\n    embeddings_index[word] = emb\\nprint(\\'Found %s word vectors.\\' % len(embeddings_index))'"
      ]
     },
     "execution_count": 171,
     "metadata": {
      "tags": []
     },
     "output_type": "execute_result"
    }
   ],
   "source": [
    "path = \"Embedding/PubMed-w2v.bin\"\n",
    "embedding = KeyedVectors.load_word2vec_format(path, binary=True)\n",
    "embeddings_index={}\n",
    "for word in embedding.wv.vocab:\n",
    "    emb = embedding[word]\n",
    "    embeddings_index[word] = emb\n",
    "print('Found %s word vectors.' % len(embeddings_index))"
   ]
  },
  {
   "cell_type": "code",
   "execution_count": 0,
   "metadata": {
    "colab": {},
    "colab_type": "code",
    "id": "KFfUTA7eWEY7"
   },
   "outputs": [],
   "source": [
    "num_words=len(word_to_index) + 1\n",
    "embedding_matrix = np.zeros((len(words)+2, embedding_dim))\n",
    "for word, i in word_to_index.items():\n",
    "    embedding_vector = embeddings_index.get(word)\n",
    "    if embedding_vector is not None:\n",
    "        # words not found in embedding index will be all-zeros.\n",
    "        embedding_matrix[i] = embedding_vector"
   ]
  },
  {
   "cell_type": "code",
   "execution_count": 0,
   "metadata": {
    "colab": {},
    "colab_type": "code",
    "id": "N6MRYkYKWEZC"
   },
   "outputs": [],
   "source": [
    "embedding_layer = Embedding(len(words)+2,\n",
    "                            embedding_dim,\n",
    "                            embeddings_initializer=Constant(embedding_matrix),\n",
    "                            input_length=max_len,\n",
    "                            trainable=False)"
   ]
  },
  {
   "cell_type": "code",
   "execution_count": null,
   "metadata": {
    "colab": {
     "base_uri": "https://localhost:8080/",
     "height": 344
    },
    "colab_type": "code",
    "executionInfo": {
     "elapsed": 4118,
     "status": "ok",
     "timestamp": 1573428377984,
     "user": {
      "displayName": "Anant Bhavsar",
      "photoUrl": "",
      "userId": "10842212189610618468"
     },
     "user_tz": -330
    },
    "id": "qh3Z5RR5WEZL",
    "outputId": "22bfc219-0053-4c4c-9cef-ff2c1347b071"
   },
   "outputs": [],
   "source": [
    "num_tags = 5\n",
    "# Model architecture\n",
    "input = Input(shape = (max_len,))\n",
    "#model = Embedding(input_dim = len(words) + 2, output_dim = embedding_dim, input_length = max_len, mask_zero = True)(input)\n",
    "model=embedding_layer(input)\n",
    "model = Bidirectional(LSTM(units = 100, return_sequences=True, recurrent_dropout=0.1))(model)\n",
    "\n",
    "crf = CRF(num_tags+1)  # CRF layer\n",
    "out = crf(model)  # output\n",
    "\n",
    "model = Model(input, out)\n",
    "model.compile(optimizer=\"rmsprop\", loss=crf.loss_function, metrics=[crf.accuracy])\n",
    "\n",
    "model.summary()"
   ]
  },
  {
   "cell_type": "code",
   "execution_count": 0,
   "metadata": {
    "colab": {},
    "colab_type": "code",
    "id": "XHX5Ee81WEZR"
   },
   "outputs": [],
   "source": [
    "checkpointer = ModelCheckpoint(filepath = 'model.h5',\n",
    "                       verbose = 0,\n",
    "                       mode = 'auto',\n",
    "                       save_best_only = True,\n",
    "                       monitor='val_loss')"
   ]
  },
  {
   "cell_type": "code",
   "execution_count": 176,
   "metadata": {
    "colab": {
     "base_uri": "https://localhost:8080/",
     "height": 762
    },
    "colab_type": "code",
    "executionInfo": {
     "elapsed": 975027,
     "status": "ok",
     "timestamp": 1573429372086,
     "user": {
      "displayName": "Anant Bhavsar",
      "photoUrl": "",
      "userId": "10842212189610618468"
     },
     "user_tz": -330
    },
    "id": "BeneuONlWEZX",
    "outputId": "d97d4d55-c40a-4768-826e-0a7ea6a316cd"
   },
   "outputs": [
    {
     "name": "stdout",
     "output_type": "stream",
     "text": [
      "Train on 4104 samples, validate on 456 samples\n",
      "Epoch 1/20\n",
      "4104/4104 [==============================] - 54s 13ms/step - loss: 0.1280 - crf_viterbi_accuracy: 0.9632 - val_loss: 0.0522 - val_crf_viterbi_accuracy: 0.9856\n",
      "Epoch 2/20\n",
      "4104/4104 [==============================] - 48s 12ms/step - loss: 0.0358 - crf_viterbi_accuracy: 0.9893 - val_loss: 0.0376 - val_crf_viterbi_accuracy: 0.9883\n",
      "Epoch 3/20\n",
      "4104/4104 [==============================] - 49s 12ms/step - loss: 0.0263 - crf_viterbi_accuracy: 0.9916 - val_loss: 0.0331 - val_crf_viterbi_accuracy: 0.9882\n",
      "Epoch 4/20\n",
      "4104/4104 [==============================] - 49s 12ms/step - loss: 0.0212 - crf_viterbi_accuracy: 0.9929 - val_loss: 0.0241 - val_crf_viterbi_accuracy: 0.9918\n",
      "Epoch 5/20\n",
      "4104/4104 [==============================] - 48s 12ms/step - loss: 0.0176 - crf_viterbi_accuracy: 0.9937 - val_loss: 0.0340 - val_crf_viterbi_accuracy: 0.9872\n",
      "Epoch 6/20\n",
      "4104/4104 [==============================] - 49s 12ms/step - loss: 0.0146 - crf_viterbi_accuracy: 0.9944 - val_loss: 0.0196 - val_crf_viterbi_accuracy: 0.9928\n",
      "Epoch 7/20\n",
      "4104/4104 [==============================] - 51s 12ms/step - loss: 0.0122 - crf_viterbi_accuracy: 0.9950 - val_loss: 0.0179 - val_crf_viterbi_accuracy: 0.9932\n",
      "Epoch 8/20\n",
      "4104/4104 [==============================] - 49s 12ms/step - loss: 0.0096 - crf_viterbi_accuracy: 0.9954 - val_loss: 0.0169 - val_crf_viterbi_accuracy: 0.9929\n",
      "Epoch 9/20\n",
      "4104/4104 [==============================] - 48s 12ms/step - loss: 0.0078 - crf_viterbi_accuracy: 0.9960 - val_loss: 0.0171 - val_crf_viterbi_accuracy: 0.9928\n",
      "Epoch 10/20\n",
      "4104/4104 [==============================] - 48s 12ms/step - loss: 0.0058 - crf_viterbi_accuracy: 0.9965 - val_loss: 0.0167 - val_crf_viterbi_accuracy: 0.9927\n",
      "Epoch 11/20\n",
      "4104/4104 [==============================] - 48s 12ms/step - loss: 0.0041 - crf_viterbi_accuracy: 0.9969 - val_loss: 0.0165 - val_crf_viterbi_accuracy: 0.9919\n",
      "Epoch 12/20\n",
      "4104/4104 [==============================] - 49s 12ms/step - loss: 0.0027 - crf_viterbi_accuracy: 0.9971 - val_loss: 0.0165 - val_crf_viterbi_accuracy: 0.9932\n",
      "Epoch 13/20\n",
      "4104/4104 [==============================] - 48s 12ms/step - loss: 0.0012 - crf_viterbi_accuracy: 0.9975 - val_loss: 0.0129 - val_crf_viterbi_accuracy: 0.9938\n",
      "Epoch 14/20\n",
      "4104/4104 [==============================] - 48s 12ms/step - loss: 4.0189e-05 - crf_viterbi_accuracy: 0.9978 - val_loss: 0.0122 - val_crf_viterbi_accuracy: 0.9940\n",
      "Epoch 15/20\n",
      "4104/4104 [==============================] - 47s 12ms/step - loss: -0.0013 - crf_viterbi_accuracy: 0.9981 - val_loss: 0.0136 - val_crf_viterbi_accuracy: 0.9940\n",
      "Epoch 16/20\n",
      "4104/4104 [==============================] - 48s 12ms/step - loss: -0.0024 - crf_viterbi_accuracy: 0.9983 - val_loss: 0.0123 - val_crf_viterbi_accuracy: 0.9939\n",
      "Epoch 17/20\n",
      "4104/4104 [==============================] - 50s 12ms/step - loss: -0.0036 - crf_viterbi_accuracy: 0.9986 - val_loss: 0.0130 - val_crf_viterbi_accuracy: 0.9939\n",
      "Epoch 18/20\n",
      "4104/4104 [==============================] - 48s 12ms/step - loss: -0.0044 - crf_viterbi_accuracy: 0.9987 - val_loss: 0.0122 - val_crf_viterbi_accuracy: 0.9938\n",
      "Epoch 19/20\n",
      "4104/4104 [==============================] - 47s 12ms/step - loss: -0.0054 - crf_viterbi_accuracy: 0.9989 - val_loss: 0.0148 - val_crf_viterbi_accuracy: 0.9913\n",
      "Epoch 20/20\n",
      "4104/4104 [==============================] - 48s 12ms/step - loss: -0.0061 - crf_viterbi_accuracy: 0.9990 - val_loss: 0.0114 - val_crf_viterbi_accuracy: 0.9936\n"
     ]
    }
   ],
   "source": [
    "history = model.fit(X, np.array(y), batch_size=batch_size, epochs=epochs,\n",
    "                    validation_split=0.1)"
   ]
  },
  {
   "cell_type": "code",
   "execution_count": 177,
   "metadata": {
    "colab": {
     "base_uri": "https://localhost:8080/",
     "height": 517
    },
    "colab_type": "code",
    "executionInfo": {
     "elapsed": 973969,
     "status": "ok",
     "timestamp": 1573429372089,
     "user": {
      "displayName": "Anant Bhavsar",
      "photoUrl": "",
      "userId": "10842212189610618468"
     },
     "user_tz": -330
    },
    "id": "dkLaf6s6WEZg",
    "outputId": "ef258f8b-62d8-4c6f-bca7-a1e928484ac9"
   },
   "outputs": [
    {
     "data": {
      "text/plain": [
       "<matplotlib.legend.Legend at 0x7fc97f193320>"
      ]
     },
     "execution_count": 177,
     "metadata": {
      "tags": []
     },
     "output_type": "execute_result"
    },
    {
     "data": {
      "image/png": "[encoded data removed]",
      "text/plain": [
       "<Figure size 576x576 with 1 Axes>"
      ]
     },
     "metadata": {
      "tags": []
     },
     "output_type": "display_data"
    }
   ],
   "source": [
    "acc = history.history['crf_viterbi_accuracy']\n",
    "val_acc = history.history['val_crf_viterbi_accuracy']\n",
    "loss = history.history['loss']\n",
    "val_loss = history.history['val_loss']\n",
    "plt.figure(figsize = (8, 8))\n",
    "epochs = range(1, len(acc) + 1)\n",
    "plt.plot(epochs, acc, 'bo', label='Training acc')\n",
    "plt.plot(epochs, val_acc, 'b', label='Validation acc')\n",
    "plt.title('Training and validation accuracy')\n",
    "plt.legend()"
   ]
  },
  {
   "cell_type": "code",
   "execution_count": 178,
   "metadata": {
    "colab": {
     "base_uri": "https://localhost:8080/",
     "height": 499
    },
    "colab_type": "code",
    "executionInfo": {
     "elapsed": 972491,
     "status": "ok",
     "timestamp": 1573429372091,
     "user": {
      "displayName": "Anant Bhavsar",
      "photoUrl": "",
      "userId": "10842212189610618468"
     },
     "user_tz": -330
    },
    "id": "Kk9iwtYOWEZp",
    "outputId": "c8f02bd8-01b5-4e9c-bb38-8e8c07d8614e"
   },
   "outputs": [
    {
     "data": {
      "image/png": "[encoded data removed]",
      "text/plain": [
       "<Figure size 576x576 with 1 Axes>"
      ]
     },
     "metadata": {
      "tags": []
     },
     "output_type": "display_data"
    }
   ],
   "source": [
    "plt.figure(figsize = (8, 8))\n",
    "plt.plot(epochs, loss, 'bo', label='Training loss')\n",
    "plt.plot(epochs, val_loss, 'b', label='Validation loss')\n",
    "plt.title('Training and validation loss')\n",
    "plt.legend()\n",
    "plt.show()"
   ]
  },
  {
   "cell_type": "code",
   "execution_count": null,
   "metadata": {
    "colab": {
     "base_uri": "https://localhost:8080/",
     "height": 1000
    },
    "colab_type": "code",
    "executionInfo": {
     "elapsed": 974630,
     "status": "ok",
     "timestamp": 1573429377985,
     "user": {
      "displayName": "Anant Bhavsar",
      "photoUrl": "",
      "userId": "10842212189610618468"
     },
     "user_tz": -330
    },
    "id": "DJC3kudgWEab",
    "outputId": "a8f9e6d0-5a9a-46fc-f11e-b0319ffb8421"
   },
   "outputs": [],
   "source": [
    "tsvfile=open(\"BC5CDR-IOB/test.tsv\",encoding=\"utf-8\")\n",
    "tsvreader = csv.reader(tsvfile, delimiter=\"\\t\")\n",
    "data1=[]\n",
    "sentences1=[]\n",
    "words1=[]\n",
    "tags1=[]\n",
    "for line in tsvreader:\n",
    "    if line!=[]:\n",
    "        data1.append(line)\n",
    "        if line[0] not in words1:\n",
    "            words1.append(line[0])\n",
    "        if line[1] not in tags1:\n",
    "            tags1.append(line[1])\n",
    "    else:\n",
    "        sentences1.append(data1)\n",
    "        data1=[]\n",
    "\n",
    "X1 = [[word_to_index[w[0] if w[0] in words else \"UNK\"] for w in s] for s in sentences1]\n",
    "print(X1[0],X1[1])\n",
    "count=0\n",
    "for s in sentences1:\n",
    "    print(s)\n",
    "    count=count+1\n",
    "    if count>5:\n",
    "        break\n",
    "# Padding each sequence to have same length  of each word\n",
    "X1 = pad_sequences(maxlen = max_len, sequences = X1, padding = \"post\", value = word_to_index[\"PAD\"])\n",
    "y1 = [[tag_to_index[w[1]] for w in s] for s in sentences1]\n",
    "\n",
    "# padding\n",
    "y1 = pad_sequences(maxlen = max_len, sequences = y1, padding = \"post\", value = tag_to_index[\"PAD\"])\n",
    "num_tag = 5\n",
    "\n",
    "# One hot encoded labels\n",
    "y1=[to_categorical(i, num_classes = num_tag + 1) for i in y1]\n"
   ]
  },
  {
   "cell_type": "code",
   "execution_count": 0,
   "metadata": {
    "colab": {},
    "colab_type": "code",
    "id": "6bP3D6U-WEai"
   },
   "outputs": [],
   "source": [
    "y_pred = model.predict(X1)\n",
    "y_pred = np.argmax(y_pred, axis=-1)\n",
    "y_test_true = np.argmax(y1, -1)"
   ]
  },
  {
   "cell_type": "code",
   "execution_count": 0,
   "metadata": {
    "colab": {},
    "colab_type": "code",
    "id": "XL6NHCHhWEao"
   },
   "outputs": [],
   "source": [
    "y_pred = [[idx2tag[i] for i in row] for row in y_pred]\n",
    "y_test_true = [[idx2tag[i] for i in row] for row in y_test_true] "
   ]
  },
  {
   "cell_type": "code",
   "execution_count": 186,
   "metadata": {
    "colab": {
     "base_uri": "https://localhost:8080/",
     "height": 35
    },
    "colab_type": "code",
    "executionInfo": {
     "elapsed": 989562,
     "status": "ok",
     "timestamp": 1573429395413,
     "user": {
      "displayName": "Anant Bhavsar",
      "photoUrl": "",
      "userId": "10842212189610618468"
     },
     "user_tz": -330
    },
    "id": "tl7TODDqWEat",
    "outputId": "7e3fbe65-8996-45c0-e910-a5928361fe3d"
   },
   "outputs": [
    {
     "name": "stdout",
     "output_type": "stream",
     "text": [
      "F1-score is : 80.7%\n"
     ]
    }
   ],
   "source": [
    "print(\"F1-score is : {:.1%}\".format(f1_score(y_test_true, y_pred)))"
   ]
  },
  {
   "cell_type": "code",
   "execution_count": 187,
   "metadata": {
    "colab": {
     "base_uri": "https://localhost:8080/",
     "height": 253
    },
    "colab_type": "code",
    "executionInfo": {
     "elapsed": 998721,
     "status": "ok",
     "timestamp": 1573429405324,
     "user": {
      "displayName": "Anant Bhavsar",
      "photoUrl": "",
      "userId": "10842212189610618468"
     },
     "user_tz": -330
    },
    "id": "WbD8wY4FWEax",
    "outputId": "560b8adf-6a2e-42be-be0f-0055135f3302"
   },
   "outputs": [
    {
     "name": "stdout",
     "output_type": "stream",
     "text": [
      "              precision    recall  f1-score   support\n",
      "\n",
      "  B-Chemical       0.71      0.82      0.76      5385\n",
      "   B-Disease       0.77      0.73      0.75      4424\n",
      "  I-Chemical       0.78      0.64      0.71      1628\n",
      "   I-Disease       0.73      0.67      0.70      2737\n",
      "           O       0.98      0.97      0.98    110576\n",
      "         PAD       1.00      1.00      1.00    685943\n",
      "\n",
      "    accuracy                           0.99    810693\n",
      "   macro avg       0.83      0.81      0.81    810693\n",
      "weighted avg       0.99      0.99      0.99    810693\n",
      "\n"
     ]
    }
   ],
   "source": [
    "report = flat_classification_report(y_pred=y_pred, y_true=y_test_true)\n",
    "print(report)"
   ]
  },
  {
   "cell_type": "code",
   "execution_count": 190,
   "metadata": {
    "colab": {
     "base_uri": "https://localhost:8080/",
     "height": 35
    },
    "colab_type": "code",
    "executionInfo": {
     "elapsed": 995875,
     "status": "ok",
     "timestamp": 1573429405329,
     "user": {
      "displayName": "Anant Bhavsar",
      "photoUrl": "",
      "userId": "10842212189610618468"
     },
     "user_tz": -330
    },
    "id": "HLg9sAMCWEbA",
    "outputId": "a3889673-124c-4fe0-85bf-8dc9e6d5e996"
   },
   "outputs": [
    {
     "data": {
      "text/plain": [
       "False"
      ]
     },
     "execution_count": 190,
     "metadata": {
      "tags": []
     },
     "output_type": "execute_result"
    }
   ],
   "source": [
    "y_pred[0][1:16]==y_test_true[0][1:16]"
   ]
  },
  {
   "cell_type": "code",
   "execution_count": 191,
   "metadata": {
    "colab": {
     "base_uri": "https://localhost:8080/",
     "height": 90
    },
    "colab_type": "code",
    "executionInfo": {
     "elapsed": 995739,
     "status": "ok",
     "timestamp": 1573429405824,
     "user": {
      "displayName": "Anant Bhavsar",
      "photoUrl": "",
      "userId": "10842212189610618468"
     },
     "user_tz": -330
    },
    "id": "Z77JBZ2GWEbG",
    "outputId": "ddf7e647-4f55-4ef8-f74d-8ab3e523112f"
   },
   "outputs": [
    {
     "name": "stdout",
     "output_type": "stream",
     "text": [
      "0.7248004729530003\n",
      "0.7499235396064838\n",
      "0.7371480108227277\n",
      "[[7356, 2793], [2453, 107783]]\n"
     ]
    }
   ],
   "source": [
    "##Exact Match\n",
    "TP=0\n",
    "TN=0\n",
    "FP=0\n",
    "FN=0\n",
    "i=0\n",
    "nument=0\n",
    "while i<len(y_test_true):\n",
    "    j=0\n",
    "    #print(i)\n",
    "    while j <len(y_test_true[i]):\n",
    "        #print('j ',j)\n",
    "        if y_test_true[i][j]=='B-Disease':\n",
    "            st=j\n",
    "            nument=nument+1\n",
    "            j=j+1\n",
    "            while (y_test_true[i][j]=='I-Disease') and j<len(y_test_true[i]):\n",
    "                j=j+1\n",
    "                #print('inside ',j)\n",
    "            end=j\n",
    "            if y_test_true[i][st:end]==y_pred[i][st:end]:\n",
    "                TP=TP+1\n",
    "            else:\n",
    "                FN=FN+1\n",
    "\n",
    "        elif y_test_true[i][j]=='B-Chemical':\n",
    "            st=j\n",
    "            nument=nument+1\n",
    "            j=j+1\n",
    "            while (y_test_true[i][j]=='I-Chemical') and j<len(y_test_true[i]):\n",
    "                j=j+1\n",
    "                #print('inside ',j)\n",
    "            end=j\n",
    "            if y_test_true[i][st:end]==y_pred[i][st:end]:\n",
    "                TP=TP+1\n",
    "            else:\n",
    "                FN=FN+1\n",
    "        elif y_test_true[i][j]=='O' and y_pred[i][j]=='O':\n",
    "            TN=TN+1\n",
    "            j=j+1\n",
    "            \n",
    "        elif y_test_true[i][j]=='O' and y_pred[i][j]!='O':\n",
    "            FP=FP+1\n",
    "            j=j+1\n",
    "            \n",
    "        elif y_test_true[i][j]=='PAD':\n",
    "            j=j+1\n",
    "\n",
    "    i=i+1\n",
    "\n",
    "Precision=TP/(TP+FP)\n",
    "print(Precision)\n",
    "Recall=TP/(TP+FN)\n",
    "print(Recall)\n",
    "F1=(2*Precision*Recall)/(Precision+Recall)\n",
    "print(F1)\n",
    "mat=[[TP,FP],[FN,TN]]\n",
    "print(mat)"
   ]
  },
  {
   "cell_type": "code",
   "execution_count": 192,
   "metadata": {
    "colab": {
     "base_uri": "https://localhost:8080/",
     "height": 90
    },
    "colab_type": "code",
    "executionInfo": {
     "elapsed": 995047,
     "status": "ok",
     "timestamp": 1573429405825,
     "user": {
      "displayName": "Anant Bhavsar",
      "photoUrl": "",
      "userId": "10842212189610618468"
     },
     "user_tz": -330
    },
    "id": "bitGGorQWEbR",
    "outputId": "5871d64f-0eb0-4453-9252-b8b2a449e73b"
   },
   "outputs": [
    {
     "name": "stdout",
     "output_type": "stream",
     "text": [
      "0.7368321869405446\n",
      "0.7972270363951474\n",
      "0.765840759964744\n",
      "[[7820, 2793], [1989, 107783]]\n"
     ]
    }
   ],
   "source": [
    "##Partial Match\n",
    "TP=0\n",
    "TN=0\n",
    "FP=0\n",
    "FN=0\n",
    "i=0\n",
    "nument=0\n",
    "while i<len(y_test_true):\n",
    "    j=0\n",
    "    #print(i)\n",
    "    while j <len(y_test_true[i]):\n",
    "        #print('j ',j)\n",
    "        if y_test_true[i][j]=='B-Disease':\n",
    "            st=j\n",
    "            nument=nument+1\n",
    "            j=j+1\n",
    "            while (y_test_true[i][j]=='I-Disease') and j<len(y_test_true[i]):\n",
    "                j=j+1\n",
    "                #print('inside ',j)\n",
    "            end=j\n",
    "            found=0\n",
    "            for k in range(st,end):\n",
    "                if y_test_true[i][k]==y_pred[i][k]:\n",
    "                    found=1\n",
    "                    break\n",
    "            if found==1:\n",
    "                TP=TP+1\n",
    "            else:\n",
    "                FN=FN+1\n",
    "            '''if y_test_true[i][st:end]==y_pred[i][st:end]:\n",
    "                TP=TP+1'''\n",
    "        elif y_test_true[i][j]=='B-Chemical':\n",
    "            st=j\n",
    "            nument=nument+1\n",
    "            j=j+1\n",
    "            while (y_test_true[i][j]=='I-Chemical') and j<len(y_test_true[i]):\n",
    "                j=j+1\n",
    "                #print('inside ',j)\n",
    "            end=j\n",
    "            found=0\n",
    "            for k in range(st,end):\n",
    "                if y_test_true[i][k]==y_pred[i][k]:\n",
    "                    found=1\n",
    "                    break\n",
    "            if found==1:\n",
    "                TP=TP+1\n",
    "            else:\n",
    "                FN=FN+1\n",
    "        elif y_test_true[i][j]=='O' and y_pred[i][j]=='O':\n",
    "            TN=TN+1\n",
    "            j=j+1\n",
    "            \n",
    "        elif y_test_true[i][j]=='O' and y_pred[i][j]!='O':\n",
    "            FP=FP+1\n",
    "            j=j+1\n",
    "            \n",
    "        elif y_test_true[i][j]=='PAD':\n",
    "            j=j+1\n",
    "        \n",
    "        \n",
    "    i=i+1\n",
    "    \n",
    "Precision=TP/(TP+FP)\n",
    "print(Precision)\n",
    "Recall=TP/(TP+FN)\n",
    "print(Recall)\n",
    "F1=(2*Precision*Recall)/(Precision+Recall)\n",
    "print(F1)\n",
    "mat=[[TP,FP],[FN,TN]]\n",
    "print(mat)"
   ]
  },
  {
   "cell_type": "code",
   "execution_count": 160,
   "metadata": {
    "colab": {
     "base_uri": "https://localhost:8080/",
     "height": 35
    },
    "colab_type": "code",
    "executionInfo": {
     "elapsed": 3842101,
     "status": "ok",
     "timestamp": 1573428224701,
     "user": {
      "displayName": "Anant Bhavsar",
      "photoUrl": "",
      "userId": "10842212189610618468"
     },
     "user_tz": -330
    },
    "id": "19LiXLCYWEbl",
    "outputId": "87108086-67eb-459a-c465-87b2b917163f"
   },
   "outputs": [
    {
     "data": {
      "text/plain": [
       "4797"
      ]
     },
     "execution_count": 160,
     "metadata": {
      "tags": []
     },
     "output_type": "execute_result"
    }
   ],
   "source": [
    "len(y_test_true)"
   ]
  },
  {
   "cell_type": "code",
   "execution_count": 0,
   "metadata": {
    "colab": {},
    "colab_type": "code",
    "id": "_-baBrG2WEbs"
   },
   "outputs": [],
   "source": []
  },
  {
   "cell_type": "code",
   "execution_count": 0,
   "metadata": {
    "colab": {},
    "colab_type": "code",
    "id": "IbEyOG0ZWEbz"
   },
   "outputs": [],
   "source": []
  }
 ],
 "metadata": {
  "colab": {
   "collapsed_sections": [],
   "name": "PubMed-w2v BC5CDR chem+disease.ipynb",
   "provenance": []
  },
  "kernelspec": {
   "display_name": "Python 3",
   "language": "python",
   "name": "python3"
  },
  "language_info": {
   "codemirror_mode": {
    "name": "ipython",
    "version": 3
   },
   "file_extension": ".py",
   "mimetype": "text/x-python",
   "name": "python",
   "nbconvert_exporter": "python",
   "pygments_lexer": "ipython3",
   "version": "3.7.0"
  }
 },
 "nbformat": 4,
 "nbformat_minor": 1
}
