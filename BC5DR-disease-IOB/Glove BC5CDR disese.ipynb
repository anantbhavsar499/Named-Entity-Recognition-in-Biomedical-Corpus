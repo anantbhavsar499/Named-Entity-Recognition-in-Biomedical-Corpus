{
 "cells": [
  {
   "cell_type": "code",
   "execution_count": 1,
   "metadata": {
    "colab": {
     "base_uri": "https://localhost:8080/",
     "height": 194
    },
    "colab_type": "code",
    "executionInfo": {
     "elapsed": 37194,
     "status": "ok",
     "timestamp": 1573340465284,
     "user": {
      "displayName": "Anant Bhavsar",
      "photoUrl": "",
      "userId": "10842212189610618468"
     },
     "user_tz": -330
    },
    "id": "ARlAq1RUWNfn",
    "outputId": "5603c3f8-f074-459e-85c9-b4a5161fae8d"
   },
   "outputs": [
    {
     "name": "stderr",
     "output_type": "stream",
     "text": [
      "Using TensorFlow backend.\n"
     ]
    }
   ],
   "source": [
    "import pandas as pd\n",
    "import numpy as np\n",
    "import keras_contrib\n",
    "from keras.preprocessing.sequence import pad_sequences\n",
    "from keras.utils import to_categorical\n",
    "from keras.layers import LSTM, Dense, TimeDistributed, Embedding, Bidirectional\n",
    "from keras.models import Model, Input\n",
    "from keras_contrib.layers import CRF\n",
    "from keras.callbacks import ModelCheckpoint\n",
    "from keras.initializers import Constant\n",
    "import csv\n",
    "import codecs\n",
    "import warnings\n",
    "warnings.filterwarnings(\"ignore\")\n",
    "import random\n",
    "random.seed(10)\n",
    "from sklearn.model_selection import train_test_split\n",
    "import matplotlib.pyplot as plt\n",
    "%matplotlib inline\n",
    "import os\n",
    "\n",
    "from sklearn_crfsuite.metrics import flat_classification_report\n",
    "from sklearn.metrics import f1_score\n",
    "from seqeval.metrics import precision_score, recall_score, f1_score, classification_report\n",
    "from sklearn.metrics import confusion_matrix\n",
    "from sklearn.utils.multiclass import unique_labels\n",
    "from keras.preprocessing.text import text_to_word_sequence\n",
    "from gensim.models.keyedvectors import KeyedVectors"
   ]
  },
  {
   "cell_type": "code",
   "execution_count": 3,
   "metadata": {
    "colab": {},
    "colab_type": "code",
    "id": "G3-6XQZvWEUU"
   },
   "outputs": [],
   "source": [
    "tsvfile=open(\"BC5DR-disease-IOB/train.tsv\",encoding=\"utf-8\")\n",
    "tsvreader = csv.reader(tsvfile, delimiter=\"\\t\")\n",
    "data=[]\n",
    "sentences=[]\n",
    "words=[]\n",
    "tags=[]\n",
    "maxsentlen=0\n",
    "for line in tsvreader:\n",
    "    if line!=[]:\n",
    "        data.append(line)\n",
    "        if line[0] not in words:\n",
    "            words.append(line[0])\n",
    "        if line[1] not in tags:\n",
    "            tags.append(line[1])\n",
    "    else:\n",
    "        sentences.append(data)\n",
    "        if len(data)>maxsentlen:\n",
    "            maxsentlen=len(data)\n",
    "        data=[]"
   ]
  },
  {
   "cell_type": "code",
   "execution_count": 4,
   "metadata": {
    "colab": {
     "base_uri": "https://localhost:8080/",
     "height": 53
    },
    "colab_type": "code",
    "executionInfo": {
     "elapsed": 38903,
     "status": "ok",
     "timestamp": 1573340468422,
     "user": {
      "displayName": "Anant Bhavsar",
      "photoUrl": "",
      "userId": "10842212189610618468"
     },
     "user_tz": -330
    },
    "id": "u1IVTV7nWEU3",
    "outputId": "85a0071b-089f-4a29-b1e9-72d9669ae701"
   },
   "outputs": [
    {
     "name": "stdout",
     "output_type": "stream",
     "text": [
      "4560\n",
      "9980\n"
     ]
    }
   ],
   "source": [
    "print(len(sentences))\n",
    "print(len(words))"
   ]
  },
  {
   "cell_type": "code",
   "execution_count": 5,
   "metadata": {
    "colab": {
     "base_uri": "https://localhost:8080/",
     "height": 90
    },
    "colab_type": "code",
    "executionInfo": {
     "elapsed": 38186,
     "status": "ok",
     "timestamp": 1573340468424,
     "user": {
      "displayName": "Anant Bhavsar",
      "photoUrl": "",
      "userId": "10842212189610618468"
     },
     "user_tz": -330
    },
    "id": "a9p87RdNWEVf",
    "outputId": "d4747e4d-210c-471f-d23c-c53e33b33bd1"
   },
   "outputs": [
    {
     "name": "stdout",
     "output_type": "stream",
     "text": [
      "2\n",
      "1\n",
      "Selegiline\n",
      "4\n"
     ]
    }
   ],
   "source": [
    "word_to_index = {w : i + 2 for i, w in enumerate(words)}\n",
    "print(word_to_index[words[0]])\n",
    "word_to_index[\"UNK\"] = 1\n",
    "word_to_index[\"PAD\"] = 0\n",
    "\n",
    "# Dictionary lable:index pair\n",
    "# label is key and value is index.\n",
    "tag_to_index = {t : i + 1 for i, t in enumerate(tags)}\n",
    "print(tag_to_index[tags[0]])\n",
    "\n",
    "tag_to_index[\"PAD\"] = 0\n",
    "\n",
    "idx2word = {i: w for w, i in word_to_index.items()}\n",
    "print(idx2word[2])\n",
    "idx2tag = {i: w for w, i in tag_to_index.items()}\n",
    "print(len(tag_to_index))"
   ]
  },
  {
   "cell_type": "code",
   "execution_count": 6,
   "metadata": {
    "colab": {},
    "colab_type": "code",
    "id": "MgkRWpqnWEWP"
   },
   "outputs": [],
   "source": [
    "# Number of data points passed in each iteration\n",
    "batch_size =50\n",
    "# Passes through entire dataset\n",
    "epochs = 50\n",
    "# Maximum length of review\n",
    "max_len = maxsentlen+15\n",
    "# Dimension of embedding vector\n",
    "embedding_dim= 300"
   ]
  },
  {
   "cell_type": "code",
   "execution_count": 7,
   "metadata": {
    "colab": {
     "base_uri": "https://localhost:8080/",
     "height": 164
    },
    "colab_type": "code",
    "executionInfo": {
     "elapsed": 6684,
     "status": "ok",
     "timestamp": 1573348185685,
     "user": {
      "displayName": "Anant Bhavsar",
      "photoUrl": "",
      "userId": "10842212189610618468"
     },
     "user_tz": -330
    },
    "id": "_EuoNKazWEWr",
    "outputId": "3b4a2a21-9793-4b13-91cd-3b54b3ea64af"
   },
   "outputs": [
    {
     "name": "stdout",
     "output_type": "stream",
     "text": [
      "[2, 3, 4, 5, 6, 7, 8, 9, 10, 11, 12, 13, 14, 15, 16, 17, 18, 19, 20, 21, 22] [23, 12, 24, 25, 26, 8, 9, 10, 27, 28, 29, 30, 31, 32, 33, 34, 35, 36, 37, 7, 38, 39, 8, 9, 10, 11, 30, 40, 32, 41, 42, 43, 44, 45, 46, 47, 48, 49, 50, 3, 51, 52, 39, 53, 54, 50, 3, 51, 55, 22]\n",
      "[['Selegiline', 'O'], ['-', 'O'], ['induced', 'O'], ['postural', 'B-Disease'], ['hypotension', 'I-Disease'], ['in', 'O'], ['Parkinson', 'B-Disease'], [\"'\", 'I-Disease'], ['s', 'I-Disease'], ['disease', 'I-Disease'], [':', 'O'], ['a', 'O'], ['longitudinal', 'O'], ['study', 'O'], ['on', 'O'], ['the', 'O'], ['effects', 'O'], ['of', 'O'], ['drug', 'O'], ['withdrawal', 'O'], ['.', 'O']]\n",
      "[['OBJECTIVES', 'O'], [':', 'O'], ['The', 'O'], ['United', 'O'], ['Kingdom', 'O'], ['Parkinson', 'B-Disease'], [\"'\", 'I-Disease'], ['s', 'I-Disease'], ['Disease', 'I-Disease'], ['Research', 'O'], ['Group', 'O'], ['(', 'O'], ['UKPDRG', 'O'], [')', 'O'], ['trial', 'O'], ['found', 'O'], ['an', 'O'], ['increased', 'O'], ['mortality', 'O'], ['in', 'O'], ['patients', 'O'], ['with', 'O'], ['Parkinson', 'B-Disease'], [\"'\", 'I-Disease'], ['s', 'I-Disease'], ['disease', 'I-Disease'], ['(', 'O'], ['PD', 'B-Disease'], [')', 'O'], ['randomized', 'O'], ['to', 'O'], ['receive', 'O'], ['10', 'O'], ['mg', 'O'], ['selegiline', 'O'], ['per', 'O'], ['day', 'O'], ['and', 'O'], ['L', 'O'], ['-', 'O'], ['dopa', 'O'], ['compared', 'O'], ['with', 'O'], ['those', 'O'], ['taking', 'O'], ['L', 'O'], ['-', 'O'], ['dopa', 'O'], ['alone', 'O'], ['.', 'O']]\n",
      "[['Recently', 'O'], [',', 'O'], ['we', 'O'], ['found', 'O'], ['that', 'O'], ['therapy', 'O'], ['with', 'O'], ['selegiline', 'O'], ['and', 'O'], ['L', 'O'], ['-', 'O'], ['dopa', 'O'], ['was', 'O'], ['associated', 'O'], ['with', 'O'], ['selective', 'O'], ['systolic', 'B-Disease'], ['orthostatic', 'I-Disease'], ['hypotension', 'I-Disease'], ['which', 'O'], ['was', 'O'], ['abolished', 'O'], ['by', 'O'], ['withdrawal', 'O'], ['of', 'O'], ['selegiline', 'O'], ['.', 'O']]\n",
      "[['This', 'O'], ['unwanted', 'O'], ['effect', 'O'], ['on', 'O'], ['postural', 'O'], ['blood', 'O'], ['pressure', 'O'], ['was', 'O'], ['not', 'O'], ['the', 'O'], ['result', 'O'], ['of', 'O'], ['underlying', 'O'], ['autonomic', 'O'], ['failure', 'O'], ['.', 'O']]\n",
      "[['The', 'O'], ['aims', 'O'], ['of', 'O'], ['this', 'O'], ['study', 'O'], ['were', 'O'], ['to', 'O'], ['confirm', 'O'], ['our', 'O'], ['previous', 'O'], ['findings', 'O'], ['in', 'O'], ['a', 'O'], ['separate', 'O'], ['cohort', 'O'], ['of', 'O'], ['patients', 'O'], ['and', 'O'], ['to', 'O'], ['determine', 'O'], ['the', 'O'], ['time', 'O'], ['course', 'O'], ['of', 'O'], ['the', 'O'], ['cardiovascular', 'O'], ['consequences', 'O'], ['of', 'O'], ['stopping', 'O'], ['selegiline', 'O'], ['in', 'O'], ['the', 'O'], ['expectation', 'O'], ['that', 'O'], ['this', 'O'], ['might', 'O'], ['shed', 'O'], ['light', 'O'], ['on', 'O'], ['the', 'O'], ['mechanisms', 'O'], ['by', 'O'], ['which', 'O'], ['the', 'O'], ['drug', 'O'], ['causes', 'O'], ['orthostatic', 'B-Disease'], ['hypotension', 'I-Disease'], ['.', 'O']]\n",
      "[['METHODS', 'O'], [':', 'O'], ['The', 'O'], ['cardiovascular', 'O'], ['responses', 'O'], ['to', 'O'], ['standing', 'O'], ['and', 'O'], ['head', 'O'], ['-', 'O'], ['up', 'O'], ['tilt', 'O'], ['were', 'O'], ['studied', 'O'], ['repeatedly', 'O'], ['in', 'O'], ['PD', 'B-Disease'], ['patients', 'O'], ['receiving', 'O'], ['selegiline', 'O'], ['and', 'O'], ['as', 'O'], ['the', 'O'], ['drug', 'O'], ['was', 'O'], ['withdrawn', 'O'], ['.', 'O']]\n"
     ]
    }
   ],
   "source": [
    "X = [[word_to_index[w[0]] for w in s] for s in sentences]\n",
    "print(X[0],X[1])\n",
    "count=0\n",
    "for s in sentences:\n",
    "    print(s)\n",
    "    count=count+1\n",
    "    if count>5:\n",
    "        break\n",
    "# Padding each sequence to have same length  of each word\n",
    "X = pad_sequences(maxlen = max_len, sequences = X, padding = \"post\", value = word_to_index[\"PAD\"])"
   ]
  },
  {
   "cell_type": "code",
   "execution_count": 8,
   "metadata": {
    "colab": {
     "base_uri": "https://localhost:8080/",
     "height": 181
    },
    "colab_type": "code",
    "executionInfo": {
     "elapsed": 6158,
     "status": "ok",
     "timestamp": 1573348185688,
     "user": {
      "displayName": "Anant Bhavsar",
      "photoUrl": "",
      "userId": "10842212189610618468"
     },
     "user_tz": -330
    },
    "id": "z7cjgZ5OWEXB",
    "outputId": "d50fe398-48ec-4d47-b8a4-82cdf5dc7e13"
   },
   "outputs": [
    {
     "name": "stdout",
     "output_type": "stream",
     "text": [
      "[ 2  3  4  5  6  7  8  9 10 11 12 13 14 15 16 17 18 19 20 21 22  0  0  0\n",
      "  0  0  0  0  0  0  0  0  0  0  0  0  0  0  0  0  0  0  0  0  0  0  0  0\n",
      "  0  0  0  0  0  0  0  0  0  0  0  0  0  0  0  0  0  0  0  0  0  0  0  0\n",
      "  0  0  0  0  0  0  0  0  0  0  0  0  0  0  0  0  0  0  0  0  0  0  0  0\n",
      "  0  0  0  0  0  0  0  0  0  0  0  0  0  0  0  0  0  0  0  0  0  0  0  0\n",
      "  0  0  0  0  0  0  0  0  0  0  0  0  0  0  0  0  0  0  0  0  0  0  0  0\n",
      "  0  0  0  0  0  0  0  0  0  0  0  0  0  0  0  0  0  0  0  0  0  0  0  0\n",
      "  0]\n"
     ]
    },
    {
     "data": {
      "text/plain": [
       "169"
      ]
     },
     "execution_count": 8,
     "metadata": {},
     "output_type": "execute_result"
    }
   ],
   "source": [
    "print(X[0])\n",
    "len(X[0])"
   ]
  },
  {
   "cell_type": "code",
   "execution_count": 9,
   "metadata": {
    "colab": {
     "base_uri": "https://localhost:8080/",
     "height": 35
    },
    "colab_type": "code",
    "executionInfo": {
     "elapsed": 5878,
     "status": "ok",
     "timestamp": 1573348185690,
     "user": {
      "displayName": "Anant Bhavsar",
      "photoUrl": "",
      "userId": "10842212189610618468"
     },
     "user_tz": -330
    },
    "id": "9mBsa7QDWEXU",
    "outputId": "16359158-4127-48c4-f624-6bae2dcc1bb5"
   },
   "outputs": [
    {
     "name": "stdout",
     "output_type": "stream",
     "text": [
      "[1, 1, 1, 2, 3, 1, 2, 3, 3, 3, 1, 1, 1, 1, 1, 1, 1, 1, 1, 1, 1]\n"
     ]
    }
   ],
   "source": [
    "# Convert label to index\n",
    "y = [[tag_to_index[w[1]] for w in s] for s in sentences]\n",
    "print(y[0])\n",
    "# padding\n",
    "y = pad_sequences(maxlen = max_len, sequences = y, padding = \"post\", value = tag_to_index[\"PAD\"])"
   ]
  },
  {
   "cell_type": "code",
   "execution_count": 10,
   "metadata": {
    "colab": {
     "base_uri": "https://localhost:8080/",
     "height": 72
    },
    "colab_type": "code",
    "executionInfo": {
     "elapsed": 17614,
     "status": "ok",
     "timestamp": 1573348197702,
     "user": {
      "displayName": "Anant Bhavsar",
      "photoUrl": "",
      "userId": "10842212189610618468"
     },
     "user_tz": -330
    },
    "id": "X2fyCjskWEXk",
    "outputId": "27dcffc2-1489-4522-ba14-eab08c58965a"
   },
   "outputs": [
    {
     "name": "stdout",
     "output_type": "stream",
     "text": [
      "3\n",
      "[0. 1. 0. 0.] [0. 1. 0. 0.]\n",
      "4\n"
     ]
    }
   ],
   "source": [
    "num_tag = 3\n",
    "print(num_tag)\n",
    "# One hot encoded labels\n",
    "y = [to_categorical(i, num_classes = num_tag + 1) for i in y]\n",
    "print(y[0][1],y[0][18])\n",
    "print(len(y[0][1]))"
   ]
  },
  {
   "cell_type": "code",
   "execution_count": 11,
   "metadata": {
    "colab": {
     "base_uri": "https://localhost:8080/",
     "height": 235
    },
    "colab_type": "code",
    "executionInfo": {
     "elapsed": 16973,
     "status": "ok",
     "timestamp": 1573348197709,
     "user": {
      "displayName": "Anant Bhavsar",
      "photoUrl": "",
      "userId": "10842212189610618468"
     },
     "user_tz": -330
    },
    "id": "WssrPkOGWEYX",
    "outputId": "73bd2cb6-5187-4881-bace-01839a41cc1c"
   },
   "outputs": [
    {
     "name": "stdout",
     "output_type": "stream",
     "text": [
      "*****Before Processing first sentence : *****\n",
      " Selegiline - induced postural hypotension in Parkinson ' s disease : a longitudinal study on the effects of drug withdrawal .\n",
      "*****After Processing first sentence : *****\n",
      "  [ 2  3  4  5  6  7  8  9 10 11 12 13 14 15 16 17 18 19 20 21 22  0  0  0\n",
      "  0  0  0  0  0  0  0  0  0  0  0  0  0  0  0  0  0  0  0  0  0  0  0  0\n",
      "  0  0  0  0  0  0  0  0  0  0  0  0  0  0  0  0  0  0  0  0  0  0  0  0\n",
      "  0  0  0  0  0  0  0  0  0  0  0  0  0  0  0  0  0  0  0  0  0  0  0  0\n",
      "  0  0  0  0  0  0  0  0  0  0  0  0  0  0  0  0  0  0  0  0  0  0  0  0\n",
      "  0  0  0  0  0  0  0  0  0  0  0  0  0  0  0  0  0  0  0  0  0  0  0  0\n",
      "  0  0  0  0  0  0  0  0  0  0  0  0  0  0  0  0  0  0  0  0  0  0  0  0\n",
      "  0]\n"
     ]
    },
    {
     "data": {
      "text/plain": [
       "169"
      ]
     },
     "execution_count": 11,
     "metadata": {},
     "output_type": "execute_result"
    }
   ],
   "source": [
    "# Let's check the first sentence before and after processing.\n",
    "print('*****Before Processing first sentence : *****\\n', ' '.join([w[0] for w in sentences[0]]))\n",
    "print('*****After Processing first sentence : *****\\n ', X[0])\n",
    "len(X[0])"
   ]
  },
  {
   "cell_type": "code",
   "execution_count": 12,
   "metadata": {
    "colab": {
     "base_uri": "https://localhost:8080/",
     "height": 1000
    },
    "colab_type": "code",
    "executionInfo": {
     "elapsed": 16759,
     "status": "ok",
     "timestamp": 1573348197709,
     "user": {
      "displayName": "Anant Bhavsar",
      "photoUrl": "",
      "userId": "10842212189610618468"
     },
     "user_tz": -330
    },
    "id": "_sBzOCBPWEYf",
    "outputId": "f613f186-418e-4334-b212-af02383a47ba"
   },
   "outputs": [
    {
     "name": "stdout",
     "output_type": "stream",
     "text": [
      "*****Before Processing first sentence : *****\n",
      " O O O B-Disease I-Disease O B-Disease I-Disease I-Disease I-Disease O O O O O O O O O O O\n",
      "*****After Processing first sentence : *****\n",
      "  [[0. 1. 0. 0.]\n",
      " [0. 1. 0. 0.]\n",
      " [0. 1. 0. 0.]\n",
      " [0. 0. 1. 0.]\n",
      " [0. 0. 0. 1.]\n",
      " [0. 1. 0. 0.]\n",
      " [0. 0. 1. 0.]\n",
      " [0. 0. 0. 1.]\n",
      " [0. 0. 0. 1.]\n",
      " [0. 0. 0. 1.]\n",
      " [0. 1. 0. 0.]\n",
      " [0. 1. 0. 0.]\n",
      " [0. 1. 0. 0.]\n",
      " [0. 1. 0. 0.]\n",
      " [0. 1. 0. 0.]\n",
      " [0. 1. 0. 0.]\n",
      " [0. 1. 0. 0.]\n",
      " [0. 1. 0. 0.]\n",
      " [0. 1. 0. 0.]\n",
      " [0. 1. 0. 0.]\n",
      " [0. 1. 0. 0.]\n",
      " [1. 0. 0. 0.]\n",
      " [1. 0. 0. 0.]\n",
      " [1. 0. 0. 0.]\n",
      " [1. 0. 0. 0.]\n",
      " [1. 0. 0. 0.]\n",
      " [1. 0. 0. 0.]\n",
      " [1. 0. 0. 0.]\n",
      " [1. 0. 0. 0.]\n",
      " [1. 0. 0. 0.]\n",
      " [1. 0. 0. 0.]\n",
      " [1. 0. 0. 0.]\n",
      " [1. 0. 0. 0.]\n",
      " [1. 0. 0. 0.]\n",
      " [1. 0. 0. 0.]\n",
      " [1. 0. 0. 0.]\n",
      " [1. 0. 0. 0.]\n",
      " [1. 0. 0. 0.]\n",
      " [1. 0. 0. 0.]\n",
      " [1. 0. 0. 0.]\n",
      " [1. 0. 0. 0.]\n",
      " [1. 0. 0. 0.]\n",
      " [1. 0. 0. 0.]\n",
      " [1. 0. 0. 0.]\n",
      " [1. 0. 0. 0.]\n",
      " [1. 0. 0. 0.]\n",
      " [1. 0. 0. 0.]\n",
      " [1. 0. 0. 0.]\n",
      " [1. 0. 0. 0.]\n",
      " [1. 0. 0. 0.]\n",
      " [1. 0. 0. 0.]\n",
      " [1. 0. 0. 0.]\n",
      " [1. 0. 0. 0.]\n",
      " [1. 0. 0. 0.]\n",
      " [1. 0. 0. 0.]\n",
      " [1. 0. 0. 0.]\n",
      " [1. 0. 0. 0.]\n",
      " [1. 0. 0. 0.]\n",
      " [1. 0. 0. 0.]\n",
      " [1. 0. 0. 0.]\n",
      " [1. 0. 0. 0.]\n",
      " [1. 0. 0. 0.]\n",
      " [1. 0. 0. 0.]\n",
      " [1. 0. 0. 0.]\n",
      " [1. 0. 0. 0.]\n",
      " [1. 0. 0. 0.]\n",
      " [1. 0. 0. 0.]\n",
      " [1. 0. 0. 0.]\n",
      " [1. 0. 0. 0.]\n",
      " [1. 0. 0. 0.]\n",
      " [1. 0. 0. 0.]\n",
      " [1. 0. 0. 0.]\n",
      " [1. 0. 0. 0.]\n",
      " [1. 0. 0. 0.]\n",
      " [1. 0. 0. 0.]\n",
      " [1. 0. 0. 0.]\n",
      " [1. 0. 0. 0.]\n",
      " [1. 0. 0. 0.]\n",
      " [1. 0. 0. 0.]\n",
      " [1. 0. 0. 0.]\n",
      " [1. 0. 0. 0.]\n",
      " [1. 0. 0. 0.]\n",
      " [1. 0. 0. 0.]\n",
      " [1. 0. 0. 0.]\n",
      " [1. 0. 0. 0.]\n",
      " [1. 0. 0. 0.]\n",
      " [1. 0. 0. 0.]\n",
      " [1. 0. 0. 0.]\n",
      " [1. 0. 0. 0.]\n",
      " [1. 0. 0. 0.]\n",
      " [1. 0. 0. 0.]\n",
      " [1. 0. 0. 0.]\n",
      " [1. 0. 0. 0.]\n",
      " [1. 0. 0. 0.]\n",
      " [1. 0. 0. 0.]\n",
      " [1. 0. 0. 0.]\n",
      " [1. 0. 0. 0.]\n",
      " [1. 0. 0. 0.]\n",
      " [1. 0. 0. 0.]\n",
      " [1. 0. 0. 0.]\n",
      " [1. 0. 0. 0.]\n",
      " [1. 0. 0. 0.]\n",
      " [1. 0. 0. 0.]\n",
      " [1. 0. 0. 0.]\n",
      " [1. 0. 0. 0.]\n",
      " [1. 0. 0. 0.]\n",
      " [1. 0. 0. 0.]\n",
      " [1. 0. 0. 0.]\n",
      " [1. 0. 0. 0.]\n",
      " [1. 0. 0. 0.]\n",
      " [1. 0. 0. 0.]\n",
      " [1. 0. 0. 0.]\n",
      " [1. 0. 0. 0.]\n",
      " [1. 0. 0. 0.]\n",
      " [1. 0. 0. 0.]\n",
      " [1. 0. 0. 0.]\n",
      " [1. 0. 0. 0.]\n",
      " [1. 0. 0. 0.]\n",
      " [1. 0. 0. 0.]\n",
      " [1. 0. 0. 0.]\n",
      " [1. 0. 0. 0.]\n",
      " [1. 0. 0. 0.]\n",
      " [1. 0. 0. 0.]\n",
      " [1. 0. 0. 0.]\n",
      " [1. 0. 0. 0.]\n",
      " [1. 0. 0. 0.]\n",
      " [1. 0. 0. 0.]\n",
      " [1. 0. 0. 0.]\n",
      " [1. 0. 0. 0.]\n",
      " [1. 0. 0. 0.]\n",
      " [1. 0. 0. 0.]\n",
      " [1. 0. 0. 0.]\n",
      " [1. 0. 0. 0.]\n",
      " [1. 0. 0. 0.]\n",
      " [1. 0. 0. 0.]\n",
      " [1. 0. 0. 0.]\n",
      " [1. 0. 0. 0.]\n",
      " [1. 0. 0. 0.]\n",
      " [1. 0. 0. 0.]\n",
      " [1. 0. 0. 0.]\n",
      " [1. 0. 0. 0.]\n",
      " [1. 0. 0. 0.]\n",
      " [1. 0. 0. 0.]\n",
      " [1. 0. 0. 0.]\n",
      " [1. 0. 0. 0.]\n",
      " [1. 0. 0. 0.]\n",
      " [1. 0. 0. 0.]\n",
      " [1. 0. 0. 0.]\n",
      " [1. 0. 0. 0.]\n",
      " [1. 0. 0. 0.]\n",
      " [1. 0. 0. 0.]\n",
      " [1. 0. 0. 0.]\n",
      " [1. 0. 0. 0.]\n",
      " [1. 0. 0. 0.]\n",
      " [1. 0. 0. 0.]\n",
      " [1. 0. 0. 0.]\n",
      " [1. 0. 0. 0.]\n",
      " [1. 0. 0. 0.]\n",
      " [1. 0. 0. 0.]\n",
      " [1. 0. 0. 0.]\n",
      " [1. 0. 0. 0.]\n",
      " [1. 0. 0. 0.]\n",
      " [1. 0. 0. 0.]\n",
      " [1. 0. 0. 0.]\n",
      " [1. 0. 0. 0.]\n",
      " [1. 0. 0. 0.]\n",
      " [1. 0. 0. 0.]\n",
      " [1. 0. 0. 0.]\n",
      " [1. 0. 0. 0.]]\n"
     ]
    }
   ],
   "source": [
    "# First label before and after processing.\n",
    "print('*****Before Processing first sentence : *****\\n', ' '.join([w[1] for w in sentences[0]]))\n",
    "print('*****After Processing first sentence : *****\\n ', y[0])"
   ]
  },
  {
   "cell_type": "code",
   "execution_count": 15,
   "metadata": {
    "colab": {
     "base_uri": "https://localhost:8080/",
     "height": 55
    },
    "colab_type": "code",
    "executionInfo": {
     "elapsed": 16279,
     "status": "ok",
     "timestamp": 1573348197713,
     "user": {
      "displayName": "Anant Bhavsar",
      "photoUrl": "",
      "userId": "10842212189610618468"
     },
     "user_tz": -330
    },
    "id": "9Ohut9VvWEY0",
    "outputId": "4f57eb06-dac7-403a-c25b-6e4270f628b5"
   },
   "outputs": [
    {
     "name": "stdout",
     "output_type": "stream",
     "text": [
      "Found 633966 word vectors.\n",
      "300\n",
      "[-0.170414, 0.124066, -0.11531, -0.48346, -0.010218, 0.212453, -0.059106, -0.011211, -0.273115, -0.031161, -0.061578, -0.246429, 0.301874, -0.047402, -0.179771, -0.103855, -0.247374, 0.330996, 0.041749, 0.447276, 0.482648, 0.365678, 0.092462, 0.301248, -0.023064, -0.089027, 0.14914, 0.756354, 0.450109, -0.406125, 0.457199, 0.07989, -0.307475, 0.030622, 0.341248, 0.22113, 0.801639, 0.474214, 0.176855, -0.025022, -0.626881, 0.349852, -0.119905, 0.289109, -0.448433, 0.212642, 0.43373, -0.498386, 0.559984, -0.237298, -0.364749, 0.247834, 0.71511, -0.27462, 0.243815, 0.33679, 0.156935, 0.113424, 0.469642, 0.394421, -0.89875, 0.13933, -0.088935, 0.015076, 0.671514, -0.172198, -0.084477, 0.430311, -0.582824, -0.035599, -0.487345, -0.145008, 0.031857, 0.366613, -0.09774, -0.54506, -0.249634, -0.728636, -0.122298, 0.262496, 0.163828, 0.122999, -0.085251, -1.438981, 0.403183, -0.475071, 0.549353, 0.097049, 0.352601, -0.062208, -0.377554, -0.666492, -0.284039, 0.716469, -0.150722, 0.198244, -0.743382, -0.471181, 0.11104, -0.098473, 0.163066, -0.632568, -0.156689, 0.037473, 0.152831, 0.180355, 0.142431, 0.279873, -0.246666, 0.236246, -0.280316, -0.077769, -0.307514, -0.499422, 0.192188, -0.408328, -0.524072, 0.321106, 0.01078, -0.034761, -0.475136, 1.291046, 0.426161, 0.39217, -0.835967, 0.559252, -0.215671, -0.462989, 1.236053, 0.106104, 0.067093, 0.039589, -0.303975, 0.135264, -0.35036, 0.16865, 0.260421, 0.206752, -0.004692, 0.394891, -0.539677, -0.289383, -0.643675, -0.307797, 0.331631, -0.048454, 0.05399, 0.444651, 0.283156, 0.024759, -0.35893, -0.460292, -0.597505, -0.000444, 0.383449, 0.545623, -0.909765, -0.066814, 0.057099, -0.070059, -0.23232, -1.039006, 0.77128, 0.597642, 0.301205, 0.389942, -0.093964, -0.409819, -0.670384, -0.486743, 1.864385, 0.432253, 0.069266, -0.034042, -0.347643, 1.035753, 0.303787, 0.024729, 0.454566, 0.240542, -0.331298, -0.230573, 1.046141, 0.024324, -1.072177, -0.381531, 0.068838, -0.042781, -0.208765, -0.157947, 0.710806, -0.081709, 0.709865, -0.506195, 0.375456, 0.949509, 0.002492, -0.883619, -0.019969, 1.002601, 0.350447, 0.001172, 0.003173, -1.092102, 0.074923, 0.563987, -0.055004, 0.426667, -0.381615, 0.355836, -0.475951, 0.060872, -0.194873, 0.108929, -0.118968, 0.246591, 0.066958, 0.253231, -0.230508, 0.154434, 0.449996, -0.208901, -0.018569, -0.364482, -0.124095, -0.363414, 0.360864, -0.029166, 0.715297, 0.164127, -0.457092, -0.177558, 0.583627, -0.362574, -0.10053, 0.360964, 0.315243, -0.044861, -0.142878, -0.015346, 0.610736, -0.300923, 0.609168, -0.095663, -0.011876, 0.382148, -0.148027, -0.496645, 0.238309, 0.294103, 0.628948, -0.445417, 0.239359, 0.250474, -0.323316, -0.353218, 0.185682, 0.224884, 0.590652, 0.07382, -0.516833, -0.634492, 1.167631, 0.022517, -0.041888, 0.394413, -0.229567, -0.088543, 0.773214, -0.294872, 0.683453, 0.083151, 0.624374, 0.216972, 0.256139, -0.390673, 0.163267, 0.460982, 0.305664, -0.492733, -0.215084, 0.185517, 0.093102, -0.288311, 0.233094, 0.210525, 0.192988, 0.785027, -0.082729, 0.163365, 0.570438, 0.531331, -0.096771, 0.39075, -0.349343, 0.370546, 0.444471, 0.093277, 0.134453, -0.404278]\n"
     ]
    }
   ],
   "source": [
    "path = \"Embedding/bio_GloVe_300.txt\"\n",
    "f = codecs.open(path, 'r', encoding='utf-8')\n",
    "embeddings_index = {}\n",
    "for line in f:\n",
    "    split_line = line.split()\n",
    "    word = split_line[0]\n",
    "    embedding1 = np.array([float(val) for val in split_line[1:]])\n",
    "    embeddings_index[word] = embedding1\n",
    "print('Found %s word vectors.' % len(embeddings_index))\n",
    "emb=embeddings_index['gene'].tolist()\n",
    "print(len(emb))\n",
    "print(emb)"
   ]
  },
  {
   "cell_type": "code",
   "execution_count": 19,
   "metadata": {
    "colab": {},
    "colab_type": "code",
    "id": "KFfUTA7eWEY7"
   },
   "outputs": [],
   "source": [
    "num_words=len(word_to_index) + 1\n",
    "embedding_matrix = np.zeros((len(words)+2, embedding_dim))\n",
    "for word, i in word_to_index.items():\n",
    "    embedding_vector = embeddings_index.get(word)\n",
    "    if embedding_vector is not None:\n",
    "        # words not found in embedding index will be all-zeros.\n",
    "        embedding_matrix[i] = embedding_vector"
   ]
  },
  {
   "cell_type": "code",
   "execution_count": 20,
   "metadata": {
    "colab": {},
    "colab_type": "code",
    "id": "N6MRYkYKWEZC"
   },
   "outputs": [],
   "source": [
    "embedding_layer = Embedding(len(words)+2,\n",
    "                            embedding_dim,\n",
    "                            embeddings_initializer=Constant(embedding_matrix),\n",
    "                            input_length=max_len,\n",
    "                            trainable=False)"
   ]
  },
  {
   "cell_type": "code",
   "execution_count": 21,
   "metadata": {
    "colab": {
     "base_uri": "https://localhost:8080/",
     "height": 344
    },
    "colab_type": "code",
    "executionInfo": {
     "elapsed": 15483,
     "status": "ok",
     "timestamp": 1573348197717,
     "user": {
      "displayName": "Anant Bhavsar",
      "photoUrl": "",
      "userId": "10842212189610618468"
     },
     "user_tz": -330
    },
    "id": "qh3Z5RR5WEZL",
    "outputId": "0948a0f8-9eae-4475-c53b-775fb4205266"
   },
   "outputs": [
    {
     "name": "stdout",
     "output_type": "stream",
     "text": [
      "_________________________________________________________________\n",
      "Layer (type)                 Output Shape              Param #   \n",
      "=================================================================\n",
      "input_2 (InputLayer)         (None, 169)               0         \n",
      "_________________________________________________________________\n",
      "embedding_2 (Embedding)      (None, 169, 300)          2994600   \n",
      "_________________________________________________________________\n",
      "bidirectional_2 (Bidirection (None, 169, 200)          320800    \n",
      "_________________________________________________________________\n",
      "crf_2 (CRF)                  (None, 169, 4)            828       \n",
      "=================================================================\n",
      "Total params: 3,316,228\n",
      "Trainable params: 321,628\n",
      "Non-trainable params: 2,994,600\n",
      "_________________________________________________________________\n"
     ]
    }
   ],
   "source": [
    "num_tags = 3\n",
    "# Model architecture\n",
    "input = Input(shape = (max_len,))\n",
    "#model = Embedding(input_dim = len(words) + 2, output_dim = embedding_dim, input_length = max_len, mask_zero = True)(input)\n",
    "model=embedding_layer(input)\n",
    "model = Bidirectional(LSTM(units = 100, return_sequences=True, recurrent_dropout=0.1))(model)\n",
    "crf = CRF(num_tags+1)  # CRF layer\n",
    "out = crf(model)  # output\n",
    "\n",
    "model = Model(input, out)\n",
    "model.compile(optimizer=\"rmsprop\", loss=crf.loss_function, metrics=[crf.accuracy])\n",
    "\n",
    "model.summary()"
   ]
  },
  {
   "cell_type": "code",
   "execution_count": 22,
   "metadata": {
    "colab": {},
    "colab_type": "code",
    "id": "XHX5Ee81WEZR"
   },
   "outputs": [],
   "source": [
    "checkpointer = ModelCheckpoint(filepath = 'model.h5',\n",
    "                       verbose = 0,\n",
    "                       mode = 'auto',\n",
    "                       save_best_only = True,\n",
    "                       monitor='val_loss')"
   ]
  },
  {
   "cell_type": "code",
   "execution_count": 23,
   "metadata": {
    "colab": {
     "base_uri": "https://localhost:8080/",
     "height": 1000
    },
    "colab_type": "code",
    "executionInfo": {
     "elapsed": 453041,
     "status": "ok",
     "timestamp": 1573352538838,
     "user": {
      "displayName": "Anant Bhavsar",
      "photoUrl": "",
      "userId": "10842212189610618468"
     },
     "user_tz": -330
    },
    "id": "BeneuONlWEZX",
    "outputId": "acb22632-2915-4f7e-b22b-88f0ef4329c7"
   },
   "outputs": [
    {
     "name": "stdout",
     "output_type": "stream",
     "text": [
      "WARNING:tensorflow:From C:\\Users\\S. K. BHAVSAR\\Anaconda3\\lib\\site-packages\\tensorflow\\python\\ops\\math_ops.py:3066: to_int32 (from tensorflow.python.ops.math_ops) is deprecated and will be removed in a future version.\n",
      "Instructions for updating:\n",
      "Use tf.cast instead.\n",
      "Train on 4104 samples, validate on 456 samples\n",
      "Epoch 1/50\n",
      "4104/4104 [==============================] - ETA: 15:57 - loss: 1.5186 - crf_viterbi_accuracy: 0.336 - ETA: 9:54 - loss: 1.4485 - crf_viterbi_accuracy: 0.376 - ETA: 7:07 - loss: 1.4063 - crf_viterbi_accuracy: 0.38 - ETA: 5:41 - loss: 1.3492 - crf_viterbi_accuracy: 0.40 - ETA: 4:49 - loss: 1.2602 - crf_viterbi_accuracy: 0.43 - ETA: 4:14 - loss: 1.0744 - crf_viterbi_accuracy: 0.52 - ETA: 3:48 - loss: 0.9344 - crf_viterbi_accuracy: 0.59 - ETA: 3:29 - loss: 0.8252 - crf_viterbi_accuracy: 0.64 - ETA: 3:14 - loss: 0.7414 - crf_viterbi_accuracy: 0.68 - ETA: 3:03 - loss: 0.6724 - crf_viterbi_accuracy: 0.71 - ETA: 2:53 - loss: 0.6155 - crf_viterbi_accuracy: 0.73 - ETA: 2:44 - loss: 0.5679 - crf_viterbi_accuracy: 0.75 - ETA: 2:36 - loss: 0.5284 - crf_viterbi_accuracy: 0.77 - ETA: 2:29 - loss: 0.4935 - crf_viterbi_accuracy: 0.79 - ETA: 2:23 - loss: 0.4629 - crf_viterbi_accuracy: 0.80 - ETA: 2:18 - loss: 0.4369 - crf_viterbi_accuracy: 0.81 - ETA: 2:13 - loss: 0.4137 - crf_viterbi_accuracy: 0.82 - ETA: 2:08 - loss: 0.3927 - crf_viterbi_accuracy: 0.83 - ETA: 2:04 - loss: 0.3746 - crf_viterbi_accuracy: 0.84 - ETA: 2:00 - loss: 0.3578 - crf_viterbi_accuracy: 0.85 - ETA: 1:57 - loss: 0.3420 - crf_viterbi_accuracy: 0.85 - ETA: 1:53 - loss: 0.3278 - crf_viterbi_accuracy: 0.86 - ETA: 1:50 - loss: 0.3159 - crf_viterbi_accuracy: 0.86 - ETA: 1:47 - loss: 0.3044 - crf_viterbi_accuracy: 0.87 - ETA: 1:44 - loss: 0.2936 - crf_viterbi_accuracy: 0.87 - ETA: 1:42 - loss: 0.2837 - crf_viterbi_accuracy: 0.88 - ETA: 1:39 - loss: 0.2749 - crf_viterbi_accuracy: 0.88 - ETA: 1:36 - loss: 0.2661 - crf_viterbi_accuracy: 0.89 - ETA: 1:34 - loss: 0.2580 - crf_viterbi_accuracy: 0.89 - ETA: 1:31 - loss: 0.2502 - crf_viterbi_accuracy: 0.89 - ETA: 1:29 - loss: 0.2430 - crf_viterbi_accuracy: 0.90 - ETA: 1:26 - loss: 0.2363 - crf_viterbi_accuracy: 0.90 - ETA: 1:24 - loss: 0.2298 - crf_viterbi_accuracy: 0.90 - ETA: 1:22 - loss: 0.2243 - crf_viterbi_accuracy: 0.90 - ETA: 1:19 - loss: 0.2186 - crf_viterbi_accuracy: 0.91 - ETA: 1:17 - loss: 0.2133 - crf_viterbi_accuracy: 0.91 - ETA: 1:15 - loss: 0.2081 - crf_viterbi_accuracy: 0.91 - ETA: 1:13 - loss: 0.2034 - crf_viterbi_accuracy: 0.91 - ETA: 1:11 - loss: 0.1987 - crf_viterbi_accuracy: 0.91 - ETA: 1:09 - loss: 0.1944 - crf_viterbi_accuracy: 0.92 - ETA: 1:07 - loss: 0.1903 - crf_viterbi_accuracy: 0.92 - ETA: 1:05 - loss: 0.1864 - crf_viterbi_accuracy: 0.92 - ETA: 1:03 - loss: 0.1828 - crf_viterbi_accuracy: 0.92 - ETA: 1:01 - loss: 0.1792 - crf_viterbi_accuracy: 0.92 - ETA: 59s - loss: 0.1758 - crf_viterbi_accuracy: 0.9288 - ETA: 57s - loss: 0.1726 - crf_viterbi_accuracy: 0.930 - ETA: 56s - loss: 0.1694 - crf_viterbi_accuracy: 0.931 - ETA: 54s - loss: 0.1664 - crf_viterbi_accuracy: 0.932 - ETA: 52s - loss: 0.1636 - crf_viterbi_accuracy: 0.933 - ETA: 50s - loss: 0.1609 - crf_viterbi_accuracy: 0.935 - ETA: 49s - loss: 0.1583 - crf_viterbi_accuracy: 0.936 - ETA: 47s - loss: 0.1558 - crf_viterbi_accuracy: 0.937 - ETA: 45s - loss: 0.1534 - crf_viterbi_accuracy: 0.938 - ETA: 43s - loss: 0.1510 - crf_viterbi_accuracy: 0.939 - ETA: 42s - loss: 0.1487 - crf_viterbi_accuracy: 0.940 - ETA: 40s - loss: 0.1463 - crf_viterbi_accuracy: 0.941 - ETA: 38s - loss: 0.1442 - crf_viterbi_accuracy: 0.942 - ETA: 37s - loss: 0.1420 - crf_viterbi_accuracy: 0.942 - ETA: 35s - loss: 0.1399 - crf_viterbi_accuracy: 0.943 - ETA: 33s - loss: 0.1379 - crf_viterbi_accuracy: 0.944 - ETA: 32s - loss: 0.1360 - crf_viterbi_accuracy: 0.945 - ETA: 30s - loss: 0.1343 - crf_viterbi_accuracy: 0.946 - ETA: 29s - loss: 0.1324 - crf_viterbi_accuracy: 0.946 - ETA: 27s - loss: 0.1310 - crf_viterbi_accuracy: 0.947 - ETA: 25s - loss: 0.1294 - crf_viterbi_accuracy: 0.948 - ETA: 24s - loss: 0.1277 - crf_viterbi_accuracy: 0.948 - ETA: 22s - loss: 0.1261 - crf_viterbi_accuracy: 0.949 - ETA: 21s - loss: 0.1246 - crf_viterbi_accuracy: 0.950 - ETA: 19s - loss: 0.1230 - crf_viterbi_accuracy: 0.950 - ETA: 18s - loss: 0.1216 - crf_viterbi_accuracy: 0.951 - ETA: 16s - loss: 0.1203 - crf_viterbi_accuracy: 0.952 - ETA: 15s - loss: 0.1189 - crf_viterbi_accuracy: 0.952 - ETA: 13s - loss: 0.1176 - crf_viterbi_accuracy: 0.953 - ETA: 12s - loss: 0.1163 - crf_viterbi_accuracy: 0.953 - ETA: 10s - loss: 0.1151 - crf_viterbi_accuracy: 0.954 - ETA: 9s - loss: 0.1138 - crf_viterbi_accuracy: 0.954 - ETA: 7s - loss: 0.1125 - crf_viterbi_accuracy: 0.95 - ETA: 6s - loss: 0.1113 - crf_viterbi_accuracy: 0.95 - ETA: 4s - loss: 0.1101 - crf_viterbi_accuracy: 0.95 - ETA: 3s - loss: 0.1090 - crf_viterbi_accuracy: 0.95 - ETA: 1s - loss: 0.1079 - crf_viterbi_accuracy: 0.95 - ETA: 0s - loss: 0.1067 - crf_viterbi_accuracy: 0.95 - 125s 31ms/step - loss: 0.1067 - crf_viterbi_accuracy: 0.9577 - val_loss: 0.0224 - val_crf_viterbi_accuracy: 0.9932\n",
      "Epoch 2/50\n"
     ]
    },
    {
     "name": "stdout",
     "output_type": "stream",
     "text": [
      "4104/4104 [==============================] - ETA: 1:44 - loss: 0.0232 - crf_viterbi_accuracy: 0.99 - ETA: 1:44 - loss: 0.0189 - crf_viterbi_accuracy: 0.99 - ETA: 1:44 - loss: 0.0196 - crf_viterbi_accuracy: 0.99 - ETA: 1:42 - loss: 0.0188 - crf_viterbi_accuracy: 0.99 - ETA: 1:44 - loss: 0.0178 - crf_viterbi_accuracy: 0.99 - ETA: 1:42 - loss: 0.0196 - crf_viterbi_accuracy: 0.99 - ETA: 1:41 - loss: 0.0205 - crf_viterbi_accuracy: 0.99 - ETA: 1:40 - loss: 0.0200 - crf_viterbi_accuracy: 0.99 - ETA: 1:39 - loss: 0.0193 - crf_viterbi_accuracy: 0.99 - ETA: 1:37 - loss: 0.0191 - crf_viterbi_accuracy: 0.99 - ETA: 1:35 - loss: 0.0193 - crf_viterbi_accuracy: 0.99 - ETA: 1:33 - loss: 0.0197 - crf_viterbi_accuracy: 0.99 - ETA: 1:32 - loss: 0.0195 - crf_viterbi_accuracy: 0.99 - ETA: 1:30 - loss: 0.0193 - crf_viterbi_accuracy: 0.99 - ETA: 1:29 - loss: 0.0191 - crf_viterbi_accuracy: 0.99 - ETA: 1:27 - loss: 0.0191 - crf_viterbi_accuracy: 0.99 - ETA: 1:26 - loss: 0.0190 - crf_viterbi_accuracy: 0.99 - ETA: 1:24 - loss: 0.0190 - crf_viterbi_accuracy: 0.99 - ETA: 1:23 - loss: 0.0189 - crf_viterbi_accuracy: 0.99 - ETA: 1:22 - loss: 0.0187 - crf_viterbi_accuracy: 0.99 - ETA: 1:20 - loss: 0.0187 - crf_viterbi_accuracy: 0.99 - ETA: 1:19 - loss: 0.0185 - crf_viterbi_accuracy: 0.99 - ETA: 1:18 - loss: 0.0187 - crf_viterbi_accuracy: 0.99 - ETA: 1:16 - loss: 0.0186 - crf_viterbi_accuracy: 0.99 - ETA: 1:15 - loss: 0.0188 - crf_viterbi_accuracy: 0.99 - ETA: 1:14 - loss: 0.0188 - crf_viterbi_accuracy: 0.99 - ETA: 1:12 - loss: 0.0189 - crf_viterbi_accuracy: 0.99 - ETA: 1:11 - loss: 0.0193 - crf_viterbi_accuracy: 0.99 - ETA: 1:10 - loss: 0.0193 - crf_viterbi_accuracy: 0.99 - ETA: 1:09 - loss: 0.0191 - crf_viterbi_accuracy: 0.99 - ETA: 1:08 - loss: 0.0191 - crf_viterbi_accuracy: 0.99 - ETA: 1:07 - loss: 0.0190 - crf_viterbi_accuracy: 0.99 - ETA: 1:05 - loss: 0.0189 - crf_viterbi_accuracy: 0.99 - ETA: 1:04 - loss: 0.0188 - crf_viterbi_accuracy: 0.99 - ETA: 1:03 - loss: 0.0187 - crf_viterbi_accuracy: 0.99 - ETA: 1:01 - loss: 0.0187 - crf_viterbi_accuracy: 0.99 - ETA: 1:00 - loss: 0.0186 - crf_viterbi_accuracy: 0.99 - ETA: 59s - loss: 0.0187 - crf_viterbi_accuracy: 0.9938 - ETA: 57s - loss: 0.0186 - crf_viterbi_accuracy: 0.993 - ETA: 56s - loss: 0.0186 - crf_viterbi_accuracy: 0.993 - ETA: 54s - loss: 0.0185 - crf_viterbi_accuracy: 0.993 - ETA: 53s - loss: 0.0185 - crf_viterbi_accuracy: 0.993 - ETA: 52s - loss: 0.0184 - crf_viterbi_accuracy: 0.993 - ETA: 50s - loss: 0.0184 - crf_viterbi_accuracy: 0.993 - ETA: 49s - loss: 0.0184 - crf_viterbi_accuracy: 0.993 - ETA: 48s - loss: 0.0183 - crf_viterbi_accuracy: 0.994 - ETA: 46s - loss: 0.0183 - crf_viterbi_accuracy: 0.994 - ETA: 45s - loss: 0.0182 - crf_viterbi_accuracy: 0.994 - ETA: 44s - loss: 0.0182 - crf_viterbi_accuracy: 0.994 - ETA: 42s - loss: 0.0182 - crf_viterbi_accuracy: 0.994 - ETA: 41s - loss: 0.0182 - crf_viterbi_accuracy: 0.994 - ETA: 40s - loss: 0.0183 - crf_viterbi_accuracy: 0.994 - ETA: 39s - loss: 0.0182 - crf_viterbi_accuracy: 0.994 - ETA: 37s - loss: 0.0182 - crf_viterbi_accuracy: 0.994 - ETA: 36s - loss: 0.0182 - crf_viterbi_accuracy: 0.994 - ETA: 35s - loss: 0.0181 - crf_viterbi_accuracy: 0.994 - ETA: 33s - loss: 0.0180 - crf_viterbi_accuracy: 0.994 - ETA: 32s - loss: 0.0180 - crf_viterbi_accuracy: 0.994 - ETA: 30s - loss: 0.0180 - crf_viterbi_accuracy: 0.994 - ETA: 29s - loss: 0.0179 - crf_viterbi_accuracy: 0.994 - ETA: 28s - loss: 0.0178 - crf_viterbi_accuracy: 0.994 - ETA: 26s - loss: 0.0178 - crf_viterbi_accuracy: 0.994 - ETA: 25s - loss: 0.0177 - crf_viterbi_accuracy: 0.994 - ETA: 24s - loss: 0.0176 - crf_viterbi_accuracy: 0.994 - ETA: 22s - loss: 0.0177 - crf_viterbi_accuracy: 0.994 - ETA: 21s - loss: 0.0176 - crf_viterbi_accuracy: 0.994 - ETA: 20s - loss: 0.0175 - crf_viterbi_accuracy: 0.994 - ETA: 18s - loss: 0.0175 - crf_viterbi_accuracy: 0.994 - ETA: 17s - loss: 0.0175 - crf_viterbi_accuracy: 0.994 - ETA: 16s - loss: 0.0175 - crf_viterbi_accuracy: 0.994 - ETA: 14s - loss: 0.0175 - crf_viterbi_accuracy: 0.994 - ETA: 13s - loss: 0.0175 - crf_viterbi_accuracy: 0.994 - ETA: 12s - loss: 0.0175 - crf_viterbi_accuracy: 0.994 - ETA: 10s - loss: 0.0174 - crf_viterbi_accuracy: 0.994 - ETA: 9s - loss: 0.0175 - crf_viterbi_accuracy: 0.994 - ETA: 8s - loss: 0.0175 - crf_viterbi_accuracy: 0.99 - ETA: 6s - loss: 0.0175 - crf_viterbi_accuracy: 0.99 - ETA: 5s - loss: 0.0174 - crf_viterbi_accuracy: 0.99 - ETA: 4s - loss: 0.0173 - crf_viterbi_accuracy: 0.99 - ETA: 2s - loss: 0.0172 - crf_viterbi_accuracy: 0.99 - ETA: 1s - loss: 0.0173 - crf_viterbi_accuracy: 0.99 - ETA: 0s - loss: 0.0173 - crf_viterbi_accuracy: 0.99 - 112s 27ms/step - loss: 0.0173 - crf_viterbi_accuracy: 0.9943 - val_loss: 0.0146 - val_crf_viterbi_accuracy: 0.9948\n",
      "Epoch 3/50\n"
     ]
    },
    {
     "name": "stdout",
     "output_type": "stream",
     "text": [
      "4104/4104 [==============================] - ETA: 1:39 - loss: 0.0142 - crf_viterbi_accuracy: 0.99 - ETA: 1:42 - loss: 0.0139 - crf_viterbi_accuracy: 0.99 - ETA: 1:39 - loss: 0.0126 - crf_viterbi_accuracy: 0.99 - ETA: 1:40 - loss: 0.0138 - crf_viterbi_accuracy: 0.99 - ETA: 1:38 - loss: 0.0143 - crf_viterbi_accuracy: 0.99 - ETA: 1:36 - loss: 0.0144 - crf_viterbi_accuracy: 0.99 - ETA: 1:35 - loss: 0.0150 - crf_viterbi_accuracy: 0.99 - ETA: 1:34 - loss: 0.0152 - crf_viterbi_accuracy: 0.99 - ETA: 1:32 - loss: 0.0144 - crf_viterbi_accuracy: 0.99 - ETA: 1:31 - loss: 0.0144 - crf_viterbi_accuracy: 0.99 - ETA: 1:30 - loss: 0.0145 - crf_viterbi_accuracy: 0.99 - ETA: 1:29 - loss: 0.0152 - crf_viterbi_accuracy: 0.99 - ETA: 1:28 - loss: 0.0155 - crf_viterbi_accuracy: 0.99 - ETA: 1:27 - loss: 0.0153 - crf_viterbi_accuracy: 0.99 - ETA: 1:26 - loss: 0.0156 - crf_viterbi_accuracy: 0.99 - ETA: 1:25 - loss: 0.0155 - crf_viterbi_accuracy: 0.99 - ETA: 1:24 - loss: 0.0151 - crf_viterbi_accuracy: 0.99 - ETA: 1:22 - loss: 0.0153 - crf_viterbi_accuracy: 0.99 - ETA: 1:21 - loss: 0.0153 - crf_viterbi_accuracy: 0.99 - ETA: 1:20 - loss: 0.0153 - crf_viterbi_accuracy: 0.99 - ETA: 1:19 - loss: 0.0152 - crf_viterbi_accuracy: 0.99 - ETA: 1:17 - loss: 0.0150 - crf_viterbi_accuracy: 0.99 - ETA: 1:16 - loss: 0.0149 - crf_viterbi_accuracy: 0.99 - ETA: 1:14 - loss: 0.0151 - crf_viterbi_accuracy: 0.99 - ETA: 1:13 - loss: 0.0149 - crf_viterbi_accuracy: 0.99 - ETA: 1:12 - loss: 0.0148 - crf_viterbi_accuracy: 0.99 - ETA: 1:10 - loss: 0.0148 - crf_viterbi_accuracy: 0.99 - ETA: 1:09 - loss: 0.0147 - crf_viterbi_accuracy: 0.99 - ETA: 1:08 - loss: 0.0146 - crf_viterbi_accuracy: 0.99 - ETA: 1:07 - loss: 0.0146 - crf_viterbi_accuracy: 0.99 - ETA: 1:05 - loss: 0.0145 - crf_viterbi_accuracy: 0.99 - ETA: 1:04 - loss: 0.0144 - crf_viterbi_accuracy: 0.99 - ETA: 1:03 - loss: 0.0144 - crf_viterbi_accuracy: 0.99 - ETA: 1:02 - loss: 0.0144 - crf_viterbi_accuracy: 0.99 - ETA: 1:01 - loss: 0.0146 - crf_viterbi_accuracy: 0.99 - ETA: 59s - loss: 0.0145 - crf_viterbi_accuracy: 0.9950 - ETA: 58s - loss: 0.0144 - crf_viterbi_accuracy: 0.995 - ETA: 57s - loss: 0.0142 - crf_viterbi_accuracy: 0.995 - ETA: 56s - loss: 0.0143 - crf_viterbi_accuracy: 0.995 - ETA: 54s - loss: 0.0144 - crf_viterbi_accuracy: 0.995 - ETA: 53s - loss: 0.0145 - crf_viterbi_accuracy: 0.995 - ETA: 52s - loss: 0.0147 - crf_viterbi_accuracy: 0.995 - ETA: 51s - loss: 0.0146 - crf_viterbi_accuracy: 0.995 - ETA: 49s - loss: 0.0145 - crf_viterbi_accuracy: 0.995 - ETA: 48s - loss: 0.0143 - crf_viterbi_accuracy: 0.995 - ETA: 47s - loss: 0.0142 - crf_viterbi_accuracy: 0.995 - ETA: 45s - loss: 0.0141 - crf_viterbi_accuracy: 0.995 - ETA: 44s - loss: 0.0143 - crf_viterbi_accuracy: 0.995 - ETA: 43s - loss: 0.0143 - crf_viterbi_accuracy: 0.995 - ETA: 41s - loss: 0.0143 - crf_viterbi_accuracy: 0.995 - ETA: 40s - loss: 0.0142 - crf_viterbi_accuracy: 0.995 - ETA: 39s - loss: 0.0141 - crf_viterbi_accuracy: 0.995 - ETA: 38s - loss: 0.0140 - crf_viterbi_accuracy: 0.995 - ETA: 36s - loss: 0.0140 - crf_viterbi_accuracy: 0.995 - ETA: 35s - loss: 0.0139 - crf_viterbi_accuracy: 0.995 - ETA: 34s - loss: 0.0138 - crf_viterbi_accuracy: 0.995 - ETA: 32s - loss: 0.0138 - crf_viterbi_accuracy: 0.995 - ETA: 31s - loss: 0.0137 - crf_viterbi_accuracy: 0.995 - ETA: 30s - loss: 0.0138 - crf_viterbi_accuracy: 0.995 - ETA: 28s - loss: 0.0138 - crf_viterbi_accuracy: 0.995 - ETA: 27s - loss: 0.0138 - crf_viterbi_accuracy: 0.995 - ETA: 26s - loss: 0.0138 - crf_viterbi_accuracy: 0.995 - ETA: 25s - loss: 0.0136 - crf_viterbi_accuracy: 0.995 - ETA: 23s - loss: 0.0138 - crf_viterbi_accuracy: 0.995 - ETA: 22s - loss: 0.0137 - crf_viterbi_accuracy: 0.995 - ETA: 21s - loss: 0.0137 - crf_viterbi_accuracy: 0.995 - ETA: 19s - loss: 0.0136 - crf_viterbi_accuracy: 0.995 - ETA: 18s - loss: 0.0136 - crf_viterbi_accuracy: 0.995 - ETA: 17s - loss: 0.0136 - crf_viterbi_accuracy: 0.995 - ETA: 15s - loss: 0.0135 - crf_viterbi_accuracy: 0.995 - ETA: 14s - loss: 0.0135 - crf_viterbi_accuracy: 0.995 - ETA: 13s - loss: 0.0134 - crf_viterbi_accuracy: 0.995 - ETA: 11s - loss: 0.0134 - crf_viterbi_accuracy: 0.995 - ETA: 10s - loss: 0.0134 - crf_viterbi_accuracy: 0.995 - ETA: 9s - loss: 0.0134 - crf_viterbi_accuracy: 0.995 - ETA: 7s - loss: 0.0133 - crf_viterbi_accuracy: 0.99 - ETA: 6s - loss: 0.0133 - crf_viterbi_accuracy: 0.99 - ETA: 5s - loss: 0.0133 - crf_viterbi_accuracy: 0.99 - ETA: 4s - loss: 0.0133 - crf_viterbi_accuracy: 0.99 - ETA: 2s - loss: 0.0133 - crf_viterbi_accuracy: 0.99 - ETA: 1s - loss: 0.0133 - crf_viterbi_accuracy: 0.99 - ETA: 0s - loss: 0.0133 - crf_viterbi_accuracy: 0.99 - 111s 27ms/step - loss: 0.0133 - crf_viterbi_accuracy: 0.9953 - val_loss: 0.0133 - val_crf_viterbi_accuracy: 0.9949\n",
      "Epoch 4/50\n"
     ]
    },
    {
     "name": "stdout",
     "output_type": "stream",
     "text": [
      "4104/4104 [==============================] - ETA: 1:48 - loss: 0.0121 - crf_viterbi_accuracy: 0.99 - ETA: 1:48 - loss: 0.0158 - crf_viterbi_accuracy: 0.99 - ETA: 1:47 - loss: 0.0136 - crf_viterbi_accuracy: 0.99 - ETA: 1:44 - loss: 0.0126 - crf_viterbi_accuracy: 0.99 - ETA: 1:43 - loss: 0.0126 - crf_viterbi_accuracy: 0.99 - ETA: 1:41 - loss: 0.0124 - crf_viterbi_accuracy: 0.99 - ETA: 1:40 - loss: 0.0119 - crf_viterbi_accuracy: 0.99 - ETA: 1:37 - loss: 0.0116 - crf_viterbi_accuracy: 0.99 - ETA: 1:36 - loss: 0.0113 - crf_viterbi_accuracy: 0.99 - ETA: 1:34 - loss: 0.0112 - crf_viterbi_accuracy: 0.99 - ETA: 1:33 - loss: 0.0110 - crf_viterbi_accuracy: 0.99 - ETA: 1:32 - loss: 0.0109 - crf_viterbi_accuracy: 0.99 - ETA: 1:31 - loss: 0.0105 - crf_viterbi_accuracy: 0.99 - ETA: 1:29 - loss: 0.0105 - crf_viterbi_accuracy: 0.99 - ETA: 1:28 - loss: 0.0106 - crf_viterbi_accuracy: 0.99 - ETA: 1:27 - loss: 0.0103 - crf_viterbi_accuracy: 0.99 - ETA: 1:25 - loss: 0.0103 - crf_viterbi_accuracy: 0.99 - ETA: 1:24 - loss: 0.0102 - crf_viterbi_accuracy: 0.99 - ETA: 1:23 - loss: 0.0104 - crf_viterbi_accuracy: 0.99 - ETA: 1:21 - loss: 0.0107 - crf_viterbi_accuracy: 0.99 - ETA: 1:20 - loss: 0.0106 - crf_viterbi_accuracy: 0.99 - ETA: 1:18 - loss: 0.0105 - crf_viterbi_accuracy: 0.99 - ETA: 1:17 - loss: 0.0105 - crf_viterbi_accuracy: 0.99 - ETA: 1:16 - loss: 0.0105 - crf_viterbi_accuracy: 0.99 - ETA: 1:15 - loss: 0.0106 - crf_viterbi_accuracy: 0.99 - ETA: 1:13 - loss: 0.0105 - crf_viterbi_accuracy: 0.99 - ETA: 1:12 - loss: 0.0109 - crf_viterbi_accuracy: 0.99 - ETA: 1:11 - loss: 0.0110 - crf_viterbi_accuracy: 0.99 - ETA: 1:09 - loss: 0.0111 - crf_viterbi_accuracy: 0.99 - ETA: 1:08 - loss: 0.0111 - crf_viterbi_accuracy: 0.99 - ETA: 1:07 - loss: 0.0111 - crf_viterbi_accuracy: 0.99 - ETA: 1:05 - loss: 0.0110 - crf_viterbi_accuracy: 0.99 - ETA: 1:04 - loss: 0.0111 - crf_viterbi_accuracy: 0.99 - ETA: 1:03 - loss: 0.0110 - crf_viterbi_accuracy: 0.99 - ETA: 1:02 - loss: 0.0113 - crf_viterbi_accuracy: 0.99 - ETA: 1:00 - loss: 0.0113 - crf_viterbi_accuracy: 0.99 - ETA: 59s - loss: 0.0113 - crf_viterbi_accuracy: 0.9959 - ETA: 58s - loss: 0.0112 - crf_viterbi_accuracy: 0.995 - ETA: 56s - loss: 0.0111 - crf_viterbi_accuracy: 0.995 - ETA: 55s - loss: 0.0112 - crf_viterbi_accuracy: 0.995 - ETA: 54s - loss: 0.0112 - crf_viterbi_accuracy: 0.995 - ETA: 52s - loss: 0.0112 - crf_viterbi_accuracy: 0.995 - ETA: 51s - loss: 0.0111 - crf_viterbi_accuracy: 0.995 - ETA: 50s - loss: 0.0111 - crf_viterbi_accuracy: 0.995 - ETA: 48s - loss: 0.0110 - crf_viterbi_accuracy: 0.995 - ETA: 47s - loss: 0.0110 - crf_viterbi_accuracy: 0.995 - ETA: 46s - loss: 0.0110 - crf_viterbi_accuracy: 0.995 - ETA: 45s - loss: 0.0109 - crf_viterbi_accuracy: 0.995 - ETA: 43s - loss: 0.0108 - crf_viterbi_accuracy: 0.996 - ETA: 42s - loss: 0.0108 - crf_viterbi_accuracy: 0.996 - ETA: 41s - loss: 0.0108 - crf_viterbi_accuracy: 0.996 - ETA: 39s - loss: 0.0107 - crf_viterbi_accuracy: 0.996 - ETA: 38s - loss: 0.0107 - crf_viterbi_accuracy: 0.996 - ETA: 37s - loss: 0.0107 - crf_viterbi_accuracy: 0.996 - ETA: 35s - loss: 0.0106 - crf_viterbi_accuracy: 0.996 - ETA: 34s - loss: 0.0105 - crf_viterbi_accuracy: 0.996 - ETA: 33s - loss: 0.0106 - crf_viterbi_accuracy: 0.996 - ETA: 31s - loss: 0.0106 - crf_viterbi_accuracy: 0.996 - ETA: 30s - loss: 0.0107 - crf_viterbi_accuracy: 0.996 - ETA: 29s - loss: 0.0106 - crf_viterbi_accuracy: 0.996 - ETA: 27s - loss: 0.0107 - crf_viterbi_accuracy: 0.996 - ETA: 26s - loss: 0.0107 - crf_viterbi_accuracy: 0.996 - ETA: 25s - loss: 0.0108 - crf_viterbi_accuracy: 0.995 - ETA: 23s - loss: 0.0108 - crf_viterbi_accuracy: 0.995 - ETA: 22s - loss: 0.0108 - crf_viterbi_accuracy: 0.995 - ETA: 21s - loss: 0.0108 - crf_viterbi_accuracy: 0.995 - ETA: 19s - loss: 0.0108 - crf_viterbi_accuracy: 0.995 - ETA: 18s - loss: 0.0107 - crf_viterbi_accuracy: 0.996 - ETA: 17s - loss: 0.0107 - crf_viterbi_accuracy: 0.995 - ETA: 15s - loss: 0.0107 - crf_viterbi_accuracy: 0.996 - ETA: 14s - loss: 0.0106 - crf_viterbi_accuracy: 0.996 - ETA: 13s - loss: 0.0106 - crf_viterbi_accuracy: 0.996 - ETA: 12s - loss: 0.0105 - crf_viterbi_accuracy: 0.996 - ETA: 10s - loss: 0.0105 - crf_viterbi_accuracy: 0.996 - ETA: 9s - loss: 0.0106 - crf_viterbi_accuracy: 0.996 - ETA: 8s - loss: 0.0106 - crf_viterbi_accuracy: 0.99 - ETA: 6s - loss: 0.0106 - crf_viterbi_accuracy: 0.99 - ETA: 5s - loss: 0.0106 - crf_viterbi_accuracy: 0.99 - ETA: 4s - loss: 0.0106 - crf_viterbi_accuracy: 0.99 - ETA: 2s - loss: 0.0105 - crf_viterbi_accuracy: 0.99 - ETA: 1s - loss: 0.0105 - crf_viterbi_accuracy: 0.99 - ETA: 0s - loss: 0.0105 - crf_viterbi_accuracy: 0.99 - 112s 27ms/step - loss: 0.0105 - crf_viterbi_accuracy: 0.9960 - val_loss: 0.0153 - val_crf_viterbi_accuracy: 0.9936\n",
      "Epoch 5/50\n"
     ]
    },
    {
     "name": "stdout",
     "output_type": "stream",
     "text": [
      "4104/4104 [==============================] - ETA: 1:43 - loss: 0.0109 - crf_viterbi_accuracy: 0.99 - ETA: 1:41 - loss: 0.0099 - crf_viterbi_accuracy: 0.99 - ETA: 1:38 - loss: 0.0106 - crf_viterbi_accuracy: 0.99 - ETA: 1:37 - loss: 0.0111 - crf_viterbi_accuracy: 0.99 - ETA: 1:35 - loss: 0.0107 - crf_viterbi_accuracy: 0.99 - ETA: 1:33 - loss: 0.0105 - crf_viterbi_accuracy: 0.99 - ETA: 1:32 - loss: 0.0102 - crf_viterbi_accuracy: 0.99 - ETA: 1:31 - loss: 0.0099 - crf_viterbi_accuracy: 0.99 - ETA: 1:31 - loss: 0.0094 - crf_viterbi_accuracy: 0.99 - ETA: 1:31 - loss: 0.0093 - crf_viterbi_accuracy: 0.99 - ETA: 1:30 - loss: 0.0091 - crf_viterbi_accuracy: 0.99 - ETA: 1:29 - loss: 0.0090 - crf_viterbi_accuracy: 0.99 - ETA: 1:29 - loss: 0.0089 - crf_viterbi_accuracy: 0.99 - ETA: 1:28 - loss: 0.0087 - crf_viterbi_accuracy: 0.99 - ETA: 1:28 - loss: 0.0086 - crf_viterbi_accuracy: 0.99 - ETA: 1:26 - loss: 0.0085 - crf_viterbi_accuracy: 0.99 - ETA: 1:25 - loss: 0.0088 - crf_viterbi_accuracy: 0.99 - ETA: 1:24 - loss: 0.0087 - crf_viterbi_accuracy: 0.99 - ETA: 1:22 - loss: 0.0086 - crf_viterbi_accuracy: 0.99 - ETA: 1:21 - loss: 0.0087 - crf_viterbi_accuracy: 0.99 - ETA: 1:19 - loss: 0.0086 - crf_viterbi_accuracy: 0.99 - ETA: 1:18 - loss: 0.0085 - crf_viterbi_accuracy: 0.99 - ETA: 1:17 - loss: 0.0084 - crf_viterbi_accuracy: 0.99 - ETA: 1:16 - loss: 0.0083 - crf_viterbi_accuracy: 0.99 - ETA: 1:14 - loss: 0.0083 - crf_viterbi_accuracy: 0.99 - ETA: 1:13 - loss: 0.0082 - crf_viterbi_accuracy: 0.99 - ETA: 1:11 - loss: 0.0083 - crf_viterbi_accuracy: 0.99 - ETA: 1:10 - loss: 0.0082 - crf_viterbi_accuracy: 0.99 - ETA: 1:09 - loss: 0.0082 - crf_viterbi_accuracy: 0.99 - ETA: 1:07 - loss: 0.0082 - crf_viterbi_accuracy: 0.99 - ETA: 1:06 - loss: 0.0082 - crf_viterbi_accuracy: 0.99 - ETA: 1:05 - loss: 0.0081 - crf_viterbi_accuracy: 0.99 - ETA: 1:04 - loss: 0.0081 - crf_viterbi_accuracy: 0.99 - ETA: 1:02 - loss: 0.0081 - crf_viterbi_accuracy: 0.99 - ETA: 1:01 - loss: 0.0080 - crf_viterbi_accuracy: 0.99 - ETA: 1:00 - loss: 0.0079 - crf_viterbi_accuracy: 0.99 - ETA: 59s - loss: 0.0080 - crf_viterbi_accuracy: 0.9966 - ETA: 57s - loss: 0.0081 - crf_viterbi_accuracy: 0.996 - ETA: 56s - loss: 0.0083 - crf_viterbi_accuracy: 0.996 - ETA: 55s - loss: 0.0084 - crf_viterbi_accuracy: 0.996 - ETA: 53s - loss: 0.0084 - crf_viterbi_accuracy: 0.996 - ETA: 52s - loss: 0.0083 - crf_viterbi_accuracy: 0.996 - ETA: 51s - loss: 0.0084 - crf_viterbi_accuracy: 0.996 - ETA: 49s - loss: 0.0084 - crf_viterbi_accuracy: 0.996 - ETA: 48s - loss: 0.0083 - crf_viterbi_accuracy: 0.996 - ETA: 47s - loss: 0.0085 - crf_viterbi_accuracy: 0.996 - ETA: 45s - loss: 0.0086 - crf_viterbi_accuracy: 0.996 - ETA: 44s - loss: 0.0086 - crf_viterbi_accuracy: 0.996 - ETA: 43s - loss: 0.0086 - crf_viterbi_accuracy: 0.996 - ETA: 41s - loss: 0.0086 - crf_viterbi_accuracy: 0.996 - ETA: 40s - loss: 0.0086 - crf_viterbi_accuracy: 0.996 - ETA: 39s - loss: 0.0085 - crf_viterbi_accuracy: 0.996 - ETA: 37s - loss: 0.0085 - crf_viterbi_accuracy: 0.996 - ETA: 36s - loss: 0.0085 - crf_viterbi_accuracy: 0.996 - ETA: 35s - loss: 0.0085 - crf_viterbi_accuracy: 0.996 - ETA: 34s - loss: 0.0085 - crf_viterbi_accuracy: 0.996 - ETA: 32s - loss: 0.0085 - crf_viterbi_accuracy: 0.996 - ETA: 31s - loss: 0.0085 - crf_viterbi_accuracy: 0.996 - ETA: 30s - loss: 0.0085 - crf_viterbi_accuracy: 0.996 - ETA: 28s - loss: 0.0084 - crf_viterbi_accuracy: 0.996 - ETA: 27s - loss: 0.0084 - crf_viterbi_accuracy: 0.996 - ETA: 26s - loss: 0.0084 - crf_viterbi_accuracy: 0.996 - ETA: 25s - loss: 0.0084 - crf_viterbi_accuracy: 0.996 - ETA: 23s - loss: 0.0083 - crf_viterbi_accuracy: 0.996 - ETA: 22s - loss: 0.0083 - crf_viterbi_accuracy: 0.996 - ETA: 21s - loss: 0.0083 - crf_viterbi_accuracy: 0.996 - ETA: 19s - loss: 0.0083 - crf_viterbi_accuracy: 0.996 - ETA: 18s - loss: 0.0083 - crf_viterbi_accuracy: 0.996 - ETA: 17s - loss: 0.0082 - crf_viterbi_accuracy: 0.996 - ETA: 15s - loss: 0.0082 - crf_viterbi_accuracy: 0.996 - ETA: 14s - loss: 0.0083 - crf_viterbi_accuracy: 0.996 - ETA: 13s - loss: 0.0082 - crf_viterbi_accuracy: 0.996 - ETA: 11s - loss: 0.0083 - crf_viterbi_accuracy: 0.996 - ETA: 10s - loss: 0.0083 - crf_viterbi_accuracy: 0.996 - ETA: 9s - loss: 0.0083 - crf_viterbi_accuracy: 0.996 - ETA: 7s - loss: 0.0083 - crf_viterbi_accuracy: 0.99 - ETA: 6s - loss: 0.0083 - crf_viterbi_accuracy: 0.99 - ETA: 5s - loss: 0.0083 - crf_viterbi_accuracy: 0.99 - ETA: 4s - loss: 0.0084 - crf_viterbi_accuracy: 0.99 - ETA: 2s - loss: 0.0083 - crf_viterbi_accuracy: 0.99 - ETA: 1s - loss: 0.0084 - crf_viterbi_accuracy: 0.99 - ETA: 0s - loss: 0.0083 - crf_viterbi_accuracy: 0.99 - 110s 27ms/step - loss: 0.0083 - crf_viterbi_accuracy: 0.9965 - val_loss: 0.0085 - val_crf_viterbi_accuracy: 0.9959\n",
      "Epoch 6/50\n"
     ]
    },
    {
     "name": "stdout",
     "output_type": "stream",
     "text": [
      "4104/4104 [==============================] - ETA: 1:42 - loss: 0.0099 - crf_viterbi_accuracy: 0.99 - ETA: 1:44 - loss: 0.0089 - crf_viterbi_accuracy: 0.99 - ETA: 1:44 - loss: 0.0084 - crf_viterbi_accuracy: 0.99 - ETA: 1:45 - loss: 0.0083 - crf_viterbi_accuracy: 0.99 - ETA: 1:42 - loss: 0.0079 - crf_viterbi_accuracy: 0.99 - ETA: 1:40 - loss: 0.0070 - crf_viterbi_accuracy: 0.99 - ETA: 1:38 - loss: 0.0066 - crf_viterbi_accuracy: 0.99 - ETA: 1:37 - loss: 0.0070 - crf_viterbi_accuracy: 0.99 - ETA: 1:35 - loss: 0.0072 - crf_viterbi_accuracy: 0.99 - ETA: 1:34 - loss: 0.0072 - crf_viterbi_accuracy: 0.99 - ETA: 1:33 - loss: 0.0073 - crf_viterbi_accuracy: 0.99 - ETA: 1:32 - loss: 0.0070 - crf_viterbi_accuracy: 0.99 - ETA: 1:30 - loss: 0.0072 - crf_viterbi_accuracy: 0.99 - ETA: 1:29 - loss: 0.0073 - crf_viterbi_accuracy: 0.99 - ETA: 1:27 - loss: 0.0070 - crf_viterbi_accuracy: 0.99 - ETA: 1:26 - loss: 0.0067 - crf_viterbi_accuracy: 0.99 - ETA: 1:24 - loss: 0.0068 - crf_viterbi_accuracy: 0.99 - ETA: 1:23 - loss: 0.0067 - crf_viterbi_accuracy: 0.99 - ETA: 1:22 - loss: 0.0067 - crf_viterbi_accuracy: 0.99 - ETA: 1:21 - loss: 0.0069 - crf_viterbi_accuracy: 0.99 - ETA: 1:20 - loss: 0.0067 - crf_viterbi_accuracy: 0.99 - ETA: 1:18 - loss: 0.0067 - crf_viterbi_accuracy: 0.99 - ETA: 1:17 - loss: 0.0067 - crf_viterbi_accuracy: 0.99 - ETA: 1:16 - loss: 0.0069 - crf_viterbi_accuracy: 0.99 - ETA: 1:14 - loss: 0.0069 - crf_viterbi_accuracy: 0.99 - ETA: 1:13 - loss: 0.0069 - crf_viterbi_accuracy: 0.99 - ETA: 1:12 - loss: 0.0068 - crf_viterbi_accuracy: 0.99 - ETA: 1:10 - loss: 0.0069 - crf_viterbi_accuracy: 0.99 - ETA: 1:09 - loss: 0.0068 - crf_viterbi_accuracy: 0.99 - ETA: 1:08 - loss: 0.0067 - crf_viterbi_accuracy: 0.99 - ETA: 1:07 - loss: 0.0067 - crf_viterbi_accuracy: 0.99 - ETA: 1:05 - loss: 0.0067 - crf_viterbi_accuracy: 0.99 - ETA: 1:04 - loss: 0.0068 - crf_viterbi_accuracy: 0.99 - ETA: 1:03 - loss: 0.0068 - crf_viterbi_accuracy: 0.99 - ETA: 1:01 - loss: 0.0067 - crf_viterbi_accuracy: 0.99 - ETA: 1:00 - loss: 0.0067 - crf_viterbi_accuracy: 0.99 - ETA: 59s - loss: 0.0066 - crf_viterbi_accuracy: 0.9968 - ETA: 57s - loss: 0.0069 - crf_viterbi_accuracy: 0.996 - ETA: 56s - loss: 0.0071 - crf_viterbi_accuracy: 0.996 - ETA: 54s - loss: 0.0070 - crf_viterbi_accuracy: 0.996 - ETA: 53s - loss: 0.0069 - crf_viterbi_accuracy: 0.996 - ETA: 52s - loss: 0.0070 - crf_viterbi_accuracy: 0.996 - ETA: 51s - loss: 0.0070 - crf_viterbi_accuracy: 0.996 - ETA: 49s - loss: 0.0070 - crf_viterbi_accuracy: 0.996 - ETA: 48s - loss: 0.0069 - crf_viterbi_accuracy: 0.996 - ETA: 47s - loss: 0.0069 - crf_viterbi_accuracy: 0.996 - ETA: 45s - loss: 0.0068 - crf_viterbi_accuracy: 0.996 - ETA: 44s - loss: 0.0068 - crf_viterbi_accuracy: 0.996 - ETA: 43s - loss: 0.0067 - crf_viterbi_accuracy: 0.996 - ETA: 41s - loss: 0.0068 - crf_viterbi_accuracy: 0.996 - ETA: 40s - loss: 0.0068 - crf_viterbi_accuracy: 0.996 - ETA: 39s - loss: 0.0067 - crf_viterbi_accuracy: 0.996 - ETA: 37s - loss: 0.0067 - crf_viterbi_accuracy: 0.996 - ETA: 36s - loss: 0.0069 - crf_viterbi_accuracy: 0.996 - ETA: 35s - loss: 0.0068 - crf_viterbi_accuracy: 0.996 - ETA: 33s - loss: 0.0068 - crf_viterbi_accuracy: 0.996 - ETA: 32s - loss: 0.0068 - crf_viterbi_accuracy: 0.996 - ETA: 31s - loss: 0.0068 - crf_viterbi_accuracy: 0.996 - ETA: 30s - loss: 0.0067 - crf_viterbi_accuracy: 0.996 - ETA: 28s - loss: 0.0067 - crf_viterbi_accuracy: 0.996 - ETA: 27s - loss: 0.0067 - crf_viterbi_accuracy: 0.996 - ETA: 26s - loss: 0.0066 - crf_viterbi_accuracy: 0.996 - ETA: 24s - loss: 0.0066 - crf_viterbi_accuracy: 0.996 - ETA: 23s - loss: 0.0066 - crf_viterbi_accuracy: 0.996 - ETA: 22s - loss: 0.0066 - crf_viterbi_accuracy: 0.996 - ETA: 20s - loss: 0.0066 - crf_viterbi_accuracy: 0.996 - ETA: 19s - loss: 0.0066 - crf_viterbi_accuracy: 0.996 - ETA: 18s - loss: 0.0066 - crf_viterbi_accuracy: 0.996 - ETA: 17s - loss: 0.0065 - crf_viterbi_accuracy: 0.996 - ETA: 15s - loss: 0.0065 - crf_viterbi_accuracy: 0.996 - ETA: 14s - loss: 0.0065 - crf_viterbi_accuracy: 0.996 - ETA: 13s - loss: 0.0065 - crf_viterbi_accuracy: 0.996 - ETA: 11s - loss: 0.0065 - crf_viterbi_accuracy: 0.996 - ETA: 10s - loss: 0.0066 - crf_viterbi_accuracy: 0.996 - ETA: 9s - loss: 0.0066 - crf_viterbi_accuracy: 0.996 - ETA: 7s - loss: 0.0066 - crf_viterbi_accuracy: 0.99 - ETA: 6s - loss: 0.0066 - crf_viterbi_accuracy: 0.99 - ETA: 5s - loss: 0.0066 - crf_viterbi_accuracy: 0.99 - ETA: 3s - loss: 0.0066 - crf_viterbi_accuracy: 0.99 - ETA: 2s - loss: 0.0066 - crf_viterbi_accuracy: 0.99 - ETA: 1s - loss: 0.0066 - crf_viterbi_accuracy: 0.99 - ETA: 0s - loss: 0.0065 - crf_viterbi_accuracy: 0.99 - 109s 27ms/step - loss: 0.0065 - crf_viterbi_accuracy: 0.9969 - val_loss: 0.0073 - val_crf_viterbi_accuracy: 0.9964\n",
      "Epoch 7/50\n"
     ]
    },
    {
     "name": "stdout",
     "output_type": "stream",
     "text": [
      "4104/4104 [==============================] - ETA: 1:43 - loss: 0.0034 - crf_viterbi_accuracy: 0.99 - ETA: 1:43 - loss: 0.0049 - crf_viterbi_accuracy: 0.99 - ETA: 1:42 - loss: 0.0051 - crf_viterbi_accuracy: 0.99 - ETA: 1:40 - loss: 0.0051 - crf_viterbi_accuracy: 0.99 - ETA: 1:39 - loss: 0.0049 - crf_viterbi_accuracy: 0.99 - ETA: 1:39 - loss: 0.0049 - crf_viterbi_accuracy: 0.99 - ETA: 1:39 - loss: 0.0049 - crf_viterbi_accuracy: 0.99 - ETA: 1:38 - loss: 0.0047 - crf_viterbi_accuracy: 0.99 - ETA: 1:37 - loss: 0.0047 - crf_viterbi_accuracy: 0.99 - ETA: 1:36 - loss: 0.0049 - crf_viterbi_accuracy: 0.99 - ETA: 1:34 - loss: 0.0049 - crf_viterbi_accuracy: 0.99 - ETA: 1:33 - loss: 0.0048 - crf_viterbi_accuracy: 0.99 - ETA: 1:31 - loss: 0.0050 - crf_viterbi_accuracy: 0.99 - ETA: 1:30 - loss: 0.0049 - crf_viterbi_accuracy: 0.99 - ETA: 1:28 - loss: 0.0048 - crf_viterbi_accuracy: 0.99 - ETA: 1:27 - loss: 0.0050 - crf_viterbi_accuracy: 0.99 - ETA: 1:25 - loss: 0.0051 - crf_viterbi_accuracy: 0.99 - ETA: 1:24 - loss: 0.0051 - crf_viterbi_accuracy: 0.99 - ETA: 1:23 - loss: 0.0050 - crf_viterbi_accuracy: 0.99 - ETA: 1:21 - loss: 0.0051 - crf_viterbi_accuracy: 0.99 - ETA: 1:20 - loss: 0.0051 - crf_viterbi_accuracy: 0.99 - ETA: 1:18 - loss: 0.0050 - crf_viterbi_accuracy: 0.99 - ETA: 1:17 - loss: 0.0049 - crf_viterbi_accuracy: 0.99 - ETA: 1:16 - loss: 0.0048 - crf_viterbi_accuracy: 0.99 - ETA: 1:14 - loss: 0.0049 - crf_viterbi_accuracy: 0.99 - ETA: 1:13 - loss: 0.0050 - crf_viterbi_accuracy: 0.99 - ETA: 1:11 - loss: 0.0049 - crf_viterbi_accuracy: 0.99 - ETA: 1:10 - loss: 0.0049 - crf_viterbi_accuracy: 0.99 - ETA: 1:09 - loss: 0.0050 - crf_viterbi_accuracy: 0.99 - ETA: 1:08 - loss: 0.0050 - crf_viterbi_accuracy: 0.99 - ETA: 1:06 - loss: 0.0050 - crf_viterbi_accuracy: 0.99 - ETA: 1:05 - loss: 0.0049 - crf_viterbi_accuracy: 0.99 - ETA: 1:04 - loss: 0.0050 - crf_viterbi_accuracy: 0.99 - ETA: 1:03 - loss: 0.0049 - crf_viterbi_accuracy: 0.99 - ETA: 1:01 - loss: 0.0049 - crf_viterbi_accuracy: 0.99 - ETA: 1:00 - loss: 0.0050 - crf_viterbi_accuracy: 0.99 - ETA: 59s - loss: 0.0050 - crf_viterbi_accuracy: 0.9972 - ETA: 57s - loss: 0.0050 - crf_viterbi_accuracy: 0.997 - ETA: 56s - loss: 0.0050 - crf_viterbi_accuracy: 0.997 - ETA: 54s - loss: 0.0050 - crf_viterbi_accuracy: 0.997 - ETA: 53s - loss: 0.0050 - crf_viterbi_accuracy: 0.997 - ETA: 52s - loss: 0.0050 - crf_viterbi_accuracy: 0.997 - ETA: 51s - loss: 0.0049 - crf_viterbi_accuracy: 0.997 - ETA: 49s - loss: 0.0049 - crf_viterbi_accuracy: 0.997 - ETA: 48s - loss: 0.0048 - crf_viterbi_accuracy: 0.997 - ETA: 47s - loss: 0.0048 - crf_viterbi_accuracy: 0.997 - ETA: 45s - loss: 0.0048 - crf_viterbi_accuracy: 0.997 - ETA: 44s - loss: 0.0048 - crf_viterbi_accuracy: 0.997 - ETA: 43s - loss: 0.0050 - crf_viterbi_accuracy: 0.997 - ETA: 41s - loss: 0.0052 - crf_viterbi_accuracy: 0.997 - ETA: 40s - loss: 0.0052 - crf_viterbi_accuracy: 0.997 - ETA: 39s - loss: 0.0052 - crf_viterbi_accuracy: 0.997 - ETA: 37s - loss: 0.0052 - crf_viterbi_accuracy: 0.997 - ETA: 36s - loss: 0.0051 - crf_viterbi_accuracy: 0.997 - ETA: 35s - loss: 0.0052 - crf_viterbi_accuracy: 0.997 - ETA: 33s - loss: 0.0052 - crf_viterbi_accuracy: 0.997 - ETA: 32s - loss: 0.0052 - crf_viterbi_accuracy: 0.997 - ETA: 31s - loss: 0.0051 - crf_viterbi_accuracy: 0.997 - ETA: 29s - loss: 0.0051 - crf_viterbi_accuracy: 0.997 - ETA: 28s - loss: 0.0051 - crf_viterbi_accuracy: 0.997 - ETA: 27s - loss: 0.0051 - crf_viterbi_accuracy: 0.997 - ETA: 26s - loss: 0.0050 - crf_viterbi_accuracy: 0.997 - ETA: 24s - loss: 0.0051 - crf_viterbi_accuracy: 0.997 - ETA: 23s - loss: 0.0051 - crf_viterbi_accuracy: 0.997 - ETA: 22s - loss: 0.0051 - crf_viterbi_accuracy: 0.997 - ETA: 20s - loss: 0.0051 - crf_viterbi_accuracy: 0.997 - ETA: 19s - loss: 0.0051 - crf_viterbi_accuracy: 0.997 - ETA: 18s - loss: 0.0051 - crf_viterbi_accuracy: 0.997 - ETA: 16s - loss: 0.0051 - crf_viterbi_accuracy: 0.997 - ETA: 15s - loss: 0.0051 - crf_viterbi_accuracy: 0.997 - ETA: 14s - loss: 0.0050 - crf_viterbi_accuracy: 0.997 - ETA: 13s - loss: 0.0050 - crf_viterbi_accuracy: 0.997 - ETA: 11s - loss: 0.0050 - crf_viterbi_accuracy: 0.997 - ETA: 10s - loss: 0.0049 - crf_viterbi_accuracy: 0.997 - ETA: 9s - loss: 0.0050 - crf_viterbi_accuracy: 0.997 - ETA: 7s - loss: 0.0049 - crf_viterbi_accuracy: 0.99 - ETA: 6s - loss: 0.0050 - crf_viterbi_accuracy: 0.99 - ETA: 5s - loss: 0.0050 - crf_viterbi_accuracy: 0.99 - ETA: 4s - loss: 0.0050 - crf_viterbi_accuracy: 0.99 - ETA: 2s - loss: 0.0050 - crf_viterbi_accuracy: 0.99 - ETA: 1s - loss: 0.0050 - crf_viterbi_accuracy: 0.99 - ETA: 0s - loss: 0.0049 - crf_viterbi_accuracy: 0.99 - 110s 27ms/step - loss: 0.0049 - crf_viterbi_accuracy: 0.9972 - val_loss: 0.0058 - val_crf_viterbi_accuracy: 0.9966\n",
      "Epoch 8/50\n"
     ]
    },
    {
     "name": "stdout",
     "output_type": "stream",
     "text": [
      "4104/4104 [==============================] - ETA: 1:38 - loss: 0.0038 - crf_viterbi_accuracy: 0.99 - ETA: 1:39 - loss: 0.0029 - crf_viterbi_accuracy: 0.99 - ETA: 1:39 - loss: 0.0028 - crf_viterbi_accuracy: 0.99 - ETA: 1:37 - loss: 0.0032 - crf_viterbi_accuracy: 0.99 - ETA: 1:37 - loss: 0.0033 - crf_viterbi_accuracy: 0.99 - ETA: 1:37 - loss: 0.0032 - crf_viterbi_accuracy: 0.99 - ETA: 1:35 - loss: 0.0029 - crf_viterbi_accuracy: 0.99 - ETA: 1:34 - loss: 0.0032 - crf_viterbi_accuracy: 0.99 - ETA: 1:32 - loss: 0.0031 - crf_viterbi_accuracy: 0.99 - ETA: 1:30 - loss: 0.0028 - crf_viterbi_accuracy: 0.99 - ETA: 1:28 - loss: 0.0038 - crf_viterbi_accuracy: 0.99 - ETA: 1:27 - loss: 0.0038 - crf_viterbi_accuracy: 0.99 - ETA: 1:26 - loss: 0.0038 - crf_viterbi_accuracy: 0.99 - ETA: 1:24 - loss: 0.0037 - crf_viterbi_accuracy: 0.99 - ETA: 1:23 - loss: 0.0037 - crf_viterbi_accuracy: 0.99 - ETA: 1:22 - loss: 0.0038 - crf_viterbi_accuracy: 0.99 - ETA: 1:22 - loss: 0.0038 - crf_viterbi_accuracy: 0.99 - ETA: 1:21 - loss: 0.0041 - crf_viterbi_accuracy: 0.99 - ETA: 1:20 - loss: 0.0041 - crf_viterbi_accuracy: 0.99 - ETA: 1:19 - loss: 0.0039 - crf_viterbi_accuracy: 0.99 - ETA: 1:18 - loss: 0.0039 - crf_viterbi_accuracy: 0.99 - ETA: 1:16 - loss: 0.0038 - crf_viterbi_accuracy: 0.99 - ETA: 1:15 - loss: 0.0039 - crf_viterbi_accuracy: 0.99 - ETA: 1:14 - loss: 0.0040 - crf_viterbi_accuracy: 0.99 - ETA: 1:13 - loss: 0.0040 - crf_viterbi_accuracy: 0.99 - ETA: 1:11 - loss: 0.0039 - crf_viterbi_accuracy: 0.99 - ETA: 1:10 - loss: 0.0039 - crf_viterbi_accuracy: 0.99 - ETA: 1:09 - loss: 0.0037 - crf_viterbi_accuracy: 0.99 - ETA: 1:07 - loss: 0.0038 - crf_viterbi_accuracy: 0.99 - ETA: 1:06 - loss: 0.0037 - crf_viterbi_accuracy: 0.99 - ETA: 1:05 - loss: 0.0037 - crf_viterbi_accuracy: 0.99 - ETA: 1:03 - loss: 0.0036 - crf_viterbi_accuracy: 0.99 - ETA: 1:02 - loss: 0.0036 - crf_viterbi_accuracy: 0.99 - ETA: 1:01 - loss: 0.0035 - crf_viterbi_accuracy: 0.99 - ETA: 1:00 - loss: 0.0035 - crf_viterbi_accuracy: 0.99 - ETA: 58s - loss: 0.0034 - crf_viterbi_accuracy: 0.9978 - ETA: 57s - loss: 0.0035 - crf_viterbi_accuracy: 0.997 - ETA: 56s - loss: 0.0037 - crf_viterbi_accuracy: 0.997 - ETA: 55s - loss: 0.0037 - crf_viterbi_accuracy: 0.997 - ETA: 54s - loss: 0.0038 - crf_viterbi_accuracy: 0.997 - ETA: 52s - loss: 0.0037 - crf_viterbi_accuracy: 0.997 - ETA: 51s - loss: 0.0037 - crf_viterbi_accuracy: 0.997 - ETA: 50s - loss: 0.0037 - crf_viterbi_accuracy: 0.997 - ETA: 48s - loss: 0.0037 - crf_viterbi_accuracy: 0.997 - ETA: 47s - loss: 0.0037 - crf_viterbi_accuracy: 0.997 - ETA: 46s - loss: 0.0036 - crf_viterbi_accuracy: 0.997 - ETA: 45s - loss: 0.0036 - crf_viterbi_accuracy: 0.997 - ETA: 43s - loss: 0.0036 - crf_viterbi_accuracy: 0.997 - ETA: 42s - loss: 0.0036 - crf_viterbi_accuracy: 0.997 - ETA: 41s - loss: 0.0036 - crf_viterbi_accuracy: 0.997 - ETA: 39s - loss: 0.0036 - crf_viterbi_accuracy: 0.997 - ETA: 38s - loss: 0.0035 - crf_viterbi_accuracy: 0.997 - ETA: 37s - loss: 0.0035 - crf_viterbi_accuracy: 0.997 - ETA: 36s - loss: 0.0035 - crf_viterbi_accuracy: 0.997 - ETA: 34s - loss: 0.0035 - crf_viterbi_accuracy: 0.997 - ETA: 33s - loss: 0.0035 - crf_viterbi_accuracy: 0.997 - ETA: 32s - loss: 0.0035 - crf_viterbi_accuracy: 0.997 - ETA: 30s - loss: 0.0035 - crf_viterbi_accuracy: 0.997 - ETA: 29s - loss: 0.0036 - crf_viterbi_accuracy: 0.997 - ETA: 28s - loss: 0.0036 - crf_viterbi_accuracy: 0.997 - ETA: 27s - loss: 0.0036 - crf_viterbi_accuracy: 0.997 - ETA: 25s - loss: 0.0035 - crf_viterbi_accuracy: 0.997 - ETA: 24s - loss: 0.0035 - crf_viterbi_accuracy: 0.997 - ETA: 23s - loss: 0.0035 - crf_viterbi_accuracy: 0.997 - ETA: 22s - loss: 0.0035 - crf_viterbi_accuracy: 0.997 - ETA: 20s - loss: 0.0035 - crf_viterbi_accuracy: 0.997 - ETA: 19s - loss: 0.0035 - crf_viterbi_accuracy: 0.997 - ETA: 18s - loss: 0.0035 - crf_viterbi_accuracy: 0.997 - ETA: 16s - loss: 0.0034 - crf_viterbi_accuracy: 0.997 - ETA: 15s - loss: 0.0034 - crf_viterbi_accuracy: 0.997 - ETA: 14s - loss: 0.0034 - crf_viterbi_accuracy: 0.997 - ETA: 13s - loss: 0.0033 - crf_viterbi_accuracy: 0.997 - ETA: 11s - loss: 0.0033 - crf_viterbi_accuracy: 0.997 - ETA: 10s - loss: 0.0033 - crf_viterbi_accuracy: 0.997 - ETA: 9s - loss: 0.0033 - crf_viterbi_accuracy: 0.997 - ETA: 7s - loss: 0.0034 - crf_viterbi_accuracy: 0.99 - ETA: 6s - loss: 0.0034 - crf_viterbi_accuracy: 0.99 - ETA: 5s - loss: 0.0033 - crf_viterbi_accuracy: 0.99 - ETA: 3s - loss: 0.0034 - crf_viterbi_accuracy: 0.99 - ETA: 2s - loss: 0.0033 - crf_viterbi_accuracy: 0.99 - ETA: 1s - loss: 0.0034 - crf_viterbi_accuracy: 0.99 - ETA: 0s - loss: 0.0034 - crf_viterbi_accuracy: 0.99 - 109s 27ms/step - loss: 0.0034 - crf_viterbi_accuracy: 0.9977 - val_loss: 0.0058 - val_crf_viterbi_accuracy: 0.9962\n",
      "Epoch 9/50\n"
     ]
    },
    {
     "name": "stdout",
     "output_type": "stream",
     "text": [
      "4104/4104 [==============================] - ETA: 1:47 - loss: 0.0021 - crf_viterbi_accuracy: 0.99 - ETA: 1:49 - loss: 0.0014 - crf_viterbi_accuracy: 0.99 - ETA: 1:48 - loss: 0.0015 - crf_viterbi_accuracy: 0.99 - ETA: 1:46 - loss: 0.0012 - crf_viterbi_accuracy: 0.99 - ETA: 1:44 - loss: 0.0013 - crf_viterbi_accuracy: 0.99 - ETA: 1:42 - loss: 0.0011 - crf_viterbi_accuracy: 0.99 - ETA: 1:39 - loss: 0.0012 - crf_viterbi_accuracy: 0.99 - ETA: 1:37 - loss: 0.0011 - crf_viterbi_accuracy: 0.99 - ETA: 1:36 - loss: 0.0010 - crf_viterbi_accuracy: 0.99 - ETA: 1:33 - loss: 0.0012 - crf_viterbi_accuracy: 0.99 - ETA: 1:32 - loss: 0.0018 - crf_viterbi_accuracy: 0.99 - ETA: 1:30 - loss: 0.0020 - crf_viterbi_accuracy: 0.99 - ETA: 1:29 - loss: 0.0020 - crf_viterbi_accuracy: 0.99 - ETA: 1:27 - loss: 0.0019 - crf_viterbi_accuracy: 0.99 - ETA: 1:26 - loss: 0.0021 - crf_viterbi_accuracy: 0.99 - ETA: 1:24 - loss: 0.0020 - crf_viterbi_accuracy: 0.99 - ETA: 1:23 - loss: 0.0021 - crf_viterbi_accuracy: 0.99 - ETA: 1:21 - loss: 0.0022 - crf_viterbi_accuracy: 0.99 - ETA: 1:20 - loss: 0.0021 - crf_viterbi_accuracy: 0.99 - ETA: 1:19 - loss: 0.0019 - crf_viterbi_accuracy: 0.99 - ETA: 1:17 - loss: 0.0019 - crf_viterbi_accuracy: 0.99 - ETA: 1:16 - loss: 0.0019 - crf_viterbi_accuracy: 0.99 - ETA: 1:15 - loss: 0.0018 - crf_viterbi_accuracy: 0.99 - ETA: 1:14 - loss: 0.0019 - crf_viterbi_accuracy: 0.99 - ETA: 1:13 - loss: 0.0019 - crf_viterbi_accuracy: 0.99 - ETA: 1:12 - loss: 0.0020 - crf_viterbi_accuracy: 0.99 - ETA: 1:11 - loss: 0.0019 - crf_viterbi_accuracy: 0.99 - ETA: 1:09 - loss: 0.0019 - crf_viterbi_accuracy: 0.99 - ETA: 1:08 - loss: 0.0019 - crf_viterbi_accuracy: 0.99 - ETA: 1:07 - loss: 0.0019 - crf_viterbi_accuracy: 0.99 - ETA: 1:05 - loss: 0.0019 - crf_viterbi_accuracy: 0.99 - ETA: 1:04 - loss: 0.0019 - crf_viterbi_accuracy: 0.99 - ETA: 1:03 - loss: 0.0019 - crf_viterbi_accuracy: 0.99 - ETA: 1:01 - loss: 0.0019 - crf_viterbi_accuracy: 0.99 - ETA: 1:00 - loss: 0.0019 - crf_viterbi_accuracy: 0.99 - ETA: 59s - loss: 0.0018 - crf_viterbi_accuracy: 0.9981 - ETA: 57s - loss: 0.0018 - crf_viterbi_accuracy: 0.998 - ETA: 56s - loss: 0.0017 - crf_viterbi_accuracy: 0.998 - ETA: 55s - loss: 0.0017 - crf_viterbi_accuracy: 0.998 - ETA: 53s - loss: 0.0017 - crf_viterbi_accuracy: 0.998 - ETA: 52s - loss: 0.0018 - crf_viterbi_accuracy: 0.998 - ETA: 51s - loss: 0.0017 - crf_viterbi_accuracy: 0.998 - ETA: 50s - loss: 0.0018 - crf_viterbi_accuracy: 0.998 - ETA: 48s - loss: 0.0018 - crf_viterbi_accuracy: 0.998 - ETA: 47s - loss: 0.0017 - crf_viterbi_accuracy: 0.998 - ETA: 46s - loss: 0.0017 - crf_viterbi_accuracy: 0.998 - ETA: 45s - loss: 0.0019 - crf_viterbi_accuracy: 0.998 - ETA: 43s - loss: 0.0019 - crf_viterbi_accuracy: 0.998 - ETA: 42s - loss: 0.0018 - crf_viterbi_accuracy: 0.998 - ETA: 41s - loss: 0.0018 - crf_viterbi_accuracy: 0.998 - ETA: 39s - loss: 0.0018 - crf_viterbi_accuracy: 0.998 - ETA: 38s - loss: 0.0018 - crf_viterbi_accuracy: 0.998 - ETA: 37s - loss: 0.0018 - crf_viterbi_accuracy: 0.998 - ETA: 36s - loss: 0.0019 - crf_viterbi_accuracy: 0.998 - ETA: 34s - loss: 0.0019 - crf_viterbi_accuracy: 0.998 - ETA: 33s - loss: 0.0020 - crf_viterbi_accuracy: 0.998 - ETA: 32s - loss: 0.0020 - crf_viterbi_accuracy: 0.998 - ETA: 31s - loss: 0.0020 - crf_viterbi_accuracy: 0.998 - ETA: 29s - loss: 0.0020 - crf_viterbi_accuracy: 0.998 - ETA: 28s - loss: 0.0020 - crf_viterbi_accuracy: 0.998 - ETA: 27s - loss: 0.0020 - crf_viterbi_accuracy: 0.998 - ETA: 25s - loss: 0.0020 - crf_viterbi_accuracy: 0.998 - ETA: 24s - loss: 0.0020 - crf_viterbi_accuracy: 0.998 - ETA: 23s - loss: 0.0020 - crf_viterbi_accuracy: 0.998 - ETA: 21s - loss: 0.0020 - crf_viterbi_accuracy: 0.998 - ETA: 20s - loss: 0.0020 - crf_viterbi_accuracy: 0.998 - ETA: 19s - loss: 0.0020 - crf_viterbi_accuracy: 0.998 - ETA: 18s - loss: 0.0020 - crf_viterbi_accuracy: 0.998 - ETA: 16s - loss: 0.0020 - crf_viterbi_accuracy: 0.998 - ETA: 15s - loss: 0.0020 - crf_viterbi_accuracy: 0.998 - ETA: 14s - loss: 0.0020 - crf_viterbi_accuracy: 0.998 - ETA: 12s - loss: 0.0020 - crf_viterbi_accuracy: 0.998 - ETA: 11s - loss: 0.0020 - crf_viterbi_accuracy: 0.998 - ETA: 10s - loss: 0.0020 - crf_viterbi_accuracy: 0.998 - ETA: 9s - loss: 0.0020 - crf_viterbi_accuracy: 0.998 - ETA: 7s - loss: 0.0020 - crf_viterbi_accuracy: 0.99 - ETA: 6s - loss: 0.0020 - crf_viterbi_accuracy: 0.99 - ETA: 5s - loss: 0.0020 - crf_viterbi_accuracy: 0.99 - ETA: 3s - loss: 0.0020 - crf_viterbi_accuracy: 0.99 - ETA: 2s - loss: 0.0020 - crf_viterbi_accuracy: 0.99 - ETA: 1s - loss: 0.0020 - crf_viterbi_accuracy: 0.99 - ETA: 0s - loss: 0.0020 - crf_viterbi_accuracy: 0.99 - 109s 26ms/step - loss: 0.0020 - crf_viterbi_accuracy: 0.9980 - val_loss: 0.0051 - val_crf_viterbi_accuracy: 0.9965\n",
      "Epoch 10/50\n"
     ]
    },
    {
     "name": "stdout",
     "output_type": "stream",
     "text": [
      "4104/4104 [==============================] - ETA: 1:38 - loss: 0.0033 - crf_viterbi_accuracy: 0.99 - ETA: 1:37 - loss: 0.0019 - crf_viterbi_accuracy: 0.99 - ETA: 1:36 - loss: 0.0016 - crf_viterbi_accuracy: 0.99 - ETA: 1:36 - loss: 0.0015 - crf_viterbi_accuracy: 0.99 - ETA: 1:36 - loss: 0.0013 - crf_viterbi_accuracy: 0.99 - ETA: 1:34 - loss: 0.0010 - crf_viterbi_accuracy: 0.99 - ETA: 1:32 - loss: 8.5335e-04 - crf_viterbi_accuracy: 0.99 - ETA: 1:32 - loss: 0.0015 - crf_viterbi_accuracy: 0.9983   - ETA: 1:30 - loss: 0.0017 - crf_viterbi_accuracy: 0.99 - ETA: 1:29 - loss: 0.0018 - crf_viterbi_accuracy: 0.99 - ETA: 1:29 - loss: 0.0017 - crf_viterbi_accuracy: 0.99 - ETA: 1:28 - loss: 0.0016 - crf_viterbi_accuracy: 0.99 - ETA: 1:27 - loss: 0.0017 - crf_viterbi_accuracy: 0.99 - ETA: 1:27 - loss: 0.0016 - crf_viterbi_accuracy: 0.99 - ETA: 1:26 - loss: 0.0016 - crf_viterbi_accuracy: 0.99 - ETA: 1:25 - loss: 0.0016 - crf_viterbi_accuracy: 0.99 - ETA: 1:23 - loss: 0.0015 - crf_viterbi_accuracy: 0.99 - ETA: 1:22 - loss: 0.0014 - crf_viterbi_accuracy: 0.99 - ETA: 1:21 - loss: 0.0014 - crf_viterbi_accuracy: 0.99 - ETA: 1:20 - loss: 0.0012 - crf_viterbi_accuracy: 0.99 - ETA: 1:19 - loss: 0.0011 - crf_viterbi_accuracy: 0.99 - ETA: 1:18 - loss: 0.0010 - crf_viterbi_accuracy: 0.99 - ETA: 1:16 - loss: 0.0012 - crf_viterbi_accuracy: 0.99 - ETA: 1:15 - loss: 0.0014 - crf_viterbi_accuracy: 0.99 - ETA: 1:14 - loss: 0.0014 - crf_viterbi_accuracy: 0.99 - ETA: 1:12 - loss: 0.0013 - crf_viterbi_accuracy: 0.99 - ETA: 1:11 - loss: 0.0013 - crf_viterbi_accuracy: 0.99 - ETA: 1:10 - loss: 0.0012 - crf_viterbi_accuracy: 0.99 - ETA: 1:09 - loss: 0.0011 - crf_viterbi_accuracy: 0.99 - ETA: 1:07 - loss: 0.0011 - crf_viterbi_accuracy: 0.99 - ETA: 1:06 - loss: 0.0011 - crf_viterbi_accuracy: 0.99 - ETA: 1:05 - loss: 0.0010 - crf_viterbi_accuracy: 0.99 - ETA: 1:04 - loss: 0.0010 - crf_viterbi_accuracy: 0.99 - ETA: 1:02 - loss: 9.7337e-04 - crf_viterbi_accuracy: 0.99 - ETA: 1:01 - loss: 9.7683e-04 - crf_viterbi_accuracy: 0.99 - ETA: 1:00 - loss: 9.5124e-04 - crf_viterbi_accuracy: 0.99 - ETA: 59s - loss: 9.0422e-04 - crf_viterbi_accuracy: 0.9984 - ETA: 57s - loss: 8.4713e-04 - crf_viterbi_accuracy: 0.998 - ETA: 56s - loss: 8.2481e-04 - crf_viterbi_accuracy: 0.998 - ETA: 55s - loss: 8.2871e-04 - crf_viterbi_accuracy: 0.998 - ETA: 54s - loss: 8.1762e-04 - crf_viterbi_accuracy: 0.998 - ETA: 52s - loss: 7.6885e-04 - crf_viterbi_accuracy: 0.998 - ETA: 51s - loss: 7.8513e-04 - crf_viterbi_accuracy: 0.998 - ETA: 49s - loss: 8.0794e-04 - crf_viterbi_accuracy: 0.998 - ETA: 48s - loss: 7.7710e-04 - crf_viterbi_accuracy: 0.998 - ETA: 47s - loss: 7.5628e-04 - crf_viterbi_accuracy: 0.998 - ETA: 45s - loss: 9.2206e-04 - crf_viterbi_accuracy: 0.998 - ETA: 44s - loss: 9.3212e-04 - crf_viterbi_accuracy: 0.998 - ETA: 43s - loss: 8.8215e-04 - crf_viterbi_accuracy: 0.998 - ETA: 41s - loss: 8.2902e-04 - crf_viterbi_accuracy: 0.998 - ETA: 40s - loss: 8.4516e-04 - crf_viterbi_accuracy: 0.998 - ETA: 39s - loss: 8.1056e-04 - crf_viterbi_accuracy: 0.998 - ETA: 37s - loss: 7.8954e-04 - crf_viterbi_accuracy: 0.998 - ETA: 36s - loss: 7.5931e-04 - crf_viterbi_accuracy: 0.998 - ETA: 35s - loss: 7.4531e-04 - crf_viterbi_accuracy: 0.998 - ETA: 34s - loss: 7.2984e-04 - crf_viterbi_accuracy: 0.998 - ETA: 32s - loss: 7.6680e-04 - crf_viterbi_accuracy: 0.998 - ETA: 31s - loss: 7.8968e-04 - crf_viterbi_accuracy: 0.998 - ETA: 30s - loss: 7.9844e-04 - crf_viterbi_accuracy: 0.998 - ETA: 28s - loss: 7.9278e-04 - crf_viterbi_accuracy: 0.998 - ETA: 27s - loss: 7.6145e-04 - crf_viterbi_accuracy: 0.998 - ETA: 26s - loss: 8.0596e-04 - crf_viterbi_accuracy: 0.998 - ETA: 24s - loss: 8.1877e-04 - crf_viterbi_accuracy: 0.998 - ETA: 23s - loss: 7.8867e-04 - crf_viterbi_accuracy: 0.998 - ETA: 22s - loss: 7.6600e-04 - crf_viterbi_accuracy: 0.998 - ETA: 20s - loss: 7.3007e-04 - crf_viterbi_accuracy: 0.998 - ETA: 19s - loss: 7.1936e-04 - crf_viterbi_accuracy: 0.998 - ETA: 18s - loss: 7.2388e-04 - crf_viterbi_accuracy: 0.998 - ETA: 17s - loss: 7.4758e-04 - crf_viterbi_accuracy: 0.998 - ETA: 15s - loss: 7.2823e-04 - crf_viterbi_accuracy: 0.998 - ETA: 14s - loss: 7.1936e-04 - crf_viterbi_accuracy: 0.998 - ETA: 13s - loss: 7.2837e-04 - crf_viterbi_accuracy: 0.998 - ETA: 11s - loss: 7.2095e-04 - crf_viterbi_accuracy: 0.998 - ETA: 10s - loss: 7.4474e-04 - crf_viterbi_accuracy: 0.998 - ETA: 9s - loss: 7.4692e-04 - crf_viterbi_accuracy: 0.998 - ETA: 7s - loss: 7.3142e-04 - crf_viterbi_accuracy: 0.99 - ETA: 6s - loss: 7.4064e-04 - crf_viterbi_accuracy: 0.99 - ETA: 5s - loss: 7.8861e-04 - crf_viterbi_accuracy: 0.99 - ETA: 4s - loss: 8.0478e-04 - crf_viterbi_accuracy: 0.99 - ETA: 2s - loss: 8.0432e-04 - crf_viterbi_accuracy: 0.99 - ETA: 1s - loss: 7.9017e-04 - crf_viterbi_accuracy: 0.99 - ETA: 0s - loss: 7.5073e-04 - crf_viterbi_accuracy: 0.99 - 110s 27ms/step - loss: 7.4728e-04 - crf_viterbi_accuracy: 0.9983 - val_loss: 0.0037 - val_crf_viterbi_accuracy: 0.9966\n",
      "Epoch 11/50\n"
     ]
    },
    {
     "name": "stdout",
     "output_type": "stream",
     "text": [
      "4104/4104 [==============================] - ETA: 1:36 - loss: -1.9930e-04 - crf_viterbi_accuracy: 0.998 - ETA: 1:38 - loss: -4.1846e-04 - crf_viterbi_accuracy: 0.998 - ETA: 1:36 - loss: -5.8641e-04 - crf_viterbi_accuracy: 0.998 - ETA: 1:37 - loss: -4.1933e-04 - crf_viterbi_accuracy: 0.998 - ETA: 1:36 - loss: -5.0307e-04 - crf_viterbi_accuracy: 0.998 - ETA: 1:35 - loss: -5.7302e-04 - crf_viterbi_accuracy: 0.998 - ETA: 1:34 - loss: -6.8495e-04 - crf_viterbi_accuracy: 0.998 - ETA: 1:33 - loss: -7.2641e-04 - crf_viterbi_accuracy: 0.998 - ETA: 1:32 - loss: -7.3900e-04 - crf_viterbi_accuracy: 0.998 - ETA: 1:31 - loss: -7.3059e-04 - crf_viterbi_accuracy: 0.998 - ETA: 1:30 - loss: -6.1524e-04 - crf_viterbi_accuracy: 0.998 - ETA: 1:30 - loss: -6.8102e-04 - crf_viterbi_accuracy: 0.998 - ETA: 1:28 - loss: -7.6878e-04 - crf_viterbi_accuracy: 0.998 - ETA: 1:27 - loss: -7.3511e-04 - crf_viterbi_accuracy: 0.998 - ETA: 1:26 - loss: -6.6978e-04 - crf_viterbi_accuracy: 0.998 - ETA: 1:24 - loss: -5.3249e-04 - crf_viterbi_accuracy: 0.998 - ETA: 1:23 - loss: -4.5570e-04 - crf_viterbi_accuracy: 0.998 - ETA: 1:21 - loss: -3.5910e-04 - crf_viterbi_accuracy: 0.998 - ETA: 1:20 - loss: -4.2174e-04 - crf_viterbi_accuracy: 0.998 - ETA: 1:19 - loss: -4.4898e-04 - crf_viterbi_accuracy: 0.998 - ETA: 1:18 - loss: -4.6977e-04 - crf_viterbi_accuracy: 0.998 - ETA: 1:17 - loss: -5.1150e-04 - crf_viterbi_accuracy: 0.998 - ETA: 1:15 - loss: -4.8332e-04 - crf_viterbi_accuracy: 0.998 - ETA: 1:14 - loss: -5.0306e-04 - crf_viterbi_accuracy: 0.998 - ETA: 1:13 - loss: -5.7484e-04 - crf_viterbi_accuracy: 0.998 - ETA: 1:12 - loss: -5.4913e-04 - crf_viterbi_accuracy: 0.998 - ETA: 1:11 - loss: -5.5214e-04 - crf_viterbi_accuracy: 0.998 - ETA: 1:09 - loss: -4.9377e-04 - crf_viterbi_accuracy: 0.998 - ETA: 1:08 - loss: -5.3196e-04 - crf_viterbi_accuracy: 0.998 - ETA: 1:07 - loss: -5.9146e-04 - crf_viterbi_accuracy: 0.998 - ETA: 1:05 - loss: -6.2533e-04 - crf_viterbi_accuracy: 0.998 - ETA: 1:04 - loss: -4.3559e-04 - crf_viterbi_accuracy: 0.998 - ETA: 1:03 - loss: -1.9253e-04 - crf_viterbi_accuracy: 0.998 - ETA: 1:01 - loss: -1.7782e-04 - crf_viterbi_accuracy: 0.998 - ETA: 1:00 - loss: -1.7168e-04 - crf_viterbi_accuracy: 0.998 - ETA: 59s - loss: -9.0892e-05 - crf_viterbi_accuracy: 0.998 - ETA: 57s - loss: -1.2468e-04 - crf_viterbi_accuracy: 0.99 - ETA: 56s - loss: -1.7858e-04 - crf_viterbi_accuracy: 0.99 - ETA: 55s - loss: -1.8486e-04 - crf_viterbi_accuracy: 0.99 - ETA: 53s - loss: -2.2469e-04 - crf_viterbi_accuracy: 0.99 - ETA: 52s - loss: -2.2591e-04 - crf_viterbi_accuracy: 0.99 - ETA: 51s - loss: -2.2066e-04 - crf_viterbi_accuracy: 0.99 - ETA: 50s - loss: -2.3287e-04 - crf_viterbi_accuracy: 0.99 - ETA: 48s - loss: -2.3954e-04 - crf_viterbi_accuracy: 0.99 - ETA: 47s - loss: -2.3763e-04 - crf_viterbi_accuracy: 0.99 - ETA: 46s - loss: -2.7029e-04 - crf_viterbi_accuracy: 0.99 - ETA: 45s - loss: -3.0719e-04 - crf_viterbi_accuracy: 0.99 - ETA: 43s - loss: -3.3845e-04 - crf_viterbi_accuracy: 0.99 - ETA: 42s - loss: -3.6393e-04 - crf_viterbi_accuracy: 0.99 - ETA: 41s - loss: -3.4682e-04 - crf_viterbi_accuracy: 0.99 - ETA: 40s - loss: -3.2235e-04 - crf_viterbi_accuracy: 0.99 - ETA: 38s - loss: -3.5009e-04 - crf_viterbi_accuracy: 0.99 - ETA: 37s - loss: -3.3235e-04 - crf_viterbi_accuracy: 0.99 - ETA: 36s - loss: -3.3840e-04 - crf_viterbi_accuracy: 0.99 - ETA: 35s - loss: -3.5263e-04 - crf_viterbi_accuracy: 0.99 - ETA: 33s - loss: -3.6058e-04 - crf_viterbi_accuracy: 0.99 - ETA: 32s - loss: -2.6875e-04 - crf_viterbi_accuracy: 0.99 - ETA: 31s - loss: -2.3822e-04 - crf_viterbi_accuracy: 0.99 - ETA: 29s - loss: -2.3982e-04 - crf_viterbi_accuracy: 0.99 - ETA: 28s - loss: -2.4597e-04 - crf_viterbi_accuracy: 0.99 - ETA: 27s - loss: -2.7674e-04 - crf_viterbi_accuracy: 0.99 - ETA: 25s - loss: -2.9517e-04 - crf_viterbi_accuracy: 0.99 - ETA: 24s - loss: -3.1634e-04 - crf_viterbi_accuracy: 0.99 - ETA: 23s - loss: -3.3937e-04 - crf_viterbi_accuracy: 0.99 - ETA: 22s - loss: -2.7211e-04 - crf_viterbi_accuracy: 0.99 - ETA: 20s - loss: -2.7727e-04 - crf_viterbi_accuracy: 0.99 - ETA: 19s - loss: -3.0854e-04 - crf_viterbi_accuracy: 0.99 - ETA: 18s - loss: -2.9349e-04 - crf_viterbi_accuracy: 0.99 - ETA: 16s - loss: -3.0890e-04 - crf_viterbi_accuracy: 0.99 - ETA: 15s - loss: -3.4941e-04 - crf_viterbi_accuracy: 0.99 - ETA: 14s - loss: -3.5011e-04 - crf_viterbi_accuracy: 0.99 - ETA: 13s - loss: -3.4811e-04 - crf_viterbi_accuracy: 0.99 - ETA: 11s - loss: -3.0946e-04 - crf_viterbi_accuracy: 0.99 - ETA: 10s - loss: -2.9282e-04 - crf_viterbi_accuracy: 0.99 - ETA: 9s - loss: -2.8460e-04 - crf_viterbi_accuracy: 0.9985 - ETA: 7s - loss: -2.7556e-04 - crf_viterbi_accuracy: 0.998 - ETA: 6s - loss: -2.8525e-04 - crf_viterbi_accuracy: 0.998 - ETA: 5s - loss: -3.0095e-04 - crf_viterbi_accuracy: 0.998 - ETA: 3s - loss: -3.1862e-04 - crf_viterbi_accuracy: 0.998 - ETA: 2s - loss: -3.0720e-04 - crf_viterbi_accuracy: 0.998 - ETA: 1s - loss: -2.6707e-04 - crf_viterbi_accuracy: 0.998 - ETA: 0s - loss: -2.8405e-04 - crf_viterbi_accuracy: 0.998 - 109s 27ms/step - loss: -2.8708e-04 - crf_viterbi_accuracy: 0.9985 - val_loss: 0.0035 - val_crf_viterbi_accuracy: 0.9967\n",
      "Epoch 12/50\n"
     ]
    },
    {
     "name": "stdout",
     "output_type": "stream",
     "text": [
      "4104/4104 [==============================] - ETA: 1:43 - loss: -0.0024 - crf_viterbi_accuracy: 0.998 - ETA: 1:40 - loss: -0.0016 - crf_viterbi_accuracy: 0.998 - ETA: 1:40 - loss: -0.0018 - crf_viterbi_accuracy: 0.999 - ETA: 1:41 - loss: -0.0014 - crf_viterbi_accuracy: 0.998 - ETA: 1:41 - loss: -0.0013 - crf_viterbi_accuracy: 0.998 - ETA: 1:39 - loss: -0.0014 - crf_viterbi_accuracy: 0.998 - ETA: 1:39 - loss: -0.0015 - crf_viterbi_accuracy: 0.998 - ETA: 1:38 - loss: -0.0013 - crf_viterbi_accuracy: 0.998 - ETA: 1:36 - loss: -0.0012 - crf_viterbi_accuracy: 0.998 - ETA: 1:36 - loss: -0.0013 - crf_viterbi_accuracy: 0.998 - ETA: 1:35 - loss: -0.0013 - crf_viterbi_accuracy: 0.998 - ETA: 1:34 - loss: -0.0013 - crf_viterbi_accuracy: 0.998 - ETA: 1:32 - loss: -0.0014 - crf_viterbi_accuracy: 0.998 - ETA: 1:30 - loss: -0.0013 - crf_viterbi_accuracy: 0.998 - ETA: 1:29 - loss: -0.0015 - crf_viterbi_accuracy: 0.998 - ETA: 1:28 - loss: -0.0012 - crf_viterbi_accuracy: 0.998 - ETA: 1:26 - loss: -0.0011 - crf_viterbi_accuracy: 0.998 - ETA: 1:25 - loss: -0.0012 - crf_viterbi_accuracy: 0.998 - ETA: 1:24 - loss: -0.0012 - crf_viterbi_accuracy: 0.998 - ETA: 1:22 - loss: -0.0013 - crf_viterbi_accuracy: 0.998 - ETA: 1:20 - loss: -0.0013 - crf_viterbi_accuracy: 0.998 - ETA: 1:19 - loss: -0.0014 - crf_viterbi_accuracy: 0.998 - ETA: 1:18 - loss: -0.0015 - crf_viterbi_accuracy: 0.998 - ETA: 1:17 - loss: -0.0015 - crf_viterbi_accuracy: 0.998 - ETA: 1:16 - loss: -0.0016 - crf_viterbi_accuracy: 0.998 - ETA: 1:14 - loss: -0.0015 - crf_viterbi_accuracy: 0.998 - ETA: 1:13 - loss: -0.0015 - crf_viterbi_accuracy: 0.998 - ETA: 1:11 - loss: -0.0015 - crf_viterbi_accuracy: 0.998 - ETA: 1:10 - loss: -0.0015 - crf_viterbi_accuracy: 0.998 - ETA: 1:09 - loss: -0.0014 - crf_viterbi_accuracy: 0.998 - ETA: 1:08 - loss: -0.0013 - crf_viterbi_accuracy: 0.998 - ETA: 1:06 - loss: -0.0013 - crf_viterbi_accuracy: 0.998 - ETA: 1:05 - loss: -0.0013 - crf_viterbi_accuracy: 0.998 - ETA: 1:04 - loss: -0.0013 - crf_viterbi_accuracy: 0.998 - ETA: 1:03 - loss: -0.0013 - crf_viterbi_accuracy: 0.998 - ETA: 1:01 - loss: -0.0014 - crf_viterbi_accuracy: 0.998 - ETA: 1:00 - loss: -0.0014 - crf_viterbi_accuracy: 0.998 - ETA: 58s - loss: -0.0014 - crf_viterbi_accuracy: 0.998 - ETA: 57s - loss: -0.0014 - crf_viterbi_accuracy: 0.99 - ETA: 56s - loss: -0.0014 - crf_viterbi_accuracy: 0.99 - ETA: 54s - loss: -0.0014 - crf_viterbi_accuracy: 0.99 - ETA: 53s - loss: -0.0014 - crf_viterbi_accuracy: 0.99 - ETA: 52s - loss: -0.0014 - crf_viterbi_accuracy: 0.99 - ETA: 50s - loss: -0.0014 - crf_viterbi_accuracy: 0.99 - ETA: 49s - loss: -0.0014 - crf_viterbi_accuracy: 0.99 - ETA: 48s - loss: -0.0014 - crf_viterbi_accuracy: 0.99 - ETA: 46s - loss: -0.0014 - crf_viterbi_accuracy: 0.99 - ETA: 45s - loss: -0.0014 - crf_viterbi_accuracy: 0.99 - ETA: 43s - loss: -0.0014 - crf_viterbi_accuracy: 0.99 - ETA: 41s - loss: -0.0014 - crf_viterbi_accuracy: 0.99 - ETA: 40s - loss: -0.0014 - crf_viterbi_accuracy: 0.99 - ETA: 38s - loss: -0.0014 - crf_viterbi_accuracy: 0.99 - ETA: 36s - loss: -0.0014 - crf_viterbi_accuracy: 0.99 - ETA: 35s - loss: -0.0015 - crf_viterbi_accuracy: 0.99 - ETA: 33s - loss: -0.0015 - crf_viterbi_accuracy: 0.99 - ETA: 32s - loss: -0.0015 - crf_viterbi_accuracy: 0.99 - ETA: 30s - loss: -0.0015 - crf_viterbi_accuracy: 0.99 - ETA: 29s - loss: -0.0015 - crf_viterbi_accuracy: 0.99 - ETA: 27s - loss: -0.0015 - crf_viterbi_accuracy: 0.99 - ETA: 26s - loss: -0.0015 - crf_viterbi_accuracy: 0.99 - ETA: 25s - loss: -0.0015 - crf_viterbi_accuracy: 0.99 - ETA: 23s - loss: -0.0016 - crf_viterbi_accuracy: 0.99 - ETA: 22s - loss: -0.0016 - crf_viterbi_accuracy: 0.99 - ETA: 21s - loss: -0.0016 - crf_viterbi_accuracy: 0.99 - ETA: 19s - loss: -0.0016 - crf_viterbi_accuracy: 0.99 - ETA: 18s - loss: -0.0016 - crf_viterbi_accuracy: 0.99 - ETA: 17s - loss: -0.0015 - crf_viterbi_accuracy: 0.99 - ETA: 16s - loss: -0.0015 - crf_viterbi_accuracy: 0.99 - ETA: 14s - loss: -0.0015 - crf_viterbi_accuracy: 0.99 - ETA: 13s - loss: -0.0015 - crf_viterbi_accuracy: 0.99 - ETA: 12s - loss: -0.0015 - crf_viterbi_accuracy: 0.99 - ETA: 11s - loss: -0.0015 - crf_viterbi_accuracy: 0.99 - ETA: 10s - loss: -0.0015 - crf_viterbi_accuracy: 0.99 - ETA: 8s - loss: -0.0015 - crf_viterbi_accuracy: 0.9988 - ETA: 7s - loss: -0.0016 - crf_viterbi_accuracy: 0.998 - ETA: 6s - loss: -0.0015 - crf_viterbi_accuracy: 0.998 - ETA: 5s - loss: -0.0015 - crf_viterbi_accuracy: 0.998 - ETA: 4s - loss: -0.0015 - crf_viterbi_accuracy: 0.998 - ETA: 3s - loss: -0.0015 - crf_viterbi_accuracy: 0.998 - ETA: 2s - loss: -0.0015 - crf_viterbi_accuracy: 0.998 - ETA: 1s - loss: -0.0015 - crf_viterbi_accuracy: 0.998 - ETA: 0s - loss: -0.0015 - crf_viterbi_accuracy: 0.998 - 90s 22ms/step - loss: -0.0015 - crf_viterbi_accuracy: 0.9988 - val_loss: 0.0038 - val_crf_viterbi_accuracy: 0.9963\n",
      "Epoch 13/50\n"
     ]
    },
    {
     "name": "stdout",
     "output_type": "stream",
     "text": [
      "4104/4104 [==============================] - ETA: 1:05 - loss: -0.0027 - crf_viterbi_accuracy: 0.999 - ETA: 1:04 - loss: -0.0021 - crf_viterbi_accuracy: 0.999 - ETA: 1:03 - loss: -0.0023 - crf_viterbi_accuracy: 0.999 - ETA: 1:03 - loss: -0.0017 - crf_viterbi_accuracy: 0.998 - ETA: 1:02 - loss: -0.0019 - crf_viterbi_accuracy: 0.999 - ETA: 1:00 - loss: -0.0020 - crf_viterbi_accuracy: 0.999 - ETA: 59s - loss: -0.0021 - crf_viterbi_accuracy: 0.999 - ETA: 58s - loss: -0.0022 - crf_viterbi_accuracy: 0.99 - ETA: 58s - loss: -0.0021 - crf_viterbi_accuracy: 0.99 - ETA: 57s - loss: -0.0022 - crf_viterbi_accuracy: 0.99 - ETA: 57s - loss: -0.0023 - crf_viterbi_accuracy: 0.99 - ETA: 56s - loss: -0.0024 - crf_viterbi_accuracy: 0.99 - ETA: 55s - loss: -0.0024 - crf_viterbi_accuracy: 0.99 - ETA: 54s - loss: -0.0024 - crf_viterbi_accuracy: 0.99 - ETA: 54s - loss: -0.0025 - crf_viterbi_accuracy: 0.99 - ETA: 53s - loss: -0.0023 - crf_viterbi_accuracy: 0.99 - ETA: 52s - loss: -0.0022 - crf_viterbi_accuracy: 0.99 - ETA: 52s - loss: -0.0021 - crf_viterbi_accuracy: 0.99 - ETA: 51s - loss: -0.0022 - crf_viterbi_accuracy: 0.99 - ETA: 50s - loss: -0.0022 - crf_viterbi_accuracy: 0.99 - ETA: 49s - loss: -0.0023 - crf_viterbi_accuracy: 0.99 - ETA: 49s - loss: -0.0023 - crf_viterbi_accuracy: 0.99 - ETA: 48s - loss: -0.0023 - crf_viterbi_accuracy: 0.99 - ETA: 47s - loss: -0.0023 - crf_viterbi_accuracy: 0.99 - ETA: 46s - loss: -0.0022 - crf_viterbi_accuracy: 0.99 - ETA: 45s - loss: -0.0022 - crf_viterbi_accuracy: 0.99 - ETA: 44s - loss: -0.0022 - crf_viterbi_accuracy: 0.99 - ETA: 43s - loss: -0.0022 - crf_viterbi_accuracy: 0.99 - ETA: 42s - loss: -0.0022 - crf_viterbi_accuracy: 0.99 - ETA: 41s - loss: -0.0022 - crf_viterbi_accuracy: 0.99 - ETA: 40s - loss: -0.0022 - crf_viterbi_accuracy: 0.99 - ETA: 40s - loss: -0.0022 - crf_viterbi_accuracy: 0.99 - ETA: 39s - loss: -0.0022 - crf_viterbi_accuracy: 0.99 - ETA: 38s - loss: -0.0022 - crf_viterbi_accuracy: 0.99 - ETA: 37s - loss: -0.0022 - crf_viterbi_accuracy: 0.99 - ETA: 36s - loss: -0.0023 - crf_viterbi_accuracy: 0.99 - ETA: 35s - loss: -0.0023 - crf_viterbi_accuracy: 0.99 - ETA: 34s - loss: -0.0024 - crf_viterbi_accuracy: 0.99 - ETA: 34s - loss: -0.0024 - crf_viterbi_accuracy: 0.99 - ETA: 33s - loss: -0.0024 - crf_viterbi_accuracy: 0.99 - ETA: 32s - loss: -0.0024 - crf_viterbi_accuracy: 0.99 - ETA: 31s - loss: -0.0024 - crf_viterbi_accuracy: 0.99 - ETA: 31s - loss: -0.0024 - crf_viterbi_accuracy: 0.99 - ETA: 30s - loss: -0.0024 - crf_viterbi_accuracy: 0.99 - ETA: 29s - loss: -0.0024 - crf_viterbi_accuracy: 0.99 - ETA: 28s - loss: -0.0024 - crf_viterbi_accuracy: 0.99 - ETA: 27s - loss: -0.0024 - crf_viterbi_accuracy: 0.99 - ETA: 27s - loss: -0.0024 - crf_viterbi_accuracy: 0.99 - ETA: 26s - loss: -0.0024 - crf_viterbi_accuracy: 0.99 - ETA: 25s - loss: -0.0024 - crf_viterbi_accuracy: 0.99 - ETA: 24s - loss: -0.0025 - crf_viterbi_accuracy: 0.99 - ETA: 23s - loss: -0.0025 - crf_viterbi_accuracy: 0.99 - ETA: 22s - loss: -0.0025 - crf_viterbi_accuracy: 0.99 - ETA: 22s - loss: -0.0025 - crf_viterbi_accuracy: 0.99 - ETA: 21s - loss: -0.0025 - crf_viterbi_accuracy: 0.99 - ETA: 20s - loss: -0.0025 - crf_viterbi_accuracy: 0.99 - ETA: 19s - loss: -0.0026 - crf_viterbi_accuracy: 0.99 - ETA: 18s - loss: -0.0026 - crf_viterbi_accuracy: 0.99 - ETA: 18s - loss: -0.0026 - crf_viterbi_accuracy: 0.99 - ETA: 17s - loss: -0.0025 - crf_viterbi_accuracy: 0.99 - ETA: 16s - loss: -0.0025 - crf_viterbi_accuracy: 0.99 - ETA: 15s - loss: -0.0025 - crf_viterbi_accuracy: 0.99 - ETA: 14s - loss: -0.0025 - crf_viterbi_accuracy: 0.99 - ETA: 14s - loss: -0.0025 - crf_viterbi_accuracy: 0.99 - ETA: 13s - loss: -0.0024 - crf_viterbi_accuracy: 0.99 - ETA: 12s - loss: -0.0024 - crf_viterbi_accuracy: 0.99 - ETA: 11s - loss: -0.0024 - crf_viterbi_accuracy: 0.99 - ETA: 10s - loss: -0.0024 - crf_viterbi_accuracy: 0.99 - ETA: 10s - loss: -0.0025 - crf_viterbi_accuracy: 0.99 - ETA: 9s - loss: -0.0024 - crf_viterbi_accuracy: 0.9990 - ETA: 8s - loss: -0.0024 - crf_viterbi_accuracy: 0.999 - ETA: 7s - loss: -0.0025 - crf_viterbi_accuracy: 0.999 - ETA: 7s - loss: -0.0025 - crf_viterbi_accuracy: 0.999 - ETA: 6s - loss: -0.0025 - crf_viterbi_accuracy: 0.999 - ETA: 5s - loss: -0.0025 - crf_viterbi_accuracy: 0.999 - ETA: 4s - loss: -0.0025 - crf_viterbi_accuracy: 0.999 - ETA: 3s - loss: -0.0025 - crf_viterbi_accuracy: 0.999 - ETA: 3s - loss: -0.0025 - crf_viterbi_accuracy: 0.999 - ETA: 2s - loss: -0.0025 - crf_viterbi_accuracy: 0.999 - ETA: 1s - loss: -0.0025 - crf_viterbi_accuracy: 0.999 - ETA: 0s - loss: -0.0025 - crf_viterbi_accuracy: 0.999 - ETA: 0s - loss: -0.0026 - crf_viterbi_accuracy: 0.999 - 66s 16ms/step - loss: -0.0026 - crf_viterbi_accuracy: 0.9991 - val_loss: 0.0032 - val_crf_viterbi_accuracy: 0.9960\n",
      "Epoch 14/50\n"
     ]
    },
    {
     "name": "stdout",
     "output_type": "stream",
     "text": [
      "4104/4104 [==============================] - ETA: 1:07 - loss: -0.0030 - crf_viterbi_accuracy: 0.999 - ETA: 1:03 - loss: -0.0031 - crf_viterbi_accuracy: 0.998 - ETA: 1:04 - loss: -0.0034 - crf_viterbi_accuracy: 0.999 - ETA: 1:03 - loss: -0.0033 - crf_viterbi_accuracy: 0.999 - ETA: 1:03 - loss: -0.0036 - crf_viterbi_accuracy: 0.999 - ETA: 1:02 - loss: -0.0035 - crf_viterbi_accuracy: 0.999 - ETA: 1:01 - loss: -0.0036 - crf_viterbi_accuracy: 0.999 - ETA: 1:00 - loss: -0.0036 - crf_viterbi_accuracy: 0.999 - ETA: 59s - loss: -0.0034 - crf_viterbi_accuracy: 0.999 - ETA: 58s - loss: -0.0034 - crf_viterbi_accuracy: 0.99 - ETA: 57s - loss: -0.0032 - crf_viterbi_accuracy: 0.99 - ETA: 57s - loss: -0.0031 - crf_viterbi_accuracy: 0.99 - ETA: 56s - loss: -0.0031 - crf_viterbi_accuracy: 0.99 - ETA: 55s - loss: -0.0031 - crf_viterbi_accuracy: 0.99 - ETA: 55s - loss: -0.0031 - crf_viterbi_accuracy: 0.99 - ETA: 54s - loss: -0.0032 - crf_viterbi_accuracy: 0.99 - ETA: 53s - loss: -0.0032 - crf_viterbi_accuracy: 0.99 - ETA: 52s - loss: -0.0032 - crf_viterbi_accuracy: 0.99 - ETA: 51s - loss: -0.0033 - crf_viterbi_accuracy: 0.99 - ETA: 50s - loss: -0.0033 - crf_viterbi_accuracy: 0.99 - ETA: 49s - loss: -0.0033 - crf_viterbi_accuracy: 0.99 - ETA: 48s - loss: -0.0033 - crf_viterbi_accuracy: 0.99 - ETA: 47s - loss: -0.0033 - crf_viterbi_accuracy: 0.99 - ETA: 46s - loss: -0.0033 - crf_viterbi_accuracy: 0.99 - ETA: 46s - loss: -0.0033 - crf_viterbi_accuracy: 0.99 - ETA: 45s - loss: -0.0033 - crf_viterbi_accuracy: 0.99 - ETA: 44s - loss: -0.0033 - crf_viterbi_accuracy: 0.99 - ETA: 43s - loss: -0.0033 - crf_viterbi_accuracy: 0.99 - ETA: 42s - loss: -0.0033 - crf_viterbi_accuracy: 0.99 - ETA: 41s - loss: -0.0033 - crf_viterbi_accuracy: 0.99 - ETA: 40s - loss: -0.0034 - crf_viterbi_accuracy: 0.99 - ETA: 39s - loss: -0.0034 - crf_viterbi_accuracy: 0.99 - ETA: 39s - loss: -0.0034 - crf_viterbi_accuracy: 0.99 - ETA: 38s - loss: -0.0034 - crf_viterbi_accuracy: 0.99 - ETA: 37s - loss: -0.0034 - crf_viterbi_accuracy: 0.99 - ETA: 36s - loss: -0.0034 - crf_viterbi_accuracy: 0.99 - ETA: 35s - loss: -0.0034 - crf_viterbi_accuracy: 0.99 - ETA: 34s - loss: -0.0034 - crf_viterbi_accuracy: 0.99 - ETA: 34s - loss: -0.0034 - crf_viterbi_accuracy: 0.99 - ETA: 33s - loss: -0.0034 - crf_viterbi_accuracy: 0.99 - ETA: 32s - loss: -0.0034 - crf_viterbi_accuracy: 0.99 - ETA: 31s - loss: -0.0034 - crf_viterbi_accuracy: 0.99 - ETA: 30s - loss: -0.0034 - crf_viterbi_accuracy: 0.99 - ETA: 30s - loss: -0.0034 - crf_viterbi_accuracy: 0.99 - ETA: 29s - loss: -0.0034 - crf_viterbi_accuracy: 0.99 - ETA: 28s - loss: -0.0034 - crf_viterbi_accuracy: 0.99 - ETA: 27s - loss: -0.0034 - crf_viterbi_accuracy: 0.99 - ETA: 26s - loss: -0.0034 - crf_viterbi_accuracy: 0.99 - ETA: 26s - loss: -0.0034 - crf_viterbi_accuracy: 0.99 - ETA: 25s - loss: -0.0034 - crf_viterbi_accuracy: 0.99 - ETA: 24s - loss: -0.0034 - crf_viterbi_accuracy: 0.99 - ETA: 23s - loss: -0.0034 - crf_viterbi_accuracy: 0.99 - ETA: 22s - loss: -0.0034 - crf_viterbi_accuracy: 0.99 - ETA: 21s - loss: -0.0034 - crf_viterbi_accuracy: 0.99 - ETA: 21s - loss: -0.0035 - crf_viterbi_accuracy: 0.99 - ETA: 20s - loss: -0.0035 - crf_viterbi_accuracy: 0.99 - ETA: 19s - loss: -0.0035 - crf_viterbi_accuracy: 0.99 - ETA: 18s - loss: -0.0035 - crf_viterbi_accuracy: 0.99 - ETA: 17s - loss: -0.0034 - crf_viterbi_accuracy: 0.99 - ETA: 17s - loss: -0.0034 - crf_viterbi_accuracy: 0.99 - ETA: 16s - loss: -0.0034 - crf_viterbi_accuracy: 0.99 - ETA: 15s - loss: -0.0034 - crf_viterbi_accuracy: 0.99 - ETA: 14s - loss: -0.0034 - crf_viterbi_accuracy: 0.99 - ETA: 14s - loss: -0.0034 - crf_viterbi_accuracy: 0.99 - ETA: 13s - loss: -0.0034 - crf_viterbi_accuracy: 0.99 - ETA: 12s - loss: -0.0034 - crf_viterbi_accuracy: 0.99 - ETA: 11s - loss: -0.0034 - crf_viterbi_accuracy: 0.99 - ETA: 10s - loss: -0.0034 - crf_viterbi_accuracy: 0.99 - ETA: 10s - loss: -0.0034 - crf_viterbi_accuracy: 0.99 - ETA: 9s - loss: -0.0035 - crf_viterbi_accuracy: 0.9992 - ETA: 8s - loss: -0.0035 - crf_viterbi_accuracy: 0.999 - ETA: 7s - loss: -0.0035 - crf_viterbi_accuracy: 0.999 - ETA: 7s - loss: -0.0035 - crf_viterbi_accuracy: 0.999 - ETA: 6s - loss: -0.0035 - crf_viterbi_accuracy: 0.999 - ETA: 5s - loss: -0.0035 - crf_viterbi_accuracy: 0.999 - ETA: 4s - loss: -0.0035 - crf_viterbi_accuracy: 0.999 - ETA: 3s - loss: -0.0034 - crf_viterbi_accuracy: 0.999 - ETA: 3s - loss: -0.0034 - crf_viterbi_accuracy: 0.999 - ETA: 2s - loss: -0.0034 - crf_viterbi_accuracy: 0.999 - ETA: 1s - loss: -0.0034 - crf_viterbi_accuracy: 0.999 - ETA: 0s - loss: -0.0034 - crf_viterbi_accuracy: 0.999 - ETA: 0s - loss: -0.0034 - crf_viterbi_accuracy: 0.999 - 65s 16ms/step - loss: -0.0034 - crf_viterbi_accuracy: 0.9991 - val_loss: 0.0028 - val_crf_viterbi_accuracy: 0.9964\n",
      "Epoch 15/50\n"
     ]
    },
    {
     "name": "stdout",
     "output_type": "stream",
     "text": [
      "4104/4104 [==============================] - ETA: 1:00 - loss: -0.0026 - crf_viterbi_accuracy: 0.999 - ETA: 58s - loss: -0.0033 - crf_viterbi_accuracy: 0.999 - ETA: 57s - loss: -0.0035 - crf_viterbi_accuracy: 0.99 - ETA: 56s - loss: -0.0037 - crf_viterbi_accuracy: 0.99 - ETA: 55s - loss: -0.0039 - crf_viterbi_accuracy: 0.99 - ETA: 54s - loss: -0.0040 - crf_viterbi_accuracy: 0.99 - ETA: 53s - loss: -0.0041 - crf_viterbi_accuracy: 0.99 - ETA: 53s - loss: -0.0041 - crf_viterbi_accuracy: 0.99 - ETA: 52s - loss: -0.0041 - crf_viterbi_accuracy: 0.99 - ETA: 51s - loss: -0.0041 - crf_viterbi_accuracy: 0.99 - ETA: 50s - loss: -0.0042 - crf_viterbi_accuracy: 0.99 - ETA: 50s - loss: -0.0042 - crf_viterbi_accuracy: 0.99 - ETA: 49s - loss: -0.0043 - crf_viterbi_accuracy: 0.99 - ETA: 49s - loss: -0.0042 - crf_viterbi_accuracy: 0.99 - ETA: 48s - loss: -0.0041 - crf_viterbi_accuracy: 0.99 - ETA: 48s - loss: -0.0041 - crf_viterbi_accuracy: 0.99 - ETA: 47s - loss: -0.0041 - crf_viterbi_accuracy: 0.99 - ETA: 46s - loss: -0.0041 - crf_viterbi_accuracy: 0.99 - ETA: 46s - loss: -0.0041 - crf_viterbi_accuracy: 0.99 - ETA: 45s - loss: -0.0042 - crf_viterbi_accuracy: 0.99 - ETA: 45s - loss: -0.0042 - crf_viterbi_accuracy: 0.99 - ETA: 44s - loss: -0.0043 - crf_viterbi_accuracy: 0.99 - ETA: 43s - loss: -0.0042 - crf_viterbi_accuracy: 0.99 - ETA: 42s - loss: -0.0042 - crf_viterbi_accuracy: 0.99 - ETA: 42s - loss: -0.0042 - crf_viterbi_accuracy: 0.99 - ETA: 41s - loss: -0.0041 - crf_viterbi_accuracy: 0.99 - ETA: 41s - loss: -0.0041 - crf_viterbi_accuracy: 0.99 - ETA: 40s - loss: -0.0041 - crf_viterbi_accuracy: 0.99 - ETA: 40s - loss: -0.0041 - crf_viterbi_accuracy: 0.99 - ETA: 39s - loss: -0.0041 - crf_viterbi_accuracy: 0.99 - ETA: 38s - loss: -0.0041 - crf_viterbi_accuracy: 0.99 - ETA: 37s - loss: -0.0041 - crf_viterbi_accuracy: 0.99 - ETA: 37s - loss: -0.0041 - crf_viterbi_accuracy: 0.99 - ETA: 36s - loss: -0.0041 - crf_viterbi_accuracy: 0.99 - ETA: 35s - loss: -0.0041 - crf_viterbi_accuracy: 0.99 - ETA: 35s - loss: -0.0041 - crf_viterbi_accuracy: 0.99 - ETA: 34s - loss: -0.0041 - crf_viterbi_accuracy: 0.99 - ETA: 33s - loss: -0.0041 - crf_viterbi_accuracy: 0.99 - ETA: 33s - loss: -0.0041 - crf_viterbi_accuracy: 0.99 - ETA: 32s - loss: -0.0041 - crf_viterbi_accuracy: 0.99 - ETA: 31s - loss: -0.0041 - crf_viterbi_accuracy: 0.99 - ETA: 30s - loss: -0.0041 - crf_viterbi_accuracy: 0.99 - ETA: 29s - loss: -0.0041 - crf_viterbi_accuracy: 0.99 - ETA: 29s - loss: -0.0041 - crf_viterbi_accuracy: 0.99 - ETA: 28s - loss: -0.0042 - crf_viterbi_accuracy: 0.99 - ETA: 27s - loss: -0.0042 - crf_viterbi_accuracy: 0.99 - ETA: 26s - loss: -0.0042 - crf_viterbi_accuracy: 0.99 - ETA: 25s - loss: -0.0042 - crf_viterbi_accuracy: 0.99 - ETA: 25s - loss: -0.0042 - crf_viterbi_accuracy: 0.99 - ETA: 24s - loss: -0.0042 - crf_viterbi_accuracy: 0.99 - ETA: 23s - loss: -0.0042 - crf_viterbi_accuracy: 0.99 - ETA: 22s - loss: -0.0042 - crf_viterbi_accuracy: 0.99 - ETA: 22s - loss: -0.0042 - crf_viterbi_accuracy: 0.99 - ETA: 21s - loss: -0.0042 - crf_viterbi_accuracy: 0.99 - ETA: 20s - loss: -0.0042 - crf_viterbi_accuracy: 0.99 - ETA: 19s - loss: -0.0042 - crf_viterbi_accuracy: 0.99 - ETA: 19s - loss: -0.0042 - crf_viterbi_accuracy: 0.99 - ETA: 18s - loss: -0.0042 - crf_viterbi_accuracy: 0.99 - ETA: 17s - loss: -0.0042 - crf_viterbi_accuracy: 0.99 - ETA: 16s - loss: -0.0042 - crf_viterbi_accuracy: 0.99 - ETA: 16s - loss: -0.0042 - crf_viterbi_accuracy: 0.99 - ETA: 15s - loss: -0.0042 - crf_viterbi_accuracy: 0.99 - ETA: 14s - loss: -0.0042 - crf_viterbi_accuracy: 0.99 - ETA: 13s - loss: -0.0042 - crf_viterbi_accuracy: 0.99 - ETA: 12s - loss: -0.0042 - crf_viterbi_accuracy: 0.99 - ETA: 12s - loss: -0.0042 - crf_viterbi_accuracy: 0.99 - ETA: 11s - loss: -0.0042 - crf_viterbi_accuracy: 0.99 - ETA: 10s - loss: -0.0042 - crf_viterbi_accuracy: 0.99 - ETA: 9s - loss: -0.0042 - crf_viterbi_accuracy: 0.9994 - ETA: 9s - loss: -0.0043 - crf_viterbi_accuracy: 0.999 - ETA: 8s - loss: -0.0042 - crf_viterbi_accuracy: 0.999 - ETA: 7s - loss: -0.0043 - crf_viterbi_accuracy: 0.999 - ETA: 6s - loss: -0.0043 - crf_viterbi_accuracy: 0.999 - ETA: 6s - loss: -0.0043 - crf_viterbi_accuracy: 0.999 - ETA: 5s - loss: -0.0043 - crf_viterbi_accuracy: 0.999 - ETA: 4s - loss: -0.0043 - crf_viterbi_accuracy: 0.999 - ETA: 3s - loss: -0.0043 - crf_viterbi_accuracy: 0.999 - ETA: 3s - loss: -0.0043 - crf_viterbi_accuracy: 0.999 - ETA: 2s - loss: -0.0043 - crf_viterbi_accuracy: 0.999 - ETA: 1s - loss: -0.0043 - crf_viterbi_accuracy: 0.999 - ETA: 0s - loss: -0.0043 - crf_viterbi_accuracy: 0.999 - ETA: 0s - loss: -0.0043 - crf_viterbi_accuracy: 0.999 - 64s 16ms/step - loss: -0.0043 - crf_viterbi_accuracy: 0.9994 - val_loss: 0.0029 - val_crf_viterbi_accuracy: 0.9964\n",
      "Epoch 16/50\n"
     ]
    },
    {
     "name": "stdout",
     "output_type": "stream",
     "text": [
      "4104/4104 [==============================] - ETA: 1:03 - loss: -0.0050 - crf_viterbi_accuracy: 0.999 - ETA: 1:00 - loss: -0.0050 - crf_viterbi_accuracy: 0.999 - ETA: 1:00 - loss: -0.0051 - crf_viterbi_accuracy: 0.999 - ETA: 58s - loss: -0.0052 - crf_viterbi_accuracy: 0.999 - ETA: 57s - loss: -0.0052 - crf_viterbi_accuracy: 0.99 - ETA: 56s - loss: -0.0052 - crf_viterbi_accuracy: 0.99 - ETA: 55s - loss: -0.0053 - crf_viterbi_accuracy: 0.99 - ETA: 55s - loss: -0.0052 - crf_viterbi_accuracy: 0.99 - ETA: 54s - loss: -0.0052 - crf_viterbi_accuracy: 0.99 - ETA: 53s - loss: -0.0052 - crf_viterbi_accuracy: 0.99 - ETA: 52s - loss: -0.0051 - crf_viterbi_accuracy: 0.99 - ETA: 51s - loss: -0.0051 - crf_viterbi_accuracy: 0.99 - ETA: 50s - loss: -0.0052 - crf_viterbi_accuracy: 0.99 - ETA: 50s - loss: -0.0052 - crf_viterbi_accuracy: 0.99 - ETA: 49s - loss: -0.0052 - crf_viterbi_accuracy: 0.99 - ETA: 48s - loss: -0.0052 - crf_viterbi_accuracy: 0.99 - ETA: 47s - loss: -0.0053 - crf_viterbi_accuracy: 0.99 - ETA: 46s - loss: -0.0053 - crf_viterbi_accuracy: 0.99 - ETA: 46s - loss: -0.0053 - crf_viterbi_accuracy: 0.99 - ETA: 45s - loss: -0.0053 - crf_viterbi_accuracy: 0.99 - ETA: 44s - loss: -0.0053 - crf_viterbi_accuracy: 0.99 - ETA: 43s - loss: -0.0053 - crf_viterbi_accuracy: 0.99 - ETA: 43s - loss: -0.0053 - crf_viterbi_accuracy: 0.99 - ETA: 42s - loss: -0.0053 - crf_viterbi_accuracy: 0.99 - ETA: 41s - loss: -0.0053 - crf_viterbi_accuracy: 0.99 - ETA: 41s - loss: -0.0053 - crf_viterbi_accuracy: 0.99 - ETA: 40s - loss: -0.0052 - crf_viterbi_accuracy: 0.99 - ETA: 39s - loss: -0.0053 - crf_viterbi_accuracy: 0.99 - ETA: 38s - loss: -0.0052 - crf_viterbi_accuracy: 0.99 - ETA: 37s - loss: -0.0052 - crf_viterbi_accuracy: 0.99 - ETA: 37s - loss: -0.0052 - crf_viterbi_accuracy: 0.99 - ETA: 36s - loss: -0.0052 - crf_viterbi_accuracy: 0.99 - ETA: 35s - loss: -0.0052 - crf_viterbi_accuracy: 0.99 - ETA: 35s - loss: -0.0051 - crf_viterbi_accuracy: 0.99 - ETA: 34s - loss: -0.0051 - crf_viterbi_accuracy: 0.99 - ETA: 33s - loss: -0.0051 - crf_viterbi_accuracy: 0.99 - ETA: 32s - loss: -0.0051 - crf_viterbi_accuracy: 0.99 - ETA: 32s - loss: -0.0051 - crf_viterbi_accuracy: 0.99 - ETA: 31s - loss: -0.0051 - crf_viterbi_accuracy: 0.99 - ETA: 30s - loss: -0.0051 - crf_viterbi_accuracy: 0.99 - ETA: 29s - loss: -0.0051 - crf_viterbi_accuracy: 0.99 - ETA: 29s - loss: -0.0051 - crf_viterbi_accuracy: 0.99 - ETA: 28s - loss: -0.0051 - crf_viterbi_accuracy: 0.99 - ETA: 27s - loss: -0.0051 - crf_viterbi_accuracy: 0.99 - ETA: 27s - loss: -0.0051 - crf_viterbi_accuracy: 0.99 - ETA: 26s - loss: -0.0051 - crf_viterbi_accuracy: 0.99 - ETA: 25s - loss: -0.0051 - crf_viterbi_accuracy: 0.99 - ETA: 25s - loss: -0.0051 - crf_viterbi_accuracy: 0.99 - ETA: 24s - loss: -0.0051 - crf_viterbi_accuracy: 0.99 - ETA: 23s - loss: -0.0051 - crf_viterbi_accuracy: 0.99 - ETA: 22s - loss: -0.0051 - crf_viterbi_accuracy: 0.99 - ETA: 22s - loss: -0.0051 - crf_viterbi_accuracy: 0.99 - ETA: 21s - loss: -0.0051 - crf_viterbi_accuracy: 0.99 - ETA: 20s - loss: -0.0051 - crf_viterbi_accuracy: 0.99 - ETA: 19s - loss: -0.0051 - crf_viterbi_accuracy: 0.99 - ETA: 19s - loss: -0.0051 - crf_viterbi_accuracy: 0.99 - ETA: 18s - loss: -0.0051 - crf_viterbi_accuracy: 0.99 - ETA: 17s - loss: -0.0051 - crf_viterbi_accuracy: 0.99 - ETA: 16s - loss: -0.0051 - crf_viterbi_accuracy: 0.99 - ETA: 16s - loss: -0.0051 - crf_viterbi_accuracy: 0.99 - ETA: 15s - loss: -0.0051 - crf_viterbi_accuracy: 0.99 - ETA: 14s - loss: -0.0051 - crf_viterbi_accuracy: 0.99 - ETA: 14s - loss: -0.0051 - crf_viterbi_accuracy: 0.99 - ETA: 13s - loss: -0.0051 - crf_viterbi_accuracy: 0.99 - ETA: 12s - loss: -0.0051 - crf_viterbi_accuracy: 0.99 - ETA: 11s - loss: -0.0052 - crf_viterbi_accuracy: 0.99 - ETA: 11s - loss: -0.0052 - crf_viterbi_accuracy: 0.99 - ETA: 10s - loss: -0.0051 - crf_viterbi_accuracy: 0.99 - ETA: 9s - loss: -0.0052 - crf_viterbi_accuracy: 0.9995 - ETA: 8s - loss: -0.0051 - crf_viterbi_accuracy: 0.999 - ETA: 8s - loss: -0.0051 - crf_viterbi_accuracy: 0.999 - ETA: 7s - loss: -0.0051 - crf_viterbi_accuracy: 0.999 - ETA: 6s - loss: -0.0051 - crf_viterbi_accuracy: 0.999 - ETA: 5s - loss: -0.0051 - crf_viterbi_accuracy: 0.999 - ETA: 5s - loss: -0.0051 - crf_viterbi_accuracy: 0.999 - ETA: 4s - loss: -0.0051 - crf_viterbi_accuracy: 0.999 - ETA: 3s - loss: -0.0051 - crf_viterbi_accuracy: 0.999 - ETA: 2s - loss: -0.0052 - crf_viterbi_accuracy: 0.999 - ETA: 2s - loss: -0.0052 - crf_viterbi_accuracy: 0.999 - ETA: 1s - loss: -0.0052 - crf_viterbi_accuracy: 0.999 - ETA: 0s - loss: -0.0052 - crf_viterbi_accuracy: 0.999 - ETA: 0s - loss: -0.0052 - crf_viterbi_accuracy: 0.999 - 62s 15ms/step - loss: -0.0052 - crf_viterbi_accuracy: 0.9995 - val_loss: 0.0042 - val_crf_viterbi_accuracy: 0.9954\n",
      "Epoch 17/50\n"
     ]
    },
    {
     "name": "stdout",
     "output_type": "stream",
     "text": [
      "4104/4104 [==============================] - ETA: 1:01 - loss: -0.0051 - crf_viterbi_accuracy: 0.999 - ETA: 1:01 - loss: -0.0052 - crf_viterbi_accuracy: 0.999 - ETA: 59s - loss: -0.0053 - crf_viterbi_accuracy: 0.999 - ETA: 57s - loss: -0.0056 - crf_viterbi_accuracy: 0.99 - ETA: 55s - loss: -0.0057 - crf_viterbi_accuracy: 0.99 - ETA: 54s - loss: -0.0058 - crf_viterbi_accuracy: 0.99 - ETA: 54s - loss: -0.0058 - crf_viterbi_accuracy: 0.99 - ETA: 54s - loss: -0.0057 - crf_viterbi_accuracy: 0.99 - ETA: 53s - loss: -0.0057 - crf_viterbi_accuracy: 0.99 - ETA: 53s - loss: -0.0057 - crf_viterbi_accuracy: 0.99 - ETA: 52s - loss: -0.0057 - crf_viterbi_accuracy: 0.99 - ETA: 52s - loss: -0.0058 - crf_viterbi_accuracy: 0.99 - ETA: 51s - loss: -0.0057 - crf_viterbi_accuracy: 0.99 - ETA: 51s - loss: -0.0057 - crf_viterbi_accuracy: 0.99 - ETA: 50s - loss: -0.0058 - crf_viterbi_accuracy: 0.99 - ETA: 49s - loss: -0.0058 - crf_viterbi_accuracy: 0.99 - ETA: 49s - loss: -0.0058 - crf_viterbi_accuracy: 0.99 - ETA: 48s - loss: -0.0058 - crf_viterbi_accuracy: 0.99 - ETA: 47s - loss: -0.0059 - crf_viterbi_accuracy: 0.99 - ETA: 47s - loss: -0.0059 - crf_viterbi_accuracy: 0.99 - ETA: 46s - loss: -0.0059 - crf_viterbi_accuracy: 0.99 - ETA: 45s - loss: -0.0059 - crf_viterbi_accuracy: 0.99 - ETA: 45s - loss: -0.0059 - crf_viterbi_accuracy: 0.99 - ETA: 44s - loss: -0.0058 - crf_viterbi_accuracy: 0.99 - ETA: 43s - loss: -0.0058 - crf_viterbi_accuracy: 0.99 - ETA: 42s - loss: -0.0058 - crf_viterbi_accuracy: 0.99 - ETA: 41s - loss: -0.0058 - crf_viterbi_accuracy: 0.99 - ETA: 41s - loss: -0.0058 - crf_viterbi_accuracy: 0.99 - ETA: 40s - loss: -0.0058 - crf_viterbi_accuracy: 0.99 - ETA: 39s - loss: -0.0058 - crf_viterbi_accuracy: 0.99 - ETA: 38s - loss: -0.0058 - crf_viterbi_accuracy: 0.99 - ETA: 37s - loss: -0.0057 - crf_viterbi_accuracy: 0.99 - ETA: 37s - loss: -0.0057 - crf_viterbi_accuracy: 0.99 - ETA: 36s - loss: -0.0057 - crf_viterbi_accuracy: 0.99 - ETA: 35s - loss: -0.0057 - crf_viterbi_accuracy: 0.99 - ETA: 34s - loss: -0.0058 - crf_viterbi_accuracy: 0.99 - ETA: 34s - loss: -0.0057 - crf_viterbi_accuracy: 0.99 - ETA: 33s - loss: -0.0058 - crf_viterbi_accuracy: 0.99 - ETA: 32s - loss: -0.0058 - crf_viterbi_accuracy: 0.99 - ETA: 31s - loss: -0.0057 - crf_viterbi_accuracy: 0.99 - ETA: 31s - loss: -0.0057 - crf_viterbi_accuracy: 0.99 - ETA: 30s - loss: -0.0058 - crf_viterbi_accuracy: 0.99 - ETA: 29s - loss: -0.0058 - crf_viterbi_accuracy: 0.99 - ETA: 28s - loss: -0.0057 - crf_viterbi_accuracy: 0.99 - ETA: 27s - loss: -0.0057 - crf_viterbi_accuracy: 0.99 - ETA: 27s - loss: -0.0057 - crf_viterbi_accuracy: 0.99 - ETA: 26s - loss: -0.0058 - crf_viterbi_accuracy: 0.99 - ETA: 25s - loss: -0.0058 - crf_viterbi_accuracy: 0.99 - ETA: 24s - loss: -0.0058 - crf_viterbi_accuracy: 0.99 - ETA: 23s - loss: -0.0058 - crf_viterbi_accuracy: 0.99 - ETA: 23s - loss: -0.0058 - crf_viterbi_accuracy: 0.99 - ETA: 22s - loss: -0.0058 - crf_viterbi_accuracy: 0.99 - ETA: 21s - loss: -0.0058 - crf_viterbi_accuracy: 0.99 - ETA: 20s - loss: -0.0058 - crf_viterbi_accuracy: 0.99 - ETA: 20s - loss: -0.0058 - crf_viterbi_accuracy: 0.99 - ETA: 19s - loss: -0.0058 - crf_viterbi_accuracy: 0.99 - ETA: 18s - loss: -0.0058 - crf_viterbi_accuracy: 0.99 - ETA: 17s - loss: -0.0058 - crf_viterbi_accuracy: 0.99 - ETA: 17s - loss: -0.0059 - crf_viterbi_accuracy: 0.99 - ETA: 16s - loss: -0.0059 - crf_viterbi_accuracy: 0.99 - ETA: 15s - loss: -0.0059 - crf_viterbi_accuracy: 0.99 - ETA: 14s - loss: -0.0059 - crf_viterbi_accuracy: 0.99 - ETA: 14s - loss: -0.0059 - crf_viterbi_accuracy: 0.99 - ETA: 13s - loss: -0.0059 - crf_viterbi_accuracy: 0.99 - ETA: 12s - loss: -0.0059 - crf_viterbi_accuracy: 0.99 - ETA: 11s - loss: -0.0059 - crf_viterbi_accuracy: 0.99 - ETA: 11s - loss: -0.0059 - crf_viterbi_accuracy: 0.99 - ETA: 10s - loss: -0.0058 - crf_viterbi_accuracy: 0.99 - ETA: 9s - loss: -0.0058 - crf_viterbi_accuracy: 0.9996 - ETA: 8s - loss: -0.0058 - crf_viterbi_accuracy: 0.999 - ETA: 8s - loss: -0.0058 - crf_viterbi_accuracy: 0.999 - ETA: 7s - loss: -0.0059 - crf_viterbi_accuracy: 0.999 - ETA: 6s - loss: -0.0059 - crf_viterbi_accuracy: 0.999 - ETA: 5s - loss: -0.0059 - crf_viterbi_accuracy: 0.999 - ETA: 5s - loss: -0.0059 - crf_viterbi_accuracy: 0.999 - ETA: 4s - loss: -0.0059 - crf_viterbi_accuracy: 0.999 - ETA: 3s - loss: -0.0059 - crf_viterbi_accuracy: 0.999 - ETA: 3s - loss: -0.0059 - crf_viterbi_accuracy: 0.999 - ETA: 2s - loss: -0.0059 - crf_viterbi_accuracy: 0.999 - ETA: 1s - loss: -0.0059 - crf_viterbi_accuracy: 0.999 - ETA: 0s - loss: -0.0059 - crf_viterbi_accuracy: 0.999 - ETA: 0s - loss: -0.0059 - crf_viterbi_accuracy: 0.999 - 63s 15ms/step - loss: -0.0059 - crf_viterbi_accuracy: 0.9995 - val_loss: 0.0015 - val_crf_viterbi_accuracy: 0.9967\n",
      "Epoch 18/50\n"
     ]
    },
    {
     "name": "stdout",
     "output_type": "stream",
     "text": [
      "4104/4104 [==============================] - ETA: 59s - loss: -0.0069 - crf_viterbi_accuracy: 0.99 - ETA: 57s - loss: -0.0068 - crf_viterbi_accuracy: 0.99 - ETA: 56s - loss: -0.0068 - crf_viterbi_accuracy: 0.99 - ETA: 55s - loss: -0.0068 - crf_viterbi_accuracy: 0.99 - ETA: 55s - loss: -0.0068 - crf_viterbi_accuracy: 0.99 - ETA: 54s - loss: -0.0068 - crf_viterbi_accuracy: 0.99 - ETA: 53s - loss: -0.0068 - crf_viterbi_accuracy: 0.99 - ETA: 52s - loss: -0.0068 - crf_viterbi_accuracy: 0.99 - ETA: 52s - loss: -0.0068 - crf_viterbi_accuracy: 0.99 - ETA: 51s - loss: -0.0067 - crf_viterbi_accuracy: 0.99 - ETA: 50s - loss: -0.0067 - crf_viterbi_accuracy: 0.99 - ETA: 50s - loss: -0.0067 - crf_viterbi_accuracy: 0.99 - ETA: 49s - loss: -0.0067 - crf_viterbi_accuracy: 0.99 - ETA: 48s - loss: -0.0067 - crf_viterbi_accuracy: 0.99 - ETA: 47s - loss: -0.0067 - crf_viterbi_accuracy: 0.99 - ETA: 47s - loss: -0.0067 - crf_viterbi_accuracy: 0.99 - ETA: 46s - loss: -0.0067 - crf_viterbi_accuracy: 0.99 - ETA: 46s - loss: -0.0067 - crf_viterbi_accuracy: 0.99 - ETA: 45s - loss: -0.0066 - crf_viterbi_accuracy: 0.99 - ETA: 45s - loss: -0.0066 - crf_viterbi_accuracy: 0.99 - ETA: 44s - loss: -0.0065 - crf_viterbi_accuracy: 0.99 - ETA: 43s - loss: -0.0065 - crf_viterbi_accuracy: 0.99 - ETA: 42s - loss: -0.0065 - crf_viterbi_accuracy: 0.99 - ETA: 42s - loss: -0.0066 - crf_viterbi_accuracy: 0.99 - ETA: 41s - loss: -0.0065 - crf_viterbi_accuracy: 0.99 - ETA: 40s - loss: -0.0065 - crf_viterbi_accuracy: 0.99 - ETA: 39s - loss: -0.0065 - crf_viterbi_accuracy: 0.99 - ETA: 39s - loss: -0.0066 - crf_viterbi_accuracy: 0.99 - ETA: 38s - loss: -0.0065 - crf_viterbi_accuracy: 0.99 - ETA: 37s - loss: -0.0065 - crf_viterbi_accuracy: 0.99 - ETA: 36s - loss: -0.0065 - crf_viterbi_accuracy: 0.99 - ETA: 36s - loss: -0.0065 - crf_viterbi_accuracy: 0.99 - ETA: 35s - loss: -0.0065 - crf_viterbi_accuracy: 0.99 - ETA: 34s - loss: -0.0065 - crf_viterbi_accuracy: 0.99 - ETA: 33s - loss: -0.0065 - crf_viterbi_accuracy: 0.99 - ETA: 33s - loss: -0.0065 - crf_viterbi_accuracy: 0.99 - ETA: 32s - loss: -0.0065 - crf_viterbi_accuracy: 0.99 - ETA: 31s - loss: -0.0065 - crf_viterbi_accuracy: 0.99 - ETA: 31s - loss: -0.0065 - crf_viterbi_accuracy: 0.99 - ETA: 30s - loss: -0.0065 - crf_viterbi_accuracy: 0.99 - ETA: 29s - loss: -0.0065 - crf_viterbi_accuracy: 0.99 - ETA: 28s - loss: -0.0065 - crf_viterbi_accuracy: 0.99 - ETA: 28s - loss: -0.0065 - crf_viterbi_accuracy: 0.99 - ETA: 27s - loss: -0.0065 - crf_viterbi_accuracy: 0.99 - ETA: 26s - loss: -0.0065 - crf_viterbi_accuracy: 0.99 - ETA: 26s - loss: -0.0065 - crf_viterbi_accuracy: 0.99 - ETA: 25s - loss: -0.0065 - crf_viterbi_accuracy: 0.99 - ETA: 24s - loss: -0.0065 - crf_viterbi_accuracy: 0.99 - ETA: 23s - loss: -0.0065 - crf_viterbi_accuracy: 0.99 - ETA: 23s - loss: -0.0066 - crf_viterbi_accuracy: 0.99 - ETA: 22s - loss: -0.0066 - crf_viterbi_accuracy: 0.99 - ETA: 21s - loss: -0.0066 - crf_viterbi_accuracy: 0.99 - ETA: 20s - loss: -0.0066 - crf_viterbi_accuracy: 0.99 - ETA: 20s - loss: -0.0066 - crf_viterbi_accuracy: 0.99 - ETA: 19s - loss: -0.0066 - crf_viterbi_accuracy: 0.99 - ETA: 18s - loss: -0.0066 - crf_viterbi_accuracy: 0.99 - ETA: 18s - loss: -0.0066 - crf_viterbi_accuracy: 0.99 - ETA: 17s - loss: -0.0066 - crf_viterbi_accuracy: 0.99 - ETA: 16s - loss: -0.0066 - crf_viterbi_accuracy: 0.99 - ETA: 15s - loss: -0.0066 - crf_viterbi_accuracy: 0.99 - ETA: 15s - loss: -0.0066 - crf_viterbi_accuracy: 0.99 - ETA: 14s - loss: -0.0066 - crf_viterbi_accuracy: 0.99 - ETA: 13s - loss: -0.0066 - crf_viterbi_accuracy: 0.99 - ETA: 13s - loss: -0.0066 - crf_viterbi_accuracy: 0.99 - ETA: 12s - loss: -0.0066 - crf_viterbi_accuracy: 0.99 - ETA: 11s - loss: -0.0066 - crf_viterbi_accuracy: 0.99 - ETA: 10s - loss: -0.0066 - crf_viterbi_accuracy: 0.99 - ETA: 10s - loss: -0.0066 - crf_viterbi_accuracy: 0.99 - ETA: 9s - loss: -0.0066 - crf_viterbi_accuracy: 0.9996 - ETA: 8s - loss: -0.0066 - crf_viterbi_accuracy: 0.999 - ETA: 8s - loss: -0.0066 - crf_viterbi_accuracy: 0.999 - ETA: 7s - loss: -0.0066 - crf_viterbi_accuracy: 0.999 - ETA: 6s - loss: -0.0066 - crf_viterbi_accuracy: 0.999 - ETA: 5s - loss: -0.0066 - crf_viterbi_accuracy: 0.999 - ETA: 5s - loss: -0.0066 - crf_viterbi_accuracy: 0.999 - ETA: 4s - loss: -0.0066 - crf_viterbi_accuracy: 0.999 - ETA: 3s - loss: -0.0066 - crf_viterbi_accuracy: 0.999 - ETA: 2s - loss: -0.0066 - crf_viterbi_accuracy: 0.999 - ETA: 2s - loss: -0.0066 - crf_viterbi_accuracy: 0.999 - ETA: 1s - loss: -0.0066 - crf_viterbi_accuracy: 0.999 - ETA: 0s - loss: -0.0066 - crf_viterbi_accuracy: 0.999 - ETA: 0s - loss: -0.0066 - crf_viterbi_accuracy: 0.999 - 61s 15ms/step - loss: -0.0066 - crf_viterbi_accuracy: 0.9996 - val_loss: 0.0020 - val_crf_viterbi_accuracy: 0.9965\n",
      "Epoch 19/50\n"
     ]
    },
    {
     "name": "stdout",
     "output_type": "stream",
     "text": [
      "4104/4104 [==============================] - ETA: 1:00 - loss: -0.0067 - crf_viterbi_accuracy: 0.999 - ETA: 57s - loss: -0.0070 - crf_viterbi_accuracy: 0.999 - ETA: 56s - loss: -0.0072 - crf_viterbi_accuracy: 0.99 - ETA: 56s - loss: -0.0071 - crf_viterbi_accuracy: 0.99 - ETA: 56s - loss: -0.0072 - crf_viterbi_accuracy: 0.99 - ETA: 55s - loss: -0.0073 - crf_viterbi_accuracy: 0.99 - ETA: 55s - loss: -0.0073 - crf_viterbi_accuracy: 0.99 - ETA: 54s - loss: -0.0073 - crf_viterbi_accuracy: 0.99 - ETA: 53s - loss: -0.0073 - crf_viterbi_accuracy: 0.99 - ETA: 52s - loss: -0.0072 - crf_viterbi_accuracy: 0.99 - ETA: 51s - loss: -0.0072 - crf_viterbi_accuracy: 0.99 - ETA: 50s - loss: -0.0073 - crf_viterbi_accuracy: 0.99 - ETA: 49s - loss: -0.0072 - crf_viterbi_accuracy: 0.99 - ETA: 49s - loss: -0.0072 - crf_viterbi_accuracy: 0.99 - ETA: 48s - loss: -0.0072 - crf_viterbi_accuracy: 0.99 - ETA: 47s - loss: -0.0071 - crf_viterbi_accuracy: 0.99 - ETA: 46s - loss: -0.0071 - crf_viterbi_accuracy: 0.99 - ETA: 46s - loss: -0.0071 - crf_viterbi_accuracy: 0.99 - ETA: 45s - loss: -0.0071 - crf_viterbi_accuracy: 0.99 - ETA: 44s - loss: -0.0071 - crf_viterbi_accuracy: 0.99 - ETA: 43s - loss: -0.0071 - crf_viterbi_accuracy: 0.99 - ETA: 43s - loss: -0.0072 - crf_viterbi_accuracy: 0.99 - ETA: 42s - loss: -0.0072 - crf_viterbi_accuracy: 0.99 - ETA: 41s - loss: -0.0072 - crf_viterbi_accuracy: 0.99 - ETA: 41s - loss: -0.0071 - crf_viterbi_accuracy: 0.99 - ETA: 40s - loss: -0.0072 - crf_viterbi_accuracy: 0.99 - ETA: 39s - loss: -0.0072 - crf_viterbi_accuracy: 0.99 - ETA: 39s - loss: -0.0072 - crf_viterbi_accuracy: 0.99 - ETA: 38s - loss: -0.0072 - crf_viterbi_accuracy: 0.99 - ETA: 37s - loss: -0.0072 - crf_viterbi_accuracy: 0.99 - ETA: 36s - loss: -0.0072 - crf_viterbi_accuracy: 0.99 - ETA: 36s - loss: -0.0072 - crf_viterbi_accuracy: 0.99 - ETA: 35s - loss: -0.0072 - crf_viterbi_accuracy: 0.99 - ETA: 34s - loss: -0.0072 - crf_viterbi_accuracy: 0.99 - ETA: 33s - loss: -0.0072 - crf_viterbi_accuracy: 0.99 - ETA: 33s - loss: -0.0072 - crf_viterbi_accuracy: 0.99 - ETA: 32s - loss: -0.0072 - crf_viterbi_accuracy: 0.99 - ETA: 31s - loss: -0.0072 - crf_viterbi_accuracy: 0.99 - ETA: 31s - loss: -0.0072 - crf_viterbi_accuracy: 0.99 - ETA: 30s - loss: -0.0072 - crf_viterbi_accuracy: 0.99 - ETA: 29s - loss: -0.0072 - crf_viterbi_accuracy: 0.99 - ETA: 28s - loss: -0.0072 - crf_viterbi_accuracy: 0.99 - ETA: 28s - loss: -0.0072 - crf_viterbi_accuracy: 0.99 - ETA: 27s - loss: -0.0073 - crf_viterbi_accuracy: 0.99 - ETA: 26s - loss: -0.0073 - crf_viterbi_accuracy: 0.99 - ETA: 25s - loss: -0.0073 - crf_viterbi_accuracy: 0.99 - ETA: 25s - loss: -0.0073 - crf_viterbi_accuracy: 0.99 - ETA: 24s - loss: -0.0073 - crf_viterbi_accuracy: 0.99 - ETA: 23s - loss: -0.0073 - crf_viterbi_accuracy: 0.99 - ETA: 23s - loss: -0.0073 - crf_viterbi_accuracy: 0.99 - ETA: 22s - loss: -0.0073 - crf_viterbi_accuracy: 0.99 - ETA: 21s - loss: -0.0073 - crf_viterbi_accuracy: 0.99 - ETA: 21s - loss: -0.0073 - crf_viterbi_accuracy: 0.99 - ETA: 20s - loss: -0.0073 - crf_viterbi_accuracy: 0.99 - ETA: 19s - loss: -0.0073 - crf_viterbi_accuracy: 0.99 - ETA: 18s - loss: -0.0073 - crf_viterbi_accuracy: 0.99 - ETA: 18s - loss: -0.0073 - crf_viterbi_accuracy: 0.99 - ETA: 17s - loss: -0.0073 - crf_viterbi_accuracy: 0.99 - ETA: 16s - loss: -0.0073 - crf_viterbi_accuracy: 0.99 - ETA: 15s - loss: -0.0073 - crf_viterbi_accuracy: 0.99 - ETA: 15s - loss: -0.0073 - crf_viterbi_accuracy: 0.99 - ETA: 14s - loss: -0.0073 - crf_viterbi_accuracy: 0.99 - ETA: 13s - loss: -0.0073 - crf_viterbi_accuracy: 0.99 - ETA: 13s - loss: -0.0073 - crf_viterbi_accuracy: 0.99 - ETA: 12s - loss: -0.0073 - crf_viterbi_accuracy: 0.99 - ETA: 11s - loss: -0.0073 - crf_viterbi_accuracy: 0.99 - ETA: 10s - loss: -0.0073 - crf_viterbi_accuracy: 0.99 - ETA: 10s - loss: -0.0073 - crf_viterbi_accuracy: 0.99 - ETA: 9s - loss: -0.0073 - crf_viterbi_accuracy: 0.9997 - ETA: 8s - loss: -0.0073 - crf_viterbi_accuracy: 0.999 - ETA: 7s - loss: -0.0073 - crf_viterbi_accuracy: 0.999 - ETA: 7s - loss: -0.0073 - crf_viterbi_accuracy: 0.999 - ETA: 6s - loss: -0.0073 - crf_viterbi_accuracy: 0.999 - ETA: 5s - loss: -0.0073 - crf_viterbi_accuracy: 0.999 - ETA: 5s - loss: -0.0073 - crf_viterbi_accuracy: 0.999 - ETA: 4s - loss: -0.0073 - crf_viterbi_accuracy: 0.999 - ETA: 3s - loss: -0.0073 - crf_viterbi_accuracy: 0.999 - ETA: 2s - loss: -0.0073 - crf_viterbi_accuracy: 0.999 - ETA: 2s - loss: -0.0073 - crf_viterbi_accuracy: 0.999 - ETA: 1s - loss: -0.0073 - crf_viterbi_accuracy: 0.999 - ETA: 0s - loss: -0.0073 - crf_viterbi_accuracy: 0.999 - ETA: 0s - loss: -0.0073 - crf_viterbi_accuracy: 0.999 - 61s 15ms/step - loss: -0.0073 - crf_viterbi_accuracy: 0.9997 - val_loss: 0.0022 - val_crf_viterbi_accuracy: 0.9967\n",
      "Epoch 20/50\n"
     ]
    },
    {
     "name": "stdout",
     "output_type": "stream",
     "text": [
      "4104/4104 [==============================] - ETA: 58s - loss: -0.0079 - crf_viterbi_accuracy: 0.99 - ETA: 56s - loss: -0.0076 - crf_viterbi_accuracy: 0.99 - ETA: 56s - loss: -0.0077 - crf_viterbi_accuracy: 0.99 - ETA: 55s - loss: -0.0076 - crf_viterbi_accuracy: 0.99 - ETA: 54s - loss: -0.0077 - crf_viterbi_accuracy: 0.99 - ETA: 53s - loss: -0.0078 - crf_viterbi_accuracy: 0.99 - ETA: 52s - loss: -0.0077 - crf_viterbi_accuracy: 0.99 - ETA: 52s - loss: -0.0077 - crf_viterbi_accuracy: 0.99 - ETA: 51s - loss: -0.0078 - crf_viterbi_accuracy: 0.99 - ETA: 51s - loss: -0.0077 - crf_viterbi_accuracy: 0.99 - ETA: 50s - loss: -0.0076 - crf_viterbi_accuracy: 0.99 - ETA: 49s - loss: -0.0075 - crf_viterbi_accuracy: 0.99 - ETA: 49s - loss: -0.0075 - crf_viterbi_accuracy: 0.99 - ETA: 48s - loss: -0.0076 - crf_viterbi_accuracy: 0.99 - ETA: 48s - loss: -0.0076 - crf_viterbi_accuracy: 0.99 - ETA: 47s - loss: -0.0076 - crf_viterbi_accuracy: 0.99 - ETA: 47s - loss: -0.0077 - crf_viterbi_accuracy: 0.99 - ETA: 46s - loss: -0.0077 - crf_viterbi_accuracy: 0.99 - ETA: 45s - loss: -0.0077 - crf_viterbi_accuracy: 0.99 - ETA: 44s - loss: -0.0077 - crf_viterbi_accuracy: 0.99 - ETA: 43s - loss: -0.0078 - crf_viterbi_accuracy: 0.99 - ETA: 43s - loss: -0.0078 - crf_viterbi_accuracy: 0.99 - ETA: 42s - loss: -0.0078 - crf_viterbi_accuracy: 0.99 - ETA: 41s - loss: -0.0078 - crf_viterbi_accuracy: 0.99 - ETA: 40s - loss: -0.0078 - crf_viterbi_accuracy: 0.99 - ETA: 40s - loss: -0.0078 - crf_viterbi_accuracy: 0.99 - ETA: 39s - loss: -0.0078 - crf_viterbi_accuracy: 0.99 - ETA: 38s - loss: -0.0078 - crf_viterbi_accuracy: 0.99 - ETA: 38s - loss: -0.0078 - crf_viterbi_accuracy: 0.99 - ETA: 37s - loss: -0.0078 - crf_viterbi_accuracy: 0.99 - ETA: 36s - loss: -0.0078 - crf_viterbi_accuracy: 0.99 - ETA: 35s - loss: -0.0078 - crf_viterbi_accuracy: 0.99 - ETA: 35s - loss: -0.0078 - crf_viterbi_accuracy: 0.99 - ETA: 34s - loss: -0.0078 - crf_viterbi_accuracy: 0.99 - ETA: 33s - loss: -0.0078 - crf_viterbi_accuracy: 0.99 - ETA: 33s - loss: -0.0078 - crf_viterbi_accuracy: 0.99 - ETA: 32s - loss: -0.0078 - crf_viterbi_accuracy: 0.99 - ETA: 31s - loss: -0.0078 - crf_viterbi_accuracy: 0.99 - ETA: 30s - loss: -0.0078 - crf_viterbi_accuracy: 0.99 - ETA: 30s - loss: -0.0078 - crf_viterbi_accuracy: 0.99 - ETA: 29s - loss: -0.0078 - crf_viterbi_accuracy: 0.99 - ETA: 28s - loss: -0.0078 - crf_viterbi_accuracy: 0.99 - ETA: 28s - loss: -0.0078 - crf_viterbi_accuracy: 0.99 - ETA: 27s - loss: -0.0078 - crf_viterbi_accuracy: 0.99 - ETA: 26s - loss: -0.0078 - crf_viterbi_accuracy: 0.99 - ETA: 25s - loss: -0.0078 - crf_viterbi_accuracy: 0.99 - ETA: 25s - loss: -0.0078 - crf_viterbi_accuracy: 0.99 - ETA: 24s - loss: -0.0078 - crf_viterbi_accuracy: 0.99 - ETA: 23s - loss: -0.0079 - crf_viterbi_accuracy: 0.99 - ETA: 22s - loss: -0.0079 - crf_viterbi_accuracy: 0.99 - ETA: 22s - loss: -0.0079 - crf_viterbi_accuracy: 0.99 - ETA: 21s - loss: -0.0079 - crf_viterbi_accuracy: 0.99 - ETA: 20s - loss: -0.0079 - crf_viterbi_accuracy: 0.99 - ETA: 20s - loss: -0.0079 - crf_viterbi_accuracy: 0.99 - ETA: 19s - loss: -0.0079 - crf_viterbi_accuracy: 0.99 - ETA: 18s - loss: -0.0079 - crf_viterbi_accuracy: 0.99 - ETA: 17s - loss: -0.0079 - crf_viterbi_accuracy: 0.99 - ETA: 17s - loss: -0.0079 - crf_viterbi_accuracy: 0.99 - ETA: 16s - loss: -0.0079 - crf_viterbi_accuracy: 0.99 - ETA: 15s - loss: -0.0079 - crf_viterbi_accuracy: 0.99 - ETA: 15s - loss: -0.0079 - crf_viterbi_accuracy: 0.99 - ETA: 14s - loss: -0.0079 - crf_viterbi_accuracy: 0.99 - ETA: 13s - loss: -0.0079 - crf_viterbi_accuracy: 0.99 - ETA: 12s - loss: -0.0079 - crf_viterbi_accuracy: 0.99 - ETA: 12s - loss: -0.0079 - crf_viterbi_accuracy: 0.99 - ETA: 11s - loss: -0.0079 - crf_viterbi_accuracy: 0.99 - ETA: 10s - loss: -0.0079 - crf_viterbi_accuracy: 0.99 - ETA: 10s - loss: -0.0079 - crf_viterbi_accuracy: 0.99 - ETA: 9s - loss: -0.0079 - crf_viterbi_accuracy: 0.9997 - ETA: 8s - loss: -0.0079 - crf_viterbi_accuracy: 0.999 - ETA: 7s - loss: -0.0079 - crf_viterbi_accuracy: 0.999 - ETA: 7s - loss: -0.0079 - crf_viterbi_accuracy: 0.999 - ETA: 6s - loss: -0.0079 - crf_viterbi_accuracy: 0.999 - ETA: 5s - loss: -0.0079 - crf_viterbi_accuracy: 0.999 - ETA: 5s - loss: -0.0079 - crf_viterbi_accuracy: 0.999 - ETA: 4s - loss: -0.0079 - crf_viterbi_accuracy: 0.999 - ETA: 3s - loss: -0.0079 - crf_viterbi_accuracy: 0.999 - ETA: 2s - loss: -0.0079 - crf_viterbi_accuracy: 0.999 - ETA: 2s - loss: -0.0079 - crf_viterbi_accuracy: 0.999 - ETA: 1s - loss: -0.0079 - crf_viterbi_accuracy: 0.999 - ETA: 0s - loss: -0.0079 - crf_viterbi_accuracy: 0.999 - ETA: 0s - loss: -0.0079 - crf_viterbi_accuracy: 0.999 - 61s 15ms/step - loss: -0.0079 - crf_viterbi_accuracy: 0.9997 - val_loss: 0.0024 - val_crf_viterbi_accuracy: 0.9966\n",
      "Epoch 21/50\n"
     ]
    },
    {
     "name": "stdout",
     "output_type": "stream",
     "text": [
      "4104/4104 [==============================] - ETA: 1:00 - loss: -0.0087 - crf_viterbi_accuracy: 1.000 - ETA: 58s - loss: -0.0084 - crf_viterbi_accuracy: 0.999 - ETA: 58s - loss: -0.0080 - crf_viterbi_accuracy: 0.99 - ETA: 56s - loss: -0.0082 - crf_viterbi_accuracy: 0.99 - ETA: 55s - loss: -0.0083 - crf_viterbi_accuracy: 0.99 - ETA: 53s - loss: -0.0081 - crf_viterbi_accuracy: 0.99 - ETA: 54s - loss: -0.0081 - crf_viterbi_accuracy: 0.99 - ETA: 53s - loss: -0.0082 - crf_viterbi_accuracy: 0.99 - ETA: 52s - loss: -0.0082 - crf_viterbi_accuracy: 0.99 - ETA: 52s - loss: -0.0082 - crf_viterbi_accuracy: 0.99 - ETA: 51s - loss: -0.0083 - crf_viterbi_accuracy: 0.99 - ETA: 50s - loss: -0.0083 - crf_viterbi_accuracy: 0.99 - ETA: 50s - loss: -0.0083 - crf_viterbi_accuracy: 0.99 - ETA: 49s - loss: -0.0083 - crf_viterbi_accuracy: 0.99 - ETA: 48s - loss: -0.0083 - crf_viterbi_accuracy: 0.99 - ETA: 47s - loss: -0.0083 - crf_viterbi_accuracy: 0.99 - ETA: 46s - loss: -0.0083 - crf_viterbi_accuracy: 0.99 - ETA: 45s - loss: -0.0084 - crf_viterbi_accuracy: 0.99 - ETA: 45s - loss: -0.0084 - crf_viterbi_accuracy: 0.99 - ETA: 44s - loss: -0.0084 - crf_viterbi_accuracy: 0.99 - ETA: 43s - loss: -0.0084 - crf_viterbi_accuracy: 0.99 - ETA: 43s - loss: -0.0084 - crf_viterbi_accuracy: 0.99 - ETA: 42s - loss: -0.0084 - crf_viterbi_accuracy: 0.99 - ETA: 42s - loss: -0.0084 - crf_viterbi_accuracy: 0.99 - ETA: 41s - loss: -0.0084 - crf_viterbi_accuracy: 0.99 - ETA: 41s - loss: -0.0084 - crf_viterbi_accuracy: 0.99 - ETA: 41s - loss: -0.0084 - crf_viterbi_accuracy: 0.99 - ETA: 40s - loss: -0.0084 - crf_viterbi_accuracy: 0.99 - ETA: 39s - loss: -0.0084 - crf_viterbi_accuracy: 0.99 - ETA: 39s - loss: -0.0084 - crf_viterbi_accuracy: 0.99 - ETA: 38s - loss: -0.0084 - crf_viterbi_accuracy: 0.99 - ETA: 37s - loss: -0.0084 - crf_viterbi_accuracy: 0.99 - ETA: 36s - loss: -0.0084 - crf_viterbi_accuracy: 0.99 - ETA: 36s - loss: -0.0084 - crf_viterbi_accuracy: 0.99 - ETA: 35s - loss: -0.0084 - crf_viterbi_accuracy: 0.99 - ETA: 34s - loss: -0.0084 - crf_viterbi_accuracy: 0.99 - ETA: 33s - loss: -0.0084 - crf_viterbi_accuracy: 0.99 - ETA: 32s - loss: -0.0085 - crf_viterbi_accuracy: 0.99 - ETA: 32s - loss: -0.0085 - crf_viterbi_accuracy: 0.99 - ETA: 31s - loss: -0.0085 - crf_viterbi_accuracy: 0.99 - ETA: 30s - loss: -0.0085 - crf_viterbi_accuracy: 0.99 - ETA: 29s - loss: -0.0085 - crf_viterbi_accuracy: 0.99 - ETA: 28s - loss: -0.0085 - crf_viterbi_accuracy: 0.99 - ETA: 28s - loss: -0.0085 - crf_viterbi_accuracy: 0.99 - ETA: 27s - loss: -0.0085 - crf_viterbi_accuracy: 0.99 - ETA: 26s - loss: -0.0085 - crf_viterbi_accuracy: 0.99 - ETA: 25s - loss: -0.0085 - crf_viterbi_accuracy: 0.99 - ETA: 25s - loss: -0.0085 - crf_viterbi_accuracy: 0.99 - ETA: 24s - loss: -0.0085 - crf_viterbi_accuracy: 0.99 - ETA: 23s - loss: -0.0085 - crf_viterbi_accuracy: 0.99 - ETA: 22s - loss: -0.0085 - crf_viterbi_accuracy: 0.99 - ETA: 22s - loss: -0.0085 - crf_viterbi_accuracy: 0.99 - ETA: 21s - loss: -0.0085 - crf_viterbi_accuracy: 0.99 - ETA: 20s - loss: -0.0085 - crf_viterbi_accuracy: 0.99 - ETA: 19s - loss: -0.0085 - crf_viterbi_accuracy: 0.99 - ETA: 19s - loss: -0.0085 - crf_viterbi_accuracy: 0.99 - ETA: 18s - loss: -0.0085 - crf_viterbi_accuracy: 0.99 - ETA: 17s - loss: -0.0085 - crf_viterbi_accuracy: 0.99 - ETA: 16s - loss: -0.0085 - crf_viterbi_accuracy: 0.99 - ETA: 16s - loss: -0.0085 - crf_viterbi_accuracy: 0.99 - ETA: 15s - loss: -0.0085 - crf_viterbi_accuracy: 0.99 - ETA: 14s - loss: -0.0085 - crf_viterbi_accuracy: 0.99 - ETA: 13s - loss: -0.0085 - crf_viterbi_accuracy: 0.99 - ETA: 13s - loss: -0.0085 - crf_viterbi_accuracy: 0.99 - ETA: 12s - loss: -0.0085 - crf_viterbi_accuracy: 0.99 - ETA: 11s - loss: -0.0085 - crf_viterbi_accuracy: 0.99 - ETA: 11s - loss: -0.0085 - crf_viterbi_accuracy: 0.99 - ETA: 10s - loss: -0.0085 - crf_viterbi_accuracy: 0.99 - ETA: 9s - loss: -0.0085 - crf_viterbi_accuracy: 0.9998 - ETA: 8s - loss: -0.0085 - crf_viterbi_accuracy: 0.999 - ETA: 8s - loss: -0.0085 - crf_viterbi_accuracy: 0.999 - ETA: 7s - loss: -0.0085 - crf_viterbi_accuracy: 0.999 - ETA: 6s - loss: -0.0086 - crf_viterbi_accuracy: 0.999 - ETA: 5s - loss: -0.0086 - crf_viterbi_accuracy: 0.999 - ETA: 5s - loss: -0.0086 - crf_viterbi_accuracy: 0.999 - ETA: 4s - loss: -0.0086 - crf_viterbi_accuracy: 0.999 - ETA: 3s - loss: -0.0086 - crf_viterbi_accuracy: 0.999 - ETA: 2s - loss: -0.0086 - crf_viterbi_accuracy: 0.999 - ETA: 2s - loss: -0.0086 - crf_viterbi_accuracy: 0.999 - ETA: 1s - loss: -0.0086 - crf_viterbi_accuracy: 0.999 - ETA: 0s - loss: -0.0086 - crf_viterbi_accuracy: 0.999 - ETA: 0s - loss: -0.0086 - crf_viterbi_accuracy: 0.999 - 61s 15ms/step - loss: -0.0086 - crf_viterbi_accuracy: 0.9998 - val_loss: 0.0013 - val_crf_viterbi_accuracy: 0.9959\n",
      "Epoch 22/50\n"
     ]
    },
    {
     "name": "stdout",
     "output_type": "stream",
     "text": [
      "4104/4104 [==============================] - ETA: 59s - loss: -0.0091 - crf_viterbi_accuracy: 0.99 - ETA: 57s - loss: -0.0091 - crf_viterbi_accuracy: 0.99 - ETA: 56s - loss: -0.0091 - crf_viterbi_accuracy: 0.99 - ETA: 55s - loss: -0.0091 - crf_viterbi_accuracy: 0.99 - ETA: 54s - loss: -0.0091 - crf_viterbi_accuracy: 0.99 - ETA: 53s - loss: -0.0091 - crf_viterbi_accuracy: 0.99 - ETA: 52s - loss: -0.0092 - crf_viterbi_accuracy: 0.99 - ETA: 52s - loss: -0.0092 - crf_viterbi_accuracy: 0.99 - ETA: 52s - loss: -0.0092 - crf_viterbi_accuracy: 0.99 - ETA: 52s - loss: -0.0092 - crf_viterbi_accuracy: 0.99 - ETA: 51s - loss: -0.0092 - crf_viterbi_accuracy: 0.99 - ETA: 51s - loss: -0.0092 - crf_viterbi_accuracy: 0.99 - ETA: 50s - loss: -0.0092 - crf_viterbi_accuracy: 0.99 - ETA: 49s - loss: -0.0091 - crf_viterbi_accuracy: 0.99 - ETA: 48s - loss: -0.0091 - crf_viterbi_accuracy: 0.99 - ETA: 48s - loss: -0.0091 - crf_viterbi_accuracy: 0.99 - ETA: 47s - loss: -0.0091 - crf_viterbi_accuracy: 0.99 - ETA: 46s - loss: -0.0091 - crf_viterbi_accuracy: 0.99 - ETA: 45s - loss: -0.0091 - crf_viterbi_accuracy: 0.99 - ETA: 44s - loss: -0.0091 - crf_viterbi_accuracy: 0.99 - ETA: 43s - loss: -0.0091 - crf_viterbi_accuracy: 0.99 - ETA: 43s - loss: -0.0091 - crf_viterbi_accuracy: 0.99 - ETA: 42s - loss: -0.0090 - crf_viterbi_accuracy: 0.99 - ETA: 41s - loss: -0.0091 - crf_viterbi_accuracy: 0.99 - ETA: 41s - loss: -0.0090 - crf_viterbi_accuracy: 0.99 - ETA: 40s - loss: -0.0091 - crf_viterbi_accuracy: 0.99 - ETA: 39s - loss: -0.0090 - crf_viterbi_accuracy: 0.99 - ETA: 38s - loss: -0.0090 - crf_viterbi_accuracy: 0.99 - ETA: 38s - loss: -0.0090 - crf_viterbi_accuracy: 0.99 - ETA: 37s - loss: -0.0090 - crf_viterbi_accuracy: 0.99 - ETA: 36s - loss: -0.0090 - crf_viterbi_accuracy: 0.99 - ETA: 36s - loss: -0.0090 - crf_viterbi_accuracy: 0.99 - ETA: 35s - loss: -0.0090 - crf_viterbi_accuracy: 0.99 - ETA: 34s - loss: -0.0090 - crf_viterbi_accuracy: 0.99 - ETA: 34s - loss: -0.0090 - crf_viterbi_accuracy: 0.99 - ETA: 33s - loss: -0.0090 - crf_viterbi_accuracy: 0.99 - ETA: 32s - loss: -0.0090 - crf_viterbi_accuracy: 0.99 - ETA: 31s - loss: -0.0091 - crf_viterbi_accuracy: 0.99 - ETA: 31s - loss: -0.0091 - crf_viterbi_accuracy: 0.99 - ETA: 30s - loss: -0.0091 - crf_viterbi_accuracy: 0.99 - ETA: 29s - loss: -0.0091 - crf_viterbi_accuracy: 0.99 - ETA: 28s - loss: -0.0091 - crf_viterbi_accuracy: 0.99 - ETA: 28s - loss: -0.0091 - crf_viterbi_accuracy: 0.99 - ETA: 27s - loss: -0.0091 - crf_viterbi_accuracy: 0.99 - ETA: 26s - loss: -0.0091 - crf_viterbi_accuracy: 0.99 - ETA: 25s - loss: -0.0091 - crf_viterbi_accuracy: 0.99 - ETA: 25s - loss: -0.0091 - crf_viterbi_accuracy: 0.99 - ETA: 24s - loss: -0.0091 - crf_viterbi_accuracy: 0.99 - ETA: 23s - loss: -0.0091 - crf_viterbi_accuracy: 0.99 - ETA: 22s - loss: -0.0091 - crf_viterbi_accuracy: 0.99 - ETA: 22s - loss: -0.0091 - crf_viterbi_accuracy: 0.99 - ETA: 21s - loss: -0.0091 - crf_viterbi_accuracy: 0.99 - ETA: 20s - loss: -0.0091 - crf_viterbi_accuracy: 0.99 - ETA: 20s - loss: -0.0091 - crf_viterbi_accuracy: 0.99 - ETA: 19s - loss: -0.0091 - crf_viterbi_accuracy: 0.99 - ETA: 18s - loss: -0.0091 - crf_viterbi_accuracy: 0.99 - ETA: 17s - loss: -0.0091 - crf_viterbi_accuracy: 0.99 - ETA: 17s - loss: -0.0092 - crf_viterbi_accuracy: 0.99 - ETA: 16s - loss: -0.0092 - crf_viterbi_accuracy: 0.99 - ETA: 15s - loss: -0.0092 - crf_viterbi_accuracy: 0.99 - ETA: 15s - loss: -0.0092 - crf_viterbi_accuracy: 0.99 - ETA: 14s - loss: -0.0092 - crf_viterbi_accuracy: 0.99 - ETA: 13s - loss: -0.0092 - crf_viterbi_accuracy: 0.99 - ETA: 12s - loss: -0.0092 - crf_viterbi_accuracy: 0.99 - ETA: 12s - loss: -0.0092 - crf_viterbi_accuracy: 0.99 - ETA: 11s - loss: -0.0092 - crf_viterbi_accuracy: 0.99 - ETA: 10s - loss: -0.0091 - crf_viterbi_accuracy: 0.99 - ETA: 10s - loss: -0.0091 - crf_viterbi_accuracy: 0.99 - ETA: 9s - loss: -0.0092 - crf_viterbi_accuracy: 0.9998 - ETA: 8s - loss: -0.0092 - crf_viterbi_accuracy: 0.999 - ETA: 7s - loss: -0.0092 - crf_viterbi_accuracy: 0.999 - ETA: 7s - loss: -0.0092 - crf_viterbi_accuracy: 0.999 - ETA: 6s - loss: -0.0092 - crf_viterbi_accuracy: 0.999 - ETA: 5s - loss: -0.0092 - crf_viterbi_accuracy: 0.999 - ETA: 5s - loss: -0.0092 - crf_viterbi_accuracy: 0.999 - ETA: 4s - loss: -0.0092 - crf_viterbi_accuracy: 0.999 - ETA: 3s - loss: -0.0092 - crf_viterbi_accuracy: 0.999 - ETA: 2s - loss: -0.0092 - crf_viterbi_accuracy: 0.999 - ETA: 2s - loss: -0.0092 - crf_viterbi_accuracy: 0.999 - ETA: 1s - loss: -0.0092 - crf_viterbi_accuracy: 0.999 - ETA: 0s - loss: -0.0092 - crf_viterbi_accuracy: 0.999 - ETA: 0s - loss: -0.0092 - crf_viterbi_accuracy: 0.999 - 61s 15ms/step - loss: -0.0092 - crf_viterbi_accuracy: 0.9998 - val_loss: 8.5842e-04 - val_crf_viterbi_accuracy: 0.9966\n",
      "Epoch 23/50\n"
     ]
    },
    {
     "name": "stdout",
     "output_type": "stream",
     "text": [
      "4104/4104 [==============================] - ETA: 58s - loss: -0.0096 - crf_viterbi_accuracy: 1.00 - ETA: 55s - loss: -0.0097 - crf_viterbi_accuracy: 1.00 - ETA: 55s - loss: -0.0097 - crf_viterbi_accuracy: 1.00 - ETA: 54s - loss: -0.0097 - crf_viterbi_accuracy: 1.00 - ETA: 53s - loss: -0.0097 - crf_viterbi_accuracy: 1.00 - ETA: 53s - loss: -0.0097 - crf_viterbi_accuracy: 1.00 - ETA: 52s - loss: -0.0098 - crf_viterbi_accuracy: 1.00 - ETA: 51s - loss: -0.0097 - crf_viterbi_accuracy: 0.99 - ETA: 51s - loss: -0.0097 - crf_viterbi_accuracy: 0.99 - ETA: 50s - loss: -0.0096 - crf_viterbi_accuracy: 0.99 - ETA: 49s - loss: -0.0096 - crf_viterbi_accuracy: 0.99 - ETA: 49s - loss: -0.0096 - crf_viterbi_accuracy: 0.99 - ETA: 48s - loss: -0.0096 - crf_viterbi_accuracy: 0.99 - ETA: 47s - loss: -0.0096 - crf_viterbi_accuracy: 0.99 - ETA: 47s - loss: -0.0096 - crf_viterbi_accuracy: 0.99 - ETA: 46s - loss: -0.0096 - crf_viterbi_accuracy: 0.99 - ETA: 46s - loss: -0.0096 - crf_viterbi_accuracy: 0.99 - ETA: 45s - loss: -0.0096 - crf_viterbi_accuracy: 0.99 - ETA: 44s - loss: -0.0096 - crf_viterbi_accuracy: 0.99 - ETA: 44s - loss: -0.0096 - crf_viterbi_accuracy: 0.99 - ETA: 43s - loss: -0.0096 - crf_viterbi_accuracy: 0.99 - ETA: 42s - loss: -0.0096 - crf_viterbi_accuracy: 0.99 - ETA: 42s - loss: -0.0096 - crf_viterbi_accuracy: 0.99 - ETA: 41s - loss: -0.0096 - crf_viterbi_accuracy: 0.99 - ETA: 40s - loss: -0.0096 - crf_viterbi_accuracy: 0.99 - ETA: 39s - loss: -0.0096 - crf_viterbi_accuracy: 0.99 - ETA: 39s - loss: -0.0096 - crf_viterbi_accuracy: 0.99 - ETA: 38s - loss: -0.0096 - crf_viterbi_accuracy: 0.99 - ETA: 37s - loss: -0.0096 - crf_viterbi_accuracy: 0.99 - ETA: 36s - loss: -0.0096 - crf_viterbi_accuracy: 0.99 - ETA: 36s - loss: -0.0096 - crf_viterbi_accuracy: 0.99 - ETA: 35s - loss: -0.0096 - crf_viterbi_accuracy: 0.99 - ETA: 34s - loss: -0.0096 - crf_viterbi_accuracy: 0.99 - ETA: 34s - loss: -0.0096 - crf_viterbi_accuracy: 0.99 - ETA: 33s - loss: -0.0096 - crf_viterbi_accuracy: 0.99 - ETA: 32s - loss: -0.0096 - crf_viterbi_accuracy: 0.99 - ETA: 31s - loss: -0.0097 - crf_viterbi_accuracy: 0.99 - ETA: 31s - loss: -0.0097 - crf_viterbi_accuracy: 0.99 - ETA: 30s - loss: -0.0097 - crf_viterbi_accuracy: 0.99 - ETA: 29s - loss: -0.0097 - crf_viterbi_accuracy: 0.99 - ETA: 29s - loss: -0.0097 - crf_viterbi_accuracy: 0.99 - ETA: 28s - loss: -0.0097 - crf_viterbi_accuracy: 0.99 - ETA: 27s - loss: -0.0097 - crf_viterbi_accuracy: 0.99 - ETA: 27s - loss: -0.0097 - crf_viterbi_accuracy: 0.99 - ETA: 26s - loss: -0.0097 - crf_viterbi_accuracy: 0.99 - ETA: 25s - loss: -0.0097 - crf_viterbi_accuracy: 0.99 - ETA: 24s - loss: -0.0097 - crf_viterbi_accuracy: 0.99 - ETA: 24s - loss: -0.0097 - crf_viterbi_accuracy: 0.99 - ETA: 23s - loss: -0.0097 - crf_viterbi_accuracy: 0.99 - ETA: 22s - loss: -0.0097 - crf_viterbi_accuracy: 0.99 - ETA: 22s - loss: -0.0097 - crf_viterbi_accuracy: 0.99 - ETA: 21s - loss: -0.0097 - crf_viterbi_accuracy: 0.99 - ETA: 20s - loss: -0.0097 - crf_viterbi_accuracy: 0.99 - ETA: 19s - loss: -0.0097 - crf_viterbi_accuracy: 0.99 - ETA: 19s - loss: -0.0097 - crf_viterbi_accuracy: 0.99 - ETA: 18s - loss: -0.0097 - crf_viterbi_accuracy: 0.99 - ETA: 17s - loss: -0.0097 - crf_viterbi_accuracy: 0.99 - ETA: 17s - loss: -0.0097 - crf_viterbi_accuracy: 0.99 - ETA: 16s - loss: -0.0097 - crf_viterbi_accuracy: 0.99 - ETA: 15s - loss: -0.0097 - crf_viterbi_accuracy: 0.99 - ETA: 14s - loss: -0.0097 - crf_viterbi_accuracy: 0.99 - ETA: 14s - loss: -0.0097 - crf_viterbi_accuracy: 0.99 - ETA: 13s - loss: -0.0097 - crf_viterbi_accuracy: 0.99 - ETA: 12s - loss: -0.0097 - crf_viterbi_accuracy: 0.99 - ETA: 12s - loss: -0.0097 - crf_viterbi_accuracy: 0.99 - ETA: 11s - loss: -0.0097 - crf_viterbi_accuracy: 0.99 - ETA: 10s - loss: -0.0097 - crf_viterbi_accuracy: 0.99 - ETA: 10s - loss: -0.0097 - crf_viterbi_accuracy: 0.99 - ETA: 9s - loss: -0.0097 - crf_viterbi_accuracy: 0.9999 - ETA: 8s - loss: -0.0097 - crf_viterbi_accuracy: 0.999 - ETA: 7s - loss: -0.0097 - crf_viterbi_accuracy: 0.999 - ETA: 7s - loss: -0.0097 - crf_viterbi_accuracy: 0.999 - ETA: 6s - loss: -0.0098 - crf_viterbi_accuracy: 0.999 - ETA: 5s - loss: -0.0097 - crf_viterbi_accuracy: 0.999 - ETA: 5s - loss: -0.0098 - crf_viterbi_accuracy: 0.999 - ETA: 4s - loss: -0.0098 - crf_viterbi_accuracy: 0.999 - ETA: 3s - loss: -0.0098 - crf_viterbi_accuracy: 0.999 - ETA: 2s - loss: -0.0098 - crf_viterbi_accuracy: 0.999 - ETA: 2s - loss: -0.0098 - crf_viterbi_accuracy: 0.999 - ETA: 1s - loss: -0.0098 - crf_viterbi_accuracy: 0.999 - ETA: 0s - loss: -0.0098 - crf_viterbi_accuracy: 0.999 - ETA: 0s - loss: -0.0098 - crf_viterbi_accuracy: 0.999 - 60s 15ms/step - loss: -0.0098 - crf_viterbi_accuracy: 0.9999 - val_loss: 0.0019 - val_crf_viterbi_accuracy: 0.9963\n",
      "Epoch 24/50\n"
     ]
    },
    {
     "name": "stdout",
     "output_type": "stream",
     "text": [
      "4104/4104 [==============================] - ETA: 59s - loss: -0.0102 - crf_viterbi_accuracy: 1.00 - ETA: 56s - loss: -0.0102 - crf_viterbi_accuracy: 0.99 - ETA: 56s - loss: -0.0099 - crf_viterbi_accuracy: 0.99 - ETA: 57s - loss: -0.0099 - crf_viterbi_accuracy: 0.99 - ETA: 56s - loss: -0.0099 - crf_viterbi_accuracy: 0.99 - ETA: 55s - loss: -0.0100 - crf_viterbi_accuracy: 0.99 - ETA: 55s - loss: -0.0101 - crf_viterbi_accuracy: 0.99 - ETA: 54s - loss: -0.0101 - crf_viterbi_accuracy: 0.99 - ETA: 53s - loss: -0.0101 - crf_viterbi_accuracy: 0.99 - ETA: 52s - loss: -0.0101 - crf_viterbi_accuracy: 0.99 - ETA: 51s - loss: -0.0101 - crf_viterbi_accuracy: 0.99 - ETA: 50s - loss: -0.0102 - crf_viterbi_accuracy: 0.99 - ETA: 49s - loss: -0.0101 - crf_viterbi_accuracy: 0.99 - ETA: 48s - loss: -0.0101 - crf_viterbi_accuracy: 0.99 - ETA: 47s - loss: -0.0101 - crf_viterbi_accuracy: 0.99 - ETA: 47s - loss: -0.0101 - crf_viterbi_accuracy: 0.99 - ETA: 46s - loss: -0.0102 - crf_viterbi_accuracy: 0.99 - ETA: 45s - loss: -0.0102 - crf_viterbi_accuracy: 0.99 - ETA: 45s - loss: -0.0102 - crf_viterbi_accuracy: 0.99 - ETA: 44s - loss: -0.0102 - crf_viterbi_accuracy: 0.99 - ETA: 43s - loss: -0.0102 - crf_viterbi_accuracy: 0.99 - ETA: 42s - loss: -0.0102 - crf_viterbi_accuracy: 0.99 - ETA: 42s - loss: -0.0102 - crf_viterbi_accuracy: 0.99 - ETA: 41s - loss: -0.0102 - crf_viterbi_accuracy: 0.99 - ETA: 40s - loss: -0.0102 - crf_viterbi_accuracy: 0.99 - ETA: 39s - loss: -0.0102 - crf_viterbi_accuracy: 0.99 - ETA: 39s - loss: -0.0102 - crf_viterbi_accuracy: 0.99 - ETA: 38s - loss: -0.0102 - crf_viterbi_accuracy: 0.99 - ETA: 38s - loss: -0.0102 - crf_viterbi_accuracy: 0.99 - ETA: 37s - loss: -0.0102 - crf_viterbi_accuracy: 0.99 - ETA: 36s - loss: -0.0102 - crf_viterbi_accuracy: 0.99 - ETA: 35s - loss: -0.0102 - crf_viterbi_accuracy: 0.99 - ETA: 35s - loss: -0.0102 - crf_viterbi_accuracy: 0.99 - ETA: 34s - loss: -0.0102 - crf_viterbi_accuracy: 0.99 - ETA: 33s - loss: -0.0102 - crf_viterbi_accuracy: 0.99 - ETA: 33s - loss: -0.0102 - crf_viterbi_accuracy: 0.99 - ETA: 32s - loss: -0.0102 - crf_viterbi_accuracy: 0.99 - ETA: 31s - loss: -0.0102 - crf_viterbi_accuracy: 0.99 - ETA: 30s - loss: -0.0102 - crf_viterbi_accuracy: 0.99 - ETA: 30s - loss: -0.0102 - crf_viterbi_accuracy: 0.99 - ETA: 29s - loss: -0.0102 - crf_viterbi_accuracy: 0.99 - ETA: 28s - loss: -0.0102 - crf_viterbi_accuracy: 0.99 - ETA: 27s - loss: -0.0102 - crf_viterbi_accuracy: 0.99 - ETA: 27s - loss: -0.0102 - crf_viterbi_accuracy: 0.99 - ETA: 26s - loss: -0.0102 - crf_viterbi_accuracy: 0.99 - ETA: 25s - loss: -0.0102 - crf_viterbi_accuracy: 0.99 - ETA: 25s - loss: -0.0102 - crf_viterbi_accuracy: 0.99 - ETA: 24s - loss: -0.0102 - crf_viterbi_accuracy: 0.99 - ETA: 23s - loss: -0.0102 - crf_viterbi_accuracy: 0.99 - ETA: 22s - loss: -0.0102 - crf_viterbi_accuracy: 0.99 - ETA: 22s - loss: -0.0102 - crf_viterbi_accuracy: 0.99 - ETA: 21s - loss: -0.0102 - crf_viterbi_accuracy: 0.99 - ETA: 20s - loss: -0.0103 - crf_viterbi_accuracy: 0.99 - ETA: 20s - loss: -0.0102 - crf_viterbi_accuracy: 0.99 - ETA: 19s - loss: -0.0103 - crf_viterbi_accuracy: 0.99 - ETA: 18s - loss: -0.0103 - crf_viterbi_accuracy: 0.99 - ETA: 17s - loss: -0.0103 - crf_viterbi_accuracy: 0.99 - ETA: 17s - loss: -0.0103 - crf_viterbi_accuracy: 0.99 - ETA: 16s - loss: -0.0103 - crf_viterbi_accuracy: 0.99 - ETA: 15s - loss: -0.0103 - crf_viterbi_accuracy: 0.99 - ETA: 15s - loss: -0.0103 - crf_viterbi_accuracy: 0.99 - ETA: 14s - loss: -0.0103 - crf_viterbi_accuracy: 0.99 - ETA: 13s - loss: -0.0103 - crf_viterbi_accuracy: 0.99 - ETA: 12s - loss: -0.0103 - crf_viterbi_accuracy: 0.99 - ETA: 12s - loss: -0.0103 - crf_viterbi_accuracy: 0.99 - ETA: 11s - loss: -0.0103 - crf_viterbi_accuracy: 0.99 - ETA: 10s - loss: -0.0103 - crf_viterbi_accuracy: 0.99 - ETA: 10s - loss: -0.0103 - crf_viterbi_accuracy: 0.99 - ETA: 9s - loss: -0.0103 - crf_viterbi_accuracy: 0.9999 - ETA: 8s - loss: -0.0103 - crf_viterbi_accuracy: 0.999 - ETA: 7s - loss: -0.0103 - crf_viterbi_accuracy: 0.999 - ETA: 7s - loss: -0.0103 - crf_viterbi_accuracy: 0.999 - ETA: 6s - loss: -0.0103 - crf_viterbi_accuracy: 0.999 - ETA: 5s - loss: -0.0103 - crf_viterbi_accuracy: 0.999 - ETA: 5s - loss: -0.0103 - crf_viterbi_accuracy: 0.999 - ETA: 4s - loss: -0.0103 - crf_viterbi_accuracy: 0.999 - ETA: 3s - loss: -0.0103 - crf_viterbi_accuracy: 0.999 - ETA: 2s - loss: -0.0103 - crf_viterbi_accuracy: 0.999 - ETA: 2s - loss: -0.0103 - crf_viterbi_accuracy: 0.999 - ETA: 1s - loss: -0.0103 - crf_viterbi_accuracy: 0.999 - ETA: 0s - loss: -0.0103 - crf_viterbi_accuracy: 0.999 - ETA: 0s - loss: -0.0103 - crf_viterbi_accuracy: 0.999 - 60s 15ms/step - loss: -0.0103 - crf_viterbi_accuracy: 0.9999 - val_loss: 5.7055e-04 - val_crf_viterbi_accuracy: 0.9966\n",
      "Epoch 25/50\n"
     ]
    },
    {
     "name": "stdout",
     "output_type": "stream",
     "text": [
      "4104/4104 [==============================] - ETA: 59s - loss: -0.0106 - crf_viterbi_accuracy: 1.00 - ETA: 56s - loss: -0.0104 - crf_viterbi_accuracy: 0.99 - ETA: 56s - loss: -0.0105 - crf_viterbi_accuracy: 1.00 - ETA: 55s - loss: -0.0106 - crf_viterbi_accuracy: 1.00 - ETA: 55s - loss: -0.0107 - crf_viterbi_accuracy: 1.00 - ETA: 54s - loss: -0.0107 - crf_viterbi_accuracy: 1.00 - ETA: 53s - loss: -0.0107 - crf_viterbi_accuracy: 1.00 - ETA: 53s - loss: -0.0108 - crf_viterbi_accuracy: 1.00 - ETA: 52s - loss: -0.0108 - crf_viterbi_accuracy: 1.00 - ETA: 51s - loss: -0.0108 - crf_viterbi_accuracy: 1.00 - ETA: 50s - loss: -0.0108 - crf_viterbi_accuracy: 1.00 - ETA: 50s - loss: -0.0108 - crf_viterbi_accuracy: 1.00 - ETA: 49s - loss: -0.0108 - crf_viterbi_accuracy: 1.00 - ETA: 49s - loss: -0.0108 - crf_viterbi_accuracy: 1.00 - ETA: 48s - loss: -0.0108 - crf_viterbi_accuracy: 1.00 - ETA: 47s - loss: -0.0108 - crf_viterbi_accuracy: 1.00 - ETA: 47s - loss: -0.0108 - crf_viterbi_accuracy: 1.00 - ETA: 46s - loss: -0.0108 - crf_viterbi_accuracy: 0.99 - ETA: 45s - loss: -0.0108 - crf_viterbi_accuracy: 0.99 - ETA: 44s - loss: -0.0108 - crf_viterbi_accuracy: 0.99 - ETA: 44s - loss: -0.0107 - crf_viterbi_accuracy: 0.99 - ETA: 43s - loss: -0.0107 - crf_viterbi_accuracy: 0.99 - ETA: 42s - loss: -0.0108 - crf_viterbi_accuracy: 0.99 - ETA: 41s - loss: -0.0107 - crf_viterbi_accuracy: 0.99 - ETA: 41s - loss: -0.0107 - crf_viterbi_accuracy: 0.99 - ETA: 40s - loss: -0.0107 - crf_viterbi_accuracy: 0.99 - ETA: 39s - loss: -0.0108 - crf_viterbi_accuracy: 0.99 - ETA: 38s - loss: -0.0108 - crf_viterbi_accuracy: 0.99 - ETA: 38s - loss: -0.0108 - crf_viterbi_accuracy: 0.99 - ETA: 37s - loss: -0.0108 - crf_viterbi_accuracy: 0.99 - ETA: 36s - loss: -0.0108 - crf_viterbi_accuracy: 0.99 - ETA: 35s - loss: -0.0108 - crf_viterbi_accuracy: 0.99 - ETA: 35s - loss: -0.0108 - crf_viterbi_accuracy: 0.99 - ETA: 34s - loss: -0.0108 - crf_viterbi_accuracy: 0.99 - ETA: 33s - loss: -0.0108 - crf_viterbi_accuracy: 0.99 - ETA: 33s - loss: -0.0108 - crf_viterbi_accuracy: 0.99 - ETA: 32s - loss: -0.0108 - crf_viterbi_accuracy: 0.99 - ETA: 31s - loss: -0.0108 - crf_viterbi_accuracy: 0.99 - ETA: 30s - loss: -0.0108 - crf_viterbi_accuracy: 0.99 - ETA: 30s - loss: -0.0108 - crf_viterbi_accuracy: 0.99 - ETA: 29s - loss: -0.0108 - crf_viterbi_accuracy: 0.99 - ETA: 28s - loss: -0.0108 - crf_viterbi_accuracy: 0.99 - ETA: 28s - loss: -0.0108 - crf_viterbi_accuracy: 0.99 - ETA: 27s - loss: -0.0108 - crf_viterbi_accuracy: 0.99 - ETA: 26s - loss: -0.0108 - crf_viterbi_accuracy: 0.99 - ETA: 25s - loss: -0.0108 - crf_viterbi_accuracy: 0.99 - ETA: 25s - loss: -0.0108 - crf_viterbi_accuracy: 0.99 - ETA: 24s - loss: -0.0108 - crf_viterbi_accuracy: 0.99 - ETA: 23s - loss: -0.0108 - crf_viterbi_accuracy: 0.99 - ETA: 22s - loss: -0.0109 - crf_viterbi_accuracy: 0.99 - ETA: 22s - loss: -0.0109 - crf_viterbi_accuracy: 0.99 - ETA: 21s - loss: -0.0109 - crf_viterbi_accuracy: 0.99 - ETA: 20s - loss: -0.0109 - crf_viterbi_accuracy: 0.99 - ETA: 20s - loss: -0.0109 - crf_viterbi_accuracy: 0.99 - ETA: 19s - loss: -0.0109 - crf_viterbi_accuracy: 0.99 - ETA: 18s - loss: -0.0109 - crf_viterbi_accuracy: 0.99 - ETA: 17s - loss: -0.0109 - crf_viterbi_accuracy: 0.99 - ETA: 17s - loss: -0.0109 - crf_viterbi_accuracy: 0.99 - ETA: 16s - loss: -0.0109 - crf_viterbi_accuracy: 0.99 - ETA: 15s - loss: -0.0109 - crf_viterbi_accuracy: 0.99 - ETA: 15s - loss: -0.0109 - crf_viterbi_accuracy: 0.99 - ETA: 14s - loss: -0.0109 - crf_viterbi_accuracy: 0.99 - ETA: 13s - loss: -0.0109 - crf_viterbi_accuracy: 0.99 - ETA: 12s - loss: -0.0109 - crf_viterbi_accuracy: 0.99 - ETA: 12s - loss: -0.0109 - crf_viterbi_accuracy: 0.99 - ETA: 11s - loss: -0.0109 - crf_viterbi_accuracy: 0.99 - ETA: 10s - loss: -0.0109 - crf_viterbi_accuracy: 0.99 - ETA: 10s - loss: -0.0109 - crf_viterbi_accuracy: 0.99 - ETA: 9s - loss: -0.0109 - crf_viterbi_accuracy: 0.9999 - ETA: 8s - loss: -0.0109 - crf_viterbi_accuracy: 0.999 - ETA: 7s - loss: -0.0109 - crf_viterbi_accuracy: 0.999 - ETA: 7s - loss: -0.0109 - crf_viterbi_accuracy: 0.999 - ETA: 6s - loss: -0.0109 - crf_viterbi_accuracy: 0.999 - ETA: 5s - loss: -0.0109 - crf_viterbi_accuracy: 0.999 - ETA: 5s - loss: -0.0109 - crf_viterbi_accuracy: 0.999 - ETA: 4s - loss: -0.0109 - crf_viterbi_accuracy: 0.999 - ETA: 3s - loss: -0.0109 - crf_viterbi_accuracy: 0.999 - ETA: 2s - loss: -0.0109 - crf_viterbi_accuracy: 0.999 - ETA: 2s - loss: -0.0109 - crf_viterbi_accuracy: 0.999 - ETA: 1s - loss: -0.0109 - crf_viterbi_accuracy: 0.999 - ETA: 0s - loss: -0.0109 - crf_viterbi_accuracy: 0.999 - ETA: 0s - loss: -0.0109 - crf_viterbi_accuracy: 0.999 - 60s 15ms/step - loss: -0.0109 - crf_viterbi_accuracy: 0.9999 - val_loss: 0.0014 - val_crf_viterbi_accuracy: 0.9966\n",
      "Epoch 26/50\n"
     ]
    },
    {
     "name": "stdout",
     "output_type": "stream",
     "text": [
      "4104/4104 [==============================] - ETA: 59s - loss: -0.0113 - crf_viterbi_accuracy: 0.99 - ETA: 58s - loss: -0.0113 - crf_viterbi_accuracy: 0.99 - ETA: 58s - loss: -0.0113 - crf_viterbi_accuracy: 1.00 - ETA: 57s - loss: -0.0113 - crf_viterbi_accuracy: 1.00 - ETA: 56s - loss: -0.0113 - crf_viterbi_accuracy: 0.99 - ETA: 54s - loss: -0.0113 - crf_viterbi_accuracy: 0.99 - ETA: 54s - loss: -0.0112 - crf_viterbi_accuracy: 0.99 - ETA: 52s - loss: -0.0112 - crf_viterbi_accuracy: 0.99 - ETA: 52s - loss: -0.0112 - crf_viterbi_accuracy: 0.99 - ETA: 51s - loss: -0.0112 - crf_viterbi_accuracy: 0.99 - ETA: 50s - loss: -0.0112 - crf_viterbi_accuracy: 0.99 - ETA: 49s - loss: -0.0112 - crf_viterbi_accuracy: 0.99 - ETA: 48s - loss: -0.0112 - crf_viterbi_accuracy: 0.99 - ETA: 47s - loss: -0.0112 - crf_viterbi_accuracy: 0.99 - ETA: 47s - loss: -0.0112 - crf_viterbi_accuracy: 0.99 - ETA: 46s - loss: -0.0113 - crf_viterbi_accuracy: 0.99 - ETA: 45s - loss: -0.0112 - crf_viterbi_accuracy: 0.99 - ETA: 45s - loss: -0.0112 - crf_viterbi_accuracy: 0.99 - ETA: 44s - loss: -0.0112 - crf_viterbi_accuracy: 0.99 - ETA: 43s - loss: -0.0112 - crf_viterbi_accuracy: 0.99 - ETA: 42s - loss: -0.0112 - crf_viterbi_accuracy: 0.99 - ETA: 42s - loss: -0.0112 - crf_viterbi_accuracy: 0.99 - ETA: 41s - loss: -0.0112 - crf_viterbi_accuracy: 0.99 - ETA: 41s - loss: -0.0112 - crf_viterbi_accuracy: 0.99 - ETA: 40s - loss: -0.0113 - crf_viterbi_accuracy: 0.99 - ETA: 39s - loss: -0.0113 - crf_viterbi_accuracy: 0.99 - ETA: 39s - loss: -0.0113 - crf_viterbi_accuracy: 0.99 - ETA: 38s - loss: -0.0113 - crf_viterbi_accuracy: 0.99 - ETA: 37s - loss: -0.0113 - crf_viterbi_accuracy: 0.99 - ETA: 37s - loss: -0.0113 - crf_viterbi_accuracy: 0.99 - ETA: 36s - loss: -0.0113 - crf_viterbi_accuracy: 0.99 - ETA: 35s - loss: -0.0113 - crf_viterbi_accuracy: 0.99 - ETA: 34s - loss: -0.0113 - crf_viterbi_accuracy: 0.99 - ETA: 34s - loss: -0.0113 - crf_viterbi_accuracy: 0.99 - ETA: 33s - loss: -0.0113 - crf_viterbi_accuracy: 0.99 - ETA: 32s - loss: -0.0113 - crf_viterbi_accuracy: 0.99 - ETA: 31s - loss: -0.0113 - crf_viterbi_accuracy: 0.99 - ETA: 31s - loss: -0.0113 - crf_viterbi_accuracy: 0.99 - ETA: 30s - loss: -0.0113 - crf_viterbi_accuracy: 0.99 - ETA: 29s - loss: -0.0113 - crf_viterbi_accuracy: 0.99 - ETA: 29s - loss: -0.0113 - crf_viterbi_accuracy: 0.99 - ETA: 28s - loss: -0.0113 - crf_viterbi_accuracy: 0.99 - ETA: 27s - loss: -0.0113 - crf_viterbi_accuracy: 0.99 - ETA: 27s - loss: -0.0113 - crf_viterbi_accuracy: 0.99 - ETA: 26s - loss: -0.0113 - crf_viterbi_accuracy: 0.99 - ETA: 25s - loss: -0.0113 - crf_viterbi_accuracy: 0.99 - ETA: 24s - loss: -0.0114 - crf_viterbi_accuracy: 0.99 - ETA: 24s - loss: -0.0114 - crf_viterbi_accuracy: 0.99 - ETA: 23s - loss: -0.0114 - crf_viterbi_accuracy: 0.99 - ETA: 22s - loss: -0.0114 - crf_viterbi_accuracy: 0.99 - ETA: 22s - loss: -0.0114 - crf_viterbi_accuracy: 0.99 - ETA: 21s - loss: -0.0114 - crf_viterbi_accuracy: 0.99 - ETA: 20s - loss: -0.0114 - crf_viterbi_accuracy: 0.99 - ETA: 19s - loss: -0.0114 - crf_viterbi_accuracy: 0.99 - ETA: 19s - loss: -0.0114 - crf_viterbi_accuracy: 0.99 - ETA: 18s - loss: -0.0114 - crf_viterbi_accuracy: 0.99 - ETA: 17s - loss: -0.0114 - crf_viterbi_accuracy: 0.99 - ETA: 17s - loss: -0.0114 - crf_viterbi_accuracy: 0.99 - ETA: 16s - loss: -0.0114 - crf_viterbi_accuracy: 0.99 - ETA: 15s - loss: -0.0114 - crf_viterbi_accuracy: 0.99 - ETA: 14s - loss: -0.0114 - crf_viterbi_accuracy: 0.99 - ETA: 14s - loss: -0.0114 - crf_viterbi_accuracy: 0.99 - ETA: 13s - loss: -0.0114 - crf_viterbi_accuracy: 0.99 - ETA: 12s - loss: -0.0114 - crf_viterbi_accuracy: 0.99 - ETA: 12s - loss: -0.0114 - crf_viterbi_accuracy: 0.99 - ETA: 11s - loss: -0.0114 - crf_viterbi_accuracy: 0.99 - ETA: 10s - loss: -0.0114 - crf_viterbi_accuracy: 0.99 - ETA: 9s - loss: -0.0114 - crf_viterbi_accuracy: 0.9999 - ETA: 9s - loss: -0.0114 - crf_viterbi_accuracy: 0.999 - ETA: 8s - loss: -0.0114 - crf_viterbi_accuracy: 0.999 - ETA: 7s - loss: -0.0114 - crf_viterbi_accuracy: 0.999 - ETA: 7s - loss: -0.0114 - crf_viterbi_accuracy: 0.999 - ETA: 6s - loss: -0.0114 - crf_viterbi_accuracy: 0.999 - ETA: 5s - loss: -0.0114 - crf_viterbi_accuracy: 0.999 - ETA: 5s - loss: -0.0114 - crf_viterbi_accuracy: 0.999 - ETA: 4s - loss: -0.0114 - crf_viterbi_accuracy: 0.999 - ETA: 3s - loss: -0.0114 - crf_viterbi_accuracy: 0.999 - ETA: 2s - loss: -0.0114 - crf_viterbi_accuracy: 0.999 - ETA: 2s - loss: -0.0114 - crf_viterbi_accuracy: 0.999 - ETA: 1s - loss: -0.0114 - crf_viterbi_accuracy: 0.999 - ETA: 0s - loss: -0.0114 - crf_viterbi_accuracy: 0.999 - ETA: 0s - loss: -0.0115 - crf_viterbi_accuracy: 0.999 - 60s 15ms/step - loss: -0.0115 - crf_viterbi_accuracy: 0.9999 - val_loss: 6.0177e-05 - val_crf_viterbi_accuracy: 0.9965\n",
      "Epoch 27/50\n"
     ]
    },
    {
     "name": "stdout",
     "output_type": "stream",
     "text": [
      "4104/4104 [==============================] - ETA: 58s - loss: -0.0118 - crf_viterbi_accuracy: 1.00 - ETA: 56s - loss: -0.0118 - crf_viterbi_accuracy: 1.00 - ETA: 55s - loss: -0.0118 - crf_viterbi_accuracy: 1.00 - ETA: 54s - loss: -0.0118 - crf_viterbi_accuracy: 1.00 - ETA: 53s - loss: -0.0118 - crf_viterbi_accuracy: 1.00 - ETA: 53s - loss: -0.0118 - crf_viterbi_accuracy: 1.00 - ETA: 53s - loss: -0.0119 - crf_viterbi_accuracy: 1.00 - ETA: 53s - loss: -0.0119 - crf_viterbi_accuracy: 1.00 - ETA: 53s - loss: -0.0119 - crf_viterbi_accuracy: 1.00 - ETA: 53s - loss: -0.0119 - crf_viterbi_accuracy: 1.00 - ETA: 53s - loss: -0.0118 - crf_viterbi_accuracy: 0.99 - ETA: 52s - loss: -0.0119 - crf_viterbi_accuracy: 0.99 - ETA: 52s - loss: -0.0119 - crf_viterbi_accuracy: 0.99 - ETA: 51s - loss: -0.0119 - crf_viterbi_accuracy: 0.99 - ETA: 50s - loss: -0.0119 - crf_viterbi_accuracy: 0.99 - ETA: 49s - loss: -0.0119 - crf_viterbi_accuracy: 0.99 - ETA: 48s - loss: -0.0119 - crf_viterbi_accuracy: 1.00 - ETA: 47s - loss: -0.0119 - crf_viterbi_accuracy: 1.00 - ETA: 46s - loss: -0.0119 - crf_viterbi_accuracy: 1.00 - ETA: 45s - loss: -0.0119 - crf_viterbi_accuracy: 1.00 - ETA: 44s - loss: -0.0119 - crf_viterbi_accuracy: 1.00 - ETA: 44s - loss: -0.0119 - crf_viterbi_accuracy: 0.99 - ETA: 43s - loss: -0.0119 - crf_viterbi_accuracy: 0.99 - ETA: 42s - loss: -0.0119 - crf_viterbi_accuracy: 1.00 - ETA: 42s - loss: -0.0119 - crf_viterbi_accuracy: 1.00 - ETA: 41s - loss: -0.0119 - crf_viterbi_accuracy: 0.99 - ETA: 40s - loss: -0.0119 - crf_viterbi_accuracy: 0.99 - ETA: 40s - loss: -0.0119 - crf_viterbi_accuracy: 0.99 - ETA: 39s - loss: -0.0119 - crf_viterbi_accuracy: 1.00 - ETA: 38s - loss: -0.0119 - crf_viterbi_accuracy: 1.00 - ETA: 37s - loss: -0.0119 - crf_viterbi_accuracy: 1.00 - ETA: 37s - loss: -0.0119 - crf_viterbi_accuracy: 0.99 - ETA: 36s - loss: -0.0119 - crf_viterbi_accuracy: 0.99 - ETA: 35s - loss: -0.0119 - crf_viterbi_accuracy: 1.00 - ETA: 34s - loss: -0.0119 - crf_viterbi_accuracy: 0.99 - ETA: 34s - loss: -0.0119 - crf_viterbi_accuracy: 0.99 - ETA: 33s - loss: -0.0119 - crf_viterbi_accuracy: 0.99 - ETA: 32s - loss: -0.0119 - crf_viterbi_accuracy: 0.99 - ETA: 31s - loss: -0.0119 - crf_viterbi_accuracy: 0.99 - ETA: 30s - loss: -0.0119 - crf_viterbi_accuracy: 0.99 - ETA: 30s - loss: -0.0119 - crf_viterbi_accuracy: 0.99 - ETA: 29s - loss: -0.0119 - crf_viterbi_accuracy: 0.99 - ETA: 28s - loss: -0.0119 - crf_viterbi_accuracy: 0.99 - ETA: 27s - loss: -0.0119 - crf_viterbi_accuracy: 0.99 - ETA: 27s - loss: -0.0119 - crf_viterbi_accuracy: 0.99 - ETA: 26s - loss: -0.0119 - crf_viterbi_accuracy: 0.99 - ETA: 25s - loss: -0.0119 - crf_viterbi_accuracy: 0.99 - ETA: 24s - loss: -0.0119 - crf_viterbi_accuracy: 0.99 - ETA: 24s - loss: -0.0119 - crf_viterbi_accuracy: 0.99 - ETA: 23s - loss: -0.0119 - crf_viterbi_accuracy: 0.99 - ETA: 22s - loss: -0.0119 - crf_viterbi_accuracy: 0.99 - ETA: 21s - loss: -0.0119 - crf_viterbi_accuracy: 0.99 - ETA: 21s - loss: -0.0119 - crf_viterbi_accuracy: 0.99 - ETA: 20s - loss: -0.0119 - crf_viterbi_accuracy: 0.99 - ETA: 19s - loss: -0.0119 - crf_viterbi_accuracy: 0.99 - ETA: 18s - loss: -0.0119 - crf_viterbi_accuracy: 0.99 - ETA: 18s - loss: -0.0119 - crf_viterbi_accuracy: 0.99 - ETA: 17s - loss: -0.0119 - crf_viterbi_accuracy: 0.99 - ETA: 16s - loss: -0.0119 - crf_viterbi_accuracy: 0.99 - ETA: 16s - loss: -0.0119 - crf_viterbi_accuracy: 0.99 - ETA: 15s - loss: -0.0120 - crf_viterbi_accuracy: 0.99 - ETA: 14s - loss: -0.0120 - crf_viterbi_accuracy: 0.99 - ETA: 13s - loss: -0.0120 - crf_viterbi_accuracy: 0.99 - ETA: 13s - loss: -0.0120 - crf_viterbi_accuracy: 0.99 - ETA: 12s - loss: -0.0120 - crf_viterbi_accuracy: 0.99 - ETA: 11s - loss: -0.0120 - crf_viterbi_accuracy: 0.99 - ETA: 10s - loss: -0.0120 - crf_viterbi_accuracy: 0.99 - ETA: 10s - loss: -0.0120 - crf_viterbi_accuracy: 0.99 - ETA: 9s - loss: -0.0120 - crf_viterbi_accuracy: 0.9999 - ETA: 8s - loss: -0.0120 - crf_viterbi_accuracy: 0.999 - ETA: 7s - loss: -0.0120 - crf_viterbi_accuracy: 0.999 - ETA: 7s - loss: -0.0120 - crf_viterbi_accuracy: 0.999 - ETA: 6s - loss: -0.0120 - crf_viterbi_accuracy: 0.999 - ETA: 5s - loss: -0.0120 - crf_viterbi_accuracy: 0.999 - ETA: 5s - loss: -0.0120 - crf_viterbi_accuracy: 0.999 - ETA: 4s - loss: -0.0120 - crf_viterbi_accuracy: 0.999 - ETA: 3s - loss: -0.0120 - crf_viterbi_accuracy: 0.999 - ETA: 2s - loss: -0.0120 - crf_viterbi_accuracy: 0.999 - ETA: 2s - loss: -0.0120 - crf_viterbi_accuracy: 0.999 - ETA: 1s - loss: -0.0120 - crf_viterbi_accuracy: 0.999 - ETA: 0s - loss: -0.0120 - crf_viterbi_accuracy: 0.999 - ETA: 0s - loss: -0.0120 - crf_viterbi_accuracy: 0.999 - 61s 15ms/step - loss: -0.0120 - crf_viterbi_accuracy: 0.9999 - val_loss: -2.0254e-04 - val_crf_viterbi_accuracy: 0.9967\n",
      "Epoch 28/50\n"
     ]
    },
    {
     "name": "stdout",
     "output_type": "stream",
     "text": [
      "4104/4104 [==============================] - ETA: 1:00 - loss: -0.0123 - crf_viterbi_accuracy: 1.000 - ETA: 58s - loss: -0.0123 - crf_viterbi_accuracy: 1.000 - ETA: 56s - loss: -0.0122 - crf_viterbi_accuracy: 0.99 - ETA: 55s - loss: -0.0122 - crf_viterbi_accuracy: 0.99 - ETA: 54s - loss: -0.0122 - crf_viterbi_accuracy: 1.00 - ETA: 53s - loss: -0.0123 - crf_viterbi_accuracy: 1.00 - ETA: 52s - loss: -0.0123 - crf_viterbi_accuracy: 1.00 - ETA: 52s - loss: -0.0123 - crf_viterbi_accuracy: 0.99 - ETA: 51s - loss: -0.0123 - crf_viterbi_accuracy: 0.99 - ETA: 50s - loss: -0.0123 - crf_viterbi_accuracy: 1.00 - ETA: 50s - loss: -0.0123 - crf_viterbi_accuracy: 0.99 - ETA: 49s - loss: -0.0123 - crf_viterbi_accuracy: 0.99 - ETA: 48s - loss: -0.0123 - crf_viterbi_accuracy: 0.99 - ETA: 48s - loss: -0.0123 - crf_viterbi_accuracy: 0.99 - ETA: 47s - loss: -0.0123 - crf_viterbi_accuracy: 0.99 - ETA: 46s - loss: -0.0122 - crf_viterbi_accuracy: 0.99 - ETA: 46s - loss: -0.0122 - crf_viterbi_accuracy: 0.99 - ETA: 45s - loss: -0.0123 - crf_viterbi_accuracy: 0.99 - ETA: 44s - loss: -0.0123 - crf_viterbi_accuracy: 0.99 - ETA: 44s - loss: -0.0123 - crf_viterbi_accuracy: 0.99 - ETA: 43s - loss: -0.0123 - crf_viterbi_accuracy: 0.99 - ETA: 43s - loss: -0.0123 - crf_viterbi_accuracy: 0.99 - ETA: 42s - loss: -0.0123 - crf_viterbi_accuracy: 0.99 - ETA: 41s - loss: -0.0123 - crf_viterbi_accuracy: 0.99 - ETA: 41s - loss: -0.0123 - crf_viterbi_accuracy: 0.99 - ETA: 40s - loss: -0.0123 - crf_viterbi_accuracy: 0.99 - ETA: 39s - loss: -0.0123 - crf_viterbi_accuracy: 0.99 - ETA: 38s - loss: -0.0123 - crf_viterbi_accuracy: 0.99 - ETA: 38s - loss: -0.0123 - crf_viterbi_accuracy: 0.99 - ETA: 37s - loss: -0.0123 - crf_viterbi_accuracy: 0.99 - ETA: 36s - loss: -0.0123 - crf_viterbi_accuracy: 0.99 - ETA: 35s - loss: -0.0123 - crf_viterbi_accuracy: 0.99 - ETA: 35s - loss: -0.0123 - crf_viterbi_accuracy: 0.99 - ETA: 34s - loss: -0.0124 - crf_viterbi_accuracy: 0.99 - ETA: 33s - loss: -0.0124 - crf_viterbi_accuracy: 0.99 - ETA: 32s - loss: -0.0124 - crf_viterbi_accuracy: 0.99 - ETA: 32s - loss: -0.0124 - crf_viterbi_accuracy: 0.99 - ETA: 31s - loss: -0.0124 - crf_viterbi_accuracy: 0.99 - ETA: 30s - loss: -0.0124 - crf_viterbi_accuracy: 0.99 - ETA: 30s - loss: -0.0124 - crf_viterbi_accuracy: 0.99 - ETA: 29s - loss: -0.0124 - crf_viterbi_accuracy: 0.99 - ETA: 28s - loss: -0.0124 - crf_viterbi_accuracy: 0.99 - ETA: 28s - loss: -0.0124 - crf_viterbi_accuracy: 0.99 - ETA: 27s - loss: -0.0124 - crf_viterbi_accuracy: 0.99 - ETA: 26s - loss: -0.0124 - crf_viterbi_accuracy: 0.99 - ETA: 25s - loss: -0.0124 - crf_viterbi_accuracy: 0.99 - ETA: 25s - loss: -0.0124 - crf_viterbi_accuracy: 0.99 - ETA: 24s - loss: -0.0124 - crf_viterbi_accuracy: 0.99 - ETA: 23s - loss: -0.0124 - crf_viterbi_accuracy: 0.99 - ETA: 23s - loss: -0.0124 - crf_viterbi_accuracy: 0.99 - ETA: 22s - loss: -0.0124 - crf_viterbi_accuracy: 0.99 - ETA: 21s - loss: -0.0124 - crf_viterbi_accuracy: 0.99 - ETA: 21s - loss: -0.0124 - crf_viterbi_accuracy: 0.99 - ETA: 20s - loss: -0.0124 - crf_viterbi_accuracy: 0.99 - ETA: 19s - loss: -0.0124 - crf_viterbi_accuracy: 0.99 - ETA: 18s - loss: -0.0124 - crf_viterbi_accuracy: 0.99 - ETA: 18s - loss: -0.0124 - crf_viterbi_accuracy: 0.99 - ETA: 17s - loss: -0.0124 - crf_viterbi_accuracy: 0.99 - ETA: 16s - loss: -0.0124 - crf_viterbi_accuracy: 0.99 - ETA: 15s - loss: -0.0125 - crf_viterbi_accuracy: 0.99 - ETA: 15s - loss: -0.0125 - crf_viterbi_accuracy: 0.99 - ETA: 14s - loss: -0.0125 - crf_viterbi_accuracy: 0.99 - ETA: 13s - loss: -0.0125 - crf_viterbi_accuracy: 0.99 - ETA: 13s - loss: -0.0125 - crf_viterbi_accuracy: 0.99 - ETA: 12s - loss: -0.0125 - crf_viterbi_accuracy: 0.99 - ETA: 11s - loss: -0.0125 - crf_viterbi_accuracy: 0.99 - ETA: 10s - loss: -0.0125 - crf_viterbi_accuracy: 0.99 - ETA: 10s - loss: -0.0125 - crf_viterbi_accuracy: 0.99 - ETA: 9s - loss: -0.0125 - crf_viterbi_accuracy: 0.9999 - ETA: 8s - loss: -0.0125 - crf_viterbi_accuracy: 0.999 - ETA: 7s - loss: -0.0125 - crf_viterbi_accuracy: 0.999 - ETA: 7s - loss: -0.0125 - crf_viterbi_accuracy: 0.999 - ETA: 6s - loss: -0.0125 - crf_viterbi_accuracy: 0.999 - ETA: 5s - loss: -0.0125 - crf_viterbi_accuracy: 0.999 - ETA: 5s - loss: -0.0125 - crf_viterbi_accuracy: 0.999 - ETA: 4s - loss: -0.0125 - crf_viterbi_accuracy: 0.999 - ETA: 3s - loss: -0.0125 - crf_viterbi_accuracy: 0.999 - ETA: 2s - loss: -0.0125 - crf_viterbi_accuracy: 0.999 - ETA: 2s - loss: -0.0125 - crf_viterbi_accuracy: 0.999 - ETA: 1s - loss: -0.0125 - crf_viterbi_accuracy: 0.999 - ETA: 0s - loss: -0.0125 - crf_viterbi_accuracy: 0.999 - ETA: 0s - loss: -0.0125 - crf_viterbi_accuracy: 0.999 - 61s 15ms/step - loss: -0.0125 - crf_viterbi_accuracy: 0.9999 - val_loss: -3.1019e-04 - val_crf_viterbi_accuracy: 0.9968\n",
      "Epoch 29/50\n"
     ]
    },
    {
     "name": "stdout",
     "output_type": "stream",
     "text": [
      "4104/4104 [==============================] - ETA: 58s - loss: -0.0125 - crf_viterbi_accuracy: 0.99 - ETA: 55s - loss: -0.0126 - crf_viterbi_accuracy: 0.99 - ETA: 55s - loss: -0.0127 - crf_viterbi_accuracy: 0.99 - ETA: 54s - loss: -0.0127 - crf_viterbi_accuracy: 0.99 - ETA: 54s - loss: -0.0128 - crf_viterbi_accuracy: 0.99 - ETA: 54s - loss: -0.0128 - crf_viterbi_accuracy: 0.99 - ETA: 53s - loss: -0.0128 - crf_viterbi_accuracy: 0.99 - ETA: 53s - loss: -0.0128 - crf_viterbi_accuracy: 0.99 - ETA: 52s - loss: -0.0128 - crf_viterbi_accuracy: 0.99 - ETA: 51s - loss: -0.0128 - crf_viterbi_accuracy: 0.99 - ETA: 50s - loss: -0.0128 - crf_viterbi_accuracy: 0.99 - ETA: 50s - loss: -0.0128 - crf_viterbi_accuracy: 0.99 - ETA: 49s - loss: -0.0128 - crf_viterbi_accuracy: 0.99 - ETA: 48s - loss: -0.0128 - crf_viterbi_accuracy: 0.99 - ETA: 47s - loss: -0.0128 - crf_viterbi_accuracy: 0.99 - ETA: 47s - loss: -0.0128 - crf_viterbi_accuracy: 0.99 - ETA: 46s - loss: -0.0128 - crf_viterbi_accuracy: 0.99 - ETA: 45s - loss: -0.0128 - crf_viterbi_accuracy: 0.99 - ETA: 44s - loss: -0.0128 - crf_viterbi_accuracy: 0.99 - ETA: 43s - loss: -0.0128 - crf_viterbi_accuracy: 0.99 - ETA: 43s - loss: -0.0128 - crf_viterbi_accuracy: 0.99 - ETA: 42s - loss: -0.0129 - crf_viterbi_accuracy: 0.99 - ETA: 41s - loss: -0.0129 - crf_viterbi_accuracy: 0.99 - ETA: 41s - loss: -0.0129 - crf_viterbi_accuracy: 1.00 - ETA: 40s - loss: -0.0129 - crf_viterbi_accuracy: 1.00 - ETA: 39s - loss: -0.0129 - crf_viterbi_accuracy: 0.99 - ETA: 38s - loss: -0.0129 - crf_viterbi_accuracy: 0.99 - ETA: 38s - loss: -0.0129 - crf_viterbi_accuracy: 0.99 - ETA: 37s - loss: -0.0129 - crf_viterbi_accuracy: 1.00 - ETA: 37s - loss: -0.0129 - crf_viterbi_accuracy: 1.00 - ETA: 36s - loss: -0.0129 - crf_viterbi_accuracy: 1.00 - ETA: 35s - loss: -0.0129 - crf_viterbi_accuracy: 1.00 - ETA: 34s - loss: -0.0129 - crf_viterbi_accuracy: 1.00 - ETA: 34s - loss: -0.0129 - crf_viterbi_accuracy: 1.00 - ETA: 33s - loss: -0.0129 - crf_viterbi_accuracy: 1.00 - ETA: 32s - loss: -0.0129 - crf_viterbi_accuracy: 1.00 - ETA: 31s - loss: -0.0129 - crf_viterbi_accuracy: 0.99 - ETA: 31s - loss: -0.0129 - crf_viterbi_accuracy: 1.00 - ETA: 30s - loss: -0.0129 - crf_viterbi_accuracy: 1.00 - ETA: 29s - loss: -0.0129 - crf_viterbi_accuracy: 0.99 - ETA: 29s - loss: -0.0129 - crf_viterbi_accuracy: 0.99 - ETA: 28s - loss: -0.0129 - crf_viterbi_accuracy: 0.99 - ETA: 27s - loss: -0.0129 - crf_viterbi_accuracy: 0.99 - ETA: 26s - loss: -0.0129 - crf_viterbi_accuracy: 0.99 - ETA: 26s - loss: -0.0129 - crf_viterbi_accuracy: 0.99 - ETA: 25s - loss: -0.0129 - crf_viterbi_accuracy: 0.99 - ETA: 24s - loss: -0.0129 - crf_viterbi_accuracy: 0.99 - ETA: 24s - loss: -0.0129 - crf_viterbi_accuracy: 0.99 - ETA: 23s - loss: -0.0129 - crf_viterbi_accuracy: 0.99 - ETA: 22s - loss: -0.0129 - crf_viterbi_accuracy: 0.99 - ETA: 21s - loss: -0.0129 - crf_viterbi_accuracy: 0.99 - ETA: 21s - loss: -0.0129 - crf_viterbi_accuracy: 0.99 - ETA: 20s - loss: -0.0130 - crf_viterbi_accuracy: 0.99 - ETA: 19s - loss: -0.0130 - crf_viterbi_accuracy: 0.99 - ETA: 19s - loss: -0.0130 - crf_viterbi_accuracy: 0.99 - ETA: 18s - loss: -0.0129 - crf_viterbi_accuracy: 0.99 - ETA: 17s - loss: -0.0129 - crf_viterbi_accuracy: 0.99 - ETA: 17s - loss: -0.0129 - crf_viterbi_accuracy: 0.99 - ETA: 16s - loss: -0.0130 - crf_viterbi_accuracy: 0.99 - ETA: 15s - loss: -0.0130 - crf_viterbi_accuracy: 0.99 - ETA: 14s - loss: -0.0130 - crf_viterbi_accuracy: 0.99 - ETA: 14s - loss: -0.0130 - crf_viterbi_accuracy: 0.99 - ETA: 13s - loss: -0.0130 - crf_viterbi_accuracy: 0.99 - ETA: 12s - loss: -0.0130 - crf_viterbi_accuracy: 0.99 - ETA: 12s - loss: -0.0130 - crf_viterbi_accuracy: 0.99 - ETA: 11s - loss: -0.0130 - crf_viterbi_accuracy: 0.99 - ETA: 10s - loss: -0.0130 - crf_viterbi_accuracy: 0.99 - ETA: 9s - loss: -0.0130 - crf_viterbi_accuracy: 0.9999 - ETA: 9s - loss: -0.0130 - crf_viterbi_accuracy: 0.999 - ETA: 8s - loss: -0.0130 - crf_viterbi_accuracy: 0.999 - ETA: 7s - loss: -0.0130 - crf_viterbi_accuracy: 0.999 - ETA: 7s - loss: -0.0130 - crf_viterbi_accuracy: 0.999 - ETA: 6s - loss: -0.0130 - crf_viterbi_accuracy: 0.999 - ETA: 5s - loss: -0.0130 - crf_viterbi_accuracy: 0.999 - ETA: 5s - loss: -0.0130 - crf_viterbi_accuracy: 0.999 - ETA: 4s - loss: -0.0130 - crf_viterbi_accuracy: 0.999 - ETA: 3s - loss: -0.0130 - crf_viterbi_accuracy: 0.999 - ETA: 2s - loss: -0.0130 - crf_viterbi_accuracy: 0.999 - ETA: 2s - loss: -0.0130 - crf_viterbi_accuracy: 0.999 - ETA: 1s - loss: -0.0130 - crf_viterbi_accuracy: 0.999 - ETA: 0s - loss: -0.0130 - crf_viterbi_accuracy: 0.999 - ETA: 0s - loss: -0.0130 - crf_viterbi_accuracy: 0.999 - 60s 15ms/step - loss: -0.0130 - crf_viterbi_accuracy: 0.9999 - val_loss: -3.7761e-04 - val_crf_viterbi_accuracy: 0.9964\n",
      "Epoch 30/50\n"
     ]
    },
    {
     "name": "stdout",
     "output_type": "stream",
     "text": [
      "4104/4104 [==============================] - ETA: 57s - loss: -0.0134 - crf_viterbi_accuracy: 1.00 - ETA: 55s - loss: -0.0134 - crf_viterbi_accuracy: 1.00 - ETA: 54s - loss: -0.0134 - crf_viterbi_accuracy: 1.00 - ETA: 54s - loss: -0.0134 - crf_viterbi_accuracy: 1.00 - ETA: 53s - loss: -0.0134 - crf_viterbi_accuracy: 1.00 - ETA: 52s - loss: -0.0134 - crf_viterbi_accuracy: 1.00 - ETA: 52s - loss: -0.0133 - crf_viterbi_accuracy: 1.00 - ETA: 51s - loss: -0.0133 - crf_viterbi_accuracy: 0.99 - ETA: 50s - loss: -0.0133 - crf_viterbi_accuracy: 0.99 - ETA: 49s - loss: -0.0133 - crf_viterbi_accuracy: 0.99 - ETA: 49s - loss: -0.0133 - crf_viterbi_accuracy: 0.99 - ETA: 48s - loss: -0.0133 - crf_viterbi_accuracy: 1.00 - ETA: 47s - loss: -0.0133 - crf_viterbi_accuracy: 1.00 - ETA: 47s - loss: -0.0133 - crf_viterbi_accuracy: 0.99 - ETA: 46s - loss: -0.0133 - crf_viterbi_accuracy: 1.00 - ETA: 46s - loss: -0.0133 - crf_viterbi_accuracy: 0.99 - ETA: 45s - loss: -0.0133 - crf_viterbi_accuracy: 1.00 - ETA: 45s - loss: -0.0133 - crf_viterbi_accuracy: 1.00 - ETA: 44s - loss: -0.0133 - crf_viterbi_accuracy: 1.00 - ETA: 43s - loss: -0.0133 - crf_viterbi_accuracy: 1.00 - ETA: 42s - loss: -0.0133 - crf_viterbi_accuracy: 1.00 - ETA: 42s - loss: -0.0133 - crf_viterbi_accuracy: 1.00 - ETA: 41s - loss: -0.0134 - crf_viterbi_accuracy: 1.00 - ETA: 40s - loss: -0.0134 - crf_viterbi_accuracy: 1.00 - ETA: 39s - loss: -0.0134 - crf_viterbi_accuracy: 1.00 - ETA: 39s - loss: -0.0134 - crf_viterbi_accuracy: 1.00 - ETA: 38s - loss: -0.0134 - crf_viterbi_accuracy: 1.00 - ETA: 37s - loss: -0.0134 - crf_viterbi_accuracy: 1.00 - ETA: 36s - loss: -0.0134 - crf_viterbi_accuracy: 1.00 - ETA: 36s - loss: -0.0134 - crf_viterbi_accuracy: 1.00 - ETA: 35s - loss: -0.0134 - crf_viterbi_accuracy: 1.00 - ETA: 34s - loss: -0.0134 - crf_viterbi_accuracy: 1.00 - ETA: 34s - loss: -0.0134 - crf_viterbi_accuracy: 1.00 - ETA: 33s - loss: -0.0134 - crf_viterbi_accuracy: 1.00 - ETA: 32s - loss: -0.0134 - crf_viterbi_accuracy: 1.00 - ETA: 32s - loss: -0.0134 - crf_viterbi_accuracy: 1.00 - ETA: 31s - loss: -0.0134 - crf_viterbi_accuracy: 1.00 - ETA: 30s - loss: -0.0134 - crf_viterbi_accuracy: 1.00 - ETA: 30s - loss: -0.0134 - crf_viterbi_accuracy: 1.00 - ETA: 29s - loss: -0.0134 - crf_viterbi_accuracy: 1.00 - ETA: 28s - loss: -0.0134 - crf_viterbi_accuracy: 1.00 - ETA: 28s - loss: -0.0135 - crf_viterbi_accuracy: 1.00 - ETA: 27s - loss: -0.0135 - crf_viterbi_accuracy: 1.00 - ETA: 26s - loss: -0.0135 - crf_viterbi_accuracy: 1.00 - ETA: 26s - loss: -0.0135 - crf_viterbi_accuracy: 1.00 - ETA: 25s - loss: -0.0135 - crf_viterbi_accuracy: 1.00 - ETA: 24s - loss: -0.0135 - crf_viterbi_accuracy: 1.00 - ETA: 23s - loss: -0.0135 - crf_viterbi_accuracy: 1.00 - ETA: 23s - loss: -0.0135 - crf_viterbi_accuracy: 1.00 - ETA: 22s - loss: -0.0135 - crf_viterbi_accuracy: 1.00 - ETA: 21s - loss: -0.0135 - crf_viterbi_accuracy: 1.00 - ETA: 21s - loss: -0.0135 - crf_viterbi_accuracy: 1.00 - ETA: 20s - loss: -0.0135 - crf_viterbi_accuracy: 1.00 - ETA: 19s - loss: -0.0135 - crf_viterbi_accuracy: 1.00 - ETA: 19s - loss: -0.0135 - crf_viterbi_accuracy: 1.00 - ETA: 18s - loss: -0.0135 - crf_viterbi_accuracy: 1.00 - ETA: 17s - loss: -0.0135 - crf_viterbi_accuracy: 1.00 - ETA: 16s - loss: -0.0135 - crf_viterbi_accuracy: 1.00 - ETA: 16s - loss: -0.0135 - crf_viterbi_accuracy: 1.00 - ETA: 15s - loss: -0.0135 - crf_viterbi_accuracy: 1.00 - ETA: 14s - loss: -0.0135 - crf_viterbi_accuracy: 1.00 - ETA: 14s - loss: -0.0135 - crf_viterbi_accuracy: 1.00 - ETA: 13s - loss: -0.0135 - crf_viterbi_accuracy: 1.00 - ETA: 12s - loss: -0.0135 - crf_viterbi_accuracy: 1.00 - ETA: 12s - loss: -0.0135 - crf_viterbi_accuracy: 1.00 - ETA: 11s - loss: -0.0135 - crf_viterbi_accuracy: 1.00 - ETA: 10s - loss: -0.0135 - crf_viterbi_accuracy: 1.00 - ETA: 9s - loss: -0.0135 - crf_viterbi_accuracy: 1.0000 - ETA: 9s - loss: -0.0135 - crf_viterbi_accuracy: 1.000 - ETA: 8s - loss: -0.0135 - crf_viterbi_accuracy: 1.000 - ETA: 7s - loss: -0.0135 - crf_viterbi_accuracy: 1.000 - ETA: 7s - loss: -0.0135 - crf_viterbi_accuracy: 1.000 - ETA: 6s - loss: -0.0135 - crf_viterbi_accuracy: 1.000 - ETA: 5s - loss: -0.0135 - crf_viterbi_accuracy: 1.000 - ETA: 4s - loss: -0.0135 - crf_viterbi_accuracy: 1.000 - ETA: 4s - loss: -0.0135 - crf_viterbi_accuracy: 1.000 - ETA: 3s - loss: -0.0135 - crf_viterbi_accuracy: 1.000 - ETA: 2s - loss: -0.0135 - crf_viterbi_accuracy: 1.000 - ETA: 2s - loss: -0.0135 - crf_viterbi_accuracy: 1.000 - ETA: 1s - loss: -0.0135 - crf_viterbi_accuracy: 1.000 - ETA: 0s - loss: -0.0135 - crf_viterbi_accuracy: 1.000 - ETA: 0s - loss: -0.0135 - crf_viterbi_accuracy: 1.000 - 60s 15ms/step - loss: -0.0135 - crf_viterbi_accuracy: 1.0000 - val_loss: -2.6135e-04 - val_crf_viterbi_accuracy: 0.9965\n",
      "Epoch 31/50\n"
     ]
    },
    {
     "name": "stdout",
     "output_type": "stream",
     "text": [
      "4104/4104 [==============================] - ETA: 1:00 - loss: -0.0139 - crf_viterbi_accuracy: 1.000 - ETA: 59s - loss: -0.0139 - crf_viterbi_accuracy: 1.000 - ETA: 58s - loss: -0.0139 - crf_viterbi_accuracy: 1.00 - ETA: 57s - loss: -0.0139 - crf_viterbi_accuracy: 1.00 - ETA: 56s - loss: -0.0139 - crf_viterbi_accuracy: 1.00 - ETA: 55s - loss: -0.0139 - crf_viterbi_accuracy: 1.00 - ETA: 54s - loss: -0.0139 - crf_viterbi_accuracy: 1.00 - ETA: 53s - loss: -0.0139 - crf_viterbi_accuracy: 1.00 - ETA: 52s - loss: -0.0139 - crf_viterbi_accuracy: 1.00 - ETA: 51s - loss: -0.0139 - crf_viterbi_accuracy: 1.00 - ETA: 50s - loss: -0.0139 - crf_viterbi_accuracy: 1.00 - ETA: 49s - loss: -0.0139 - crf_viterbi_accuracy: 1.00 - ETA: 48s - loss: -0.0139 - crf_viterbi_accuracy: 1.00 - ETA: 47s - loss: -0.0139 - crf_viterbi_accuracy: 1.00 - ETA: 47s - loss: -0.0139 - crf_viterbi_accuracy: 1.00 - ETA: 46s - loss: -0.0140 - crf_viterbi_accuracy: 1.00 - ETA: 45s - loss: -0.0140 - crf_viterbi_accuracy: 1.00 - ETA: 44s - loss: -0.0140 - crf_viterbi_accuracy: 1.00 - ETA: 44s - loss: -0.0140 - crf_viterbi_accuracy: 1.00 - ETA: 43s - loss: -0.0140 - crf_viterbi_accuracy: 1.00 - ETA: 42s - loss: -0.0140 - crf_viterbi_accuracy: 1.00 - ETA: 42s - loss: -0.0140 - crf_viterbi_accuracy: 1.00 - ETA: 41s - loss: -0.0140 - crf_viterbi_accuracy: 1.00 - ETA: 40s - loss: -0.0140 - crf_viterbi_accuracy: 1.00 - ETA: 40s - loss: -0.0140 - crf_viterbi_accuracy: 1.00 - ETA: 39s - loss: -0.0140 - crf_viterbi_accuracy: 1.00 - ETA: 38s - loss: -0.0140 - crf_viterbi_accuracy: 1.00 - ETA: 38s - loss: -0.0140 - crf_viterbi_accuracy: 1.00 - ETA: 37s - loss: -0.0139 - crf_viterbi_accuracy: 1.00 - ETA: 36s - loss: -0.0140 - crf_viterbi_accuracy: 1.00 - ETA: 36s - loss: -0.0140 - crf_viterbi_accuracy: 1.00 - ETA: 35s - loss: -0.0140 - crf_viterbi_accuracy: 1.00 - ETA: 34s - loss: -0.0140 - crf_viterbi_accuracy: 1.00 - ETA: 33s - loss: -0.0140 - crf_viterbi_accuracy: 1.00 - ETA: 33s - loss: -0.0140 - crf_viterbi_accuracy: 1.00 - ETA: 32s - loss: -0.0140 - crf_viterbi_accuracy: 1.00 - ETA: 31s - loss: -0.0140 - crf_viterbi_accuracy: 1.00 - ETA: 31s - loss: -0.0139 - crf_viterbi_accuracy: 1.00 - ETA: 30s - loss: -0.0139 - crf_viterbi_accuracy: 0.99 - ETA: 29s - loss: -0.0139 - crf_viterbi_accuracy: 0.99 - ETA: 28s - loss: -0.0139 - crf_viterbi_accuracy: 0.99 - ETA: 28s - loss: -0.0140 - crf_viterbi_accuracy: 0.99 - ETA: 27s - loss: -0.0140 - crf_viterbi_accuracy: 1.00 - ETA: 26s - loss: -0.0140 - crf_viterbi_accuracy: 1.00 - ETA: 26s - loss: -0.0140 - crf_viterbi_accuracy: 1.00 - ETA: 25s - loss: -0.0140 - crf_viterbi_accuracy: 1.00 - ETA: 24s - loss: -0.0140 - crf_viterbi_accuracy: 1.00 - ETA: 24s - loss: -0.0140 - crf_viterbi_accuracy: 1.00 - ETA: 23s - loss: -0.0140 - crf_viterbi_accuracy: 1.00 - ETA: 22s - loss: -0.0140 - crf_viterbi_accuracy: 1.00 - ETA: 21s - loss: -0.0140 - crf_viterbi_accuracy: 0.99 - ETA: 21s - loss: -0.0140 - crf_viterbi_accuracy: 0.99 - ETA: 20s - loss: -0.0140 - crf_viterbi_accuracy: 0.99 - ETA: 19s - loss: -0.0140 - crf_viterbi_accuracy: 0.99 - ETA: 19s - loss: -0.0140 - crf_viterbi_accuracy: 0.99 - ETA: 18s - loss: -0.0140 - crf_viterbi_accuracy: 0.99 - ETA: 17s - loss: -0.0140 - crf_viterbi_accuracy: 0.99 - ETA: 16s - loss: -0.0140 - crf_viterbi_accuracy: 0.99 - ETA: 16s - loss: -0.0140 - crf_viterbi_accuracy: 0.99 - ETA: 15s - loss: -0.0140 - crf_viterbi_accuracy: 1.00 - ETA: 14s - loss: -0.0140 - crf_viterbi_accuracy: 0.99 - ETA: 14s - loss: -0.0140 - crf_viterbi_accuracy: 0.99 - ETA: 13s - loss: -0.0140 - crf_viterbi_accuracy: 0.99 - ETA: 12s - loss: -0.0140 - crf_viterbi_accuracy: 0.99 - ETA: 12s - loss: -0.0140 - crf_viterbi_accuracy: 0.99 - ETA: 11s - loss: -0.0140 - crf_viterbi_accuracy: 0.99 - ETA: 10s - loss: -0.0140 - crf_viterbi_accuracy: 0.99 - ETA: 9s - loss: -0.0140 - crf_viterbi_accuracy: 0.9999 - ETA: 9s - loss: -0.0140 - crf_viterbi_accuracy: 0.999 - ETA: 8s - loss: -0.0140 - crf_viterbi_accuracy: 0.999 - ETA: 7s - loss: -0.0140 - crf_viterbi_accuracy: 0.999 - ETA: 7s - loss: -0.0140 - crf_viterbi_accuracy: 0.999 - ETA: 6s - loss: -0.0140 - crf_viterbi_accuracy: 0.999 - ETA: 5s - loss: -0.0140 - crf_viterbi_accuracy: 0.999 - ETA: 4s - loss: -0.0140 - crf_viterbi_accuracy: 0.999 - ETA: 4s - loss: -0.0140 - crf_viterbi_accuracy: 0.999 - ETA: 3s - loss: -0.0140 - crf_viterbi_accuracy: 0.999 - ETA: 2s - loss: -0.0140 - crf_viterbi_accuracy: 0.999 - ETA: 2s - loss: -0.0140 - crf_viterbi_accuracy: 0.999 - ETA: 1s - loss: -0.0140 - crf_viterbi_accuracy: 0.999 - ETA: 0s - loss: -0.0140 - crf_viterbi_accuracy: 0.999 - ETA: 0s - loss: -0.0140 - crf_viterbi_accuracy: 0.999 - 60s 15ms/step - loss: -0.0140 - crf_viterbi_accuracy: 0.9999 - val_loss: -0.0014 - val_crf_viterbi_accuracy: 0.9967\n",
      "Epoch 32/50\n"
     ]
    },
    {
     "name": "stdout",
     "output_type": "stream",
     "text": [
      "4104/4104 [==============================] - ETA: 59s - loss: -0.0143 - crf_viterbi_accuracy: 1.00 - ETA: 57s - loss: -0.0144 - crf_viterbi_accuracy: 1.00 - ETA: 56s - loss: -0.0144 - crf_viterbi_accuracy: 1.00 - ETA: 55s - loss: -0.0144 - crf_viterbi_accuracy: 0.99 - ETA: 54s - loss: -0.0144 - crf_viterbi_accuracy: 1.00 - ETA: 53s - loss: -0.0144 - crf_viterbi_accuracy: 1.00 - ETA: 53s - loss: -0.0144 - crf_viterbi_accuracy: 0.99 - ETA: 52s - loss: -0.0144 - crf_viterbi_accuracy: 1.00 - ETA: 52s - loss: -0.0144 - crf_viterbi_accuracy: 1.00 - ETA: 51s - loss: -0.0144 - crf_viterbi_accuracy: 1.00 - ETA: 51s - loss: -0.0144 - crf_viterbi_accuracy: 1.00 - ETA: 51s - loss: -0.0144 - crf_viterbi_accuracy: 1.00 - ETA: 50s - loss: -0.0144 - crf_viterbi_accuracy: 1.00 - ETA: 50s - loss: -0.0144 - crf_viterbi_accuracy: 1.00 - ETA: 49s - loss: -0.0144 - crf_viterbi_accuracy: 1.00 - ETA: 48s - loss: -0.0144 - crf_viterbi_accuracy: 1.00 - ETA: 47s - loss: -0.0144 - crf_viterbi_accuracy: 1.00 - ETA: 46s - loss: -0.0144 - crf_viterbi_accuracy: 1.00 - ETA: 45s - loss: -0.0144 - crf_viterbi_accuracy: 1.00 - ETA: 45s - loss: -0.0144 - crf_viterbi_accuracy: 1.00 - ETA: 44s - loss: -0.0144 - crf_viterbi_accuracy: 1.00 - ETA: 43s - loss: -0.0144 - crf_viterbi_accuracy: 1.00 - ETA: 42s - loss: -0.0144 - crf_viterbi_accuracy: 1.00 - ETA: 42s - loss: -0.0144 - crf_viterbi_accuracy: 1.00 - ETA: 41s - loss: -0.0145 - crf_viterbi_accuracy: 1.00 - ETA: 40s - loss: -0.0145 - crf_viterbi_accuracy: 1.00 - ETA: 39s - loss: -0.0145 - crf_viterbi_accuracy: 1.00 - ETA: 38s - loss: -0.0145 - crf_viterbi_accuracy: 1.00 - ETA: 38s - loss: -0.0145 - crf_viterbi_accuracy: 1.00 - ETA: 37s - loss: -0.0145 - crf_viterbi_accuracy: 1.00 - ETA: 36s - loss: -0.0145 - crf_viterbi_accuracy: 1.00 - ETA: 36s - loss: -0.0145 - crf_viterbi_accuracy: 1.00 - ETA: 35s - loss: -0.0145 - crf_viterbi_accuracy: 1.00 - ETA: 34s - loss: -0.0145 - crf_viterbi_accuracy: 1.00 - ETA: 33s - loss: -0.0145 - crf_viterbi_accuracy: 1.00 - ETA: 33s - loss: -0.0145 - crf_viterbi_accuracy: 1.00 - ETA: 32s - loss: -0.0145 - crf_viterbi_accuracy: 1.00 - ETA: 31s - loss: -0.0145 - crf_viterbi_accuracy: 1.00 - ETA: 30s - loss: -0.0145 - crf_viterbi_accuracy: 1.00 - ETA: 30s - loss: -0.0145 - crf_viterbi_accuracy: 1.00 - ETA: 29s - loss: -0.0145 - crf_viterbi_accuracy: 1.00 - ETA: 28s - loss: -0.0145 - crf_viterbi_accuracy: 1.00 - ETA: 27s - loss: -0.0145 - crf_viterbi_accuracy: 1.00 - ETA: 27s - loss: -0.0145 - crf_viterbi_accuracy: 1.00 - ETA: 26s - loss: -0.0145 - crf_viterbi_accuracy: 1.00 - ETA: 25s - loss: -0.0145 - crf_viterbi_accuracy: 1.00 - ETA: 25s - loss: -0.0145 - crf_viterbi_accuracy: 1.00 - ETA: 24s - loss: -0.0145 - crf_viterbi_accuracy: 1.00 - ETA: 23s - loss: -0.0145 - crf_viterbi_accuracy: 1.00 - ETA: 22s - loss: -0.0145 - crf_viterbi_accuracy: 1.00 - ETA: 22s - loss: -0.0145 - crf_viterbi_accuracy: 1.00 - ETA: 21s - loss: -0.0145 - crf_viterbi_accuracy: 1.00 - ETA: 20s - loss: -0.0145 - crf_viterbi_accuracy: 1.00 - ETA: 20s - loss: -0.0145 - crf_viterbi_accuracy: 1.00 - ETA: 19s - loss: -0.0145 - crf_viterbi_accuracy: 1.00 - ETA: 18s - loss: -0.0145 - crf_viterbi_accuracy: 1.00 - ETA: 17s - loss: -0.0145 - crf_viterbi_accuracy: 1.00 - ETA: 17s - loss: -0.0145 - crf_viterbi_accuracy: 1.00 - ETA: 16s - loss: -0.0145 - crf_viterbi_accuracy: 1.00 - ETA: 15s - loss: -0.0145 - crf_viterbi_accuracy: 1.00 - ETA: 15s - loss: -0.0145 - crf_viterbi_accuracy: 1.00 - ETA: 14s - loss: -0.0145 - crf_viterbi_accuracy: 1.00 - ETA: 13s - loss: -0.0146 - crf_viterbi_accuracy: 1.00 - ETA: 12s - loss: -0.0146 - crf_viterbi_accuracy: 1.00 - ETA: 12s - loss: -0.0146 - crf_viterbi_accuracy: 1.00 - ETA: 11s - loss: -0.0146 - crf_viterbi_accuracy: 1.00 - ETA: 10s - loss: -0.0146 - crf_viterbi_accuracy: 1.00 - ETA: 10s - loss: -0.0146 - crf_viterbi_accuracy: 1.00 - ETA: 9s - loss: -0.0146 - crf_viterbi_accuracy: 1.0000 - ETA: 8s - loss: -0.0146 - crf_viterbi_accuracy: 1.000 - ETA: 7s - loss: -0.0146 - crf_viterbi_accuracy: 1.000 - ETA: 7s - loss: -0.0146 - crf_viterbi_accuracy: 1.000 - ETA: 6s - loss: -0.0146 - crf_viterbi_accuracy: 1.000 - ETA: 5s - loss: -0.0146 - crf_viterbi_accuracy: 1.000 - ETA: 5s - loss: -0.0146 - crf_viterbi_accuracy: 1.000 - ETA: 4s - loss: -0.0146 - crf_viterbi_accuracy: 1.000 - ETA: 3s - loss: -0.0146 - crf_viterbi_accuracy: 1.000 - ETA: 2s - loss: -0.0146 - crf_viterbi_accuracy: 1.000 - ETA: 2s - loss: -0.0146 - crf_viterbi_accuracy: 1.000 - ETA: 1s - loss: -0.0146 - crf_viterbi_accuracy: 1.000 - ETA: 0s - loss: -0.0146 - crf_viterbi_accuracy: 1.000 - ETA: 0s - loss: -0.0146 - crf_viterbi_accuracy: 1.000 - 61s 15ms/step - loss: -0.0146 - crf_viterbi_accuracy: 1.0000 - val_loss: -9.4409e-04 - val_crf_viterbi_accuracy: 0.9965\n",
      "Epoch 33/50\n"
     ]
    },
    {
     "name": "stdout",
     "output_type": "stream",
     "text": [
      "4104/4104 [==============================] - ETA: 58s - loss: -0.0149 - crf_viterbi_accuracy: 1.00 - ETA: 57s - loss: -0.0149 - crf_viterbi_accuracy: 1.00 - ETA: 55s - loss: -0.0149 - crf_viterbi_accuracy: 1.00 - ETA: 54s - loss: -0.0148 - crf_viterbi_accuracy: 0.99 - ETA: 54s - loss: -0.0148 - crf_viterbi_accuracy: 0.99 - ETA: 53s - loss: -0.0148 - crf_viterbi_accuracy: 0.99 - ETA: 53s - loss: -0.0148 - crf_viterbi_accuracy: 0.99 - ETA: 52s - loss: -0.0148 - crf_viterbi_accuracy: 1.00 - ETA: 51s - loss: -0.0149 - crf_viterbi_accuracy: 1.00 - ETA: 50s - loss: -0.0149 - crf_viterbi_accuracy: 1.00 - ETA: 50s - loss: -0.0149 - crf_viterbi_accuracy: 1.00 - ETA: 49s - loss: -0.0149 - crf_viterbi_accuracy: 1.00 - ETA: 48s - loss: -0.0149 - crf_viterbi_accuracy: 1.00 - ETA: 48s - loss: -0.0149 - crf_viterbi_accuracy: 1.00 - ETA: 47s - loss: -0.0149 - crf_viterbi_accuracy: 1.00 - ETA: 46s - loss: -0.0149 - crf_viterbi_accuracy: 1.00 - ETA: 45s - loss: -0.0149 - crf_viterbi_accuracy: 1.00 - ETA: 45s - loss: -0.0149 - crf_viterbi_accuracy: 1.00 - ETA: 44s - loss: -0.0149 - crf_viterbi_accuracy: 1.00 - ETA: 44s - loss: -0.0149 - crf_viterbi_accuracy: 1.00 - ETA: 43s - loss: -0.0149 - crf_viterbi_accuracy: 1.00 - ETA: 42s - loss: -0.0149 - crf_viterbi_accuracy: 1.00 - ETA: 42s - loss: -0.0149 - crf_viterbi_accuracy: 1.00 - ETA: 41s - loss: -0.0149 - crf_viterbi_accuracy: 1.00 - ETA: 40s - loss: -0.0149 - crf_viterbi_accuracy: 1.00 - ETA: 40s - loss: -0.0149 - crf_viterbi_accuracy: 1.00 - ETA: 39s - loss: -0.0149 - crf_viterbi_accuracy: 1.00 - ETA: 38s - loss: -0.0149 - crf_viterbi_accuracy: 1.00 - ETA: 37s - loss: -0.0149 - crf_viterbi_accuracy: 1.00 - ETA: 37s - loss: -0.0149 - crf_viterbi_accuracy: 1.00 - ETA: 36s - loss: -0.0149 - crf_viterbi_accuracy: 1.00 - ETA: 35s - loss: -0.0149 - crf_viterbi_accuracy: 1.00 - ETA: 34s - loss: -0.0149 - crf_viterbi_accuracy: 1.00 - ETA: 34s - loss: -0.0149 - crf_viterbi_accuracy: 1.00 - ETA: 33s - loss: -0.0149 - crf_viterbi_accuracy: 1.00 - ETA: 32s - loss: -0.0149 - crf_viterbi_accuracy: 1.00 - ETA: 32s - loss: -0.0149 - crf_viterbi_accuracy: 1.00 - ETA: 31s - loss: -0.0149 - crf_viterbi_accuracy: 1.00 - ETA: 30s - loss: -0.0149 - crf_viterbi_accuracy: 1.00 - ETA: 29s - loss: -0.0150 - crf_viterbi_accuracy: 1.00 - ETA: 29s - loss: -0.0150 - crf_viterbi_accuracy: 1.00 - ETA: 28s - loss: -0.0150 - crf_viterbi_accuracy: 1.00 - ETA: 27s - loss: -0.0150 - crf_viterbi_accuracy: 1.00 - ETA: 27s - loss: -0.0150 - crf_viterbi_accuracy: 1.00 - ETA: 26s - loss: -0.0150 - crf_viterbi_accuracy: 1.00 - ETA: 25s - loss: -0.0150 - crf_viterbi_accuracy: 1.00 - ETA: 25s - loss: -0.0150 - crf_viterbi_accuracy: 1.00 - ETA: 24s - loss: -0.0150 - crf_viterbi_accuracy: 1.00 - ETA: 23s - loss: -0.0150 - crf_viterbi_accuracy: 1.00 - ETA: 22s - loss: -0.0150 - crf_viterbi_accuracy: 1.00 - ETA: 22s - loss: -0.0150 - crf_viterbi_accuracy: 1.00 - ETA: 21s - loss: -0.0150 - crf_viterbi_accuracy: 1.00 - ETA: 20s - loss: -0.0150 - crf_viterbi_accuracy: 1.00 - ETA: 20s - loss: -0.0150 - crf_viterbi_accuracy: 1.00 - ETA: 19s - loss: -0.0150 - crf_viterbi_accuracy: 1.00 - ETA: 18s - loss: -0.0150 - crf_viterbi_accuracy: 1.00 - ETA: 17s - loss: -0.0150 - crf_viterbi_accuracy: 1.00 - ETA: 17s - loss: -0.0150 - crf_viterbi_accuracy: 1.00 - ETA: 16s - loss: -0.0150 - crf_viterbi_accuracy: 1.00 - ETA: 15s - loss: -0.0150 - crf_viterbi_accuracy: 1.00 - ETA: 15s - loss: -0.0150 - crf_viterbi_accuracy: 1.00 - ETA: 14s - loss: -0.0150 - crf_viterbi_accuracy: 1.00 - ETA: 13s - loss: -0.0150 - crf_viterbi_accuracy: 1.00 - ETA: 12s - loss: -0.0150 - crf_viterbi_accuracy: 1.00 - ETA: 12s - loss: -0.0150 - crf_viterbi_accuracy: 1.00 - ETA: 11s - loss: -0.0150 - crf_viterbi_accuracy: 0.99 - ETA: 10s - loss: -0.0150 - crf_viterbi_accuracy: 0.99 - ETA: 10s - loss: -0.0150 - crf_viterbi_accuracy: 0.99 - ETA: 9s - loss: -0.0150 - crf_viterbi_accuracy: 0.9999 - ETA: 8s - loss: -0.0150 - crf_viterbi_accuracy: 0.999 - ETA: 7s - loss: -0.0150 - crf_viterbi_accuracy: 0.999 - ETA: 7s - loss: -0.0150 - crf_viterbi_accuracy: 0.999 - ETA: 6s - loss: -0.0150 - crf_viterbi_accuracy: 0.999 - ETA: 5s - loss: -0.0150 - crf_viterbi_accuracy: 0.999 - ETA: 5s - loss: -0.0150 - crf_viterbi_accuracy: 0.999 - ETA: 4s - loss: -0.0150 - crf_viterbi_accuracy: 0.999 - ETA: 3s - loss: -0.0150 - crf_viterbi_accuracy: 0.999 - ETA: 2s - loss: -0.0150 - crf_viterbi_accuracy: 0.999 - ETA: 2s - loss: -0.0150 - crf_viterbi_accuracy: 0.999 - ETA: 1s - loss: -0.0150 - crf_viterbi_accuracy: 0.999 - ETA: 0s - loss: -0.0150 - crf_viterbi_accuracy: 0.999 - ETA: 0s - loss: -0.0150 - crf_viterbi_accuracy: 0.999 - 61s 15ms/step - loss: -0.0150 - crf_viterbi_accuracy: 0.9999 - val_loss: -2.3195e-04 - val_crf_viterbi_accuracy: 0.9965\n",
      "Epoch 34/50\n"
     ]
    },
    {
     "name": "stdout",
     "output_type": "stream",
     "text": [
      "4104/4104 [==============================] - ETA: 59s - loss: -0.0154 - crf_viterbi_accuracy: 1.00 - ETA: 57s - loss: -0.0154 - crf_viterbi_accuracy: 1.00 - ETA: 55s - loss: -0.0153 - crf_viterbi_accuracy: 1.00 - ETA: 55s - loss: -0.0153 - crf_viterbi_accuracy: 1.00 - ETA: 55s - loss: -0.0154 - crf_viterbi_accuracy: 1.00 - ETA: 54s - loss: -0.0154 - crf_viterbi_accuracy: 1.00 - ETA: 54s - loss: -0.0154 - crf_viterbi_accuracy: 1.00 - ETA: 54s - loss: -0.0154 - crf_viterbi_accuracy: 1.00 - ETA: 54s - loss: -0.0154 - crf_viterbi_accuracy: 1.00 - ETA: 53s - loss: -0.0154 - crf_viterbi_accuracy: 1.00 - ETA: 52s - loss: -0.0154 - crf_viterbi_accuracy: 1.00 - ETA: 52s - loss: -0.0154 - crf_viterbi_accuracy: 1.00 - ETA: 51s - loss: -0.0154 - crf_viterbi_accuracy: 1.00 - ETA: 50s - loss: -0.0154 - crf_viterbi_accuracy: 1.00 - ETA: 49s - loss: -0.0154 - crf_viterbi_accuracy: 1.00 - ETA: 48s - loss: -0.0154 - crf_viterbi_accuracy: 1.00 - ETA: 47s - loss: -0.0154 - crf_viterbi_accuracy: 1.00 - ETA: 46s - loss: -0.0154 - crf_viterbi_accuracy: 1.00 - ETA: 45s - loss: -0.0154 - crf_viterbi_accuracy: 1.00 - ETA: 45s - loss: -0.0154 - crf_viterbi_accuracy: 1.00 - ETA: 44s - loss: -0.0154 - crf_viterbi_accuracy: 1.00 - ETA: 43s - loss: -0.0154 - crf_viterbi_accuracy: 1.00 - ETA: 42s - loss: -0.0154 - crf_viterbi_accuracy: 1.00 - ETA: 42s - loss: -0.0154 - crf_viterbi_accuracy: 1.00 - ETA: 41s - loss: -0.0155 - crf_viterbi_accuracy: 1.00 - ETA: 40s - loss: -0.0155 - crf_viterbi_accuracy: 1.00 - ETA: 39s - loss: -0.0155 - crf_viterbi_accuracy: 1.00 - ETA: 39s - loss: -0.0155 - crf_viterbi_accuracy: 1.00 - ETA: 38s - loss: -0.0155 - crf_viterbi_accuracy: 1.00 - ETA: 37s - loss: -0.0155 - crf_viterbi_accuracy: 1.00 - ETA: 37s - loss: -0.0155 - crf_viterbi_accuracy: 1.00 - ETA: 36s - loss: -0.0155 - crf_viterbi_accuracy: 1.00 - ETA: 35s - loss: -0.0155 - crf_viterbi_accuracy: 1.00 - ETA: 34s - loss: -0.0155 - crf_viterbi_accuracy: 1.00 - ETA: 34s - loss: -0.0155 - crf_viterbi_accuracy: 1.00 - ETA: 33s - loss: -0.0155 - crf_viterbi_accuracy: 1.00 - ETA: 32s - loss: -0.0155 - crf_viterbi_accuracy: 1.00 - ETA: 31s - loss: -0.0155 - crf_viterbi_accuracy: 1.00 - ETA: 31s - loss: -0.0155 - crf_viterbi_accuracy: 1.00 - ETA: 30s - loss: -0.0155 - crf_viterbi_accuracy: 1.00 - ETA: 29s - loss: -0.0155 - crf_viterbi_accuracy: 1.00 - ETA: 28s - loss: -0.0155 - crf_viterbi_accuracy: 1.00 - ETA: 28s - loss: -0.0155 - crf_viterbi_accuracy: 1.00 - ETA: 27s - loss: -0.0155 - crf_viterbi_accuracy: 1.00 - ETA: 26s - loss: -0.0155 - crf_viterbi_accuracy: 1.00 - ETA: 25s - loss: -0.0155 - crf_viterbi_accuracy: 1.00 - ETA: 25s - loss: -0.0155 - crf_viterbi_accuracy: 1.00 - ETA: 24s - loss: -0.0155 - crf_viterbi_accuracy: 1.00 - ETA: 23s - loss: -0.0155 - crf_viterbi_accuracy: 1.00 - ETA: 23s - loss: -0.0155 - crf_viterbi_accuracy: 1.00 - ETA: 22s - loss: -0.0155 - crf_viterbi_accuracy: 1.00 - ETA: 21s - loss: -0.0155 - crf_viterbi_accuracy: 1.00 - ETA: 20s - loss: -0.0155 - crf_viterbi_accuracy: 1.00 - ETA: 20s - loss: -0.0155 - crf_viterbi_accuracy: 1.00 - ETA: 19s - loss: -0.0155 - crf_viterbi_accuracy: 1.00 - ETA: 18s - loss: -0.0155 - crf_viterbi_accuracy: 1.00 - ETA: 18s - loss: -0.0155 - crf_viterbi_accuracy: 1.00 - ETA: 17s - loss: -0.0155 - crf_viterbi_accuracy: 1.00 - ETA: 16s - loss: -0.0155 - crf_viterbi_accuracy: 1.00 - ETA: 15s - loss: -0.0155 - crf_viterbi_accuracy: 1.00 - ETA: 15s - loss: -0.0155 - crf_viterbi_accuracy: 1.00 - ETA: 14s - loss: -0.0155 - crf_viterbi_accuracy: 1.00 - ETA: 13s - loss: -0.0156 - crf_viterbi_accuracy: 1.00 - ETA: 12s - loss: -0.0155 - crf_viterbi_accuracy: 1.00 - ETA: 12s - loss: -0.0156 - crf_viterbi_accuracy: 1.00 - ETA: 11s - loss: -0.0156 - crf_viterbi_accuracy: 1.00 - ETA: 10s - loss: -0.0156 - crf_viterbi_accuracy: 1.00 - ETA: 10s - loss: -0.0156 - crf_viterbi_accuracy: 1.00 - ETA: 9s - loss: -0.0156 - crf_viterbi_accuracy: 1.0000 - ETA: 8s - loss: -0.0156 - crf_viterbi_accuracy: 1.000 - ETA: 7s - loss: -0.0156 - crf_viterbi_accuracy: 1.000 - ETA: 7s - loss: -0.0156 - crf_viterbi_accuracy: 1.000 - ETA: 6s - loss: -0.0156 - crf_viterbi_accuracy: 1.000 - ETA: 5s - loss: -0.0156 - crf_viterbi_accuracy: 1.000 - ETA: 5s - loss: -0.0156 - crf_viterbi_accuracy: 1.000 - ETA: 4s - loss: -0.0156 - crf_viterbi_accuracy: 1.000 - ETA: 3s - loss: -0.0156 - crf_viterbi_accuracy: 1.000 - ETA: 2s - loss: -0.0156 - crf_viterbi_accuracy: 1.000 - ETA: 2s - loss: -0.0156 - crf_viterbi_accuracy: 1.000 - ETA: 1s - loss: -0.0156 - crf_viterbi_accuracy: 1.000 - ETA: 0s - loss: -0.0156 - crf_viterbi_accuracy: 1.000 - ETA: 0s - loss: -0.0156 - crf_viterbi_accuracy: 1.000 - 61s 15ms/step - loss: -0.0156 - crf_viterbi_accuracy: 1.0000 - val_loss: -0.0016 - val_crf_viterbi_accuracy: 0.9967\n",
      "Epoch 35/50\n"
     ]
    },
    {
     "name": "stdout",
     "output_type": "stream",
     "text": [
      "4104/4104 [==============================] - ETA: 59s - loss: -0.0156 - crf_viterbi_accuracy: 0.99 - ETA: 56s - loss: -0.0158 - crf_viterbi_accuracy: 0.99 - ETA: 56s - loss: -0.0157 - crf_viterbi_accuracy: 0.99 - ETA: 55s - loss: -0.0158 - crf_viterbi_accuracy: 0.99 - ETA: 54s - loss: -0.0158 - crf_viterbi_accuracy: 0.99 - ETA: 53s - loss: -0.0158 - crf_viterbi_accuracy: 0.99 - ETA: 53s - loss: -0.0158 - crf_viterbi_accuracy: 0.99 - ETA: 52s - loss: -0.0158 - crf_viterbi_accuracy: 1.00 - ETA: 51s - loss: -0.0158 - crf_viterbi_accuracy: 1.00 - ETA: 51s - loss: -0.0158 - crf_viterbi_accuracy: 1.00 - ETA: 50s - loss: -0.0159 - crf_viterbi_accuracy: 1.00 - ETA: 49s - loss: -0.0159 - crf_viterbi_accuracy: 1.00 - ETA: 48s - loss: -0.0159 - crf_viterbi_accuracy: 1.00 - ETA: 48s - loss: -0.0159 - crf_viterbi_accuracy: 1.00 - ETA: 47s - loss: -0.0159 - crf_viterbi_accuracy: 1.00 - ETA: 47s - loss: -0.0159 - crf_viterbi_accuracy: 1.00 - ETA: 46s - loss: -0.0159 - crf_viterbi_accuracy: 1.00 - ETA: 45s - loss: -0.0159 - crf_viterbi_accuracy: 1.00 - ETA: 45s - loss: -0.0159 - crf_viterbi_accuracy: 1.00 - ETA: 44s - loss: -0.0159 - crf_viterbi_accuracy: 1.00 - ETA: 43s - loss: -0.0159 - crf_viterbi_accuracy: 1.00 - ETA: 43s - loss: -0.0159 - crf_viterbi_accuracy: 1.00 - ETA: 42s - loss: -0.0159 - crf_viterbi_accuracy: 1.00 - ETA: 41s - loss: -0.0159 - crf_viterbi_accuracy: 1.00 - ETA: 40s - loss: -0.0159 - crf_viterbi_accuracy: 1.00 - ETA: 40s - loss: -0.0159 - crf_viterbi_accuracy: 1.00 - ETA: 39s - loss: -0.0159 - crf_viterbi_accuracy: 1.00 - ETA: 38s - loss: -0.0159 - crf_viterbi_accuracy: 1.00 - ETA: 37s - loss: -0.0159 - crf_viterbi_accuracy: 1.00 - ETA: 37s - loss: -0.0159 - crf_viterbi_accuracy: 1.00 - ETA: 36s - loss: -0.0159 - crf_viterbi_accuracy: 1.00 - ETA: 35s - loss: -0.0159 - crf_viterbi_accuracy: 1.00 - ETA: 34s - loss: -0.0159 - crf_viterbi_accuracy: 1.00 - ETA: 34s - loss: -0.0159 - crf_viterbi_accuracy: 1.00 - ETA: 33s - loss: -0.0159 - crf_viterbi_accuracy: 1.00 - ETA: 32s - loss: -0.0159 - crf_viterbi_accuracy: 1.00 - ETA: 32s - loss: -0.0159 - crf_viterbi_accuracy: 1.00 - ETA: 31s - loss: -0.0159 - crf_viterbi_accuracy: 1.00 - ETA: 30s - loss: -0.0159 - crf_viterbi_accuracy: 1.00 - ETA: 30s - loss: -0.0159 - crf_viterbi_accuracy: 1.00 - ETA: 29s - loss: -0.0159 - crf_viterbi_accuracy: 1.00 - ETA: 28s - loss: -0.0160 - crf_viterbi_accuracy: 1.00 - ETA: 27s - loss: -0.0160 - crf_viterbi_accuracy: 1.00 - ETA: 27s - loss: -0.0160 - crf_viterbi_accuracy: 1.00 - ETA: 26s - loss: -0.0160 - crf_viterbi_accuracy: 1.00 - ETA: 25s - loss: -0.0160 - crf_viterbi_accuracy: 1.00 - ETA: 24s - loss: -0.0160 - crf_viterbi_accuracy: 1.00 - ETA: 24s - loss: -0.0160 - crf_viterbi_accuracy: 1.00 - ETA: 23s - loss: -0.0160 - crf_viterbi_accuracy: 1.00 - ETA: 22s - loss: -0.0160 - crf_viterbi_accuracy: 1.00 - ETA: 22s - loss: -0.0160 - crf_viterbi_accuracy: 1.00 - ETA: 21s - loss: -0.0160 - crf_viterbi_accuracy: 1.00 - ETA: 20s - loss: -0.0160 - crf_viterbi_accuracy: 1.00 - ETA: 19s - loss: -0.0160 - crf_viterbi_accuracy: 1.00 - ETA: 19s - loss: -0.0160 - crf_viterbi_accuracy: 1.00 - ETA: 18s - loss: -0.0160 - crf_viterbi_accuracy: 1.00 - ETA: 17s - loss: -0.0160 - crf_viterbi_accuracy: 1.00 - ETA: 17s - loss: -0.0160 - crf_viterbi_accuracy: 1.00 - ETA: 16s - loss: -0.0160 - crf_viterbi_accuracy: 1.00 - ETA: 15s - loss: -0.0160 - crf_viterbi_accuracy: 1.00 - ETA: 15s - loss: -0.0160 - crf_viterbi_accuracy: 1.00 - ETA: 14s - loss: -0.0160 - crf_viterbi_accuracy: 1.00 - ETA: 13s - loss: -0.0160 - crf_viterbi_accuracy: 1.00 - ETA: 12s - loss: -0.0160 - crf_viterbi_accuracy: 1.00 - ETA: 12s - loss: -0.0160 - crf_viterbi_accuracy: 1.00 - ETA: 11s - loss: -0.0160 - crf_viterbi_accuracy: 1.00 - ETA: 10s - loss: -0.0160 - crf_viterbi_accuracy: 1.00 - ETA: 10s - loss: -0.0160 - crf_viterbi_accuracy: 1.00 - ETA: 9s - loss: -0.0160 - crf_viterbi_accuracy: 1.0000 - ETA: 8s - loss: -0.0160 - crf_viterbi_accuracy: 1.000 - ETA: 7s - loss: -0.0160 - crf_viterbi_accuracy: 1.000 - ETA: 7s - loss: -0.0160 - crf_viterbi_accuracy: 1.000 - ETA: 6s - loss: -0.0160 - crf_viterbi_accuracy: 1.000 - ETA: 5s - loss: -0.0160 - crf_viterbi_accuracy: 1.000 - ETA: 5s - loss: -0.0160 - crf_viterbi_accuracy: 1.000 - ETA: 4s - loss: -0.0161 - crf_viterbi_accuracy: 1.000 - ETA: 3s - loss: -0.0161 - crf_viterbi_accuracy: 1.000 - ETA: 2s - loss: -0.0161 - crf_viterbi_accuracy: 1.000 - ETA: 2s - loss: -0.0161 - crf_viterbi_accuracy: 1.000 - ETA: 1s - loss: -0.0161 - crf_viterbi_accuracy: 1.000 - ETA: 0s - loss: -0.0161 - crf_viterbi_accuracy: 1.000 - ETA: 0s - loss: -0.0161 - crf_viterbi_accuracy: 1.000 - 60s 15ms/step - loss: -0.0161 - crf_viterbi_accuracy: 1.0000 - val_loss: -0.0015 - val_crf_viterbi_accuracy: 0.9969\n",
      "Epoch 36/50\n"
     ]
    },
    {
     "name": "stdout",
     "output_type": "stream",
     "text": [
      "4104/4104 [==============================] - ETA: 59s - loss: -0.0164 - crf_viterbi_accuracy: 1.00 - ETA: 59s - loss: -0.0163 - crf_viterbi_accuracy: 1.00 - ETA: 59s - loss: -0.0163 - crf_viterbi_accuracy: 1.00 - ETA: 57s - loss: -0.0163 - crf_viterbi_accuracy: 1.00 - ETA: 57s - loss: -0.0163 - crf_viterbi_accuracy: 1.00 - ETA: 55s - loss: -0.0163 - crf_viterbi_accuracy: 1.00 - ETA: 54s - loss: -0.0164 - crf_viterbi_accuracy: 1.00 - ETA: 53s - loss: -0.0164 - crf_viterbi_accuracy: 1.00 - ETA: 53s - loss: -0.0164 - crf_viterbi_accuracy: 1.00 - ETA: 52s - loss: -0.0163 - crf_viterbi_accuracy: 1.00 - ETA: 51s - loss: -0.0163 - crf_viterbi_accuracy: 1.00 - ETA: 50s - loss: -0.0163 - crf_viterbi_accuracy: 1.00 - ETA: 49s - loss: -0.0163 - crf_viterbi_accuracy: 1.00 - ETA: 48s - loss: -0.0164 - crf_viterbi_accuracy: 1.00 - ETA: 48s - loss: -0.0164 - crf_viterbi_accuracy: 1.00 - ETA: 47s - loss: -0.0164 - crf_viterbi_accuracy: 1.00 - ETA: 47s - loss: -0.0164 - crf_viterbi_accuracy: 1.00 - ETA: 46s - loss: -0.0164 - crf_viterbi_accuracy: 1.00 - ETA: 45s - loss: -0.0164 - crf_viterbi_accuracy: 1.00 - ETA: 44s - loss: -0.0164 - crf_viterbi_accuracy: 1.00 - ETA: 44s - loss: -0.0164 - crf_viterbi_accuracy: 1.00 - ETA: 43s - loss: -0.0164 - crf_viterbi_accuracy: 1.00 - ETA: 42s - loss: -0.0164 - crf_viterbi_accuracy: 1.00 - ETA: 42s - loss: -0.0164 - crf_viterbi_accuracy: 1.00 - ETA: 41s - loss: -0.0164 - crf_viterbi_accuracy: 1.00 - ETA: 40s - loss: -0.0164 - crf_viterbi_accuracy: 1.00 - ETA: 40s - loss: -0.0164 - crf_viterbi_accuracy: 1.00 - ETA: 39s - loss: -0.0164 - crf_viterbi_accuracy: 1.00 - ETA: 38s - loss: -0.0164 - crf_viterbi_accuracy: 1.00 - ETA: 37s - loss: -0.0164 - crf_viterbi_accuracy: 1.00 - ETA: 37s - loss: -0.0164 - crf_viterbi_accuracy: 1.00 - ETA: 36s - loss: -0.0164 - crf_viterbi_accuracy: 1.00 - ETA: 35s - loss: -0.0165 - crf_viterbi_accuracy: 1.00 - ETA: 34s - loss: -0.0165 - crf_viterbi_accuracy: 1.00 - ETA: 34s - loss: -0.0165 - crf_viterbi_accuracy: 1.00 - ETA: 33s - loss: -0.0165 - crf_viterbi_accuracy: 1.00 - ETA: 32s - loss: -0.0165 - crf_viterbi_accuracy: 1.00 - ETA: 31s - loss: -0.0165 - crf_viterbi_accuracy: 1.00 - ETA: 31s - loss: -0.0165 - crf_viterbi_accuracy: 1.00 - ETA: 30s - loss: -0.0165 - crf_viterbi_accuracy: 1.00 - ETA: 29s - loss: -0.0165 - crf_viterbi_accuracy: 1.00 - ETA: 28s - loss: -0.0165 - crf_viterbi_accuracy: 1.00 - ETA: 28s - loss: -0.0165 - crf_viterbi_accuracy: 1.00 - ETA: 27s - loss: -0.0165 - crf_viterbi_accuracy: 1.00 - ETA: 26s - loss: -0.0165 - crf_viterbi_accuracy: 1.00 - ETA: 26s - loss: -0.0165 - crf_viterbi_accuracy: 1.00 - ETA: 25s - loss: -0.0165 - crf_viterbi_accuracy: 1.00 - ETA: 24s - loss: -0.0165 - crf_viterbi_accuracy: 1.00 - ETA: 23s - loss: -0.0165 - crf_viterbi_accuracy: 1.00 - ETA: 23s - loss: -0.0165 - crf_viterbi_accuracy: 1.00 - ETA: 22s - loss: -0.0165 - crf_viterbi_accuracy: 1.00 - ETA: 21s - loss: -0.0165 - crf_viterbi_accuracy: 1.00 - ETA: 21s - loss: -0.0165 - crf_viterbi_accuracy: 1.00 - ETA: 20s - loss: -0.0165 - crf_viterbi_accuracy: 1.00 - ETA: 19s - loss: -0.0165 - crf_viterbi_accuracy: 1.00 - ETA: 18s - loss: -0.0165 - crf_viterbi_accuracy: 1.00 - ETA: 18s - loss: -0.0165 - crf_viterbi_accuracy: 1.00 - ETA: 17s - loss: -0.0165 - crf_viterbi_accuracy: 1.00 - ETA: 16s - loss: -0.0165 - crf_viterbi_accuracy: 1.00 - ETA: 15s - loss: -0.0165 - crf_viterbi_accuracy: 1.00 - ETA: 15s - loss: -0.0165 - crf_viterbi_accuracy: 1.00 - ETA: 14s - loss: -0.0165 - crf_viterbi_accuracy: 1.00 - ETA: 13s - loss: -0.0165 - crf_viterbi_accuracy: 1.00 - ETA: 13s - loss: -0.0165 - crf_viterbi_accuracy: 1.00 - ETA: 12s - loss: -0.0165 - crf_viterbi_accuracy: 1.00 - ETA: 11s - loss: -0.0165 - crf_viterbi_accuracy: 1.00 - ETA: 10s - loss: -0.0165 - crf_viterbi_accuracy: 1.00 - ETA: 10s - loss: -0.0165 - crf_viterbi_accuracy: 1.00 - ETA: 9s - loss: -0.0166 - crf_viterbi_accuracy: 1.0000 - ETA: 8s - loss: -0.0166 - crf_viterbi_accuracy: 1.000 - ETA: 7s - loss: -0.0166 - crf_viterbi_accuracy: 1.000 - ETA: 7s - loss: -0.0166 - crf_viterbi_accuracy: 1.000 - ETA: 6s - loss: -0.0166 - crf_viterbi_accuracy: 1.000 - ETA: 5s - loss: -0.0166 - crf_viterbi_accuracy: 1.000 - ETA: 5s - loss: -0.0166 - crf_viterbi_accuracy: 1.000 - ETA: 4s - loss: -0.0166 - crf_viterbi_accuracy: 1.000 - ETA: 3s - loss: -0.0166 - crf_viterbi_accuracy: 1.000 - ETA: 2s - loss: -0.0166 - crf_viterbi_accuracy: 1.000 - ETA: 2s - loss: -0.0166 - crf_viterbi_accuracy: 1.000 - ETA: 1s - loss: -0.0166 - crf_viterbi_accuracy: 1.000 - ETA: 0s - loss: -0.0166 - crf_viterbi_accuracy: 1.000 - ETA: 0s - loss: -0.0166 - crf_viterbi_accuracy: 1.000 - 61s 15ms/step - loss: -0.0166 - crf_viterbi_accuracy: 1.0000 - val_loss: -0.0025 - val_crf_viterbi_accuracy: 0.9966\n",
      "Epoch 37/50\n"
     ]
    },
    {
     "name": "stdout",
     "output_type": "stream",
     "text": [
      "4104/4104 [==============================] - ETA: 58s - loss: -0.0169 - crf_viterbi_accuracy: 1.00 - ETA: 59s - loss: -0.0169 - crf_viterbi_accuracy: 1.00 - ETA: 59s - loss: -0.0169 - crf_viterbi_accuracy: 1.00 - ETA: 59s - loss: -0.0169 - crf_viterbi_accuracy: 1.00 - ETA: 58s - loss: -0.0169 - crf_viterbi_accuracy: 1.00 - ETA: 57s - loss: -0.0169 - crf_viterbi_accuracy: 1.00 - ETA: 56s - loss: -0.0169 - crf_viterbi_accuracy: 1.00 - ETA: 56s - loss: -0.0169 - crf_viterbi_accuracy: 1.00 - ETA: 55s - loss: -0.0169 - crf_viterbi_accuracy: 1.00 - ETA: 55s - loss: -0.0169 - crf_viterbi_accuracy: 1.00 - ETA: 55s - loss: -0.0169 - crf_viterbi_accuracy: 1.00 - ETA: 54s - loss: -0.0169 - crf_viterbi_accuracy: 1.00 - ETA: 53s - loss: -0.0169 - crf_viterbi_accuracy: 1.00 - ETA: 52s - loss: -0.0169 - crf_viterbi_accuracy: 1.00 - ETA: 51s - loss: -0.0169 - crf_viterbi_accuracy: 1.00 - ETA: 50s - loss: -0.0169 - crf_viterbi_accuracy: 1.00 - ETA: 49s - loss: -0.0168 - crf_viterbi_accuracy: 1.00 - ETA: 48s - loss: -0.0168 - crf_viterbi_accuracy: 0.99 - ETA: 47s - loss: -0.0168 - crf_viterbi_accuracy: 0.99 - ETA: 46s - loss: -0.0169 - crf_viterbi_accuracy: 0.99 - ETA: 45s - loss: -0.0169 - crf_viterbi_accuracy: 0.99 - ETA: 44s - loss: -0.0169 - crf_viterbi_accuracy: 0.99 - ETA: 43s - loss: -0.0169 - crf_viterbi_accuracy: 0.99 - ETA: 42s - loss: -0.0169 - crf_viterbi_accuracy: 1.00 - ETA: 42s - loss: -0.0169 - crf_viterbi_accuracy: 1.00 - ETA: 41s - loss: -0.0169 - crf_viterbi_accuracy: 1.00 - ETA: 40s - loss: -0.0169 - crf_viterbi_accuracy: 1.00 - ETA: 39s - loss: -0.0169 - crf_viterbi_accuracy: 1.00 - ETA: 38s - loss: -0.0169 - crf_viterbi_accuracy: 1.00 - ETA: 38s - loss: -0.0169 - crf_viterbi_accuracy: 1.00 - ETA: 37s - loss: -0.0169 - crf_viterbi_accuracy: 1.00 - ETA: 36s - loss: -0.0169 - crf_viterbi_accuracy: 1.00 - ETA: 35s - loss: -0.0169 - crf_viterbi_accuracy: 1.00 - ETA: 35s - loss: -0.0169 - crf_viterbi_accuracy: 1.00 - ETA: 34s - loss: -0.0169 - crf_viterbi_accuracy: 1.00 - ETA: 33s - loss: -0.0169 - crf_viterbi_accuracy: 1.00 - ETA: 33s - loss: -0.0169 - crf_viterbi_accuracy: 1.00 - ETA: 32s - loss: -0.0169 - crf_viterbi_accuracy: 1.00 - ETA: 31s - loss: -0.0170 - crf_viterbi_accuracy: 1.00 - ETA: 30s - loss: -0.0170 - crf_viterbi_accuracy: 1.00 - ETA: 30s - loss: -0.0170 - crf_viterbi_accuracy: 1.00 - ETA: 29s - loss: -0.0170 - crf_viterbi_accuracy: 1.00 - ETA: 28s - loss: -0.0170 - crf_viterbi_accuracy: 1.00 - ETA: 27s - loss: -0.0170 - crf_viterbi_accuracy: 1.00 - ETA: 27s - loss: -0.0170 - crf_viterbi_accuracy: 1.00 - ETA: 26s - loss: -0.0170 - crf_viterbi_accuracy: 1.00 - ETA: 25s - loss: -0.0170 - crf_viterbi_accuracy: 1.00 - ETA: 24s - loss: -0.0170 - crf_viterbi_accuracy: 1.00 - ETA: 24s - loss: -0.0170 - crf_viterbi_accuracy: 1.00 - ETA: 23s - loss: -0.0170 - crf_viterbi_accuracy: 1.00 - ETA: 22s - loss: -0.0170 - crf_viterbi_accuracy: 1.00 - ETA: 21s - loss: -0.0170 - crf_viterbi_accuracy: 1.00 - ETA: 21s - loss: -0.0170 - crf_viterbi_accuracy: 1.00 - ETA: 20s - loss: -0.0170 - crf_viterbi_accuracy: 1.00 - ETA: 19s - loss: -0.0170 - crf_viterbi_accuracy: 1.00 - ETA: 18s - loss: -0.0170 - crf_viterbi_accuracy: 1.00 - ETA: 18s - loss: -0.0170 - crf_viterbi_accuracy: 1.00 - ETA: 17s - loss: -0.0170 - crf_viterbi_accuracy: 1.00 - ETA: 16s - loss: -0.0170 - crf_viterbi_accuracy: 1.00 - ETA: 16s - loss: -0.0170 - crf_viterbi_accuracy: 1.00 - ETA: 15s - loss: -0.0170 - crf_viterbi_accuracy: 1.00 - ETA: 14s - loss: -0.0170 - crf_viterbi_accuracy: 1.00 - ETA: 13s - loss: -0.0170 - crf_viterbi_accuracy: 1.00 - ETA: 13s - loss: -0.0170 - crf_viterbi_accuracy: 1.00 - ETA: 12s - loss: -0.0170 - crf_viterbi_accuracy: 1.00 - ETA: 11s - loss: -0.0170 - crf_viterbi_accuracy: 1.00 - ETA: 10s - loss: -0.0170 - crf_viterbi_accuracy: 1.00 - ETA: 10s - loss: -0.0170 - crf_viterbi_accuracy: 1.00 - ETA: 9s - loss: -0.0170 - crf_viterbi_accuracy: 1.0000 - ETA: 8s - loss: -0.0170 - crf_viterbi_accuracy: 1.000 - ETA: 8s - loss: -0.0170 - crf_viterbi_accuracy: 1.000 - ETA: 7s - loss: -0.0170 - crf_viterbi_accuracy: 1.000 - ETA: 6s - loss: -0.0170 - crf_viterbi_accuracy: 1.000 - ETA: 5s - loss: -0.0170 - crf_viterbi_accuracy: 1.000 - ETA: 5s - loss: -0.0171 - crf_viterbi_accuracy: 1.000 - ETA: 4s - loss: -0.0171 - crf_viterbi_accuracy: 1.000 - ETA: 3s - loss: -0.0171 - crf_viterbi_accuracy: 1.000 - ETA: 2s - loss: -0.0171 - crf_viterbi_accuracy: 1.000 - ETA: 2s - loss: -0.0171 - crf_viterbi_accuracy: 1.000 - ETA: 1s - loss: -0.0171 - crf_viterbi_accuracy: 1.000 - ETA: 0s - loss: -0.0171 - crf_viterbi_accuracy: 1.000 - ETA: 0s - loss: -0.0171 - crf_viterbi_accuracy: 1.000 - 61s 15ms/step - loss: -0.0171 - crf_viterbi_accuracy: 1.0000 - val_loss: -0.0026 - val_crf_viterbi_accuracy: 0.9969\n",
      "Epoch 38/50\n"
     ]
    },
    {
     "name": "stdout",
     "output_type": "stream",
     "text": [
      "4104/4104 [==============================] - ETA: 1:01 - loss: -0.0174 - crf_viterbi_accuracy: 1.000 - ETA: 57s - loss: -0.0174 - crf_viterbi_accuracy: 1.000 - ETA: 56s - loss: -0.0174 - crf_viterbi_accuracy: 1.00 - ETA: 55s - loss: -0.0174 - crf_viterbi_accuracy: 1.00 - ETA: 54s - loss: -0.0174 - crf_viterbi_accuracy: 1.00 - ETA: 53s - loss: -0.0174 - crf_viterbi_accuracy: 1.00 - ETA: 53s - loss: -0.0174 - crf_viterbi_accuracy: 1.00 - ETA: 52s - loss: -0.0174 - crf_viterbi_accuracy: 1.00 - ETA: 51s - loss: -0.0174 - crf_viterbi_accuracy: 1.00 - ETA: 50s - loss: -0.0174 - crf_viterbi_accuracy: 1.00 - ETA: 49s - loss: -0.0174 - crf_viterbi_accuracy: 1.00 - ETA: 49s - loss: -0.0174 - crf_viterbi_accuracy: 1.00 - ETA: 48s - loss: -0.0174 - crf_viterbi_accuracy: 1.00 - ETA: 47s - loss: -0.0174 - crf_viterbi_accuracy: 1.00 - ETA: 46s - loss: -0.0174 - crf_viterbi_accuracy: 1.00 - ETA: 46s - loss: -0.0174 - crf_viterbi_accuracy: 1.00 - ETA: 45s - loss: -0.0174 - crf_viterbi_accuracy: 1.00 - ETA: 44s - loss: -0.0174 - crf_viterbi_accuracy: 1.00 - ETA: 44s - loss: -0.0174 - crf_viterbi_accuracy: 1.00 - ETA: 43s - loss: -0.0174 - crf_viterbi_accuracy: 1.00 - ETA: 43s - loss: -0.0174 - crf_viterbi_accuracy: 1.00 - ETA: 42s - loss: -0.0174 - crf_viterbi_accuracy: 1.00 - ETA: 41s - loss: -0.0174 - crf_viterbi_accuracy: 1.00 - ETA: 41s - loss: -0.0174 - crf_viterbi_accuracy: 1.00 - ETA: 40s - loss: -0.0174 - crf_viterbi_accuracy: 1.00 - ETA: 39s - loss: -0.0174 - crf_viterbi_accuracy: 1.00 - ETA: 38s - loss: -0.0174 - crf_viterbi_accuracy: 1.00 - ETA: 38s - loss: -0.0174 - crf_viterbi_accuracy: 1.00 - ETA: 37s - loss: -0.0174 - crf_viterbi_accuracy: 1.00 - ETA: 36s - loss: -0.0174 - crf_viterbi_accuracy: 1.00 - ETA: 36s - loss: -0.0174 - crf_viterbi_accuracy: 1.00 - ETA: 35s - loss: -0.0174 - crf_viterbi_accuracy: 1.00 - ETA: 34s - loss: -0.0174 - crf_viterbi_accuracy: 1.00 - ETA: 33s - loss: -0.0175 - crf_viterbi_accuracy: 1.00 - ETA: 33s - loss: -0.0174 - crf_viterbi_accuracy: 1.00 - ETA: 32s - loss: -0.0175 - crf_viterbi_accuracy: 1.00 - ETA: 31s - loss: -0.0175 - crf_viterbi_accuracy: 1.00 - ETA: 31s - loss: -0.0175 - crf_viterbi_accuracy: 1.00 - ETA: 30s - loss: -0.0175 - crf_viterbi_accuracy: 1.00 - ETA: 29s - loss: -0.0175 - crf_viterbi_accuracy: 1.00 - ETA: 28s - loss: -0.0174 - crf_viterbi_accuracy: 1.00 - ETA: 28s - loss: -0.0175 - crf_viterbi_accuracy: 1.00 - ETA: 27s - loss: -0.0175 - crf_viterbi_accuracy: 1.00 - ETA: 26s - loss: -0.0175 - crf_viterbi_accuracy: 1.00 - ETA: 26s - loss: -0.0175 - crf_viterbi_accuracy: 1.00 - ETA: 25s - loss: -0.0175 - crf_viterbi_accuracy: 1.00 - ETA: 24s - loss: -0.0175 - crf_viterbi_accuracy: 1.00 - ETA: 24s - loss: -0.0175 - crf_viterbi_accuracy: 1.00 - ETA: 23s - loss: -0.0175 - crf_viterbi_accuracy: 1.00 - ETA: 22s - loss: -0.0175 - crf_viterbi_accuracy: 1.00 - ETA: 21s - loss: -0.0175 - crf_viterbi_accuracy: 1.00 - ETA: 21s - loss: -0.0175 - crf_viterbi_accuracy: 1.00 - ETA: 20s - loss: -0.0175 - crf_viterbi_accuracy: 1.00 - ETA: 19s - loss: -0.0175 - crf_viterbi_accuracy: 1.00 - ETA: 19s - loss: -0.0175 - crf_viterbi_accuracy: 1.00 - ETA: 18s - loss: -0.0175 - crf_viterbi_accuracy: 1.00 - ETA: 17s - loss: -0.0175 - crf_viterbi_accuracy: 1.00 - ETA: 17s - loss: -0.0175 - crf_viterbi_accuracy: 1.00 - ETA: 16s - loss: -0.0175 - crf_viterbi_accuracy: 1.00 - ETA: 15s - loss: -0.0175 - crf_viterbi_accuracy: 1.00 - ETA: 14s - loss: -0.0175 - crf_viterbi_accuracy: 1.00 - ETA: 14s - loss: -0.0175 - crf_viterbi_accuracy: 1.00 - ETA: 13s - loss: -0.0175 - crf_viterbi_accuracy: 1.00 - ETA: 12s - loss: -0.0175 - crf_viterbi_accuracy: 1.00 - ETA: 12s - loss: -0.0175 - crf_viterbi_accuracy: 1.00 - ETA: 11s - loss: -0.0175 - crf_viterbi_accuracy: 1.00 - ETA: 10s - loss: -0.0175 - crf_viterbi_accuracy: 1.00 - ETA: 9s - loss: -0.0175 - crf_viterbi_accuracy: 1.0000 - ETA: 9s - loss: -0.0175 - crf_viterbi_accuracy: 1.000 - ETA: 8s - loss: -0.0175 - crf_viterbi_accuracy: 1.000 - ETA: 7s - loss: -0.0175 - crf_viterbi_accuracy: 1.000 - ETA: 7s - loss: -0.0175 - crf_viterbi_accuracy: 1.000 - ETA: 6s - loss: -0.0175 - crf_viterbi_accuracy: 1.000 - ETA: 5s - loss: -0.0175 - crf_viterbi_accuracy: 1.000 - ETA: 5s - loss: -0.0176 - crf_viterbi_accuracy: 1.000 - ETA: 4s - loss: -0.0176 - crf_viterbi_accuracy: 1.000 - ETA: 3s - loss: -0.0176 - crf_viterbi_accuracy: 1.000 - ETA: 2s - loss: -0.0176 - crf_viterbi_accuracy: 1.000 - ETA: 2s - loss: -0.0176 - crf_viterbi_accuracy: 1.000 - ETA: 1s - loss: -0.0176 - crf_viterbi_accuracy: 1.000 - ETA: 0s - loss: -0.0176 - crf_viterbi_accuracy: 1.000 - ETA: 0s - loss: -0.0176 - crf_viterbi_accuracy: 1.000 - 60s 15ms/step - loss: -0.0176 - crf_viterbi_accuracy: 1.0000 - val_loss: -0.0027 - val_crf_viterbi_accuracy: 0.9967\n",
      "Epoch 39/50\n"
     ]
    },
    {
     "name": "stdout",
     "output_type": "stream",
     "text": [
      "4104/4104 [==============================] - ETA: 59s - loss: -0.0179 - crf_viterbi_accuracy: 1.00 - ETA: 56s - loss: -0.0179 - crf_viterbi_accuracy: 1.00 - ETA: 55s - loss: -0.0179 - crf_viterbi_accuracy: 1.00 - ETA: 56s - loss: -0.0179 - crf_viterbi_accuracy: 1.00 - ETA: 54s - loss: -0.0179 - crf_viterbi_accuracy: 1.00 - ETA: 54s - loss: -0.0179 - crf_viterbi_accuracy: 1.00 - ETA: 54s - loss: -0.0179 - crf_viterbi_accuracy: 1.00 - ETA: 53s - loss: -0.0179 - crf_viterbi_accuracy: 1.00 - ETA: 53s - loss: -0.0179 - crf_viterbi_accuracy: 1.00 - ETA: 53s - loss: -0.0179 - crf_viterbi_accuracy: 1.00 - ETA: 52s - loss: -0.0179 - crf_viterbi_accuracy: 1.00 - ETA: 51s - loss: -0.0179 - crf_viterbi_accuracy: 1.00 - ETA: 50s - loss: -0.0179 - crf_viterbi_accuracy: 1.00 - ETA: 49s - loss: -0.0179 - crf_viterbi_accuracy: 1.00 - ETA: 48s - loss: -0.0179 - crf_viterbi_accuracy: 1.00 - ETA: 47s - loss: -0.0179 - crf_viterbi_accuracy: 1.00 - ETA: 47s - loss: -0.0179 - crf_viterbi_accuracy: 1.00 - ETA: 46s - loss: -0.0179 - crf_viterbi_accuracy: 1.00 - ETA: 45s - loss: -0.0179 - crf_viterbi_accuracy: 1.00 - ETA: 44s - loss: -0.0179 - crf_viterbi_accuracy: 1.00 - ETA: 44s - loss: -0.0179 - crf_viterbi_accuracy: 1.00 - ETA: 43s - loss: -0.0179 - crf_viterbi_accuracy: 1.00 - ETA: 42s - loss: -0.0179 - crf_viterbi_accuracy: 1.00 - ETA: 41s - loss: -0.0179 - crf_viterbi_accuracy: 1.00 - ETA: 40s - loss: -0.0179 - crf_viterbi_accuracy: 1.00 - ETA: 40s - loss: -0.0179 - crf_viterbi_accuracy: 1.00 - ETA: 39s - loss: -0.0179 - crf_viterbi_accuracy: 1.00 - ETA: 38s - loss: -0.0179 - crf_viterbi_accuracy: 1.00 - ETA: 38s - loss: -0.0179 - crf_viterbi_accuracy: 1.00 - ETA: 37s - loss: -0.0179 - crf_viterbi_accuracy: 1.00 - ETA: 36s - loss: -0.0179 - crf_viterbi_accuracy: 1.00 - ETA: 36s - loss: -0.0179 - crf_viterbi_accuracy: 1.00 - ETA: 35s - loss: -0.0179 - crf_viterbi_accuracy: 1.00 - ETA: 34s - loss: -0.0180 - crf_viterbi_accuracy: 1.00 - ETA: 33s - loss: -0.0180 - crf_viterbi_accuracy: 1.00 - ETA: 33s - loss: -0.0180 - crf_viterbi_accuracy: 1.00 - ETA: 32s - loss: -0.0180 - crf_viterbi_accuracy: 1.00 - ETA: 31s - loss: -0.0180 - crf_viterbi_accuracy: 1.00 - ETA: 30s - loss: -0.0180 - crf_viterbi_accuracy: 1.00 - ETA: 30s - loss: -0.0179 - crf_viterbi_accuracy: 1.00 - ETA: 29s - loss: -0.0180 - crf_viterbi_accuracy: 1.00 - ETA: 28s - loss: -0.0180 - crf_viterbi_accuracy: 1.00 - ETA: 27s - loss: -0.0180 - crf_viterbi_accuracy: 1.00 - ETA: 27s - loss: -0.0180 - crf_viterbi_accuracy: 1.00 - ETA: 26s - loss: -0.0180 - crf_viterbi_accuracy: 1.00 - ETA: 25s - loss: -0.0180 - crf_viterbi_accuracy: 1.00 - ETA: 25s - loss: -0.0180 - crf_viterbi_accuracy: 1.00 - ETA: 24s - loss: -0.0180 - crf_viterbi_accuracy: 1.00 - ETA: 23s - loss: -0.0180 - crf_viterbi_accuracy: 1.00 - ETA: 22s - loss: -0.0180 - crf_viterbi_accuracy: 1.00 - ETA: 22s - loss: -0.0180 - crf_viterbi_accuracy: 1.00 - ETA: 21s - loss: -0.0180 - crf_viterbi_accuracy: 1.00 - ETA: 20s - loss: -0.0180 - crf_viterbi_accuracy: 1.00 - ETA: 20s - loss: -0.0180 - crf_viterbi_accuracy: 1.00 - ETA: 19s - loss: -0.0180 - crf_viterbi_accuracy: 1.00 - ETA: 18s - loss: -0.0180 - crf_viterbi_accuracy: 1.00 - ETA: 17s - loss: -0.0180 - crf_viterbi_accuracy: 1.00 - ETA: 17s - loss: -0.0180 - crf_viterbi_accuracy: 1.00 - ETA: 16s - loss: -0.0180 - crf_viterbi_accuracy: 1.00 - ETA: 15s - loss: -0.0180 - crf_viterbi_accuracy: 1.00 - ETA: 15s - loss: -0.0180 - crf_viterbi_accuracy: 1.00 - ETA: 14s - loss: -0.0180 - crf_viterbi_accuracy: 1.00 - ETA: 13s - loss: -0.0180 - crf_viterbi_accuracy: 1.00 - ETA: 12s - loss: -0.0180 - crf_viterbi_accuracy: 1.00 - ETA: 12s - loss: -0.0180 - crf_viterbi_accuracy: 1.00 - ETA: 11s - loss: -0.0180 - crf_viterbi_accuracy: 1.00 - ETA: 10s - loss: -0.0180 - crf_viterbi_accuracy: 1.00 - ETA: 10s - loss: -0.0180 - crf_viterbi_accuracy: 1.00 - ETA: 9s - loss: -0.0180 - crf_viterbi_accuracy: 1.0000 - ETA: 8s - loss: -0.0180 - crf_viterbi_accuracy: 1.000 - ETA: 7s - loss: -0.0180 - crf_viterbi_accuracy: 1.000 - ETA: 7s - loss: -0.0181 - crf_viterbi_accuracy: 1.000 - ETA: 6s - loss: -0.0181 - crf_viterbi_accuracy: 1.000 - ETA: 5s - loss: -0.0181 - crf_viterbi_accuracy: 1.000 - ETA: 5s - loss: -0.0181 - crf_viterbi_accuracy: 1.000 - ETA: 4s - loss: -0.0181 - crf_viterbi_accuracy: 1.000 - ETA: 3s - loss: -0.0181 - crf_viterbi_accuracy: 1.000 - ETA: 2s - loss: -0.0181 - crf_viterbi_accuracy: 1.000 - ETA: 2s - loss: -0.0181 - crf_viterbi_accuracy: 1.000 - ETA: 1s - loss: -0.0181 - crf_viterbi_accuracy: 1.000 - ETA: 0s - loss: -0.0181 - crf_viterbi_accuracy: 1.000 - ETA: 0s - loss: -0.0181 - crf_viterbi_accuracy: 1.000 - 60s 15ms/step - loss: -0.0181 - crf_viterbi_accuracy: 1.0000 - val_loss: -0.0028 - val_crf_viterbi_accuracy: 0.9967\n",
      "Epoch 40/50\n"
     ]
    },
    {
     "name": "stdout",
     "output_type": "stream",
     "text": [
      "4104/4104 [==============================] - ETA: 58s - loss: -0.0183 - crf_viterbi_accuracy: 1.00 - ETA: 56s - loss: -0.0182 - crf_viterbi_accuracy: 0.99 - ETA: 56s - loss: -0.0182 - crf_viterbi_accuracy: 0.99 - ETA: 55s - loss: -0.0183 - crf_viterbi_accuracy: 0.99 - ETA: 54s - loss: -0.0183 - crf_viterbi_accuracy: 1.00 - ETA: 53s - loss: -0.0183 - crf_viterbi_accuracy: 1.00 - ETA: 53s - loss: -0.0183 - crf_viterbi_accuracy: 1.00 - ETA: 52s - loss: -0.0183 - crf_viterbi_accuracy: 1.00 - ETA: 51s - loss: -0.0183 - crf_viterbi_accuracy: 1.00 - ETA: 50s - loss: -0.0183 - crf_viterbi_accuracy: 1.00 - ETA: 49s - loss: -0.0183 - crf_viterbi_accuracy: 1.00 - ETA: 49s - loss: -0.0184 - crf_viterbi_accuracy: 1.00 - ETA: 48s - loss: -0.0184 - crf_viterbi_accuracy: 1.00 - ETA: 47s - loss: -0.0184 - crf_viterbi_accuracy: 1.00 - ETA: 47s - loss: -0.0184 - crf_viterbi_accuracy: 1.00 - ETA: 46s - loss: -0.0184 - crf_viterbi_accuracy: 1.00 - ETA: 46s - loss: -0.0184 - crf_viterbi_accuracy: 1.00 - ETA: 45s - loss: -0.0184 - crf_viterbi_accuracy: 1.00 - ETA: 45s - loss: -0.0184 - crf_viterbi_accuracy: 1.00 - ETA: 44s - loss: -0.0184 - crf_viterbi_accuracy: 1.00 - ETA: 44s - loss: -0.0184 - crf_viterbi_accuracy: 1.00 - ETA: 43s - loss: -0.0184 - crf_viterbi_accuracy: 1.00 - ETA: 42s - loss: -0.0184 - crf_viterbi_accuracy: 1.00 - ETA: 42s - loss: -0.0184 - crf_viterbi_accuracy: 1.00 - ETA: 41s - loss: -0.0184 - crf_viterbi_accuracy: 1.00 - ETA: 40s - loss: -0.0184 - crf_viterbi_accuracy: 1.00 - ETA: 39s - loss: -0.0184 - crf_viterbi_accuracy: 1.00 - ETA: 39s - loss: -0.0184 - crf_viterbi_accuracy: 1.00 - ETA: 38s - loss: -0.0184 - crf_viterbi_accuracy: 1.00 - ETA: 37s - loss: -0.0184 - crf_viterbi_accuracy: 1.00 - ETA: 37s - loss: -0.0184 - crf_viterbi_accuracy: 1.00 - ETA: 36s - loss: -0.0184 - crf_viterbi_accuracy: 1.00 - ETA: 35s - loss: -0.0184 - crf_viterbi_accuracy: 1.00 - ETA: 34s - loss: -0.0184 - crf_viterbi_accuracy: 1.00 - ETA: 34s - loss: -0.0184 - crf_viterbi_accuracy: 1.00 - ETA: 33s - loss: -0.0184 - crf_viterbi_accuracy: 1.00 - ETA: 32s - loss: -0.0184 - crf_viterbi_accuracy: 1.00 - ETA: 32s - loss: -0.0184 - crf_viterbi_accuracy: 1.00 - ETA: 31s - loss: -0.0184 - crf_viterbi_accuracy: 1.00 - ETA: 30s - loss: -0.0185 - crf_viterbi_accuracy: 1.00 - ETA: 29s - loss: -0.0185 - crf_viterbi_accuracy: 1.00 - ETA: 29s - loss: -0.0185 - crf_viterbi_accuracy: 1.00 - ETA: 28s - loss: -0.0185 - crf_viterbi_accuracy: 1.00 - ETA: 27s - loss: -0.0185 - crf_viterbi_accuracy: 1.00 - ETA: 27s - loss: -0.0185 - crf_viterbi_accuracy: 1.00 - ETA: 26s - loss: -0.0185 - crf_viterbi_accuracy: 1.00 - ETA: 25s - loss: -0.0185 - crf_viterbi_accuracy: 1.00 - ETA: 24s - loss: -0.0185 - crf_viterbi_accuracy: 1.00 - ETA: 24s - loss: -0.0185 - crf_viterbi_accuracy: 1.00 - ETA: 23s - loss: -0.0185 - crf_viterbi_accuracy: 1.00 - ETA: 22s - loss: -0.0185 - crf_viterbi_accuracy: 1.00 - ETA: 21s - loss: -0.0185 - crf_viterbi_accuracy: 1.00 - ETA: 21s - loss: -0.0185 - crf_viterbi_accuracy: 1.00 - ETA: 20s - loss: -0.0185 - crf_viterbi_accuracy: 1.00 - ETA: 19s - loss: -0.0185 - crf_viterbi_accuracy: 1.00 - ETA: 18s - loss: -0.0185 - crf_viterbi_accuracy: 1.00 - ETA: 18s - loss: -0.0185 - crf_viterbi_accuracy: 1.00 - ETA: 17s - loss: -0.0185 - crf_viterbi_accuracy: 1.00 - ETA: 16s - loss: -0.0185 - crf_viterbi_accuracy: 1.00 - ETA: 16s - loss: -0.0185 - crf_viterbi_accuracy: 1.00 - ETA: 15s - loss: -0.0185 - crf_viterbi_accuracy: 1.00 - ETA: 14s - loss: -0.0185 - crf_viterbi_accuracy: 1.00 - ETA: 13s - loss: -0.0185 - crf_viterbi_accuracy: 1.00 - ETA: 13s - loss: -0.0185 - crf_viterbi_accuracy: 1.00 - ETA: 12s - loss: -0.0185 - crf_viterbi_accuracy: 1.00 - ETA: 11s - loss: -0.0185 - crf_viterbi_accuracy: 1.00 - ETA: 10s - loss: -0.0185 - crf_viterbi_accuracy: 1.00 - ETA: 10s - loss: -0.0185 - crf_viterbi_accuracy: 1.00 - ETA: 9s - loss: -0.0185 - crf_viterbi_accuracy: 1.0000 - ETA: 8s - loss: -0.0185 - crf_viterbi_accuracy: 1.000 - ETA: 8s - loss: -0.0185 - crf_viterbi_accuracy: 1.000 - ETA: 7s - loss: -0.0185 - crf_viterbi_accuracy: 1.000 - ETA: 6s - loss: -0.0185 - crf_viterbi_accuracy: 1.000 - ETA: 5s - loss: -0.0185 - crf_viterbi_accuracy: 1.000 - ETA: 5s - loss: -0.0185 - crf_viterbi_accuracy: 1.000 - ETA: 4s - loss: -0.0185 - crf_viterbi_accuracy: 1.000 - ETA: 3s - loss: -0.0185 - crf_viterbi_accuracy: 1.000 - ETA: 2s - loss: -0.0186 - crf_viterbi_accuracy: 1.000 - ETA: 2s - loss: -0.0186 - crf_viterbi_accuracy: 1.000 - ETA: 1s - loss: -0.0186 - crf_viterbi_accuracy: 1.000 - ETA: 0s - loss: -0.0186 - crf_viterbi_accuracy: 1.000 - ETA: 0s - loss: -0.0186 - crf_viterbi_accuracy: 1.000 - 62s 15ms/step - loss: -0.0186 - crf_viterbi_accuracy: 1.0000 - val_loss: -0.0043 - val_crf_viterbi_accuracy: 0.9966\n",
      "Epoch 41/50\n"
     ]
    },
    {
     "name": "stdout",
     "output_type": "stream",
     "text": [
      "4104/4104 [==============================] - ETA: 1:03 - loss: -0.0188 - crf_viterbi_accuracy: 1.000 - ETA: 1:00 - loss: -0.0189 - crf_viterbi_accuracy: 1.000 - ETA: 59s - loss: -0.0189 - crf_viterbi_accuracy: 1.000 - ETA: 58s - loss: -0.0189 - crf_viterbi_accuracy: 1.00 - ETA: 58s - loss: -0.0189 - crf_viterbi_accuracy: 1.00 - ETA: 57s - loss: -0.0189 - crf_viterbi_accuracy: 1.00 - ETA: 57s - loss: -0.0189 - crf_viterbi_accuracy: 1.00 - ETA: 56s - loss: -0.0189 - crf_viterbi_accuracy: 1.00 - ETA: 54s - loss: -0.0189 - crf_viterbi_accuracy: 1.00 - ETA: 53s - loss: -0.0189 - crf_viterbi_accuracy: 1.00 - ETA: 53s - loss: -0.0189 - crf_viterbi_accuracy: 1.00 - ETA: 52s - loss: -0.0189 - crf_viterbi_accuracy: 1.00 - ETA: 51s - loss: -0.0189 - crf_viterbi_accuracy: 1.00 - ETA: 50s - loss: -0.0189 - crf_viterbi_accuracy: 1.00 - ETA: 49s - loss: -0.0189 - crf_viterbi_accuracy: 1.00 - ETA: 48s - loss: -0.0189 - crf_viterbi_accuracy: 1.00 - ETA: 48s - loss: -0.0189 - crf_viterbi_accuracy: 1.00 - ETA: 47s - loss: -0.0189 - crf_viterbi_accuracy: 1.00 - ETA: 46s - loss: -0.0189 - crf_viterbi_accuracy: 1.00 - ETA: 45s - loss: -0.0189 - crf_viterbi_accuracy: 1.00 - ETA: 44s - loss: -0.0189 - crf_viterbi_accuracy: 1.00 - ETA: 44s - loss: -0.0189 - crf_viterbi_accuracy: 1.00 - ETA: 43s - loss: -0.0189 - crf_viterbi_accuracy: 1.00 - ETA: 42s - loss: -0.0189 - crf_viterbi_accuracy: 1.00 - ETA: 42s - loss: -0.0189 - crf_viterbi_accuracy: 1.00 - ETA: 41s - loss: -0.0189 - crf_viterbi_accuracy: 1.00 - ETA: 40s - loss: -0.0189 - crf_viterbi_accuracy: 1.00 - ETA: 39s - loss: -0.0189 - crf_viterbi_accuracy: 1.00 - ETA: 39s - loss: -0.0189 - crf_viterbi_accuracy: 1.00 - ETA: 38s - loss: -0.0189 - crf_viterbi_accuracy: 1.00 - ETA: 37s - loss: -0.0189 - crf_viterbi_accuracy: 1.00 - ETA: 36s - loss: -0.0189 - crf_viterbi_accuracy: 1.00 - ETA: 36s - loss: -0.0189 - crf_viterbi_accuracy: 1.00 - ETA: 35s - loss: -0.0189 - crf_viterbi_accuracy: 1.00 - ETA: 34s - loss: -0.0189 - crf_viterbi_accuracy: 1.00 - ETA: 33s - loss: -0.0190 - crf_viterbi_accuracy: 1.00 - ETA: 33s - loss: -0.0190 - crf_viterbi_accuracy: 1.00 - ETA: 32s - loss: -0.0190 - crf_viterbi_accuracy: 1.00 - ETA: 31s - loss: -0.0190 - crf_viterbi_accuracy: 1.00 - ETA: 30s - loss: -0.0190 - crf_viterbi_accuracy: 1.00 - ETA: 29s - loss: -0.0190 - crf_viterbi_accuracy: 1.00 - ETA: 29s - loss: -0.0190 - crf_viterbi_accuracy: 1.00 - ETA: 28s - loss: -0.0190 - crf_viterbi_accuracy: 1.00 - ETA: 27s - loss: -0.0190 - crf_viterbi_accuracy: 1.00 - ETA: 27s - loss: -0.0190 - crf_viterbi_accuracy: 1.00 - ETA: 26s - loss: -0.0190 - crf_viterbi_accuracy: 1.00 - ETA: 25s - loss: -0.0190 - crf_viterbi_accuracy: 1.00 - ETA: 24s - loss: -0.0190 - crf_viterbi_accuracy: 1.00 - ETA: 24s - loss: -0.0190 - crf_viterbi_accuracy: 1.00 - ETA: 23s - loss: -0.0190 - crf_viterbi_accuracy: 1.00 - ETA: 22s - loss: -0.0190 - crf_viterbi_accuracy: 1.00 - ETA: 22s - loss: -0.0190 - crf_viterbi_accuracy: 1.00 - ETA: 21s - loss: -0.0190 - crf_viterbi_accuracy: 1.00 - ETA: 20s - loss: -0.0190 - crf_viterbi_accuracy: 1.00 - ETA: 19s - loss: -0.0190 - crf_viterbi_accuracy: 1.00 - ETA: 19s - loss: -0.0190 - crf_viterbi_accuracy: 1.00 - ETA: 18s - loss: -0.0190 - crf_viterbi_accuracy: 1.00 - ETA: 17s - loss: -0.0190 - crf_viterbi_accuracy: 1.00 - ETA: 16s - loss: -0.0190 - crf_viterbi_accuracy: 1.00 - ETA: 16s - loss: -0.0190 - crf_viterbi_accuracy: 1.00 - ETA: 15s - loss: -0.0190 - crf_viterbi_accuracy: 1.00 - ETA: 14s - loss: -0.0190 - crf_viterbi_accuracy: 1.00 - ETA: 13s - loss: -0.0190 - crf_viterbi_accuracy: 1.00 - ETA: 13s - loss: -0.0190 - crf_viterbi_accuracy: 1.00 - ETA: 12s - loss: -0.0190 - crf_viterbi_accuracy: 1.00 - ETA: 11s - loss: -0.0190 - crf_viterbi_accuracy: 1.00 - ETA: 11s - loss: -0.0190 - crf_viterbi_accuracy: 1.00 - ETA: 10s - loss: -0.0190 - crf_viterbi_accuracy: 1.00 - ETA: 9s - loss: -0.0190 - crf_viterbi_accuracy: 1.0000 - ETA: 8s - loss: -0.0190 - crf_viterbi_accuracy: 1.000 - ETA: 8s - loss: -0.0190 - crf_viterbi_accuracy: 1.000 - ETA: 7s - loss: -0.0190 - crf_viterbi_accuracy: 1.000 - ETA: 6s - loss: -0.0191 - crf_viterbi_accuracy: 1.000 - ETA: 5s - loss: -0.0191 - crf_viterbi_accuracy: 1.000 - ETA: 5s - loss: -0.0191 - crf_viterbi_accuracy: 1.000 - ETA: 4s - loss: -0.0191 - crf_viterbi_accuracy: 1.000 - ETA: 3s - loss: -0.0191 - crf_viterbi_accuracy: 1.000 - ETA: 2s - loss: -0.0191 - crf_viterbi_accuracy: 1.000 - ETA: 2s - loss: -0.0191 - crf_viterbi_accuracy: 1.000 - ETA: 1s - loss: -0.0191 - crf_viterbi_accuracy: 1.000 - ETA: 0s - loss: -0.0191 - crf_viterbi_accuracy: 1.000 - ETA: 0s - loss: -0.0191 - crf_viterbi_accuracy: 1.000 - 62s 15ms/step - loss: -0.0191 - crf_viterbi_accuracy: 1.0000 - val_loss: -0.0035 - val_crf_viterbi_accuracy: 0.9966\n",
      "Epoch 42/50\n"
     ]
    },
    {
     "name": "stdout",
     "output_type": "stream",
     "text": [
      "4104/4104 [==============================] - ETA: 1:04 - loss: -0.0193 - crf_viterbi_accuracy: 1.000 - ETA: 1:01 - loss: -0.0194 - crf_viterbi_accuracy: 1.000 - ETA: 59s - loss: -0.0194 - crf_viterbi_accuracy: 1.000 - ETA: 59s - loss: -0.0194 - crf_viterbi_accuracy: 1.00 - ETA: 59s - loss: -0.0194 - crf_viterbi_accuracy: 1.00 - ETA: 58s - loss: -0.0194 - crf_viterbi_accuracy: 1.00 - ETA: 56s - loss: -0.0194 - crf_viterbi_accuracy: 1.00 - ETA: 55s - loss: -0.0194 - crf_viterbi_accuracy: 1.00 - ETA: 54s - loss: -0.0194 - crf_viterbi_accuracy: 1.00 - ETA: 53s - loss: -0.0194 - crf_viterbi_accuracy: 1.00 - ETA: 53s - loss: -0.0194 - crf_viterbi_accuracy: 1.00 - ETA: 52s - loss: -0.0194 - crf_viterbi_accuracy: 1.00 - ETA: 52s - loss: -0.0194 - crf_viterbi_accuracy: 1.00 - ETA: 51s - loss: -0.0194 - crf_viterbi_accuracy: 1.00 - ETA: 50s - loss: -0.0194 - crf_viterbi_accuracy: 1.00 - ETA: 49s - loss: -0.0194 - crf_viterbi_accuracy: 1.00 - ETA: 49s - loss: -0.0194 - crf_viterbi_accuracy: 1.00 - ETA: 48s - loss: -0.0194 - crf_viterbi_accuracy: 1.00 - ETA: 47s - loss: -0.0194 - crf_viterbi_accuracy: 1.00 - ETA: 46s - loss: -0.0194 - crf_viterbi_accuracy: 1.00 - ETA: 45s - loss: -0.0194 - crf_viterbi_accuracy: 1.00 - ETA: 45s - loss: -0.0194 - crf_viterbi_accuracy: 1.00 - ETA: 44s - loss: -0.0194 - crf_viterbi_accuracy: 1.00 - ETA: 43s - loss: -0.0194 - crf_viterbi_accuracy: 1.00 - ETA: 42s - loss: -0.0194 - crf_viterbi_accuracy: 1.00 - ETA: 41s - loss: -0.0194 - crf_viterbi_accuracy: 1.00 - ETA: 41s - loss: -0.0194 - crf_viterbi_accuracy: 1.00 - ETA: 40s - loss: -0.0194 - crf_viterbi_accuracy: 1.00 - ETA: 39s - loss: -0.0194 - crf_viterbi_accuracy: 1.00 - ETA: 39s - loss: -0.0194 - crf_viterbi_accuracy: 1.00 - ETA: 38s - loss: -0.0194 - crf_viterbi_accuracy: 1.00 - ETA: 37s - loss: -0.0194 - crf_viterbi_accuracy: 1.00 - ETA: 36s - loss: -0.0194 - crf_viterbi_accuracy: 1.00 - ETA: 36s - loss: -0.0194 - crf_viterbi_accuracy: 1.00 - ETA: 35s - loss: -0.0194 - crf_viterbi_accuracy: 1.00 - ETA: 34s - loss: -0.0194 - crf_viterbi_accuracy: 1.00 - ETA: 34s - loss: -0.0194 - crf_viterbi_accuracy: 1.00 - ETA: 33s - loss: -0.0194 - crf_viterbi_accuracy: 1.00 - ETA: 32s - loss: -0.0194 - crf_viterbi_accuracy: 1.00 - ETA: 31s - loss: -0.0195 - crf_viterbi_accuracy: 1.00 - ETA: 31s - loss: -0.0195 - crf_viterbi_accuracy: 1.00 - ETA: 30s - loss: -0.0195 - crf_viterbi_accuracy: 1.00 - ETA: 29s - loss: -0.0195 - crf_viterbi_accuracy: 1.00 - ETA: 28s - loss: -0.0195 - crf_viterbi_accuracy: 1.00 - ETA: 27s - loss: -0.0195 - crf_viterbi_accuracy: 1.00 - ETA: 27s - loss: -0.0195 - crf_viterbi_accuracy: 1.00 - ETA: 26s - loss: -0.0195 - crf_viterbi_accuracy: 1.00 - ETA: 25s - loss: -0.0195 - crf_viterbi_accuracy: 1.00 - ETA: 24s - loss: -0.0195 - crf_viterbi_accuracy: 1.00 - ETA: 23s - loss: -0.0195 - crf_viterbi_accuracy: 1.00 - ETA: 23s - loss: -0.0195 - crf_viterbi_accuracy: 1.00 - ETA: 22s - loss: -0.0195 - crf_viterbi_accuracy: 1.00 - ETA: 21s - loss: -0.0195 - crf_viterbi_accuracy: 1.00 - ETA: 20s - loss: -0.0195 - crf_viterbi_accuracy: 1.00 - ETA: 20s - loss: -0.0195 - crf_viterbi_accuracy: 1.00 - ETA: 19s - loss: -0.0195 - crf_viterbi_accuracy: 1.00 - ETA: 18s - loss: -0.0195 - crf_viterbi_accuracy: 1.00 - ETA: 17s - loss: -0.0195 - crf_viterbi_accuracy: 1.00 - ETA: 17s - loss: -0.0195 - crf_viterbi_accuracy: 1.00 - ETA: 16s - loss: -0.0195 - crf_viterbi_accuracy: 1.00 - ETA: 15s - loss: -0.0195 - crf_viterbi_accuracy: 1.00 - ETA: 14s - loss: -0.0195 - crf_viterbi_accuracy: 1.00 - ETA: 14s - loss: -0.0195 - crf_viterbi_accuracy: 1.00 - ETA: 13s - loss: -0.0195 - crf_viterbi_accuracy: 1.00 - ETA: 12s - loss: -0.0195 - crf_viterbi_accuracy: 1.00 - ETA: 11s - loss: -0.0195 - crf_viterbi_accuracy: 1.00 - ETA: 11s - loss: -0.0195 - crf_viterbi_accuracy: 1.00 - ETA: 10s - loss: -0.0195 - crf_viterbi_accuracy: 1.00 - ETA: 9s - loss: -0.0195 - crf_viterbi_accuracy: 1.0000 - ETA: 8s - loss: -0.0195 - crf_viterbi_accuracy: 1.000 - ETA: 8s - loss: -0.0195 - crf_viterbi_accuracy: 1.000 - ETA: 7s - loss: -0.0195 - crf_viterbi_accuracy: 1.000 - ETA: 6s - loss: -0.0195 - crf_viterbi_accuracy: 1.000 - ETA: 5s - loss: -0.0195 - crf_viterbi_accuracy: 1.000 - ETA: 5s - loss: -0.0195 - crf_viterbi_accuracy: 1.000 - ETA: 4s - loss: -0.0195 - crf_viterbi_accuracy: 1.000 - ETA: 3s - loss: -0.0195 - crf_viterbi_accuracy: 1.000 - ETA: 3s - loss: -0.0195 - crf_viterbi_accuracy: 1.000 - ETA: 2s - loss: -0.0195 - crf_viterbi_accuracy: 1.000 - ETA: 1s - loss: -0.0196 - crf_viterbi_accuracy: 1.000 - ETA: 0s - loss: -0.0196 - crf_viterbi_accuracy: 1.000 - ETA: 0s - loss: -0.0196 - crf_viterbi_accuracy: 1.000 - 63s 15ms/step - loss: -0.0196 - crf_viterbi_accuracy: 1.0000 - val_loss: -0.0042 - val_crf_viterbi_accuracy: 0.9968\n",
      "Epoch 43/50\n"
     ]
    },
    {
     "name": "stdout",
     "output_type": "stream",
     "text": [
      "4104/4104 [==============================] - ETA: 1:02 - loss: -0.0198 - crf_viterbi_accuracy: 1.000 - ETA: 59s - loss: -0.0198 - crf_viterbi_accuracy: 1.000 - ETA: 58s - loss: -0.0198 - crf_viterbi_accuracy: 1.00 - ETA: 56s - loss: -0.0198 - crf_viterbi_accuracy: 1.00 - ETA: 54s - loss: -0.0198 - crf_viterbi_accuracy: 1.00 - ETA: 54s - loss: -0.0198 - crf_viterbi_accuracy: 1.00 - ETA: 53s - loss: -0.0199 - crf_viterbi_accuracy: 1.00 - ETA: 53s - loss: -0.0199 - crf_viterbi_accuracy: 1.00 - ETA: 52s - loss: -0.0199 - crf_viterbi_accuracy: 1.00 - ETA: 52s - loss: -0.0199 - crf_viterbi_accuracy: 1.00 - ETA: 52s - loss: -0.0199 - crf_viterbi_accuracy: 1.00 - ETA: 51s - loss: -0.0199 - crf_viterbi_accuracy: 1.00 - ETA: 50s - loss: -0.0199 - crf_viterbi_accuracy: 1.00 - ETA: 49s - loss: -0.0199 - crf_viterbi_accuracy: 1.00 - ETA: 49s - loss: -0.0199 - crf_viterbi_accuracy: 1.00 - ETA: 48s - loss: -0.0199 - crf_viterbi_accuracy: 1.00 - ETA: 47s - loss: -0.0198 - crf_viterbi_accuracy: 1.00 - ETA: 46s - loss: -0.0198 - crf_viterbi_accuracy: 1.00 - ETA: 46s - loss: -0.0198 - crf_viterbi_accuracy: 1.00 - ETA: 45s - loss: -0.0198 - crf_viterbi_accuracy: 1.00 - ETA: 45s - loss: -0.0198 - crf_viterbi_accuracy: 1.00 - ETA: 44s - loss: -0.0198 - crf_viterbi_accuracy: 1.00 - ETA: 43s - loss: -0.0198 - crf_viterbi_accuracy: 1.00 - ETA: 43s - loss: -0.0199 - crf_viterbi_accuracy: 1.00 - ETA: 42s - loss: -0.0199 - crf_viterbi_accuracy: 1.00 - ETA: 41s - loss: -0.0199 - crf_viterbi_accuracy: 1.00 - ETA: 40s - loss: -0.0199 - crf_viterbi_accuracy: 1.00 - ETA: 40s - loss: -0.0199 - crf_viterbi_accuracy: 1.00 - ETA: 39s - loss: -0.0199 - crf_viterbi_accuracy: 1.00 - ETA: 38s - loss: -0.0199 - crf_viterbi_accuracy: 1.00 - ETA: 38s - loss: -0.0199 - crf_viterbi_accuracy: 1.00 - ETA: 37s - loss: -0.0199 - crf_viterbi_accuracy: 1.00 - ETA: 36s - loss: -0.0199 - crf_viterbi_accuracy: 1.00 - ETA: 36s - loss: -0.0199 - crf_viterbi_accuracy: 1.00 - ETA: 35s - loss: -0.0199 - crf_viterbi_accuracy: 1.00 - ETA: 34s - loss: -0.0199 - crf_viterbi_accuracy: 1.00 - ETA: 33s - loss: -0.0199 - crf_viterbi_accuracy: 1.00 - ETA: 32s - loss: -0.0199 - crf_viterbi_accuracy: 1.00 - ETA: 32s - loss: -0.0199 - crf_viterbi_accuracy: 1.00 - ETA: 31s - loss: -0.0199 - crf_viterbi_accuracy: 1.00 - ETA: 30s - loss: -0.0199 - crf_viterbi_accuracy: 1.00 - ETA: 29s - loss: -0.0199 - crf_viterbi_accuracy: 1.00 - ETA: 29s - loss: -0.0199 - crf_viterbi_accuracy: 1.00 - ETA: 28s - loss: -0.0199 - crf_viterbi_accuracy: 1.00 - ETA: 27s - loss: -0.0199 - crf_viterbi_accuracy: 1.00 - ETA: 26s - loss: -0.0199 - crf_viterbi_accuracy: 1.00 - ETA: 26s - loss: -0.0199 - crf_viterbi_accuracy: 1.00 - ETA: 25s - loss: -0.0199 - crf_viterbi_accuracy: 1.00 - ETA: 24s - loss: -0.0200 - crf_viterbi_accuracy: 1.00 - ETA: 23s - loss: -0.0200 - crf_viterbi_accuracy: 1.00 - ETA: 23s - loss: -0.0200 - crf_viterbi_accuracy: 1.00 - ETA: 22s - loss: -0.0200 - crf_viterbi_accuracy: 1.00 - ETA: 21s - loss: -0.0200 - crf_viterbi_accuracy: 1.00 - ETA: 20s - loss: -0.0200 - crf_viterbi_accuracy: 1.00 - ETA: 20s - loss: -0.0200 - crf_viterbi_accuracy: 1.00 - ETA: 19s - loss: -0.0200 - crf_viterbi_accuracy: 1.00 - ETA: 18s - loss: -0.0200 - crf_viterbi_accuracy: 1.00 - ETA: 17s - loss: -0.0200 - crf_viterbi_accuracy: 1.00 - ETA: 17s - loss: -0.0200 - crf_viterbi_accuracy: 1.00 - ETA: 16s - loss: -0.0200 - crf_viterbi_accuracy: 1.00 - ETA: 15s - loss: -0.0200 - crf_viterbi_accuracy: 1.00 - ETA: 14s - loss: -0.0200 - crf_viterbi_accuracy: 1.00 - ETA: 14s - loss: -0.0200 - crf_viterbi_accuracy: 1.00 - ETA: 13s - loss: -0.0200 - crf_viterbi_accuracy: 1.00 - ETA: 12s - loss: -0.0200 - crf_viterbi_accuracy: 1.00 - ETA: 11s - loss: -0.0200 - crf_viterbi_accuracy: 1.00 - ETA: 11s - loss: -0.0200 - crf_viterbi_accuracy: 1.00 - ETA: 10s - loss: -0.0200 - crf_viterbi_accuracy: 1.00 - ETA: 9s - loss: -0.0200 - crf_viterbi_accuracy: 1.0000 - ETA: 8s - loss: -0.0200 - crf_viterbi_accuracy: 1.000 - ETA: 8s - loss: -0.0200 - crf_viterbi_accuracy: 1.000 - ETA: 7s - loss: -0.0200 - crf_viterbi_accuracy: 1.000 - ETA: 6s - loss: -0.0200 - crf_viterbi_accuracy: 1.000 - ETA: 5s - loss: -0.0200 - crf_viterbi_accuracy: 1.000 - ETA: 5s - loss: -0.0200 - crf_viterbi_accuracy: 1.000 - ETA: 4s - loss: -0.0200 - crf_viterbi_accuracy: 1.000 - ETA: 3s - loss: -0.0200 - crf_viterbi_accuracy: 1.000 - ETA: 3s - loss: -0.0200 - crf_viterbi_accuracy: 1.000 - ETA: 2s - loss: -0.0201 - crf_viterbi_accuracy: 1.000 - ETA: 1s - loss: -0.0201 - crf_viterbi_accuracy: 1.000 - ETA: 0s - loss: -0.0201 - crf_viterbi_accuracy: 1.000 - ETA: 0s - loss: -0.0201 - crf_viterbi_accuracy: 1.000 - 62s 15ms/step - loss: -0.0201 - crf_viterbi_accuracy: 1.0000 - val_loss: -0.0044 - val_crf_viterbi_accuracy: 0.9966\n",
      "Epoch 44/50\n"
     ]
    },
    {
     "name": "stdout",
     "output_type": "stream",
     "text": [
      "4104/4104 [==============================] - ETA: 1:00 - loss: -0.0203 - crf_viterbi_accuracy: 1.000 - ETA: 57s - loss: -0.0203 - crf_viterbi_accuracy: 1.000 - ETA: 56s - loss: -0.0204 - crf_viterbi_accuracy: 1.00 - ETA: 55s - loss: -0.0204 - crf_viterbi_accuracy: 1.00 - ETA: 55s - loss: -0.0204 - crf_viterbi_accuracy: 1.00 - ETA: 54s - loss: -0.0204 - crf_viterbi_accuracy: 1.00 - ETA: 54s - loss: -0.0204 - crf_viterbi_accuracy: 1.00 - ETA: 53s - loss: -0.0204 - crf_viterbi_accuracy: 1.00 - ETA: 53s - loss: -0.0204 - crf_viterbi_accuracy: 1.00 - ETA: 53s - loss: -0.0204 - crf_viterbi_accuracy: 1.00 - ETA: 52s - loss: -0.0204 - crf_viterbi_accuracy: 1.00 - ETA: 52s - loss: -0.0204 - crf_viterbi_accuracy: 1.00 - ETA: 51s - loss: -0.0203 - crf_viterbi_accuracy: 1.00 - ETA: 50s - loss: -0.0204 - crf_viterbi_accuracy: 1.00 - ETA: 49s - loss: -0.0204 - crf_viterbi_accuracy: 1.00 - ETA: 48s - loss: -0.0204 - crf_viterbi_accuracy: 1.00 - ETA: 47s - loss: -0.0204 - crf_viterbi_accuracy: 1.00 - ETA: 47s - loss: -0.0204 - crf_viterbi_accuracy: 1.00 - ETA: 46s - loss: -0.0204 - crf_viterbi_accuracy: 1.00 - ETA: 45s - loss: -0.0204 - crf_viterbi_accuracy: 1.00 - ETA: 44s - loss: -0.0204 - crf_viterbi_accuracy: 1.00 - ETA: 44s - loss: -0.0204 - crf_viterbi_accuracy: 1.00 - ETA: 43s - loss: -0.0204 - crf_viterbi_accuracy: 1.00 - ETA: 42s - loss: -0.0204 - crf_viterbi_accuracy: 1.00 - ETA: 42s - loss: -0.0204 - crf_viterbi_accuracy: 1.00 - ETA: 41s - loss: -0.0204 - crf_viterbi_accuracy: 1.00 - ETA: 40s - loss: -0.0204 - crf_viterbi_accuracy: 1.00 - ETA: 39s - loss: -0.0204 - crf_viterbi_accuracy: 1.00 - ETA: 38s - loss: -0.0204 - crf_viterbi_accuracy: 1.00 - ETA: 38s - loss: -0.0204 - crf_viterbi_accuracy: 1.00 - ETA: 37s - loss: -0.0204 - crf_viterbi_accuracy: 1.00 - ETA: 36s - loss: -0.0204 - crf_viterbi_accuracy: 1.00 - ETA: 36s - loss: -0.0204 - crf_viterbi_accuracy: 1.00 - ETA: 35s - loss: -0.0204 - crf_viterbi_accuracy: 1.00 - ETA: 34s - loss: -0.0204 - crf_viterbi_accuracy: 1.00 - ETA: 33s - loss: -0.0204 - crf_viterbi_accuracy: 1.00 - ETA: 33s - loss: -0.0204 - crf_viterbi_accuracy: 1.00 - ETA: 32s - loss: -0.0204 - crf_viterbi_accuracy: 1.00 - ETA: 31s - loss: -0.0204 - crf_viterbi_accuracy: 1.00 - ETA: 30s - loss: -0.0204 - crf_viterbi_accuracy: 1.00 - ETA: 29s - loss: -0.0204 - crf_viterbi_accuracy: 1.00 - ETA: 29s - loss: -0.0204 - crf_viterbi_accuracy: 1.00 - ETA: 28s - loss: -0.0204 - crf_viterbi_accuracy: 1.00 - ETA: 27s - loss: -0.0204 - crf_viterbi_accuracy: 1.00 - ETA: 27s - loss: -0.0204 - crf_viterbi_accuracy: 1.00 - ETA: 26s - loss: -0.0204 - crf_viterbi_accuracy: 1.00 - ETA: 25s - loss: -0.0204 - crf_viterbi_accuracy: 1.00 - ETA: 24s - loss: -0.0204 - crf_viterbi_accuracy: 1.00 - ETA: 24s - loss: -0.0204 - crf_viterbi_accuracy: 1.00 - ETA: 23s - loss: -0.0204 - crf_viterbi_accuracy: 1.00 - ETA: 22s - loss: -0.0204 - crf_viterbi_accuracy: 1.00 - ETA: 21s - loss: -0.0204 - crf_viterbi_accuracy: 1.00 - ETA: 21s - loss: -0.0204 - crf_viterbi_accuracy: 1.00 - ETA: 20s - loss: -0.0204 - crf_viterbi_accuracy: 1.00 - ETA: 19s - loss: -0.0205 - crf_viterbi_accuracy: 1.00 - ETA: 19s - loss: -0.0205 - crf_viterbi_accuracy: 1.00 - ETA: 18s - loss: -0.0205 - crf_viterbi_accuracy: 1.00 - ETA: 17s - loss: -0.0205 - crf_viterbi_accuracy: 1.00 - ETA: 16s - loss: -0.0205 - crf_viterbi_accuracy: 1.00 - ETA: 16s - loss: -0.0205 - crf_viterbi_accuracy: 1.00 - ETA: 15s - loss: -0.0205 - crf_viterbi_accuracy: 1.00 - ETA: 14s - loss: -0.0205 - crf_viterbi_accuracy: 1.00 - ETA: 14s - loss: -0.0205 - crf_viterbi_accuracy: 1.00 - ETA: 13s - loss: -0.0205 - crf_viterbi_accuracy: 1.00 - ETA: 12s - loss: -0.0205 - crf_viterbi_accuracy: 1.00 - ETA: 11s - loss: -0.0205 - crf_viterbi_accuracy: 1.00 - ETA: 11s - loss: -0.0205 - crf_viterbi_accuracy: 1.00 - ETA: 10s - loss: -0.0205 - crf_viterbi_accuracy: 1.00 - ETA: 9s - loss: -0.0205 - crf_viterbi_accuracy: 1.0000 - ETA: 8s - loss: -0.0205 - crf_viterbi_accuracy: 1.000 - ETA: 8s - loss: -0.0205 - crf_viterbi_accuracy: 1.000 - ETA: 7s - loss: -0.0205 - crf_viterbi_accuracy: 1.000 - ETA: 6s - loss: -0.0205 - crf_viterbi_accuracy: 1.000 - ETA: 5s - loss: -0.0205 - crf_viterbi_accuracy: 1.000 - ETA: 5s - loss: -0.0205 - crf_viterbi_accuracy: 1.000 - ETA: 4s - loss: -0.0205 - crf_viterbi_accuracy: 1.000 - ETA: 3s - loss: -0.0205 - crf_viterbi_accuracy: 1.000 - ETA: 2s - loss: -0.0205 - crf_viterbi_accuracy: 1.000 - ETA: 2s - loss: -0.0205 - crf_viterbi_accuracy: 1.000 - ETA: 1s - loss: -0.0205 - crf_viterbi_accuracy: 1.000 - ETA: 0s - loss: -0.0205 - crf_viterbi_accuracy: 1.000 - ETA: 0s - loss: -0.0205 - crf_viterbi_accuracy: 1.000 - 62s 15ms/step - loss: -0.0205 - crf_viterbi_accuracy: 1.0000 - val_loss: -0.0037 - val_crf_viterbi_accuracy: 0.9968\n",
      "Epoch 45/50\n"
     ]
    },
    {
     "name": "stdout",
     "output_type": "stream",
     "text": [
      "4104/4104 [==============================] - ETA: 58s - loss: -0.0208 - crf_viterbi_accuracy: 1.00 - ETA: 56s - loss: -0.0208 - crf_viterbi_accuracy: 1.00 - ETA: 54s - loss: -0.0208 - crf_viterbi_accuracy: 1.00 - ETA: 54s - loss: -0.0208 - crf_viterbi_accuracy: 1.00 - ETA: 53s - loss: -0.0208 - crf_viterbi_accuracy: 1.00 - ETA: 53s - loss: -0.0209 - crf_viterbi_accuracy: 1.00 - ETA: 52s - loss: -0.0209 - crf_viterbi_accuracy: 1.00 - ETA: 52s - loss: -0.0209 - crf_viterbi_accuracy: 1.00 - ETA: 51s - loss: -0.0209 - crf_viterbi_accuracy: 1.00 - ETA: 50s - loss: -0.0209 - crf_viterbi_accuracy: 1.00 - ETA: 49s - loss: -0.0209 - crf_viterbi_accuracy: 1.00 - ETA: 49s - loss: -0.0209 - crf_viterbi_accuracy: 1.00 - ETA: 48s - loss: -0.0209 - crf_viterbi_accuracy: 1.00 - ETA: 48s - loss: -0.0209 - crf_viterbi_accuracy: 1.00 - ETA: 47s - loss: -0.0209 - crf_viterbi_accuracy: 1.00 - ETA: 47s - loss: -0.0209 - crf_viterbi_accuracy: 1.00 - ETA: 46s - loss: -0.0209 - crf_viterbi_accuracy: 1.00 - ETA: 45s - loss: -0.0209 - crf_viterbi_accuracy: 1.00 - ETA: 45s - loss: -0.0209 - crf_viterbi_accuracy: 1.00 - ETA: 44s - loss: -0.0209 - crf_viterbi_accuracy: 1.00 - ETA: 43s - loss: -0.0209 - crf_viterbi_accuracy: 1.00 - ETA: 43s - loss: -0.0209 - crf_viterbi_accuracy: 1.00 - ETA: 42s - loss: -0.0209 - crf_viterbi_accuracy: 1.00 - ETA: 41s - loss: -0.0209 - crf_viterbi_accuracy: 1.00 - ETA: 41s - loss: -0.0209 - crf_viterbi_accuracy: 1.00 - ETA: 40s - loss: -0.0209 - crf_viterbi_accuracy: 1.00 - ETA: 39s - loss: -0.0209 - crf_viterbi_accuracy: 1.00 - ETA: 39s - loss: -0.0209 - crf_viterbi_accuracy: 1.00 - ETA: 38s - loss: -0.0209 - crf_viterbi_accuracy: 1.00 - ETA: 37s - loss: -0.0209 - crf_viterbi_accuracy: 1.00 - ETA: 36s - loss: -0.0209 - crf_viterbi_accuracy: 1.00 - ETA: 36s - loss: -0.0209 - crf_viterbi_accuracy: 1.00 - ETA: 35s - loss: -0.0209 - crf_viterbi_accuracy: 1.00 - ETA: 34s - loss: -0.0209 - crf_viterbi_accuracy: 1.00 - ETA: 33s - loss: -0.0209 - crf_viterbi_accuracy: 1.00 - ETA: 33s - loss: -0.0209 - crf_viterbi_accuracy: 1.00 - ETA: 32s - loss: -0.0209 - crf_viterbi_accuracy: 1.00 - ETA: 32s - loss: -0.0209 - crf_viterbi_accuracy: 1.00 - ETA: 31s - loss: -0.0209 - crf_viterbi_accuracy: 1.00 - ETA: 30s - loss: -0.0209 - crf_viterbi_accuracy: 1.00 - ETA: 30s - loss: -0.0210 - crf_viterbi_accuracy: 1.00 - ETA: 29s - loss: -0.0210 - crf_viterbi_accuracy: 1.00 - ETA: 28s - loss: -0.0210 - crf_viterbi_accuracy: 1.00 - ETA: 28s - loss: -0.0210 - crf_viterbi_accuracy: 1.00 - ETA: 27s - loss: -0.0210 - crf_viterbi_accuracy: 1.00 - ETA: 26s - loss: -0.0210 - crf_viterbi_accuracy: 1.00 - ETA: 25s - loss: -0.0210 - crf_viterbi_accuracy: 1.00 - ETA: 25s - loss: -0.0210 - crf_viterbi_accuracy: 1.00 - ETA: 24s - loss: -0.0210 - crf_viterbi_accuracy: 1.00 - ETA: 23s - loss: -0.0210 - crf_viterbi_accuracy: 1.00 - ETA: 22s - loss: -0.0210 - crf_viterbi_accuracy: 1.00 - ETA: 22s - loss: -0.0210 - crf_viterbi_accuracy: 1.00 - ETA: 21s - loss: -0.0210 - crf_viterbi_accuracy: 1.00 - ETA: 20s - loss: -0.0210 - crf_viterbi_accuracy: 1.00 - ETA: 19s - loss: -0.0210 - crf_viterbi_accuracy: 1.00 - ETA: 19s - loss: -0.0210 - crf_viterbi_accuracy: 1.00 - ETA: 18s - loss: -0.0210 - crf_viterbi_accuracy: 1.00 - ETA: 17s - loss: -0.0210 - crf_viterbi_accuracy: 1.00 - ETA: 16s - loss: -0.0210 - crf_viterbi_accuracy: 1.00 - ETA: 16s - loss: -0.0210 - crf_viterbi_accuracy: 1.00 - ETA: 15s - loss: -0.0210 - crf_viterbi_accuracy: 1.00 - ETA: 14s - loss: -0.0210 - crf_viterbi_accuracy: 1.00 - ETA: 14s - loss: -0.0210 - crf_viterbi_accuracy: 1.00 - ETA: 13s - loss: -0.0210 - crf_viterbi_accuracy: 1.00 - ETA: 12s - loss: -0.0210 - crf_viterbi_accuracy: 1.00 - ETA: 11s - loss: -0.0210 - crf_viterbi_accuracy: 1.00 - ETA: 11s - loss: -0.0210 - crf_viterbi_accuracy: 1.00 - ETA: 10s - loss: -0.0210 - crf_viterbi_accuracy: 1.00 - ETA: 9s - loss: -0.0210 - crf_viterbi_accuracy: 1.0000 - ETA: 8s - loss: -0.0210 - crf_viterbi_accuracy: 1.000 - ETA: 8s - loss: -0.0210 - crf_viterbi_accuracy: 1.000 - ETA: 7s - loss: -0.0210 - crf_viterbi_accuracy: 1.000 - ETA: 6s - loss: -0.0210 - crf_viterbi_accuracy: 1.000 - ETA: 5s - loss: -0.0210 - crf_viterbi_accuracy: 1.000 - ETA: 5s - loss: -0.0210 - crf_viterbi_accuracy: 1.000 - ETA: 4s - loss: -0.0210 - crf_viterbi_accuracy: 1.000 - ETA: 3s - loss: -0.0210 - crf_viterbi_accuracy: 1.000 - ETA: 3s - loss: -0.0210 - crf_viterbi_accuracy: 1.000 - ETA: 2s - loss: -0.0210 - crf_viterbi_accuracy: 1.000 - ETA: 1s - loss: -0.0210 - crf_viterbi_accuracy: 1.000 - ETA: 0s - loss: -0.0210 - crf_viterbi_accuracy: 1.000 - ETA: 0s - loss: -0.0210 - crf_viterbi_accuracy: 1.000 - 63s 15ms/step - loss: -0.0210 - crf_viterbi_accuracy: 1.0000 - val_loss: -0.0056 - val_crf_viterbi_accuracy: 0.9967\n",
      "Epoch 46/50\n"
     ]
    },
    {
     "name": "stdout",
     "output_type": "stream",
     "text": [
      "4104/4104 [==============================] - ETA: 59s - loss: -0.0213 - crf_viterbi_accuracy: 1.00 - ETA: 58s - loss: -0.0213 - crf_viterbi_accuracy: 1.00 - ETA: 58s - loss: -0.0213 - crf_viterbi_accuracy: 1.00 - ETA: 58s - loss: -0.0213 - crf_viterbi_accuracy: 1.00 - ETA: 56s - loss: -0.0213 - crf_viterbi_accuracy: 1.00 - ETA: 56s - loss: -0.0213 - crf_viterbi_accuracy: 1.00 - ETA: 55s - loss: -0.0213 - crf_viterbi_accuracy: 1.00 - ETA: 54s - loss: -0.0213 - crf_viterbi_accuracy: 1.00 - ETA: 53s - loss: -0.0213 - crf_viterbi_accuracy: 1.00 - ETA: 53s - loss: -0.0213 - crf_viterbi_accuracy: 1.00 - ETA: 52s - loss: -0.0213 - crf_viterbi_accuracy: 1.00 - ETA: 51s - loss: -0.0213 - crf_viterbi_accuracy: 1.00 - ETA: 50s - loss: -0.0213 - crf_viterbi_accuracy: 1.00 - ETA: 49s - loss: -0.0213 - crf_viterbi_accuracy: 1.00 - ETA: 49s - loss: -0.0213 - crf_viterbi_accuracy: 1.00 - ETA: 48s - loss: -0.0213 - crf_viterbi_accuracy: 1.00 - ETA: 47s - loss: -0.0213 - crf_viterbi_accuracy: 1.00 - ETA: 46s - loss: -0.0213 - crf_viterbi_accuracy: 1.00 - ETA: 46s - loss: -0.0213 - crf_viterbi_accuracy: 1.00 - ETA: 45s - loss: -0.0213 - crf_viterbi_accuracy: 1.00 - ETA: 44s - loss: -0.0214 - crf_viterbi_accuracy: 1.00 - ETA: 43s - loss: -0.0214 - crf_viterbi_accuracy: 1.00 - ETA: 42s - loss: -0.0214 - crf_viterbi_accuracy: 1.00 - ETA: 42s - loss: -0.0214 - crf_viterbi_accuracy: 1.00 - ETA: 41s - loss: -0.0214 - crf_viterbi_accuracy: 1.00 - ETA: 40s - loss: -0.0214 - crf_viterbi_accuracy: 1.00 - ETA: 40s - loss: -0.0214 - crf_viterbi_accuracy: 1.00 - ETA: 39s - loss: -0.0214 - crf_viterbi_accuracy: 1.00 - ETA: 38s - loss: -0.0214 - crf_viterbi_accuracy: 1.00 - ETA: 37s - loss: -0.0214 - crf_viterbi_accuracy: 1.00 - ETA: 37s - loss: -0.0214 - crf_viterbi_accuracy: 1.00 - ETA: 36s - loss: -0.0214 - crf_viterbi_accuracy: 1.00 - ETA: 35s - loss: -0.0214 - crf_viterbi_accuracy: 1.00 - ETA: 35s - loss: -0.0214 - crf_viterbi_accuracy: 1.00 - ETA: 34s - loss: -0.0214 - crf_viterbi_accuracy: 1.00 - ETA: 33s - loss: -0.0214 - crf_viterbi_accuracy: 1.00 - ETA: 32s - loss: -0.0214 - crf_viterbi_accuracy: 1.00 - ETA: 32s - loss: -0.0214 - crf_viterbi_accuracy: 1.00 - ETA: 31s - loss: -0.0214 - crf_viterbi_accuracy: 1.00 - ETA: 30s - loss: -0.0214 - crf_viterbi_accuracy: 1.00 - ETA: 29s - loss: -0.0214 - crf_viterbi_accuracy: 1.00 - ETA: 29s - loss: -0.0214 - crf_viterbi_accuracy: 1.00 - ETA: 28s - loss: -0.0214 - crf_viterbi_accuracy: 1.00 - ETA: 27s - loss: -0.0214 - crf_viterbi_accuracy: 1.00 - ETA: 26s - loss: -0.0214 - crf_viterbi_accuracy: 1.00 - ETA: 26s - loss: -0.0214 - crf_viterbi_accuracy: 1.00 - ETA: 25s - loss: -0.0214 - crf_viterbi_accuracy: 1.00 - ETA: 24s - loss: -0.0214 - crf_viterbi_accuracy: 1.00 - ETA: 24s - loss: -0.0214 - crf_viterbi_accuracy: 1.00 - ETA: 23s - loss: -0.0214 - crf_viterbi_accuracy: 1.00 - ETA: 22s - loss: -0.0214 - crf_viterbi_accuracy: 1.00 - ETA: 21s - loss: -0.0214 - crf_viterbi_accuracy: 1.00 - ETA: 21s - loss: -0.0214 - crf_viterbi_accuracy: 1.00 - ETA: 20s - loss: -0.0215 - crf_viterbi_accuracy: 1.00 - ETA: 19s - loss: -0.0215 - crf_viterbi_accuracy: 1.00 - ETA: 18s - loss: -0.0215 - crf_viterbi_accuracy: 1.00 - ETA: 18s - loss: -0.0215 - crf_viterbi_accuracy: 1.00 - ETA: 17s - loss: -0.0215 - crf_viterbi_accuracy: 1.00 - ETA: 16s - loss: -0.0215 - crf_viterbi_accuracy: 1.00 - ETA: 16s - loss: -0.0215 - crf_viterbi_accuracy: 1.00 - ETA: 15s - loss: -0.0215 - crf_viterbi_accuracy: 1.00 - ETA: 14s - loss: -0.0215 - crf_viterbi_accuracy: 1.00 - ETA: 13s - loss: -0.0215 - crf_viterbi_accuracy: 1.00 - ETA: 13s - loss: -0.0215 - crf_viterbi_accuracy: 1.00 - ETA: 12s - loss: -0.0215 - crf_viterbi_accuracy: 1.00 - ETA: 11s - loss: -0.0215 - crf_viterbi_accuracy: 1.00 - ETA: 10s - loss: -0.0215 - crf_viterbi_accuracy: 1.00 - ETA: 10s - loss: -0.0215 - crf_viterbi_accuracy: 1.00 - ETA: 9s - loss: -0.0215 - crf_viterbi_accuracy: 1.0000 - ETA: 8s - loss: -0.0215 - crf_viterbi_accuracy: 1.000 - ETA: 8s - loss: -0.0215 - crf_viterbi_accuracy: 1.000 - ETA: 7s - loss: -0.0215 - crf_viterbi_accuracy: 1.000 - ETA: 6s - loss: -0.0215 - crf_viterbi_accuracy: 1.000 - ETA: 5s - loss: -0.0215 - crf_viterbi_accuracy: 1.000 - ETA: 5s - loss: -0.0215 - crf_viterbi_accuracy: 1.000 - ETA: 4s - loss: -0.0215 - crf_viterbi_accuracy: 1.000 - ETA: 3s - loss: -0.0215 - crf_viterbi_accuracy: 1.000 - ETA: 2s - loss: -0.0215 - crf_viterbi_accuracy: 1.000 - ETA: 2s - loss: -0.0215 - crf_viterbi_accuracy: 1.000 - ETA: 1s - loss: -0.0215 - crf_viterbi_accuracy: 1.000 - ETA: 0s - loss: -0.0215 - crf_viterbi_accuracy: 1.000 - ETA: 0s - loss: -0.0215 - crf_viterbi_accuracy: 1.000 - 62s 15ms/step - loss: -0.0215 - crf_viterbi_accuracy: 1.0000 - val_loss: -0.0057 - val_crf_viterbi_accuracy: 0.9966\n",
      "Epoch 47/50\n"
     ]
    },
    {
     "name": "stdout",
     "output_type": "stream",
     "text": [
      "4104/4104 [==============================] - ETA: 58s - loss: -0.0218 - crf_viterbi_accuracy: 1.00 - ETA: 57s - loss: -0.0218 - crf_viterbi_accuracy: 1.00 - ETA: 56s - loss: -0.0218 - crf_viterbi_accuracy: 1.00 - ETA: 55s - loss: -0.0218 - crf_viterbi_accuracy: 1.00 - ETA: 54s - loss: -0.0218 - crf_viterbi_accuracy: 1.00 - ETA: 53s - loss: -0.0218 - crf_viterbi_accuracy: 1.00 - ETA: 53s - loss: -0.0218 - crf_viterbi_accuracy: 1.00 - ETA: 52s - loss: -0.0218 - crf_viterbi_accuracy: 1.00 - ETA: 51s - loss: -0.0218 - crf_viterbi_accuracy: 1.00 - ETA: 51s - loss: -0.0218 - crf_viterbi_accuracy: 1.00 - ETA: 50s - loss: -0.0218 - crf_viterbi_accuracy: 1.00 - ETA: 50s - loss: -0.0218 - crf_viterbi_accuracy: 1.00 - ETA: 49s - loss: -0.0218 - crf_viterbi_accuracy: 1.00 - ETA: 49s - loss: -0.0218 - crf_viterbi_accuracy: 1.00 - ETA: 48s - loss: -0.0218 - crf_viterbi_accuracy: 1.00 - ETA: 48s - loss: -0.0218 - crf_viterbi_accuracy: 1.00 - ETA: 47s - loss: -0.0218 - crf_viterbi_accuracy: 1.00 - ETA: 46s - loss: -0.0218 - crf_viterbi_accuracy: 1.00 - ETA: 45s - loss: -0.0219 - crf_viterbi_accuracy: 1.00 - ETA: 45s - loss: -0.0218 - crf_viterbi_accuracy: 1.00 - ETA: 44s - loss: -0.0219 - crf_viterbi_accuracy: 1.00 - ETA: 43s - loss: -0.0219 - crf_viterbi_accuracy: 1.00 - ETA: 43s - loss: -0.0219 - crf_viterbi_accuracy: 1.00 - ETA: 42s - loss: -0.0219 - crf_viterbi_accuracy: 1.00 - ETA: 41s - loss: -0.0219 - crf_viterbi_accuracy: 1.00 - ETA: 40s - loss: -0.0219 - crf_viterbi_accuracy: 1.00 - ETA: 40s - loss: -0.0219 - crf_viterbi_accuracy: 1.00 - ETA: 39s - loss: -0.0219 - crf_viterbi_accuracy: 1.00 - ETA: 38s - loss: -0.0219 - crf_viterbi_accuracy: 1.00 - ETA: 38s - loss: -0.0219 - crf_viterbi_accuracy: 1.00 - ETA: 37s - loss: -0.0219 - crf_viterbi_accuracy: 1.00 - ETA: 36s - loss: -0.0219 - crf_viterbi_accuracy: 1.00 - ETA: 35s - loss: -0.0219 - crf_viterbi_accuracy: 1.00 - ETA: 35s - loss: -0.0219 - crf_viterbi_accuracy: 1.00 - ETA: 34s - loss: -0.0219 - crf_viterbi_accuracy: 1.00 - ETA: 33s - loss: -0.0219 - crf_viterbi_accuracy: 1.00 - ETA: 32s - loss: -0.0219 - crf_viterbi_accuracy: 1.00 - ETA: 32s - loss: -0.0219 - crf_viterbi_accuracy: 1.00 - ETA: 31s - loss: -0.0219 - crf_viterbi_accuracy: 1.00 - ETA: 30s - loss: -0.0219 - crf_viterbi_accuracy: 1.00 - ETA: 30s - loss: -0.0219 - crf_viterbi_accuracy: 1.00 - ETA: 29s - loss: -0.0219 - crf_viterbi_accuracy: 1.00 - ETA: 28s - loss: -0.0219 - crf_viterbi_accuracy: 1.00 - ETA: 27s - loss: -0.0219 - crf_viterbi_accuracy: 1.00 - ETA: 27s - loss: -0.0219 - crf_viterbi_accuracy: 1.00 - ETA: 26s - loss: -0.0219 - crf_viterbi_accuracy: 1.00 - ETA: 25s - loss: -0.0219 - crf_viterbi_accuracy: 1.00 - ETA: 24s - loss: -0.0219 - crf_viterbi_accuracy: 1.00 - ETA: 24s - loss: -0.0219 - crf_viterbi_accuracy: 1.00 - ETA: 23s - loss: -0.0219 - crf_viterbi_accuracy: 1.00 - ETA: 22s - loss: -0.0219 - crf_viterbi_accuracy: 1.00 - ETA: 21s - loss: -0.0219 - crf_viterbi_accuracy: 1.00 - ETA: 21s - loss: -0.0219 - crf_viterbi_accuracy: 1.00 - ETA: 20s - loss: -0.0220 - crf_viterbi_accuracy: 1.00 - ETA: 19s - loss: -0.0220 - crf_viterbi_accuracy: 1.00 - ETA: 19s - loss: -0.0220 - crf_viterbi_accuracy: 1.00 - ETA: 18s - loss: -0.0220 - crf_viterbi_accuracy: 1.00 - ETA: 17s - loss: -0.0220 - crf_viterbi_accuracy: 1.00 - ETA: 16s - loss: -0.0220 - crf_viterbi_accuracy: 1.00 - ETA: 16s - loss: -0.0220 - crf_viterbi_accuracy: 1.00 - ETA: 15s - loss: -0.0220 - crf_viterbi_accuracy: 1.00 - ETA: 14s - loss: -0.0220 - crf_viterbi_accuracy: 1.00 - ETA: 13s - loss: -0.0220 - crf_viterbi_accuracy: 1.00 - ETA: 13s - loss: -0.0220 - crf_viterbi_accuracy: 1.00 - ETA: 12s - loss: -0.0220 - crf_viterbi_accuracy: 1.00 - ETA: 11s - loss: -0.0220 - crf_viterbi_accuracy: 1.00 - ETA: 10s - loss: -0.0220 - crf_viterbi_accuracy: 1.00 - ETA: 10s - loss: -0.0220 - crf_viterbi_accuracy: 1.00 - ETA: 9s - loss: -0.0220 - crf_viterbi_accuracy: 1.0000 - ETA: 8s - loss: -0.0220 - crf_viterbi_accuracy: 1.000 - ETA: 8s - loss: -0.0220 - crf_viterbi_accuracy: 1.000 - ETA: 7s - loss: -0.0220 - crf_viterbi_accuracy: 1.000 - ETA: 6s - loss: -0.0220 - crf_viterbi_accuracy: 1.000 - ETA: 5s - loss: -0.0220 - crf_viterbi_accuracy: 1.000 - ETA: 5s - loss: -0.0220 - crf_viterbi_accuracy: 1.000 - ETA: 4s - loss: -0.0220 - crf_viterbi_accuracy: 1.000 - ETA: 3s - loss: -0.0220 - crf_viterbi_accuracy: 1.000 - ETA: 2s - loss: -0.0220 - crf_viterbi_accuracy: 1.000 - ETA: 2s - loss: -0.0220 - crf_viterbi_accuracy: 1.000 - ETA: 1s - loss: -0.0220 - crf_viterbi_accuracy: 1.000 - ETA: 0s - loss: -0.0220 - crf_viterbi_accuracy: 1.000 - ETA: 0s - loss: -0.0220 - crf_viterbi_accuracy: 1.000 - 62s 15ms/step - loss: -0.0220 - crf_viterbi_accuracy: 1.0000 - val_loss: -0.0056 - val_crf_viterbi_accuracy: 0.9967\n",
      "Epoch 48/50\n"
     ]
    },
    {
     "name": "stdout",
     "output_type": "stream",
     "text": [
      "4104/4104 [==============================] - ETA: 1:06 - loss: -0.0223 - crf_viterbi_accuracy: 1.000 - ETA: 1:02 - loss: -0.0223 - crf_viterbi_accuracy: 1.000 - ETA: 1:01 - loss: -0.0223 - crf_viterbi_accuracy: 1.000 - ETA: 1:00 - loss: -0.0223 - crf_viterbi_accuracy: 1.000 - ETA: 58s - loss: -0.0223 - crf_viterbi_accuracy: 1.000 - ETA: 57s - loss: -0.0223 - crf_viterbi_accuracy: 1.00 - ETA: 55s - loss: -0.0223 - crf_viterbi_accuracy: 1.00 - ETA: 54s - loss: -0.0223 - crf_viterbi_accuracy: 1.00 - ETA: 53s - loss: -0.0223 - crf_viterbi_accuracy: 1.00 - ETA: 52s - loss: -0.0223 - crf_viterbi_accuracy: 1.00 - ETA: 51s - loss: -0.0223 - crf_viterbi_accuracy: 1.00 - ETA: 50s - loss: -0.0223 - crf_viterbi_accuracy: 1.00 - ETA: 50s - loss: -0.0223 - crf_viterbi_accuracy: 1.00 - ETA: 49s - loss: -0.0223 - crf_viterbi_accuracy: 1.00 - ETA: 48s - loss: -0.0223 - crf_viterbi_accuracy: 1.00 - ETA: 48s - loss: -0.0223 - crf_viterbi_accuracy: 1.00 - ETA: 47s - loss: -0.0223 - crf_viterbi_accuracy: 1.00 - ETA: 46s - loss: -0.0223 - crf_viterbi_accuracy: 1.00 - ETA: 45s - loss: -0.0223 - crf_viterbi_accuracy: 1.00 - ETA: 44s - loss: -0.0223 - crf_viterbi_accuracy: 1.00 - ETA: 44s - loss: -0.0223 - crf_viterbi_accuracy: 1.00 - ETA: 43s - loss: -0.0223 - crf_viterbi_accuracy: 1.00 - ETA: 42s - loss: -0.0223 - crf_viterbi_accuracy: 1.00 - ETA: 42s - loss: -0.0223 - crf_viterbi_accuracy: 1.00 - ETA: 41s - loss: -0.0223 - crf_viterbi_accuracy: 1.00 - ETA: 41s - loss: -0.0223 - crf_viterbi_accuracy: 1.00 - ETA: 40s - loss: -0.0223 - crf_viterbi_accuracy: 1.00 - ETA: 39s - loss: -0.0224 - crf_viterbi_accuracy: 1.00 - ETA: 38s - loss: -0.0224 - crf_viterbi_accuracy: 1.00 - ETA: 38s - loss: -0.0224 - crf_viterbi_accuracy: 1.00 - ETA: 37s - loss: -0.0224 - crf_viterbi_accuracy: 1.00 - ETA: 36s - loss: -0.0224 - crf_viterbi_accuracy: 1.00 - ETA: 35s - loss: -0.0224 - crf_viterbi_accuracy: 1.00 - ETA: 35s - loss: -0.0224 - crf_viterbi_accuracy: 1.00 - ETA: 34s - loss: -0.0224 - crf_viterbi_accuracy: 1.00 - ETA: 33s - loss: -0.0224 - crf_viterbi_accuracy: 1.00 - ETA: 32s - loss: -0.0224 - crf_viterbi_accuracy: 1.00 - ETA: 32s - loss: -0.0224 - crf_viterbi_accuracy: 1.00 - ETA: 31s - loss: -0.0224 - crf_viterbi_accuracy: 1.00 - ETA: 30s - loss: -0.0224 - crf_viterbi_accuracy: 1.00 - ETA: 29s - loss: -0.0224 - crf_viterbi_accuracy: 1.00 - ETA: 29s - loss: -0.0224 - crf_viterbi_accuracy: 1.00 - ETA: 28s - loss: -0.0224 - crf_viterbi_accuracy: 1.00 - ETA: 27s - loss: -0.0224 - crf_viterbi_accuracy: 1.00 - ETA: 27s - loss: -0.0224 - crf_viterbi_accuracy: 1.00 - ETA: 26s - loss: -0.0224 - crf_viterbi_accuracy: 1.00 - ETA: 25s - loss: -0.0224 - crf_viterbi_accuracy: 1.00 - ETA: 24s - loss: -0.0224 - crf_viterbi_accuracy: 1.00 - ETA: 24s - loss: -0.0224 - crf_viterbi_accuracy: 1.00 - ETA: 23s - loss: -0.0224 - crf_viterbi_accuracy: 1.00 - ETA: 22s - loss: -0.0224 - crf_viterbi_accuracy: 1.00 - ETA: 21s - loss: -0.0224 - crf_viterbi_accuracy: 1.00 - ETA: 21s - loss: -0.0224 - crf_viterbi_accuracy: 1.00 - ETA: 20s - loss: -0.0224 - crf_viterbi_accuracy: 1.00 - ETA: 19s - loss: -0.0224 - crf_viterbi_accuracy: 1.00 - ETA: 19s - loss: -0.0224 - crf_viterbi_accuracy: 1.00 - ETA: 18s - loss: -0.0224 - crf_viterbi_accuracy: 1.00 - ETA: 17s - loss: -0.0224 - crf_viterbi_accuracy: 1.00 - ETA: 16s - loss: -0.0224 - crf_viterbi_accuracy: 1.00 - ETA: 16s - loss: -0.0225 - crf_viterbi_accuracy: 1.00 - ETA: 15s - loss: -0.0225 - crf_viterbi_accuracy: 1.00 - ETA: 14s - loss: -0.0225 - crf_viterbi_accuracy: 1.00 - ETA: 13s - loss: -0.0225 - crf_viterbi_accuracy: 1.00 - ETA: 13s - loss: -0.0225 - crf_viterbi_accuracy: 1.00 - ETA: 12s - loss: -0.0225 - crf_viterbi_accuracy: 1.00 - ETA: 11s - loss: -0.0225 - crf_viterbi_accuracy: 1.00 - ETA: 11s - loss: -0.0225 - crf_viterbi_accuracy: 1.00 - ETA: 10s - loss: -0.0225 - crf_viterbi_accuracy: 1.00 - ETA: 9s - loss: -0.0225 - crf_viterbi_accuracy: 1.0000 - ETA: 8s - loss: -0.0225 - crf_viterbi_accuracy: 1.000 - ETA: 8s - loss: -0.0225 - crf_viterbi_accuracy: 1.000 - ETA: 7s - loss: -0.0225 - crf_viterbi_accuracy: 1.000 - ETA: 6s - loss: -0.0225 - crf_viterbi_accuracy: 1.000 - ETA: 5s - loss: -0.0225 - crf_viterbi_accuracy: 1.000 - ETA: 5s - loss: -0.0225 - crf_viterbi_accuracy: 1.000 - ETA: 4s - loss: -0.0225 - crf_viterbi_accuracy: 1.000 - ETA: 3s - loss: -0.0225 - crf_viterbi_accuracy: 1.000 - ETA: 2s - loss: -0.0225 - crf_viterbi_accuracy: 1.000 - ETA: 2s - loss: -0.0225 - crf_viterbi_accuracy: 1.000 - ETA: 1s - loss: -0.0225 - crf_viterbi_accuracy: 1.000 - ETA: 0s - loss: -0.0225 - crf_viterbi_accuracy: 1.000 - ETA: 0s - loss: -0.0225 - crf_viterbi_accuracy: 1.000 - 62s 15ms/step - loss: -0.0225 - crf_viterbi_accuracy: 1.0000 - val_loss: -0.0066 - val_crf_viterbi_accuracy: 0.9965\n",
      "Epoch 49/50\n"
     ]
    },
    {
     "name": "stdout",
     "output_type": "stream",
     "text": [
      "4104/4104 [==============================] - ETA: 59s - loss: -0.0228 - crf_viterbi_accuracy: 1.00 - ETA: 57s - loss: -0.0226 - crf_viterbi_accuracy: 0.99 - ETA: 59s - loss: -0.0227 - crf_viterbi_accuracy: 0.99 - ETA: 57s - loss: -0.0227 - crf_viterbi_accuracy: 0.99 - ETA: 55s - loss: -0.0227 - crf_viterbi_accuracy: 1.00 - ETA: 54s - loss: -0.0227 - crf_viterbi_accuracy: 1.00 - ETA: 53s - loss: -0.0227 - crf_viterbi_accuracy: 0.99 - ETA: 52s - loss: -0.0227 - crf_viterbi_accuracy: 1.00 - ETA: 52s - loss: -0.0227 - crf_viterbi_accuracy: 1.00 - ETA: 52s - loss: -0.0227 - crf_viterbi_accuracy: 1.00 - ETA: 51s - loss: -0.0228 - crf_viterbi_accuracy: 1.00 - ETA: 50s - loss: -0.0227 - crf_viterbi_accuracy: 0.99 - ETA: 50s - loss: -0.0227 - crf_viterbi_accuracy: 0.99 - ETA: 49s - loss: -0.0227 - crf_viterbi_accuracy: 0.99 - ETA: 48s - loss: -0.0227 - crf_viterbi_accuracy: 0.99 - ETA: 48s - loss: -0.0227 - crf_viterbi_accuracy: 0.99 - ETA: 47s - loss: -0.0227 - crf_viterbi_accuracy: 0.99 - ETA: 46s - loss: -0.0228 - crf_viterbi_accuracy: 0.99 - ETA: 46s - loss: -0.0228 - crf_viterbi_accuracy: 1.00 - ETA: 45s - loss: -0.0228 - crf_viterbi_accuracy: 1.00 - ETA: 44s - loss: -0.0228 - crf_viterbi_accuracy: 1.00 - ETA: 44s - loss: -0.0228 - crf_viterbi_accuracy: 1.00 - ETA: 43s - loss: -0.0228 - crf_viterbi_accuracy: 1.00 - ETA: 42s - loss: -0.0228 - crf_viterbi_accuracy: 1.00 - ETA: 41s - loss: -0.0228 - crf_viterbi_accuracy: 1.00 - ETA: 40s - loss: -0.0228 - crf_viterbi_accuracy: 1.00 - ETA: 40s - loss: -0.0228 - crf_viterbi_accuracy: 1.00 - ETA: 39s - loss: -0.0228 - crf_viterbi_accuracy: 1.00 - ETA: 38s - loss: -0.0228 - crf_viterbi_accuracy: 1.00 - ETA: 38s - loss: -0.0228 - crf_viterbi_accuracy: 1.00 - ETA: 37s - loss: -0.0228 - crf_viterbi_accuracy: 1.00 - ETA: 36s - loss: -0.0228 - crf_viterbi_accuracy: 1.00 - ETA: 36s - loss: -0.0228 - crf_viterbi_accuracy: 1.00 - ETA: 35s - loss: -0.0228 - crf_viterbi_accuracy: 1.00 - ETA: 34s - loss: -0.0228 - crf_viterbi_accuracy: 1.00 - ETA: 33s - loss: -0.0229 - crf_viterbi_accuracy: 1.00 - ETA: 33s - loss: -0.0229 - crf_viterbi_accuracy: 1.00 - ETA: 32s - loss: -0.0229 - crf_viterbi_accuracy: 1.00 - ETA: 31s - loss: -0.0229 - crf_viterbi_accuracy: 1.00 - ETA: 31s - loss: -0.0229 - crf_viterbi_accuracy: 1.00 - ETA: 30s - loss: -0.0229 - crf_viterbi_accuracy: 1.00 - ETA: 29s - loss: -0.0229 - crf_viterbi_accuracy: 1.00 - ETA: 28s - loss: -0.0229 - crf_viterbi_accuracy: 1.00 - ETA: 28s - loss: -0.0229 - crf_viterbi_accuracy: 1.00 - ETA: 27s - loss: -0.0229 - crf_viterbi_accuracy: 1.00 - ETA: 26s - loss: -0.0229 - crf_viterbi_accuracy: 1.00 - ETA: 26s - loss: -0.0229 - crf_viterbi_accuracy: 1.00 - ETA: 25s - loss: -0.0229 - crf_viterbi_accuracy: 1.00 - ETA: 24s - loss: -0.0229 - crf_viterbi_accuracy: 1.00 - ETA: 24s - loss: -0.0229 - crf_viterbi_accuracy: 1.00 - ETA: 23s - loss: -0.0229 - crf_viterbi_accuracy: 1.00 - ETA: 22s - loss: -0.0229 - crf_viterbi_accuracy: 1.00 - ETA: 21s - loss: -0.0229 - crf_viterbi_accuracy: 1.00 - ETA: 21s - loss: -0.0229 - crf_viterbi_accuracy: 1.00 - ETA: 20s - loss: -0.0229 - crf_viterbi_accuracy: 1.00 - ETA: 19s - loss: -0.0229 - crf_viterbi_accuracy: 1.00 - ETA: 18s - loss: -0.0229 - crf_viterbi_accuracy: 1.00 - ETA: 18s - loss: -0.0229 - crf_viterbi_accuracy: 1.00 - ETA: 17s - loss: -0.0229 - crf_viterbi_accuracy: 1.00 - ETA: 16s - loss: -0.0229 - crf_viterbi_accuracy: 1.00 - ETA: 15s - loss: -0.0229 - crf_viterbi_accuracy: 1.00 - ETA: 15s - loss: -0.0229 - crf_viterbi_accuracy: 1.00 - ETA: 14s - loss: -0.0230 - crf_viterbi_accuracy: 1.00 - ETA: 13s - loss: -0.0230 - crf_viterbi_accuracy: 1.00 - ETA: 12s - loss: -0.0230 - crf_viterbi_accuracy: 1.00 - ETA: 12s - loss: -0.0230 - crf_viterbi_accuracy: 1.00 - ETA: 11s - loss: -0.0230 - crf_viterbi_accuracy: 1.00 - ETA: 10s - loss: -0.0230 - crf_viterbi_accuracy: 1.00 - ETA: 9s - loss: -0.0230 - crf_viterbi_accuracy: 1.0000 - ETA: 9s - loss: -0.0230 - crf_viterbi_accuracy: 1.000 - ETA: 8s - loss: -0.0230 - crf_viterbi_accuracy: 1.000 - ETA: 7s - loss: -0.0230 - crf_viterbi_accuracy: 1.000 - ETA: 6s - loss: -0.0230 - crf_viterbi_accuracy: 1.000 - ETA: 6s - loss: -0.0230 - crf_viterbi_accuracy: 1.000 - ETA: 5s - loss: -0.0230 - crf_viterbi_accuracy: 1.000 - ETA: 4s - loss: -0.0230 - crf_viterbi_accuracy: 1.000 - ETA: 3s - loss: -0.0230 - crf_viterbi_accuracy: 1.000 - ETA: 3s - loss: -0.0230 - crf_viterbi_accuracy: 1.000 - ETA: 2s - loss: -0.0230 - crf_viterbi_accuracy: 1.000 - ETA: 1s - loss: -0.0230 - crf_viterbi_accuracy: 1.000 - ETA: 0s - loss: -0.0230 - crf_viterbi_accuracy: 1.000 - ETA: 0s - loss: -0.0230 - crf_viterbi_accuracy: 1.000 - 63s 15ms/step - loss: -0.0230 - crf_viterbi_accuracy: 1.0000 - val_loss: -0.0075 - val_crf_viterbi_accuracy: 0.9965\n",
      "Epoch 50/50\n"
     ]
    },
    {
     "name": "stdout",
     "output_type": "stream",
     "text": [
      "4104/4104 [==============================] - ETA: 58s - loss: -0.0233 - crf_viterbi_accuracy: 1.00 - ETA: 58s - loss: -0.0233 - crf_viterbi_accuracy: 1.00 - ETA: 56s - loss: -0.0233 - crf_viterbi_accuracy: 1.00 - ETA: 55s - loss: -0.0233 - crf_viterbi_accuracy: 1.00 - ETA: 55s - loss: -0.0233 - crf_viterbi_accuracy: 1.00 - ETA: 54s - loss: -0.0233 - crf_viterbi_accuracy: 1.00 - ETA: 54s - loss: -0.0233 - crf_viterbi_accuracy: 1.00 - ETA: 53s - loss: -0.0233 - crf_viterbi_accuracy: 1.00 - ETA: 52s - loss: -0.0233 - crf_viterbi_accuracy: 1.00 - ETA: 51s - loss: -0.0233 - crf_viterbi_accuracy: 1.00 - ETA: 50s - loss: -0.0233 - crf_viterbi_accuracy: 1.00 - ETA: 49s - loss: -0.0233 - crf_viterbi_accuracy: 1.00 - ETA: 49s - loss: -0.0233 - crf_viterbi_accuracy: 1.00 - ETA: 48s - loss: -0.0233 - crf_viterbi_accuracy: 1.00 - ETA: 48s - loss: -0.0233 - crf_viterbi_accuracy: 1.00 - ETA: 47s - loss: -0.0233 - crf_viterbi_accuracy: 1.00 - ETA: 46s - loss: -0.0233 - crf_viterbi_accuracy: 1.00 - ETA: 45s - loss: -0.0233 - crf_viterbi_accuracy: 1.00 - ETA: 45s - loss: -0.0233 - crf_viterbi_accuracy: 1.00 - ETA: 44s - loss: -0.0234 - crf_viterbi_accuracy: 1.00 - ETA: 44s - loss: -0.0234 - crf_viterbi_accuracy: 1.00 - ETA: 43s - loss: -0.0234 - crf_viterbi_accuracy: 1.00 - ETA: 42s - loss: -0.0234 - crf_viterbi_accuracy: 1.00 - ETA: 42s - loss: -0.0234 - crf_viterbi_accuracy: 1.00 - ETA: 41s - loss: -0.0234 - crf_viterbi_accuracy: 1.00 - ETA: 40s - loss: -0.0234 - crf_viterbi_accuracy: 1.00 - ETA: 39s - loss: -0.0234 - crf_viterbi_accuracy: 1.00 - ETA: 39s - loss: -0.0234 - crf_viterbi_accuracy: 1.00 - ETA: 38s - loss: -0.0234 - crf_viterbi_accuracy: 1.00 - ETA: 37s - loss: -0.0234 - crf_viterbi_accuracy: 1.00 - ETA: 37s - loss: -0.0234 - crf_viterbi_accuracy: 1.00 - ETA: 36s - loss: -0.0234 - crf_viterbi_accuracy: 1.00 - ETA: 35s - loss: -0.0234 - crf_viterbi_accuracy: 1.00 - ETA: 34s - loss: -0.0234 - crf_viterbi_accuracy: 1.00 - ETA: 34s - loss: -0.0234 - crf_viterbi_accuracy: 1.00 - ETA: 33s - loss: -0.0234 - crf_viterbi_accuracy: 1.00 - ETA: 32s - loss: -0.0234 - crf_viterbi_accuracy: 1.00 - ETA: 31s - loss: -0.0234 - crf_viterbi_accuracy: 1.00 - ETA: 31s - loss: -0.0234 - crf_viterbi_accuracy: 1.00 - ETA: 30s - loss: -0.0234 - crf_viterbi_accuracy: 1.00 - ETA: 29s - loss: -0.0234 - crf_viterbi_accuracy: 1.00 - ETA: 29s - loss: -0.0234 - crf_viterbi_accuracy: 1.00 - ETA: 28s - loss: -0.0234 - crf_viterbi_accuracy: 1.00 - ETA: 27s - loss: -0.0234 - crf_viterbi_accuracy: 1.00 - ETA: 27s - loss: -0.0234 - crf_viterbi_accuracy: 1.00 - ETA: 26s - loss: -0.0234 - crf_viterbi_accuracy: 1.00 - ETA: 25s - loss: -0.0234 - crf_viterbi_accuracy: 1.00 - ETA: 25s - loss: -0.0234 - crf_viterbi_accuracy: 1.00 - ETA: 24s - loss: -0.0234 - crf_viterbi_accuracy: 1.00 - ETA: 23s - loss: -0.0234 - crf_viterbi_accuracy: 1.00 - ETA: 22s - loss: -0.0234 - crf_viterbi_accuracy: 1.00 - ETA: 22s - loss: -0.0234 - crf_viterbi_accuracy: 1.00 - ETA: 21s - loss: -0.0234 - crf_viterbi_accuracy: 1.00 - ETA: 20s - loss: -0.0234 - crf_viterbi_accuracy: 1.00 - ETA: 20s - loss: -0.0234 - crf_viterbi_accuracy: 1.00 - ETA: 19s - loss: -0.0234 - crf_viterbi_accuracy: 1.00 - ETA: 18s - loss: -0.0235 - crf_viterbi_accuracy: 1.00 - ETA: 17s - loss: -0.0235 - crf_viterbi_accuracy: 1.00 - ETA: 17s - loss: -0.0235 - crf_viterbi_accuracy: 1.00 - ETA: 16s - loss: -0.0235 - crf_viterbi_accuracy: 1.00 - ETA: 15s - loss: -0.0235 - crf_viterbi_accuracy: 1.00 - ETA: 14s - loss: -0.0235 - crf_viterbi_accuracy: 1.00 - ETA: 14s - loss: -0.0235 - crf_viterbi_accuracy: 1.00 - ETA: 13s - loss: -0.0235 - crf_viterbi_accuracy: 1.00 - ETA: 12s - loss: -0.0235 - crf_viterbi_accuracy: 1.00 - ETA: 11s - loss: -0.0235 - crf_viterbi_accuracy: 1.00 - ETA: 11s - loss: -0.0235 - crf_viterbi_accuracy: 1.00 - ETA: 10s - loss: -0.0235 - crf_viterbi_accuracy: 1.00 - ETA: 9s - loss: -0.0235 - crf_viterbi_accuracy: 1.0000 - ETA: 8s - loss: -0.0235 - crf_viterbi_accuracy: 1.000 - ETA: 8s - loss: -0.0235 - crf_viterbi_accuracy: 1.000 - ETA: 7s - loss: -0.0235 - crf_viterbi_accuracy: 1.000 - ETA: 6s - loss: -0.0235 - crf_viterbi_accuracy: 1.000 - ETA: 5s - loss: -0.0235 - crf_viterbi_accuracy: 1.000 - ETA: 5s - loss: -0.0235 - crf_viterbi_accuracy: 1.000 - ETA: 4s - loss: -0.0235 - crf_viterbi_accuracy: 1.000 - ETA: 3s - loss: -0.0235 - crf_viterbi_accuracy: 1.000 - ETA: 3s - loss: -0.0235 - crf_viterbi_accuracy: 1.000 - ETA: 2s - loss: -0.0235 - crf_viterbi_accuracy: 1.000 - ETA: 1s - loss: -0.0235 - crf_viterbi_accuracy: 1.000 - ETA: 0s - loss: -0.0235 - crf_viterbi_accuracy: 1.000 - ETA: 0s - loss: -0.0235 - crf_viterbi_accuracy: 1.000 - 62s 15ms/step - loss: -0.0235 - crf_viterbi_accuracy: 1.0000 - val_loss: -0.0062 - val_crf_viterbi_accuracy: 0.9961\n"
     ]
    }
   ],
   "source": [
    "history = model.fit(X, np.array(y), batch_size=batch_size, epochs=epochs,\n",
    "                    validation_split=0.1)"
   ]
  },
  {
   "cell_type": "code",
   "execution_count": 24,
   "metadata": {
    "colab": {
     "base_uri": "https://localhost:8080/",
     "height": 517
    },
    "colab_type": "code",
    "executionInfo": {
     "elapsed": 28,
     "status": "ok",
     "timestamp": 1573352538844,
     "user": {
      "displayName": "Anant Bhavsar",
      "photoUrl": "",
      "userId": "10842212189610618468"
     },
     "user_tz": -330
    },
    "id": "dkLaf6s6WEZg",
    "outputId": "7806d711-7f7b-4fc2-f8e1-e984ed68f9dc"
   },
   "outputs": [
    {
     "data": {
      "text/plain": [
       "<matplotlib.legend.Legend at 0x1f38b59f438>"
      ]
     },
     "execution_count": 24,
     "metadata": {},
     "output_type": "execute_result"
    },
    {
     "data": {
      "image/png": "[encoded data removed]",
      "text/plain": [
       "<Figure size 576x576 with 1 Axes>"
      ]
     },
     "metadata": {
      "needs_background": "light"
     },
     "output_type": "display_data"
    }
   ],
   "source": [
    "acc = history.history['crf_viterbi_accuracy']\n",
    "val_acc = history.history['val_crf_viterbi_accuracy']\n",
    "loss = history.history['loss']\n",
    "val_loss = history.history['val_loss']\n",
    "plt.figure(figsize = (8, 8))\n",
    "epochs = range(1, len(acc) + 1)\n",
    "plt.plot(epochs, acc, 'bo', label='Training acc')\n",
    "plt.plot(epochs, val_acc, 'b', label='Validation acc')\n",
    "plt.title('Training and validation accuracy')\n",
    "plt.legend()"
   ]
  },
  {
   "cell_type": "code",
   "execution_count": 25,
   "metadata": {
    "colab": {
     "base_uri": "https://localhost:8080/",
     "height": 499
    },
    "colab_type": "code",
    "executionInfo": {
     "elapsed": 709,
     "status": "ok",
     "timestamp": 1573352539538,
     "user": {
      "displayName": "Anant Bhavsar",
      "photoUrl": "",
      "userId": "10842212189610618468"
     },
     "user_tz": -330
    },
    "id": "Kk9iwtYOWEZp",
    "outputId": "fa76cc1a-4ca9-4817-e920-7c23dae4ef83"
   },
   "outputs": [
    {
     "data": {
      "image/png": "[encoded data removed]",
      "text/plain": [
       "<Figure size 576x576 with 1 Axes>"
      ]
     },
     "metadata": {
      "needs_background": "light"
     },
     "output_type": "display_data"
    }
   ],
   "source": [
    "plt.figure(figsize = (8, 8))\n",
    "plt.plot(epochs, loss, 'bo', label='Training loss')\n",
    "plt.plot(epochs, val_loss, 'b', label='Validation loss')\n",
    "plt.title('Training and validation loss')\n",
    "plt.legend()\n",
    "plt.show()"
   ]
  },
  {
   "cell_type": "code",
   "execution_count": 26,
   "metadata": {
    "colab": {
     "base_uri": "https://localhost:8080/",
     "height": 201
    },
    "colab_type": "code",
    "executionInfo": {
     "elapsed": 5431,
     "status": "ok",
     "timestamp": 1573352544965,
     "user": {
      "displayName": "Anant Bhavsar",
      "photoUrl": "",
      "userId": "10842212189610618468"
     },
     "user_tz": -330
    },
    "id": "DJC3kudgWEab",
    "outputId": "a3feb01b-36c3-4c27-a3c8-06cdc83a29c3"
   },
   "outputs": [
    {
     "name": "stdout",
     "output_type": "stream",
     "text": [
      "[1, 2393, 2394, 1163, 524, 304, 978, 268, 1995, 5606, 309, 7, 13, 609, 39, 4022, 2576, 49, 2040, 1140, 78, 22] [24, 1757, 1758, 17, 466, 19, 13, 4565, 3, 637, 3, 785, 1883, 39, 1820, 57, 475, 1140, 78, 1478, 42, 4022, 2576, 49, 991, 19, 184, 1163, 2885, 545, 1627, 2397, 7342, 49, 1, 2393, 2394, 1163, 524, 304, 117, 3535, 19, 1995, 978, 268, 30, 589, 22, 688, 1, 247, 248, 47, 1297, 32, 5606, 22]\n",
      "[['Torsade', 'B-Disease'], ['de', 'I-Disease'], ['pointes', 'I-Disease'], ['ventricular', 'B-Disease'], ['tachycardia', 'I-Disease'], ['during', 'O'], ['low', 'O'], ['dose', 'O'], ['intermittent', 'O'], ['dobutamine', 'O'], ['treatment', 'O'], ['in', 'O'], ['a', 'O'], ['patient', 'O'], ['with', 'O'], ['dilated', 'B-Disease'], ['cardiomyopathy', 'I-Disease'], ['and', 'O'], ['congestive', 'B-Disease'], ['heart', 'I-Disease'], ['failure', 'I-Disease'], ['.', 'O']]\n",
      "[['The', 'O'], ['authors', 'O'], ['describe', 'O'], ['the', 'O'], ['case', 'O'], ['of', 'O'], ['a', 'O'], ['56', 'O'], ['-', 'O'], ['year', 'O'], ['-', 'O'], ['old', 'O'], ['woman', 'O'], ['with', 'O'], ['chronic', 'O'], [',', 'O'], ['severe', 'O'], ['heart', 'B-Disease'], ['failure', 'I-Disease'], ['secondary', 'O'], ['to', 'O'], ['dilated', 'B-Disease'], ['cardiomyopathy', 'I-Disease'], ['and', 'O'], ['absence', 'O'], ['of', 'O'], ['significant', 'O'], ['ventricular', 'B-Disease'], ['arrhythmias', 'I-Disease'], ['who', 'O'], ['developed', 'O'], ['QT', 'B-Disease'], ['prolongation', 'I-Disease'], ['and', 'O'], ['torsade', 'B-Disease'], ['de', 'I-Disease'], ['pointes', 'I-Disease'], ['ventricular', 'B-Disease'], ['tachycardia', 'I-Disease'], ['during', 'O'], ['one', 'O'], ['cycle', 'O'], ['of', 'O'], ['intermittent', 'O'], ['low', 'O'], ['dose', 'O'], ['(', 'O'], ['2', 'O'], ['.', 'O'], ['5', 'O'], ['mcg', 'O'], ['/', 'O'], ['kg', 'O'], ['per', 'O'], ['min', 'O'], [')', 'O'], ['dobutamine', 'O'], ['.', 'O']]\n",
      "[['This', 'O'], ['report', 'O'], ['of', 'O'], ['torsade', 'B-Disease'], ['de', 'I-Disease'], ['pointes', 'I-Disease'], ['ventricular', 'B-Disease'], ['tachycardia', 'I-Disease'], ['during', 'O'], ['intermittent', 'O'], ['dobutamine', 'O'], ['supports', 'O'], ['the', 'O'], ['hypothesis', 'O'], ['that', 'O'], ['unpredictable', 'O'], ['fatal', 'O'], ['arrhythmias', 'B-Disease'], ['may', 'O'], ['occur', 'O'], ['even', 'O'], ['with', 'O'], ['low', 'O'], ['doses', 'O'], ['and', 'O'], ['in', 'O'], ['patients', 'O'], ['with', 'O'], ['no', 'O'], ['history', 'O'], ['of', 'O'], ['significant', 'O'], ['rhythm', 'O'], ['disturbances', 'O'], ['.', 'O']]\n",
      "[['The', 'O'], ['mechanisms', 'O'], ['of', 'O'], ['proarrhythmic', 'O'], ['effects', 'O'], ['of', 'O'], ['Dubutamine', 'O'], ['are', 'O'], ['discussed', 'O'], ['.', 'O']]\n",
      "[['Positive', 'O'], ['skin', 'O'], ['tests', 'O'], ['in', 'O'], ['late', 'O'], ['reactions', 'O'], ['to', 'O'], ['radiographic', 'O'], ['contrast', 'O'], ['media', 'O'], ['.', 'O']]\n",
      "[['In', 'O'], ['the', 'O'], ['last', 'O'], ['few', 'O'], ['years', 'O'], ['delayed', 'O'], ['reactions', 'O'], ['several', 'O'], ['hours', 'O'], ['after', 'O'], ['the', 'O'], ['injection', 'O'], ['of', 'O'], ['radiographic', 'O'], ['and', 'O'], ['contrast', 'O'], ['materials', 'O'], ['(', 'O'], ['PRC', 'O'], [')', 'O'], ['have', 'O'], ['been', 'O'], ['described', 'O'], ['with', 'O'], ['increasing', 'O'], ['frequency', 'O'], ['.', 'O']]\n",
      "[2, 3, 3, 2, 3, 1, 1, 1, 1, 1, 1, 1, 1, 1, 1, 2, 3, 1, 2, 3, 3, 1]\n",
      "3\n"
     ]
    }
   ],
   "source": [
    "tsvfile=open(\"BC5DR-disease-IOB/test.tsv\",encoding=\"utf-8\")\n",
    "tsvreader = csv.reader(tsvfile, delimiter=\"\\t\")\n",
    "data1=[]\n",
    "sentences1=[]\n",
    "words1=[]\n",
    "tags1=[]\n",
    "for line in tsvreader:\n",
    "    if line!=[]:\n",
    "        data1.append(line)\n",
    "        if line[0] not in words1:\n",
    "            words1.append(line[0])\n",
    "        if line[1] not in tags1:\n",
    "            tags1.append(line[1])\n",
    "    else:\n",
    "        sentences1.append(data1)\n",
    "        data1=[]\n",
    "\n",
    "X1 = [[word_to_index[w[0] if w[0] in words else \"UNK\"] for w in s] for s in sentences1]\n",
    "print(X1[0],X1[1])\n",
    "count=0\n",
    "for s in sentences1:\n",
    "    print(s)\n",
    "    count=count+1\n",
    "    if count>5:\n",
    "        break\n",
    "# Padding each sequence to have same length  of each word\n",
    "X1 = pad_sequences(maxlen = max_len, sequences = X1, padding = \"post\", value = word_to_index[\"PAD\"])\n",
    "y1 = [[tag_to_index[w[1]] for w in s] for s in sentences1]\n",
    "print(y1[0])\n",
    "# padding\n",
    "y1 = pad_sequences(maxlen = max_len, sequences = y1, padding = \"post\", value = tag_to_index[\"PAD\"])\n",
    "num_tag = 3\n",
    "print(num_tag)\n",
    "# One hot encoded labels\n",
    "y1=[to_categorical(i, num_classes = num_tag + 1) for i in y1]\n",
    "for i in range(len(y1)):\n",
    "    if y1[i][0][3]==1:\n",
    "        print(i)\n",
    "        print(sentences1[i][0])"
   ]
  },
  {
   "cell_type": "code",
   "execution_count": 27,
   "metadata": {
    "colab": {},
    "colab_type": "code",
    "id": "6bP3D6U-WEai"
   },
   "outputs": [],
   "source": [
    "y_pred = model.predict(X1)\n",
    "y_pred = np.argmax(y_pred, axis=-1)\n",
    "y_test_true = np.argmax(y1, -1)"
   ]
  },
  {
   "cell_type": "code",
   "execution_count": 28,
   "metadata": {
    "colab": {},
    "colab_type": "code",
    "id": "XL6NHCHhWEao"
   },
   "outputs": [],
   "source": [
    "y_pred = [[idx2tag[i] for i in row] for row in y_pred]\n",
    "y_test_true = [[idx2tag[i] for i in row] for row in y_test_true] "
   ]
  },
  {
   "cell_type": "code",
   "execution_count": 29,
   "metadata": {
    "colab": {
     "base_uri": "https://localhost:8080/",
     "height": 35
    },
    "colab_type": "code",
    "executionInfo": {
     "elapsed": 2057,
     "status": "ok",
     "timestamp": 1573352567933,
     "user": {
      "displayName": "Anant Bhavsar",
      "photoUrl": "",
      "userId": "10842212189610618468"
     },
     "user_tz": -330
    },
    "id": "tl7TODDqWEat",
    "outputId": "851d6090-f5d2-4ed8-a559-aadd8b5d3600"
   },
   "outputs": [
    {
     "name": "stdout",
     "output_type": "stream",
     "text": [
      "F1-score is : 86.6%\n"
     ]
    }
   ],
   "source": [
    "print(\"F1-score is : {:.1%}\".format(f1_score(y_test_true, y_pred)))"
   ]
  },
  {
   "cell_type": "code",
   "execution_count": 30,
   "metadata": {
    "colab": {
     "base_uri": "https://localhost:8080/",
     "height": 217
    },
    "colab_type": "code",
    "executionInfo": {
     "elapsed": 9012,
     "status": "ok",
     "timestamp": 1573352576938,
     "user": {
      "displayName": "Anant Bhavsar",
      "photoUrl": "",
      "userId": "10842212189610618468"
     },
     "user_tz": -330
    },
    "id": "WbD8wY4FWEax",
    "outputId": "5d2e9974-c02b-49d5-bb03-4a10585f9680"
   },
   "outputs": [
    {
     "name": "stdout",
     "output_type": "stream",
     "text": [
      "              precision    recall  f1-score   support\n",
      "\n",
      "   B-Disease       0.80      0.68      0.74      4424\n",
      "   I-Disease       0.70      0.72      0.71      2737\n",
      "           O       0.99      0.99      0.99    117589\n",
      "         PAD       1.00      1.00      1.00    685943\n",
      "\n",
      "    accuracy                           1.00    810693\n",
      "   macro avg       0.87      0.85      0.86    810693\n",
      "weighted avg       1.00      1.00      1.00    810693\n",
      "\n"
     ]
    }
   ],
   "source": [
    "report = flat_classification_report(y_pred=y_pred, y_true=y_test_true)\n",
    "print(report)"
   ]
  },
  {
   "cell_type": "code",
   "execution_count": 31,
   "metadata": {
    "colab": {
     "base_uri": "https://localhost:8080/",
     "height": 55
    },
    "colab_type": "code",
    "executionInfo": {
     "elapsed": 55,
     "status": "ok",
     "timestamp": 1573352576941,
     "user": {
      "displayName": "Anant Bhavsar",
      "photoUrl": "",
      "userId": "10842212189610618468"
     },
     "user_tz": -330
    },
    "id": "Uf5xI3lWWEa3",
    "outputId": "a01b2cc7-45bd-4880-9747-153be9c88584"
   },
   "outputs": [
    {
     "name": "stdout",
     "output_type": "stream",
     "text": [
      "['B-Disease', 'I-Disease', 'I-Disease', 'B-Disease', 'I-Disease', 'O', 'O', 'O', 'O', 'O', 'O', 'O', 'O', 'O', 'O', 'B-Disease', 'I-Disease', 'O', 'B-Disease', 'I-Disease', 'I-Disease', 'O', 'PAD', 'PAD', 'PAD', 'PAD', 'PAD', 'PAD', 'PAD', 'PAD', 'PAD', 'PAD', 'PAD', 'PAD', 'PAD', 'PAD', 'PAD', 'PAD', 'PAD', 'PAD', 'PAD', 'PAD', 'PAD', 'PAD', 'PAD', 'PAD', 'PAD', 'PAD', 'PAD', 'PAD', 'PAD', 'PAD', 'PAD', 'PAD', 'PAD', 'PAD', 'PAD', 'PAD', 'PAD', 'PAD', 'PAD', 'PAD', 'PAD', 'PAD', 'PAD', 'PAD', 'PAD', 'PAD', 'PAD', 'PAD', 'PAD', 'PAD', 'PAD', 'PAD', 'PAD', 'PAD', 'PAD', 'PAD', 'PAD', 'PAD', 'PAD', 'PAD', 'PAD', 'PAD', 'PAD', 'PAD', 'PAD', 'PAD', 'PAD', 'PAD', 'PAD', 'PAD', 'PAD', 'PAD', 'PAD', 'PAD', 'PAD', 'PAD', 'PAD', 'PAD', 'PAD', 'PAD', 'PAD', 'PAD', 'PAD', 'PAD', 'PAD', 'PAD', 'PAD', 'PAD', 'PAD', 'PAD', 'PAD', 'PAD', 'PAD', 'PAD', 'PAD', 'PAD', 'PAD', 'PAD', 'PAD', 'PAD', 'PAD', 'PAD', 'PAD', 'PAD', 'PAD', 'PAD', 'PAD', 'PAD', 'PAD', 'PAD', 'PAD', 'PAD', 'PAD', 'PAD', 'PAD', 'PAD', 'PAD', 'PAD', 'PAD', 'PAD', 'PAD', 'PAD', 'PAD', 'PAD', 'PAD', 'PAD', 'PAD', 'PAD', 'PAD', 'PAD', 'PAD', 'PAD', 'PAD', 'PAD', 'PAD', 'PAD', 'PAD', 'PAD', 'PAD', 'PAD', 'PAD', 'PAD', 'PAD', 'PAD', 'PAD', 'PAD', 'PAD']\n"
     ]
    }
   ],
   "source": [
    "print(y_test_true[0])"
   ]
  },
  {
   "cell_type": "code",
   "execution_count": 32,
   "metadata": {
    "colab": {
     "base_uri": "https://localhost:8080/",
     "height": 55
    },
    "colab_type": "code",
    "executionInfo": {
     "elapsed": 43,
     "status": "ok",
     "timestamp": 1573352576942,
     "user": {
      "displayName": "Anant Bhavsar",
      "photoUrl": "",
      "userId": "10842212189610618468"
     },
     "user_tz": -330
    },
    "id": "R7vKfZrTWEa7",
    "outputId": "9e56ae0e-d6c3-4c6d-f404-3a64fe15a06d"
   },
   "outputs": [
    {
     "name": "stdout",
     "output_type": "stream",
     "text": [
      "['O', 'O', 'B-Disease', 'I-Disease', 'I-Disease', 'O', 'O', 'O', 'O', 'O', 'O', 'O', 'O', 'O', 'O', 'B-Disease', 'I-Disease', 'O', 'B-Disease', 'I-Disease', 'I-Disease', 'O', 'PAD', 'PAD', 'PAD', 'PAD', 'PAD', 'PAD', 'PAD', 'PAD', 'PAD', 'PAD', 'PAD', 'PAD', 'PAD', 'PAD', 'PAD', 'PAD', 'PAD', 'PAD', 'PAD', 'PAD', 'PAD', 'PAD', 'PAD', 'PAD', 'PAD', 'PAD', 'PAD', 'PAD', 'PAD', 'PAD', 'PAD', 'PAD', 'PAD', 'PAD', 'PAD', 'PAD', 'PAD', 'PAD', 'PAD', 'PAD', 'PAD', 'PAD', 'PAD', 'PAD', 'PAD', 'PAD', 'PAD', 'PAD', 'PAD', 'PAD', 'PAD', 'PAD', 'PAD', 'PAD', 'PAD', 'PAD', 'PAD', 'PAD', 'PAD', 'PAD', 'PAD', 'PAD', 'PAD', 'PAD', 'PAD', 'PAD', 'PAD', 'PAD', 'PAD', 'PAD', 'PAD', 'PAD', 'PAD', 'PAD', 'PAD', 'PAD', 'PAD', 'PAD', 'PAD', 'PAD', 'PAD', 'PAD', 'PAD', 'PAD', 'PAD', 'PAD', 'PAD', 'PAD', 'PAD', 'PAD', 'PAD', 'PAD', 'PAD', 'PAD', 'PAD', 'PAD', 'PAD', 'PAD', 'PAD', 'PAD', 'PAD', 'PAD', 'PAD', 'PAD', 'PAD', 'PAD', 'PAD', 'PAD', 'PAD', 'PAD', 'PAD', 'PAD', 'PAD', 'PAD', 'PAD', 'PAD', 'PAD', 'PAD', 'PAD', 'PAD', 'PAD', 'PAD', 'PAD', 'PAD', 'PAD', 'PAD', 'PAD', 'PAD', 'PAD', 'PAD', 'PAD', 'PAD', 'PAD', 'PAD', 'PAD', 'PAD', 'PAD', 'PAD', 'PAD', 'PAD', 'PAD', 'PAD', 'PAD', 'PAD', 'PAD', 'PAD', 'PAD']\n"
     ]
    }
   ],
   "source": [
    "print(y_pred[0])"
   ]
  },
  {
   "cell_type": "code",
   "execution_count": 33,
   "metadata": {
    "colab": {
     "base_uri": "https://localhost:8080/",
     "height": 35
    },
    "colab_type": "code",
    "executionInfo": {
     "elapsed": 31,
     "status": "ok",
     "timestamp": 1573352576943,
     "user": {
      "displayName": "Anant Bhavsar",
      "photoUrl": "",
      "userId": "10842212189610618468"
     },
     "user_tz": -330
    },
    "id": "HLg9sAMCWEbA",
    "outputId": "d6799259-62f2-48d6-cd43-3277d4e2da69"
   },
   "outputs": [
    {
     "data": {
      "text/plain": [
       "False"
      ]
     },
     "execution_count": 33,
     "metadata": {},
     "output_type": "execute_result"
    }
   ],
   "source": [
    "y_pred[0][1:16]==y_test_true[0][1:16]"
   ]
  },
  {
   "cell_type": "code",
   "execution_count": 34,
   "metadata": {
    "colab": {
     "base_uri": "https://localhost:8080/",
     "height": 90
    },
    "colab_type": "code",
    "executionInfo": {
     "elapsed": 399,
     "status": "ok",
     "timestamp": 1573352577323,
     "user": {
      "displayName": "Anant Bhavsar",
      "photoUrl": "",
      "userId": "10842212189610618468"
     },
     "user_tz": -330
    },
    "id": "Z77JBZ2GWEbG",
    "outputId": "2f1e370d-9e5b-4957-c724-206bb2ac0ac4"
   },
   "outputs": [
    {
     "name": "stdout",
     "output_type": "stream",
     "text": [
      "0.721953578336557\n",
      "0.6749547920433996\n",
      "0.6976635514018691\n",
      "[[2986, 1150], [1438, 116439]]\n"
     ]
    }
   ],
   "source": [
    "##Exact Match\n",
    "TP=0\n",
    "TN=0\n",
    "FP=0\n",
    "FN=0\n",
    "i=0\n",
    "nument=0\n",
    "while i<len(y_test_true):\n",
    "    j=0\n",
    "    #print(i)\n",
    "    while j <len(y_test_true[i]):\n",
    "        #print('j ',j)\n",
    "        if y_test_true[i][j]=='B-Disease':\n",
    "            st=j\n",
    "            nument=nument+1\n",
    "            j=j+1\n",
    "            while (y_test_true[i][j]=='I-Disease') and j<len(y_test_true[i]):\n",
    "                j=j+1\n",
    "                #print('inside ',j)\n",
    "            end=j\n",
    "            if y_test_true[i][st:end]==y_pred[i][st:end]:\n",
    "                TP=TP+1\n",
    "            else:\n",
    "                FN=FN+1\n",
    "        elif y_test_true[i][j]=='O' and y_pred[i][j]=='O':\n",
    "            TN=TN+1\n",
    "            j=j+1\n",
    "            \n",
    "        elif y_test_true[i][j]=='O' and y_pred[i][j]!='O':\n",
    "            FP=FP+1\n",
    "            j=j+1\n",
    "            \n",
    "        elif y_test_true[i][j]=='PAD':\n",
    "            j=j+1\n",
    "\n",
    "    i=i+1\n",
    "\n",
    "Precision=TP/(TP+FP)\n",
    "print(Precision)\n",
    "Recall=TP/(TP+FN)\n",
    "print(Recall)\n",
    "F1=(2*Precision*Recall)/(Precision+Recall)\n",
    "print(F1)\n",
    "mat=[[TP,FP],[FN,TN]]\n",
    "print(mat)"
   ]
  },
  {
   "cell_type": "code",
   "execution_count": 35,
   "metadata": {
    "colab": {
     "base_uri": "https://localhost:8080/",
     "height": 90
    },
    "colab_type": "code",
    "executionInfo": {
     "elapsed": 481,
     "status": "ok",
     "timestamp": 1573352577798,
     "user": {
      "displayName": "Anant Bhavsar",
      "photoUrl": "",
      "userId": "10842212189610618468"
     },
     "user_tz": -330
    },
    "id": "bitGGorQWEbR",
    "outputId": "0c3d8591-5f0f-4d9f-aba0-47aa5e51eaff"
   },
   "outputs": [
    {
     "name": "stdout",
     "output_type": "stream",
     "text": [
      "0.7357536764705882\n",
      "0.7237793851717902\n",
      "0.7297174111212397\n",
      "[[3202, 1150], [1222, 116439]]\n"
     ]
    }
   ],
   "source": [
    "##Partial Match\n",
    "TP=0\n",
    "TN=0\n",
    "FP=0\n",
    "FN=0\n",
    "i=0\n",
    "nument=0\n",
    "while i<len(y_test_true):\n",
    "    j=0\n",
    "    #print(i)\n",
    "    while j <len(y_test_true[i]):\n",
    "        #print('j ',j)\n",
    "        if y_test_true[i][j]=='B-Disease':\n",
    "            st=j\n",
    "            nument=nument+1\n",
    "            j=j+1\n",
    "            while (y_test_true[i][j]=='I-Disease') and j<len(y_test_true[i]):\n",
    "                j=j+1\n",
    "                #print('inside ',j)\n",
    "            end=j\n",
    "            found=0\n",
    "            for k in range(st,end):\n",
    "                if y_test_true[i][k]==y_pred[i][k]:\n",
    "                    found=1\n",
    "                    break\n",
    "            if found==1:\n",
    "                TP=TP+1\n",
    "            else:\n",
    "                FN=FN+1\n",
    "            '''if y_test_true[i][st:end]==y_pred[i][st:end]:\n",
    "                TP=TP+1'''\n",
    "            \n",
    "        elif y_test_true[i][j]=='O' and y_pred[i][j]=='O':\n",
    "            TN=TN+1\n",
    "            j=j+1\n",
    "            \n",
    "        elif y_test_true[i][j]=='O' and y_pred[i][j]!='O':\n",
    "            FP=FP+1\n",
    "            j=j+1\n",
    "            \n",
    "        elif y_test_true[i][j]=='PAD':\n",
    "            j=j+1\n",
    "        \n",
    "        \n",
    "    i=i+1\n",
    "    \n",
    "Precision=TP/(TP+FP)\n",
    "print(Precision)\n",
    "Recall=TP/(TP+FN)\n",
    "print(Recall)\n",
    "F1=(2*Precision*Recall)/(Precision+Recall)\n",
    "print(F1)\n",
    "mat=[[TP,FP],[FN,TN]]\n",
    "print(mat)"
   ]
  },
  {
   "cell_type": "code",
   "execution_count": 36,
   "metadata": {
    "colab": {
     "base_uri": "https://localhost:8080/",
     "height": 35
    },
    "colab_type": "code",
    "executionInfo": {
     "elapsed": 44,
     "status": "ok",
     "timestamp": 1573352577799,
     "user": {
      "displayName": "Anant Bhavsar",
      "photoUrl": "",
      "userId": "10842212189610618468"
     },
     "user_tz": -330
    },
    "id": "19LiXLCYWEbl",
    "outputId": "1a2090c2-e3d0-417b-fe91-bd44fae27f3e"
   },
   "outputs": [
    {
     "data": {
      "text/plain": [
       "4797"
      ]
     },
     "execution_count": 36,
     "metadata": {},
     "output_type": "execute_result"
    }
   ],
   "source": [
    "len(y_test_true)"
   ]
  },
  {
   "cell_type": "code",
   "execution_count": 0,
   "metadata": {
    "colab": {},
    "colab_type": "code",
    "id": "_-baBrG2WEbs"
   },
   "outputs": [],
   "source": []
  },
  {
   "cell_type": "code",
   "execution_count": 0,
   "metadata": {
    "colab": {},
    "colab_type": "code",
    "id": "IbEyOG0ZWEbz"
   },
   "outputs": [],
   "source": []
  }
 ],
 "metadata": {
  "colab": {
   "collapsed_sections": [],
   "name": "Glove BC5CDR disese.ipynb",
   "provenance": []
  },
  "kernelspec": {
   "display_name": "Python 3",
   "language": "python",
   "name": "python3"
  },
  "language_info": {
   "codemirror_mode": {
    "name": "ipython",
    "version": 3
   },
   "file_extension": ".py",
   "mimetype": "text/x-python",
   "name": "python",
   "nbconvert_exporter": "python",
   "pygments_lexer": "ipython3",
   "version": "3.7.0"
  }
 },
 "nbformat": 4,
 "nbformat_minor": 1
}
