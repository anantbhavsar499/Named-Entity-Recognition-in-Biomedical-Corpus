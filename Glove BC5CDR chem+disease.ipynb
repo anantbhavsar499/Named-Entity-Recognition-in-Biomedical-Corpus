{
 "cells": [
  {
   "cell_type": "code",
   "execution_count": 4,
   "metadata": {
    "colab": {
     "base_uri": "https://localhost:8080/",
     "height": 194
    },
    "colab_type": "code",
    "executionInfo": {
     "elapsed": 97917,
     "status": "ok",
     "timestamp": 1573481935576,
     "user": {
      "displayName": "Anant Bhavsar",
      "photoUrl": "",
      "userId": "10842212189610618468"
     },
     "user_tz": -330
    },
    "id": "ARlAq1RUWNfn",
    "outputId": "f3dfd9c8-3573-46b6-efe2-253482f45cc9"
   },
   "outputs": [
    {
     "name": "stderr",
     "output_type": "stream",
     "text": [
      "Using TensorFlow backend.\n"
     ]
    },
    {
     "data": {
      "text/html": [
       "<p style=\"color: red;\">\n",
       "The default version of TensorFlow in Colab will soon switch to TensorFlow 2.x.<br>\n",
       "We recommend you <a href=\"https://www.tensorflow.org/guide/migrate\" target=\"_blank\">upgrade</a> now \n",
       "or ensure your notebook will continue to use TensorFlow 1.x via the <code>%tensorflow_version 1.x</code> magic:\n",
       "<a href=\"https://colab.research.google.com/notebooks/tensorflow_version.ipynb\" target=\"_blank\">more info</a>.</p>\n"
      ],
      "text/plain": [
       "<IPython.core.display.HTML object>"
      ]
     },
     "metadata": {
      "tags": []
     },
     "output_type": "display_data"
    },
    {
     "name": "stdout",
     "output_type": "stream",
     "text": [
      "Go to this URL in a browser: https://accounts.google.com/o/oauth2/auth?client_id=947318989803-6bn6qk8qdgf4n4g3pfee6491hc0brc4i.apps.googleusercontent.com&redirect_uri=urn%3Aietf%3Awg%3Aoauth%3A2.0%3Aoob&scope=email%20https%3A%2F%2Fwww.googleapis.com%2Fauth%2Fdocs.test%20https%3A%2F%2Fwww.googleapis.com%2Fauth%2Fdrive%20https%3A%2F%2Fwww.googleapis.com%2Fauth%2Fdrive.photos.readonly%20https%3A%2F%2Fwww.googleapis.com%2Fauth%2Fpeopleapi.readonly&response_type=code\n",
      "\n",
      "Enter your authorization code:\n",
      "··········\n",
      "Mounted at /content/drive\n"
     ]
    }
   ],
   "source": [
    "import pandas as pd\n",
    "import numpy as np\n",
    "import keras_contrib\n",
    "from keras.preprocessing.sequence import pad_sequences\n",
    "from keras.utils import to_categorical\n",
    "from keras.layers import LSTM, Dense, TimeDistributed, Embedding, Bidirectional\n",
    "from keras.models import Model, Input\n",
    "from keras_contrib.layers import CRF\n",
    "from keras.callbacks import ModelCheckpoint\n",
    "from keras.initializers import Constant\n",
    "import csv\n",
    "import codecs\n",
    "import warnings\n",
    "warnings.filterwarnings(\"ignore\")\n",
    "import random\n",
    "random.seed(10)\n",
    "from sklearn.model_selection import train_test_split\n",
    "import matplotlib.pyplot as plt\n",
    "%matplotlib inline\n",
    "import os\n",
    "from google.colab import drive\n",
    "drive.mount('/content/drive')\n",
    "from sklearn_crfsuite.metrics import flat_classification_report\n",
    "from sklearn.metrics import f1_score\n",
    "from seqeval.metrics import precision_score, recall_score, f1_score, classification_report\n",
    "from sklearn.metrics import confusion_matrix\n",
    "from sklearn.utils.multiclass import unique_labels\n",
    "from keras.preprocessing.text import text_to_word_sequence\n",
    "from gensim.models.keyedvectors import KeyedVectors"
   ]
  },
  {
   "cell_type": "code",
   "execution_count": 0,
   "metadata": {
    "colab": {},
    "colab_type": "code",
    "id": "G3-6XQZvWEUU"
   },
   "outputs": [],
   "source": [
    "tsvfile=open(\"/content/drive/My Drive/Colab Notebooks/BC5CDR-IOB/train.tsv\",encoding=\"utf-8\")\n",
    "tsvreader = csv.reader(tsvfile, delimiter=\"\\t\")\n",
    "data=[]\n",
    "sentences=[]\n",
    "words=[]\n",
    "tags=[]\n",
    "maxsentlen=0\n",
    "for line in tsvreader:\n",
    "    if line!=[]:\n",
    "        data.append(line)\n",
    "        if line[0] not in words:\n",
    "            words.append(line[0])\n",
    "        if line[1] not in tags:\n",
    "            tags.append(line[1])\n",
    "    else:\n",
    "        sentences.append(data)\n",
    "        if len(data)>maxsentlen:\n",
    "            maxsentlen=len(data)\n",
    "        data=[]"
   ]
  },
  {
   "cell_type": "code",
   "execution_count": 6,
   "metadata": {
    "colab": {
     "base_uri": "https://localhost:8080/",
     "height": 53
    },
    "colab_type": "code",
    "executionInfo": {
     "elapsed": 1085,
     "status": "ok",
     "timestamp": 1573482500469,
     "user": {
      "displayName": "Anant Bhavsar",
      "photoUrl": "",
      "userId": "10842212189610618468"
     },
     "user_tz": -330
    },
    "id": "u1IVTV7nWEU3",
    "outputId": "337fd0ea-f9b0-43c0-b927-a44ec505a4c0"
   },
   "outputs": [
    {
     "name": "stdout",
     "output_type": "stream",
     "text": [
      "4560\n",
      "9980\n"
     ]
    }
   ],
   "source": [
    "print(len(sentences))\n",
    "print(len(words))"
   ]
  },
  {
   "cell_type": "code",
   "execution_count": 7,
   "metadata": {
    "colab": {
     "base_uri": "https://localhost:8080/",
     "height": 90
    },
    "colab_type": "code",
    "executionInfo": {
     "elapsed": 1046,
     "status": "ok",
     "timestamp": 1573482502974,
     "user": {
      "displayName": "Anant Bhavsar",
      "photoUrl": "",
      "userId": "10842212189610618468"
     },
     "user_tz": -330
    },
    "id": "a9p87RdNWEVf",
    "outputId": "b5d77514-63a3-4c49-fbea-eaf4e38f1b5a"
   },
   "outputs": [
    {
     "name": "stdout",
     "output_type": "stream",
     "text": [
      "2\n",
      "1\n",
      "Selegiline\n",
      "6\n"
     ]
    }
   ],
   "source": [
    "word_to_index = {w : i + 2 for i, w in enumerate(words)}\n",
    "print(word_to_index[words[0]])\n",
    "word_to_index[\"UNK\"] = 1\n",
    "word_to_index[\"PAD\"] = 0\n",
    "\n",
    "# Dictionary lable:index pair\n",
    "# label is key and value is index.\n",
    "tag_to_index = {t : i + 1 for i, t in enumerate(tags)}\n",
    "print(tag_to_index[tags[0]])\n",
    "\n",
    "tag_to_index[\"PAD\"] = 0\n",
    "\n",
    "idx2word = {i: w for w, i in word_to_index.items()}\n",
    "print(idx2word[2])\n",
    "idx2tag = {i: w for w, i in tag_to_index.items()}\n",
    "print(len(tag_to_index))"
   ]
  },
  {
   "cell_type": "code",
   "execution_count": 0,
   "metadata": {
    "colab": {},
    "colab_type": "code",
    "id": "MgkRWpqnWEWP"
   },
   "outputs": [],
   "source": [
    "# Number of data points passed in each iteration\n",
    "batch_size =50\n",
    "# Passes through entire dataset\n",
    "epochs = 10\n",
    "# Maximum length of review\n",
    "max_len = maxsentlen+15\n",
    "# Dimension of embedding vector\n",
    "embedding_dim= 300"
   ]
  },
  {
   "cell_type": "code",
   "execution_count": 11,
   "metadata": {
    "colab": {
     "base_uri": "https://localhost:8080/",
     "height": 164
    },
    "colab_type": "code",
    "executionInfo": {
     "elapsed": 1988,
     "status": "ok",
     "timestamp": 1573482526691,
     "user": {
      "displayName": "Anant Bhavsar",
      "photoUrl": "",
      "userId": "10842212189610618468"
     },
     "user_tz": -330
    },
    "id": "_EuoNKazWEWr",
    "outputId": "3fa15c2f-4573-4f9f-84ff-e1948727aff5"
   },
   "outputs": [
    {
     "name": "stdout",
     "output_type": "stream",
     "text": [
      "[2, 3, 4, 5, 6, 7, 8, 9, 10, 11, 12, 13, 14, 15, 16, 17, 18, 19, 20, 21, 22] [23, 12, 24, 25, 26, 8, 9, 10, 27, 28, 29, 30, 31, 32, 33, 34, 35, 36, 37, 7, 38, 39, 8, 9, 10, 11, 30, 40, 32, 41, 42, 43, 44, 45, 46, 47, 48, 49, 50, 3, 51, 52, 39, 53, 54, 50, 3, 51, 55, 22]\n",
      "[['Selegiline', 'B-Chemical'], ['-', 'O'], ['induced', 'O'], ['postural', 'B-Disease'], ['hypotension', 'I-Disease'], ['in', 'O'], ['Parkinson', 'B-Disease'], [\"'\", 'I-Disease'], ['s', 'I-Disease'], ['disease', 'I-Disease'], [':', 'O'], ['a', 'O'], ['longitudinal', 'O'], ['study', 'O'], ['on', 'O'], ['the', 'O'], ['effects', 'O'], ['of', 'O'], ['drug', 'O'], ['withdrawal', 'O'], ['.', 'O']]\n",
      "[['OBJECTIVES', 'O'], [':', 'O'], ['The', 'O'], ['United', 'O'], ['Kingdom', 'O'], ['Parkinson', 'B-Disease'], [\"'\", 'I-Disease'], ['s', 'I-Disease'], ['Disease', 'I-Disease'], ['Research', 'O'], ['Group', 'O'], ['(', 'O'], ['UKPDRG', 'O'], [')', 'O'], ['trial', 'O'], ['found', 'O'], ['an', 'O'], ['increased', 'O'], ['mortality', 'O'], ['in', 'O'], ['patients', 'O'], ['with', 'O'], ['Parkinson', 'B-Disease'], [\"'\", 'I-Disease'], ['s', 'I-Disease'], ['disease', 'I-Disease'], ['(', 'O'], ['PD', 'B-Disease'], [')', 'O'], ['randomized', 'O'], ['to', 'O'], ['receive', 'O'], ['10', 'O'], ['mg', 'O'], ['selegiline', 'B-Chemical'], ['per', 'O'], ['day', 'O'], ['and', 'O'], ['L', 'B-Chemical'], ['-', 'I-Chemical'], ['dopa', 'I-Chemical'], ['compared', 'O'], ['with', 'O'], ['those', 'O'], ['taking', 'O'], ['L', 'B-Chemical'], ['-', 'I-Chemical'], ['dopa', 'I-Chemical'], ['alone', 'O'], ['.', 'O']]\n",
      "[['Recently', 'O'], [',', 'O'], ['we', 'O'], ['found', 'O'], ['that', 'O'], ['therapy', 'O'], ['with', 'O'], ['selegiline', 'B-Chemical'], ['and', 'O'], ['L', 'B-Chemical'], ['-', 'I-Chemical'], ['dopa', 'I-Chemical'], ['was', 'O'], ['associated', 'O'], ['with', 'O'], ['selective', 'O'], ['systolic', 'B-Disease'], ['orthostatic', 'I-Disease'], ['hypotension', 'I-Disease'], ['which', 'O'], ['was', 'O'], ['abolished', 'O'], ['by', 'O'], ['withdrawal', 'O'], ['of', 'O'], ['selegiline', 'B-Chemical'], ['.', 'O']]\n",
      "[['This', 'O'], ['unwanted', 'O'], ['effect', 'O'], ['on', 'O'], ['postural', 'O'], ['blood', 'O'], ['pressure', 'O'], ['was', 'O'], ['not', 'O'], ['the', 'O'], ['result', 'O'], ['of', 'O'], ['underlying', 'O'], ['autonomic', 'O'], ['failure', 'O'], ['.', 'O']]\n",
      "[['The', 'O'], ['aims', 'O'], ['of', 'O'], ['this', 'O'], ['study', 'O'], ['were', 'O'], ['to', 'O'], ['confirm', 'O'], ['our', 'O'], ['previous', 'O'], ['findings', 'O'], ['in', 'O'], ['a', 'O'], ['separate', 'O'], ['cohort', 'O'], ['of', 'O'], ['patients', 'O'], ['and', 'O'], ['to', 'O'], ['determine', 'O'], ['the', 'O'], ['time', 'O'], ['course', 'O'], ['of', 'O'], ['the', 'O'], ['cardiovascular', 'O'], ['consequences', 'O'], ['of', 'O'], ['stopping', 'O'], ['selegiline', 'B-Chemical'], ['in', 'O'], ['the', 'O'], ['expectation', 'O'], ['that', 'O'], ['this', 'O'], ['might', 'O'], ['shed', 'O'], ['light', 'O'], ['on', 'O'], ['the', 'O'], ['mechanisms', 'O'], ['by', 'O'], ['which', 'O'], ['the', 'O'], ['drug', 'O'], ['causes', 'O'], ['orthostatic', 'B-Disease'], ['hypotension', 'I-Disease'], ['.', 'O']]\n",
      "[['METHODS', 'O'], [':', 'O'], ['The', 'O'], ['cardiovascular', 'O'], ['responses', 'O'], ['to', 'O'], ['standing', 'O'], ['and', 'O'], ['head', 'O'], ['-', 'O'], ['up', 'O'], ['tilt', 'O'], ['were', 'O'], ['studied', 'O'], ['repeatedly', 'O'], ['in', 'O'], ['PD', 'B-Disease'], ['patients', 'O'], ['receiving', 'O'], ['selegiline', 'B-Chemical'], ['and', 'O'], ['as', 'O'], ['the', 'O'], ['drug', 'O'], ['was', 'O'], ['withdrawn', 'O'], ['.', 'O']]\n"
     ]
    }
   ],
   "source": [
    "X = [[word_to_index[w[0]] for w in s] for s in sentences]\n",
    "print(X[0],X[1])\n",
    "count=0\n",
    "for s in sentences:\n",
    "    print(s)\n",
    "    count=count+1\n",
    "    if count>5:\n",
    "        break\n",
    "# Padding each sequence to have same length  of each word\n",
    "X = pad_sequences(maxlen = max_len, sequences = X, padding = \"post\", value = word_to_index[\"PAD\"])"
   ]
  },
  {
   "cell_type": "code",
   "execution_count": 12,
   "metadata": {
    "colab": {
     "base_uri": "https://localhost:8080/",
     "height": 181
    },
    "colab_type": "code",
    "executionInfo": {
     "elapsed": 1588,
     "status": "ok",
     "timestamp": 1573482527603,
     "user": {
      "displayName": "Anant Bhavsar",
      "photoUrl": "",
      "userId": "10842212189610618468"
     },
     "user_tz": -330
    },
    "id": "z7cjgZ5OWEXB",
    "outputId": "9ad25e0e-49e6-43e1-b8f4-37a24f83754c"
   },
   "outputs": [
    {
     "name": "stdout",
     "output_type": "stream",
     "text": [
      "[ 2  3  4  5  6  7  8  9 10 11 12 13 14 15 16 17 18 19 20 21 22  0  0  0\n",
      "  0  0  0  0  0  0  0  0  0  0  0  0  0  0  0  0  0  0  0  0  0  0  0  0\n",
      "  0  0  0  0  0  0  0  0  0  0  0  0  0  0  0  0  0  0  0  0  0  0  0  0\n",
      "  0  0  0  0  0  0  0  0  0  0  0  0  0  0  0  0  0  0  0  0  0  0  0  0\n",
      "  0  0  0  0  0  0  0  0  0  0  0  0  0  0  0  0  0  0  0  0  0  0  0  0\n",
      "  0  0  0  0  0  0  0  0  0  0  0  0  0  0  0  0  0  0  0  0  0  0  0  0\n",
      "  0  0  0  0  0  0  0  0  0  0  0  0  0  0  0  0  0  0  0  0  0  0  0  0\n",
      "  0]\n"
     ]
    },
    {
     "data": {
      "text/plain": [
       "169"
      ]
     },
     "execution_count": 12,
     "metadata": {
      "tags": []
     },
     "output_type": "execute_result"
    }
   ],
   "source": [
    "print(X[0])\n",
    "len(X[0])"
   ]
  },
  {
   "cell_type": "code",
   "execution_count": 13,
   "metadata": {
    "colab": {
     "base_uri": "https://localhost:8080/",
     "height": 35
    },
    "colab_type": "code",
    "executionInfo": {
     "elapsed": 2883,
     "status": "ok",
     "timestamp": 1573482530050,
     "user": {
      "displayName": "Anant Bhavsar",
      "photoUrl": "",
      "userId": "10842212189610618468"
     },
     "user_tz": -330
    },
    "id": "9mBsa7QDWEXU",
    "outputId": "ede20096-9d40-41d6-ef2a-7484e2036b02"
   },
   "outputs": [
    {
     "name": "stdout",
     "output_type": "stream",
     "text": [
      "[1, 2, 2, 3, 4, 2, 3, 4, 4, 4, 2, 2, 2, 2, 2, 2, 2, 2, 2, 2, 2]\n"
     ]
    }
   ],
   "source": [
    "# Convert label to index\n",
    "y = [[tag_to_index[w[1]] for w in s] for s in sentences]\n",
    "print(y[0])\n",
    "# padding\n",
    "y = pad_sequences(maxlen = max_len, sequences = y, padding = \"post\", value = tag_to_index[\"PAD\"])"
   ]
  },
  {
   "cell_type": "code",
   "execution_count": 14,
   "metadata": {
    "colab": {
     "base_uri": "https://localhost:8080/",
     "height": 72
    },
    "colab_type": "code",
    "executionInfo": {
     "elapsed": 2953,
     "status": "ok",
     "timestamp": 1573482531799,
     "user": {
      "displayName": "Anant Bhavsar",
      "photoUrl": "",
      "userId": "10842212189610618468"
     },
     "user_tz": -330
    },
    "id": "X2fyCjskWEXk",
    "outputId": "97b9a6fb-d6be-434b-e60c-41d92cc0dbea"
   },
   "outputs": [
    {
     "name": "stdout",
     "output_type": "stream",
     "text": [
      "5\n",
      "[0. 0. 1. 0. 0. 0.] [0. 0. 1. 0. 0. 0.]\n",
      "6\n"
     ]
    }
   ],
   "source": [
    "num_tag = 5\n",
    "print(num_tag)\n",
    "# One hot encoded labels\n",
    "y = [to_categorical(i, num_classes = num_tag + 1) for i in y]\n",
    "print(y[0][1],y[0][18])\n",
    "print(len(y[0][1]))"
   ]
  },
  {
   "cell_type": "code",
   "execution_count": 0,
   "metadata": {
    "colab": {},
    "colab_type": "code",
    "id": "Zj_ZA9THWEXw"
   },
   "outputs": [],
   "source": [
    "#X_train, X_test, y_train, y_test = train_test_split(X, y, test_size = 0.15)"
   ]
  },
  {
   "cell_type": "code",
   "execution_count": 16,
   "metadata": {
    "colab": {
     "base_uri": "https://localhost:8080/",
     "height": 55
    },
    "colab_type": "code",
    "executionInfo": {
     "elapsed": 3497,
     "status": "ok",
     "timestamp": 1573482534850,
     "user": {
      "displayName": "Anant Bhavsar",
      "photoUrl": "",
      "userId": "10842212189610618468"
     },
     "user_tz": -330
    },
    "id": "pic_2Qs-WEYO",
    "outputId": "f35a028e-ef3f-488f-c39d-e89a585dae3c"
   },
   "outputs": [
    {
     "data": {
      "text/plain": [
       "'print(\"Size of training input data : \", X_train.shape)\\nprint(\"Size of training output data : \", np.array(y_train).shape)\\nprint(\"Size of testing input data : \", X_test.shape)\\nprint(\"Size of testing output data : \", np.array(y_test).shape)'"
      ]
     },
     "execution_count": 16,
     "metadata": {
      "tags": []
     },
     "output_type": "execute_result"
    }
   ],
   "source": [
    "'''print(\"Size of training input data : \", X_train.shape)\n",
    "print(\"Size of training output data : \", np.array(y_train).shape)\n",
    "print(\"Size of testing input data : \", X_test.shape)\n",
    "print(\"Size of testing output data : \", np.array(y_test).shape)'''"
   ]
  },
  {
   "cell_type": "code",
   "execution_count": 17,
   "metadata": {
    "colab": {
     "base_uri": "https://localhost:8080/",
     "height": 235
    },
    "colab_type": "code",
    "executionInfo": {
     "elapsed": 3678,
     "status": "ok",
     "timestamp": 1573482536195,
     "user": {
      "displayName": "Anant Bhavsar",
      "photoUrl": "",
      "userId": "10842212189610618468"
     },
     "user_tz": -330
    },
    "id": "WssrPkOGWEYX",
    "outputId": "7754ca2b-70cc-4373-a036-24455d1c7ca4"
   },
   "outputs": [
    {
     "name": "stdout",
     "output_type": "stream",
     "text": [
      "*****Before Processing first sentence : *****\n",
      " Selegiline - induced postural hypotension in Parkinson ' s disease : a longitudinal study on the effects of drug withdrawal .\n",
      "*****After Processing first sentence : *****\n",
      "  [ 2  3  4  5  6  7  8  9 10 11 12 13 14 15 16 17 18 19 20 21 22  0  0  0\n",
      "  0  0  0  0  0  0  0  0  0  0  0  0  0  0  0  0  0  0  0  0  0  0  0  0\n",
      "  0  0  0  0  0  0  0  0  0  0  0  0  0  0  0  0  0  0  0  0  0  0  0  0\n",
      "  0  0  0  0  0  0  0  0  0  0  0  0  0  0  0  0  0  0  0  0  0  0  0  0\n",
      "  0  0  0  0  0  0  0  0  0  0  0  0  0  0  0  0  0  0  0  0  0  0  0  0\n",
      "  0  0  0  0  0  0  0  0  0  0  0  0  0  0  0  0  0  0  0  0  0  0  0  0\n",
      "  0  0  0  0  0  0  0  0  0  0  0  0  0  0  0  0  0  0  0  0  0  0  0  0\n",
      "  0]\n"
     ]
    },
    {
     "data": {
      "text/plain": [
       "169"
      ]
     },
     "execution_count": 17,
     "metadata": {
      "tags": []
     },
     "output_type": "execute_result"
    }
   ],
   "source": [
    "# Let's check the first sentence before and after processing.\n",
    "print('*****Before Processing first sentence : *****\\n', ' '.join([w[0] for w in sentences[0]]))\n",
    "print('*****After Processing first sentence : *****\\n ', X[0])\n",
    "len(X[0])"
   ]
  },
  {
   "cell_type": "code",
   "execution_count": 18,
   "metadata": {
    "colab": {
     "base_uri": "https://localhost:8080/",
     "height": 199
    },
    "colab_type": "code",
    "executionInfo": {
     "elapsed": 2735,
     "status": "ok",
     "timestamp": 1573482536198,
     "user": {
      "displayName": "Anant Bhavsar",
      "photoUrl": "",
      "userId": "10842212189610618468"
     },
     "user_tz": -330
    },
    "id": "_sBzOCBPWEYf",
    "outputId": "5b5b145f-cb74-409b-ddb6-5a60e11a2694"
   },
   "outputs": [
    {
     "name": "stdout",
     "output_type": "stream",
     "text": [
      "*****Before Processing first sentence : *****\n",
      " B-Chemical O O B-Disease I-Disease O B-Disease I-Disease I-Disease I-Disease O O O O O O O O O O O\n",
      "*****After Processing first sentence : *****\n",
      "  [[0. 1. 0. 0. 0. 0.]\n",
      " [0. 0. 1. 0. 0. 0.]\n",
      " [0. 0. 1. 0. 0. 0.]\n",
      " ...\n",
      " [1. 0. 0. 0. 0. 0.]\n",
      " [1. 0. 0. 0. 0. 0.]\n",
      " [1. 0. 0. 0. 0. 0.]]\n"
     ]
    }
   ],
   "source": [
    "# First label before and after processing.\n",
    "print('*****Before Processing first sentence : *****\\n', ' '.join([w[1] for w in sentences[0]]))\n",
    "print('*****After Processing first sentence : *****\\n ', y[0])"
   ]
  },
  {
   "cell_type": "code",
   "execution_count": 20,
   "metadata": {
    "colab": {
     "base_uri": "https://localhost:8080/",
     "height": 92
    },
    "colab_type": "code",
    "executionInfo": {
     "elapsed": 84006,
     "status": "ok",
     "timestamp": 1573482629188,
     "user": {
      "displayName": "Anant Bhavsar",
      "photoUrl": "",
      "userId": "10842212189610618468"
     },
     "user_tz": -330
    },
    "id": "9Ohut9VvWEY0",
    "outputId": "6549e5c2-2a6c-46b7-ca3b-e7fa6435fa4c"
   },
   "outputs": [
    {
     "name": "stdout",
     "output_type": "stream",
     "text": [
      "Found 633966 word vectors.\n",
      "300\n",
      "[-0.170414, 0.124066, -0.11531, -0.48346, -0.010218, 0.212453, -0.059106, -0.011211, -0.273115, -0.031161, -0.061578, -0.246429, 0.301874, -0.047402, -0.179771, -0.103855, -0.247374, 0.330996, 0.041749, 0.447276, 0.482648, 0.365678, 0.092462, 0.301248, -0.023064, -0.089027, 0.14914, 0.756354, 0.450109, -0.406125, 0.457199, 0.07989, -0.307475, 0.030622, 0.341248, 0.22113, 0.801639, 0.474214, 0.176855, -0.025022, -0.626881, 0.349852, -0.119905, 0.289109, -0.448433, 0.212642, 0.43373, -0.498386, 0.559984, -0.237298, -0.364749, 0.247834, 0.71511, -0.27462, 0.243815, 0.33679, 0.156935, 0.113424, 0.469642, 0.394421, -0.89875, 0.13933, -0.088935, 0.015076, 0.671514, -0.172198, -0.084477, 0.430311, -0.582824, -0.035599, -0.487345, -0.145008, 0.031857, 0.366613, -0.09774, -0.54506, -0.249634, -0.728636, -0.122298, 0.262496, 0.163828, 0.122999, -0.085251, -1.438981, 0.403183, -0.475071, 0.549353, 0.097049, 0.352601, -0.062208, -0.377554, -0.666492, -0.284039, 0.716469, -0.150722, 0.198244, -0.743382, -0.471181, 0.11104, -0.098473, 0.163066, -0.632568, -0.156689, 0.037473, 0.152831, 0.180355, 0.142431, 0.279873, -0.246666, 0.236246, -0.280316, -0.077769, -0.307514, -0.499422, 0.192188, -0.408328, -0.524072, 0.321106, 0.01078, -0.034761, -0.475136, 1.291046, 0.426161, 0.39217, -0.835967, 0.559252, -0.215671, -0.462989, 1.236053, 0.106104, 0.067093, 0.039589, -0.303975, 0.135264, -0.35036, 0.16865, 0.260421, 0.206752, -0.004692, 0.394891, -0.539677, -0.289383, -0.643675, -0.307797, 0.331631, -0.048454, 0.05399, 0.444651, 0.283156, 0.024759, -0.35893, -0.460292, -0.597505, -0.000444, 0.383449, 0.545623, -0.909765, -0.066814, 0.057099, -0.070059, -0.23232, -1.039006, 0.77128, 0.597642, 0.301205, 0.389942, -0.093964, -0.409819, -0.670384, -0.486743, 1.864385, 0.432253, 0.069266, -0.034042, -0.347643, 1.035753, 0.303787, 0.024729, 0.454566, 0.240542, -0.331298, -0.230573, 1.046141, 0.024324, -1.072177, -0.381531, 0.068838, -0.042781, -0.208765, -0.157947, 0.710806, -0.081709, 0.709865, -0.506195, 0.375456, 0.949509, 0.002492, -0.883619, -0.019969, 1.002601, 0.350447, 0.001172, 0.003173, -1.092102, 0.074923, 0.563987, -0.055004, 0.426667, -0.381615, 0.355836, -0.475951, 0.060872, -0.194873, 0.108929, -0.118968, 0.246591, 0.066958, 0.253231, -0.230508, 0.154434, 0.449996, -0.208901, -0.018569, -0.364482, -0.124095, -0.363414, 0.360864, -0.029166, 0.715297, 0.164127, -0.457092, -0.177558, 0.583627, -0.362574, -0.10053, 0.360964, 0.315243, -0.044861, -0.142878, -0.015346, 0.610736, -0.300923, 0.609168, -0.095663, -0.011876, 0.382148, -0.148027, -0.496645, 0.238309, 0.294103, 0.628948, -0.445417, 0.239359, 0.250474, -0.323316, -0.353218, 0.185682, 0.224884, 0.590652, 0.07382, -0.516833, -0.634492, 1.167631, 0.022517, -0.041888, 0.394413, -0.229567, -0.088543, 0.773214, -0.294872, 0.683453, 0.083151, 0.624374, 0.216972, 0.256139, -0.390673, 0.163267, 0.460982, 0.305664, -0.492733, -0.215084, 0.185517, 0.093102, -0.288311, 0.233094, 0.210525, 0.192988, 0.785027, -0.082729, 0.163365, 0.570438, 0.531331, -0.096771, 0.39075, -0.349343, 0.370546, 0.444471, 0.093277, 0.134453, -0.404278]\n"
     ]
    }
   ],
   "source": [
    "path = \"Embeddings/bio_GloVe_300.txt\"\n",
    "f = codecs.open(path, 'r', encoding='utf-8')\n",
    "embeddings_index = {}\n",
    "for line in f:\n",
    "    split_line = line.split()\n",
    "    word = split_line[0]\n",
    "    embedding1 = np.array([float(val) for val in split_line[1:]])\n",
    "    embeddings_index[word] = embedding1\n",
    "print('Found %s word vectors.' % len(embeddings_index))\n",
    "emb=embeddings_index['gene'].tolist()\n",
    "print(len(emb))\n",
    "print(emb)"
   ]
  },
  {
   "cell_type": "code",
   "execution_count": 0,
   "metadata": {
    "colab": {},
    "colab_type": "code",
    "id": "KFfUTA7eWEY7"
   },
   "outputs": [],
   "source": [
    "num_words=len(word_to_index) + 1\n",
    "embedding_matrix = np.zeros((len(words)+2, embedding_dim))\n",
    "for word, i in word_to_index.items():\n",
    "    embedding_vector = embeddings_index.get(word)\n",
    "    if embedding_vector is not None:\n",
    "        # words not found in embedding index will be all-zeros.\n",
    "        embedding_matrix[i] = embedding_vector"
   ]
  },
  {
   "cell_type": "code",
   "execution_count": 22,
   "metadata": {
    "colab": {
     "base_uri": "https://localhost:8080/",
     "height": 73
    },
    "colab_type": "code",
    "executionInfo": {
     "elapsed": 65559,
     "status": "ok",
     "timestamp": 1573482629193,
     "user": {
      "displayName": "Anant Bhavsar",
      "photoUrl": "",
      "userId": "10842212189610618468"
     },
     "user_tz": -330
    },
    "id": "N6MRYkYKWEZC",
    "outputId": "bc1a0bff-1ede-4d12-ae43-8b83923e9a51"
   },
   "outputs": [
    {
     "name": "stdout",
     "output_type": "stream",
     "text": [
      "WARNING:tensorflow:From /usr/local/lib/python3.6/dist-packages/keras/backend/tensorflow_backend.py:66: The name tf.get_default_graph is deprecated. Please use tf.compat.v1.get_default_graph instead.\n",
      "\n"
     ]
    }
   ],
   "source": [
    "embedding_layer = Embedding(len(words)+2,\n",
    "                            embedding_dim,\n",
    "                            embeddings_initializer=Constant(embedding_matrix),\n",
    "                            input_length=max_len,\n",
    "                            trainable=False)"
   ]
  },
  {
   "cell_type": "code",
   "execution_count": 23,
   "metadata": {
    "colab": {
     "base_uri": "https://localhost:8080/",
     "height": 618
    },
    "colab_type": "code",
    "executionInfo": {
     "elapsed": 2098,
     "status": "ok",
     "timestamp": 1573482631314,
     "user": {
      "displayName": "Anant Bhavsar",
      "photoUrl": "",
      "userId": "10842212189610618468"
     },
     "user_tz": -330
    },
    "id": "qh3Z5RR5WEZL",
    "outputId": "a9e74ce1-88dc-4d5c-ab87-10d0c8446856"
   },
   "outputs": [
    {
     "name": "stdout",
     "output_type": "stream",
     "text": [
      "WARNING:tensorflow:From /usr/local/lib/python3.6/dist-packages/keras/backend/tensorflow_backend.py:541: The name tf.placeholder is deprecated. Please use tf.compat.v1.placeholder instead.\n",
      "\n",
      "WARNING:tensorflow:From /usr/local/lib/python3.6/dist-packages/keras/backend/tensorflow_backend.py:4432: The name tf.random_uniform is deprecated. Please use tf.random.uniform instead.\n",
      "\n",
      "WARNING:tensorflow:From /usr/local/lib/python3.6/dist-packages/keras/backend/tensorflow_backend.py:148: The name tf.placeholder_with_default is deprecated. Please use tf.compat.v1.placeholder_with_default instead.\n",
      "\n",
      "WARNING:tensorflow:From /usr/local/lib/python3.6/dist-packages/keras/backend/tensorflow_backend.py:3733: calling dropout (from tensorflow.python.ops.nn_ops) with keep_prob is deprecated and will be removed in a future version.\n",
      "Instructions for updating:\n",
      "Please use `rate` instead of `keep_prob`. Rate should be set to `rate = 1 - keep_prob`.\n",
      "WARNING:tensorflow:From /usr/local/lib/python3.6/dist-packages/keras/optimizers.py:793: The name tf.train.Optimizer is deprecated. Please use tf.compat.v1.train.Optimizer instead.\n",
      "\n",
      "WARNING:tensorflow:From /usr/local/lib/python3.6/dist-packages/tensorflow_core/python/ops/math_ops.py:2509: where (from tensorflow.python.ops.array_ops) is deprecated and will be removed in a future version.\n",
      "Instructions for updating:\n",
      "Use tf.where in 2.0, which has the same broadcast rule as np.where\n",
      "Model: \"model_1\"\n",
      "_________________________________________________________________\n",
      "Layer (type)                 Output Shape              Param #   \n",
      "=================================================================\n",
      "input_1 (InputLayer)         (None, 169)               0         \n",
      "_________________________________________________________________\n",
      "embedding_1 (Embedding)      (None, 169, 300)          2994600   \n",
      "_________________________________________________________________\n",
      "bidirectional_1 (Bidirection (None, 169, 200)          320800    \n",
      "_________________________________________________________________\n",
      "time_distributed_1 (TimeDist (None, 169, 50)           10050     \n",
      "_________________________________________________________________\n",
      "crf_1 (CRF)                  (None, 169, 6)            354       \n",
      "=================================================================\n",
      "Total params: 3,325,804\n",
      "Trainable params: 331,204\n",
      "Non-trainable params: 2,994,600\n",
      "_________________________________________________________________\n"
     ]
    }
   ],
   "source": [
    "num_tags = 5\n",
    "def createmodel():\n",
    "    # Model architecture\n",
    "    input = Input(shape = (max_len,))\n",
    "    model=embedding_layer(input)\n",
    "    model = Bidirectional(LSTM(units = 100, return_sequences=True, recurrent_dropout=0.1))(model)\n",
    "    model = TimeDistributed(Dense(50, activation=\"relu\"))(model)\n",
    "    crf = CRF(num_tags+1)  # CRF layer\n",
    "    out = crf(model)  # output\n",
    "\n",
    "    model = Model(input, out)\n",
    "    model.compile(optimizer=\"rmsprop\", loss=crf.loss_function, metrics=[crf.accuracy])\n",
    "\n",
    "    model.summary()\n",
    "    return model\n",
    "\n",
    "model=createmodel()"
   ]
  },
  {
   "cell_type": "code",
   "execution_count": 0,
   "metadata": {
    "colab": {},
    "colab_type": "code",
    "id": "XHX5Ee81WEZR"
   },
   "outputs": [],
   "source": [
    "checkpointer = ModelCheckpoint(filepath = 'model.h5',\n",
    "                       verbose = 0,\n",
    "                       mode = 'auto',\n",
    "                       save_best_only = True,\n",
    "                       monitor='val_loss')"
   ]
  },
  {
   "cell_type": "code",
   "execution_count": 25,
   "metadata": {
    "colab": {
     "base_uri": "https://localhost:8080/",
     "height": 709
    },
    "colab_type": "code",
    "executionInfo": {
     "elapsed": 551679,
     "status": "ok",
     "timestamp": 1573483180917,
     "user": {
      "displayName": "Anant Bhavsar",
      "photoUrl": "",
      "userId": "10842212189610618468"
     },
     "user_tz": -330
    },
    "id": "BeneuONlWEZX",
    "outputId": "82c601f5-7d73-4036-d9d1-50c1ce27f2fa"
   },
   "outputs": [
    {
     "name": "stdout",
     "output_type": "stream",
     "text": [
      "WARNING:tensorflow:From /usr/local/lib/python3.6/dist-packages/keras/backend/tensorflow_backend.py:1033: The name tf.assign_add is deprecated. Please use tf.compat.v1.assign_add instead.\n",
      "\n",
      "WARNING:tensorflow:From /usr/local/lib/python3.6/dist-packages/keras/backend/tensorflow_backend.py:1020: The name tf.assign is deprecated. Please use tf.compat.v1.assign instead.\n",
      "\n",
      "WARNING:tensorflow:From /usr/local/lib/python3.6/dist-packages/keras/backend/tensorflow_backend.py:3005: The name tf.Session is deprecated. Please use tf.compat.v1.Session instead.\n",
      "\n",
      "Train on 4104 samples, validate on 456 samples\n",
      "Epoch 1/10\n",
      "WARNING:tensorflow:From /usr/local/lib/python3.6/dist-packages/keras/backend/tensorflow_backend.py:190: The name tf.get_default_session is deprecated. Please use tf.compat.v1.get_default_session instead.\n",
      "\n",
      "WARNING:tensorflow:From /usr/local/lib/python3.6/dist-packages/keras/backend/tensorflow_backend.py:197: The name tf.ConfigProto is deprecated. Please use tf.compat.v1.ConfigProto instead.\n",
      "\n",
      "WARNING:tensorflow:From /usr/local/lib/python3.6/dist-packages/keras/backend/tensorflow_backend.py:207: The name tf.global_variables is deprecated. Please use tf.compat.v1.global_variables instead.\n",
      "\n",
      "WARNING:tensorflow:From /usr/local/lib/python3.6/dist-packages/keras/backend/tensorflow_backend.py:216: The name tf.is_variable_initialized is deprecated. Please use tf.compat.v1.is_variable_initialized instead.\n",
      "\n",
      "WARNING:tensorflow:From /usr/local/lib/python3.6/dist-packages/keras/backend/tensorflow_backend.py:223: The name tf.variables_initializer is deprecated. Please use tf.compat.v1.variables_initializer instead.\n",
      "\n",
      "4104/4104 [==============================] - 58s 14ms/step - loss: 0.1692 - crf_viterbi_accuracy: 0.9483 - val_loss: 0.0408 - val_crf_viterbi_accuracy: 0.9856\n",
      "Epoch 2/10\n",
      "4104/4104 [==============================] - 54s 13ms/step - loss: 0.0319 - crf_viterbi_accuracy: 0.9888 - val_loss: 0.0305 - val_crf_viterbi_accuracy: 0.9885\n",
      "Epoch 3/10\n",
      "4104/4104 [==============================] - 55s 13ms/step - loss: 0.0247 - crf_viterbi_accuracy: 0.9909 - val_loss: 0.0288 - val_crf_viterbi_accuracy: 0.9892\n",
      "Epoch 4/10\n",
      "4104/4104 [==============================] - 54s 13ms/step - loss: 0.0197 - crf_viterbi_accuracy: 0.9922 - val_loss: 0.0213 - val_crf_viterbi_accuracy: 0.9910\n",
      "Epoch 5/10\n",
      "4104/4104 [==============================] - 54s 13ms/step - loss: 0.0162 - crf_viterbi_accuracy: 0.9932 - val_loss: 0.0240 - val_crf_viterbi_accuracy: 0.9893\n",
      "Epoch 6/10\n",
      "4104/4104 [==============================] - 54s 13ms/step - loss: 0.0132 - crf_viterbi_accuracy: 0.9941 - val_loss: 0.0307 - val_crf_viterbi_accuracy: 0.9855\n",
      "Epoch 7/10\n",
      "4104/4104 [==============================] - 54s 13ms/step - loss: 0.0106 - crf_viterbi_accuracy: 0.9947 - val_loss: 0.0167 - val_crf_viterbi_accuracy: 0.9921\n",
      "Epoch 8/10\n",
      "4104/4104 [==============================] - 54s 13ms/step - loss: 0.0084 - crf_viterbi_accuracy: 0.9953 - val_loss: 0.0189 - val_crf_viterbi_accuracy: 0.9917\n",
      "Epoch 9/10\n",
      "4104/4104 [==============================] - 54s 13ms/step - loss: 0.0064 - crf_viterbi_accuracy: 0.9958 - val_loss: 0.0212 - val_crf_viterbi_accuracy: 0.9910\n",
      "Epoch 10/10\n",
      "4104/4104 [==============================] - 54s 13ms/step - loss: 0.0047 - crf_viterbi_accuracy: 0.9963 - val_loss: 0.0145 - val_crf_viterbi_accuracy: 0.9920\n"
     ]
    }
   ],
   "source": [
    "history = model.fit(X, np.array(y), batch_size=batch_size, epochs=epochs,\n",
    "                    validation_split=0.1)"
   ]
  },
  {
   "cell_type": "code",
   "execution_count": 26,
   "metadata": {
    "colab": {
     "base_uri": "https://localhost:8080/",
     "height": 517
    },
    "colab_type": "code",
    "executionInfo": {
     "elapsed": 551669,
     "status": "ok",
     "timestamp": 1573483180922,
     "user": {
      "displayName": "Anant Bhavsar",
      "photoUrl": "",
      "userId": "10842212189610618468"
     },
     "user_tz": -330
    },
    "id": "dkLaf6s6WEZg",
    "outputId": "d60f04f7-a666-4e35-ed8a-2a47bec3683d"
   },
   "outputs": [
    {
     "data": {
      "text/plain": [
       "<matplotlib.legend.Legend at 0x7ff2f4f86978>"
      ]
     },
     "execution_count": 26,
     "metadata": {
      "tags": []
     },
     "output_type": "execute_result"
    },
    {
     "data": {
      "image/png": "[encoded data removed]",
      "text/plain": [
       "<Figure size 576x576 with 1 Axes>"
      ]
     },
     "metadata": {
      "tags": []
     },
     "output_type": "display_data"
    }
   ],
   "source": [
    "acc = history.history['crf_viterbi_accuracy']\n",
    "val_acc = history.history['val_crf_viterbi_accuracy']\n",
    "loss = history.history['loss']\n",
    "val_loss = history.history['val_loss']\n",
    "plt.figure(figsize = (8, 8))\n",
    "epochs = range(1, len(acc) + 1)\n",
    "plt.plot(epochs, acc, 'bo', label='Training acc')\n",
    "plt.plot(epochs, val_acc, 'b', label='Validation acc')\n",
    "plt.title('Training and validation accuracy')\n",
    "plt.legend()"
   ]
  },
  {
   "cell_type": "code",
   "execution_count": 27,
   "metadata": {
    "colab": {
     "base_uri": "https://localhost:8080/",
     "height": 499
    },
    "colab_type": "code",
    "executionInfo": {
     "elapsed": 551657,
     "status": "ok",
     "timestamp": 1573483180924,
     "user": {
      "displayName": "Anant Bhavsar",
      "photoUrl": "",
      "userId": "10842212189610618468"
     },
     "user_tz": -330
    },
    "id": "Kk9iwtYOWEZp",
    "outputId": "4b1dfeff-0fc0-4b69-9540-52cbd4b1d855"
   },
   "outputs": [
    {
     "data": {
      "image/png": "[encoded data removed]",
      "text/plain": [
       "<Figure size 576x576 with 1 Axes>"
      ]
     },
     "metadata": {
      "tags": []
     },
     "output_type": "display_data"
    }
   ],
   "source": [
    "plt.figure(figsize = (8, 8))\n",
    "plt.plot(epochs, loss, 'bo', label='Training loss')\n",
    "plt.plot(epochs, val_loss, 'b', label='Validation loss')\n",
    "plt.title('Training and validation loss')\n",
    "plt.legend()\n",
    "plt.show()"
   ]
  },
  {
   "cell_type": "code",
   "execution_count": null,
   "metadata": {
    "colab": {
     "base_uri": "https://localhost:8080/",
     "height": 1000
    },
    "colab_type": "code",
    "executionInfo": {
     "elapsed": 558218,
     "status": "ok",
     "timestamp": 1573483187548,
     "user": {
      "displayName": "Anant Bhavsar",
      "photoUrl": "",
      "userId": "10842212189610618468"
     },
     "user_tz": -330
    },
    "id": "DJC3kudgWEab",
    "outputId": "9bcaae50-a657-49ca-d9c9-8228995e0aa8"
   },
   "outputs": [],
   "source": [
    "tsvfile=open(\"BC5CDR-IOB/test.tsv\",encoding=\"utf-8\")\n",
    "tsvreader = csv.reader(tsvfile, delimiter=\"\\t\")\n",
    "data1=[]\n",
    "sentences1=[]\n",
    "words1=[]\n",
    "tags1=[]\n",
    "for line in tsvreader:\n",
    "    if line!=[]:\n",
    "        data1.append(line)\n",
    "        if line[0] not in words1:\n",
    "            words1.append(line[0])\n",
    "        if line[1] not in tags1:\n",
    "            tags1.append(line[1])\n",
    "    else:\n",
    "        sentences1.append(data1)\n",
    "        data1=[]\n",
    "\n",
    "X1 = [[word_to_index[w[0] if w[0] in words else \"UNK\"] for w in s] for s in sentences1]\n",
    "print(X1[0],X1[1])\n",
    "count=0\n",
    "for s in sentences1:\n",
    "    count=count+1\n",
    "    if count>5:\n",
    "        break\n",
    "# Padding each sequence to have same length  of each word\n",
    "X1 = pad_sequences(maxlen = max_len, sequences = X1, padding = \"post\", value = word_to_index[\"PAD\"])\n",
    "y1 = [[tag_to_index[w[1]] for w in s] for s in sentences1]\n",
    "# padding\n",
    "y1 = pad_sequences(maxlen = max_len, sequences = y1, padding = \"post\", value = tag_to_index[\"PAD\"])\n",
    "num_tag = 5\n",
    "# One hot encoded labels\n",
    "y1=[to_categorical(i, num_classes = num_tag + 1) for i in y1]"
   ]
  },
  {
   "cell_type": "code",
   "execution_count": 0,
   "metadata": {
    "colab": {},
    "colab_type": "code",
    "id": "6bP3D6U-WEai"
   },
   "outputs": [],
   "source": [
    "y_pred = model.predict(X1)\n",
    "y_pred = np.argmax(y_pred, axis=-1)\n",
    "y_test_true = np.argmax(y1, -1)"
   ]
  },
  {
   "cell_type": "code",
   "execution_count": 0,
   "metadata": {
    "colab": {},
    "colab_type": "code",
    "id": "XL6NHCHhWEao"
   },
   "outputs": [],
   "source": [
    "y_pred = [[idx2tag[i] for i in row] for row in y_pred]\n",
    "y_test_true = [[idx2tag[i] for i in row] for row in y_test_true] "
   ]
  },
  {
   "cell_type": "code",
   "execution_count": 35,
   "metadata": {
    "colab": {
     "base_uri": "https://localhost:8080/",
     "height": 35
    },
    "colab_type": "code",
    "executionInfo": {
     "elapsed": 580427,
     "status": "ok",
     "timestamp": 1573483209776,
     "user": {
      "displayName": "Anant Bhavsar",
      "photoUrl": "",
      "userId": "10842212189610618468"
     },
     "user_tz": -330
    },
    "id": "tl7TODDqWEat",
    "outputId": "ce82cd46-3b4a-4647-e4a3-84f6be5cef7a"
   },
   "outputs": [
    {
     "name": "stdout",
     "output_type": "stream",
     "text": [
      "F1-score is : 81.0%\n"
     ]
    }
   ],
   "source": [
    "print(\"F1-score is : {:.1%}\".format(f1_score(y_test_true, y_pred)))"
   ]
  },
  {
   "cell_type": "code",
   "execution_count": 36,
   "metadata": {
    "colab": {
     "base_uri": "https://localhost:8080/",
     "height": 253
    },
    "colab_type": "code",
    "executionInfo": {
     "elapsed": 590332,
     "status": "ok",
     "timestamp": 1573483219693,
     "user": {
      "displayName": "Anant Bhavsar",
      "photoUrl": "",
      "userId": "10842212189610618468"
     },
     "user_tz": -330
    },
    "id": "WbD8wY4FWEax",
    "outputId": "993f4ce3-549b-4791-bae1-056239fa01e4"
   },
   "outputs": [
    {
     "name": "stdout",
     "output_type": "stream",
     "text": [
      "              precision    recall  f1-score   support\n",
      "\n",
      "  B-Chemical       0.77      0.77      0.77      5385\n",
      "   B-Disease       0.81      0.65      0.72      4424\n",
      "  I-Chemical       0.68      0.63      0.66      1628\n",
      "   I-Disease       0.66      0.73      0.69      2737\n",
      "           O       0.97      0.98      0.97    110576\n",
      "         PAD       1.00      1.00      1.00    685943\n",
      "\n",
      "    accuracy                           0.99    810693\n",
      "   macro avg       0.82      0.79      0.80    810693\n",
      "weighted avg       0.99      0.99      0.99    810693\n",
      "\n"
     ]
    }
   ],
   "source": [
    "report = flat_classification_report(y_pred=y_pred, y_true=y_test_true)\n",
    "print(report)"
   ]
  },
  {
   "cell_type": "code",
   "execution_count": 37,
   "metadata": {
    "colab": {
     "base_uri": "https://localhost:8080/",
     "height": 55
    },
    "colab_type": "code",
    "executionInfo": {
     "elapsed": 590325,
     "status": "ok",
     "timestamp": 1573483219696,
     "user": {
      "displayName": "Anant Bhavsar",
      "photoUrl": "",
      "userId": "10842212189610618468"
     },
     "user_tz": -330
    },
    "id": "Uf5xI3lWWEa3",
    "outputId": "763f756f-c412-4c69-fc9f-86d5b74f9c26"
   },
   "outputs": [
    {
     "name": "stdout",
     "output_type": "stream",
     "text": [
      "['B-Disease', 'I-Disease', 'I-Disease', 'B-Disease', 'I-Disease', 'O', 'O', 'O', 'O', 'B-Chemical', 'O', 'O', 'O', 'O', 'O', 'B-Disease', 'I-Disease', 'O', 'B-Disease', 'I-Disease', 'I-Disease', 'O', 'PAD', 'PAD', 'PAD', 'PAD', 'PAD', 'PAD', 'PAD', 'PAD', 'PAD', 'PAD', 'PAD', 'PAD', 'PAD', 'PAD', 'PAD', 'PAD', 'PAD', 'PAD', 'PAD', 'PAD', 'PAD', 'PAD', 'PAD', 'PAD', 'PAD', 'PAD', 'PAD', 'PAD', 'PAD', 'PAD', 'PAD', 'PAD', 'PAD', 'PAD', 'PAD', 'PAD', 'PAD', 'PAD', 'PAD', 'PAD', 'PAD', 'PAD', 'PAD', 'PAD', 'PAD', 'PAD', 'PAD', 'PAD', 'PAD', 'PAD', 'PAD', 'PAD', 'PAD', 'PAD', 'PAD', 'PAD', 'PAD', 'PAD', 'PAD', 'PAD', 'PAD', 'PAD', 'PAD', 'PAD', 'PAD', 'PAD', 'PAD', 'PAD', 'PAD', 'PAD', 'PAD', 'PAD', 'PAD', 'PAD', 'PAD', 'PAD', 'PAD', 'PAD', 'PAD', 'PAD', 'PAD', 'PAD', 'PAD', 'PAD', 'PAD', 'PAD', 'PAD', 'PAD', 'PAD', 'PAD', 'PAD', 'PAD', 'PAD', 'PAD', 'PAD', 'PAD', 'PAD', 'PAD', 'PAD', 'PAD', 'PAD', 'PAD', 'PAD', 'PAD', 'PAD', 'PAD', 'PAD', 'PAD', 'PAD', 'PAD', 'PAD', 'PAD', 'PAD', 'PAD', 'PAD', 'PAD', 'PAD', 'PAD', 'PAD', 'PAD', 'PAD', 'PAD', 'PAD', 'PAD', 'PAD', 'PAD', 'PAD', 'PAD', 'PAD', 'PAD', 'PAD', 'PAD', 'PAD', 'PAD', 'PAD', 'PAD', 'PAD', 'PAD', 'PAD', 'PAD', 'PAD', 'PAD', 'PAD', 'PAD', 'PAD', 'PAD', 'PAD']\n"
     ]
    }
   ],
   "source": [
    "print(y_test_true[0])"
   ]
  },
  {
   "cell_type": "code",
   "execution_count": 38,
   "metadata": {
    "colab": {
     "base_uri": "https://localhost:8080/",
     "height": 55
    },
    "colab_type": "code",
    "executionInfo": {
     "elapsed": 590318,
     "status": "ok",
     "timestamp": 1573483219698,
     "user": {
      "displayName": "Anant Bhavsar",
      "photoUrl": "",
      "userId": "10842212189610618468"
     },
     "user_tz": -330
    },
    "id": "R7vKfZrTWEa7",
    "outputId": "0d3b4b30-f64a-4950-9244-e9c8e85f84ad"
   },
   "outputs": [
    {
     "name": "stdout",
     "output_type": "stream",
     "text": [
      "['O', 'O', 'B-Disease', 'I-Disease', 'I-Disease', 'O', 'O', 'O', 'O', 'B-Chemical', 'O', 'O', 'O', 'O', 'O', 'B-Disease', 'I-Disease', 'O', 'B-Disease', 'I-Disease', 'I-Disease', 'O', 'PAD', 'PAD', 'PAD', 'PAD', 'PAD', 'PAD', 'PAD', 'PAD', 'PAD', 'PAD', 'PAD', 'PAD', 'PAD', 'PAD', 'PAD', 'PAD', 'PAD', 'PAD', 'PAD', 'PAD', 'PAD', 'PAD', 'PAD', 'PAD', 'PAD', 'PAD', 'PAD', 'PAD', 'PAD', 'PAD', 'PAD', 'PAD', 'PAD', 'PAD', 'PAD', 'PAD', 'PAD', 'PAD', 'PAD', 'PAD', 'PAD', 'PAD', 'PAD', 'PAD', 'PAD', 'PAD', 'PAD', 'PAD', 'PAD', 'PAD', 'PAD', 'PAD', 'PAD', 'PAD', 'PAD', 'PAD', 'PAD', 'PAD', 'PAD', 'PAD', 'PAD', 'PAD', 'PAD', 'PAD', 'PAD', 'PAD', 'PAD', 'PAD', 'PAD', 'PAD', 'PAD', 'PAD', 'PAD', 'PAD', 'PAD', 'PAD', 'PAD', 'PAD', 'PAD', 'PAD', 'PAD', 'PAD', 'PAD', 'PAD', 'PAD', 'PAD', 'PAD', 'PAD', 'PAD', 'PAD', 'PAD', 'PAD', 'PAD', 'PAD', 'PAD', 'PAD', 'PAD', 'PAD', 'PAD', 'PAD', 'PAD', 'PAD', 'PAD', 'PAD', 'PAD', 'PAD', 'PAD', 'PAD', 'PAD', 'PAD', 'PAD', 'PAD', 'PAD', 'PAD', 'PAD', 'PAD', 'PAD', 'PAD', 'PAD', 'PAD', 'PAD', 'PAD', 'PAD', 'PAD', 'PAD', 'PAD', 'PAD', 'PAD', 'PAD', 'PAD', 'PAD', 'PAD', 'PAD', 'PAD', 'PAD', 'PAD', 'PAD', 'PAD', 'PAD', 'PAD', 'PAD', 'PAD', 'PAD', 'PAD', 'PAD', 'PAD', 'PAD']\n"
     ]
    }
   ],
   "source": [
    "print(y_pred[0])"
   ]
  },
  {
   "cell_type": "code",
   "execution_count": 39,
   "metadata": {
    "colab": {
     "base_uri": "https://localhost:8080/",
     "height": 35
    },
    "colab_type": "code",
    "executionInfo": {
     "elapsed": 590310,
     "status": "ok",
     "timestamp": 1573483219700,
     "user": {
      "displayName": "Anant Bhavsar",
      "photoUrl": "",
      "userId": "10842212189610618468"
     },
     "user_tz": -330
    },
    "id": "HLg9sAMCWEbA",
    "outputId": "9c08fddb-123c-4a3c-8bf2-a41b79ebb022"
   },
   "outputs": [
    {
     "data": {
      "text/plain": [
       "False"
      ]
     },
     "execution_count": 39,
     "metadata": {
      "tags": []
     },
     "output_type": "execute_result"
    }
   ],
   "source": [
    "y_pred[0][1:16]==y_test_true[0][1:16]"
   ]
  },
  {
   "cell_type": "code",
   "execution_count": 0,
   "metadata": {
    "colab": {},
    "colab_type": "code",
    "id": "Z77JBZ2GWEbG"
   },
   "outputs": [],
   "source": [
    "    ##Exact Match\n",
    "def calresultExact(y_test_true,y_pred):\n",
    "    TP=0\n",
    "    TN=0\n",
    "    FP=0\n",
    "    FN=0\n",
    "    i=0\n",
    "    nument=0\n",
    "    while i<len(y_test_true):\n",
    "        j=0\n",
    "      #print(i)\n",
    "        while j <len(y_test_true[i]):\n",
    "          #print('j ',j)\n",
    "            if y_test_true[i][j]=='B-Disease':\n",
    "                st=j\n",
    "                nument=nument+1\n",
    "                j=j+1\n",
    "                while (y_test_true[i][j]=='I-Disease') and j<len(y_test_true[i]):\n",
    "                    j=j+1\n",
    "                  #print('inside ',j)\n",
    "                end=j\n",
    "                if y_test_true[i][st:end]==y_pred[i][st:end]:\n",
    "                    TP=TP+1\n",
    "                else:\n",
    "                    FN=FN+1\n",
    "\n",
    "            elif y_test_true[i][j]=='B-Chemical':\n",
    "                st=j\n",
    "                nument=nument+1\n",
    "                j=j+1\n",
    "                while (y_test_true[i][j]=='I-Chemical') and j<len(y_test_true[i]):\n",
    "                    j=j+1\n",
    "                  #print('inside ',j)\n",
    "                end=j\n",
    "                if y_test_true[i][st:end]==y_pred[i][st:end]:\n",
    "                    TP=TP+1\n",
    "                else:\n",
    "                    FN=FN+1\n",
    "            elif y_test_true[i][j]=='O' and y_pred[i][j]=='O':\n",
    "                TN=TN+1\n",
    "                j=j+1\n",
    "\n",
    "            elif y_test_true[i][j]=='O' and y_pred[i][j]!='O':\n",
    "                FP=FP+1\n",
    "                j=j+1\n",
    "\n",
    "            elif y_test_true[i][j]=='PAD':\n",
    "                j=j+1\n",
    "\n",
    "        i=i+1\n",
    "\n",
    "Precision=TP/(TP+FP)\n",
    "print(Precision)\n",
    "Recall=TP/(TP+FN)\n",
    "print(Recall)\n",
    "F1=(2*Precision*Recall)/(Precision+Recall)\n",
    "print(F1)\n",
    "mat=[[TP,FP],[FN,TN]]\n",
    "print(mat)"
   ]
  },
  {
   "cell_type": "code",
   "execution_count": 0,
   "metadata": {
    "colab": {},
    "colab_type": "code",
    "id": "bitGGorQWEbR"
   },
   "outputs": [],
   "source": [
    "##Partial Match\n",
    "def calresultPartial(y_test_true,y_pred):\n",
    "    TP=0\n",
    "    TN=0\n",
    "    FP=0\n",
    "    FN=0\n",
    "    i=0\n",
    "    nument=0\n",
    "    while i<len(y_test_true):\n",
    "        j=0\n",
    "      #print(i)\n",
    "        while j <len(y_test_true[i]):\n",
    "          #print('j ',j)\n",
    "            if y_test_true[i][j]=='B-Disease':\n",
    "                st=j\n",
    "                nument=nument+1\n",
    "                j=j+1\n",
    "                while (y_test_true[i][j]=='I-Disease') and j<len(y_test_true[i]):\n",
    "                    j=j+1\n",
    "                  #print('inside ',j)\n",
    "                end=j\n",
    "                found=0\n",
    "                for k in range(st,end):\n",
    "                    if y_test_true[i][k]==y_pred[i][k]:\n",
    "                        found=1\n",
    "                        break\n",
    "                if found==1:\n",
    "                    TP=TP+1\n",
    "                else:\n",
    "                    FN=FN+1\n",
    "              \n",
    "            elif y_test_true[i][j]=='B-Chemical':\n",
    "                st=j\n",
    "                nument=nument+1\n",
    "                j=j+1\n",
    "                while (y_test_true[i][j]=='I-Chemical') and j<len(y_test_true[i]):\n",
    "                    j=j+1\n",
    "                  #print('inside ',j)\n",
    "                end=j\n",
    "                found=0\n",
    "                for k in range(st,end):\n",
    "                    if y_test_true[i][k]==y_pred[i][k]:\n",
    "                        found=1\n",
    "                        break\n",
    "                if found==1:\n",
    "                    TP=TP+1\n",
    "                else:\n",
    "                    FN=FN+1\n",
    "            elif y_test_true[i][j]=='O' and y_pred[i][j]=='O':\n",
    "                TN=TN+1\n",
    "                j=j+1\n",
    "\n",
    "            elif y_test_true[i][j]=='O' and y_pred[i][j]!='O':\n",
    "                FP=FP+1\n",
    "                j=j+1\n",
    "\n",
    "            elif y_test_true[i][j]=='PAD':\n",
    "                j=j+1\n",
    "\n",
    "\n",
    "        i=i+1\n",
    "      \n",
    "\n",
    "Precision=TP/(TP+FP)\n",
    "print(Precision)\n",
    "Recall=TP/(TP+FN)\n",
    "print(Recall)\n",
    "F1=(2*Precision*Recall)/(Precision+Recall)\n",
    "print(F1)\n",
    "mat=[[TP,FP],[FN,TN]]\n",
    "print(mat)"
   ]
  },
  {
   "cell_type": "code",
   "execution_count": 42,
   "metadata": {
    "colab": {
     "base_uri": "https://localhost:8080/",
     "height": 35
    },
    "colab_type": "code",
    "executionInfo": {
     "elapsed": 590299,
     "status": "ok",
     "timestamp": 1573483219704,
     "user": {
      "displayName": "Anant Bhavsar",
      "photoUrl": "",
      "userId": "10842212189610618468"
     },
     "user_tz": -330
    },
    "id": "19LiXLCYWEbl",
    "outputId": "6a1d1415-d097-489e-d681-8bd8e5a3cf1e"
   },
   "outputs": [
    {
     "data": {
      "text/plain": [
       "4797"
      ]
     },
     "execution_count": 42,
     "metadata": {
      "tags": []
     },
     "output_type": "execute_result"
    }
   ],
   "source": [
    "len(y_test_true)"
   ]
  },
  {
   "cell_type": "code",
   "execution_count": 43,
   "metadata": {
    "colab": {
     "base_uri": "https://localhost:8080/",
     "height": 181
    },
    "colab_type": "code",
    "executionInfo": {
     "elapsed": 591034,
     "status": "ok",
     "timestamp": 1573483220451,
     "user": {
      "displayName": "Anant Bhavsar",
      "photoUrl": "",
      "userId": "10842212189610618468"
     },
     "user_tz": -330
    },
    "id": "ofG82Ol8gX6y",
    "outputId": "6ea9b76d-acca-4d07-945a-ccf3acac0d79"
   },
   "outputs": [
    {
     "name": "stdout",
     "output_type": "stream",
     "text": [
      "0.7273592890393568\n",
      "0.7008869405647874\n",
      "0.713877784123358\n",
      "[[6875, 2577], [2934, 107999]]\n",
      "--------------------------------\n",
      "0.7386939768809572\n",
      "0.7426852890202875\n",
      "0.7406842560113874\n",
      "[[7285, 2577], [2524, 107999]]\n"
     ]
    }
   ],
   "source": [
    "calresultExact(y_test_true,y_pred)\n",
    "print('--------------------------------')\n",
    "calresultPartial(y_test_true,y_pred)"
   ]
  },
  {
   "cell_type": "code",
   "execution_count": 0,
   "metadata": {
    "colab": {},
    "colab_type": "code",
    "id": "g6cW67AFgYHu"
   },
   "outputs": [],
   "source": []
  },
  {
   "cell_type": "code",
   "execution_count": 0,
   "metadata": {
    "colab": {},
    "colab_type": "code",
    "id": "_-baBrG2WEbs"
   },
   "outputs": [],
   "source": [
    "\n",
    "    "
   ]
  },
  {
   "cell_type": "code",
   "execution_count": 0,
   "metadata": {
    "colab": {},
    "colab_type": "code",
    "id": "IbEyOG0ZWEbz"
   },
   "outputs": [],
   "source": []
  }
 ],
 "metadata": {
  "colab": {
   "collapsed_sections": [],
   "name": "Glove BC5CDR chem+disease.ipynb",
   "provenance": []
  },
  "kernelspec": {
   "display_name": "Python 3",
   "language": "python",
   "name": "python3"
  },
  "language_info": {
   "codemirror_mode": {
    "name": "ipython",
    "version": 3
   },
   "file_extension": ".py",
   "mimetype": "text/x-python",
   "name": "python",
   "nbconvert_exporter": "python",
   "pygments_lexer": "ipython3",
   "version": "3.7.0"
  }
 },
 "nbformat": 4,
 "nbformat_minor": 1
}
