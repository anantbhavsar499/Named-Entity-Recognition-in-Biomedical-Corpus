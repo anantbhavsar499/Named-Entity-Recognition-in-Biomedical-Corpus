{
 "cells": [
  {
   "cell_type": "code",
   "execution_count": null,
   "metadata": {
    "colab": {
     "base_uri": "https://localhost:8080/",
     "height": 194
    },
    "colab_type": "code",
    "executionInfo": {
     "elapsed": 80190,
     "status": "ok",
     "timestamp": 1573535380284,
     "user": {
      "displayName": "Anant Bhavsar",
      "photoUrl": "",
      "userId": "10842212189610618468"
     },
     "user_tz": -330
    },
    "id": "ARlAq1RUWNfn",
    "outputId": "4baa1084-f99f-4318-c9a0-a7cb1e74f285"
   },
   "outputs": [],
   "source": [
    "import pandas as pd\n",
    "import numpy as np\n",
    "import keras_contrib\n",
    "from keras.preprocessing.sequence import pad_sequences\n",
    "from keras.utils import to_categorical\n",
    "from keras.layers import LSTM, Dense, TimeDistributed, Embedding, Bidirectional\n",
    "from keras.models import Model, Input\n",
    "from keras_contrib.layers import CRF\n",
    "from keras.callbacks import ModelCheckpoint\n",
    "from keras.initializers import Constant\n",
    "import csv\n",
    "import codecs\n",
    "import warnings\n",
    "warnings.filterwarnings(\"ignore\")\n",
    "import random\n",
    "random.seed(10)\n",
    "from sklearn.model_selection import train_test_split\n",
    "import matplotlib.pyplot as plt\n",
    "%matplotlib inline\n",
    "import os\n",
    "\n",
    "from sklearn_crfsuite.metrics import flat_classification_report\n",
    "from sklearn.metrics import f1_score\n",
    "from seqeval.metrics import precision_score, recall_score, f1_score, classification_report\n",
    "from sklearn.metrics import confusion_matrix\n",
    "from sklearn.utils.multiclass import unique_labels\n",
    "from keras.preprocessing.text import text_to_word_sequence\n",
    "from gensim.models.keyedvectors import KeyedVectors"
   ]
  },
  {
   "cell_type": "code",
   "execution_count": 0,
   "metadata": {
    "colab": {},
    "colab_type": "code",
    "id": "G3-6XQZvWEUU"
   },
   "outputs": [],
   "source": [
    "tsvfile=open(\"NCBI-disease-IOB/train.tsv\",encoding=\"utf-8\")\n",
    "tsvreader = csv.reader(tsvfile, delimiter=\"\\t\")\n",
    "data=[]\n",
    "sentences=[]\n",
    "words=[]\n",
    "tags=[]\n",
    "maxsentlen=0\n",
    "for line in tsvreader:\n",
    "    if line!=[]:\n",
    "        data.append(line)\n",
    "        if line[0] not in words:\n",
    "            words.append(line[0])\n",
    "        if line[1] not in tags:\n",
    "            tags.append(line[1])\n",
    "    else:\n",
    "        sentences.append(data)\n",
    "        if len(data)>maxsentlen:\n",
    "            maxsentlen=len(data)\n",
    "        data=[]"
   ]
  },
  {
   "cell_type": "code",
   "execution_count": 6,
   "metadata": {
    "colab": {
     "base_uri": "https://localhost:8080/",
     "height": 53
    },
    "colab_type": "code",
    "executionInfo": {
     "elapsed": 3288,
     "status": "ok",
     "timestamp": 1573535386910,
     "user": {
      "displayName": "Anant Bhavsar",
      "photoUrl": "",
      "userId": "10842212189610618468"
     },
     "user_tz": -330
    },
    "id": "u1IVTV7nWEU3",
    "outputId": "ecf4449e-9ad8-4831-ac6e-226ea9ee59ac"
   },
   "outputs": [
    {
     "name": "stdout",
     "output_type": "stream",
     "text": [
      "5422\n",
      "9307\n"
     ]
    }
   ],
   "source": [
    "print(len(sentences))\n",
    "print(len(words))"
   ]
  },
  {
   "cell_type": "code",
   "execution_count": 7,
   "metadata": {
    "colab": {
     "base_uri": "https://localhost:8080/",
     "height": 90
    },
    "colab_type": "code",
    "executionInfo": {
     "elapsed": 2573,
     "status": "ok",
     "timestamp": 1573535386912,
     "user": {
      "displayName": "Anant Bhavsar",
      "photoUrl": "",
      "userId": "10842212189610618468"
     },
     "user_tz": -330
    },
    "id": "a9p87RdNWEVf",
    "outputId": "c07513cc-d3d1-46d1-f176-93f642d35381"
   },
   "outputs": [
    {
     "name": "stdout",
     "output_type": "stream",
     "text": [
      "2\n",
      "1\n",
      "Identification\n",
      "4\n"
     ]
    }
   ],
   "source": [
    "word_to_index = {w : i + 2 for i, w in enumerate(words)}\n",
    "print(word_to_index[words[0]])\n",
    "word_to_index[\"UNK\"] = 1\n",
    "word_to_index[\"PAD\"] = 0\n",
    "\n",
    "# Dictionary lable:index pair\n",
    "# label is key and value is index.\n",
    "tag_to_index = {t : i + 1 for i, t in enumerate(tags)}\n",
    "print(tag_to_index[tags[0]])\n",
    "\n",
    "tag_to_index[\"PAD\"] = 0\n",
    "\n",
    "idx2word = {i: w for w, i in word_to_index.items()}\n",
    "print(idx2word[2])\n",
    "idx2tag = {i: w for w, i in tag_to_index.items()}\n",
    "print(len(tag_to_index))"
   ]
  },
  {
   "cell_type": "code",
   "execution_count": 0,
   "metadata": {
    "colab": {},
    "colab_type": "code",
    "id": "MgkRWpqnWEWP"
   },
   "outputs": [],
   "source": [
    "# Number of data points passed in each iteration\n",
    "batch_size =50\n",
    "# Passes through entire dataset\n",
    "epochs = 20\n",
    "# Maximum length of review\n",
    "max_len = maxsentlen+15\n",
    "# Dimension of embedding vector\n",
    "embedding_dim= 300"
   ]
  },
  {
   "cell_type": "code",
   "execution_count": 9,
   "metadata": {
    "colab": {
     "base_uri": "https://localhost:8080/",
     "height": 164
    },
    "colab_type": "code",
    "executionInfo": {
     "elapsed": 774,
     "status": "ok",
     "timestamp": 1573535402826,
     "user": {
      "displayName": "Anant Bhavsar",
      "photoUrl": "",
      "userId": "10842212189610618468"
     },
     "user_tz": -330
    },
    "id": "_EuoNKazWEWr",
    "outputId": "b512d311-5ed5-40c7-d968-de4e56d6bfa3"
   },
   "outputs": [
    {
     "name": "stdout",
     "output_type": "stream",
     "text": [
      "[2, 3, 4, 5, 6, 7, 3, 8, 9, 10, 11, 12, 13, 14] [15, 9, 10, 11, 16, 17, 18, 12, 19, 13, 20, 21, 8, 22, 23, 24, 25, 26, 6, 27, 28, 29, 30, 31, 32, 16, 33, 19, 32, 18, 5, 34, 35, 36, 37, 38, 14]\n",
      "[['Identification', 'O'], ['of', 'O'], ['APC2', 'O'], [',', 'O'], ['a', 'O'], ['homologue', 'O'], ['of', 'O'], ['the', 'O'], ['adenomatous', 'B-Disease'], ['polyposis', 'I-Disease'], ['coli', 'I-Disease'], ['tumour', 'I-Disease'], ['suppressor', 'O'], ['.', 'O']]\n",
      "[['The', 'O'], ['adenomatous', 'B-Disease'], ['polyposis', 'I-Disease'], ['coli', 'I-Disease'], ['(', 'I-Disease'], ['APC', 'I-Disease'], [')', 'I-Disease'], ['tumour', 'I-Disease'], ['-', 'O'], ['suppressor', 'O'], ['protein', 'O'], ['controls', 'O'], ['the', 'O'], ['Wnt', 'O'], ['signalling', 'O'], ['pathway', 'O'], ['by', 'O'], ['forming', 'O'], ['a', 'O'], ['complex', 'O'], ['with', 'O'], ['glycogen', 'O'], ['synthase', 'O'], ['kinase', 'O'], ['3beta', 'O'], ['(', 'O'], ['GSK', 'O'], ['-', 'O'], ['3beta', 'O'], [')', 'O'], [',', 'O'], ['axin', 'O'], ['/', 'O'], ['conductin', 'O'], ['and', 'O'], ['betacatenin', 'O'], ['.', 'O']]\n",
      "[['Complex', 'O'], ['formation', 'O'], ['induces', 'O'], ['the', 'O'], ['rapid', 'O'], ['degradation', 'O'], ['of', 'O'], ['betacatenin', 'O'], ['.', 'O']]\n",
      "[['In', 'O'], ['colon', 'B-Disease'], ['carcinoma', 'I-Disease'], ['cells', 'O'], [',', 'O'], ['loss', 'O'], ['of', 'O'], ['APC', 'O'], ['leads', 'O'], ['to', 'O'], ['the', 'O'], ['accumulation', 'O'], ['of', 'O'], ['betacatenin', 'O'], ['in', 'O'], ['the', 'O'], ['nucleus', 'O'], [',', 'O'], ['where', 'O'], ['it', 'O'], ['binds', 'O'], ['to', 'O'], ['and', 'O'], ['activates', 'O'], ['the', 'O'], ['Tcf', 'O'], ['-', 'O'], ['4', 'O'], ['transcription', 'O'], ['factor', 'O'], ['(', 'O'], ['reviewed', 'O'], ['in', 'O'], ['[', 'O'], ['1', 'O'], [']', 'O'], ['[', 'O'], ['2', 'O'], [']', 'O'], [')', 'O'], ['.', 'O']]\n",
      "[['Here', 'O'], [',', 'O'], ['we', 'O'], ['report', 'O'], ['the', 'O'], ['identification', 'O'], ['and', 'O'], ['genomic', 'O'], ['structure', 'O'], ['of', 'O'], ['APC', 'O'], ['homologues', 'O'], ['.', 'O']]\n",
      "[['Mammalian', 'O'], ['APC2', 'O'], [',', 'O'], ['which', 'O'], ['closely', 'O'], ['resembles', 'O'], ['APC', 'O'], ['in', 'O'], ['overall', 'O'], ['domain', 'O'], ['structure', 'O'], [',', 'O'], ['was', 'O'], ['functionally', 'O'], ['analyzed', 'O'], ['and', 'O'], ['shown', 'O'], ['to', 'O'], ['contain', 'O'], ['two', 'O'], ['SAMP', 'O'], ['domains', 'O'], [',', 'O'], ['both', 'O'], ['of', 'O'], ['which', 'O'], ['are', 'O'], ['required', 'O'], ['for', 'O'], ['binding', 'O'], ['to', 'O'], ['conductin', 'O'], ['.', 'O']]\n"
     ]
    }
   ],
   "source": [
    "X = [[word_to_index[w[0]] for w in s] for s in sentences]\n",
    "print(X[0],X[1])\n",
    "count=0\n",
    "for s in sentences:\n",
    "    print(s)\n",
    "    count=count+1\n",
    "    if count>5:\n",
    "        break\n",
    "# Padding each sequence to have same length  of each word\n",
    "X = pad_sequences(maxlen = max_len, sequences = X, padding = \"post\", value = word_to_index[\"PAD\"])"
   ]
  },
  {
   "cell_type": "code",
   "execution_count": 10,
   "metadata": {
    "colab": {
     "base_uri": "https://localhost:8080/",
     "height": 144
    },
    "colab_type": "code",
    "executionInfo": {
     "elapsed": 850,
     "status": "ok",
     "timestamp": 1573535403382,
     "user": {
      "displayName": "Anant Bhavsar",
      "photoUrl": "",
      "userId": "10842212189610618468"
     },
     "user_tz": -330
    },
    "id": "z7cjgZ5OWEXB",
    "outputId": "99ca1466-e53e-4c0f-c64e-27f584bd9372"
   },
   "outputs": [
    {
     "name": "stdout",
     "output_type": "stream",
     "text": [
      "[ 2  3  4  5  6  7  3  8  9 10 11 12 13 14  0  0  0  0  0  0  0  0  0  0\n",
      "  0  0  0  0  0  0  0  0  0  0  0  0  0  0  0  0  0  0  0  0  0  0  0  0\n",
      "  0  0  0  0  0  0  0  0  0  0  0  0  0  0  0  0  0  0  0  0  0  0  0  0\n",
      "  0  0  0  0  0  0  0  0  0  0  0  0  0  0  0  0  0  0  0  0  0  0  0  0\n",
      "  0  0  0  0  0  0  0  0  0  0  0  0  0  0  0  0  0  0  0  0  0  0  0  0\n",
      "  0  0  0  0  0  0  0  0  0  0  0  0  0  0  0  0  0  0]\n"
     ]
    },
    {
     "data": {
      "text/plain": [
       "138"
      ]
     },
     "execution_count": 10,
     "metadata": {
      "tags": []
     },
     "output_type": "execute_result"
    }
   ],
   "source": [
    "print(X[0])\n",
    "len(X[0])"
   ]
  },
  {
   "cell_type": "code",
   "execution_count": 11,
   "metadata": {
    "colab": {
     "base_uri": "https://localhost:8080/",
     "height": 35
    },
    "colab_type": "code",
    "executionInfo": {
     "elapsed": 762,
     "status": "ok",
     "timestamp": 1573535403868,
     "user": {
      "displayName": "Anant Bhavsar",
      "photoUrl": "",
      "userId": "10842212189610618468"
     },
     "user_tz": -330
    },
    "id": "9mBsa7QDWEXU",
    "outputId": "6086bb4c-f0f3-4406-dc9f-d509e84f5ad7"
   },
   "outputs": [
    {
     "name": "stdout",
     "output_type": "stream",
     "text": [
      "[1, 1, 1, 1, 1, 1, 1, 1, 2, 3, 3, 3, 1, 1]\n"
     ]
    }
   ],
   "source": [
    "# Convert label to index\n",
    "y = [[tag_to_index[w[1]] for w in s] for s in sentences]\n",
    "print(y[0])\n",
    "# padding\n",
    "y = pad_sequences(maxlen = max_len, sequences = y, padding = \"post\", value = tag_to_index[\"PAD\"])"
   ]
  },
  {
   "cell_type": "code",
   "execution_count": 12,
   "metadata": {
    "colab": {
     "base_uri": "https://localhost:8080/",
     "height": 72
    },
    "colab_type": "code",
    "executionInfo": {
     "elapsed": 839,
     "status": "ok",
     "timestamp": 1573535404420,
     "user": {
      "displayName": "Anant Bhavsar",
      "photoUrl": "",
      "userId": "10842212189610618468"
     },
     "user_tz": -330
    },
    "id": "X2fyCjskWEXk",
    "outputId": "ddc4816c-8280-4dec-935e-5c05402a4461"
   },
   "outputs": [
    {
     "name": "stdout",
     "output_type": "stream",
     "text": [
      "3\n",
      "[0. 1. 0. 0.] [1. 0. 0. 0.]\n",
      "4\n"
     ]
    }
   ],
   "source": [
    "num_tag = 3\n",
    "print(num_tag)\n",
    "# One hot encoded labels\n",
    "y = [to_categorical(i, num_classes = num_tag + 1) for i in y]\n",
    "print(y[0][1],y[0][18])\n",
    "print(len(y[0][1]))"
   ]
  },
  {
   "cell_type": "code",
   "execution_count": 15,
   "metadata": {
    "colab": {
     "base_uri": "https://localhost:8080/",
     "height": 199
    },
    "colab_type": "code",
    "executionInfo": {
     "elapsed": 1187,
     "status": "ok",
     "timestamp": 1573535406186,
     "user": {
      "displayName": "Anant Bhavsar",
      "photoUrl": "",
      "userId": "10842212189610618468"
     },
     "user_tz": -330
    },
    "id": "WssrPkOGWEYX",
    "outputId": "d7caf1e0-489f-4414-ccf2-e73254b1512f"
   },
   "outputs": [
    {
     "name": "stdout",
     "output_type": "stream",
     "text": [
      "*****Before Processing first sentence : *****\n",
      " Identification of APC2 , a homologue of the adenomatous polyposis coli tumour suppressor .\n",
      "*****After Processing first sentence : *****\n",
      "  [ 2  3  4  5  6  7  3  8  9 10 11 12 13 14  0  0  0  0  0  0  0  0  0  0\n",
      "  0  0  0  0  0  0  0  0  0  0  0  0  0  0  0  0  0  0  0  0  0  0  0  0\n",
      "  0  0  0  0  0  0  0  0  0  0  0  0  0  0  0  0  0  0  0  0  0  0  0  0\n",
      "  0  0  0  0  0  0  0  0  0  0  0  0  0  0  0  0  0  0  0  0  0  0  0  0\n",
      "  0  0  0  0  0  0  0  0  0  0  0  0  0  0  0  0  0  0  0  0  0  0  0  0\n",
      "  0  0  0  0  0  0  0  0  0  0  0  0  0  0  0  0  0  0]\n"
     ]
    },
    {
     "data": {
      "text/plain": [
       "138"
      ]
     },
     "execution_count": 15,
     "metadata": {
      "tags": []
     },
     "output_type": "execute_result"
    }
   ],
   "source": [
    "# Let's check the first sentence before and after processing.\n",
    "print('*****Before Processing first sentence : *****\\n', ' '.join([w[0] for w in sentences[0]]))\n",
    "print('*****After Processing first sentence : *****\\n ', X[0])\n",
    "len(X[0])"
   ]
  },
  {
   "cell_type": "code",
   "execution_count": 16,
   "metadata": {
    "colab": {
     "base_uri": "https://localhost:8080/",
     "height": 1000
    },
    "colab_type": "code",
    "executionInfo": {
     "elapsed": 1315,
     "status": "ok",
     "timestamp": 1573535406729,
     "user": {
      "displayName": "Anant Bhavsar",
      "photoUrl": "",
      "userId": "10842212189610618468"
     },
     "user_tz": -330
    },
    "id": "_sBzOCBPWEYf",
    "outputId": "9b02f41f-5315-4da0-fb67-34e2345e077c"
   },
   "outputs": [
    {
     "name": "stdout",
     "output_type": "stream",
     "text": [
      "*****Before Processing first sentence : *****\n",
      " O O O O O O O O B-Disease I-Disease I-Disease I-Disease O O\n",
      "*****After Processing first sentence : *****\n",
      "  [[0. 1. 0. 0.]\n",
      " [0. 1. 0. 0.]\n",
      " [0. 1. 0. 0.]\n",
      " [0. 1. 0. 0.]\n",
      " [0. 1. 0. 0.]\n",
      " [0. 1. 0. 0.]\n",
      " [0. 1. 0. 0.]\n",
      " [0. 1. 0. 0.]\n",
      " [0. 0. 1. 0.]\n",
      " [0. 0. 0. 1.]\n",
      " [0. 0. 0. 1.]\n",
      " [0. 0. 0. 1.]\n",
      " [0. 1. 0. 0.]\n",
      " [0. 1. 0. 0.]\n",
      " [1. 0. 0. 0.]\n",
      " [1. 0. 0. 0.]\n",
      " [1. 0. 0. 0.]\n",
      " [1. 0. 0. 0.]\n",
      " [1. 0. 0. 0.]\n",
      " [1. 0. 0. 0.]\n",
      " [1. 0. 0. 0.]\n",
      " [1. 0. 0. 0.]\n",
      " [1. 0. 0. 0.]\n",
      " [1. 0. 0. 0.]\n",
      " [1. 0. 0. 0.]\n",
      " [1. 0. 0. 0.]\n",
      " [1. 0. 0. 0.]\n",
      " [1. 0. 0. 0.]\n",
      " [1. 0. 0. 0.]\n",
      " [1. 0. 0. 0.]\n",
      " [1. 0. 0. 0.]\n",
      " [1. 0. 0. 0.]\n",
      " [1. 0. 0. 0.]\n",
      " [1. 0. 0. 0.]\n",
      " [1. 0. 0. 0.]\n",
      " [1. 0. 0. 0.]\n",
      " [1. 0. 0. 0.]\n",
      " [1. 0. 0. 0.]\n",
      " [1. 0. 0. 0.]\n",
      " [1. 0. 0. 0.]\n",
      " [1. 0. 0. 0.]\n",
      " [1. 0. 0. 0.]\n",
      " [1. 0. 0. 0.]\n",
      " [1. 0. 0. 0.]\n",
      " [1. 0. 0. 0.]\n",
      " [1. 0. 0. 0.]\n",
      " [1. 0. 0. 0.]\n",
      " [1. 0. 0. 0.]\n",
      " [1. 0. 0. 0.]\n",
      " [1. 0. 0. 0.]\n",
      " [1. 0. 0. 0.]\n",
      " [1. 0. 0. 0.]\n",
      " [1. 0. 0. 0.]\n",
      " [1. 0. 0. 0.]\n",
      " [1. 0. 0. 0.]\n",
      " [1. 0. 0. 0.]\n",
      " [1. 0. 0. 0.]\n",
      " [1. 0. 0. 0.]\n",
      " [1. 0. 0. 0.]\n",
      " [1. 0. 0. 0.]\n",
      " [1. 0. 0. 0.]\n",
      " [1. 0. 0. 0.]\n",
      " [1. 0. 0. 0.]\n",
      " [1. 0. 0. 0.]\n",
      " [1. 0. 0. 0.]\n",
      " [1. 0. 0. 0.]\n",
      " [1. 0. 0. 0.]\n",
      " [1. 0. 0. 0.]\n",
      " [1. 0. 0. 0.]\n",
      " [1. 0. 0. 0.]\n",
      " [1. 0. 0. 0.]\n",
      " [1. 0. 0. 0.]\n",
      " [1. 0. 0. 0.]\n",
      " [1. 0. 0. 0.]\n",
      " [1. 0. 0. 0.]\n",
      " [1. 0. 0. 0.]\n",
      " [1. 0. 0. 0.]\n",
      " [1. 0. 0. 0.]\n",
      " [1. 0. 0. 0.]\n",
      " [1. 0. 0. 0.]\n",
      " [1. 0. 0. 0.]\n",
      " [1. 0. 0. 0.]\n",
      " [1. 0. 0. 0.]\n",
      " [1. 0. 0. 0.]\n",
      " [1. 0. 0. 0.]\n",
      " [1. 0. 0. 0.]\n",
      " [1. 0. 0. 0.]\n",
      " [1. 0. 0. 0.]\n",
      " [1. 0. 0. 0.]\n",
      " [1. 0. 0. 0.]\n",
      " [1. 0. 0. 0.]\n",
      " [1. 0. 0. 0.]\n",
      " [1. 0. 0. 0.]\n",
      " [1. 0. 0. 0.]\n",
      " [1. 0. 0. 0.]\n",
      " [1. 0. 0. 0.]\n",
      " [1. 0. 0. 0.]\n",
      " [1. 0. 0. 0.]\n",
      " [1. 0. 0. 0.]\n",
      " [1. 0. 0. 0.]\n",
      " [1. 0. 0. 0.]\n",
      " [1. 0. 0. 0.]\n",
      " [1. 0. 0. 0.]\n",
      " [1. 0. 0. 0.]\n",
      " [1. 0. 0. 0.]\n",
      " [1. 0. 0. 0.]\n",
      " [1. 0. 0. 0.]\n",
      " [1. 0. 0. 0.]\n",
      " [1. 0. 0. 0.]\n",
      " [1. 0. 0. 0.]\n",
      " [1. 0. 0. 0.]\n",
      " [1. 0. 0. 0.]\n",
      " [1. 0. 0. 0.]\n",
      " [1. 0. 0. 0.]\n",
      " [1. 0. 0. 0.]\n",
      " [1. 0. 0. 0.]\n",
      " [1. 0. 0. 0.]\n",
      " [1. 0. 0. 0.]\n",
      " [1. 0. 0. 0.]\n",
      " [1. 0. 0. 0.]\n",
      " [1. 0. 0. 0.]\n",
      " [1. 0. 0. 0.]\n",
      " [1. 0. 0. 0.]\n",
      " [1. 0. 0. 0.]\n",
      " [1. 0. 0. 0.]\n",
      " [1. 0. 0. 0.]\n",
      " [1. 0. 0. 0.]\n",
      " [1. 0. 0. 0.]\n",
      " [1. 0. 0. 0.]\n",
      " [1. 0. 0. 0.]\n",
      " [1. 0. 0. 0.]\n",
      " [1. 0. 0. 0.]\n",
      " [1. 0. 0. 0.]\n",
      " [1. 0. 0. 0.]\n",
      " [1. 0. 0. 0.]\n",
      " [1. 0. 0. 0.]\n",
      " [1. 0. 0. 0.]\n",
      " [1. 0. 0. 0.]]\n"
     ]
    }
   ],
   "source": [
    "# First label before and after processing.\n",
    "print('*****Before Processing first sentence : *****\\n', ' '.join([w[1] for w in sentences[0]]))\n",
    "print('*****After Processing first sentence : *****\\n ', y[0])"
   ]
  },
  {
   "cell_type": "code",
   "execution_count": 19,
   "metadata": {
    "colab": {
     "base_uri": "https://localhost:8080/",
     "height": 92
    },
    "colab_type": "code",
    "executionInfo": {
     "elapsed": 86458,
     "status": "ok",
     "timestamp": 1573535502442,
     "user": {
      "displayName": "Anant Bhavsar",
      "photoUrl": "",
      "userId": "10842212189610618468"
     },
     "user_tz": -330
    },
    "id": "9Ohut9VvWEY0",
    "outputId": "69343d8b-737d-4a8f-dde1-2ffd8c730f53"
   },
   "outputs": [
    {
     "name": "stdout",
     "output_type": "stream",
     "text": [
      "Found 633966 word vectors.\n",
      "300\n",
      "[-0.170414, 0.124066, -0.11531, -0.48346, -0.010218, 0.212453, -0.059106, -0.011211, -0.273115, -0.031161, -0.061578, -0.246429, 0.301874, -0.047402, -0.179771, -0.103855, -0.247374, 0.330996, 0.041749, 0.447276, 0.482648, 0.365678, 0.092462, 0.301248, -0.023064, -0.089027, 0.14914, 0.756354, 0.450109, -0.406125, 0.457199, 0.07989, -0.307475, 0.030622, 0.341248, 0.22113, 0.801639, 0.474214, 0.176855, -0.025022, -0.626881, 0.349852, -0.119905, 0.289109, -0.448433, 0.212642, 0.43373, -0.498386, 0.559984, -0.237298, -0.364749, 0.247834, 0.71511, -0.27462, 0.243815, 0.33679, 0.156935, 0.113424, 0.469642, 0.394421, -0.89875, 0.13933, -0.088935, 0.015076, 0.671514, -0.172198, -0.084477, 0.430311, -0.582824, -0.035599, -0.487345, -0.145008, 0.031857, 0.366613, -0.09774, -0.54506, -0.249634, -0.728636, -0.122298, 0.262496, 0.163828, 0.122999, -0.085251, -1.438981, 0.403183, -0.475071, 0.549353, 0.097049, 0.352601, -0.062208, -0.377554, -0.666492, -0.284039, 0.716469, -0.150722, 0.198244, -0.743382, -0.471181, 0.11104, -0.098473, 0.163066, -0.632568, -0.156689, 0.037473, 0.152831, 0.180355, 0.142431, 0.279873, -0.246666, 0.236246, -0.280316, -0.077769, -0.307514, -0.499422, 0.192188, -0.408328, -0.524072, 0.321106, 0.01078, -0.034761, -0.475136, 1.291046, 0.426161, 0.39217, -0.835967, 0.559252, -0.215671, -0.462989, 1.236053, 0.106104, 0.067093, 0.039589, -0.303975, 0.135264, -0.35036, 0.16865, 0.260421, 0.206752, -0.004692, 0.394891, -0.539677, -0.289383, -0.643675, -0.307797, 0.331631, -0.048454, 0.05399, 0.444651, 0.283156, 0.024759, -0.35893, -0.460292, -0.597505, -0.000444, 0.383449, 0.545623, -0.909765, -0.066814, 0.057099, -0.070059, -0.23232, -1.039006, 0.77128, 0.597642, 0.301205, 0.389942, -0.093964, -0.409819, -0.670384, -0.486743, 1.864385, 0.432253, 0.069266, -0.034042, -0.347643, 1.035753, 0.303787, 0.024729, 0.454566, 0.240542, -0.331298, -0.230573, 1.046141, 0.024324, -1.072177, -0.381531, 0.068838, -0.042781, -0.208765, -0.157947, 0.710806, -0.081709, 0.709865, -0.506195, 0.375456, 0.949509, 0.002492, -0.883619, -0.019969, 1.002601, 0.350447, 0.001172, 0.003173, -1.092102, 0.074923, 0.563987, -0.055004, 0.426667, -0.381615, 0.355836, -0.475951, 0.060872, -0.194873, 0.108929, -0.118968, 0.246591, 0.066958, 0.253231, -0.230508, 0.154434, 0.449996, -0.208901, -0.018569, -0.364482, -0.124095, -0.363414, 0.360864, -0.029166, 0.715297, 0.164127, -0.457092, -0.177558, 0.583627, -0.362574, -0.10053, 0.360964, 0.315243, -0.044861, -0.142878, -0.015346, 0.610736, -0.300923, 0.609168, -0.095663, -0.011876, 0.382148, -0.148027, -0.496645, 0.238309, 0.294103, 0.628948, -0.445417, 0.239359, 0.250474, -0.323316, -0.353218, 0.185682, 0.224884, 0.590652, 0.07382, -0.516833, -0.634492, 1.167631, 0.022517, -0.041888, 0.394413, -0.229567, -0.088543, 0.773214, -0.294872, 0.683453, 0.083151, 0.624374, 0.216972, 0.256139, -0.390673, 0.163267, 0.460982, 0.305664, -0.492733, -0.215084, 0.185517, 0.093102, -0.288311, 0.233094, 0.210525, 0.192988, 0.785027, -0.082729, 0.163365, 0.570438, 0.531331, -0.096771, 0.39075, -0.349343, 0.370546, 0.444471, 0.093277, 0.134453, -0.404278]\n"
     ]
    }
   ],
   "source": [
    "path = \"Embedding/bio_GloVe_300.txt\"\n",
    "f = codecs.open(path, 'r', encoding='utf-8')\n",
    "embeddings_index = {}\n",
    "for line in f:\n",
    "    split_line = line.split()\n",
    "    word = split_line[0]\n",
    "    embedding1 = np.array([float(val) for val in split_line[1:]])\n",
    "    embeddings_index[word] = embedding1\n",
    "print('Found %s word vectors.' % len(embeddings_index))\n",
    "emb=embeddings_index['gene'].tolist()\n",
    "print(len(emb))\n",
    "print(emb)"
   ]
  },
  {
   "cell_type": "code",
   "execution_count": 0,
   "metadata": {
    "colab": {},
    "colab_type": "code",
    "id": "KFfUTA7eWEY7"
   },
   "outputs": [],
   "source": [
    "num_words=len(word_to_index) + 1\n",
    "embedding_matrix = np.zeros((len(words)+2, embedding_dim))\n",
    "for word, i in word_to_index.items():\n",
    "    embedding_vector = embeddings_index.get(word)\n",
    "    if embedding_vector is not None:\n",
    "        # words not found in embedding index will be all-zeros.\n",
    "        embedding_matrix[i] = embedding_vector"
   ]
  },
  {
   "cell_type": "code",
   "execution_count": 21,
   "metadata": {
    "colab": {
     "base_uri": "https://localhost:8080/",
     "height": 73
    },
    "colab_type": "code",
    "executionInfo": {
     "elapsed": 79911,
     "status": "ok",
     "timestamp": 1573535502445,
     "user": {
      "displayName": "Anant Bhavsar",
      "photoUrl": "",
      "userId": "10842212189610618468"
     },
     "user_tz": -330
    },
    "id": "N6MRYkYKWEZC",
    "outputId": "33d18cdf-97a6-427b-b1e1-d25a09355a4f"
   },
   "outputs": [
    {
     "name": "stdout",
     "output_type": "stream",
     "text": [
      "WARNING:tensorflow:From /usr/local/lib/python3.6/dist-packages/keras/backend/tensorflow_backend.py:66: The name tf.get_default_graph is deprecated. Please use tf.compat.v1.get_default_graph instead.\n",
      "\n"
     ]
    }
   ],
   "source": [
    "embedding_layer = Embedding(len(words)+2,\n",
    "                            embedding_dim,\n",
    "                            embeddings_initializer=Constant(embedding_matrix),\n",
    "                            input_length=max_len,\n",
    "                            trainable=False)"
   ]
  },
  {
   "cell_type": "code",
   "execution_count": 22,
   "metadata": {
    "colab": {
     "base_uri": "https://localhost:8080/",
     "height": 618
    },
    "colab_type": "code",
    "executionInfo": {
     "elapsed": 1832,
     "status": "ok",
     "timestamp": 1573535504295,
     "user": {
      "displayName": "Anant Bhavsar",
      "photoUrl": "",
      "userId": "10842212189610618468"
     },
     "user_tz": -330
    },
    "id": "qh3Z5RR5WEZL",
    "outputId": "d8d7bb24-18a1-4a54-e242-07d248a22688"
   },
   "outputs": [
    {
     "name": "stdout",
     "output_type": "stream",
     "text": [
      "WARNING:tensorflow:From /usr/local/lib/python3.6/dist-packages/keras/backend/tensorflow_backend.py:541: The name tf.placeholder is deprecated. Please use tf.compat.v1.placeholder instead.\n",
      "\n",
      "WARNING:tensorflow:From /usr/local/lib/python3.6/dist-packages/keras/backend/tensorflow_backend.py:4432: The name tf.random_uniform is deprecated. Please use tf.random.uniform instead.\n",
      "\n",
      "WARNING:tensorflow:From /usr/local/lib/python3.6/dist-packages/keras/backend/tensorflow_backend.py:148: The name tf.placeholder_with_default is deprecated. Please use tf.compat.v1.placeholder_with_default instead.\n",
      "\n",
      "WARNING:tensorflow:From /usr/local/lib/python3.6/dist-packages/keras/backend/tensorflow_backend.py:3733: calling dropout (from tensorflow.python.ops.nn_ops) with keep_prob is deprecated and will be removed in a future version.\n",
      "Instructions for updating:\n",
      "Please use `rate` instead of `keep_prob`. Rate should be set to `rate = 1 - keep_prob`.\n",
      "WARNING:tensorflow:From /usr/local/lib/python3.6/dist-packages/keras/optimizers.py:793: The name tf.train.Optimizer is deprecated. Please use tf.compat.v1.train.Optimizer instead.\n",
      "\n",
      "WARNING:tensorflow:From /usr/local/lib/python3.6/dist-packages/tensorflow_core/python/ops/math_ops.py:2509: where (from tensorflow.python.ops.array_ops) is deprecated and will be removed in a future version.\n",
      "Instructions for updating:\n",
      "Use tf.where in 2.0, which has the same broadcast rule as np.where\n",
      "Model: \"model_1\"\n",
      "_________________________________________________________________\n",
      "Layer (type)                 Output Shape              Param #   \n",
      "=================================================================\n",
      "input_1 (InputLayer)         (None, 138)               0         \n",
      "_________________________________________________________________\n",
      "embedding_1 (Embedding)      (None, 138, 300)          2792700   \n",
      "_________________________________________________________________\n",
      "bidirectional_1 (Bidirection (None, 138, 200)          320800    \n",
      "_________________________________________________________________\n",
      "time_distributed_1 (TimeDist (None, 138, 50)           10050     \n",
      "_________________________________________________________________\n",
      "crf_1 (CRF)                  (None, 138, 4)            228       \n",
      "=================================================================\n",
      "Total params: 3,123,778\n",
      "Trainable params: 331,078\n",
      "Non-trainable params: 2,792,700\n",
      "_________________________________________________________________\n"
     ]
    }
   ],
   "source": [
    "num_tags = 3\n",
    "# Model architecture\n",
    "input = Input(shape = (max_len,))\n",
    "#model = Embedding(input_dim = len(words) + 2, output_dim = embedding_dim, input_length = max_len, mask_zero = True)(input)\n",
    "model=embedding_layer(input)\n",
    "model = Bidirectional(LSTM(units = 100, return_sequences=True, recurrent_dropout=0.1))(model)\n",
    "crf = CRF(num_tags+1)  # CRF layer\n",
    "out = crf(model)  # output\n",
    "\n",
    "model = Model(input, out)\n",
    "model.compile(optimizer=\"rmsprop\", loss=crf.loss_function, metrics=[crf.accuracy])\n",
    "\n",
    "#model.summary()"
   ]
  },
  {
   "cell_type": "code",
   "execution_count": 0,
   "metadata": {
    "colab": {},
    "colab_type": "code",
    "id": "XHX5Ee81WEZR"
   },
   "outputs": [],
   "source": [
    "checkpointer = ModelCheckpoint(filepath = 'model.h5',\n",
    "                       verbose = 0,\n",
    "                       mode = 'auto',\n",
    "                       save_best_only = True,\n",
    "                       monitor='val_loss')"
   ]
  },
  {
   "cell_type": "code",
   "execution_count": 24,
   "metadata": {
    "colab": {
     "base_uri": "https://localhost:8080/",
     "height": 1000
    },
    "colab_type": "code",
    "executionInfo": {
     "elapsed": 1102852,
     "status": "ok",
     "timestamp": 1573536605337,
     "user": {
      "displayName": "Anant Bhavsar",
      "photoUrl": "",
      "userId": "10842212189610618468"
     },
     "user_tz": -330
    },
    "id": "BeneuONlWEZX",
    "outputId": "be3f043b-291f-48a2-ef5d-6f672c7202f9"
   },
   "outputs": [
    {
     "name": "stdout",
     "output_type": "stream",
     "text": [
      "WARNING:tensorflow:From /usr/local/lib/python3.6/dist-packages/keras/backend/tensorflow_backend.py:1033: The name tf.assign_add is deprecated. Please use tf.compat.v1.assign_add instead.\n",
      "\n",
      "WARNING:tensorflow:From /usr/local/lib/python3.6/dist-packages/keras/backend/tensorflow_backend.py:1020: The name tf.assign is deprecated. Please use tf.compat.v1.assign instead.\n",
      "\n",
      "WARNING:tensorflow:From /usr/local/lib/python3.6/dist-packages/keras/backend/tensorflow_backend.py:3005: The name tf.Session is deprecated. Please use tf.compat.v1.Session instead.\n",
      "\n",
      "Train on 4879 samples, validate on 543 samples\n",
      "Epoch 1/20\n",
      "WARNING:tensorflow:From /usr/local/lib/python3.6/dist-packages/keras/backend/tensorflow_backend.py:190: The name tf.get_default_session is deprecated. Please use tf.compat.v1.get_default_session instead.\n",
      "\n",
      "WARNING:tensorflow:From /usr/local/lib/python3.6/dist-packages/keras/backend/tensorflow_backend.py:197: The name tf.ConfigProto is deprecated. Please use tf.compat.v1.ConfigProto instead.\n",
      "\n",
      "WARNING:tensorflow:From /usr/local/lib/python3.6/dist-packages/keras/backend/tensorflow_backend.py:207: The name tf.global_variables is deprecated. Please use tf.compat.v1.global_variables instead.\n",
      "\n",
      "WARNING:tensorflow:From /usr/local/lib/python3.6/dist-packages/keras/backend/tensorflow_backend.py:216: The name tf.is_variable_initialized is deprecated. Please use tf.compat.v1.is_variable_initialized instead.\n",
      "\n",
      "WARNING:tensorflow:From /usr/local/lib/python3.6/dist-packages/keras/backend/tensorflow_backend.py:223: The name tf.variables_initializer is deprecated. Please use tf.compat.v1.variables_initializer instead.\n",
      "\n",
      "4879/4879 [==============================] - 57s 12ms/step - loss: 0.1061 - crf_viterbi_accuracy: 0.9636 - val_loss: 0.0233 - val_crf_viterbi_accuracy: 0.9910\n",
      "Epoch 2/20\n",
      "4879/4879 [==============================] - 55s 11ms/step - loss: 0.0237 - crf_viterbi_accuracy: 0.9915 - val_loss: 0.0167 - val_crf_viterbi_accuracy: 0.9936\n",
      "Epoch 3/20\n",
      "4879/4879 [==============================] - 54s 11ms/step - loss: 0.0172 - crf_viterbi_accuracy: 0.9934 - val_loss: 0.0141 - val_crf_viterbi_accuracy: 0.9940\n",
      "Epoch 4/20\n",
      "4879/4879 [==============================] - 54s 11ms/step - loss: 0.0135 - crf_viterbi_accuracy: 0.9945 - val_loss: 0.0109 - val_crf_viterbi_accuracy: 0.9951\n",
      "Epoch 5/20\n",
      "4879/4879 [==============================] - 54s 11ms/step - loss: 0.0107 - crf_viterbi_accuracy: 0.9951 - val_loss: 0.0097 - val_crf_viterbi_accuracy: 0.9952\n",
      "Epoch 6/20\n",
      "4879/4879 [==============================] - 53s 11ms/step - loss: 0.0082 - crf_viterbi_accuracy: 0.9959 - val_loss: 0.0085 - val_crf_viterbi_accuracy: 0.9952\n",
      "Epoch 7/20\n",
      "4879/4879 [==============================] - 55s 11ms/step - loss: 0.0061 - crf_viterbi_accuracy: 0.9964 - val_loss: 0.0066 - val_crf_viterbi_accuracy: 0.9957\n",
      "Epoch 8/20\n",
      "4879/4879 [==============================] - 54s 11ms/step - loss: 0.0043 - crf_viterbi_accuracy: 0.9968 - val_loss: 0.0072 - val_crf_viterbi_accuracy: 0.9948\n",
      "Epoch 9/20\n",
      "4879/4879 [==============================] - 53s 11ms/step - loss: 0.0026 - crf_viterbi_accuracy: 0.9972 - val_loss: 0.0053 - val_crf_viterbi_accuracy: 0.9954\n",
      "Epoch 10/20\n",
      "4879/4879 [==============================] - 54s 11ms/step - loss: 0.0011 - crf_viterbi_accuracy: 0.9976 - val_loss: 0.0057 - val_crf_viterbi_accuracy: 0.9951\n",
      "Epoch 11/20\n",
      "4879/4879 [==============================] - 53s 11ms/step - loss: -4.8560e-04 - crf_viterbi_accuracy: 0.9979 - val_loss: 0.0055 - val_crf_viterbi_accuracy: 0.9953\n",
      "Epoch 12/20\n",
      "4879/4879 [==============================] - 54s 11ms/step - loss: -0.0018 - crf_viterbi_accuracy: 0.9981 - val_loss: 0.0042 - val_crf_viterbi_accuracy: 0.9955\n",
      "Epoch 13/20\n",
      "4879/4879 [==============================] - 57s 12ms/step - loss: -0.0031 - crf_viterbi_accuracy: 0.9984 - val_loss: 0.0033 - val_crf_viterbi_accuracy: 0.9959\n",
      "Epoch 14/20\n",
      "4879/4879 [==============================] - 57s 12ms/step - loss: -0.0043 - crf_viterbi_accuracy: 0.9987 - val_loss: 0.0028 - val_crf_viterbi_accuracy: 0.9954\n",
      "Epoch 15/20\n",
      "4879/4879 [==============================] - 57s 12ms/step - loss: -0.0054 - crf_viterbi_accuracy: 0.9988 - val_loss: 0.0044 - val_crf_viterbi_accuracy: 0.9945\n",
      "Epoch 16/20\n",
      "4879/4879 [==============================] - 56s 11ms/step - loss: -0.0066 - crf_viterbi_accuracy: 0.9990 - val_loss: 0.0018 - val_crf_viterbi_accuracy: 0.9956\n",
      "Epoch 17/20\n",
      "4879/4879 [==============================] - 56s 11ms/step - loss: -0.0076 - crf_viterbi_accuracy: 0.9991 - val_loss: 0.0026 - val_crf_viterbi_accuracy: 0.9957\n",
      "Epoch 18/20\n",
      "4879/4879 [==============================] - 54s 11ms/step - loss: -0.0087 - crf_viterbi_accuracy: 0.9993 - val_loss: 0.0026 - val_crf_viterbi_accuracy: 0.9952\n",
      "Epoch 19/20\n",
      "4879/4879 [==============================] - 55s 11ms/step - loss: -0.0097 - crf_viterbi_accuracy: 0.9994 - val_loss: 0.0028 - val_crf_viterbi_accuracy: 0.9951\n",
      "Epoch 20/20\n",
      "4879/4879 [==============================] - 55s 11ms/step - loss: -0.0106 - crf_viterbi_accuracy: 0.9995 - val_loss: 0.0027 - val_crf_viterbi_accuracy: 0.9953\n"
     ]
    }
   ],
   "source": [
    "history = model.fit(X, np.array(y), batch_size=batch_size, epochs=epochs,\n",
    "                    validation_split=0.1)"
   ]
  },
  {
   "cell_type": "code",
   "execution_count": 25,
   "metadata": {
    "colab": {
     "base_uri": "https://localhost:8080/",
     "height": 517
    },
    "colab_type": "code",
    "executionInfo": {
     "elapsed": 1102845,
     "status": "ok",
     "timestamp": 1573536605342,
     "user": {
      "displayName": "Anant Bhavsar",
      "photoUrl": "",
      "userId": "10842212189610618468"
     },
     "user_tz": -330
    },
    "id": "dkLaf6s6WEZg",
    "outputId": "7170879a-8c4b-49cc-bb95-dd4f1d264566"
   },
   "outputs": [
    {
     "data": {
      "text/plain": [
       "<matplotlib.legend.Legend at 0x7f8f18b9a3c8>"
      ]
     },
     "execution_count": 25,
     "metadata": {
      "tags": []
     },
     "output_type": "execute_result"
    },
    {
     "data": {
      "image/png": "[encoded data removed]",
      "text/plain": [
       "<Figure size 576x576 with 1 Axes>"
      ]
     },
     "metadata": {
      "tags": []
     },
     "output_type": "display_data"
    }
   ],
   "source": [
    "acc = history.history['crf_viterbi_accuracy']\n",
    "val_acc = history.history['val_crf_viterbi_accuracy']\n",
    "loss = history.history['loss']\n",
    "val_loss = history.history['val_loss']\n",
    "plt.figure(figsize = (8, 8))\n",
    "epochs = range(1, len(acc) + 1)\n",
    "plt.plot(epochs, acc, 'bo', label='Training acc')\n",
    "plt.plot(epochs, val_acc, 'b', label='Validation acc')\n",
    "plt.title('Training and validation accuracy')\n",
    "plt.legend()"
   ]
  },
  {
   "cell_type": "code",
   "execution_count": 26,
   "metadata": {
    "colab": {
     "base_uri": "https://localhost:8080/",
     "height": 499
    },
    "colab_type": "code",
    "executionInfo": {
     "elapsed": 1102834,
     "status": "ok",
     "timestamp": 1573536605343,
     "user": {
      "displayName": "Anant Bhavsar",
      "photoUrl": "",
      "userId": "10842212189610618468"
     },
     "user_tz": -330
    },
    "id": "Kk9iwtYOWEZp",
    "outputId": "e06fc8aa-edec-439c-dfce-810c01af6d29"
   },
   "outputs": [
    {
     "data": {
      "image/png": "[encoded data removed]",
      "text/plain": [
       "<Figure size 576x576 with 1 Axes>"
      ]
     },
     "metadata": {
      "tags": []
     },
     "output_type": "display_data"
    }
   ],
   "source": [
    "plt.figure(figsize = (8, 8))\n",
    "plt.plot(epochs, loss, 'bo', label='Training loss')\n",
    "plt.plot(epochs, val_loss, 'b', label='Validation loss')\n",
    "plt.title('Training and validation loss')\n",
    "plt.legend()\n",
    "plt.show()"
   ]
  },
  {
   "cell_type": "code",
   "execution_count": 31,
   "metadata": {
    "colab": {
     "base_uri": "https://localhost:8080/",
     "height": 201
    },
    "colab_type": "code",
    "executionInfo": {
     "elapsed": 1104410,
     "status": "ok",
     "timestamp": 1573536606972,
     "user": {
      "displayName": "Anant Bhavsar",
      "photoUrl": "",
      "userId": "10842212189610618468"
     },
     "user_tz": -330
    },
    "id": "DJC3kudgWEab",
    "outputId": "925bf51c-2dbb-4ca4-f11e-fb8e9c18482c"
   },
   "outputs": [
    {
     "name": "stdout",
     "output_type": "stream",
     "text": [
      "[1, 3, 532, 219, 52, 8, 2065, 19, 2066, 135, 52, 6, 696, 145, 19, 489, 1, 14] [3270, 19, 2066, 16, 116, 19, 145, 18, 285, 6, 509, 5404, 19, 1024, 789, 1251, 25, 219, 52, 8, 2067, 135, 146, 5336, 19, 1, 16, 4407, 14, 108, 18, 14]\n",
      "[['Clustering', 'O'], ['of', 'O'], ['missense', 'O'], ['mutations', 'O'], ['in', 'O'], ['the', 'O'], ['ataxia', 'B-Disease'], ['-', 'I-Disease'], ['telangiectasia', 'I-Disease'], ['gene', 'O'], ['in', 'O'], ['a', 'O'], ['sporadic', 'B-Disease'], ['T', 'I-Disease'], ['-', 'I-Disease'], ['cell', 'I-Disease'], ['leukaemia', 'I-Disease'], ['.', 'O']]\n",
      "[['Ataxia', 'B-Disease'], ['-', 'I-Disease'], ['telangiectasia', 'I-Disease'], ['(', 'O'], ['A', 'B-Disease'], ['-', 'I-Disease'], ['T', 'I-Disease'], [')', 'O'], ['is', 'O'], ['a', 'O'], ['recessive', 'B-Disease'], ['multi', 'I-Disease'], ['-', 'I-Disease'], ['system', 'I-Disease'], ['disorder', 'I-Disease'], ['caused', 'O'], ['by', 'O'], ['mutations', 'O'], ['in', 'O'], ['the', 'O'], ['ATM', 'O'], ['gene', 'O'], ['at', 'O'], ['11q22', 'O'], ['-', 'O'], ['q23', 'O'], ['(', 'O'], ['ref', 'O'], ['.', 'O'], ['3', 'O'], [')', 'O'], ['.', 'O']]\n",
      "[['The', 'O'], ['risk', 'O'], ['of', 'O'], ['cancer', 'B-Disease'], [',', 'O'], ['especially', 'O'], ['lymphoid', 'B-Disease'], ['neoplasias', 'I-Disease'], [',', 'O'], ['is', 'O'], ['substantially', 'O'], ['elevated', 'O'], ['in', 'O'], ['A', 'B-Disease'], ['-', 'I-Disease'], ['T', 'I-Disease'], ['patients', 'O'], ['and', 'O'], ['has', 'O'], ['long', 'O'], ['been', 'O'], ['associated', 'O'], ['with', 'O'], ['chromosomal', 'O'], ['instability', 'O'], ['.', 'O']]\n",
      "[['By', 'O'], ['analysing', 'O'], ['tumour', 'B-Disease'], ['DNA', 'O'], ['from', 'O'], ['patients', 'O'], ['with', 'O'], ['sporadic', 'B-Disease'], ['T', 'I-Disease'], ['-', 'I-Disease'], ['cell', 'I-Disease'], ['prolymphocytic', 'I-Disease'], ['leukaemia', 'I-Disease'], ['(', 'O'], ['T', 'B-Disease'], ['-', 'I-Disease'], ['PLL', 'I-Disease'], [')', 'O'], [',', 'O'], ['a', 'O'], ['rare', 'O'], ['clonal', 'B-Disease'], ['malignancy', 'I-Disease'], ['with', 'O'], ['similarities', 'O'], ['to', 'O'], ['a', 'O'], ['mature', 'B-Disease'], ['T', 'I-Disease'], ['-', 'I-Disease'], ['cell', 'I-Disease'], ['leukaemia', 'I-Disease'], ['seen', 'O'], ['in', 'O'], ['A', 'B-Disease'], ['-', 'I-Disease'], ['T', 'I-Disease'], [',', 'O'], ['we', 'O'], ['demonstrate', 'O'], ['a', 'O'], ['high', 'O'], ['frequency', 'O'], ['of', 'O'], ['ATM', 'O'], ['mutations', 'O'], ['in', 'O'], ['T', 'B-Disease'], ['-', 'I-Disease'], ['PLL', 'I-Disease'], ['.', 'O']]\n",
      "[['In', 'O'], ['marked', 'O'], ['contrast', 'O'], ['to', 'O'], ['the', 'O'], ['ATM', 'O'], ['mutation', 'O'], ['pattern', 'O'], ['in', 'O'], ['A', 'B-Disease'], ['-', 'I-Disease'], ['T', 'I-Disease'], [',', 'O'], ['the', 'O'], ['most', 'O'], ['frequent', 'O'], ['nucleotide', 'O'], ['changes', 'O'], ['in', 'O'], ['this', 'O'], ['leukaemia', 'B-Disease'], ['were', 'O'], ['missense', 'O'], ['mutations', 'O'], ['.', 'O']]\n",
      "[['These', 'O'], ['clustered', 'O'], ['in', 'O'], ['the', 'O'], ['region', 'O'], ['corresponding', 'O'], ['to', 'O'], ['the', 'O'], ['kinase', 'O'], ['domain', 'O'], [',', 'O'], ['which', 'O'], ['is', 'O'], ['highly', 'O'], ['conserved', 'O'], ['in', 'O'], ['ATM', 'O'], ['-', 'O'], ['related', 'O'], ['proteins', 'O'], ['in', 'O'], ['mouse', 'O'], [',', 'O'], ['yeast', 'O'], ['and', 'O'], ['Drosophila', 'O'], ['.', 'O']]\n",
      "[1, 1, 1, 1, 1, 1, 2, 3, 3, 1, 1, 1, 2, 3, 3, 3, 3, 1]\n",
      "3\n"
     ]
    }
   ],
   "source": [
    "tsvfile=open(\"NCBI-disease-IOB/test.tsv\",encoding=\"utf-8\")\n",
    "tsvreader = csv.reader(tsvfile, delimiter=\"\\t\")\n",
    "data1=[]\n",
    "sentences1=[]\n",
    "words1=[]\n",
    "tags1=[]\n",
    "for line in tsvreader:\n",
    "    if line!=[]:\n",
    "        data1.append(line)\n",
    "        if line[0] not in words1:\n",
    "            words1.append(line[0])\n",
    "        if line[1] not in tags1:\n",
    "            tags1.append(line[1])\n",
    "    else:\n",
    "        sentences1.append(data1)\n",
    "        data1=[]\n",
    "\n",
    "X1 = [[word_to_index[w[0] if w[0] in words else \"UNK\"] for w in s] for s in sentences1]\n",
    "print(X1[0],X1[1])\n",
    "count=0\n",
    "for s in sentences1:\n",
    "    print(s)\n",
    "    count=count+1\n",
    "    if count>5:\n",
    "        break\n",
    "# Padding each sequence to have same length  of each word\n",
    "X1 = pad_sequences(maxlen = max_len, sequences = X1, padding = \"post\", value = word_to_index[\"PAD\"])\n",
    "y1 = [[tag_to_index[w[1]] for w in s] for s in sentences1]\n",
    "print(y1[0])\n",
    "# padding\n",
    "y1 = pad_sequences(maxlen = max_len, sequences = y1, padding = \"post\", value = tag_to_index[\"PAD\"])\n",
    "num_tag = 3\n",
    "print(num_tag)\n",
    "# One hot encoded labels\n",
    "y1=[to_categorical(i, num_classes = num_tag + 1) for i in y1]\n",
    "for i in range(len(y1)):\n",
    "    if y1[i][0][3]==1:\n",
    "        print(i)\n",
    "        print(sentences1[i][0])"
   ]
  },
  {
   "cell_type": "code",
   "execution_count": 0,
   "metadata": {
    "colab": {},
    "colab_type": "code",
    "id": "6bP3D6U-WEai"
   },
   "outputs": [],
   "source": [
    "y_pred = model.predict(X1)\n",
    "y_pred = np.argmax(y_pred, axis=-1)\n",
    "y_test_true = np.argmax(y1, -1)"
   ]
  },
  {
   "cell_type": "code",
   "execution_count": 0,
   "metadata": {
    "colab": {},
    "colab_type": "code",
    "id": "XL6NHCHhWEao"
   },
   "outputs": [],
   "source": [
    "y_pred = [[idx2tag[i] for i in row] for row in y_pred]\n",
    "y_test_true = [[idx2tag[i] for i in row] for row in y_test_true] "
   ]
  },
  {
   "cell_type": "code",
   "execution_count": 34,
   "metadata": {
    "colab": {
     "base_uri": "https://localhost:8080/",
     "height": 35
    },
    "colab_type": "code",
    "executionInfo": {
     "elapsed": 1108157,
     "status": "ok",
     "timestamp": 1573536610736,
     "user": {
      "displayName": "Anant Bhavsar",
      "photoUrl": "",
      "userId": "10842212189610618468"
     },
     "user_tz": -330
    },
    "id": "tl7TODDqWEat",
    "outputId": "913bb051-801d-48b5-e508-d637a30f4a02"
   },
   "outputs": [
    {
     "name": "stdout",
     "output_type": "stream",
     "text": [
      "F1-score is : 83.0%\n"
     ]
    }
   ],
   "source": [
    "print(\"F1-score is : {:.1%}\".format(f1_score(y_test_true, y_pred)))"
   ]
  },
  {
   "cell_type": "code",
   "execution_count": 35,
   "metadata": {
    "colab": {
     "base_uri": "https://localhost:8080/",
     "height": 217
    },
    "colab_type": "code",
    "executionInfo": {
     "elapsed": 1109735,
     "status": "ok",
     "timestamp": 1573536612325,
     "user": {
      "displayName": "Anant Bhavsar",
      "photoUrl": "",
      "userId": "10842212189610618468"
     },
     "user_tz": -330
    },
    "id": "WbD8wY4FWEax",
    "outputId": "815c1cf4-ceea-44a5-871e-00320230bfcf"
   },
   "outputs": [
    {
     "name": "stdout",
     "output_type": "stream",
     "text": [
      "              precision    recall  f1-score   support\n",
      "\n",
      "   B-Disease       0.70      0.72      0.71       960\n",
      "   I-Disease       0.80      0.82      0.81      1087\n",
      "           O       0.98      0.98      0.98     22441\n",
      "         PAD       1.00      1.00      1.00    105094\n",
      "\n",
      "    accuracy                           0.99    129582\n",
      "   macro avg       0.87      0.88      0.88    129582\n",
      "weighted avg       0.99      0.99      0.99    129582\n",
      "\n"
     ]
    }
   ],
   "source": [
    "report = flat_classification_report(y_pred=y_pred, y_true=y_test_true)\n",
    "print(report)"
   ]
  },
  {
   "cell_type": "code",
   "execution_count": 36,
   "metadata": {
    "colab": {
     "base_uri": "https://localhost:8080/",
     "height": 55
    },
    "colab_type": "code",
    "executionInfo": {
     "elapsed": 1109727,
     "status": "ok",
     "timestamp": 1573536612325,
     "user": {
      "displayName": "Anant Bhavsar",
      "photoUrl": "",
      "userId": "10842212189610618468"
     },
     "user_tz": -330
    },
    "id": "Uf5xI3lWWEa3",
    "outputId": "4eeb4ac2-1a80-499d-a6cf-a9f9ac32209d"
   },
   "outputs": [
    {
     "name": "stdout",
     "output_type": "stream",
     "text": [
      "['O', 'O', 'O', 'O', 'O', 'O', 'B-Disease', 'I-Disease', 'I-Disease', 'O', 'O', 'O', 'B-Disease', 'I-Disease', 'I-Disease', 'I-Disease', 'I-Disease', 'O', 'PAD', 'PAD', 'PAD', 'PAD', 'PAD', 'PAD', 'PAD', 'PAD', 'PAD', 'PAD', 'PAD', 'PAD', 'PAD', 'PAD', 'PAD', 'PAD', 'PAD', 'PAD', 'PAD', 'PAD', 'PAD', 'PAD', 'PAD', 'PAD', 'PAD', 'PAD', 'PAD', 'PAD', 'PAD', 'PAD', 'PAD', 'PAD', 'PAD', 'PAD', 'PAD', 'PAD', 'PAD', 'PAD', 'PAD', 'PAD', 'PAD', 'PAD', 'PAD', 'PAD', 'PAD', 'PAD', 'PAD', 'PAD', 'PAD', 'PAD', 'PAD', 'PAD', 'PAD', 'PAD', 'PAD', 'PAD', 'PAD', 'PAD', 'PAD', 'PAD', 'PAD', 'PAD', 'PAD', 'PAD', 'PAD', 'PAD', 'PAD', 'PAD', 'PAD', 'PAD', 'PAD', 'PAD', 'PAD', 'PAD', 'PAD', 'PAD', 'PAD', 'PAD', 'PAD', 'PAD', 'PAD', 'PAD', 'PAD', 'PAD', 'PAD', 'PAD', 'PAD', 'PAD', 'PAD', 'PAD', 'PAD', 'PAD', 'PAD', 'PAD', 'PAD', 'PAD', 'PAD', 'PAD', 'PAD', 'PAD', 'PAD', 'PAD', 'PAD', 'PAD', 'PAD', 'PAD', 'PAD', 'PAD', 'PAD', 'PAD', 'PAD', 'PAD', 'PAD', 'PAD', 'PAD', 'PAD', 'PAD', 'PAD', 'PAD', 'PAD']\n"
     ]
    }
   ],
   "source": [
    "print(y_test_true[0])"
   ]
  },
  {
   "cell_type": "code",
   "execution_count": 37,
   "metadata": {
    "colab": {
     "base_uri": "https://localhost:8080/",
     "height": 55
    },
    "colab_type": "code",
    "executionInfo": {
     "elapsed": 1109720,
     "status": "ok",
     "timestamp": 1573536612326,
     "user": {
      "displayName": "Anant Bhavsar",
      "photoUrl": "",
      "userId": "10842212189610618468"
     },
     "user_tz": -330
    },
    "id": "R7vKfZrTWEa7",
    "outputId": "7189f675-1549-4a83-b44b-30ece1751bbe"
   },
   "outputs": [
    {
     "name": "stdout",
     "output_type": "stream",
     "text": [
      "['O', 'O', 'O', 'O', 'O', 'O', 'B-Disease', 'I-Disease', 'I-Disease', 'O', 'O', 'O', 'O', 'I-Disease', 'I-Disease', 'I-Disease', 'I-Disease', 'O', 'PAD', 'PAD', 'PAD', 'PAD', 'PAD', 'PAD', 'PAD', 'PAD', 'PAD', 'PAD', 'PAD', 'PAD', 'PAD', 'PAD', 'PAD', 'PAD', 'PAD', 'PAD', 'PAD', 'PAD', 'PAD', 'PAD', 'PAD', 'PAD', 'PAD', 'PAD', 'PAD', 'PAD', 'PAD', 'PAD', 'PAD', 'PAD', 'PAD', 'PAD', 'PAD', 'PAD', 'PAD', 'PAD', 'PAD', 'PAD', 'PAD', 'PAD', 'PAD', 'PAD', 'PAD', 'PAD', 'PAD', 'PAD', 'PAD', 'PAD', 'PAD', 'PAD', 'PAD', 'PAD', 'PAD', 'PAD', 'PAD', 'PAD', 'PAD', 'PAD', 'PAD', 'PAD', 'PAD', 'PAD', 'PAD', 'PAD', 'PAD', 'PAD', 'PAD', 'PAD', 'PAD', 'PAD', 'PAD', 'PAD', 'PAD', 'PAD', 'PAD', 'PAD', 'PAD', 'PAD', 'PAD', 'PAD', 'PAD', 'PAD', 'PAD', 'PAD', 'PAD', 'PAD', 'PAD', 'PAD', 'PAD', 'PAD', 'PAD', 'PAD', 'PAD', 'PAD', 'PAD', 'PAD', 'PAD', 'PAD', 'PAD', 'PAD', 'PAD', 'PAD', 'PAD', 'PAD', 'PAD', 'PAD', 'PAD', 'PAD', 'PAD', 'PAD', 'PAD', 'PAD', 'PAD', 'PAD', 'PAD', 'PAD', 'PAD', 'PAD']\n"
     ]
    }
   ],
   "source": [
    "print(y_pred[0])"
   ]
  },
  {
   "cell_type": "code",
   "execution_count": 38,
   "metadata": {
    "colab": {
     "base_uri": "https://localhost:8080/",
     "height": 35
    },
    "colab_type": "code",
    "executionInfo": {
     "elapsed": 1109711,
     "status": "ok",
     "timestamp": 1573536612327,
     "user": {
      "displayName": "Anant Bhavsar",
      "photoUrl": "",
      "userId": "10842212189610618468"
     },
     "user_tz": -330
    },
    "id": "HLg9sAMCWEbA",
    "outputId": "d7042df3-f306-4bf2-b9fa-e1fa625aa94e"
   },
   "outputs": [
    {
     "data": {
      "text/plain": [
       "False"
      ]
     },
     "execution_count": 38,
     "metadata": {
      "tags": []
     },
     "output_type": "execute_result"
    }
   ],
   "source": [
    "y_pred[0][1:16]==y_test_true[0][1:16]"
   ]
  },
  {
   "cell_type": "code",
   "execution_count": 39,
   "metadata": {
    "colab": {
     "base_uri": "https://localhost:8080/",
     "height": 90
    },
    "colab_type": "code",
    "executionInfo": {
     "elapsed": 1109702,
     "status": "ok",
     "timestamp": 1573536612328,
     "user": {
      "displayName": "Anant Bhavsar",
      "photoUrl": "",
      "userId": "10842212189610618468"
     },
     "user_tz": -330
    },
    "id": "Z77JBZ2GWEbG",
    "outputId": "f8cbf926-2a8d-4315-8560-076832473328"
   },
   "outputs": [
    {
     "name": "stdout",
     "output_type": "stream",
     "text": [
      "0.6114130434782609\n",
      "0.703125\n",
      "0.6540697674418605\n",
      "[[675, 429], [285, 22012]]\n"
     ]
    }
   ],
   "source": [
    "##Exact Match\n",
    "TP=0\n",
    "TN=0\n",
    "FP=0\n",
    "FN=0\n",
    "i=0\n",
    "nument=0\n",
    "while i<len(y_test_true):\n",
    "    j=0\n",
    "    #print(i)\n",
    "    while j <len(y_test_true[i]):\n",
    "        #print('j ',j)\n",
    "        if y_test_true[i][j]=='B-Disease':\n",
    "            st=j\n",
    "            nument=nument+1\n",
    "            j=j+1\n",
    "            while (y_test_true[i][j]=='I-Disease') and j<len(y_test_true[i]):\n",
    "                j=j+1\n",
    "                #print('inside ',j)\n",
    "            end=j\n",
    "            if y_test_true[i][st:end]==y_pred[i][st:end]:\n",
    "                TP=TP+1\n",
    "            else:\n",
    "                FN=FN+1\n",
    "        elif y_test_true[i][j]=='O' and y_pred[i][j]=='O':\n",
    "            TN=TN+1\n",
    "            j=j+1\n",
    "            \n",
    "        elif y_test_true[i][j]=='O' and y_pred[i][j]!='O':\n",
    "            FP=FP+1\n",
    "            j=j+1\n",
    "            \n",
    "        elif y_test_true[i][j]=='PAD':\n",
    "            j=j+1\n",
    "\n",
    "    i=i+1\n",
    "\n",
    "Precision=TP/(TP+FP)\n",
    "print(Precision)\n",
    "Recall=TP/(TP+FN)\n",
    "print(Recall)\n",
    "F1=(2*Precision*Recall)/(Precision+Recall)\n",
    "print(F1)\n",
    "mat=[[TP,FP],[FN,TN]]\n",
    "print(mat)"
   ]
  },
  {
   "cell_type": "code",
   "execution_count": 40,
   "metadata": {
    "colab": {
     "base_uri": "https://localhost:8080/",
     "height": 90
    },
    "colab_type": "code",
    "executionInfo": {
     "elapsed": 1109693,
     "status": "ok",
     "timestamp": 1573536612329,
     "user": {
      "displayName": "Anant Bhavsar",
      "photoUrl": "",
      "userId": "10842212189610618468"
     },
     "user_tz": -330
    },
    "id": "bitGGorQWEbR",
    "outputId": "12d6edd4-f9a1-4630-917b-371a8ea485ef"
   },
   "outputs": [
    {
     "name": "stdout",
     "output_type": "stream",
     "text": [
      "0.6361323155216285\n",
      "0.78125\n",
      "0.7012622720897616\n",
      "[[750, 429], [210, 22012]]\n"
     ]
    }
   ],
   "source": [
    "##Partial Match\n",
    "TP=0\n",
    "TN=0\n",
    "FP=0\n",
    "FN=0\n",
    "i=0\n",
    "nument=0\n",
    "while i<len(y_test_true):\n",
    "    j=0\n",
    "    #print(i)\n",
    "    while j <len(y_test_true[i]):\n",
    "        #print('j ',j)\n",
    "        if y_test_true[i][j]=='B-Disease':\n",
    "            st=j\n",
    "            nument=nument+1\n",
    "            j=j+1\n",
    "            while (y_test_true[i][j]=='I-Disease') and j<len(y_test_true[i]):\n",
    "                j=j+1\n",
    "                #print('inside ',j)\n",
    "            end=j\n",
    "            found=0\n",
    "            for k in range(st,end):\n",
    "                if y_test_true[i][k]==y_pred[i][k]:\n",
    "                    found=1\n",
    "                    break\n",
    "            if found==1:\n",
    "                TP=TP+1\n",
    "            else:\n",
    "                FN=FN+1\n",
    "            '''if y_test_true[i][st:end]==y_pred[i][st:end]:\n",
    "                TP=TP+1'''\n",
    "            \n",
    "        elif y_test_true[i][j]=='O' and y_pred[i][j]=='O':\n",
    "            TN=TN+1\n",
    "            j=j+1\n",
    "            \n",
    "        elif y_test_true[i][j]=='O' and y_pred[i][j]!='O':\n",
    "            FP=FP+1\n",
    "            j=j+1\n",
    "            \n",
    "        elif y_test_true[i][j]=='PAD':\n",
    "            j=j+1\n",
    "        \n",
    "        \n",
    "    i=i+1\n",
    "    \n",
    "Precision=TP/(TP+FP)\n",
    "print(Precision)\n",
    "Recall=TP/(TP+FN)\n",
    "print(Recall)\n",
    "F1=(2*Precision*Recall)/(Precision+Recall)\n",
    "print(F1)\n",
    "mat=[[TP,FP],[FN,TN]]\n",
    "print(mat)"
   ]
  },
  {
   "cell_type": "code",
   "execution_count": 0,
   "metadata": {
    "colab": {
     "base_uri": "https://localhost:8080/",
     "height": 35
    },
    "colab_type": "code",
    "executionInfo": {
     "elapsed": 2684139,
     "status": "ok",
     "timestamp": 1573350786344,
     "user": {
      "displayName": "Anant Bhavsar",
      "photoUrl": "",
      "userId": "10842212189610618468"
     },
     "user_tz": -330
    },
    "id": "19LiXLCYWEbl",
    "outputId": "0b835e6b-683e-4aaf-ce20-26c738702388"
   },
   "outputs": [
    {
     "data": {
      "text/plain": [
       "939"
      ]
     },
     "execution_count": 41,
     "metadata": {
      "tags": []
     },
     "output_type": "execute_result"
    }
   ],
   "source": [
    "len(y_test_true)"
   ]
  },
  {
   "cell_type": "code",
   "execution_count": 0,
   "metadata": {
    "colab": {},
    "colab_type": "code",
    "id": "_-baBrG2WEbs"
   },
   "outputs": [],
   "source": []
  },
  {
   "cell_type": "code",
   "execution_count": 0,
   "metadata": {
    "colab": {},
    "colab_type": "code",
    "id": "IbEyOG0ZWEbz"
   },
   "outputs": [],
   "source": []
  }
 ],
 "metadata": {
  "colab": {
   "collapsed_sections": [],
   "name": "Glove NCBI-IOB disese.ipynb",
   "provenance": []
  },
  "kernelspec": {
   "display_name": "Python 3",
   "language": "python",
   "name": "python3"
  },
  "language_info": {
   "codemirror_mode": {
    "name": "ipython",
    "version": 3
   },
   "file_extension": ".py",
   "mimetype": "text/x-python",
   "name": "python",
   "nbconvert_exporter": "python",
   "pygments_lexer": "ipython3",
   "version": "3.7.0"
  }
 },
 "nbformat": 4,
 "nbformat_minor": 1
}
