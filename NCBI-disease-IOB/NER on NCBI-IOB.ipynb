{
 "cells": [
  {
   "cell_type": "code",
   "execution_count": 1,
   "metadata": {},
   "outputs": [
    {
     "name": "stderr",
     "output_type": "stream",
     "text": [
      "Using TensorFlow backend.\n"
     ]
    }
   ],
   "source": [
    "import pandas as pd\n",
    "import numpy as np\n",
    "import keras_contrib\n",
    "from keras.preprocessing.sequence import pad_sequences\n",
    "from keras.utils import to_categorical\n",
    "from keras.layers import LSTM, Dense, TimeDistributed, Embedding, Bidirectional\n",
    "from keras.models import Model, Input\n",
    "from keras_contrib.layers import CRF\n",
    "from keras.callbacks import ModelCheckpoint\n",
    "import csv\n",
    "import warnings\n",
    "warnings.filterwarnings(\"ignore\")\n",
    "import random\n",
    "random.seed(10)\n",
    "from sklearn.model_selection import train_test_split\n",
    "import matplotlib.pyplot as plt\n",
    "%matplotlib inline\n",
    "\n",
    "from sklearn_crfsuite.metrics import flat_classification_report\n",
    "from sklearn.metrics import f1_score\n",
    "from seqeval.metrics import precision_score, recall_score, f1_score, classification_report\n",
    "from keras.preprocessing.text import text_to_word_sequence"
   ]
  },
  {
   "cell_type": "code",
   "execution_count": 2,
   "metadata": {},
   "outputs": [],
   "source": [
    "tsvfile=open(\"NCBI-disease-IOB/train.tsv\",encoding=\"utf-8\")\n",
    "tsvreader = csv.reader(tsvfile, delimiter=\"\\t\")\n",
    "data=[]\n",
    "sentences=[]\n",
    "words=[]\n",
    "tags=[]\n",
    "maxsentlen=0\n",
    "for line in tsvreader:\n",
    "    if line!=[]:\n",
    "        data.append(line)\n",
    "        if line[0] not in words:\n",
    "            words.append(line[0])\n",
    "        if line[1] not in tags:\n",
    "            tags.append(line[1])\n",
    "    else:\n",
    "        sentences.append(data)\n",
    "        if maxsentlen<len(data):\n",
    "            maxsentlen=len(data)\n",
    "        data=[]"
   ]
  },
  {
   "cell_type": "code",
   "execution_count": 3,
   "metadata": {},
   "outputs": [
    {
     "name": "stdout",
     "output_type": "stream",
     "text": [
      "5422\n",
      "9307\n"
     ]
    }
   ],
   "source": [
    "print(len(sentences))\n",
    "print(len(words))"
   ]
  },
  {
   "cell_type": "code",
   "execution_count": 4,
   "metadata": {},
   "outputs": [
    {
     "name": "stdout",
     "output_type": "stream",
     "text": [
      "2\n",
      "1\n",
      "Identification\n",
      "4\n"
     ]
    }
   ],
   "source": [
    "word_to_index = {w : i + 2 for i, w in enumerate(words)}\n",
    "print(word_to_index[words[0]])\n",
    "word_to_index[\"UNK\"] = 1\n",
    "word_to_index[\"PAD\"] = 0\n",
    "\n",
    "# Dictionary lable:index pair\n",
    "# label is key and value is index.\n",
    "tag_to_index = {t : i + 1 for i, t in enumerate(tags)}\n",
    "print(tag_to_index[tags[0]])\n",
    "\n",
    "tag_to_index[\"PAD\"] = 0\n",
    "\n",
    "idx2word = {i: w for w, i in word_to_index.items()}\n",
    "print(idx2word[2])\n",
    "idx2tag = {i: w for w, i in tag_to_index.items()}\n",
    "print(len(tag_to_index))"
   ]
  },
  {
   "cell_type": "code",
   "execution_count": 5,
   "metadata": {},
   "outputs": [],
   "source": [
    "# Number of data points passed in each iteration\n",
    "batch_size =50\n",
    "# Passes through entire dataset\n",
    "epochs = 10\n",
    "# Maximum length of review\n",
    "max_len = maxsentlen+15\n",
    "# Dimension of embedding vector\n",
    "embedding = 200"
   ]
  },
  {
   "cell_type": "code",
   "execution_count": 6,
   "metadata": {},
   "outputs": [
    {
     "name": "stdout",
     "output_type": "stream",
     "text": [
      "[2, 3, 4, 5, 6, 7, 3, 8, 9, 10, 11, 12, 13, 14] [15, 9, 10, 11, 16, 17, 18, 12, 19, 13, 20, 21, 8, 22, 23, 24, 25, 26, 6, 27, 28, 29, 30, 31, 32, 16, 33, 19, 32, 18, 5, 34, 35, 36, 37, 38, 14]\n",
      "[['Identification', 'O'], ['of', 'O'], ['APC2', 'O'], [',', 'O'], ['a', 'O'], ['homologue', 'O'], ['of', 'O'], ['the', 'O'], ['adenomatous', 'B-Disease'], ['polyposis', 'I-Disease'], ['coli', 'I-Disease'], ['tumour', 'I-Disease'], ['suppressor', 'O'], ['.', 'O']]\n",
      "[['The', 'O'], ['adenomatous', 'B-Disease'], ['polyposis', 'I-Disease'], ['coli', 'I-Disease'], ['(', 'I-Disease'], ['APC', 'I-Disease'], [')', 'I-Disease'], ['tumour', 'I-Disease'], ['-', 'O'], ['suppressor', 'O'], ['protein', 'O'], ['controls', 'O'], ['the', 'O'], ['Wnt', 'O'], ['signalling', 'O'], ['pathway', 'O'], ['by', 'O'], ['forming', 'O'], ['a', 'O'], ['complex', 'O'], ['with', 'O'], ['glycogen', 'O'], ['synthase', 'O'], ['kinase', 'O'], ['3beta', 'O'], ['(', 'O'], ['GSK', 'O'], ['-', 'O'], ['3beta', 'O'], [')', 'O'], [',', 'O'], ['axin', 'O'], ['/', 'O'], ['conductin', 'O'], ['and', 'O'], ['betacatenin', 'O'], ['.', 'O']]\n",
      "[['Complex', 'O'], ['formation', 'O'], ['induces', 'O'], ['the', 'O'], ['rapid', 'O'], ['degradation', 'O'], ['of', 'O'], ['betacatenin', 'O'], ['.', 'O']]\n",
      "[['In', 'O'], ['colon', 'B-Disease'], ['carcinoma', 'I-Disease'], ['cells', 'O'], [',', 'O'], ['loss', 'O'], ['of', 'O'], ['APC', 'O'], ['leads', 'O'], ['to', 'O'], ['the', 'O'], ['accumulation', 'O'], ['of', 'O'], ['betacatenin', 'O'], ['in', 'O'], ['the', 'O'], ['nucleus', 'O'], [',', 'O'], ['where', 'O'], ['it', 'O'], ['binds', 'O'], ['to', 'O'], ['and', 'O'], ['activates', 'O'], ['the', 'O'], ['Tcf', 'O'], ['-', 'O'], ['4', 'O'], ['transcription', 'O'], ['factor', 'O'], ['(', 'O'], ['reviewed', 'O'], ['in', 'O'], ['[', 'O'], ['1', 'O'], [']', 'O'], ['[', 'O'], ['2', 'O'], [']', 'O'], [')', 'O'], ['.', 'O']]\n",
      "[['Here', 'O'], [',', 'O'], ['we', 'O'], ['report', 'O'], ['the', 'O'], ['identification', 'O'], ['and', 'O'], ['genomic', 'O'], ['structure', 'O'], ['of', 'O'], ['APC', 'O'], ['homologues', 'O'], ['.', 'O']]\n",
      "[['Mammalian', 'O'], ['APC2', 'O'], [',', 'O'], ['which', 'O'], ['closely', 'O'], ['resembles', 'O'], ['APC', 'O'], ['in', 'O'], ['overall', 'O'], ['domain', 'O'], ['structure', 'O'], [',', 'O'], ['was', 'O'], ['functionally', 'O'], ['analyzed', 'O'], ['and', 'O'], ['shown', 'O'], ['to', 'O'], ['contain', 'O'], ['two', 'O'], ['SAMP', 'O'], ['domains', 'O'], [',', 'O'], ['both', 'O'], ['of', 'O'], ['which', 'O'], ['are', 'O'], ['required', 'O'], ['for', 'O'], ['binding', 'O'], ['to', 'O'], ['conductin', 'O'], ['.', 'O']]\n"
     ]
    }
   ],
   "source": [
    "X = [[word_to_index[w[0]] for w in s] for s in sentences]\n",
    "print(X[0],X[1])\n",
    "count=0\n",
    "for s in sentences:\n",
    "    print(s)\n",
    "    count=count+1\n",
    "    if count>5:\n",
    "        break\n",
    "# Padding each sequence to have same length  of each word\n",
    "X = pad_sequences(maxlen = max_len, sequences = X, padding = \"post\", value = word_to_index[\"PAD\"])"
   ]
  },
  {
   "cell_type": "code",
   "execution_count": 7,
   "metadata": {},
   "outputs": [
    {
     "name": "stdout",
     "output_type": "stream",
     "text": [
      "[ 2  3  4  5  6  7  3  8  9 10 11 12 13 14  0  0  0  0  0  0  0  0  0  0\n",
      "  0  0  0  0  0  0  0  0  0  0  0  0  0  0  0  0  0  0  0  0  0  0  0  0\n",
      "  0  0  0  0  0  0  0  0  0  0  0  0  0  0  0  0  0  0  0  0  0  0  0  0\n",
      "  0  0  0  0  0  0  0  0  0  0  0  0  0  0  0  0  0  0  0  0  0  0  0  0\n",
      "  0  0  0  0  0  0  0  0  0  0  0  0  0  0  0  0  0  0  0  0  0  0  0  0\n",
      "  0  0  0  0  0  0  0  0  0  0  0  0  0  0  0  0  0  0]\n"
     ]
    },
    {
     "data": {
      "text/plain": [
       "138"
      ]
     },
     "execution_count": 7,
     "metadata": {},
     "output_type": "execute_result"
    }
   ],
   "source": [
    "print(X[0])\n",
    "len(X[0])"
   ]
  },
  {
   "cell_type": "code",
   "execution_count": 8,
   "metadata": {},
   "outputs": [
    {
     "name": "stdout",
     "output_type": "stream",
     "text": [
      "[1, 1, 1, 1, 1, 1, 1, 1, 2, 3, 3, 3, 1, 1]\n"
     ]
    }
   ],
   "source": [
    "# Convert label to index\n",
    "y = [[tag_to_index[w[1]] for w in s] for s in sentences]\n",
    "print(y[0])\n",
    "# padding\n",
    "y = pad_sequences(maxlen = max_len, sequences = y, padding = \"post\", value = tag_to_index[\"PAD\"])"
   ]
  },
  {
   "cell_type": "code",
   "execution_count": 9,
   "metadata": {},
   "outputs": [
    {
     "name": "stdout",
     "output_type": "stream",
     "text": [
      "3\n",
      "[0. 1. 0. 0.] [1. 0. 0. 0.]\n",
      "4\n"
     ]
    }
   ],
   "source": [
    "num_tag = 3\n",
    "print(num_tag)\n",
    "# One hot encoded labels\n",
    "y = [to_categorical(i, num_classes = num_tag + 1) for i in y]\n",
    "print(y[0][1],y[0][18])\n",
    "print(len(y[0][1]))"
   ]
  },
  {
   "cell_type": "code",
   "execution_count": 10,
   "metadata": {},
   "outputs": [
    {
     "name": "stdout",
     "output_type": "stream",
     "text": [
      "*****Before Processing first sentence : *****\n",
      " Identification of APC2 , a homologue of the adenomatous polyposis coli tumour suppressor .\n",
      "*****After Processing first sentence : *****\n",
      "  [ 2  3  4  5  6  7  3  8  9 10 11 12 13 14  0  0  0  0  0  0  0  0  0  0\n",
      "  0  0  0  0  0  0  0  0  0  0  0  0  0  0  0  0  0  0  0  0  0  0  0  0\n",
      "  0  0  0  0  0  0  0  0  0  0  0  0  0  0  0  0  0  0  0  0  0  0  0  0\n",
      "  0  0  0  0  0  0  0  0  0  0  0  0  0  0  0  0  0  0  0  0  0  0  0  0\n",
      "  0  0  0  0  0  0  0  0  0  0  0  0  0  0  0  0  0  0  0  0  0  0  0  0\n",
      "  0  0  0  0  0  0  0  0  0  0  0  0  0  0  0  0  0  0]\n"
     ]
    },
    {
     "data": {
      "text/plain": [
       "138"
      ]
     },
     "execution_count": 10,
     "metadata": {},
     "output_type": "execute_result"
    }
   ],
   "source": [
    "# Let's check the first sentence before and after processing.\n",
    "print('*****Before Processing first sentence : *****\\n', ' '.join([w[0] for w in sentences[0]]))\n",
    "print('*****After Processing first sentence : *****\\n ', X[0])\n",
    "len(X[0])"
   ]
  },
  {
   "cell_type": "code",
   "execution_count": 11,
   "metadata": {},
   "outputs": [
    {
     "name": "stdout",
     "output_type": "stream",
     "text": [
      "*****Before Processing first sentence : *****\n",
      " O O O O O O O O B-Disease I-Disease I-Disease I-Disease O O\n",
      "*****After Processing first sentence : *****\n",
      "  [[0. 1. 0. 0.]\n",
      " [0. 1. 0. 0.]\n",
      " [0. 1. 0. 0.]\n",
      " [0. 1. 0. 0.]\n",
      " [0. 1. 0. 0.]\n",
      " [0. 1. 0. 0.]\n",
      " [0. 1. 0. 0.]\n",
      " [0. 1. 0. 0.]\n",
      " [0. 0. 1. 0.]\n",
      " [0. 0. 0. 1.]\n",
      " [0. 0. 0. 1.]\n",
      " [0. 0. 0. 1.]\n",
      " [0. 1. 0. 0.]\n",
      " [0. 1. 0. 0.]\n",
      " [1. 0. 0. 0.]\n",
      " [1. 0. 0. 0.]\n",
      " [1. 0. 0. 0.]\n",
      " [1. 0. 0. 0.]\n",
      " [1. 0. 0. 0.]\n",
      " [1. 0. 0. 0.]\n",
      " [1. 0. 0. 0.]\n",
      " [1. 0. 0. 0.]\n",
      " [1. 0. 0. 0.]\n",
      " [1. 0. 0. 0.]\n",
      " [1. 0. 0. 0.]\n",
      " [1. 0. 0. 0.]\n",
      " [1. 0. 0. 0.]\n",
      " [1. 0. 0. 0.]\n",
      " [1. 0. 0. 0.]\n",
      " [1. 0. 0. 0.]\n",
      " [1. 0. 0. 0.]\n",
      " [1. 0. 0. 0.]\n",
      " [1. 0. 0. 0.]\n",
      " [1. 0. 0. 0.]\n",
      " [1. 0. 0. 0.]\n",
      " [1. 0. 0. 0.]\n",
      " [1. 0. 0. 0.]\n",
      " [1. 0. 0. 0.]\n",
      " [1. 0. 0. 0.]\n",
      " [1. 0. 0. 0.]\n",
      " [1. 0. 0. 0.]\n",
      " [1. 0. 0. 0.]\n",
      " [1. 0. 0. 0.]\n",
      " [1. 0. 0. 0.]\n",
      " [1. 0. 0. 0.]\n",
      " [1. 0. 0. 0.]\n",
      " [1. 0. 0. 0.]\n",
      " [1. 0. 0. 0.]\n",
      " [1. 0. 0. 0.]\n",
      " [1. 0. 0. 0.]\n",
      " [1. 0. 0. 0.]\n",
      " [1. 0. 0. 0.]\n",
      " [1. 0. 0. 0.]\n",
      " [1. 0. 0. 0.]\n",
      " [1. 0. 0. 0.]\n",
      " [1. 0. 0. 0.]\n",
      " [1. 0. 0. 0.]\n",
      " [1. 0. 0. 0.]\n",
      " [1. 0. 0. 0.]\n",
      " [1. 0. 0. 0.]\n",
      " [1. 0. 0. 0.]\n",
      " [1. 0. 0. 0.]\n",
      " [1. 0. 0. 0.]\n",
      " [1. 0. 0. 0.]\n",
      " [1. 0. 0. 0.]\n",
      " [1. 0. 0. 0.]\n",
      " [1. 0. 0. 0.]\n",
      " [1. 0. 0. 0.]\n",
      " [1. 0. 0. 0.]\n",
      " [1. 0. 0. 0.]\n",
      " [1. 0. 0. 0.]\n",
      " [1. 0. 0. 0.]\n",
      " [1. 0. 0. 0.]\n",
      " [1. 0. 0. 0.]\n",
      " [1. 0. 0. 0.]\n",
      " [1. 0. 0. 0.]\n",
      " [1. 0. 0. 0.]\n",
      " [1. 0. 0. 0.]\n",
      " [1. 0. 0. 0.]\n",
      " [1. 0. 0. 0.]\n",
      " [1. 0. 0. 0.]\n",
      " [1. 0. 0. 0.]\n",
      " [1. 0. 0. 0.]\n",
      " [1. 0. 0. 0.]\n",
      " [1. 0. 0. 0.]\n",
      " [1. 0. 0. 0.]\n",
      " [1. 0. 0. 0.]\n",
      " [1. 0. 0. 0.]\n",
      " [1. 0. 0. 0.]\n",
      " [1. 0. 0. 0.]\n",
      " [1. 0. 0. 0.]\n",
      " [1. 0. 0. 0.]\n",
      " [1. 0. 0. 0.]\n",
      " [1. 0. 0. 0.]\n",
      " [1. 0. 0. 0.]\n",
      " [1. 0. 0. 0.]\n",
      " [1. 0. 0. 0.]\n",
      " [1. 0. 0. 0.]\n",
      " [1. 0. 0. 0.]\n",
      " [1. 0. 0. 0.]\n",
      " [1. 0. 0. 0.]\n",
      " [1. 0. 0. 0.]\n",
      " [1. 0. 0. 0.]\n",
      " [1. 0. 0. 0.]\n",
      " [1. 0. 0. 0.]\n",
      " [1. 0. 0. 0.]\n",
      " [1. 0. 0. 0.]\n",
      " [1. 0. 0. 0.]\n",
      " [1. 0. 0. 0.]\n",
      " [1. 0. 0. 0.]\n",
      " [1. 0. 0. 0.]\n",
      " [1. 0. 0. 0.]\n",
      " [1. 0. 0. 0.]\n",
      " [1. 0. 0. 0.]\n",
      " [1. 0. 0. 0.]\n",
      " [1. 0. 0. 0.]\n",
      " [1. 0. 0. 0.]\n",
      " [1. 0. 0. 0.]\n",
      " [1. 0. 0. 0.]\n",
      " [1. 0. 0. 0.]\n",
      " [1. 0. 0. 0.]\n",
      " [1. 0. 0. 0.]\n",
      " [1. 0. 0. 0.]\n",
      " [1. 0. 0. 0.]\n",
      " [1. 0. 0. 0.]\n",
      " [1. 0. 0. 0.]\n",
      " [1. 0. 0. 0.]\n",
      " [1. 0. 0. 0.]\n",
      " [1. 0. 0. 0.]\n",
      " [1. 0. 0. 0.]\n",
      " [1. 0. 0. 0.]\n",
      " [1. 0. 0. 0.]\n",
      " [1. 0. 0. 0.]\n",
      " [1. 0. 0. 0.]\n",
      " [1. 0. 0. 0.]\n",
      " [1. 0. 0. 0.]\n",
      " [1. 0. 0. 0.]\n",
      " [1. 0. 0. 0.]]\n"
     ]
    }
   ],
   "source": [
    "# First label before and after processing.\n",
    "print('*****Before Processing first sentence : *****\\n', ' '.join([w[1] for w in sentences[0]]))\n",
    "print('*****After Processing first sentence : *****\\n ', y[0])"
   ]
  },
  {
   "cell_type": "code",
   "execution_count": 12,
   "metadata": {},
   "outputs": [
    {
     "name": "stdout",
     "output_type": "stream",
     "text": [
      "WARNING:tensorflow:From C:\\Users\\S. K. BHAVSAR\\Anaconda3\\lib\\site-packages\\tensorflow\\python\\framework\\op_def_library.py:263: colocate_with (from tensorflow.python.framework.ops) is deprecated and will be removed in a future version.\n",
      "Instructions for updating:\n",
      "Colocations handled automatically by placer.\n",
      "WARNING:tensorflow:From C:\\Users\\S. K. BHAVSAR\\Anaconda3\\lib\\site-packages\\keras\\backend\\tensorflow_backend.py:3445: calling dropout (from tensorflow.python.ops.nn_ops) with keep_prob is deprecated and will be removed in a future version.\n",
      "Instructions for updating:\n",
      "Please use `rate` instead of `keep_prob`. Rate should be set to `rate = 1 - keep_prob`.\n"
     ]
    }
   ],
   "source": [
    "num_tags = 3\n",
    "# Model architecture\n",
    "input = Input(shape = (max_len,))\n",
    "model = Embedding(input_dim = len(words) + 2, output_dim = embedding, input_length = max_len, mask_zero = True)(input)\n",
    "model = Bidirectional(LSTM(units = 100, return_sequences=True, recurrent_dropout=0.1))(model)\n",
    "crf = CRF(num_tags+1)  # CRF layer\n",
    "out = crf(model)  # output\n",
    "\n",
    "model = Model(input, out)\n",
    "model.compile(optimizer=\"rmsprop\", loss=crf.loss_function, metrics=[crf.accuracy])\n",
    "\n",
    "#model.summary()"
   ]
  },
  {
   "cell_type": "code",
   "execution_count": 13,
   "metadata": {},
   "outputs": [],
   "source": [
    "checkpointer = ModelCheckpoint(filepath = 'model.h5',\n",
    "                       verbose = 0,\n",
    "                       mode = 'auto',\n",
    "                       save_best_only = True,\n",
    "                       monitor='val_loss')"
   ]
  },
  {
   "cell_type": "code",
   "execution_count": 14,
   "metadata": {},
   "outputs": [
    {
     "name": "stdout",
     "output_type": "stream",
     "text": [
      "WARNING:tensorflow:From C:\\Users\\S. K. BHAVSAR\\Anaconda3\\lib\\site-packages\\tensorflow\\python\\ops\\math_ops.py:3066: to_int32 (from tensorflow.python.ops.math_ops) is deprecated and will be removed in a future version.\n",
      "Instructions for updating:\n",
      "Use tf.cast instead.\n",
      "Train on 4879 samples, validate on 543 samples\n",
      "Epoch 1/10\n",
      "4879/4879 [==============================] - ETA: 5:29 - loss: 8.8182 - crf_viterbi_accuracy: 0.01 - ETA: 3:14 - loss: 8.6130 - crf_viterbi_accuracy: 0.01 - ETA: 2:27 - loss: 9.6587 - crf_viterbi_accuracy: 0.01 - ETA: 2:04 - loss: 10.1587 - crf_viterbi_accuracy: 0.163 - ETA: 1:51 - loss: 9.7002 - crf_viterbi_accuracy: 0.318 - ETA: 1:41 - loss: 9.4490 - crf_viterbi_accuracy: 0.41 - ETA: 1:34 - loss: 9.6722 - crf_viterbi_accuracy: 0.48 - ETA: 1:29 - loss: 9.6023 - crf_viterbi_accuracy: 0.53 - ETA: 1:25 - loss: 9.5119 - crf_viterbi_accuracy: 0.58 - ETA: 1:21 - loss: 9.6009 - crf_viterbi_accuracy: 0.61 - ETA: 1:18 - loss: 9.5779 - crf_viterbi_accuracy: 0.64 - ETA: 1:16 - loss: 9.6409 - crf_viterbi_accuracy: 0.66 - ETA: 1:13 - loss: 9.7197 - crf_viterbi_accuracy: 0.68 - ETA: 1:12 - loss: 9.7043 - crf_viterbi_accuracy: 0.69 - ETA: 1:10 - loss: 9.6082 - crf_viterbi_accuracy: 0.71 - ETA: 1:08 - loss: 9.4793 - crf_viterbi_accuracy: 0.72 - ETA: 1:06 - loss: 9.6148 - crf_viterbi_accuracy: 0.73 - ETA: 1:05 - loss: 9.5803 - crf_viterbi_accuracy: 0.75 - ETA: 1:04 - loss: 9.5733 - crf_viterbi_accuracy: 0.75 - ETA: 1:02 - loss: 9.7024 - crf_viterbi_accuracy: 0.76 - ETA: 1:01 - loss: 9.7355 - crf_viterbi_accuracy: 0.77 - ETA: 1:00 - loss: 9.6757 - crf_viterbi_accuracy: 0.77 - ETA: 59s - loss: 9.7413 - crf_viterbi_accuracy: 0.7831 - ETA: 59s - loss: 9.7310 - crf_viterbi_accuracy: 0.788 - ETA: 58s - loss: 9.8976 - crf_viterbi_accuracy: 0.792 - ETA: 57s - loss: 9.8157 - crf_viterbi_accuracy: 0.797 - ETA: 56s - loss: 9.8755 - crf_viterbi_accuracy: 0.802 - ETA: 55s - loss: 9.9004 - crf_viterbi_accuracy: 0.806 - ETA: 55s - loss: 9.9592 - crf_viterbi_accuracy: 0.809 - ETA: 54s - loss: 9.8884 - crf_viterbi_accuracy: 0.813 - ETA: 53s - loss: 9.8764 - crf_viterbi_accuracy: 0.816 - ETA: 52s - loss: 9.9303 - crf_viterbi_accuracy: 0.820 - ETA: 52s - loss: 9.9199 - crf_viterbi_accuracy: 0.823 - ETA: 51s - loss: 9.8896 - crf_viterbi_accuracy: 0.826 - ETA: 50s - loss: 9.8631 - crf_viterbi_accuracy: 0.829 - ETA: 49s - loss: 9.8316 - crf_viterbi_accuracy: 0.831 - ETA: 48s - loss: 9.8276 - crf_viterbi_accuracy: 0.833 - ETA: 48s - loss: 9.7752 - crf_viterbi_accuracy: 0.835 - ETA: 47s - loss: 9.9031 - crf_viterbi_accuracy: 0.838 - ETA: 46s - loss: 9.9083 - crf_viterbi_accuracy: 0.840 - ETA: 45s - loss: 9.8529 - crf_viterbi_accuracy: 0.842 - ETA: 44s - loss: 9.9461 - crf_viterbi_accuracy: 0.843 - ETA: 44s - loss: 9.9910 - crf_viterbi_accuracy: 0.845 - ETA: 43s - loss: 9.9858 - crf_viterbi_accuracy: 0.847 - ETA: 42s - loss: 9.9726 - crf_viterbi_accuracy: 0.848 - ETA: 41s - loss: 9.9805 - crf_viterbi_accuracy: 0.850 - ETA: 40s - loss: 9.9234 - crf_viterbi_accuracy: 0.852 - ETA: 40s - loss: 9.9165 - crf_viterbi_accuracy: 0.854 - ETA: 39s - loss: 9.8866 - crf_viterbi_accuracy: 0.855 - ETA: 38s - loss: 9.9128 - crf_viterbi_accuracy: 0.857 - ETA: 37s - loss: 9.8623 - crf_viterbi_accuracy: 0.858 - ETA: 36s - loss: 9.8295 - crf_viterbi_accuracy: 0.859 - ETA: 35s - loss: 9.8331 - crf_viterbi_accuracy: 0.860 - ETA: 35s - loss: 9.8045 - crf_viterbi_accuracy: 0.861 - ETA: 34s - loss: 9.7838 - crf_viterbi_accuracy: 0.862 - ETA: 33s - loss: 9.7878 - crf_viterbi_accuracy: 0.863 - ETA: 32s - loss: 9.7541 - crf_viterbi_accuracy: 0.865 - ETA: 31s - loss: 9.7524 - crf_viterbi_accuracy: 0.866 - ETA: 31s - loss: 9.7353 - crf_viterbi_accuracy: 0.867 - ETA: 30s - loss: 9.7180 - crf_viterbi_accuracy: 0.868 - ETA: 29s - loss: 9.7023 - crf_viterbi_accuracy: 0.869 - ETA: 28s - loss: 9.7108 - crf_viterbi_accuracy: 0.870 - ETA: 27s - loss: 9.7024 - crf_viterbi_accuracy: 0.871 - ETA: 27s - loss: 9.7349 - crf_viterbi_accuracy: 0.872 - ETA: 26s - loss: 9.7080 - crf_viterbi_accuracy: 0.873 - ETA: 25s - loss: 9.6767 - crf_viterbi_accuracy: 0.874 - ETA: 24s - loss: 9.6537 - crf_viterbi_accuracy: 0.875 - ETA: 23s - loss: 9.6783 - crf_viterbi_accuracy: 0.876 - ETA: 23s - loss: 9.6598 - crf_viterbi_accuracy: 0.877 - ETA: 22s - loss: 9.6817 - crf_viterbi_accuracy: 0.878 - ETA: 21s - loss: 9.6824 - crf_viterbi_accuracy: 0.879 - ETA: 20s - loss: 9.7191 - crf_viterbi_accuracy: 0.880 - ETA: 19s - loss: 9.7072 - crf_viterbi_accuracy: 0.881 - ETA: 19s - loss: 9.7053 - crf_viterbi_accuracy: 0.882 - ETA: 18s - loss: 9.6895 - crf_viterbi_accuracy: 0.883 - ETA: 17s - loss: 9.6890 - crf_viterbi_accuracy: 0.884 - ETA: 16s - loss: 9.6898 - crf_viterbi_accuracy: 0.884 - ETA: 15s - loss: 9.7045 - crf_viterbi_accuracy: 0.885 - ETA: 14s - loss: 9.6895 - crf_viterbi_accuracy: 0.886 - ETA: 14s - loss: 9.6758 - crf_viterbi_accuracy: 0.887 - ETA: 13s - loss: 9.6680 - crf_viterbi_accuracy: 0.887 - ETA: 12s - loss: 9.6756 - crf_viterbi_accuracy: 0.888 - ETA: 11s - loss: 9.6514 - crf_viterbi_accuracy: 0.889 - ETA: 10s - loss: 9.6220 - crf_viterbi_accuracy: 0.890 - ETA: 10s - loss: 9.6035 - crf_viterbi_accuracy: 0.890 - ETA: 9s - loss: 9.6090 - crf_viterbi_accuracy: 0.891 - ETA: 8s - loss: 9.6051 - crf_viterbi_accuracy: 0.89 - ETA: 7s - loss: 9.6045 - crf_viterbi_accuracy: 0.89 - ETA: 6s - loss: 9.6143 - crf_viterbi_accuracy: 0.89 - ETA: 6s - loss: 9.5953 - crf_viterbi_accuracy: 0.89 - ETA: 5s - loss: 9.5879 - crf_viterbi_accuracy: 0.89 - ETA: 4s - loss: 9.5953 - crf_viterbi_accuracy: 0.89 - ETA: 3s - loss: 9.6022 - crf_viterbi_accuracy: 0.89 - ETA: 2s - loss: 9.5925 - crf_viterbi_accuracy: 0.89 - ETA: 2s - loss: 9.5901 - crf_viterbi_accuracy: 0.89 - ETA: 1s - loss: 9.5970 - crf_viterbi_accuracy: 0.89 - ETA: 0s - loss: 9.5855 - crf_viterbi_accuracy: 0.89 - 81s 17ms/step - loss: 9.5741 - crf_viterbi_accuracy: 0.8983 - val_loss: 9.6554 - val_crf_viterbi_accuracy: 0.9615\n",
      "Epoch 2/10\n"
     ]
    },
    {
     "name": "stdout",
     "output_type": "stream",
     "text": [
      "4879/4879 [==============================] - ETA: 1:18 - loss: 7.8067 - crf_viterbi_accuracy: 0.95 - ETA: 1:16 - loss: 7.9056 - crf_viterbi_accuracy: 0.95 - ETA: 1:15 - loss: 8.2158 - crf_viterbi_accuracy: 0.95 - ETA: 1:15 - loss: 9.1062 - crf_viterbi_accuracy: 0.96 - ETA: 1:14 - loss: 8.9467 - crf_viterbi_accuracy: 0.96 - ETA: 1:13 - loss: 9.1413 - crf_viterbi_accuracy: 0.95 - ETA: 1:12 - loss: 8.9944 - crf_viterbi_accuracy: 0.96 - ETA: 1:11 - loss: 9.0328 - crf_viterbi_accuracy: 0.96 - ETA: 1:10 - loss: 9.3311 - crf_viterbi_accuracy: 0.96 - ETA: 1:09 - loss: 9.6646 - crf_viterbi_accuracy: 0.95 - ETA: 1:09 - loss: 9.8154 - crf_viterbi_accuracy: 0.95 - ETA: 1:08 - loss: 9.6677 - crf_viterbi_accuracy: 0.96 - ETA: 1:07 - loss: 9.6130 - crf_viterbi_accuracy: 0.95 - ETA: 1:06 - loss: 9.6783 - crf_viterbi_accuracy: 0.95 - ETA: 1:05 - loss: 9.5203 - crf_viterbi_accuracy: 0.95 - ETA: 1:05 - loss: 9.4626 - crf_viterbi_accuracy: 0.95 - ETA: 1:04 - loss: 9.4515 - crf_viterbi_accuracy: 0.95 - ETA: 1:03 - loss: 9.4147 - crf_viterbi_accuracy: 0.95 - ETA: 1:02 - loss: 9.4161 - crf_viterbi_accuracy: 0.95 - ETA: 1:02 - loss: 9.3835 - crf_viterbi_accuracy: 0.95 - ETA: 1:01 - loss: 9.4767 - crf_viterbi_accuracy: 0.95 - ETA: 1:00 - loss: 9.4217 - crf_viterbi_accuracy: 0.95 - ETA: 59s - loss: 9.4966 - crf_viterbi_accuracy: 0.9585 - ETA: 58s - loss: 9.5324 - crf_viterbi_accuracy: 0.958 - ETA: 58s - loss: 9.4664 - crf_viterbi_accuracy: 0.958 - ETA: 57s - loss: 9.4449 - crf_viterbi_accuracy: 0.959 - ETA: 56s - loss: 9.5056 - crf_viterbi_accuracy: 0.960 - ETA: 55s - loss: 9.4554 - crf_viterbi_accuracy: 0.960 - ETA: 55s - loss: 9.4055 - crf_viterbi_accuracy: 0.960 - ETA: 54s - loss: 9.4366 - crf_viterbi_accuracy: 0.961 - ETA: 53s - loss: 9.4292 - crf_viterbi_accuracy: 0.961 - ETA: 52s - loss: 9.4004 - crf_viterbi_accuracy: 0.962 - ETA: 52s - loss: 9.3783 - crf_viterbi_accuracy: 0.962 - ETA: 51s - loss: 9.3205 - crf_viterbi_accuracy: 0.962 - ETA: 50s - loss: 9.2899 - crf_viterbi_accuracy: 0.962 - ETA: 49s - loss: 9.2791 - crf_viterbi_accuracy: 0.962 - ETA: 48s - loss: 9.3440 - crf_viterbi_accuracy: 0.962 - ETA: 47s - loss: 9.3554 - crf_viterbi_accuracy: 0.962 - ETA: 47s - loss: 9.3383 - crf_viterbi_accuracy: 0.962 - ETA: 46s - loss: 9.3681 - crf_viterbi_accuracy: 0.962 - ETA: 45s - loss: 9.3926 - crf_viterbi_accuracy: 0.962 - ETA: 45s - loss: 9.3563 - crf_viterbi_accuracy: 0.962 - ETA: 44s - loss: 9.3696 - crf_viterbi_accuracy: 0.962 - ETA: 43s - loss: 9.3654 - crf_viterbi_accuracy: 0.963 - ETA: 42s - loss: 9.3465 - crf_viterbi_accuracy: 0.963 - ETA: 41s - loss: 9.4222 - crf_viterbi_accuracy: 0.963 - ETA: 41s - loss: 9.4034 - crf_viterbi_accuracy: 0.963 - ETA: 40s - loss: 9.4104 - crf_viterbi_accuracy: 0.963 - ETA: 39s - loss: 9.4694 - crf_viterbi_accuracy: 0.963 - ETA: 38s - loss: 9.4568 - crf_viterbi_accuracy: 0.963 - ETA: 37s - loss: 9.4504 - crf_viterbi_accuracy: 0.963 - ETA: 37s - loss: 9.4427 - crf_viterbi_accuracy: 0.963 - ETA: 36s - loss: 9.4224 - crf_viterbi_accuracy: 0.963 - ETA: 35s - loss: 9.3940 - crf_viterbi_accuracy: 0.964 - ETA: 34s - loss: 9.3900 - crf_viterbi_accuracy: 0.964 - ETA: 33s - loss: 9.3583 - crf_viterbi_accuracy: 0.964 - ETA: 32s - loss: 9.4023 - crf_viterbi_accuracy: 0.964 - ETA: 32s - loss: 9.3916 - crf_viterbi_accuracy: 0.964 - ETA: 31s - loss: 9.3775 - crf_viterbi_accuracy: 0.964 - ETA: 30s - loss: 9.3672 - crf_viterbi_accuracy: 0.964 - ETA: 29s - loss: 9.3420 - crf_viterbi_accuracy: 0.964 - ETA: 28s - loss: 9.3857 - crf_viterbi_accuracy: 0.964 - ETA: 28s - loss: 9.4493 - crf_viterbi_accuracy: 0.964 - ETA: 27s - loss: 9.4323 - crf_viterbi_accuracy: 0.965 - ETA: 26s - loss: 9.4175 - crf_viterbi_accuracy: 0.965 - ETA: 25s - loss: 9.4116 - crf_viterbi_accuracy: 0.965 - ETA: 24s - loss: 9.3863 - crf_viterbi_accuracy: 0.965 - ETA: 24s - loss: 9.3812 - crf_viterbi_accuracy: 0.965 - ETA: 23s - loss: 9.3776 - crf_viterbi_accuracy: 0.965 - ETA: 22s - loss: 9.4036 - crf_viterbi_accuracy: 0.965 - ETA: 21s - loss: 9.4268 - crf_viterbi_accuracy: 0.965 - ETA: 20s - loss: 9.4364 - crf_viterbi_accuracy: 0.965 - ETA: 20s - loss: 9.4190 - crf_viterbi_accuracy: 0.965 - ETA: 19s - loss: 9.3929 - crf_viterbi_accuracy: 0.965 - ETA: 18s - loss: 9.3790 - crf_viterbi_accuracy: 0.965 - ETA: 17s - loss: 9.3952 - crf_viterbi_accuracy: 0.965 - ETA: 16s - loss: 9.3968 - crf_viterbi_accuracy: 0.965 - ETA: 15s - loss: 9.3986 - crf_viterbi_accuracy: 0.965 - ETA: 15s - loss: 9.3922 - crf_viterbi_accuracy: 0.965 - ETA: 14s - loss: 9.4255 - crf_viterbi_accuracy: 0.965 - ETA: 13s - loss: 9.4107 - crf_viterbi_accuracy: 0.965 - ETA: 12s - loss: 9.4469 - crf_viterbi_accuracy: 0.965 - ETA: 11s - loss: 9.4745 - crf_viterbi_accuracy: 0.965 - ETA: 11s - loss: 9.4569 - crf_viterbi_accuracy: 0.966 - ETA: 10s - loss: 9.4500 - crf_viterbi_accuracy: 0.966 - ETA: 9s - loss: 9.4326 - crf_viterbi_accuracy: 0.966 - ETA: 8s - loss: 9.4366 - crf_viterbi_accuracy: 0.96 - ETA: 7s - loss: 9.4507 - crf_viterbi_accuracy: 0.96 - ETA: 7s - loss: 9.4373 - crf_viterbi_accuracy: 0.96 - ETA: 6s - loss: 9.4407 - crf_viterbi_accuracy: 0.96 - ETA: 5s - loss: 9.4151 - crf_viterbi_accuracy: 0.96 - ETA: 4s - loss: 9.4064 - crf_viterbi_accuracy: 0.96 - ETA: 3s - loss: 9.4158 - crf_viterbi_accuracy: 0.96 - ETA: 2s - loss: 9.4144 - crf_viterbi_accuracy: 0.96 - ETA: 2s - loss: 9.3979 - crf_viterbi_accuracy: 0.96 - ETA: 1s - loss: 9.3840 - crf_viterbi_accuracy: 0.96 - ETA: 0s - loss: 9.3775 - crf_viterbi_accuracy: 0.96 - 81s 17ms/step - loss: 9.3781 - crf_viterbi_accuracy: 0.9663 - val_loss: 9.6200 - val_crf_viterbi_accuracy: 0.9716\n",
      "Epoch 3/10\n"
     ]
    },
    {
     "name": "stdout",
     "output_type": "stream",
     "text": [
      "4879/4879 [==============================] - ETA: 1:19 - loss: 11.1137 - crf_viterbi_accuracy: 0.977 - ETA: 1:18 - loss: 9.8389 - crf_viterbi_accuracy: 0.978 - ETA: 1:17 - loss: 8.8201 - crf_viterbi_accuracy: 0.98 - ETA: 1:17 - loss: 8.4620 - crf_viterbi_accuracy: 0.98 - ETA: 1:17 - loss: 9.0511 - crf_viterbi_accuracy: 0.97 - ETA: 1:16 - loss: 9.2127 - crf_viterbi_accuracy: 0.97 - ETA: 1:14 - loss: 9.2881 - crf_viterbi_accuracy: 0.97 - ETA: 1:13 - loss: 9.4724 - crf_viterbi_accuracy: 0.97 - ETA: 1:12 - loss: 9.6580 - crf_viterbi_accuracy: 0.97 - ETA: 1:11 - loss: 9.6150 - crf_viterbi_accuracy: 0.97 - ETA: 1:11 - loss: 9.6068 - crf_viterbi_accuracy: 0.97 - ETA: 1:10 - loss: 9.6386 - crf_viterbi_accuracy: 0.97 - ETA: 1:09 - loss: 9.4239 - crf_viterbi_accuracy: 0.97 - ETA: 1:08 - loss: 9.3744 - crf_viterbi_accuracy: 0.97 - ETA: 1:07 - loss: 9.3314 - crf_viterbi_accuracy: 0.97 - ETA: 1:06 - loss: 9.2617 - crf_viterbi_accuracy: 0.97 - ETA: 1:06 - loss: 9.1570 - crf_viterbi_accuracy: 0.97 - ETA: 1:05 - loss: 9.2047 - crf_viterbi_accuracy: 0.97 - ETA: 1:04 - loss: 9.1326 - crf_viterbi_accuracy: 0.97 - ETA: 1:03 - loss: 9.1543 - crf_viterbi_accuracy: 0.97 - ETA: 1:02 - loss: 9.0586 - crf_viterbi_accuracy: 0.97 - ETA: 1:01 - loss: 9.1764 - crf_viterbi_accuracy: 0.97 - ETA: 1:00 - loss: 9.2059 - crf_viterbi_accuracy: 0.97 - ETA: 1:00 - loss: 9.1724 - crf_viterbi_accuracy: 0.97 - ETA: 59s - loss: 9.1318 - crf_viterbi_accuracy: 0.9754 - ETA: 58s - loss: 9.0788 - crf_viterbi_accuracy: 0.975 - ETA: 57s - loss: 9.0905 - crf_viterbi_accuracy: 0.975 - ETA: 56s - loss: 9.1084 - crf_viterbi_accuracy: 0.975 - ETA: 56s - loss: 9.1046 - crf_viterbi_accuracy: 0.975 - ETA: 55s - loss: 9.0744 - crf_viterbi_accuracy: 0.975 - ETA: 54s - loss: 9.0744 - crf_viterbi_accuracy: 0.974 - ETA: 53s - loss: 9.1940 - crf_viterbi_accuracy: 0.974 - ETA: 53s - loss: 9.1634 - crf_viterbi_accuracy: 0.974 - ETA: 52s - loss: 9.1832 - crf_viterbi_accuracy: 0.974 - ETA: 51s - loss: 9.2523 - crf_viterbi_accuracy: 0.974 - ETA: 50s - loss: 9.3353 - crf_viterbi_accuracy: 0.974 - ETA: 49s - loss: 9.3271 - crf_viterbi_accuracy: 0.974 - ETA: 48s - loss: 9.3846 - crf_viterbi_accuracy: 0.974 - ETA: 48s - loss: 9.4400 - crf_viterbi_accuracy: 0.974 - ETA: 47s - loss: 9.3626 - crf_viterbi_accuracy: 0.974 - ETA: 46s - loss: 9.3511 - crf_viterbi_accuracy: 0.975 - ETA: 45s - loss: 9.3856 - crf_viterbi_accuracy: 0.975 - ETA: 45s - loss: 9.3819 - crf_viterbi_accuracy: 0.975 - ETA: 44s - loss: 9.3869 - crf_viterbi_accuracy: 0.975 - ETA: 43s - loss: 9.4156 - crf_viterbi_accuracy: 0.975 - ETA: 42s - loss: 9.4171 - crf_viterbi_accuracy: 0.976 - ETA: 41s - loss: 9.3924 - crf_viterbi_accuracy: 0.975 - ETA: 40s - loss: 9.3994 - crf_viterbi_accuracy: 0.975 - ETA: 40s - loss: 9.3947 - crf_viterbi_accuracy: 0.975 - ETA: 39s - loss: 9.4336 - crf_viterbi_accuracy: 0.975 - ETA: 38s - loss: 9.4397 - crf_viterbi_accuracy: 0.976 - ETA: 37s - loss: 9.4343 - crf_viterbi_accuracy: 0.976 - ETA: 36s - loss: 9.4268 - crf_viterbi_accuracy: 0.976 - ETA: 35s - loss: 9.4290 - crf_viterbi_accuracy: 0.976 - ETA: 35s - loss: 9.4015 - crf_viterbi_accuracy: 0.976 - ETA: 34s - loss: 9.3943 - crf_viterbi_accuracy: 0.976 - ETA: 33s - loss: 9.4307 - crf_viterbi_accuracy: 0.976 - ETA: 32s - loss: 9.4357 - crf_viterbi_accuracy: 0.976 - ETA: 32s - loss: 9.3974 - crf_viterbi_accuracy: 0.976 - ETA: 31s - loss: 9.3749 - crf_viterbi_accuracy: 0.976 - ETA: 30s - loss: 9.3754 - crf_viterbi_accuracy: 0.976 - ETA: 29s - loss: 9.3976 - crf_viterbi_accuracy: 0.976 - ETA: 28s - loss: 9.3912 - crf_viterbi_accuracy: 0.976 - ETA: 27s - loss: 9.3579 - crf_viterbi_accuracy: 0.976 - ETA: 27s - loss: 9.3515 - crf_viterbi_accuracy: 0.976 - ETA: 26s - loss: 9.3699 - crf_viterbi_accuracy: 0.976 - ETA: 25s - loss: 9.3588 - crf_viterbi_accuracy: 0.976 - ETA: 24s - loss: 9.3651 - crf_viterbi_accuracy: 0.976 - ETA: 23s - loss: 9.3617 - crf_viterbi_accuracy: 0.976 - ETA: 23s - loss: 9.3523 - crf_viterbi_accuracy: 0.976 - ETA: 22s - loss: 9.3643 - crf_viterbi_accuracy: 0.976 - ETA: 21s - loss: 9.3414 - crf_viterbi_accuracy: 0.976 - ETA: 20s - loss: 9.3111 - crf_viterbi_accuracy: 0.976 - ETA: 19s - loss: 9.3232 - crf_viterbi_accuracy: 0.976 - ETA: 18s - loss: 9.3165 - crf_viterbi_accuracy: 0.976 - ETA: 18s - loss: 9.2936 - crf_viterbi_accuracy: 0.976 - ETA: 17s - loss: 9.2871 - crf_viterbi_accuracy: 0.976 - ETA: 16s - loss: 9.2802 - crf_viterbi_accuracy: 0.976 - ETA: 15s - loss: 9.2599 - crf_viterbi_accuracy: 0.976 - ETA: 14s - loss: 9.2479 - crf_viterbi_accuracy: 0.976 - ETA: 13s - loss: 9.2591 - crf_viterbi_accuracy: 0.976 - ETA: 13s - loss: 9.2786 - crf_viterbi_accuracy: 0.976 - ETA: 12s - loss: 9.2700 - crf_viterbi_accuracy: 0.976 - ETA: 11s - loss: 9.2631 - crf_viterbi_accuracy: 0.976 - ETA: 10s - loss: 9.2785 - crf_viterbi_accuracy: 0.977 - ETA: 9s - loss: 9.2685 - crf_viterbi_accuracy: 0.977 - ETA: 8s - loss: 9.2620 - crf_viterbi_accuracy: 0.97 - ETA: 8s - loss: 9.2438 - crf_viterbi_accuracy: 0.97 - ETA: 7s - loss: 9.2602 - crf_viterbi_accuracy: 0.97 - ETA: 6s - loss: 9.3066 - crf_viterbi_accuracy: 0.97 - ETA: 5s - loss: 9.2973 - crf_viterbi_accuracy: 0.97 - ETA: 4s - loss: 9.2919 - crf_viterbi_accuracy: 0.97 - ETA: 3s - loss: 9.2823 - crf_viterbi_accuracy: 0.97 - ETA: 3s - loss: 9.2921 - crf_viterbi_accuracy: 0.97 - ETA: 2s - loss: 9.3021 - crf_viterbi_accuracy: 0.97 - ETA: 1s - loss: 9.3267 - crf_viterbi_accuracy: 0.97 - ETA: 0s - loss: 9.3405 - crf_viterbi_accuracy: 0.97 - 84s 17ms/step - loss: 9.3444 - crf_viterbi_accuracy: 0.9767 - val_loss: 9.6041 - val_crf_viterbi_accuracy: 0.9757\n",
      "Epoch 4/10\n"
     ]
    },
    {
     "name": "stdout",
     "output_type": "stream",
     "text": [
      "4879/4879 [==============================] - ETA: 1:21 - loss: 8.6237 - crf_viterbi_accuracy: 0.98 - ETA: 1:19 - loss: 8.7847 - crf_viterbi_accuracy: 0.98 - ETA: 1:18 - loss: 8.2631 - crf_viterbi_accuracy: 0.98 - ETA: 1:17 - loss: 8.5375 - crf_viterbi_accuracy: 0.98 - ETA: 1:16 - loss: 8.7916 - crf_viterbi_accuracy: 0.98 - ETA: 1:15 - loss: 8.8612 - crf_viterbi_accuracy: 0.97 - ETA: 1:14 - loss: 8.8376 - crf_viterbi_accuracy: 0.98 - ETA: 1:13 - loss: 9.1205 - crf_viterbi_accuracy: 0.98 - ETA: 1:13 - loss: 9.0024 - crf_viterbi_accuracy: 0.98 - ETA: 1:12 - loss: 9.2655 - crf_viterbi_accuracy: 0.98 - ETA: 1:11 - loss: 9.1276 - crf_viterbi_accuracy: 0.98 - ETA: 1:11 - loss: 9.4238 - crf_viterbi_accuracy: 0.98 - ETA: 1:10 - loss: 9.5549 - crf_viterbi_accuracy: 0.98 - ETA: 1:10 - loss: 9.3790 - crf_viterbi_accuracy: 0.98 - ETA: 1:09 - loss: 9.3487 - crf_viterbi_accuracy: 0.98 - ETA: 1:09 - loss: 9.3209 - crf_viterbi_accuracy: 0.98 - ETA: 1:08 - loss: 9.3949 - crf_viterbi_accuracy: 0.98 - ETA: 1:07 - loss: 9.3198 - crf_viterbi_accuracy: 0.98 - ETA: 1:06 - loss: 9.2790 - crf_viterbi_accuracy: 0.98 - ETA: 1:05 - loss: 9.2870 - crf_viterbi_accuracy: 0.98 - ETA: 1:04 - loss: 9.2526 - crf_viterbi_accuracy: 0.98 - ETA: 1:04 - loss: 9.3609 - crf_viterbi_accuracy: 0.98 - ETA: 1:03 - loss: 9.3308 - crf_viterbi_accuracy: 0.98 - ETA: 1:02 - loss: 9.3060 - crf_viterbi_accuracy: 0.98 - ETA: 1:02 - loss: 9.2942 - crf_viterbi_accuracy: 0.98 - ETA: 1:01 - loss: 9.3073 - crf_viterbi_accuracy: 0.98 - ETA: 1:00 - loss: 9.2763 - crf_viterbi_accuracy: 0.98 - ETA: 59s - loss: 9.2208 - crf_viterbi_accuracy: 0.9835 - ETA: 58s - loss: 9.2681 - crf_viterbi_accuracy: 0.983 - ETA: 57s - loss: 9.2284 - crf_viterbi_accuracy: 0.982 - ETA: 56s - loss: 9.2935 - crf_viterbi_accuracy: 0.982 - ETA: 56s - loss: 9.3018 - crf_viterbi_accuracy: 0.983 - ETA: 55s - loss: 9.3424 - crf_viterbi_accuracy: 0.983 - ETA: 54s - loss: 9.3652 - crf_viterbi_accuracy: 0.983 - ETA: 53s - loss: 9.3405 - crf_viterbi_accuracy: 0.983 - ETA: 52s - loss: 9.3533 - crf_viterbi_accuracy: 0.983 - ETA: 51s - loss: 9.3262 - crf_viterbi_accuracy: 0.983 - ETA: 51s - loss: 9.4183 - crf_viterbi_accuracy: 0.983 - ETA: 50s - loss: 9.3845 - crf_viterbi_accuracy: 0.983 - ETA: 49s - loss: 9.3540 - crf_viterbi_accuracy: 0.982 - ETA: 48s - loss: 9.3141 - crf_viterbi_accuracy: 0.982 - ETA: 48s - loss: 9.3717 - crf_viterbi_accuracy: 0.982 - ETA: 47s - loss: 9.3251 - crf_viterbi_accuracy: 0.983 - ETA: 46s - loss: 9.2924 - crf_viterbi_accuracy: 0.983 - ETA: 45s - loss: 9.3027 - crf_viterbi_accuracy: 0.983 - ETA: 44s - loss: 9.2951 - crf_viterbi_accuracy: 0.983 - ETA: 43s - loss: 9.2907 - crf_viterbi_accuracy: 0.983 - ETA: 42s - loss: 9.2835 - crf_viterbi_accuracy: 0.983 - ETA: 42s - loss: 9.3196 - crf_viterbi_accuracy: 0.983 - ETA: 41s - loss: 9.2761 - crf_viterbi_accuracy: 0.983 - ETA: 40s - loss: 9.2887 - crf_viterbi_accuracy: 0.983 - ETA: 39s - loss: 9.2957 - crf_viterbi_accuracy: 0.983 - ETA: 38s - loss: 9.2535 - crf_viterbi_accuracy: 0.983 - ETA: 37s - loss: 9.2207 - crf_viterbi_accuracy: 0.983 - ETA: 36s - loss: 9.2301 - crf_viterbi_accuracy: 0.982 - ETA: 35s - loss: 9.2345 - crf_viterbi_accuracy: 0.982 - ETA: 34s - loss: 9.2321 - crf_viterbi_accuracy: 0.982 - ETA: 33s - loss: 9.2197 - crf_viterbi_accuracy: 0.983 - ETA: 33s - loss: 9.1938 - crf_viterbi_accuracy: 0.983 - ETA: 32s - loss: 9.2139 - crf_viterbi_accuracy: 0.983 - ETA: 31s - loss: 9.1898 - crf_viterbi_accuracy: 0.983 - ETA: 30s - loss: 9.2087 - crf_viterbi_accuracy: 0.983 - ETA: 29s - loss: 9.1933 - crf_viterbi_accuracy: 0.983 - ETA: 28s - loss: 9.1827 - crf_viterbi_accuracy: 0.983 - ETA: 27s - loss: 9.2015 - crf_viterbi_accuracy: 0.983 - ETA: 26s - loss: 9.2177 - crf_viterbi_accuracy: 0.983 - ETA: 25s - loss: 9.2137 - crf_viterbi_accuracy: 0.982 - ETA: 25s - loss: 9.2264 - crf_viterbi_accuracy: 0.982 - ETA: 24s - loss: 9.2375 - crf_viterbi_accuracy: 0.982 - ETA: 23s - loss: 9.2319 - crf_viterbi_accuracy: 0.982 - ETA: 22s - loss: 9.2141 - crf_viterbi_accuracy: 0.983 - ETA: 21s - loss: 9.2006 - crf_viterbi_accuracy: 0.983 - ETA: 20s - loss: 9.2282 - crf_viterbi_accuracy: 0.983 - ETA: 19s - loss: 9.2827 - crf_viterbi_accuracy: 0.983 - ETA: 19s - loss: 9.3003 - crf_viterbi_accuracy: 0.983 - ETA: 18s - loss: 9.3132 - crf_viterbi_accuracy: 0.983 - ETA: 17s - loss: 9.3350 - crf_viterbi_accuracy: 0.983 - ETA: 16s - loss: 9.3273 - crf_viterbi_accuracy: 0.983 - ETA: 15s - loss: 9.3111 - crf_viterbi_accuracy: 0.983 - ETA: 14s - loss: 9.3016 - crf_viterbi_accuracy: 0.983 - ETA: 14s - loss: 9.3004 - crf_viterbi_accuracy: 0.983 - ETA: 13s - loss: 9.2912 - crf_viterbi_accuracy: 0.983 - ETA: 12s - loss: 9.3027 - crf_viterbi_accuracy: 0.983 - ETA: 11s - loss: 9.3312 - crf_viterbi_accuracy: 0.983 - ETA: 10s - loss: 9.3156 - crf_viterbi_accuracy: 0.983 - ETA: 9s - loss: 9.3717 - crf_viterbi_accuracy: 0.983 - ETA: 8s - loss: 9.3564 - crf_viterbi_accuracy: 0.98 - ETA: 8s - loss: 9.3477 - crf_viterbi_accuracy: 0.98 - ETA: 7s - loss: 9.3506 - crf_viterbi_accuracy: 0.98 - ETA: 6s - loss: 9.3546 - crf_viterbi_accuracy: 0.98 - ETA: 5s - loss: 9.3478 - crf_viterbi_accuracy: 0.98 - ETA: 4s - loss: 9.3488 - crf_viterbi_accuracy: 0.98 - ETA: 3s - loss: 9.3531 - crf_viterbi_accuracy: 0.98 - ETA: 3s - loss: 9.3449 - crf_viterbi_accuracy: 0.98 - ETA: 2s - loss: 9.3231 - crf_viterbi_accuracy: 0.98 - ETA: 1s - loss: 9.3395 - crf_viterbi_accuracy: 0.98 - ETA: 0s - loss: 9.3351 - crf_viterbi_accuracy: 0.98 - 83s 17ms/step - loss: 9.3293 - crf_viterbi_accuracy: 0.9827 - val_loss: 9.5971 - val_crf_viterbi_accuracy: 0.9772\n",
      "Epoch 5/10\n"
     ]
    },
    {
     "name": "stdout",
     "output_type": "stream",
     "text": [
      "4879/4879 [==============================] - ETA: 1:23 - loss: 7.7247 - crf_viterbi_accuracy: 0.98 - ETA: 1:19 - loss: 8.7924 - crf_viterbi_accuracy: 0.99 - ETA: 1:18 - loss: 8.8738 - crf_viterbi_accuracy: 0.99 - ETA: 1:16 - loss: 8.7958 - crf_viterbi_accuracy: 0.99 - ETA: 1:15 - loss: 8.9913 - crf_viterbi_accuracy: 0.98 - ETA: 1:14 - loss: 9.2947 - crf_viterbi_accuracy: 0.98 - ETA: 1:13 - loss: 9.1191 - crf_viterbi_accuracy: 0.98 - ETA: 1:12 - loss: 9.4753 - crf_viterbi_accuracy: 0.98 - ETA: 1:11 - loss: 9.5734 - crf_viterbi_accuracy: 0.98 - ETA: 1:11 - loss: 9.5693 - crf_viterbi_accuracy: 0.98 - ETA: 1:10 - loss: 9.5689 - crf_viterbi_accuracy: 0.98 - ETA: 1:09 - loss: 9.8038 - crf_viterbi_accuracy: 0.98 - ETA: 1:08 - loss: 9.5578 - crf_viterbi_accuracy: 0.98 - ETA: 1:07 - loss: 9.7329 - crf_viterbi_accuracy: 0.98 - ETA: 1:07 - loss: 9.7180 - crf_viterbi_accuracy: 0.98 - ETA: 1:06 - loss: 9.5764 - crf_viterbi_accuracy: 0.98 - ETA: 1:05 - loss: 9.5755 - crf_viterbi_accuracy: 0.98 - ETA: 1:05 - loss: 9.4549 - crf_viterbi_accuracy: 0.98 - ETA: 1:04 - loss: 9.3996 - crf_viterbi_accuracy: 0.98 - ETA: 1:03 - loss: 9.3319 - crf_viterbi_accuracy: 0.98 - ETA: 1:02 - loss: 9.2786 - crf_viterbi_accuracy: 0.98 - ETA: 1:02 - loss: 9.2431 - crf_viterbi_accuracy: 0.98 - ETA: 1:01 - loss: 9.3350 - crf_viterbi_accuracy: 0.98 - ETA: 1:00 - loss: 9.3761 - crf_viterbi_accuracy: 0.98 - ETA: 1:00 - loss: 9.4885 - crf_viterbi_accuracy: 0.98 - ETA: 59s - loss: 9.4630 - crf_viterbi_accuracy: 0.9860 - ETA: 58s - loss: 9.4212 - crf_viterbi_accuracy: 0.986 - ETA: 57s - loss: 9.4141 - crf_viterbi_accuracy: 0.985 - ETA: 57s - loss: 9.4871 - crf_viterbi_accuracy: 0.985 - ETA: 56s - loss: 9.4594 - crf_viterbi_accuracy: 0.985 - ETA: 56s - loss: 9.5551 - crf_viterbi_accuracy: 0.985 - ETA: 55s - loss: 9.4781 - crf_viterbi_accuracy: 0.985 - ETA: 54s - loss: 9.4564 - crf_viterbi_accuracy: 0.985 - ETA: 53s - loss: 9.4403 - crf_viterbi_accuracy: 0.985 - ETA: 53s - loss: 9.4473 - crf_viterbi_accuracy: 0.985 - ETA: 52s - loss: 9.4551 - crf_viterbi_accuracy: 0.985 - ETA: 52s - loss: 9.5165 - crf_viterbi_accuracy: 0.985 - ETA: 51s - loss: 9.4925 - crf_viterbi_accuracy: 0.985 - ETA: 50s - loss: 9.4604 - crf_viterbi_accuracy: 0.985 - ETA: 50s - loss: 9.4343 - crf_viterbi_accuracy: 0.985 - ETA: 49s - loss: 9.4805 - crf_viterbi_accuracy: 0.985 - ETA: 48s - loss: 9.4788 - crf_viterbi_accuracy: 0.986 - ETA: 48s - loss: 9.5366 - crf_viterbi_accuracy: 0.985 - ETA: 47s - loss: 9.5238 - crf_viterbi_accuracy: 0.985 - ETA: 46s - loss: 9.5052 - crf_viterbi_accuracy: 0.985 - ETA: 45s - loss: 9.4826 - crf_viterbi_accuracy: 0.985 - ETA: 44s - loss: 9.4471 - crf_viterbi_accuracy: 0.985 - ETA: 44s - loss: 9.3964 - crf_viterbi_accuracy: 0.985 - ETA: 43s - loss: 9.3644 - crf_viterbi_accuracy: 0.985 - ETA: 42s - loss: 9.3591 - crf_viterbi_accuracy: 0.985 - ETA: 41s - loss: 9.3559 - crf_viterbi_accuracy: 0.985 - ETA: 41s - loss: 9.3857 - crf_viterbi_accuracy: 0.985 - ETA: 40s - loss: 9.3894 - crf_viterbi_accuracy: 0.985 - ETA: 39s - loss: 9.3875 - crf_viterbi_accuracy: 0.985 - ETA: 38s - loss: 9.3558 - crf_viterbi_accuracy: 0.985 - ETA: 38s - loss: 9.3573 - crf_viterbi_accuracy: 0.985 - ETA: 37s - loss: 9.3236 - crf_viterbi_accuracy: 0.985 - ETA: 36s - loss: 9.2972 - crf_viterbi_accuracy: 0.985 - ETA: 35s - loss: 9.2961 - crf_viterbi_accuracy: 0.985 - ETA: 34s - loss: 9.2850 - crf_viterbi_accuracy: 0.985 - ETA: 33s - loss: 9.3045 - crf_viterbi_accuracy: 0.985 - ETA: 32s - loss: 9.2989 - crf_viterbi_accuracy: 0.985 - ETA: 31s - loss: 9.2953 - crf_viterbi_accuracy: 0.985 - ETA: 30s - loss: 9.2766 - crf_viterbi_accuracy: 0.985 - ETA: 29s - loss: 9.2829 - crf_viterbi_accuracy: 0.985 - ETA: 28s - loss: 9.2762 - crf_viterbi_accuracy: 0.985 - ETA: 27s - loss: 9.2959 - crf_viterbi_accuracy: 0.985 - ETA: 26s - loss: 9.2803 - crf_viterbi_accuracy: 0.985 - ETA: 25s - loss: 9.3129 - crf_viterbi_accuracy: 0.985 - ETA: 25s - loss: 9.3066 - crf_viterbi_accuracy: 0.985 - ETA: 24s - loss: 9.3363 - crf_viterbi_accuracy: 0.985 - ETA: 23s - loss: 9.3193 - crf_viterbi_accuracy: 0.985 - ETA: 22s - loss: 9.2896 - crf_viterbi_accuracy: 0.985 - ETA: 21s - loss: 9.3051 - crf_viterbi_accuracy: 0.985 - ETA: 20s - loss: 9.2984 - crf_viterbi_accuracy: 0.985 - ETA: 19s - loss: 9.3347 - crf_viterbi_accuracy: 0.985 - ETA: 18s - loss: 9.3634 - crf_viterbi_accuracy: 0.985 - ETA: 17s - loss: 9.3562 - crf_viterbi_accuracy: 0.985 - ETA: 16s - loss: 9.3608 - crf_viterbi_accuracy: 0.985 - ETA: 15s - loss: 9.3439 - crf_viterbi_accuracy: 0.986 - ETA: 14s - loss: 9.3307 - crf_viterbi_accuracy: 0.985 - ETA: 14s - loss: 9.3202 - crf_viterbi_accuracy: 0.985 - ETA: 13s - loss: 9.3261 - crf_viterbi_accuracy: 0.985 - ETA: 12s - loss: 9.3253 - crf_viterbi_accuracy: 0.985 - ETA: 11s - loss: 9.3053 - crf_viterbi_accuracy: 0.985 - ETA: 10s - loss: 9.3096 - crf_viterbi_accuracy: 0.985 - ETA: 9s - loss: 9.3214 - crf_viterbi_accuracy: 0.985 - ETA: 8s - loss: 9.3197 - crf_viterbi_accuracy: 0.98 - ETA: 7s - loss: 9.3010 - crf_viterbi_accuracy: 0.98 - ETA: 6s - loss: 9.3108 - crf_viterbi_accuracy: 0.98 - ETA: 5s - loss: 9.3039 - crf_viterbi_accuracy: 0.98 - ETA: 5s - loss: 9.3166 - crf_viterbi_accuracy: 0.98 - ETA: 4s - loss: 9.3032 - crf_viterbi_accuracy: 0.98 - ETA: 3s - loss: 9.3195 - crf_viterbi_accuracy: 0.98 - ETA: 2s - loss: 9.3128 - crf_viterbi_accuracy: 0.98 - ETA: 1s - loss: 9.2933 - crf_viterbi_accuracy: 0.98 - ETA: 0s - loss: 9.3110 - crf_viterbi_accuracy: 0.98 - 89s 18ms/step - loss: 9.3192 - crf_viterbi_accuracy: 0.9857 - val_loss: 9.5936 - val_crf_viterbi_accuracy: 0.9789\n",
      "Epoch 6/10\n"
     ]
    },
    {
     "name": "stdout",
     "output_type": "stream",
     "text": [
      "4879/4879 [==============================] - ETA: 1:26 - loss: 7.9315 - crf_viterbi_accuracy: 0.98 - ETA: 1:21 - loss: 7.7955 - crf_viterbi_accuracy: 0.98 - ETA: 1:19 - loss: 7.7540 - crf_viterbi_accuracy: 0.98 - ETA: 1:18 - loss: 8.4956 - crf_viterbi_accuracy: 0.99 - ETA: 1:19 - loss: 8.6756 - crf_viterbi_accuracy: 0.98 - ETA: 1:19 - loss: 8.6382 - crf_viterbi_accuracy: 0.98 - ETA: 1:18 - loss: 8.6402 - crf_viterbi_accuracy: 0.98 - ETA: 1:17 - loss: 8.8748 - crf_viterbi_accuracy: 0.98 - ETA: 1:16 - loss: 8.9047 - crf_viterbi_accuracy: 0.98 - ETA: 1:15 - loss: 9.0136 - crf_viterbi_accuracy: 0.98 - ETA: 1:13 - loss: 8.9470 - crf_viterbi_accuracy: 0.98 - ETA: 1:12 - loss: 8.8297 - crf_viterbi_accuracy: 0.98 - ETA: 1:11 - loss: 8.7875 - crf_viterbi_accuracy: 0.98 - ETA: 1:11 - loss: 8.9231 - crf_viterbi_accuracy: 0.98 - ETA: 1:10 - loss: 8.8857 - crf_viterbi_accuracy: 0.98 - ETA: 1:09 - loss: 8.8696 - crf_viterbi_accuracy: 0.98 - ETA: 1:08 - loss: 8.7911 - crf_viterbi_accuracy: 0.98 - ETA: 1:07 - loss: 8.8347 - crf_viterbi_accuracy: 0.98 - ETA: 1:06 - loss: 8.8703 - crf_viterbi_accuracy: 0.98 - ETA: 1:06 - loss: 8.8789 - crf_viterbi_accuracy: 0.98 - ETA: 1:04 - loss: 8.8379 - crf_viterbi_accuracy: 0.98 - ETA: 1:04 - loss: 8.9401 - crf_viterbi_accuracy: 0.98 - ETA: 1:03 - loss: 8.9111 - crf_viterbi_accuracy: 0.98 - ETA: 1:02 - loss: 8.8854 - crf_viterbi_accuracy: 0.98 - ETA: 1:01 - loss: 8.8712 - crf_viterbi_accuracy: 0.98 - ETA: 1:01 - loss: 8.9770 - crf_viterbi_accuracy: 0.98 - ETA: 1:00 - loss: 8.9991 - crf_viterbi_accuracy: 0.98 - ETA: 1:00 - loss: 8.9934 - crf_viterbi_accuracy: 0.98 - ETA: 59s - loss: 9.1006 - crf_viterbi_accuracy: 0.9884 - ETA: 58s - loss: 9.1409 - crf_viterbi_accuracy: 0.988 - ETA: 57s - loss: 9.0864 - crf_viterbi_accuracy: 0.988 - ETA: 56s - loss: 9.0975 - crf_viterbi_accuracy: 0.988 - ETA: 56s - loss: 9.1267 - crf_viterbi_accuracy: 0.988 - ETA: 55s - loss: 9.1641 - crf_viterbi_accuracy: 0.988 - ETA: 54s - loss: 9.2433 - crf_viterbi_accuracy: 0.988 - ETA: 53s - loss: 9.2345 - crf_viterbi_accuracy: 0.988 - ETA: 52s - loss: 9.2306 - crf_viterbi_accuracy: 0.988 - ETA: 51s - loss: 9.2846 - crf_viterbi_accuracy: 0.988 - ETA: 50s - loss: 9.2690 - crf_viterbi_accuracy: 0.989 - ETA: 49s - loss: 9.2238 - crf_viterbi_accuracy: 0.989 - ETA: 49s - loss: 9.2693 - crf_viterbi_accuracy: 0.989 - ETA: 48s - loss: 9.2637 - crf_viterbi_accuracy: 0.989 - ETA: 47s - loss: 9.2574 - crf_viterbi_accuracy: 0.989 - ETA: 46s - loss: 9.2567 - crf_viterbi_accuracy: 0.989 - ETA: 45s - loss: 9.2256 - crf_viterbi_accuracy: 0.989 - ETA: 44s - loss: 9.2028 - crf_viterbi_accuracy: 0.988 - ETA: 43s - loss: 9.1935 - crf_viterbi_accuracy: 0.988 - ETA: 43s - loss: 9.1862 - crf_viterbi_accuracy: 0.988 - ETA: 42s - loss: 9.1444 - crf_viterbi_accuracy: 0.988 - ETA: 41s - loss: 9.1379 - crf_viterbi_accuracy: 0.988 - ETA: 40s - loss: 9.1203 - crf_viterbi_accuracy: 0.988 - ETA: 39s - loss: 9.1474 - crf_viterbi_accuracy: 0.988 - ETA: 38s - loss: 9.1937 - crf_viterbi_accuracy: 0.988 - ETA: 38s - loss: 9.1747 - crf_viterbi_accuracy: 0.988 - ETA: 37s - loss: 9.2053 - crf_viterbi_accuracy: 0.988 - ETA: 37s - loss: 9.2014 - crf_viterbi_accuracy: 0.988 - ETA: 36s - loss: 9.2048 - crf_viterbi_accuracy: 0.988 - ETA: 36s - loss: 9.1894 - crf_viterbi_accuracy: 0.988 - ETA: 35s - loss: 9.1658 - crf_viterbi_accuracy: 0.988 - ETA: 34s - loss: 9.1920 - crf_viterbi_accuracy: 0.988 - ETA: 33s - loss: 9.1793 - crf_viterbi_accuracy: 0.988 - ETA: 32s - loss: 9.2160 - crf_viterbi_accuracy: 0.988 - ETA: 32s - loss: 9.2101 - crf_viterbi_accuracy: 0.988 - ETA: 31s - loss: 9.2175 - crf_viterbi_accuracy: 0.988 - ETA: 30s - loss: 9.2127 - crf_viterbi_accuracy: 0.989 - ETA: 29s - loss: 9.2104 - crf_viterbi_accuracy: 0.988 - ETA: 28s - loss: 9.2141 - crf_viterbi_accuracy: 0.989 - ETA: 27s - loss: 9.1917 - crf_viterbi_accuracy: 0.988 - ETA: 26s - loss: 9.1645 - crf_viterbi_accuracy: 0.988 - ETA: 25s - loss: 9.1831 - crf_viterbi_accuracy: 0.988 - ETA: 24s - loss: 9.1698 - crf_viterbi_accuracy: 0.988 - ETA: 23s - loss: 9.1465 - crf_viterbi_accuracy: 0.988 - ETA: 22s - loss: 9.1821 - crf_viterbi_accuracy: 0.988 - ETA: 21s - loss: 9.2120 - crf_viterbi_accuracy: 0.988 - ETA: 20s - loss: 9.1956 - crf_viterbi_accuracy: 0.988 - ETA: 19s - loss: 9.2364 - crf_viterbi_accuracy: 0.988 - ETA: 18s - loss: 9.2108 - crf_viterbi_accuracy: 0.988 - ETA: 17s - loss: 9.2154 - crf_viterbi_accuracy: 0.988 - ETA: 17s - loss: 9.2144 - crf_viterbi_accuracy: 0.988 - ETA: 16s - loss: 9.2161 - crf_viterbi_accuracy: 0.988 - ETA: 15s - loss: 9.1972 - crf_viterbi_accuracy: 0.988 - ETA: 14s - loss: 9.2124 - crf_viterbi_accuracy: 0.988 - ETA: 13s - loss: 9.1977 - crf_viterbi_accuracy: 0.988 - ETA: 12s - loss: 9.1889 - crf_viterbi_accuracy: 0.988 - ETA: 11s - loss: 9.1982 - crf_viterbi_accuracy: 0.988 - ETA: 10s - loss: 9.2032 - crf_viterbi_accuracy: 0.988 - ETA: 9s - loss: 9.2015 - crf_viterbi_accuracy: 0.988 - ETA: 8s - loss: 9.2210 - crf_viterbi_accuracy: 0.98 - ETA: 7s - loss: 9.2192 - crf_viterbi_accuracy: 0.98 - ETA: 6s - loss: 9.1975 - crf_viterbi_accuracy: 0.98 - ETA: 5s - loss: 9.2051 - crf_viterbi_accuracy: 0.98 - ETA: 5s - loss: 9.1909 - crf_viterbi_accuracy: 0.98 - ETA: 4s - loss: 9.2359 - crf_viterbi_accuracy: 0.98 - ETA: 3s - loss: 9.2523 - crf_viterbi_accuracy: 0.98 - ETA: 2s - loss: 9.2425 - crf_viterbi_accuracy: 0.98 - ETA: 1s - loss: 9.2607 - crf_viterbi_accuracy: 0.98 - ETA: 0s - loss: 9.2861 - crf_viterbi_accuracy: 0.98 - 90s 18ms/step - loss: 9.3122 - crf_viterbi_accuracy: 0.9882 - val_loss: 9.5939 - val_crf_viterbi_accuracy: 0.9755\n",
      "Epoch 7/10\n"
     ]
    },
    {
     "name": "stdout",
     "output_type": "stream",
     "text": [
      "4879/4879 [==============================] - ETA: 1:19 - loss: 9.6184 - crf_viterbi_accuracy: 0.99 - ETA: 1:16 - loss: 9.8676 - crf_viterbi_accuracy: 0.98 - ETA: 1:17 - loss: 9.6904 - crf_viterbi_accuracy: 0.98 - ETA: 1:16 - loss: 9.5877 - crf_viterbi_accuracy: 0.98 - ETA: 1:16 - loss: 9.6026 - crf_viterbi_accuracy: 0.98 - ETA: 1:16 - loss: 9.3212 - crf_viterbi_accuracy: 0.99 - ETA: 1:16 - loss: 9.1747 - crf_viterbi_accuracy: 0.98 - ETA: 1:15 - loss: 9.1726 - crf_viterbi_accuracy: 0.98 - ETA: 1:14 - loss: 9.0116 - crf_viterbi_accuracy: 0.98 - ETA: 1:14 - loss: 9.0020 - crf_viterbi_accuracy: 0.98 - ETA: 1:13 - loss: 9.1802 - crf_viterbi_accuracy: 0.99 - ETA: 1:13 - loss: 9.1052 - crf_viterbi_accuracy: 0.99 - ETA: 1:12 - loss: 9.0508 - crf_viterbi_accuracy: 0.99 - ETA: 1:11 - loss: 9.1193 - crf_viterbi_accuracy: 0.99 - ETA: 1:10 - loss: 9.1652 - crf_viterbi_accuracy: 0.99 - ETA: 1:09 - loss: 9.2658 - crf_viterbi_accuracy: 0.99 - ETA: 1:09 - loss: 9.3788 - crf_viterbi_accuracy: 0.99 - ETA: 1:08 - loss: 9.5241 - crf_viterbi_accuracy: 0.99 - ETA: 1:07 - loss: 9.4856 - crf_viterbi_accuracy: 0.99 - ETA: 1:07 - loss: 9.5177 - crf_viterbi_accuracy: 0.99 - ETA: 1:06 - loss: 9.5430 - crf_viterbi_accuracy: 0.99 - ETA: 1:05 - loss: 9.4817 - crf_viterbi_accuracy: 0.99 - ETA: 1:05 - loss: 9.4722 - crf_viterbi_accuracy: 0.99 - ETA: 1:04 - loss: 9.4832 - crf_viterbi_accuracy: 0.99 - ETA: 1:03 - loss: 9.4213 - crf_viterbi_accuracy: 0.99 - ETA: 1:02 - loss: 9.4065 - crf_viterbi_accuracy: 0.99 - ETA: 1:01 - loss: 9.3671 - crf_viterbi_accuracy: 0.99 - ETA: 1:01 - loss: 9.2752 - crf_viterbi_accuracy: 0.99 - ETA: 1:00 - loss: 9.2699 - crf_viterbi_accuracy: 0.99 - ETA: 59s - loss: 9.3151 - crf_viterbi_accuracy: 0.9915 - ETA: 58s - loss: 9.3610 - crf_viterbi_accuracy: 0.991 - ETA: 57s - loss: 9.3618 - crf_viterbi_accuracy: 0.991 - ETA: 56s - loss: 9.3914 - crf_viterbi_accuracy: 0.991 - ETA: 55s - loss: 9.3759 - crf_viterbi_accuracy: 0.991 - ETA: 54s - loss: 9.3827 - crf_viterbi_accuracy: 0.991 - ETA: 53s - loss: 9.3650 - crf_viterbi_accuracy: 0.991 - ETA: 52s - loss: 9.3178 - crf_viterbi_accuracy: 0.991 - ETA: 51s - loss: 9.3268 - crf_viterbi_accuracy: 0.991 - ETA: 51s - loss: 9.2930 - crf_viterbi_accuracy: 0.991 - ETA: 50s - loss: 9.2677 - crf_viterbi_accuracy: 0.991 - ETA: 49s - loss: 9.2431 - crf_viterbi_accuracy: 0.991 - ETA: 48s - loss: 9.2385 - crf_viterbi_accuracy: 0.991 - ETA: 47s - loss: 9.2126 - crf_viterbi_accuracy: 0.991 - ETA: 47s - loss: 9.1904 - crf_viterbi_accuracy: 0.991 - ETA: 46s - loss: 9.1907 - crf_viterbi_accuracy: 0.991 - ETA: 45s - loss: 9.2593 - crf_viterbi_accuracy: 0.991 - ETA: 44s - loss: 9.2579 - crf_viterbi_accuracy: 0.991 - ETA: 43s - loss: 9.2200 - crf_viterbi_accuracy: 0.991 - ETA: 42s - loss: 9.2442 - crf_viterbi_accuracy: 0.991 - ETA: 41s - loss: 9.2642 - crf_viterbi_accuracy: 0.991 - ETA: 40s - loss: 9.2678 - crf_viterbi_accuracy: 0.991 - ETA: 39s - loss: 9.2473 - crf_viterbi_accuracy: 0.991 - ETA: 38s - loss: 9.2765 - crf_viterbi_accuracy: 0.991 - ETA: 37s - loss: 9.2756 - crf_viterbi_accuracy: 0.991 - ETA: 37s - loss: 9.2915 - crf_viterbi_accuracy: 0.991 - ETA: 36s - loss: 9.2711 - crf_viterbi_accuracy: 0.991 - ETA: 35s - loss: 9.2497 - crf_viterbi_accuracy: 0.991 - ETA: 34s - loss: 9.2408 - crf_viterbi_accuracy: 0.991 - ETA: 33s - loss: 9.2832 - crf_viterbi_accuracy: 0.991 - ETA: 32s - loss: 9.2688 - crf_viterbi_accuracy: 0.991 - ETA: 31s - loss: 9.3148 - crf_viterbi_accuracy: 0.991 - ETA: 30s - loss: 9.3147 - crf_viterbi_accuracy: 0.991 - ETA: 30s - loss: 9.3519 - crf_viterbi_accuracy: 0.991 - ETA: 29s - loss: 9.3909 - crf_viterbi_accuracy: 0.991 - ETA: 28s - loss: 9.3845 - crf_viterbi_accuracy: 0.991 - ETA: 27s - loss: 9.4425 - crf_viterbi_accuracy: 0.991 - ETA: 26s - loss: 9.4354 - crf_viterbi_accuracy: 0.991 - ETA: 25s - loss: 9.4497 - crf_viterbi_accuracy: 0.991 - ETA: 24s - loss: 9.4316 - crf_viterbi_accuracy: 0.991 - ETA: 24s - loss: 9.4057 - crf_viterbi_accuracy: 0.990 - ETA: 23s - loss: 9.4393 - crf_viterbi_accuracy: 0.990 - ETA: 22s - loss: 9.4151 - crf_viterbi_accuracy: 0.990 - ETA: 21s - loss: 9.3773 - crf_viterbi_accuracy: 0.990 - ETA: 20s - loss: 9.3814 - crf_viterbi_accuracy: 0.990 - ETA: 19s - loss: 9.3546 - crf_viterbi_accuracy: 0.990 - ETA: 18s - loss: 9.4043 - crf_viterbi_accuracy: 0.990 - ETA: 17s - loss: 9.4188 - crf_viterbi_accuracy: 0.990 - ETA: 17s - loss: 9.4180 - crf_viterbi_accuracy: 0.990 - ETA: 16s - loss: 9.3992 - crf_viterbi_accuracy: 0.990 - ETA: 15s - loss: 9.4069 - crf_viterbi_accuracy: 0.990 - ETA: 14s - loss: 9.3923 - crf_viterbi_accuracy: 0.990 - ETA: 13s - loss: 9.3891 - crf_viterbi_accuracy: 0.990 - ETA: 12s - loss: 9.3983 - crf_viterbi_accuracy: 0.990 - ETA: 11s - loss: 9.3816 - crf_viterbi_accuracy: 0.990 - ETA: 11s - loss: 9.3590 - crf_viterbi_accuracy: 0.990 - ETA: 10s - loss: 9.3453 - crf_viterbi_accuracy: 0.990 - ETA: 9s - loss: 9.3854 - crf_viterbi_accuracy: 0.990 - ETA: 8s - loss: 9.3757 - crf_viterbi_accuracy: 0.99 - ETA: 7s - loss: 9.3635 - crf_viterbi_accuracy: 0.99 - ETA: 6s - loss: 9.3484 - crf_viterbi_accuracy: 0.99 - ETA: 5s - loss: 9.3462 - crf_viterbi_accuracy: 0.99 - ETA: 4s - loss: 9.3185 - crf_viterbi_accuracy: 0.99 - ETA: 4s - loss: 9.2999 - crf_viterbi_accuracy: 0.99 - ETA: 3s - loss: 9.3179 - crf_viterbi_accuracy: 0.99 - ETA: 2s - loss: 9.3266 - crf_viterbi_accuracy: 0.99 - ETA: 1s - loss: 9.3157 - crf_viterbi_accuracy: 0.99 - ETA: 0s - loss: 9.3187 - crf_viterbi_accuracy: 0.99 - 91s 19ms/step - loss: 9.3067 - crf_viterbi_accuracy: 0.9903 - val_loss: 9.5886 - val_crf_viterbi_accuracy: 0.9781\n",
      "Epoch 8/10\n"
     ]
    },
    {
     "name": "stdout",
     "output_type": "stream",
     "text": [
      "4879/4879 [==============================] - ETA: 1:34 - loss: 10.4031 - crf_viterbi_accuracy: 0.998 - ETA: 1:26 - loss: 10.4304 - crf_viterbi_accuracy: 0.995 - ETA: 1:21 - loss: 9.6890 - crf_viterbi_accuracy: 0.994 - ETA: 1:20 - loss: 9.1316 - crf_viterbi_accuracy: 0.99 - ETA: 1:19 - loss: 8.9370 - crf_viterbi_accuracy: 0.99 - ETA: 1:17 - loss: 9.1693 - crf_viterbi_accuracy: 0.99 - ETA: 1:16 - loss: 9.2129 - crf_viterbi_accuracy: 0.99 - ETA: 1:14 - loss: 9.5084 - crf_viterbi_accuracy: 0.99 - ETA: 1:13 - loss: 9.3664 - crf_viterbi_accuracy: 0.99 - ETA: 1:12 - loss: 9.3543 - crf_viterbi_accuracy: 0.99 - ETA: 1:11 - loss: 9.2811 - crf_viterbi_accuracy: 0.99 - ETA: 1:10 - loss: 9.3221 - crf_viterbi_accuracy: 0.99 - ETA: 1:09 - loss: 9.2486 - crf_viterbi_accuracy: 0.99 - ETA: 1:08 - loss: 9.3027 - crf_viterbi_accuracy: 0.99 - ETA: 1:07 - loss: 9.3494 - crf_viterbi_accuracy: 0.99 - ETA: 1:07 - loss: 9.4034 - crf_viterbi_accuracy: 0.99 - ETA: 1:06 - loss: 9.4110 - crf_viterbi_accuracy: 0.99 - ETA: 1:05 - loss: 9.3837 - crf_viterbi_accuracy: 0.99 - ETA: 1:04 - loss: 9.3581 - crf_viterbi_accuracy: 0.99 - ETA: 1:03 - loss: 9.2375 - crf_viterbi_accuracy: 0.99 - ETA: 1:02 - loss: 9.4100 - crf_viterbi_accuracy: 0.99 - ETA: 1:01 - loss: 9.3680 - crf_viterbi_accuracy: 0.99 - ETA: 1:01 - loss: 9.3659 - crf_viterbi_accuracy: 0.99 - ETA: 1:00 - loss: 9.4890 - crf_viterbi_accuracy: 0.99 - ETA: 59s - loss: 9.4277 - crf_viterbi_accuracy: 0.9940 - ETA: 58s - loss: 9.3922 - crf_viterbi_accuracy: 0.994 - ETA: 57s - loss: 9.3672 - crf_viterbi_accuracy: 0.994 - ETA: 57s - loss: 9.3489 - crf_viterbi_accuracy: 0.993 - ETA: 56s - loss: 9.3416 - crf_viterbi_accuracy: 0.993 - ETA: 55s - loss: 9.3199 - crf_viterbi_accuracy: 0.993 - ETA: 54s - loss: 9.3901 - crf_viterbi_accuracy: 0.993 - ETA: 53s - loss: 9.3605 - crf_viterbi_accuracy: 0.993 - ETA: 52s - loss: 9.4058 - crf_viterbi_accuracy: 0.993 - ETA: 52s - loss: 9.4600 - crf_viterbi_accuracy: 0.993 - ETA: 51s - loss: 9.4092 - crf_viterbi_accuracy: 0.993 - ETA: 50s - loss: 9.3523 - crf_viterbi_accuracy: 0.993 - ETA: 49s - loss: 9.3468 - crf_viterbi_accuracy: 0.993 - ETA: 48s - loss: 9.3840 - crf_viterbi_accuracy: 0.993 - ETA: 48s - loss: 9.3811 - crf_viterbi_accuracy: 0.993 - ETA: 47s - loss: 9.3398 - crf_viterbi_accuracy: 0.993 - ETA: 46s - loss: 9.3467 - crf_viterbi_accuracy: 0.993 - ETA: 45s - loss: 9.3092 - crf_viterbi_accuracy: 0.993 - ETA: 44s - loss: 9.3281 - crf_viterbi_accuracy: 0.993 - ETA: 43s - loss: 9.3983 - crf_viterbi_accuracy: 0.993 - ETA: 43s - loss: 9.3675 - crf_viterbi_accuracy: 0.993 - ETA: 42s - loss: 9.3267 - crf_viterbi_accuracy: 0.993 - ETA: 41s - loss: 9.3606 - crf_viterbi_accuracy: 0.993 - ETA: 40s - loss: 9.3919 - crf_viterbi_accuracy: 0.993 - ETA: 39s - loss: 9.3869 - crf_viterbi_accuracy: 0.992 - ETA: 38s - loss: 9.3966 - crf_viterbi_accuracy: 0.992 - ETA: 38s - loss: 9.4045 - crf_viterbi_accuracy: 0.992 - ETA: 37s - loss: 9.3664 - crf_viterbi_accuracy: 0.993 - ETA: 36s - loss: 9.3829 - crf_viterbi_accuracy: 0.992 - ETA: 35s - loss: 9.3752 - crf_viterbi_accuracy: 0.992 - ETA: 34s - loss: 9.3795 - crf_viterbi_accuracy: 0.992 - ETA: 34s - loss: 9.3458 - crf_viterbi_accuracy: 0.992 - ETA: 33s - loss: 9.3467 - crf_viterbi_accuracy: 0.992 - ETA: 32s - loss: 9.3365 - crf_viterbi_accuracy: 0.992 - ETA: 31s - loss: 9.4003 - crf_viterbi_accuracy: 0.992 - ETA: 30s - loss: 9.4030 - crf_viterbi_accuracy: 0.992 - ETA: 30s - loss: 9.3767 - crf_viterbi_accuracy: 0.992 - ETA: 29s - loss: 9.3703 - crf_viterbi_accuracy: 0.992 - ETA: 28s - loss: 9.3542 - crf_viterbi_accuracy: 0.992 - ETA: 27s - loss: 9.3608 - crf_viterbi_accuracy: 0.992 - ETA: 26s - loss: 9.3843 - crf_viterbi_accuracy: 0.992 - ETA: 25s - loss: 9.4034 - crf_viterbi_accuracy: 0.992 - ETA: 25s - loss: 9.4098 - crf_viterbi_accuracy: 0.992 - ETA: 24s - loss: 9.3875 - crf_viterbi_accuracy: 0.992 - ETA: 23s - loss: 9.4327 - crf_viterbi_accuracy: 0.992 - ETA: 22s - loss: 9.4421 - crf_viterbi_accuracy: 0.992 - ETA: 21s - loss: 9.4273 - crf_viterbi_accuracy: 0.992 - ETA: 21s - loss: 9.4076 - crf_viterbi_accuracy: 0.992 - ETA: 20s - loss: 9.3967 - crf_viterbi_accuracy: 0.992 - ETA: 19s - loss: 9.4214 - crf_viterbi_accuracy: 0.992 - ETA: 18s - loss: 9.4044 - crf_viterbi_accuracy: 0.992 - ETA: 17s - loss: 9.4000 - crf_viterbi_accuracy: 0.992 - ETA: 16s - loss: 9.3971 - crf_viterbi_accuracy: 0.992 - ETA: 16s - loss: 9.3672 - crf_viterbi_accuracy: 0.992 - ETA: 15s - loss: 9.3853 - crf_viterbi_accuracy: 0.992 - ETA: 14s - loss: 9.3776 - crf_viterbi_accuracy: 0.992 - ETA: 13s - loss: 9.3608 - crf_viterbi_accuracy: 0.992 - ETA: 12s - loss: 9.3392 - crf_viterbi_accuracy: 0.992 - ETA: 11s - loss: 9.3300 - crf_viterbi_accuracy: 0.992 - ETA: 11s - loss: 9.3276 - crf_viterbi_accuracy: 0.991 - ETA: 10s - loss: 9.3230 - crf_viterbi_accuracy: 0.991 - ETA: 9s - loss: 9.3581 - crf_viterbi_accuracy: 0.991 - ETA: 8s - loss: 9.3501 - crf_viterbi_accuracy: 0.99 - ETA: 7s - loss: 9.3542 - crf_viterbi_accuracy: 0.99 - ETA: 7s - loss: 9.3575 - crf_viterbi_accuracy: 0.99 - ETA: 6s - loss: 9.3554 - crf_viterbi_accuracy: 0.99 - ETA: 5s - loss: 9.3453 - crf_viterbi_accuracy: 0.99 - ETA: 4s - loss: 9.3389 - crf_viterbi_accuracy: 0.99 - ETA: 3s - loss: 9.3321 - crf_viterbi_accuracy: 0.99 - ETA: 2s - loss: 9.3201 - crf_viterbi_accuracy: 0.99 - ETA: 2s - loss: 9.3360 - crf_viterbi_accuracy: 0.99 - ETA: 1s - loss: 9.3166 - crf_viterbi_accuracy: 0.99 - ETA: 0s - loss: 9.3041 - crf_viterbi_accuracy: 0.99 - 82s 17ms/step - loss: 9.3025 - crf_viterbi_accuracy: 0.9919 - val_loss: 9.5891 - val_crf_viterbi_accuracy: 0.9770\n",
      "Epoch 9/10\n"
     ]
    },
    {
     "name": "stdout",
     "output_type": "stream",
     "text": [
      "4879/4879 [==============================] - ETA: 1:17 - loss: 8.1127 - crf_viterbi_accuracy: 0.99 - ETA: 1:16 - loss: 8.8925 - crf_viterbi_accuracy: 0.99 - ETA: 1:16 - loss: 8.8100 - crf_viterbi_accuracy: 0.99 - ETA: 1:16 - loss: 8.8347 - crf_viterbi_accuracy: 0.99 - ETA: 1:15 - loss: 9.1229 - crf_viterbi_accuracy: 0.99 - ETA: 1:15 - loss: 9.1214 - crf_viterbi_accuracy: 0.99 - ETA: 1:13 - loss: 9.1855 - crf_viterbi_accuracy: 0.99 - ETA: 1:12 - loss: 8.9549 - crf_viterbi_accuracy: 0.99 - ETA: 1:11 - loss: 8.9161 - crf_viterbi_accuracy: 0.99 - ETA: 1:11 - loss: 9.1095 - crf_viterbi_accuracy: 0.99 - ETA: 1:10 - loss: 9.2151 - crf_viterbi_accuracy: 0.99 - ETA: 1:09 - loss: 9.2642 - crf_viterbi_accuracy: 0.99 - ETA: 1:08 - loss: 9.1910 - crf_viterbi_accuracy: 0.99 - ETA: 1:08 - loss: 9.3446 - crf_viterbi_accuracy: 0.99 - ETA: 1:07 - loss: 9.3890 - crf_viterbi_accuracy: 0.99 - ETA: 1:06 - loss: 9.3950 - crf_viterbi_accuracy: 0.99 - ETA: 1:05 - loss: 9.3466 - crf_viterbi_accuracy: 0.99 - ETA: 1:04 - loss: 9.2791 - crf_viterbi_accuracy: 0.99 - ETA: 1:03 - loss: 9.1756 - crf_viterbi_accuracy: 0.99 - ETA: 1:03 - loss: 9.1621 - crf_viterbi_accuracy: 0.99 - ETA: 1:02 - loss: 9.0812 - crf_viterbi_accuracy: 0.99 - ETA: 1:01 - loss: 9.0972 - crf_viterbi_accuracy: 0.99 - ETA: 1:00 - loss: 9.1068 - crf_viterbi_accuracy: 0.99 - ETA: 59s - loss: 9.1823 - crf_viterbi_accuracy: 0.9943 - ETA: 59s - loss: 9.2139 - crf_viterbi_accuracy: 0.994 - ETA: 58s - loss: 9.4181 - crf_viterbi_accuracy: 0.994 - ETA: 57s - loss: 9.3984 - crf_viterbi_accuracy: 0.994 - ETA: 56s - loss: 9.4444 - crf_viterbi_accuracy: 0.994 - ETA: 55s - loss: 9.4202 - crf_viterbi_accuracy: 0.994 - ETA: 54s - loss: 9.4584 - crf_viterbi_accuracy: 0.994 - ETA: 54s - loss: 9.4720 - crf_viterbi_accuracy: 0.994 - ETA: 53s - loss: 9.3974 - crf_viterbi_accuracy: 0.994 - ETA: 52s - loss: 9.3965 - crf_viterbi_accuracy: 0.994 - ETA: 51s - loss: 9.3892 - crf_viterbi_accuracy: 0.994 - ETA: 50s - loss: 9.4260 - crf_viterbi_accuracy: 0.994 - ETA: 49s - loss: 9.3729 - crf_viterbi_accuracy: 0.994 - ETA: 49s - loss: 9.3398 - crf_viterbi_accuracy: 0.994 - ETA: 48s - loss: 9.3605 - crf_viterbi_accuracy: 0.994 - ETA: 47s - loss: 9.3494 - crf_viterbi_accuracy: 0.994 - ETA: 46s - loss: 9.3116 - crf_viterbi_accuracy: 0.994 - ETA: 46s - loss: 9.2778 - crf_viterbi_accuracy: 0.994 - ETA: 45s - loss: 9.3520 - crf_viterbi_accuracy: 0.994 - ETA: 44s - loss: 9.3722 - crf_viterbi_accuracy: 0.994 - ETA: 43s - loss: 9.4273 - crf_viterbi_accuracy: 0.994 - ETA: 42s - loss: 9.4183 - crf_viterbi_accuracy: 0.994 - ETA: 42s - loss: 9.4267 - crf_viterbi_accuracy: 0.994 - ETA: 41s - loss: 9.4307 - crf_viterbi_accuracy: 0.994 - ETA: 40s - loss: 9.4336 - crf_viterbi_accuracy: 0.994 - ETA: 39s - loss: 9.4140 - crf_viterbi_accuracy: 0.994 - ETA: 38s - loss: 9.3932 - crf_viterbi_accuracy: 0.994 - ETA: 37s - loss: 9.4075 - crf_viterbi_accuracy: 0.994 - ETA: 37s - loss: 9.3734 - crf_viterbi_accuracy: 0.994 - ETA: 36s - loss: 9.3652 - crf_viterbi_accuracy: 0.994 - ETA: 35s - loss: 9.3585 - crf_viterbi_accuracy: 0.994 - ETA: 34s - loss: 9.3571 - crf_viterbi_accuracy: 0.994 - ETA: 33s - loss: 9.3136 - crf_viterbi_accuracy: 0.994 - ETA: 33s - loss: 9.3089 - crf_viterbi_accuracy: 0.994 - ETA: 32s - loss: 9.3028 - crf_viterbi_accuracy: 0.994 - ETA: 31s - loss: 9.3352 - crf_viterbi_accuracy: 0.994 - ETA: 30s - loss: 9.3328 - crf_viterbi_accuracy: 0.994 - ETA: 29s - loss: 9.3215 - crf_viterbi_accuracy: 0.994 - ETA: 29s - loss: 9.2843 - crf_viterbi_accuracy: 0.994 - ETA: 28s - loss: 9.2720 - crf_viterbi_accuracy: 0.993 - ETA: 27s - loss: 9.2518 - crf_viterbi_accuracy: 0.994 - ETA: 26s - loss: 9.2467 - crf_viterbi_accuracy: 0.994 - ETA: 25s - loss: 9.2855 - crf_viterbi_accuracy: 0.994 - ETA: 25s - loss: 9.2616 - crf_viterbi_accuracy: 0.994 - ETA: 24s - loss: 9.2782 - crf_viterbi_accuracy: 0.994 - ETA: 23s - loss: 9.2922 - crf_viterbi_accuracy: 0.994 - ETA: 22s - loss: 9.2913 - crf_viterbi_accuracy: 0.994 - ETA: 21s - loss: 9.2818 - crf_viterbi_accuracy: 0.994 - ETA: 20s - loss: 9.2697 - crf_viterbi_accuracy: 0.994 - ETA: 20s - loss: 9.2527 - crf_viterbi_accuracy: 0.993 - ETA: 19s - loss: 9.2675 - crf_viterbi_accuracy: 0.993 - ETA: 18s - loss: 9.2504 - crf_viterbi_accuracy: 0.994 - ETA: 17s - loss: 9.2520 - crf_viterbi_accuracy: 0.994 - ETA: 16s - loss: 9.2566 - crf_viterbi_accuracy: 0.994 - ETA: 15s - loss: 9.2425 - crf_viterbi_accuracy: 0.994 - ETA: 15s - loss: 9.2423 - crf_viterbi_accuracy: 0.994 - ETA: 14s - loss: 9.2909 - crf_viterbi_accuracy: 0.994 - ETA: 13s - loss: 9.2682 - crf_viterbi_accuracy: 0.994 - ETA: 12s - loss: 9.2747 - crf_viterbi_accuracy: 0.994 - ETA: 11s - loss: 9.3091 - crf_viterbi_accuracy: 0.994 - ETA: 11s - loss: 9.3020 - crf_viterbi_accuracy: 0.994 - ETA: 10s - loss: 9.2966 - crf_viterbi_accuracy: 0.993 - ETA: 9s - loss: 9.3120 - crf_viterbi_accuracy: 0.993 - ETA: 8s - loss: 9.3081 - crf_viterbi_accuracy: 0.99 - ETA: 7s - loss: 9.3361 - crf_viterbi_accuracy: 0.99 - ETA: 7s - loss: 9.3384 - crf_viterbi_accuracy: 0.99 - ETA: 6s - loss: 9.3230 - crf_viterbi_accuracy: 0.99 - ETA: 5s - loss: 9.3145 - crf_viterbi_accuracy: 0.99 - ETA: 4s - loss: 9.2951 - crf_viterbi_accuracy: 0.99 - ETA: 3s - loss: 9.3137 - crf_viterbi_accuracy: 0.99 - ETA: 2s - loss: 9.3238 - crf_viterbi_accuracy: 0.99 - ETA: 2s - loss: 9.3141 - crf_viterbi_accuracy: 0.99 - ETA: 1s - loss: 9.2995 - crf_viterbi_accuracy: 0.99 - ETA: 0s - loss: 9.2852 - crf_viterbi_accuracy: 0.99 - 81s 17ms/step - loss: 9.2992 - crf_viterbi_accuracy: 0.9933 - val_loss: 9.5915 - val_crf_viterbi_accuracy: 0.9787\n",
      "Epoch 10/10\n"
     ]
    },
    {
     "name": "stdout",
     "output_type": "stream",
     "text": [
      "4879/4879 [==============================] - ETA: 1:15 - loss: 14.6289 - crf_viterbi_accuracy: 0.998 - ETA: 1:16 - loss: 13.0786 - crf_viterbi_accuracy: 0.995 - ETA: 1:16 - loss: 11.9651 - crf_viterbi_accuracy: 0.993 - ETA: 1:17 - loss: 11.3096 - crf_viterbi_accuracy: 0.994 - ETA: 1:17 - loss: 10.5693 - crf_viterbi_accuracy: 0.995 - ETA: 1:15 - loss: 10.1459 - crf_viterbi_accuracy: 0.995 - ETA: 1:14 - loss: 9.8552 - crf_viterbi_accuracy: 0.995 - ETA: 1:12 - loss: 9.6861 - crf_viterbi_accuracy: 0.99 - ETA: 1:12 - loss: 9.5920 - crf_viterbi_accuracy: 0.99 - ETA: 1:11 - loss: 9.7046 - crf_viterbi_accuracy: 0.99 - ETA: 1:10 - loss: 9.6055 - crf_viterbi_accuracy: 0.99 - ETA: 1:09 - loss: 9.3900 - crf_viterbi_accuracy: 0.99 - ETA: 1:08 - loss: 9.5436 - crf_viterbi_accuracy: 0.99 - ETA: 1:07 - loss: 9.6424 - crf_viterbi_accuracy: 0.99 - ETA: 1:06 - loss: 9.5942 - crf_viterbi_accuracy: 0.99 - ETA: 1:06 - loss: 9.5930 - crf_viterbi_accuracy: 0.99 - ETA: 1:05 - loss: 9.6050 - crf_viterbi_accuracy: 0.99 - ETA: 1:04 - loss: 9.4739 - crf_viterbi_accuracy: 0.99 - ETA: 1:04 - loss: 9.4124 - crf_viterbi_accuracy: 0.99 - ETA: 1:03 - loss: 9.4080 - crf_viterbi_accuracy: 0.99 - ETA: 1:02 - loss: 9.4511 - crf_viterbi_accuracy: 0.99 - ETA: 1:01 - loss: 9.6282 - crf_viterbi_accuracy: 0.99 - ETA: 1:00 - loss: 9.5344 - crf_viterbi_accuracy: 0.99 - ETA: 59s - loss: 9.4743 - crf_viterbi_accuracy: 0.9956 - ETA: 59s - loss: 9.4633 - crf_viterbi_accuracy: 0.995 - ETA: 58s - loss: 9.4723 - crf_viterbi_accuracy: 0.995 - ETA: 57s - loss: 9.4966 - crf_viterbi_accuracy: 0.995 - ETA: 56s - loss: 9.4790 - crf_viterbi_accuracy: 0.995 - ETA: 55s - loss: 9.4429 - crf_viterbi_accuracy: 0.995 - ETA: 55s - loss: 9.3867 - crf_viterbi_accuracy: 0.995 - ETA: 54s - loss: 9.3344 - crf_viterbi_accuracy: 0.995 - ETA: 53s - loss: 9.3483 - crf_viterbi_accuracy: 0.995 - ETA: 52s - loss: 9.3928 - crf_viterbi_accuracy: 0.995 - ETA: 52s - loss: 9.4024 - crf_viterbi_accuracy: 0.994 - ETA: 51s - loss: 9.3772 - crf_viterbi_accuracy: 0.994 - ETA: 50s - loss: 9.3317 - crf_viterbi_accuracy: 0.994 - ETA: 49s - loss: 9.3068 - crf_viterbi_accuracy: 0.994 - ETA: 48s - loss: 9.3533 - crf_viterbi_accuracy: 0.994 - ETA: 47s - loss: 9.3095 - crf_viterbi_accuracy: 0.994 - ETA: 47s - loss: 9.3652 - crf_viterbi_accuracy: 0.995 - ETA: 46s - loss: 9.3501 - crf_viterbi_accuracy: 0.995 - ETA: 45s - loss: 9.3320 - crf_viterbi_accuracy: 0.995 - ETA: 44s - loss: 9.3121 - crf_viterbi_accuracy: 0.995 - ETA: 43s - loss: 9.2908 - crf_viterbi_accuracy: 0.995 - ETA: 42s - loss: 9.2892 - crf_viterbi_accuracy: 0.995 - ETA: 42s - loss: 9.3072 - crf_viterbi_accuracy: 0.995 - ETA: 41s - loss: 9.2871 - crf_viterbi_accuracy: 0.995 - ETA: 40s - loss: 9.2859 - crf_viterbi_accuracy: 0.994 - ETA: 39s - loss: 9.3235 - crf_viterbi_accuracy: 0.994 - ETA: 38s - loss: 9.2699 - crf_viterbi_accuracy: 0.994 - ETA: 37s - loss: 9.2993 - crf_viterbi_accuracy: 0.994 - ETA: 37s - loss: 9.3336 - crf_viterbi_accuracy: 0.994 - ETA: 36s - loss: 9.3141 - crf_viterbi_accuracy: 0.994 - ETA: 35s - loss: 9.3519 - crf_viterbi_accuracy: 0.994 - ETA: 34s - loss: 9.3609 - crf_viterbi_accuracy: 0.995 - ETA: 33s - loss: 9.3477 - crf_viterbi_accuracy: 0.994 - ETA: 33s - loss: 9.4136 - crf_viterbi_accuracy: 0.994 - ETA: 32s - loss: 9.3736 - crf_viterbi_accuracy: 0.995 - ETA: 31s - loss: 9.4056 - crf_viterbi_accuracy: 0.995 - ETA: 30s - loss: 9.3904 - crf_viterbi_accuracy: 0.994 - ETA: 29s - loss: 9.3872 - crf_viterbi_accuracy: 0.994 - ETA: 28s - loss: 9.3891 - crf_viterbi_accuracy: 0.994 - ETA: 28s - loss: 9.3839 - crf_viterbi_accuracy: 0.994 - ETA: 27s - loss: 9.3867 - crf_viterbi_accuracy: 0.995 - ETA: 26s - loss: 9.3807 - crf_viterbi_accuracy: 0.994 - ETA: 25s - loss: 9.3477 - crf_viterbi_accuracy: 0.995 - ETA: 24s - loss: 9.3124 - crf_viterbi_accuracy: 0.995 - ETA: 24s - loss: 9.3037 - crf_viterbi_accuracy: 0.994 - ETA: 23s - loss: 9.3053 - crf_viterbi_accuracy: 0.994 - ETA: 22s - loss: 9.3115 - crf_viterbi_accuracy: 0.994 - ETA: 21s - loss: 9.3227 - crf_viterbi_accuracy: 0.994 - ETA: 20s - loss: 9.3187 - crf_viterbi_accuracy: 0.994 - ETA: 19s - loss: 9.3074 - crf_viterbi_accuracy: 0.994 - ETA: 19s - loss: 9.2921 - crf_viterbi_accuracy: 0.994 - ETA: 18s - loss: 9.2941 - crf_viterbi_accuracy: 0.994 - ETA: 17s - loss: 9.3024 - crf_viterbi_accuracy: 0.994 - ETA: 16s - loss: 9.3442 - crf_viterbi_accuracy: 0.994 - ETA: 15s - loss: 9.3449 - crf_viterbi_accuracy: 0.994 - ETA: 15s - loss: 9.3207 - crf_viterbi_accuracy: 0.994 - ETA: 14s - loss: 9.3215 - crf_viterbi_accuracy: 0.994 - ETA: 13s - loss: 9.3052 - crf_viterbi_accuracy: 0.994 - ETA: 12s - loss: 9.3260 - crf_viterbi_accuracy: 0.994 - ETA: 11s - loss: 9.3310 - crf_viterbi_accuracy: 0.994 - ETA: 11s - loss: 9.3542 - crf_viterbi_accuracy: 0.994 - ETA: 10s - loss: 9.3412 - crf_viterbi_accuracy: 0.994 - ETA: 9s - loss: 9.3351 - crf_viterbi_accuracy: 0.994 - ETA: 8s - loss: 9.3394 - crf_viterbi_accuracy: 0.99 - ETA: 7s - loss: 9.3419 - crf_viterbi_accuracy: 0.99 - ETA: 6s - loss: 9.3524 - crf_viterbi_accuracy: 0.99 - ETA: 6s - loss: 9.3212 - crf_viterbi_accuracy: 0.99 - ETA: 5s - loss: 9.3587 - crf_viterbi_accuracy: 0.99 - ETA: 4s - loss: 9.3396 - crf_viterbi_accuracy: 0.99 - ETA: 3s - loss: 9.3220 - crf_viterbi_accuracy: 0.99 - ETA: 2s - loss: 9.3321 - crf_viterbi_accuracy: 0.99 - ETA: 2s - loss: 9.3302 - crf_viterbi_accuracy: 0.99 - ETA: 1s - loss: 9.3159 - crf_viterbi_accuracy: 0.99 - ETA: 0s - loss: 9.3017 - crf_viterbi_accuracy: 0.99 - 80s 16ms/step - loss: 9.2960 - crf_viterbi_accuracy: 0.9948 - val_loss: 9.5947 - val_crf_viterbi_accuracy: 0.9791\n"
     ]
    }
   ],
   "source": [
    "history = model.fit(X, np.array(y), batch_size=batch_size, epochs=epochs,\n",
    "                    validation_split=0.1)"
   ]
  },
  {
   "cell_type": "code",
   "execution_count": 15,
   "metadata": {},
   "outputs": [
    {
     "data": {
      "text/plain": [
       "<matplotlib.legend.Legend at 0x2082add16a0>"
      ]
     },
     "execution_count": 15,
     "metadata": {},
     "output_type": "execute_result"
    },
    {
     "data": {
      "image/png": "[encoded data removed]",
      "text/plain": [
       "<Figure size 576x576 with 1 Axes>"
      ]
     },
     "metadata": {
      "needs_background": "light"
     },
     "output_type": "display_data"
    }
   ],
   "source": [
    "acc = history.history['crf_viterbi_accuracy']\n",
    "val_acc = history.history['val_crf_viterbi_accuracy']\n",
    "loss = history.history['loss']\n",
    "val_loss = history.history['val_loss']\n",
    "plt.figure(figsize = (8, 8))\n",
    "epochs = range(1, len(acc) + 1)\n",
    "plt.plot(epochs, acc, 'bo', label='Training acc')\n",
    "plt.plot(epochs, val_acc, 'b', label='Validation acc')\n",
    "plt.title('Training and validation accuracy')\n",
    "plt.legend()"
   ]
  },
  {
   "cell_type": "code",
   "execution_count": 16,
   "metadata": {},
   "outputs": [
    {
     "data": {
      "image/png": "[encoded data removed]",
      "text/plain": [
       "<Figure size 576x576 with 1 Axes>"
      ]
     },
     "metadata": {
      "needs_background": "light"
     },
     "output_type": "display_data"
    }
   ],
   "source": [
    "plt.figure(figsize = (8, 8))\n",
    "plt.plot(epochs, loss, 'bo', label='Training loss')\n",
    "plt.plot(epochs, val_loss, 'b', label='Validation loss')\n",
    "plt.title('Training and validation loss')\n",
    "plt.legend()\n",
    "plt.show()"
   ]
  },
  {
   "cell_type": "code",
   "execution_count": 17,
   "metadata": {},
   "outputs": [
    {
     "name": "stdout",
     "output_type": "stream",
     "text": [
      "[1, 3, 532, 219, 52, 8, 2065, 19, 2066, 135, 52, 6, 696, 145, 19, 489, 1, 14] [3270, 19, 2066, 16, 116, 19, 145, 18, 285, 6, 509, 5404, 19, 1024, 789, 1251, 25, 219, 52, 8, 2067, 135, 146, 5336, 19, 1, 16, 4407, 14, 108, 18, 14]\n",
      "[['Clustering', 'O'], ['of', 'O'], ['missense', 'O'], ['mutations', 'O'], ['in', 'O'], ['the', 'O'], ['ataxia', 'B-Disease'], ['-', 'I-Disease'], ['telangiectasia', 'I-Disease'], ['gene', 'O'], ['in', 'O'], ['a', 'O'], ['sporadic', 'B-Disease'], ['T', 'I-Disease'], ['-', 'I-Disease'], ['cell', 'I-Disease'], ['leukaemia', 'I-Disease'], ['.', 'O']]\n",
      "[['Ataxia', 'B-Disease'], ['-', 'I-Disease'], ['telangiectasia', 'I-Disease'], ['(', 'O'], ['A', 'B-Disease'], ['-', 'I-Disease'], ['T', 'I-Disease'], [')', 'O'], ['is', 'O'], ['a', 'O'], ['recessive', 'B-Disease'], ['multi', 'I-Disease'], ['-', 'I-Disease'], ['system', 'I-Disease'], ['disorder', 'I-Disease'], ['caused', 'O'], ['by', 'O'], ['mutations', 'O'], ['in', 'O'], ['the', 'O'], ['ATM', 'O'], ['gene', 'O'], ['at', 'O'], ['11q22', 'O'], ['-', 'O'], ['q23', 'O'], ['(', 'O'], ['ref', 'O'], ['.', 'O'], ['3', 'O'], [')', 'O'], ['.', 'O']]\n",
      "[['The', 'O'], ['risk', 'O'], ['of', 'O'], ['cancer', 'B-Disease'], [',', 'O'], ['especially', 'O'], ['lymphoid', 'B-Disease'], ['neoplasias', 'I-Disease'], [',', 'O'], ['is', 'O'], ['substantially', 'O'], ['elevated', 'O'], ['in', 'O'], ['A', 'B-Disease'], ['-', 'I-Disease'], ['T', 'I-Disease'], ['patients', 'O'], ['and', 'O'], ['has', 'O'], ['long', 'O'], ['been', 'O'], ['associated', 'O'], ['with', 'O'], ['chromosomal', 'O'], ['instability', 'O'], ['.', 'O']]\n",
      "[['By', 'O'], ['analysing', 'O'], ['tumour', 'B-Disease'], ['DNA', 'O'], ['from', 'O'], ['patients', 'O'], ['with', 'O'], ['sporadic', 'B-Disease'], ['T', 'I-Disease'], ['-', 'I-Disease'], ['cell', 'I-Disease'], ['prolymphocytic', 'I-Disease'], ['leukaemia', 'I-Disease'], ['(', 'O'], ['T', 'B-Disease'], ['-', 'I-Disease'], ['PLL', 'I-Disease'], [')', 'O'], [',', 'O'], ['a', 'O'], ['rare', 'O'], ['clonal', 'B-Disease'], ['malignancy', 'I-Disease'], ['with', 'O'], ['similarities', 'O'], ['to', 'O'], ['a', 'O'], ['mature', 'B-Disease'], ['T', 'I-Disease'], ['-', 'I-Disease'], ['cell', 'I-Disease'], ['leukaemia', 'I-Disease'], ['seen', 'O'], ['in', 'O'], ['A', 'B-Disease'], ['-', 'I-Disease'], ['T', 'I-Disease'], [',', 'O'], ['we', 'O'], ['demonstrate', 'O'], ['a', 'O'], ['high', 'O'], ['frequency', 'O'], ['of', 'O'], ['ATM', 'O'], ['mutations', 'O'], ['in', 'O'], ['T', 'B-Disease'], ['-', 'I-Disease'], ['PLL', 'I-Disease'], ['.', 'O']]\n",
      "[['In', 'O'], ['marked', 'O'], ['contrast', 'O'], ['to', 'O'], ['the', 'O'], ['ATM', 'O'], ['mutation', 'O'], ['pattern', 'O'], ['in', 'O'], ['A', 'B-Disease'], ['-', 'I-Disease'], ['T', 'I-Disease'], [',', 'O'], ['the', 'O'], ['most', 'O'], ['frequent', 'O'], ['nucleotide', 'O'], ['changes', 'O'], ['in', 'O'], ['this', 'O'], ['leukaemia', 'B-Disease'], ['were', 'O'], ['missense', 'O'], ['mutations', 'O'], ['.', 'O']]\n",
      "[['These', 'O'], ['clustered', 'O'], ['in', 'O'], ['the', 'O'], ['region', 'O'], ['corresponding', 'O'], ['to', 'O'], ['the', 'O'], ['kinase', 'O'], ['domain', 'O'], [',', 'O'], ['which', 'O'], ['is', 'O'], ['highly', 'O'], ['conserved', 'O'], ['in', 'O'], ['ATM', 'O'], ['-', 'O'], ['related', 'O'], ['proteins', 'O'], ['in', 'O'], ['mouse', 'O'], [',', 'O'], ['yeast', 'O'], ['and', 'O'], ['Drosophila', 'O'], ['.', 'O']]\n",
      "[1, 1, 1, 1, 1, 1, 2, 3, 3, 1, 1, 1, 2, 3, 3, 3, 3, 1]\n",
      "3\n"
     ]
    }
   ],
   "source": [
    "tsvfile=open(\"NCBI-disease-IOB/test.tsv\",encoding=\"utf-8\")\n",
    "tsvreader = csv.reader(tsvfile, delimiter=\"\\t\")\n",
    "data1=[]\n",
    "sentences1=[]\n",
    "words1=[]\n",
    "tags1=[]\n",
    "for line in tsvreader:\n",
    "    if line!=[]:\n",
    "        data1.append(line)\n",
    "        if line[0] not in words1:\n",
    "            words1.append(line[0])\n",
    "        if line[1] not in tags1:\n",
    "            tags1.append(line[1])\n",
    "    else:\n",
    "        sentences1.append(data1)\n",
    "        data1=[]\n",
    "\n",
    "X1 = [[word_to_index[w[0] if w[0] in words else \"UNK\"] for w in s] for s in sentences1]\n",
    "print(X1[0],X1[1])\n",
    "count=0\n",
    "for s in sentences1:\n",
    "    print(s)\n",
    "    count=count+1\n",
    "    if count>5:\n",
    "        break\n",
    "# Padding each sequence to have same length  of each word\n",
    "X1 = pad_sequences(maxlen = max_len, sequences = X1, padding = \"post\", value = word_to_index[\"PAD\"])\n",
    "y1 = [[tag_to_index[w[1]] for w in s] for s in sentences1]\n",
    "print(y1[0])\n",
    "# padding\n",
    "y1 = pad_sequences(maxlen = max_len, sequences = y1, padding = \"post\", value = tag_to_index[\"PAD\"])\n",
    "num_tag = 3\n",
    "print(num_tag)\n",
    "# One hot encoded labels\n",
    "y1=[to_categorical(i, num_classes = num_tag + 1) for i in y1]"
   ]
  },
  {
   "cell_type": "code",
   "execution_count": 18,
   "metadata": {},
   "outputs": [],
   "source": [
    "y_pred = model.predict(X1)\n",
    "y_pred = np.argmax(y_pred, axis=-1)\n",
    "y_test_true = np.argmax(y1, -1)"
   ]
  },
  {
   "cell_type": "code",
   "execution_count": 19,
   "metadata": {},
   "outputs": [],
   "source": [
    "y_pred = [[idx2tag[i] for i in row] for row in y_pred]\n",
    "y_test_true = [[idx2tag[i] for i in row] for row in y_test_true] "
   ]
  },
  {
   "cell_type": "code",
   "execution_count": 20,
   "metadata": {},
   "outputs": [
    {
     "name": "stdout",
     "output_type": "stream",
     "text": [
      "F1-score is : 86.6%\n"
     ]
    }
   ],
   "source": [
    "print(\"F1-score is : {:.1%}\".format(f1_score(y_test_true, y_pred)))"
   ]
  },
  {
   "cell_type": "code",
   "execution_count": 21,
   "metadata": {},
   "outputs": [
    {
     "name": "stdout",
     "output_type": "stream",
     "text": [
      "              precision    recall  f1-score   support\n",
      "\n",
      "   B-Disease       0.82      0.72      0.77       960\n",
      "   I-Disease       0.84      0.72      0.77      1087\n",
      "           O       0.98      0.99      0.98     22441\n",
      "         PAD       1.00      1.00      1.00    105094\n",
      "\n",
      "    accuracy                           0.99    129582\n",
      "   macro avg       0.91      0.86      0.88    129582\n",
      "weighted avg       0.99      0.99      0.99    129582\n",
      "\n"
     ]
    }
   ],
   "source": [
    "report = flat_classification_report(y_pred=y_pred, y_true=y_test_true)\n",
    "print(report)"
   ]
  },
  {
   "cell_type": "code",
   "execution_count": 22,
   "metadata": {},
   "outputs": [
    {
     "name": "stdout",
     "output_type": "stream",
     "text": [
      "0.7548240635641317\n",
      "0.6963350785340314\n",
      "0.7244008714596951\n",
      "[[665, 216], [290, 21278]]\n"
     ]
    }
   ],
   "source": [
    "TP=0\n",
    "TN=0\n",
    "FP=0\n",
    "FN=0\n",
    "i=0\n",
    "nument=0\n",
    "while i<len(y_test_true):\n",
    "    j=0\n",
    "    #print(i)\n",
    "    while j <len(y_test_true[i]):\n",
    "        #print('j ',j)\n",
    "        if y_test_true[i][j]=='B-Disease':\n",
    "            st=j\n",
    "            nument=nument+1\n",
    "            j=j+1\n",
    "            while (y_test_true[i][j]=='I-Disease' or y_test_true[i][j]=='E-Disease') and j<len(y_test_true[i]):\n",
    "                j=j+1\n",
    "                #print('inside ',j)\n",
    "            end=j\n",
    "            if y_test_true[i][st:end]==y_pred[i][st:end]:\n",
    "                TP=TP+1\n",
    "            else:\n",
    "                FN=FN+1\n",
    "        elif y_test_true[i][j]=='O' and y_pred[i][j]=='O':\n",
    "            TN=TN+1\n",
    "            \n",
    "        elif y_test_true[i][j]=='O' and y_pred[i][j]!='O':\n",
    "            FP=FP+1\n",
    "            \n",
    "        j=j+1\n",
    "        \n",
    "    i=i+1\n",
    "    \n",
    "Precision=TP/(TP+FP)\n",
    "print(Precision)\n",
    "Recall=TP/(TP+FN)\n",
    "print(Recall)\n",
    "F1=(2*Precision*Recall)/(Precision+Recall)\n",
    "print(F1)\n",
    "mat=[[TP,FP],[FN,TN]]\n",
    "print(mat)"
   ]
  },
  {
   "cell_type": "code",
   "execution_count": 23,
   "metadata": {},
   "outputs": [
    {
     "name": "stdout",
     "output_type": "stream",
     "text": [
      "0.7711864406779662\n",
      "0.762303664921466\n",
      "0.7667193259610321\n",
      "[[728, 216], [227, 21278]]\n"
     ]
    }
   ],
   "source": [
    "TP=0\n",
    "TN=0\n",
    "FP=0\n",
    "FN=0\n",
    "i=0\n",
    "nument=0\n",
    "while i<len(y_test_true):\n",
    "    j=0\n",
    "    #print(i)\n",
    "    while j <len(y_test_true[i]):\n",
    "        #print('j ',j)\n",
    "        if y_test_true[i][j]=='B-Disease':\n",
    "            st=j\n",
    "            nument=nument+1\n",
    "            j=j+1\n",
    "            while (y_test_true[i][j]=='I-Disease' or y_test_true[i][j]=='E-Disease') and j<len(y_test_true[i]):\n",
    "                j=j+1\n",
    "                #print('inside ',j)\n",
    "            end=j\n",
    "            found=0\n",
    "            for k in range(st,end):\n",
    "                if y_test_true[i][k]==y_pred[i][k]:\n",
    "                    found=1\n",
    "                    break\n",
    "            if found==1:\n",
    "                TP=TP+1\n",
    "            else:\n",
    "                FN=FN+1\n",
    "            '''if y_test_true[i][st:end]==y_pred[i][st:end]:\n",
    "                TP=TP+1'''\n",
    "            \n",
    "        elif y_test_true[i][j]=='O' and y_pred[i][j]=='O':\n",
    "            TN=TN+1\n",
    "            \n",
    "        elif y_test_true[i][j]=='O' and y_pred[i][j]!='O':\n",
    "            FP=FP+1\n",
    "            \n",
    "        j=j+1\n",
    "        \n",
    "    i=i+1\n",
    "    \n",
    "Precision=TP/(TP+FP)\n",
    "print(Precision)\n",
    "Recall=TP/(TP+FN)\n",
    "print(Recall)\n",
    "F1=(2*Precision*Recall)/(Precision+Recall)\n",
    "print(F1)\n",
    "mat=[[TP,FP],[FN,TN]]\n",
    "print(mat)"
   ]
  },
  {
   "cell_type": "code",
   "execution_count": null,
   "metadata": {},
   "outputs": [],
   "source": []
  },
  {
   "cell_type": "code",
   "execution_count": null,
   "metadata": {},
   "outputs": [],
   "source": []
  },
  {
   "cell_type": "code",
   "execution_count": null,
   "metadata": {},
   "outputs": [],
   "source": []
  }
 ],
 "metadata": {
  "kernelspec": {
   "display_name": "Python 3",
   "language": "python",
   "name": "python3"
  },
  "language_info": {
   "codemirror_mode": {
    "name": "ipython",
    "version": 3
   },
   "file_extension": ".py",
   "mimetype": "text/x-python",
   "name": "python",
   "nbconvert_exporter": "python",
   "pygments_lexer": "ipython3",
   "version": "3.7.0"
  }
 },
 "nbformat": 4,
 "nbformat_minor": 2
}
