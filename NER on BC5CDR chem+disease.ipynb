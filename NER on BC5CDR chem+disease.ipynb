{
 "cells": [
  {
   "cell_type": "code",
   "execution_count": 1,
   "metadata": {},
   "outputs": [
    {
     "name": "stderr",
     "output_type": "stream",
     "text": [
      "Using TensorFlow backend.\n"
     ]
    }
   ],
   "source": [
    "import pandas as pd\n",
    "import numpy as np\n",
    "import keras_contrib\n",
    "from keras.preprocessing.sequence import pad_sequences\n",
    "from keras.utils import to_categorical\n",
    "from keras.layers import LSTM, Dense, TimeDistributed, Embedding, Bidirectional\n",
    "from keras.models import Model, Input\n",
    "from keras_contrib.layers import CRF\n",
    "from keras.callbacks import ModelCheckpoint\n",
    "import csv\n",
    "import os\n",
    "import warnings\n",
    "warnings.filterwarnings(\"ignore\")\n",
    "import random\n",
    "random.seed(10)\n",
    "from sklearn.model_selection import train_test_split\n",
    "import matplotlib.pyplot as plt\n",
    "%matplotlib inline\n",
    "\n",
    "from sklearn_crfsuite.metrics import flat_classification_report\n",
    "from sklearn.metrics import f1_score\n",
    "from seqeval.metrics import precision_score, recall_score, f1_score, classification_report\n",
    "from keras.preprocessing.text import text_to_word_sequence"
   ]
  },
  {
   "cell_type": "code",
   "execution_count": 2,
   "metadata": {},
   "outputs": [],
   "source": [
    "tsvfile=open(\"BC5CDR-IOB/train.tsv\",encoding=\"utf-8\")\n",
    "tsvreader = csv.reader(tsvfile, delimiter=\"\\t\")\n",
    "data=[]\n",
    "sentences=[]\n",
    "words=[]\n",
    "tags=[]\n",
    "maxsentlen=0\n",
    "for line in tsvreader:\n",
    "    if line!=[]:\n",
    "        data.append(line)\n",
    "        if line[0] not in words:\n",
    "            words.append(line[0])\n",
    "        if line[1] not in tags:\n",
    "            tags.append(line[1])\n",
    "    else:\n",
    "        sentences.append(data)\n",
    "        if maxsentlen<len(data):\n",
    "            maxsentlen=len(data)\n",
    "        data=[]"
   ]
  },
  {
   "cell_type": "code",
   "execution_count": 3,
   "metadata": {},
   "outputs": [
    {
     "name": "stdout",
     "output_type": "stream",
     "text": [
      "4560\n",
      "9980\n"
     ]
    }
   ],
   "source": [
    "print(len(sentences))\n",
    "print(len(words))"
   ]
  },
  {
   "cell_type": "code",
   "execution_count": 4,
   "metadata": {},
   "outputs": [
    {
     "name": "stdout",
     "output_type": "stream",
     "text": [
      "2\n",
      "1\n",
      "Selegiline\n",
      "6\n"
     ]
    }
   ],
   "source": [
    "word_to_index = {w : i + 2 for i, w in enumerate(words)}\n",
    "print(word_to_index[words[0]])\n",
    "word_to_index[\"UNK\"] = 1\n",
    "word_to_index[\"PAD\"] = 0\n",
    "\n",
    "# Dictionary lable:index pair\n",
    "# label is key and value is index.\n",
    "tag_to_index = {t : i + 1 for i, t in enumerate(tags)}\n",
    "print(tag_to_index[tags[0]])\n",
    "\n",
    "tag_to_index[\"PAD\"] = 0\n",
    "\n",
    "idx2word = {i: w for w, i in word_to_index.items()}\n",
    "print(idx2word[2])\n",
    "idx2tag = {i: w for w, i in tag_to_index.items()}\n",
    "print(len(tag_to_index))"
   ]
  },
  {
   "cell_type": "code",
   "execution_count": 34,
   "metadata": {},
   "outputs": [],
   "source": [
    "# Number of data points passed in each iteration\n",
    "batch_size =50\n",
    "# Passes through entire dataset\n",
    "epochs = 50\n",
    "# Maximum length of review\n",
    "max_len = maxsentlen+15\n",
    "# Dimension of embedding vector\n",
    "embedding = 200"
   ]
  },
  {
   "cell_type": "code",
   "execution_count": 35,
   "metadata": {},
   "outputs": [
    {
     "name": "stdout",
     "output_type": "stream",
     "text": [
      "[2, 3, 4, 5, 6, 7, 8, 9, 10, 11, 12, 13, 14, 15, 16, 17, 18, 19, 20, 21, 22] [23, 12, 24, 25, 26, 8, 9, 10, 27, 28, 29, 30, 31, 32, 33, 34, 35, 36, 37, 7, 38, 39, 8, 9, 10, 11, 30, 40, 32, 41, 42, 43, 44, 45, 46, 47, 48, 49, 50, 3, 51, 52, 39, 53, 54, 50, 3, 51, 55, 22]\n",
      "[['Selegiline', 'B-Chemical'], ['-', 'O'], ['induced', 'O'], ['postural', 'B-Disease'], ['hypotension', 'I-Disease'], ['in', 'O'], ['Parkinson', 'B-Disease'], [\"'\", 'I-Disease'], ['s', 'I-Disease'], ['disease', 'I-Disease'], [':', 'O'], ['a', 'O'], ['longitudinal', 'O'], ['study', 'O'], ['on', 'O'], ['the', 'O'], ['effects', 'O'], ['of', 'O'], ['drug', 'O'], ['withdrawal', 'O'], ['.', 'O']]\n",
      "[['OBJECTIVES', 'O'], [':', 'O'], ['The', 'O'], ['United', 'O'], ['Kingdom', 'O'], ['Parkinson', 'B-Disease'], [\"'\", 'I-Disease'], ['s', 'I-Disease'], ['Disease', 'I-Disease'], ['Research', 'O'], ['Group', 'O'], ['(', 'O'], ['UKPDRG', 'O'], [')', 'O'], ['trial', 'O'], ['found', 'O'], ['an', 'O'], ['increased', 'O'], ['mortality', 'O'], ['in', 'O'], ['patients', 'O'], ['with', 'O'], ['Parkinson', 'B-Disease'], [\"'\", 'I-Disease'], ['s', 'I-Disease'], ['disease', 'I-Disease'], ['(', 'O'], ['PD', 'B-Disease'], [')', 'O'], ['randomized', 'O'], ['to', 'O'], ['receive', 'O'], ['10', 'O'], ['mg', 'O'], ['selegiline', 'B-Chemical'], ['per', 'O'], ['day', 'O'], ['and', 'O'], ['L', 'B-Chemical'], ['-', 'I-Chemical'], ['dopa', 'I-Chemical'], ['compared', 'O'], ['with', 'O'], ['those', 'O'], ['taking', 'O'], ['L', 'B-Chemical'], ['-', 'I-Chemical'], ['dopa', 'I-Chemical'], ['alone', 'O'], ['.', 'O']]\n",
      "[['Recently', 'O'], [',', 'O'], ['we', 'O'], ['found', 'O'], ['that', 'O'], ['therapy', 'O'], ['with', 'O'], ['selegiline', 'B-Chemical'], ['and', 'O'], ['L', 'B-Chemical'], ['-', 'I-Chemical'], ['dopa', 'I-Chemical'], ['was', 'O'], ['associated', 'O'], ['with', 'O'], ['selective', 'O'], ['systolic', 'B-Disease'], ['orthostatic', 'I-Disease'], ['hypotension', 'I-Disease'], ['which', 'O'], ['was', 'O'], ['abolished', 'O'], ['by', 'O'], ['withdrawal', 'O'], ['of', 'O'], ['selegiline', 'B-Chemical'], ['.', 'O']]\n",
      "[['This', 'O'], ['unwanted', 'O'], ['effect', 'O'], ['on', 'O'], ['postural', 'O'], ['blood', 'O'], ['pressure', 'O'], ['was', 'O'], ['not', 'O'], ['the', 'O'], ['result', 'O'], ['of', 'O'], ['underlying', 'O'], ['autonomic', 'O'], ['failure', 'O'], ['.', 'O']]\n",
      "[['The', 'O'], ['aims', 'O'], ['of', 'O'], ['this', 'O'], ['study', 'O'], ['were', 'O'], ['to', 'O'], ['confirm', 'O'], ['our', 'O'], ['previous', 'O'], ['findings', 'O'], ['in', 'O'], ['a', 'O'], ['separate', 'O'], ['cohort', 'O'], ['of', 'O'], ['patients', 'O'], ['and', 'O'], ['to', 'O'], ['determine', 'O'], ['the', 'O'], ['time', 'O'], ['course', 'O'], ['of', 'O'], ['the', 'O'], ['cardiovascular', 'O'], ['consequences', 'O'], ['of', 'O'], ['stopping', 'O'], ['selegiline', 'B-Chemical'], ['in', 'O'], ['the', 'O'], ['expectation', 'O'], ['that', 'O'], ['this', 'O'], ['might', 'O'], ['shed', 'O'], ['light', 'O'], ['on', 'O'], ['the', 'O'], ['mechanisms', 'O'], ['by', 'O'], ['which', 'O'], ['the', 'O'], ['drug', 'O'], ['causes', 'O'], ['orthostatic', 'B-Disease'], ['hypotension', 'I-Disease'], ['.', 'O']]\n",
      "[['METHODS', 'O'], [':', 'O'], ['The', 'O'], ['cardiovascular', 'O'], ['responses', 'O'], ['to', 'O'], ['standing', 'O'], ['and', 'O'], ['head', 'O'], ['-', 'O'], ['up', 'O'], ['tilt', 'O'], ['were', 'O'], ['studied', 'O'], ['repeatedly', 'O'], ['in', 'O'], ['PD', 'B-Disease'], ['patients', 'O'], ['receiving', 'O'], ['selegiline', 'B-Chemical'], ['and', 'O'], ['as', 'O'], ['the', 'O'], ['drug', 'O'], ['was', 'O'], ['withdrawn', 'O'], ['.', 'O']]\n"
     ]
    }
   ],
   "source": [
    "X = [[word_to_index[w[0]] for w in s] for s in sentences]\n",
    "print(X[0],X[1])\n",
    "count=0\n",
    "for s in sentences:\n",
    "    print(s)\n",
    "    count=count+1\n",
    "    if count>5:\n",
    "        break\n",
    "# Padding each sequence to have same length  of each word\n",
    "X = pad_sequences(maxlen = max_len, sequences = X, padding = \"post\", value = word_to_index[\"PAD\"])"
   ]
  },
  {
   "cell_type": "code",
   "execution_count": 36,
   "metadata": {},
   "outputs": [
    {
     "name": "stdout",
     "output_type": "stream",
     "text": [
      "[ 2  3  4  5  6  7  8  9 10 11 12 13 14 15 16 17 18 19 20 21 22  0  0  0\n",
      "  0  0  0  0  0  0  0  0  0  0  0  0  0  0  0  0  0  0  0  0  0  0  0  0\n",
      "  0  0  0  0  0  0  0  0  0  0  0  0  0  0  0  0  0  0  0  0  0  0  0  0\n",
      "  0  0  0  0  0  0  0  0  0  0  0  0  0  0  0  0  0  0  0  0  0  0  0  0\n",
      "  0  0  0  0  0  0  0  0  0  0  0  0  0  0  0  0  0  0  0  0  0  0  0  0\n",
      "  0  0  0  0  0  0  0  0  0  0  0  0  0  0  0  0  0  0  0  0  0  0  0  0\n",
      "  0  0  0  0  0  0  0  0  0  0  0  0  0  0  0  0  0  0  0  0  0  0  0  0\n",
      "  0]\n"
     ]
    },
    {
     "data": {
      "text/plain": [
       "169"
      ]
     },
     "execution_count": 36,
     "metadata": {},
     "output_type": "execute_result"
    }
   ],
   "source": [
    "print(X[0])\n",
    "len(X[0])"
   ]
  },
  {
   "cell_type": "code",
   "execution_count": 37,
   "metadata": {},
   "outputs": [
    {
     "name": "stdout",
     "output_type": "stream",
     "text": [
      "[1, 2, 2, 3, 4, 2, 3, 4, 4, 4, 2, 2, 2, 2, 2, 2, 2, 2, 2, 2, 2]\n"
     ]
    }
   ],
   "source": [
    "# Convert label to index\n",
    "y = [[tag_to_index[w[1]] for w in s] for s in sentences]\n",
    "print(y[0])\n",
    "# padding\n",
    "y = pad_sequences(maxlen = max_len, sequences = y, padding = \"post\", value = tag_to_index[\"PAD\"])"
   ]
  },
  {
   "cell_type": "code",
   "execution_count": 38,
   "metadata": {},
   "outputs": [
    {
     "name": "stdout",
     "output_type": "stream",
     "text": [
      "5\n",
      "[0. 0. 1. 0. 0. 0.] [0. 0. 1. 0. 0. 0.]\n",
      "6\n"
     ]
    }
   ],
   "source": [
    "num_tag = 5\n",
    "print(num_tag)\n",
    "# One hot encoded labels\n",
    "y = [to_categorical(i, num_classes = num_tag + 1) for i in y]\n",
    "print(y[0][1],y[0][18])\n",
    "print(len(y[0][1]))"
   ]
  },
  {
   "cell_type": "code",
   "execution_count": 41,
   "metadata": {},
   "outputs": [
    {
     "name": "stdout",
     "output_type": "stream",
     "text": [
      "*****Before Processing first sentence : *****\n",
      " Selegiline - induced postural hypotension in Parkinson ' s disease : a longitudinal study on the effects of drug withdrawal .\n",
      "*****After Processing first sentence : *****\n",
      "  [ 2  3  4  5  6  7  8  9 10 11 12 13 14 15 16 17 18 19 20 21 22  0  0  0\n",
      "  0  0  0  0  0  0  0  0  0  0  0  0  0  0  0  0  0  0  0  0  0  0  0  0\n",
      "  0  0  0  0  0  0  0  0  0  0  0  0  0  0  0  0  0  0  0  0  0  0  0  0\n",
      "  0  0  0  0  0  0  0  0  0  0  0  0  0  0  0  0  0  0  0  0  0  0  0  0\n",
      "  0  0  0  0  0  0  0  0  0  0  0  0  0  0  0  0  0  0  0  0  0  0  0  0\n",
      "  0  0  0  0  0  0  0  0  0  0  0  0  0  0  0  0  0  0  0  0  0  0  0  0\n",
      "  0  0  0  0  0  0  0  0  0  0  0  0  0  0  0  0  0  0  0  0  0  0  0  0\n",
      "  0]\n"
     ]
    },
    {
     "data": {
      "text/plain": [
       "169"
      ]
     },
     "execution_count": 41,
     "metadata": {},
     "output_type": "execute_result"
    }
   ],
   "source": [
    "# Let's check the first sentence before and after processing.\n",
    "print('*****Before Processing first sentence : *****\\n', ' '.join([w[0] for w in sentences[0]]))\n",
    "print('*****After Processing first sentence : *****\\n ', X[0])\n",
    "len(X[0])"
   ]
  },
  {
   "cell_type": "code",
   "execution_count": 42,
   "metadata": {},
   "outputs": [
    {
     "name": "stdout",
     "output_type": "stream",
     "text": [
      "*****Before Processing first sentence : *****\n",
      " B-Chemical O O B-Disease I-Disease O B-Disease I-Disease I-Disease I-Disease O O O O O O O O O O O\n",
      "*****After Processing first sentence : *****\n",
      "  [[0. 1. 0. 0. 0. 0.]\n",
      " [0. 0. 1. 0. 0. 0.]\n",
      " [0. 0. 1. 0. 0. 0.]\n",
      " ...\n",
      " [1. 0. 0. 0. 0. 0.]\n",
      " [1. 0. 0. 0. 0. 0.]\n",
      " [1. 0. 0. 0. 0. 0.]]\n"
     ]
    }
   ],
   "source": [
    "# First label before and after processing.\n",
    "print('*****Before Processing first sentence : *****\\n', ' '.join([w[1] for w in sentences[0]]))\n",
    "print('*****After Processing first sentence : *****\\n ', y[0])"
   ]
  },
  {
   "cell_type": "code",
   "execution_count": null,
   "metadata": {},
   "outputs": [],
   "source": [
    "num_tags = 5\n",
    "# Model architecture\n",
    "input = Input(shape = (max_len,))\n",
    "model = Embedding(input_dim = len(words) + 2, output_dim = embedding, input_length = max_len, mask_zero = True)(input)\n",
    "model = Bidirectional(LSTM(units = 100, return_sequences=True, recurrent_dropout=0.1))(model)\n",
    "crf = CRF(num_tags+1)  # CRF layer\n",
    "out = crf(model)  # output\n",
    "\n",
    "model = Model(input, out)\n",
    "model.compile(optimizer=\"rmsprop\", loss=crf.loss_function, metrics=[crf.accuracy])\n",
    "\n",
    "model.summary()"
   ]
  },
  {
   "cell_type": "code",
   "execution_count": 44,
   "metadata": {},
   "outputs": [],
   "source": [
    "checkpointer = ModelCheckpoint(filepath = 'model.h5',\n",
    "                       verbose = 0,\n",
    "                       mode = 'auto',\n",
    "                       save_best_only = True,\n",
    "                       monitor='val_loss')"
   ]
  },
  {
   "cell_type": "code",
   "execution_count": 45,
   "metadata": {},
   "outputs": [
    {
     "name": "stdout",
     "output_type": "stream",
     "text": [
      "Train on 4104 samples, validate on 456 samples\n",
      "Epoch 1/10\n",
      "4104/4104 [==============================] - ETA: 4:28 - loss: 15.1731 - crf_viterbi_accuracy: 0.022 - ETA: 2:48 - loss: 15.7501 - crf_viterbi_accuracy: 0.022 - ETA: 2:15 - loss: 16.0301 - crf_viterbi_accuracy: 0.020 - ETA: 1:58 - loss: 15.9194 - crf_viterbi_accuracy: 0.020 - ETA: 1:48 - loss: 16.0189 - crf_viterbi_accuracy: 0.123 - ETA: 1:40 - loss: 15.8766 - crf_viterbi_accuracy: 0.244 - ETA: 1:35 - loss: 16.0469 - crf_viterbi_accuracy: 0.334 - ETA: 1:30 - loss: 15.9434 - crf_viterbi_accuracy: 0.403 - ETA: 1:27 - loss: 15.7416 - crf_viterbi_accuracy: 0.455 - ETA: 1:24 - loss: 15.4563 - crf_viterbi_accuracy: 0.496 - ETA: 1:22 - loss: 15.1216 - crf_viterbi_accuracy: 0.532 - ETA: 1:19 - loss: 15.1222 - crf_viterbi_accuracy: 0.561 - ETA: 1:17 - loss: 14.9999 - crf_viterbi_accuracy: 0.585 - ETA: 1:15 - loss: 14.9596 - crf_viterbi_accuracy: 0.606 - ETA: 1:13 - loss: 14.9751 - crf_viterbi_accuracy: 0.625 - ETA: 1:11 - loss: 14.9107 - crf_viterbi_accuracy: 0.641 - ETA: 1:10 - loss: 14.8988 - crf_viterbi_accuracy: 0.656 - ETA: 1:08 - loss: 15.0856 - crf_viterbi_accuracy: 0.669 - ETA: 1:07 - loss: 15.0616 - crf_viterbi_accuracy: 0.681 - ETA: 1:05 - loss: 15.0108 - crf_viterbi_accuracy: 0.690 - ETA: 1:04 - loss: 15.0924 - crf_viterbi_accuracy: 0.700 - ETA: 1:03 - loss: 15.1172 - crf_viterbi_accuracy: 0.709 - ETA: 1:02 - loss: 15.1407 - crf_viterbi_accuracy: 0.716 - ETA: 1:01 - loss: 15.0352 - crf_viterbi_accuracy: 0.723 - ETA: 1:00 - loss: 14.9414 - crf_viterbi_accuracy: 0.730 - ETA: 59s - loss: 14.8941 - crf_viterbi_accuracy: 0.736 - ETA: 58s - loss: 14.9014 - crf_viterbi_accuracy: 0.74 - ETA: 57s - loss: 14.8714 - crf_viterbi_accuracy: 0.74 - ETA: 56s - loss: 14.7874 - crf_viterbi_accuracy: 0.75 - ETA: 55s - loss: 14.8267 - crf_viterbi_accuracy: 0.75 - ETA: 54s - loss: 14.8684 - crf_viterbi_accuracy: 0.76 - ETA: 53s - loss: 14.8671 - crf_viterbi_accuracy: 0.76 - ETA: 52s - loss: 14.8223 - crf_viterbi_accuracy: 0.76 - ETA: 51s - loss: 14.8713 - crf_viterbi_accuracy: 0.77 - ETA: 50s - loss: 14.8828 - crf_viterbi_accuracy: 0.77 - ETA: 50s - loss: 14.8329 - crf_viterbi_accuracy: 0.77 - ETA: 49s - loss: 14.7948 - crf_viterbi_accuracy: 0.77 - ETA: 49s - loss: 14.7429 - crf_viterbi_accuracy: 0.78 - ETA: 48s - loss: 14.7851 - crf_viterbi_accuracy: 0.78 - ETA: 47s - loss: 14.8420 - crf_viterbi_accuracy: 0.78 - ETA: 46s - loss: 14.8625 - crf_viterbi_accuracy: 0.78 - ETA: 45s - loss: 14.9529 - crf_viterbi_accuracy: 0.79 - ETA: 44s - loss: 14.9031 - crf_viterbi_accuracy: 0.79 - ETA: 43s - loss: 14.8631 - crf_viterbi_accuracy: 0.79 - ETA: 42s - loss: 14.8416 - crf_viterbi_accuracy: 0.79 - ETA: 41s - loss: 14.8325 - crf_viterbi_accuracy: 0.79 - ETA: 40s - loss: 14.8167 - crf_viterbi_accuracy: 0.79 - ETA: 39s - loss: 14.8733 - crf_viterbi_accuracy: 0.80 - ETA: 37s - loss: 14.8933 - crf_viterbi_accuracy: 0.80 - ETA: 36s - loss: 14.8567 - crf_viterbi_accuracy: 0.80 - ETA: 35s - loss: 14.8254 - crf_viterbi_accuracy: 0.80 - ETA: 34s - loss: 14.8364 - crf_viterbi_accuracy: 0.80 - ETA: 33s - loss: 14.8601 - crf_viterbi_accuracy: 0.80 - ETA: 32s - loss: 14.8797 - crf_viterbi_accuracy: 0.81 - ETA: 30s - loss: 14.8757 - crf_viterbi_accuracy: 0.81 - ETA: 29s - loss: 14.8805 - crf_viterbi_accuracy: 0.81 - ETA: 28s - loss: 14.8831 - crf_viterbi_accuracy: 0.81 - ETA: 27s - loss: 14.8450 - crf_viterbi_accuracy: 0.81 - ETA: 26s - loss: 14.8296 - crf_viterbi_accuracy: 0.81 - ETA: 25s - loss: 14.7895 - crf_viterbi_accuracy: 0.81 - ETA: 24s - loss: 14.7378 - crf_viterbi_accuracy: 0.81 - ETA: 22s - loss: 14.7397 - crf_viterbi_accuracy: 0.82 - ETA: 21s - loss: 14.7608 - crf_viterbi_accuracy: 0.82 - ETA: 20s - loss: 14.7495 - crf_viterbi_accuracy: 0.82 - ETA: 19s - loss: 14.7404 - crf_viterbi_accuracy: 0.82 - ETA: 18s - loss: 14.7181 - crf_viterbi_accuracy: 0.82 - ETA: 17s - loss: 14.7113 - crf_viterbi_accuracy: 0.82 - ETA: 16s - loss: 14.7093 - crf_viterbi_accuracy: 0.82 - ETA: 14s - loss: 14.7154 - crf_viterbi_accuracy: 0.82 - ETA: 13s - loss: 14.6967 - crf_viterbi_accuracy: 0.82 - ETA: 12s - loss: 14.6853 - crf_viterbi_accuracy: 0.82 - ETA: 11s - loss: 14.6903 - crf_viterbi_accuracy: 0.82 - ETA: 10s - loss: 14.7178 - crf_viterbi_accuracy: 0.83 - ETA: 9s - loss: 14.7673 - crf_viterbi_accuracy: 0.8311 - ETA: 8s - loss: 14.7689 - crf_viterbi_accuracy: 0.831 - ETA: 6s - loss: 14.7519 - crf_viterbi_accuracy: 0.832 - ETA: 5s - loss: 14.7425 - crf_viterbi_accuracy: 0.833 - ETA: 4s - loss: 14.7124 - crf_viterbi_accuracy: 0.834 - ETA: 3s - loss: 14.7201 - crf_viterbi_accuracy: 0.835 - ETA: 2s - loss: 14.7032 - crf_viterbi_accuracy: 0.835 - ETA: 1s - loss: 14.6761 - crf_viterbi_accuracy: 0.836 - ETA: 0s - loss: 14.6905 - crf_viterbi_accuracy: 0.837 - 96s 23ms/step - loss: 14.6893 - crf_viterbi_accuracy: 0.8374 - val_loss: 14.3648 - val_crf_viterbi_accuracy: 0.8722\n",
      "Epoch 2/10\n",
      "4104/4104 [==============================] - ETA: 1:19 - loss: 18.5501 - crf_viterbi_accuracy: 0.879 - ETA: 1:27 - loss: 16.4588 - crf_viterbi_accuracy: 0.904 - ETA: 1:30 - loss: 16.0583 - crf_viterbi_accuracy: 0.896 - ETA: 1:30 - loss: 14.9390 - crf_viterbi_accuracy: 0.901 - ETA: 1:29 - loss: 14.1494 - crf_viterbi_accuracy: 0.906 - ETA: 1:27 - loss: 14.5448 - crf_viterbi_accuracy: 0.910 - ETA: 1:26 - loss: 14.6120 - crf_viterbi_accuracy: 0.911 - ETA: 1:25 - loss: 14.1543 - crf_viterbi_accuracy: 0.913 - ETA: 1:24 - loss: 14.0367 - crf_viterbi_accuracy: 0.913 - ETA: 1:23 - loss: 14.0369 - crf_viterbi_accuracy: 0.913 - ETA: 1:22 - loss: 14.3182 - crf_viterbi_accuracy: 0.913 - ETA: 1:22 - loss: 14.3581 - crf_viterbi_accuracy: 0.911 - ETA: 1:21 - loss: 14.5381 - crf_viterbi_accuracy: 0.912 - ETA: 1:20 - loss: 14.4457 - crf_viterbi_accuracy: 0.913 - ETA: 1:18 - loss: 14.4781 - crf_viterbi_accuracy: 0.910 - ETA: 1:17 - loss: 14.4417 - crf_viterbi_accuracy: 0.910 - ETA: 1:17 - loss: 14.5359 - crf_viterbi_accuracy: 0.909 - ETA: 1:16 - loss: 14.6281 - crf_viterbi_accuracy: 0.908 - ETA: 1:15 - loss: 14.6165 - crf_viterbi_accuracy: 0.909 - ETA: 1:14 - loss: 14.6727 - crf_viterbi_accuracy: 0.910 - ETA: 1:12 - loss: 14.6181 - crf_viterbi_accuracy: 0.910 - ETA: 1:11 - loss: 14.5525 - crf_viterbi_accuracy: 0.912 - ETA: 1:10 - loss: 14.5045 - crf_viterbi_accuracy: 0.912 - ETA: 1:09 - loss: 14.3755 - crf_viterbi_accuracy: 0.913 - ETA: 1:07 - loss: 14.5082 - crf_viterbi_accuracy: 0.913 - ETA: 1:06 - loss: 14.6188 - crf_viterbi_accuracy: 0.913 - ETA: 1:05 - loss: 14.6920 - crf_viterbi_accuracy: 0.913 - ETA: 1:04 - loss: 14.8385 - crf_viterbi_accuracy: 0.913 - ETA: 1:02 - loss: 14.7456 - crf_viterbi_accuracy: 0.913 - ETA: 1:01 - loss: 14.6355 - crf_viterbi_accuracy: 0.913 - ETA: 1:00 - loss: 14.6265 - crf_viterbi_accuracy: 0.913 - ETA: 58s - loss: 14.5465 - crf_viterbi_accuracy: 0.913 - ETA: 57s - loss: 14.5064 - crf_viterbi_accuracy: 0.91 - ETA: 56s - loss: 14.4987 - crf_viterbi_accuracy: 0.91 - ETA: 54s - loss: 14.5107 - crf_viterbi_accuracy: 0.91 - ETA: 53s - loss: 14.5175 - crf_viterbi_accuracy: 0.91 - ETA: 52s - loss: 14.5113 - crf_viterbi_accuracy: 0.91 - ETA: 51s - loss: 14.5120 - crf_viterbi_accuracy: 0.91 - ETA: 50s - loss: 14.4537 - crf_viterbi_accuracy: 0.91 - ETA: 48s - loss: 14.4158 - crf_viterbi_accuracy: 0.91 - ETA: 47s - loss: 14.3756 - crf_viterbi_accuracy: 0.91 - ETA: 46s - loss: 14.3443 - crf_viterbi_accuracy: 0.91 - ETA: 45s - loss: 14.3224 - crf_viterbi_accuracy: 0.91 - ETA: 44s - loss: 14.2989 - crf_viterbi_accuracy: 0.91 - ETA: 42s - loss: 14.2617 - crf_viterbi_accuracy: 0.91 - ETA: 41s - loss: 14.2680 - crf_viterbi_accuracy: 0.91 - ETA: 40s - loss: 14.2727 - crf_viterbi_accuracy: 0.91 - ETA: 39s - loss: 14.2915 - crf_viterbi_accuracy: 0.91 - ETA: 38s - loss: 14.2685 - crf_viterbi_accuracy: 0.91 - ETA: 37s - loss: 14.2801 - crf_viterbi_accuracy: 0.91 - ETA: 36s - loss: 14.2706 - crf_viterbi_accuracy: 0.91 - ETA: 34s - loss: 14.3226 - crf_viterbi_accuracy: 0.91 - ETA: 33s - loss: 14.2784 - crf_viterbi_accuracy: 0.91 - ETA: 32s - loss: 14.2963 - crf_viterbi_accuracy: 0.91 - ETA: 31s - loss: 14.3131 - crf_viterbi_accuracy: 0.91 - ETA: 30s - loss: 14.3301 - crf_viterbi_accuracy: 0.91 - ETA: 29s - loss: 14.3001 - crf_viterbi_accuracy: 0.91 - ETA: 28s - loss: 14.3483 - crf_viterbi_accuracy: 0.91 - ETA: 26s - loss: 14.3305 - crf_viterbi_accuracy: 0.91 - ETA: 25s - loss: 14.3474 - crf_viterbi_accuracy: 0.91 - ETA: 24s - loss: 14.3893 - crf_viterbi_accuracy: 0.91 - ETA: 23s - loss: 14.3710 - crf_viterbi_accuracy: 0.91 - ETA: 22s - loss: 14.3818 - crf_viterbi_accuracy: 0.92 - ETA: 21s - loss: 14.4087 - crf_viterbi_accuracy: 0.92 - ETA: 19s - loss: 14.4909 - crf_viterbi_accuracy: 0.92 - ETA: 18s - loss: 14.4965 - crf_viterbi_accuracy: 0.92 - ETA: 17s - loss: 14.4671 - crf_viterbi_accuracy: 0.92 - ETA: 16s - loss: 14.4681 - crf_viterbi_accuracy: 0.92 - ETA: 15s - loss: 14.5351 - crf_viterbi_accuracy: 0.92 - ETA: 14s - loss: 14.5238 - crf_viterbi_accuracy: 0.92 - ETA: 13s - loss: 14.5252 - crf_viterbi_accuracy: 0.92 - ETA: 11s - loss: 14.4939 - crf_viterbi_accuracy: 0.92 - ETA: 10s - loss: 14.5234 - crf_viterbi_accuracy: 0.92 - ETA: 9s - loss: 14.5279 - crf_viterbi_accuracy: 0.9221 - ETA: 8s - loss: 14.5424 - crf_viterbi_accuracy: 0.922 - ETA: 7s - loss: 14.5019 - crf_viterbi_accuracy: 0.922 - ETA: 5s - loss: 14.4791 - crf_viterbi_accuracy: 0.922 - ETA: 4s - loss: 14.4457 - crf_viterbi_accuracy: 0.923 - ETA: 3s - loss: 14.4090 - crf_viterbi_accuracy: 0.923 - ETA: 2s - loss: 14.4036 - crf_viterbi_accuracy: 0.923 - ETA: 1s - loss: 14.3774 - crf_viterbi_accuracy: 0.923 - ETA: 0s - loss: 14.3758 - crf_viterbi_accuracy: 0.923 - 100s 24ms/step - loss: 14.3748 - crf_viterbi_accuracy: 0.9236 - val_loss: 14.2852 - val_crf_viterbi_accuracy: 0.9126\n",
      "Epoch 3/10\n"
     ]
    },
    {
     "name": "stdout",
     "output_type": "stream",
     "text": [
      "4104/4104 [==============================] - ETA: 1:30 - loss: 12.3355 - crf_viterbi_accuracy: 0.924 - ETA: 1:34 - loss: 14.0380 - crf_viterbi_accuracy: 0.943 - ETA: 1:36 - loss: 14.0747 - crf_viterbi_accuracy: 0.949 - ETA: 1:35 - loss: 14.6791 - crf_viterbi_accuracy: 0.949 - ETA: 1:34 - loss: 14.2143 - crf_viterbi_accuracy: 0.949 - ETA: 1:32 - loss: 14.2908 - crf_viterbi_accuracy: 0.952 - ETA: 1:30 - loss: 14.2176 - crf_viterbi_accuracy: 0.953 - ETA: 1:30 - loss: 14.5100 - crf_viterbi_accuracy: 0.955 - ETA: 1:28 - loss: 14.2941 - crf_viterbi_accuracy: 0.952 - ETA: 1:27 - loss: 14.0443 - crf_viterbi_accuracy: 0.951 - ETA: 1:26 - loss: 13.9539 - crf_viterbi_accuracy: 0.949 - ETA: 1:25 - loss: 13.8124 - crf_viterbi_accuracy: 0.951 - ETA: 1:23 - loss: 13.8790 - crf_viterbi_accuracy: 0.951 - ETA: 1:22 - loss: 14.1002 - crf_viterbi_accuracy: 0.952 - ETA: 1:21 - loss: 14.1147 - crf_viterbi_accuracy: 0.953 - ETA: 1:19 - loss: 14.0291 - crf_viterbi_accuracy: 0.953 - ETA: 1:18 - loss: 13.9538 - crf_viterbi_accuracy: 0.952 - ETA: 1:17 - loss: 13.9209 - crf_viterbi_accuracy: 0.952 - ETA: 1:16 - loss: 13.9158 - crf_viterbi_accuracy: 0.953 - ETA: 1:15 - loss: 13.8978 - crf_viterbi_accuracy: 0.953 - ETA: 1:13 - loss: 13.8319 - crf_viterbi_accuracy: 0.953 - ETA: 1:12 - loss: 13.9211 - crf_viterbi_accuracy: 0.953 - ETA: 1:11 - loss: 13.9274 - crf_viterbi_accuracy: 0.952 - ETA: 1:10 - loss: 13.9666 - crf_viterbi_accuracy: 0.953 - ETA: 1:09 - loss: 13.9311 - crf_viterbi_accuracy: 0.953 - ETA: 1:07 - loss: 14.0663 - crf_viterbi_accuracy: 0.953 - ETA: 1:06 - loss: 14.0869 - crf_viterbi_accuracy: 0.952 - ETA: 1:05 - loss: 14.0662 - crf_viterbi_accuracy: 0.952 - ETA: 1:04 - loss: 14.0931 - crf_viterbi_accuracy: 0.952 - ETA: 1:02 - loss: 14.0913 - crf_viterbi_accuracy: 0.952 - ETA: 1:01 - loss: 14.1462 - crf_viterbi_accuracy: 0.952 - ETA: 1:00 - loss: 14.1662 - crf_viterbi_accuracy: 0.952 - ETA: 58s - loss: 14.1692 - crf_viterbi_accuracy: 0.952 - ETA: 57s - loss: 14.2027 - crf_viterbi_accuracy: 0.95 - ETA: 56s - loss: 14.2849 - crf_viterbi_accuracy: 0.95 - ETA: 55s - loss: 14.2846 - crf_viterbi_accuracy: 0.95 - ETA: 53s - loss: 14.2661 - crf_viterbi_accuracy: 0.95 - ETA: 52s - loss: 14.2382 - crf_viterbi_accuracy: 0.95 - ETA: 51s - loss: 14.2610 - crf_viterbi_accuracy: 0.95 - ETA: 50s - loss: 14.2173 - crf_viterbi_accuracy: 0.95 - ETA: 48s - loss: 14.1796 - crf_viterbi_accuracy: 0.95 - ETA: 47s - loss: 14.2376 - crf_viterbi_accuracy: 0.95 - ETA: 46s - loss: 14.1942 - crf_viterbi_accuracy: 0.95 - ETA: 45s - loss: 14.1787 - crf_viterbi_accuracy: 0.95 - ETA: 43s - loss: 14.2056 - crf_viterbi_accuracy: 0.95 - ETA: 42s - loss: 14.2243 - crf_viterbi_accuracy: 0.95 - ETA: 41s - loss: 14.2196 - crf_viterbi_accuracy: 0.95 - ETA: 40s - loss: 14.2411 - crf_viterbi_accuracy: 0.95 - ETA: 39s - loss: 14.1743 - crf_viterbi_accuracy: 0.95 - ETA: 38s - loss: 14.1210 - crf_viterbi_accuracy: 0.95 - ETA: 36s - loss: 14.1192 - crf_viterbi_accuracy: 0.95 - ETA: 35s - loss: 14.0883 - crf_viterbi_accuracy: 0.95 - ETA: 34s - loss: 14.1136 - crf_viterbi_accuracy: 0.95 - ETA: 33s - loss: 14.1065 - crf_viterbi_accuracy: 0.95 - ETA: 32s - loss: 14.0932 - crf_viterbi_accuracy: 0.95 - ETA: 31s - loss: 14.1306 - crf_viterbi_accuracy: 0.95 - ETA: 30s - loss: 14.1587 - crf_viterbi_accuracy: 0.95 - ETA: 28s - loss: 14.2026 - crf_viterbi_accuracy: 0.95 - ETA: 27s - loss: 14.2543 - crf_viterbi_accuracy: 0.95 - ETA: 26s - loss: 14.3114 - crf_viterbi_accuracy: 0.95 - ETA: 25s - loss: 14.3662 - crf_viterbi_accuracy: 0.95 - ETA: 24s - loss: 14.3434 - crf_viterbi_accuracy: 0.95 - ETA: 22s - loss: 14.4096 - crf_viterbi_accuracy: 0.95 - ETA: 21s - loss: 14.4128 - crf_viterbi_accuracy: 0.95 - ETA: 20s - loss: 14.4178 - crf_viterbi_accuracy: 0.95 - ETA: 19s - loss: 14.4335 - crf_viterbi_accuracy: 0.95 - ETA: 18s - loss: 14.4868 - crf_viterbi_accuracy: 0.95 - ETA: 16s - loss: 14.4546 - crf_viterbi_accuracy: 0.95 - ETA: 15s - loss: 14.4260 - crf_viterbi_accuracy: 0.95 - ETA: 14s - loss: 14.4106 - crf_viterbi_accuracy: 0.95 - ETA: 13s - loss: 14.4120 - crf_viterbi_accuracy: 0.95 - ETA: 12s - loss: 14.4460 - crf_viterbi_accuracy: 0.95 - ETA: 10s - loss: 14.4133 - crf_viterbi_accuracy: 0.95 - ETA: 9s - loss: 14.3995 - crf_viterbi_accuracy: 0.9586 - ETA: 8s - loss: 14.3779 - crf_viterbi_accuracy: 0.958 - ETA: 7s - loss: 14.3467 - crf_viterbi_accuracy: 0.958 - ETA: 6s - loss: 14.3289 - crf_viterbi_accuracy: 0.958 - ETA: 4s - loss: 14.3057 - crf_viterbi_accuracy: 0.958 - ETA: 3s - loss: 14.3407 - crf_viterbi_accuracy: 0.958 - ETA: 2s - loss: 14.3089 - crf_viterbi_accuracy: 0.958 - ETA: 1s - loss: 14.2818 - crf_viterbi_accuracy: 0.958 - ETA: 0s - loss: 14.2703 - crf_viterbi_accuracy: 0.958 - 102s 25ms/step - loss: 14.2685 - crf_viterbi_accuracy: 0.9588 - val_loss: 14.3067 - val_crf_viterbi_accuracy: 0.8633\n",
      "Epoch 4/10\n",
      "4104/4104 [==============================] - ETA: 1:30 - loss: 18.2418 - crf_viterbi_accuracy: 0.945 - ETA: 1:29 - loss: 15.3153 - crf_viterbi_accuracy: 0.964 - ETA: 1:29 - loss: 14.8573 - crf_viterbi_accuracy: 0.965 - ETA: 1:28 - loss: 14.6458 - crf_viterbi_accuracy: 0.968 - ETA: 1:27 - loss: 14.4870 - crf_viterbi_accuracy: 0.970 - ETA: 1:26 - loss: 15.2360 - crf_viterbi_accuracy: 0.973 - ETA: 1:30 - loss: 15.5000 - crf_viterbi_accuracy: 0.972 - ETA: 1:31 - loss: 15.3151 - crf_viterbi_accuracy: 0.972 - ETA: 1:30 - loss: 15.2337 - crf_viterbi_accuracy: 0.973 - ETA: 1:28 - loss: 15.1709 - crf_viterbi_accuracy: 0.973 - ETA: 1:27 - loss: 15.0767 - crf_viterbi_accuracy: 0.975 - ETA: 1:25 - loss: 14.8817 - crf_viterbi_accuracy: 0.976 - ETA: 1:23 - loss: 14.8791 - crf_viterbi_accuracy: 0.975 - ETA: 1:23 - loss: 14.7342 - crf_viterbi_accuracy: 0.974 - ETA: 1:22 - loss: 14.4840 - crf_viterbi_accuracy: 0.974 - ETA: 1:20 - loss: 14.4764 - crf_viterbi_accuracy: 0.975 - ETA: 1:19 - loss: 14.6402 - crf_viterbi_accuracy: 0.976 - ETA: 1:18 - loss: 14.6935 - crf_viterbi_accuracy: 0.975 - ETA: 1:17 - loss: 14.6413 - crf_viterbi_accuracy: 0.975 - ETA: 1:15 - loss: 14.5845 - crf_viterbi_accuracy: 0.975 - ETA: 1:14 - loss: 14.5994 - crf_viterbi_accuracy: 0.975 - ETA: 1:13 - loss: 14.6683 - crf_viterbi_accuracy: 0.974 - ETA: 1:11 - loss: 14.7008 - crf_viterbi_accuracy: 0.975 - ETA: 1:10 - loss: 14.6221 - crf_viterbi_accuracy: 0.975 - ETA: 1:09 - loss: 14.6281 - crf_viterbi_accuracy: 0.975 - ETA: 1:08 - loss: 14.5964 - crf_viterbi_accuracy: 0.976 - ETA: 1:07 - loss: 14.6530 - crf_viterbi_accuracy: 0.976 - ETA: 1:06 - loss: 14.6638 - crf_viterbi_accuracy: 0.975 - ETA: 1:04 - loss: 14.6072 - crf_viterbi_accuracy: 0.976 - ETA: 1:03 - loss: 14.5200 - crf_viterbi_accuracy: 0.975 - ETA: 1:02 - loss: 14.4754 - crf_viterbi_accuracy: 0.975 - ETA: 1:00 - loss: 14.4507 - crf_viterbi_accuracy: 0.975 - ETA: 59s - loss: 14.5178 - crf_viterbi_accuracy: 0.975 - ETA: 58s - loss: 14.4533 - crf_viterbi_accuracy: 0.97 - ETA: 57s - loss: 14.4707 - crf_viterbi_accuracy: 0.97 - ETA: 56s - loss: 14.4185 - crf_viterbi_accuracy: 0.97 - ETA: 54s - loss: 14.3456 - crf_viterbi_accuracy: 0.97 - ETA: 53s - loss: 14.4247 - crf_viterbi_accuracy: 0.97 - ETA: 52s - loss: 14.3668 - crf_viterbi_accuracy: 0.97 - ETA: 51s - loss: 14.2946 - crf_viterbi_accuracy: 0.97 - ETA: 49s - loss: 14.3141 - crf_viterbi_accuracy: 0.97 - ETA: 48s - loss: 14.3794 - crf_viterbi_accuracy: 0.97 - ETA: 47s - loss: 14.3611 - crf_viterbi_accuracy: 0.97 - ETA: 45s - loss: 14.3441 - crf_viterbi_accuracy: 0.97 - ETA: 44s - loss: 14.3611 - crf_viterbi_accuracy: 0.97 - ETA: 43s - loss: 14.4300 - crf_viterbi_accuracy: 0.97 - ETA: 42s - loss: 14.4295 - crf_viterbi_accuracy: 0.97 - ETA: 41s - loss: 14.4278 - crf_viterbi_accuracy: 0.97 - ETA: 40s - loss: 14.4556 - crf_viterbi_accuracy: 0.97 - ETA: 38s - loss: 14.4102 - crf_viterbi_accuracy: 0.97 - ETA: 37s - loss: 14.4380 - crf_viterbi_accuracy: 0.97 - ETA: 36s - loss: 14.3962 - crf_viterbi_accuracy: 0.97 - ETA: 34s - loss: 14.4004 - crf_viterbi_accuracy: 0.97 - ETA: 33s - loss: 14.3883 - crf_viterbi_accuracy: 0.97 - ETA: 32s - loss: 14.3911 - crf_viterbi_accuracy: 0.97 - ETA: 31s - loss: 14.3842 - crf_viterbi_accuracy: 0.97 - ETA: 30s - loss: 14.3935 - crf_viterbi_accuracy: 0.97 - ETA: 28s - loss: 14.3945 - crf_viterbi_accuracy: 0.97 - ETA: 27s - loss: 14.3573 - crf_viterbi_accuracy: 0.97 - ETA: 26s - loss: 14.3305 - crf_viterbi_accuracy: 0.97 - ETA: 25s - loss: 14.3571 - crf_viterbi_accuracy: 0.97 - ETA: 23s - loss: 14.3366 - crf_viterbi_accuracy: 0.97 - ETA: 22s - loss: 14.3378 - crf_viterbi_accuracy: 0.97 - ETA: 21s - loss: 14.2962 - crf_viterbi_accuracy: 0.97 - ETA: 20s - loss: 14.3404 - crf_viterbi_accuracy: 0.97 - ETA: 19s - loss: 14.3245 - crf_viterbi_accuracy: 0.97 - ETA: 17s - loss: 14.3257 - crf_viterbi_accuracy: 0.97 - ETA: 16s - loss: 14.3002 - crf_viterbi_accuracy: 0.97 - ETA: 15s - loss: 14.2854 - crf_viterbi_accuracy: 0.97 - ETA: 14s - loss: 14.3261 - crf_viterbi_accuracy: 0.97 - ETA: 13s - loss: 14.3210 - crf_viterbi_accuracy: 0.97 - ETA: 11s - loss: 14.2886 - crf_viterbi_accuracy: 0.97 - ETA: 10s - loss: 14.2598 - crf_viterbi_accuracy: 0.97 - ETA: 9s - loss: 14.2843 - crf_viterbi_accuracy: 0.9728 - ETA: 8s - loss: 14.2928 - crf_viterbi_accuracy: 0.972 - ETA: 7s - loss: 14.2624 - crf_viterbi_accuracy: 0.972 - ETA: 5s - loss: 14.2433 - crf_viterbi_accuracy: 0.972 - ETA: 4s - loss: 14.2348 - crf_viterbi_accuracy: 0.972 - ETA: 3s - loss: 14.2324 - crf_viterbi_accuracy: 0.972 - ETA: 2s - loss: 14.2086 - crf_viterbi_accuracy: 0.972 - ETA: 1s - loss: 14.2182 - crf_viterbi_accuracy: 0.972 - ETA: 0s - loss: 14.2169 - crf_viterbi_accuracy: 0.972 - 99s 24ms/step - loss: 14.2166 - crf_viterbi_accuracy: 0.9727 - val_loss: 14.3096 - val_crf_viterbi_accuracy: 0.8629\n",
      "Epoch 5/10\n"
     ]
    },
    {
     "name": "stdout",
     "output_type": "stream",
     "text": [
      "4104/4104 [==============================] - ETA: 1:26 - loss: 12.8063 - crf_viterbi_accuracy: 0.963 - ETA: 1:27 - loss: 12.1112 - crf_viterbi_accuracy: 0.974 - ETA: 1:29 - loss: 12.6002 - crf_viterbi_accuracy: 0.977 - ETA: 1:29 - loss: 12.5172 - crf_viterbi_accuracy: 0.977 - ETA: 1:29 - loss: 12.5195 - crf_viterbi_accuracy: 0.978 - ETA: 1:28 - loss: 12.9297 - crf_viterbi_accuracy: 0.978 - ETA: 1:27 - loss: 13.3480 - crf_viterbi_accuracy: 0.977 - ETA: 1:25 - loss: 13.4474 - crf_viterbi_accuracy: 0.977 - ETA: 1:25 - loss: 13.5313 - crf_viterbi_accuracy: 0.977 - ETA: 1:24 - loss: 13.7685 - crf_viterbi_accuracy: 0.977 - ETA: 1:23 - loss: 13.8423 - crf_viterbi_accuracy: 0.976 - ETA: 1:21 - loss: 13.8044 - crf_viterbi_accuracy: 0.976 - ETA: 1:20 - loss: 13.6901 - crf_viterbi_accuracy: 0.977 - ETA: 1:20 - loss: 13.6553 - crf_viterbi_accuracy: 0.978 - ETA: 1:19 - loss: 13.7633 - crf_viterbi_accuracy: 0.978 - ETA: 1:18 - loss: 13.6714 - crf_viterbi_accuracy: 0.978 - ETA: 1:17 - loss: 13.6848 - crf_viterbi_accuracy: 0.978 - ETA: 1:16 - loss: 13.6484 - crf_viterbi_accuracy: 0.978 - ETA: 1:15 - loss: 13.5978 - crf_viterbi_accuracy: 0.978 - ETA: 1:14 - loss: 13.7659 - crf_viterbi_accuracy: 0.979 - ETA: 1:13 - loss: 13.7113 - crf_viterbi_accuracy: 0.979 - ETA: 1:12 - loss: 13.8177 - crf_viterbi_accuracy: 0.979 - ETA: 1:10 - loss: 13.8687 - crf_viterbi_accuracy: 0.980 - ETA: 1:09 - loss: 13.8596 - crf_viterbi_accuracy: 0.979 - ETA: 1:08 - loss: 13.9463 - crf_viterbi_accuracy: 0.979 - ETA: 1:07 - loss: 13.9404 - crf_viterbi_accuracy: 0.979 - ETA: 1:06 - loss: 13.9686 - crf_viterbi_accuracy: 0.979 - ETA: 1:05 - loss: 13.9618 - crf_viterbi_accuracy: 0.978 - ETA: 1:03 - loss: 13.9314 - crf_viterbi_accuracy: 0.979 - ETA: 1:02 - loss: 14.0431 - crf_viterbi_accuracy: 0.979 - ETA: 1:01 - loss: 14.0735 - crf_viterbi_accuracy: 0.979 - ETA: 1:00 - loss: 14.1026 - crf_viterbi_accuracy: 0.979 - ETA: 58s - loss: 14.0622 - crf_viterbi_accuracy: 0.979 - ETA: 57s - loss: 14.0923 - crf_viterbi_accuracy: 0.97 - ETA: 56s - loss: 14.0755 - crf_viterbi_accuracy: 0.97 - ETA: 55s - loss: 14.0602 - crf_viterbi_accuracy: 0.97 - ETA: 54s - loss: 14.1213 - crf_viterbi_accuracy: 0.97 - ETA: 52s - loss: 14.1286 - crf_viterbi_accuracy: 0.97 - ETA: 51s - loss: 14.1640 - crf_viterbi_accuracy: 0.97 - ETA: 50s - loss: 14.2644 - crf_viterbi_accuracy: 0.97 - ETA: 49s - loss: 14.1944 - crf_viterbi_accuracy: 0.97 - ETA: 48s - loss: 14.2049 - crf_viterbi_accuracy: 0.97 - ETA: 47s - loss: 14.1875 - crf_viterbi_accuracy: 0.97 - ETA: 45s - loss: 14.2239 - crf_viterbi_accuracy: 0.97 - ETA: 44s - loss: 14.2003 - crf_viterbi_accuracy: 0.97 - ETA: 43s - loss: 14.1743 - crf_viterbi_accuracy: 0.97 - ETA: 42s - loss: 14.2138 - crf_viterbi_accuracy: 0.97 - ETA: 40s - loss: 14.2129 - crf_viterbi_accuracy: 0.97 - ETA: 39s - loss: 14.2355 - crf_viterbi_accuracy: 0.97 - ETA: 38s - loss: 14.2130 - crf_viterbi_accuracy: 0.97 - ETA: 37s - loss: 14.1828 - crf_viterbi_accuracy: 0.97 - ETA: 36s - loss: 14.1739 - crf_viterbi_accuracy: 0.97 - ETA: 34s - loss: 14.1690 - crf_viterbi_accuracy: 0.97 - ETA: 33s - loss: 14.2178 - crf_viterbi_accuracy: 0.97 - ETA: 32s - loss: 14.1882 - crf_viterbi_accuracy: 0.97 - ETA: 31s - loss: 14.1874 - crf_viterbi_accuracy: 0.97 - ETA: 29s - loss: 14.1441 - crf_viterbi_accuracy: 0.97 - ETA: 28s - loss: 14.1351 - crf_viterbi_accuracy: 0.97 - ETA: 27s - loss: 14.1478 - crf_viterbi_accuracy: 0.97 - ETA: 26s - loss: 14.1627 - crf_viterbi_accuracy: 0.97 - ETA: 25s - loss: 14.1687 - crf_viterbi_accuracy: 0.97 - ETA: 23s - loss: 14.1559 - crf_viterbi_accuracy: 0.97 - ETA: 22s - loss: 14.1316 - crf_viterbi_accuracy: 0.97 - ETA: 21s - loss: 14.0973 - crf_viterbi_accuracy: 0.97 - ETA: 20s - loss: 14.1004 - crf_viterbi_accuracy: 0.98 - ETA: 19s - loss: 14.0858 - crf_viterbi_accuracy: 0.97 - ETA: 17s - loss: 14.0427 - crf_viterbi_accuracy: 0.97 - ETA: 16s - loss: 14.0162 - crf_viterbi_accuracy: 0.97 - ETA: 15s - loss: 14.0122 - crf_viterbi_accuracy: 0.97 - ETA: 14s - loss: 14.0165 - crf_viterbi_accuracy: 0.97 - ETA: 13s - loss: 14.0415 - crf_viterbi_accuracy: 0.97 - ETA: 11s - loss: 14.0560 - crf_viterbi_accuracy: 0.97 - ETA: 10s - loss: 14.1188 - crf_viterbi_accuracy: 0.97 - ETA: 9s - loss: 14.1461 - crf_viterbi_accuracy: 0.9791 - ETA: 8s - loss: 14.1349 - crf_viterbi_accuracy: 0.979 - ETA: 7s - loss: 14.1683 - crf_viterbi_accuracy: 0.979 - ETA: 6s - loss: 14.1915 - crf_viterbi_accuracy: 0.979 - ETA: 4s - loss: 14.2182 - crf_viterbi_accuracy: 0.979 - ETA: 3s - loss: 14.2277 - crf_viterbi_accuracy: 0.979 - ETA: 2s - loss: 14.2112 - crf_viterbi_accuracy: 0.979 - ETA: 1s - loss: 14.2314 - crf_viterbi_accuracy: 0.979 - ETA: 0s - loss: 14.1928 - crf_viterbi_accuracy: 0.979 - 99s 24ms/step - loss: 14.1931 - crf_viterbi_accuracy: 0.9792 - val_loss: 14.1835 - val_crf_viterbi_accuracy: 0.9390\n",
      "Epoch 6/10\n",
      "4104/4104 [==============================] - ETA: 1:39 - loss: 14.8510 - crf_viterbi_accuracy: 0.990 - ETA: 1:38 - loss: 15.0288 - crf_viterbi_accuracy: 0.985 - ETA: 1:35 - loss: 14.6525 - crf_viterbi_accuracy: 0.983 - ETA: 1:34 - loss: 14.1672 - crf_viterbi_accuracy: 0.985 - ETA: 1:32 - loss: 14.7254 - crf_viterbi_accuracy: 0.984 - ETA: 1:31 - loss: 14.7864 - crf_viterbi_accuracy: 0.984 - ETA: 1:30 - loss: 14.3433 - crf_viterbi_accuracy: 0.983 - ETA: 1:29 - loss: 14.1615 - crf_viterbi_accuracy: 0.982 - ETA: 1:28 - loss: 14.2914 - crf_viterbi_accuracy: 0.983 - ETA: 1:27 - loss: 14.1671 - crf_viterbi_accuracy: 0.982 - ETA: 1:27 - loss: 14.0143 - crf_viterbi_accuracy: 0.983 - ETA: 1:25 - loss: 14.0507 - crf_viterbi_accuracy: 0.982 - ETA: 1:24 - loss: 13.9645 - crf_viterbi_accuracy: 0.983 - ETA: 1:24 - loss: 13.9557 - crf_viterbi_accuracy: 0.983 - ETA: 1:23 - loss: 13.9803 - crf_viterbi_accuracy: 0.983 - ETA: 1:23 - loss: 14.0235 - crf_viterbi_accuracy: 0.983 - ETA: 1:22 - loss: 14.0309 - crf_viterbi_accuracy: 0.983 - ETA: 1:20 - loss: 14.0048 - crf_viterbi_accuracy: 0.981 - ETA: 1:19 - loss: 14.0154 - crf_viterbi_accuracy: 0.982 - ETA: 1:18 - loss: 14.0532 - crf_viterbi_accuracy: 0.981 - ETA: 1:17 - loss: 14.1272 - crf_viterbi_accuracy: 0.981 - ETA: 1:15 - loss: 14.1094 - crf_viterbi_accuracy: 0.982 - ETA: 1:14 - loss: 14.0876 - crf_viterbi_accuracy: 0.982 - ETA: 1:13 - loss: 14.0071 - crf_viterbi_accuracy: 0.982 - ETA: 1:11 - loss: 14.0937 - crf_viterbi_accuracy: 0.982 - ETA: 1:10 - loss: 14.1190 - crf_viterbi_accuracy: 0.982 - ETA: 1:09 - loss: 14.1320 - crf_viterbi_accuracy: 0.982 - ETA: 1:08 - loss: 14.2398 - crf_viterbi_accuracy: 0.982 - ETA: 1:07 - loss: 14.2762 - crf_viterbi_accuracy: 0.982 - ETA: 1:05 - loss: 14.2200 - crf_viterbi_accuracy: 0.982 - ETA: 1:04 - loss: 14.2022 - crf_viterbi_accuracy: 0.982 - ETA: 1:03 - loss: 14.2073 - crf_viterbi_accuracy: 0.982 - ETA: 1:01 - loss: 14.1287 - crf_viterbi_accuracy: 0.983 - ETA: 1:00 - loss: 14.0760 - crf_viterbi_accuracy: 0.983 - ETA: 59s - loss: 14.1098 - crf_viterbi_accuracy: 0.983 - ETA: 57s - loss: 14.1823 - crf_viterbi_accuracy: 0.98 - ETA: 56s - loss: 14.1669 - crf_viterbi_accuracy: 0.98 - ETA: 55s - loss: 14.1825 - crf_viterbi_accuracy: 0.98 - ETA: 53s - loss: 14.2299 - crf_viterbi_accuracy: 0.98 - ETA: 52s - loss: 14.2000 - crf_viterbi_accuracy: 0.98 - ETA: 51s - loss: 14.1861 - crf_viterbi_accuracy: 0.98 - ETA: 49s - loss: 14.2143 - crf_viterbi_accuracy: 0.98 - ETA: 48s - loss: 14.1814 - crf_viterbi_accuracy: 0.98 - ETA: 47s - loss: 14.1483 - crf_viterbi_accuracy: 0.98 - ETA: 46s - loss: 14.2237 - crf_viterbi_accuracy: 0.98 - ETA: 44s - loss: 14.3339 - crf_viterbi_accuracy: 0.98 - ETA: 43s - loss: 14.3414 - crf_viterbi_accuracy: 0.98 - ETA: 42s - loss: 14.3082 - crf_viterbi_accuracy: 0.98 - ETA: 41s - loss: 14.2784 - crf_viterbi_accuracy: 0.98 - ETA: 39s - loss: 14.2880 - crf_viterbi_accuracy: 0.98 - ETA: 38s - loss: 14.3080 - crf_viterbi_accuracy: 0.98 - ETA: 37s - loss: 14.3285 - crf_viterbi_accuracy: 0.98 - ETA: 35s - loss: 14.3472 - crf_viterbi_accuracy: 0.98 - ETA: 34s - loss: 14.3232 - crf_viterbi_accuracy: 0.98 - ETA: 33s - loss: 14.2961 - crf_viterbi_accuracy: 0.98 - ETA: 32s - loss: 14.2803 - crf_viterbi_accuracy: 0.98 - ETA: 30s - loss: 14.2546 - crf_viterbi_accuracy: 0.98 - ETA: 29s - loss: 14.2702 - crf_viterbi_accuracy: 0.98 - ETA: 28s - loss: 14.2831 - crf_viterbi_accuracy: 0.98 - ETA: 27s - loss: 14.3570 - crf_viterbi_accuracy: 0.98 - ETA: 25s - loss: 14.3126 - crf_viterbi_accuracy: 0.98 - ETA: 24s - loss: 14.2837 - crf_viterbi_accuracy: 0.98 - ETA: 23s - loss: 14.3091 - crf_viterbi_accuracy: 0.98 - ETA: 22s - loss: 14.3242 - crf_viterbi_accuracy: 0.98 - ETA: 20s - loss: 14.3435 - crf_viterbi_accuracy: 0.98 - ETA: 19s - loss: 14.3269 - crf_viterbi_accuracy: 0.98 - ETA: 18s - loss: 14.3403 - crf_viterbi_accuracy: 0.98 - ETA: 17s - loss: 14.3101 - crf_viterbi_accuracy: 0.98 - ETA: 16s - loss: 14.3199 - crf_viterbi_accuracy: 0.98 - ETA: 14s - loss: 14.3088 - crf_viterbi_accuracy: 0.98 - ETA: 13s - loss: 14.3095 - crf_viterbi_accuracy: 0.98 - ETA: 12s - loss: 14.2832 - crf_viterbi_accuracy: 0.98 - ETA: 11s - loss: 14.2759 - crf_viterbi_accuracy: 0.98 - ETA: 9s - loss: 14.2763 - crf_viterbi_accuracy: 0.9840 - ETA: 8s - loss: 14.2737 - crf_viterbi_accuracy: 0.984 - ETA: 7s - loss: 14.2524 - crf_viterbi_accuracy: 0.983 - ETA: 6s - loss: 14.2625 - crf_viterbi_accuracy: 0.983 - ETA: 5s - loss: 14.2465 - crf_viterbi_accuracy: 0.983 - ETA: 3s - loss: 14.2403 - crf_viterbi_accuracy: 0.983 - ETA: 2s - loss: 14.2387 - crf_viterbi_accuracy: 0.984 - ETA: 1s - loss: 14.2012 - crf_viterbi_accuracy: 0.984 - ETA: 0s - loss: 14.1778 - crf_viterbi_accuracy: 0.984 - 103s 25ms/step - loss: 14.1775 - crf_viterbi_accuracy: 0.9840 - val_loss: 14.1712 - val_crf_viterbi_accuracy: 0.9327\n",
      "Epoch 7/10\n"
     ]
    },
    {
     "name": "stdout",
     "output_type": "stream",
     "text": [
      "4104/4104 [==============================] - ETA: 1:22 - loss: 16.1908 - crf_viterbi_accuracy: 0.986 - ETA: 1:27 - loss: 14.6939 - crf_viterbi_accuracy: 0.978 - ETA: 1:28 - loss: 14.0201 - crf_viterbi_accuracy: 0.980 - ETA: 1:27 - loss: 14.4535 - crf_viterbi_accuracy: 0.983 - ETA: 1:27 - loss: 15.4380 - crf_viterbi_accuracy: 0.982 - ETA: 1:26 - loss: 15.1721 - crf_viterbi_accuracy: 0.982 - ETA: 1:25 - loss: 14.8414 - crf_viterbi_accuracy: 0.983 - ETA: 1:24 - loss: 14.8808 - crf_viterbi_accuracy: 0.984 - ETA: 1:23 - loss: 14.6065 - crf_viterbi_accuracy: 0.985 - ETA: 1:22 - loss: 14.4934 - crf_viterbi_accuracy: 0.986 - ETA: 1:21 - loss: 14.3760 - crf_viterbi_accuracy: 0.986 - ETA: 1:20 - loss: 14.1778 - crf_viterbi_accuracy: 0.985 - ETA: 1:19 - loss: 14.2518 - crf_viterbi_accuracy: 0.986 - ETA: 1:18 - loss: 14.1521 - crf_viterbi_accuracy: 0.986 - ETA: 1:16 - loss: 14.0647 - crf_viterbi_accuracy: 0.986 - ETA: 1:15 - loss: 14.2019 - crf_viterbi_accuracy: 0.986 - ETA: 1:14 - loss: 14.3487 - crf_viterbi_accuracy: 0.986 - ETA: 1:13 - loss: 14.3184 - crf_viterbi_accuracy: 0.986 - ETA: 1:12 - loss: 14.3930 - crf_viterbi_accuracy: 0.986 - ETA: 1:11 - loss: 14.3578 - crf_viterbi_accuracy: 0.987 - ETA: 1:09 - loss: 14.4006 - crf_viterbi_accuracy: 0.986 - ETA: 1:08 - loss: 14.3522 - crf_viterbi_accuracy: 0.986 - ETA: 1:07 - loss: 14.4047 - crf_viterbi_accuracy: 0.986 - ETA: 1:06 - loss: 14.4252 - crf_viterbi_accuracy: 0.986 - ETA: 1:05 - loss: 14.5245 - crf_viterbi_accuracy: 0.986 - ETA: 1:04 - loss: 14.5462 - crf_viterbi_accuracy: 0.987 - ETA: 1:03 - loss: 14.5123 - crf_viterbi_accuracy: 0.986 - ETA: 1:02 - loss: 14.4167 - crf_viterbi_accuracy: 0.986 - ETA: 1:00 - loss: 14.3801 - crf_viterbi_accuracy: 0.986 - ETA: 59s - loss: 14.4318 - crf_viterbi_accuracy: 0.986 - ETA: 58s - loss: 14.4102 - crf_viterbi_accuracy: 0.98 - ETA: 57s - loss: 14.3525 - crf_viterbi_accuracy: 0.98 - ETA: 56s - loss: 14.3801 - crf_viterbi_accuracy: 0.98 - ETA: 55s - loss: 14.3345 - crf_viterbi_accuracy: 0.98 - ETA: 54s - loss: 14.3006 - crf_viterbi_accuracy: 0.98 - ETA: 53s - loss: 14.3461 - crf_viterbi_accuracy: 0.98 - ETA: 52s - loss: 14.3263 - crf_viterbi_accuracy: 0.98 - ETA: 51s - loss: 14.3508 - crf_viterbi_accuracy: 0.98 - ETA: 50s - loss: 14.3130 - crf_viterbi_accuracy: 0.98 - ETA: 49s - loss: 14.2901 - crf_viterbi_accuracy: 0.98 - ETA: 47s - loss: 14.2384 - crf_viterbi_accuracy: 0.98 - ETA: 46s - loss: 14.2512 - crf_viterbi_accuracy: 0.98 - ETA: 45s - loss: 14.2600 - crf_viterbi_accuracy: 0.98 - ETA: 44s - loss: 14.3279 - crf_viterbi_accuracy: 0.98 - ETA: 43s - loss: 14.3358 - crf_viterbi_accuracy: 0.98 - ETA: 41s - loss: 14.2937 - crf_viterbi_accuracy: 0.98 - ETA: 40s - loss: 14.2501 - crf_viterbi_accuracy: 0.98 - ETA: 39s - loss: 14.2311 - crf_viterbi_accuracy: 0.98 - ETA: 38s - loss: 14.3236 - crf_viterbi_accuracy: 0.98 - ETA: 37s - loss: 14.3152 - crf_viterbi_accuracy: 0.98 - ETA: 36s - loss: 14.3476 - crf_viterbi_accuracy: 0.98 - ETA: 35s - loss: 14.3164 - crf_viterbi_accuracy: 0.98 - ETA: 33s - loss: 14.3091 - crf_viterbi_accuracy: 0.98 - ETA: 32s - loss: 14.2613 - crf_viterbi_accuracy: 0.98 - ETA: 31s - loss: 14.2454 - crf_viterbi_accuracy: 0.98 - ETA: 30s - loss: 14.2215 - crf_viterbi_accuracy: 0.98 - ETA: 29s - loss: 14.2149 - crf_viterbi_accuracy: 0.98 - ETA: 28s - loss: 14.2126 - crf_viterbi_accuracy: 0.98 - ETA: 26s - loss: 14.1990 - crf_viterbi_accuracy: 0.98 - ETA: 25s - loss: 14.1636 - crf_viterbi_accuracy: 0.98 - ETA: 24s - loss: 14.1440 - crf_viterbi_accuracy: 0.98 - ETA: 23s - loss: 14.1562 - crf_viterbi_accuracy: 0.98 - ETA: 22s - loss: 14.2305 - crf_viterbi_accuracy: 0.98 - ETA: 21s - loss: 14.2496 - crf_viterbi_accuracy: 0.98 - ETA: 19s - loss: 14.2355 - crf_viterbi_accuracy: 0.98 - ETA: 18s - loss: 14.2199 - crf_viterbi_accuracy: 0.98 - ETA: 17s - loss: 14.2214 - crf_viterbi_accuracy: 0.98 - ETA: 16s - loss: 14.2092 - crf_viterbi_accuracy: 0.98 - ETA: 15s - loss: 14.2218 - crf_viterbi_accuracy: 0.98 - ETA: 14s - loss: 14.2040 - crf_viterbi_accuracy: 0.98 - ETA: 12s - loss: 14.2094 - crf_viterbi_accuracy: 0.98 - ETA: 11s - loss: 14.2265 - crf_viterbi_accuracy: 0.98 - ETA: 10s - loss: 14.1957 - crf_viterbi_accuracy: 0.98 - ETA: 9s - loss: 14.1538 - crf_viterbi_accuracy: 0.9869 - ETA: 8s - loss: 14.1521 - crf_viterbi_accuracy: 0.986 - ETA: 7s - loss: 14.1996 - crf_viterbi_accuracy: 0.987 - ETA: 5s - loss: 14.2059 - crf_viterbi_accuracy: 0.987 - ETA: 4s - loss: 14.1746 - crf_viterbi_accuracy: 0.986 - ETA: 3s - loss: 14.1630 - crf_viterbi_accuracy: 0.986 - ETA: 2s - loss: 14.1633 - crf_viterbi_accuracy: 0.986 - ETA: 1s - loss: 14.1202 - crf_viterbi_accuracy: 0.986 - ETA: 0s - loss: 14.1575 - crf_viterbi_accuracy: 0.986 - 98s 24ms/step - loss: 14.1678 - crf_viterbi_accuracy: 0.9869 - val_loss: 14.1808 - val_crf_viterbi_accuracy: 0.9341\n",
      "Epoch 8/10\n",
      "4104/4104 [==============================] - ETA: 1:34 - loss: 12.6796 - crf_viterbi_accuracy: 0.996 - ETA: 1:29 - loss: 14.6081 - crf_viterbi_accuracy: 0.995 - ETA: 1:28 - loss: 14.6998 - crf_viterbi_accuracy: 0.994 - ETA: 1:27 - loss: 14.1149 - crf_viterbi_accuracy: 0.993 - ETA: 1:25 - loss: 14.3270 - crf_viterbi_accuracy: 0.992 - ETA: 1:24 - loss: 14.0992 - crf_viterbi_accuracy: 0.992 - ETA: 1:24 - loss: 13.9148 - crf_viterbi_accuracy: 0.992 - ETA: 1:24 - loss: 14.1912 - crf_viterbi_accuracy: 0.991 - ETA: 1:24 - loss: 14.4656 - crf_viterbi_accuracy: 0.992 - ETA: 1:24 - loss: 14.2019 - crf_viterbi_accuracy: 0.992 - ETA: 1:23 - loss: 14.1519 - crf_viterbi_accuracy: 0.992 - ETA: 1:22 - loss: 14.2933 - crf_viterbi_accuracy: 0.991 - ETA: 1:20 - loss: 14.2210 - crf_viterbi_accuracy: 0.991 - ETA: 1:19 - loss: 14.2134 - crf_viterbi_accuracy: 0.991 - ETA: 1:18 - loss: 14.2699 - crf_viterbi_accuracy: 0.991 - ETA: 1:16 - loss: 14.2591 - crf_viterbi_accuracy: 0.991 - ETA: 1:15 - loss: 14.1572 - crf_viterbi_accuracy: 0.991 - ETA: 1:14 - loss: 14.0637 - crf_viterbi_accuracy: 0.991 - ETA: 1:13 - loss: 14.0870 - crf_viterbi_accuracy: 0.990 - ETA: 1:12 - loss: 14.0946 - crf_viterbi_accuracy: 0.990 - ETA: 1:11 - loss: 14.0539 - crf_viterbi_accuracy: 0.991 - ETA: 1:10 - loss: 14.0373 - crf_viterbi_accuracy: 0.991 - ETA: 1:09 - loss: 14.1082 - crf_viterbi_accuracy: 0.991 - ETA: 1:08 - loss: 14.0404 - crf_viterbi_accuracy: 0.991 - ETA: 1:06 - loss: 14.0770 - crf_viterbi_accuracy: 0.990 - ETA: 1:05 - loss: 14.0103 - crf_viterbi_accuracy: 0.990 - ETA: 1:04 - loss: 13.9936 - crf_viterbi_accuracy: 0.990 - ETA: 1:03 - loss: 13.9572 - crf_viterbi_accuracy: 0.990 - ETA: 1:02 - loss: 13.9387 - crf_viterbi_accuracy: 0.990 - ETA: 1:00 - loss: 14.0539 - crf_viterbi_accuracy: 0.990 - ETA: 59s - loss: 14.0841 - crf_viterbi_accuracy: 0.990 - ETA: 58s - loss: 14.1680 - crf_viterbi_accuracy: 0.99 - ETA: 57s - loss: 14.1636 - crf_viterbi_accuracy: 0.99 - ETA: 56s - loss: 14.1435 - crf_viterbi_accuracy: 0.99 - ETA: 55s - loss: 14.1031 - crf_viterbi_accuracy: 0.99 - ETA: 53s - loss: 14.0553 - crf_viterbi_accuracy: 0.99 - ETA: 52s - loss: 14.0278 - crf_viterbi_accuracy: 0.99 - ETA: 51s - loss: 14.0519 - crf_viterbi_accuracy: 0.99 - ETA: 50s - loss: 13.9946 - crf_viterbi_accuracy: 0.99 - ETA: 48s - loss: 13.9819 - crf_viterbi_accuracy: 0.99 - ETA: 47s - loss: 13.9868 - crf_viterbi_accuracy: 0.99 - ETA: 46s - loss: 14.0382 - crf_viterbi_accuracy: 0.99 - ETA: 45s - loss: 14.0106 - crf_viterbi_accuracy: 0.99 - ETA: 44s - loss: 13.9858 - crf_viterbi_accuracy: 0.99 - ETA: 42s - loss: 13.9727 - crf_viterbi_accuracy: 0.99 - ETA: 41s - loss: 13.9355 - crf_viterbi_accuracy: 0.99 - ETA: 40s - loss: 13.9765 - crf_viterbi_accuracy: 0.99 - ETA: 39s - loss: 14.0137 - crf_viterbi_accuracy: 0.99 - ETA: 38s - loss: 14.0071 - crf_viterbi_accuracy: 0.99 - ETA: 36s - loss: 13.9988 - crf_viterbi_accuracy: 0.99 - ETA: 35s - loss: 14.0024 - crf_viterbi_accuracy: 0.99 - ETA: 34s - loss: 13.9845 - crf_viterbi_accuracy: 0.99 - ETA: 33s - loss: 14.0116 - crf_viterbi_accuracy: 0.99 - ETA: 32s - loss: 14.0056 - crf_viterbi_accuracy: 0.99 - ETA: 31s - loss: 14.0172 - crf_viterbi_accuracy: 0.99 - ETA: 29s - loss: 14.0143 - crf_viterbi_accuracy: 0.99 - ETA: 28s - loss: 14.0306 - crf_viterbi_accuracy: 0.99 - ETA: 27s - loss: 14.0506 - crf_viterbi_accuracy: 0.99 - ETA: 26s - loss: 14.0370 - crf_viterbi_accuracy: 0.99 - ETA: 25s - loss: 14.1065 - crf_viterbi_accuracy: 0.99 - ETA: 24s - loss: 14.0849 - crf_viterbi_accuracy: 0.99 - ETA: 23s - loss: 14.0987 - crf_viterbi_accuracy: 0.99 - ETA: 21s - loss: 14.0665 - crf_viterbi_accuracy: 0.99 - ETA: 20s - loss: 14.0583 - crf_viterbi_accuracy: 0.99 - ETA: 19s - loss: 14.0517 - crf_viterbi_accuracy: 0.99 - ETA: 18s - loss: 14.0325 - crf_viterbi_accuracy: 0.99 - ETA: 17s - loss: 14.0835 - crf_viterbi_accuracy: 0.99 - ETA: 16s - loss: 14.0423 - crf_viterbi_accuracy: 0.99 - ETA: 15s - loss: 14.0513 - crf_viterbi_accuracy: 0.99 - ETA: 14s - loss: 14.0647 - crf_viterbi_accuracy: 0.99 - ETA: 13s - loss: 14.0581 - crf_viterbi_accuracy: 0.99 - ETA: 11s - loss: 14.0529 - crf_viterbi_accuracy: 0.99 - ETA: 10s - loss: 14.0426 - crf_viterbi_accuracy: 0.99 - ETA: 9s - loss: 14.0365 - crf_viterbi_accuracy: 0.9907 - ETA: 8s - loss: 13.9947 - crf_viterbi_accuracy: 0.990 - ETA: 7s - loss: 14.0209 - crf_viterbi_accuracy: 0.990 - ETA: 5s - loss: 14.0357 - crf_viterbi_accuracy: 0.990 - ETA: 4s - loss: 14.0363 - crf_viterbi_accuracy: 0.990 - ETA: 3s - loss: 14.0961 - crf_viterbi_accuracy: 0.990 - ETA: 2s - loss: 14.0831 - crf_viterbi_accuracy: 0.990 - ETA: 1s - loss: 14.1058 - crf_viterbi_accuracy: 0.990 - ETA: 0s - loss: 14.1630 - crf_viterbi_accuracy: 0.990 - 99s 24ms/step - loss: 14.1590 - crf_viterbi_accuracy: 0.9900 - val_loss: 14.3340 - val_crf_viterbi_accuracy: 0.8569\n",
      "Epoch 9/10\n"
     ]
    },
    {
     "name": "stdout",
     "output_type": "stream",
     "text": [
      "4104/4104 [==============================] - ETA: 1:34 - loss: 13.6621 - crf_viterbi_accuracy: 0.966 - ETA: 1:31 - loss: 13.4790 - crf_viterbi_accuracy: 0.980 - ETA: 1:30 - loss: 14.2701 - crf_viterbi_accuracy: 0.985 - ETA: 1:28 - loss: 14.2826 - crf_viterbi_accuracy: 0.986 - ETA: 1:26 - loss: 14.8170 - crf_viterbi_accuracy: 0.987 - ETA: 1:25 - loss: 15.3980 - crf_viterbi_accuracy: 0.987 - ETA: 1:24 - loss: 14.8383 - crf_viterbi_accuracy: 0.988 - ETA: 1:22 - loss: 15.0876 - crf_viterbi_accuracy: 0.988 - ETA: 1:22 - loss: 15.0291 - crf_viterbi_accuracy: 0.988 - ETA: 1:21 - loss: 14.6635 - crf_viterbi_accuracy: 0.989 - ETA: 1:20 - loss: 14.5971 - crf_viterbi_accuracy: 0.989 - ETA: 1:18 - loss: 14.4133 - crf_viterbi_accuracy: 0.990 - ETA: 1:17 - loss: 14.3480 - crf_viterbi_accuracy: 0.990 - ETA: 1:16 - loss: 14.2046 - crf_viterbi_accuracy: 0.990 - ETA: 1:15 - loss: 14.0827 - crf_viterbi_accuracy: 0.991 - ETA: 1:15 - loss: 14.1382 - crf_viterbi_accuracy: 0.991 - ETA: 1:14 - loss: 14.1914 - crf_viterbi_accuracy: 0.991 - ETA: 1:12 - loss: 14.2106 - crf_viterbi_accuracy: 0.991 - ETA: 1:11 - loss: 14.1084 - crf_viterbi_accuracy: 0.991 - ETA: 1:10 - loss: 14.2799 - crf_viterbi_accuracy: 0.991 - ETA: 1:10 - loss: 14.2619 - crf_viterbi_accuracy: 0.991 - ETA: 1:09 - loss: 14.2330 - crf_viterbi_accuracy: 0.991 - ETA: 1:08 - loss: 14.2595 - crf_viterbi_accuracy: 0.992 - ETA: 1:07 - loss: 14.4082 - crf_viterbi_accuracy: 0.992 - ETA: 1:07 - loss: 14.5118 - crf_viterbi_accuracy: 0.992 - ETA: 1:06 - loss: 14.5323 - crf_viterbi_accuracy: 0.991 - ETA: 1:05 - loss: 14.4970 - crf_viterbi_accuracy: 0.992 - ETA: 1:04 - loss: 14.4727 - crf_viterbi_accuracy: 0.992 - ETA: 1:03 - loss: 14.4537 - crf_viterbi_accuracy: 0.992 - ETA: 1:02 - loss: 14.4355 - crf_viterbi_accuracy: 0.992 - ETA: 1:01 - loss: 14.4195 - crf_viterbi_accuracy: 0.992 - ETA: 1:00 - loss: 14.4302 - crf_viterbi_accuracy: 0.992 - ETA: 59s - loss: 14.5252 - crf_viterbi_accuracy: 0.992 - ETA: 57s - loss: 14.4482 - crf_viterbi_accuracy: 0.99 - ETA: 56s - loss: 14.5814 - crf_viterbi_accuracy: 0.99 - ETA: 55s - loss: 14.5508 - crf_viterbi_accuracy: 0.99 - ETA: 54s - loss: 14.5454 - crf_viterbi_accuracy: 0.99 - ETA: 52s - loss: 14.4850 - crf_viterbi_accuracy: 0.99 - ETA: 51s - loss: 14.4590 - crf_viterbi_accuracy: 0.99 - ETA: 50s - loss: 14.4169 - crf_viterbi_accuracy: 0.99 - ETA: 49s - loss: 14.3934 - crf_viterbi_accuracy: 0.99 - ETA: 47s - loss: 14.3705 - crf_viterbi_accuracy: 0.99 - ETA: 46s - loss: 14.3312 - crf_viterbi_accuracy: 0.99 - ETA: 45s - loss: 14.3196 - crf_viterbi_accuracy: 0.99 - ETA: 43s - loss: 14.3512 - crf_viterbi_accuracy: 0.99 - ETA: 42s - loss: 14.3419 - crf_viterbi_accuracy: 0.99 - ETA: 41s - loss: 14.3516 - crf_viterbi_accuracy: 0.99 - ETA: 40s - loss: 14.3284 - crf_viterbi_accuracy: 0.99 - ETA: 39s - loss: 14.3003 - crf_viterbi_accuracy: 0.99 - ETA: 37s - loss: 14.3328 - crf_viterbi_accuracy: 0.99 - ETA: 36s - loss: 14.4098 - crf_viterbi_accuracy: 0.99 - ETA: 35s - loss: 14.3826 - crf_viterbi_accuracy: 0.99 - ETA: 34s - loss: 14.3678 - crf_viterbi_accuracy: 0.99 - ETA: 32s - loss: 14.3264 - crf_viterbi_accuracy: 0.99 - ETA: 31s - loss: 14.2969 - crf_viterbi_accuracy: 0.99 - ETA: 30s - loss: 14.2723 - crf_viterbi_accuracy: 0.99 - ETA: 29s - loss: 14.2886 - crf_viterbi_accuracy: 0.99 - ETA: 28s - loss: 14.2695 - crf_viterbi_accuracy: 0.99 - ETA: 26s - loss: 14.3356 - crf_viterbi_accuracy: 0.99 - ETA: 25s - loss: 14.3114 - crf_viterbi_accuracy: 0.99 - ETA: 24s - loss: 14.2736 - crf_viterbi_accuracy: 0.99 - ETA: 23s - loss: 14.2735 - crf_viterbi_accuracy: 0.99 - ETA: 22s - loss: 14.2815 - crf_viterbi_accuracy: 0.99 - ETA: 21s - loss: 14.2740 - crf_viterbi_accuracy: 0.99 - ETA: 19s - loss: 14.2242 - crf_viterbi_accuracy: 0.99 - ETA: 18s - loss: 14.2942 - crf_viterbi_accuracy: 0.99 - ETA: 17s - loss: 14.2928 - crf_viterbi_accuracy: 0.99 - ETA: 16s - loss: 14.2796 - crf_viterbi_accuracy: 0.99 - ETA: 15s - loss: 14.2747 - crf_viterbi_accuracy: 0.99 - ETA: 14s - loss: 14.2443 - crf_viterbi_accuracy: 0.99 - ETA: 12s - loss: 14.2347 - crf_viterbi_accuracy: 0.99 - ETA: 11s - loss: 14.2187 - crf_viterbi_accuracy: 0.99 - ETA: 10s - loss: 14.2398 - crf_viterbi_accuracy: 0.99 - ETA: 9s - loss: 14.2052 - crf_viterbi_accuracy: 0.9926 - ETA: 8s - loss: 14.2057 - crf_viterbi_accuracy: 0.992 - ETA: 7s - loss: 14.2114 - crf_viterbi_accuracy: 0.992 - ETA: 5s - loss: 14.1816 - crf_viterbi_accuracy: 0.992 - ETA: 4s - loss: 14.1835 - crf_viterbi_accuracy: 0.992 - ETA: 3s - loss: 14.1507 - crf_viterbi_accuracy: 0.992 - ETA: 2s - loss: 14.1465 - crf_viterbi_accuracy: 0.992 - ETA: 1s - loss: 14.1232 - crf_viterbi_accuracy: 0.992 - ETA: 0s - loss: 14.1463 - crf_viterbi_accuracy: 0.992 - 98s 24ms/step - loss: 14.1520 - crf_viterbi_accuracy: 0.9926 - val_loss: 14.3408 - val_crf_viterbi_accuracy: 0.9308\n",
      "Epoch 10/10\n",
      "4104/4104 [==============================] - ETA: 2:12 - loss: 16.2438 - crf_viterbi_accuracy: 0.951 - ETA: 2:03 - loss: 15.1300 - crf_viterbi_accuracy: 0.970 - ETA: 1:58 - loss: 14.1705 - crf_viterbi_accuracy: 0.978 - ETA: 1:54 - loss: 15.0059 - crf_viterbi_accuracy: 0.982 - ETA: 1:50 - loss: 15.2564 - crf_viterbi_accuracy: 0.985 - ETA: 1:46 - loss: 14.8245 - crf_viterbi_accuracy: 0.987 - ETA: 1:43 - loss: 14.6184 - crf_viterbi_accuracy: 0.988 - ETA: 1:40 - loss: 14.4377 - crf_viterbi_accuracy: 0.989 - ETA: 1:37 - loss: 14.3992 - crf_viterbi_accuracy: 0.990 - ETA: 1:35 - loss: 14.4938 - crf_viterbi_accuracy: 0.989 - ETA: 1:32 - loss: 14.3036 - crf_viterbi_accuracy: 0.990 - ETA: 1:30 - loss: 14.3415 - crf_viterbi_accuracy: 0.990 - ETA: 1:28 - loss: 14.2564 - crf_viterbi_accuracy: 0.991 - ETA: 1:26 - loss: 14.2502 - crf_viterbi_accuracy: 0.991 - ETA: 1:24 - loss: 14.1536 - crf_viterbi_accuracy: 0.992 - ETA: 1:22 - loss: 14.1801 - crf_viterbi_accuracy: 0.992 - ETA: 1:21 - loss: 14.0120 - crf_viterbi_accuracy: 0.992 - ETA: 1:19 - loss: 14.1076 - crf_viterbi_accuracy: 0.992 - ETA: 1:18 - loss: 14.0267 - crf_viterbi_accuracy: 0.992 - ETA: 1:16 - loss: 14.0985 - crf_viterbi_accuracy: 0.992 - ETA: 1:14 - loss: 14.1173 - crf_viterbi_accuracy: 0.992 - ETA: 1:13 - loss: 14.1341 - crf_viterbi_accuracy: 0.992 - ETA: 1:12 - loss: 14.2314 - crf_viterbi_accuracy: 0.992 - ETA: 1:10 - loss: 14.3814 - crf_viterbi_accuracy: 0.993 - ETA: 1:09 - loss: 14.5138 - crf_viterbi_accuracy: 0.993 - ETA: 1:07 - loss: 14.4551 - crf_viterbi_accuracy: 0.992 - ETA: 1:06 - loss: 14.4277 - crf_viterbi_accuracy: 0.993 - ETA: 1:05 - loss: 14.3514 - crf_viterbi_accuracy: 0.993 - ETA: 1:04 - loss: 14.3294 - crf_viterbi_accuracy: 0.993 - ETA: 1:03 - loss: 14.3872 - crf_viterbi_accuracy: 0.993 - ETA: 1:01 - loss: 14.3959 - crf_viterbi_accuracy: 0.993 - ETA: 1:00 - loss: 14.3695 - crf_viterbi_accuracy: 0.993 - ETA: 59s - loss: 14.4489 - crf_viterbi_accuracy: 0.993 - ETA: 58s - loss: 14.3837 - crf_viterbi_accuracy: 0.99 - ETA: 56s - loss: 14.4100 - crf_viterbi_accuracy: 0.99 - ETA: 55s - loss: 14.3855 - crf_viterbi_accuracy: 0.99 - ETA: 54s - loss: 14.3152 - crf_viterbi_accuracy: 0.99 - ETA: 52s - loss: 14.2564 - crf_viterbi_accuracy: 0.99 - ETA: 51s - loss: 14.1870 - crf_viterbi_accuracy: 0.99 - ETA: 50s - loss: 14.1519 - crf_viterbi_accuracy: 0.99 - ETA: 49s - loss: 14.1272 - crf_viterbi_accuracy: 0.99 - ETA: 48s - loss: 14.1328 - crf_viterbi_accuracy: 0.99 - ETA: 46s - loss: 14.2048 - crf_viterbi_accuracy: 0.99 - ETA: 45s - loss: 14.2877 - crf_viterbi_accuracy: 0.99 - ETA: 44s - loss: 14.3017 - crf_viterbi_accuracy: 0.99 - ETA: 43s - loss: 14.2989 - crf_viterbi_accuracy: 0.99 - ETA: 42s - loss: 14.2589 - crf_viterbi_accuracy: 0.99 - ETA: 40s - loss: 14.2419 - crf_viterbi_accuracy: 0.99 - ETA: 39s - loss: 14.2742 - crf_viterbi_accuracy: 0.99 - ETA: 38s - loss: 14.2553 - crf_viterbi_accuracy: 0.99 - ETA: 37s - loss: 14.3039 - crf_viterbi_accuracy: 0.99 - ETA: 36s - loss: 14.3417 - crf_viterbi_accuracy: 0.99 - ETA: 34s - loss: 14.3764 - crf_viterbi_accuracy: 0.99 - ETA: 33s - loss: 14.3852 - crf_viterbi_accuracy: 0.99 - ETA: 32s - loss: 14.3419 - crf_viterbi_accuracy: 0.99 - ETA: 31s - loss: 14.3262 - crf_viterbi_accuracy: 0.99 - ETA: 30s - loss: 14.3772 - crf_viterbi_accuracy: 0.99 - ETA: 28s - loss: 14.3765 - crf_viterbi_accuracy: 0.99 - ETA: 27s - loss: 14.3746 - crf_viterbi_accuracy: 0.99 - ETA: 26s - loss: 14.3389 - crf_viterbi_accuracy: 0.99 - ETA: 25s - loss: 14.3106 - crf_viterbi_accuracy: 0.99 - ETA: 23s - loss: 14.2902 - crf_viterbi_accuracy: 0.99 - ETA: 22s - loss: 14.2861 - crf_viterbi_accuracy: 0.99 - ETA: 21s - loss: 14.2885 - crf_viterbi_accuracy: 0.99 - ETA: 20s - loss: 14.3012 - crf_viterbi_accuracy: 0.99 - ETA: 19s - loss: 14.2578 - crf_viterbi_accuracy: 0.99 - ETA: 17s - loss: 14.2489 - crf_viterbi_accuracy: 0.99 - ETA: 16s - loss: 14.2929 - crf_viterbi_accuracy: 0.99 - ETA: 15s - loss: 14.2879 - crf_viterbi_accuracy: 0.99 - ETA: 14s - loss: 14.2914 - crf_viterbi_accuracy: 0.99 - ETA: 13s - loss: 14.2658 - crf_viterbi_accuracy: 0.99 - ETA: 12s - loss: 14.2552 - crf_viterbi_accuracy: 0.99 - ETA: 10s - loss: 14.2468 - crf_viterbi_accuracy: 0.99 - ETA: 9s - loss: 14.2450 - crf_viterbi_accuracy: 0.9941 - ETA: 8s - loss: 14.2620 - crf_viterbi_accuracy: 0.994 - ETA: 7s - loss: 14.2451 - crf_viterbi_accuracy: 0.993 - ETA: 6s - loss: 14.1995 - crf_viterbi_accuracy: 0.993 - ETA: 4s - loss: 14.1848 - crf_viterbi_accuracy: 0.993 - ETA: 3s - loss: 14.2150 - crf_viterbi_accuracy: 0.993 - ETA: 2s - loss: 14.2029 - crf_viterbi_accuracy: 0.993 - ETA: 1s - loss: 14.1532 - crf_viterbi_accuracy: 0.993 - ETA: 0s - loss: 14.1453 - crf_viterbi_accuracy: 0.994 - 101s 25ms/step - loss: 14.1489 - crf_viterbi_accuracy: 0.9940 - val_loss: 14.2432 - val_crf_viterbi_accuracy: 0.9311\n"
     ]
    }
   ],
   "source": [
    "history = model.fit(X, np.array(y), batch_size=batch_size, epochs=epochs,\n",
    "                    validation_split=0.1,callbacks=callbacks_list)"
   ]
  },
  {
   "cell_type": "code",
   "execution_count": 47,
   "metadata": {},
   "outputs": [
    {
     "data": {
      "text/plain": [
       "<matplotlib.legend.Legend at 0x1d6263bc7b8>"
      ]
     },
     "execution_count": 47,
     "metadata": {},
     "output_type": "execute_result"
    },
    {
     "data": {
      "image/png": "[encoded data removed]",
      "text/plain": [
       "<Figure size 576x576 with 1 Axes>"
      ]
     },
     "metadata": {
      "needs_background": "light"
     },
     "output_type": "display_data"
    }
   ],
   "source": [
    "acc = history.history['crf_viterbi_accuracy']\n",
    "val_acc = history.history['val_crf_viterbi_accuracy']\n",
    "loss = history.history['loss']\n",
    "val_loss = history.history['val_loss']\n",
    "plt.figure(figsize = (8, 8))\n",
    "epochs = range(1, len(acc) + 1)\n",
    "plt.plot(epochs, acc, 'bo', label='Training acc')\n",
    "plt.plot(epochs, val_acc, 'b', label='Validation acc')\n",
    "plt.title('Training and validation accuracy')\n",
    "plt.legend()"
   ]
  },
  {
   "cell_type": "code",
   "execution_count": 48,
   "metadata": {},
   "outputs": [
    {
     "data": {
      "image/png": "[encoded data removed]",
      "text/plain": [
       "<Figure size 576x576 with 1 Axes>"
      ]
     },
     "metadata": {
      "needs_background": "light"
     },
     "output_type": "display_data"
    }
   ],
   "source": [
    "plt.figure(figsize = (8, 8))\n",
    "plt.plot(epochs, loss, 'bo', label='Training loss')\n",
    "plt.plot(epochs, val_loss, 'b', label='Validation loss')\n",
    "plt.title('Training and validation loss')\n",
    "plt.legend()\n",
    "plt.show()"
   ]
  },
  {
   "cell_type": "code",
   "execution_count": 49,
   "metadata": {},
   "outputs": [
    {
     "data": {
      "text/plain": [
       "'# Evaluation\\ny_pred = model.predict(X_test)\\ny_pred = np.argmax(y_pred, axis=-1)\\ny_test_true = np.argmax(y_test, -1)'"
      ]
     },
     "execution_count": 49,
     "metadata": {},
     "output_type": "execute_result"
    }
   ],
   "source": [
    "'''# Evaluation\n",
    "y_pred = model.predict(X_test)\n",
    "y_pred = np.argmax(y_pred, axis=-1)\n",
    "y_test_true = np.argmax(y_test, -1)'''"
   ]
  },
  {
   "cell_type": "code",
   "execution_count": 50,
   "metadata": {},
   "outputs": [
    {
     "data": {
      "text/plain": [
       "'# Convert the index to tag\\ny_pred = [[idx2tag[i] for i in row] for row in y_pred]\\ny_test_true = [[idx2tag[i] for i in row] for row in y_test_true] '"
      ]
     },
     "execution_count": 50,
     "metadata": {},
     "output_type": "execute_result"
    }
   ],
   "source": [
    "'''# Convert the index to tag\n",
    "y_pred = [[idx2tag[i] for i in row] for row in y_pred]\n",
    "y_test_true = [[idx2tag[i] for i in row] for row in y_test_true] '''"
   ]
  },
  {
   "cell_type": "code",
   "execution_count": 51,
   "metadata": {},
   "outputs": [
    {
     "data": {
      "text/plain": [
       "'print(\"F1-score is : {:.1%}\".format(f1_score(y_test_true, y_pred)))'"
      ]
     },
     "execution_count": 51,
     "metadata": {},
     "output_type": "execute_result"
    }
   ],
   "source": [
    "'''print(\"F1-score is : {:.1%}\".format(f1_score(y_test_true, y_pred)))'''"
   ]
  },
  {
   "cell_type": "code",
   "execution_count": 52,
   "metadata": {},
   "outputs": [
    {
     "data": {
      "text/plain": [
       "'report = flat_classification_report(y_pred=y_pred, y_true=y_test_true)\\nprint(report)'"
      ]
     },
     "execution_count": 52,
     "metadata": {},
     "output_type": "execute_result"
    }
   ],
   "source": [
    "'''report = flat_classification_report(y_pred=y_pred, y_true=y_test_true)\n",
    "print(report)'''"
   ]
  },
  {
   "cell_type": "code",
   "execution_count": 53,
   "metadata": {},
   "outputs": [
    {
     "name": "stdout",
     "output_type": "stream",
     "text": [
      "[1, 2393, 2394, 1163, 524, 304, 978, 268, 1995, 5606, 309, 7, 13, 609, 39, 4022, 2576, 49, 2040, 1140, 78, 22] [24, 1757, 1758, 17, 466, 19, 13, 4565, 3, 637, 3, 785, 1883, 39, 1820, 57, 475, 1140, 78, 1478, 42, 4022, 2576, 49, 991, 19, 184, 1163, 2885, 545, 1627, 2397, 7342, 49, 1, 2393, 2394, 1163, 524, 304, 117, 3535, 19, 1995, 978, 268, 30, 589, 22, 688, 1, 247, 248, 47, 1297, 32, 5606, 22]\n",
      "[['Torsade', 'B-Disease'], ['de', 'I-Disease'], ['pointes', 'I-Disease'], ['ventricular', 'B-Disease'], ['tachycardia', 'I-Disease'], ['during', 'O'], ['low', 'O'], ['dose', 'O'], ['intermittent', 'O'], ['dobutamine', 'B-Chemical'], ['treatment', 'O'], ['in', 'O'], ['a', 'O'], ['patient', 'O'], ['with', 'O'], ['dilated', 'B-Disease'], ['cardiomyopathy', 'I-Disease'], ['and', 'O'], ['congestive', 'B-Disease'], ['heart', 'I-Disease'], ['failure', 'I-Disease'], ['.', 'O']]\n",
      "[['The', 'O'], ['authors', 'O'], ['describe', 'O'], ['the', 'O'], ['case', 'O'], ['of', 'O'], ['a', 'O'], ['56', 'O'], ['-', 'O'], ['year', 'O'], ['-', 'O'], ['old', 'O'], ['woman', 'O'], ['with', 'O'], ['chronic', 'O'], [',', 'O'], ['severe', 'O'], ['heart', 'B-Disease'], ['failure', 'I-Disease'], ['secondary', 'O'], ['to', 'O'], ['dilated', 'B-Disease'], ['cardiomyopathy', 'I-Disease'], ['and', 'O'], ['absence', 'O'], ['of', 'O'], ['significant', 'O'], ['ventricular', 'B-Disease'], ['arrhythmias', 'I-Disease'], ['who', 'O'], ['developed', 'O'], ['QT', 'B-Disease'], ['prolongation', 'I-Disease'], ['and', 'O'], ['torsade', 'B-Disease'], ['de', 'I-Disease'], ['pointes', 'I-Disease'], ['ventricular', 'B-Disease'], ['tachycardia', 'I-Disease'], ['during', 'O'], ['one', 'O'], ['cycle', 'O'], ['of', 'O'], ['intermittent', 'O'], ['low', 'O'], ['dose', 'O'], ['(', 'O'], ['2', 'O'], ['.', 'O'], ['5', 'O'], ['mcg', 'O'], ['/', 'O'], ['kg', 'O'], ['per', 'O'], ['min', 'O'], [')', 'O'], ['dobutamine', 'B-Chemical'], ['.', 'O']]\n",
      "[['This', 'O'], ['report', 'O'], ['of', 'O'], ['torsade', 'B-Disease'], ['de', 'I-Disease'], ['pointes', 'I-Disease'], ['ventricular', 'B-Disease'], ['tachycardia', 'I-Disease'], ['during', 'O'], ['intermittent', 'O'], ['dobutamine', 'B-Chemical'], ['supports', 'O'], ['the', 'O'], ['hypothesis', 'O'], ['that', 'O'], ['unpredictable', 'O'], ['fatal', 'O'], ['arrhythmias', 'B-Disease'], ['may', 'O'], ['occur', 'O'], ['even', 'O'], ['with', 'O'], ['low', 'O'], ['doses', 'O'], ['and', 'O'], ['in', 'O'], ['patients', 'O'], ['with', 'O'], ['no', 'O'], ['history', 'O'], ['of', 'O'], ['significant', 'O'], ['rhythm', 'O'], ['disturbances', 'O'], ['.', 'O']]\n",
      "[['The', 'O'], ['mechanisms', 'O'], ['of', 'O'], ['proarrhythmic', 'O'], ['effects', 'O'], ['of', 'O'], ['Dubutamine', 'B-Chemical'], ['are', 'O'], ['discussed', 'O'], ['.', 'O']]\n",
      "[['Positive', 'O'], ['skin', 'O'], ['tests', 'O'], ['in', 'O'], ['late', 'O'], ['reactions', 'O'], ['to', 'O'], ['radiographic', 'O'], ['contrast', 'B-Chemical'], ['media', 'I-Chemical'], ['.', 'O']]\n",
      "[['In', 'O'], ['the', 'O'], ['last', 'O'], ['few', 'O'], ['years', 'O'], ['delayed', 'O'], ['reactions', 'O'], ['several', 'O'], ['hours', 'O'], ['after', 'O'], ['the', 'O'], ['injection', 'O'], ['of', 'O'], ['radiographic', 'O'], ['and', 'O'], ['contrast', 'B-Chemical'], ['materials', 'I-Chemical'], ['(', 'O'], ['PRC', 'B-Chemical'], [')', 'O'], ['have', 'O'], ['been', 'O'], ['described', 'O'], ['with', 'O'], ['increasing', 'O'], ['frequency', 'O'], ['.', 'O']]\n",
      "[3, 4, 4, 3, 4, 2, 2, 2, 2, 1, 2, 2, 2, 2, 2, 3, 4, 2, 3, 4, 4, 2]\n",
      "5\n"
     ]
    }
   ],
   "source": [
    "tsvfile=open(\"BC5CDR-IOB/test.tsv\",encoding=\"utf-8\")\n",
    "tsvreader = csv.reader(tsvfile, delimiter=\"\\t\")\n",
    "data1=[]\n",
    "sentences1=[]\n",
    "words1=[]\n",
    "tags1=[]\n",
    "for line in tsvreader:\n",
    "    if line!=[]:\n",
    "        data1.append(line)\n",
    "        if line[0] not in words1:\n",
    "            words1.append(line[0])\n",
    "        if line[1] not in tags1:\n",
    "            tags1.append(line[1])\n",
    "    else:\n",
    "        sentences1.append(data1)\n",
    "        data1=[]\n",
    "\n",
    "X1 = [[word_to_index[w[0] if w[0] in words else \"UNK\"] for w in s] for s in sentences1]\n",
    "print(X1[0],X1[1])\n",
    "count=0\n",
    "for s in sentences1:\n",
    "    print(s)\n",
    "    count=count+1\n",
    "    if count>5:\n",
    "        break\n",
    "# Padding each sequence to have same length  of each word\n",
    "X1 = pad_sequences(maxlen = max_len, sequences = X1, padding = \"post\", value = word_to_index[\"PAD\"])\n",
    "y1 = [[tag_to_index[w[1]] for w in s] for s in sentences1]\n",
    "print(y1[0])\n",
    "# padding\n",
    "y1 = pad_sequences(maxlen = max_len, sequences = y1, padding = \"post\", value = tag_to_index[\"PAD\"])\n",
    "num_tag = 5\n",
    "print(num_tag)\n",
    "# One hot encoded labels\n",
    "y1=[to_categorical(i, num_classes = num_tag + 1) for i in y1]"
   ]
  },
  {
   "cell_type": "code",
   "execution_count": 54,
   "metadata": {},
   "outputs": [],
   "source": [
    "y_pred = model.predict(X1)\n",
    "y_pred = np.argmax(y_pred, axis=-1)\n",
    "y_test_true = np.argmax(y1, -1)"
   ]
  },
  {
   "cell_type": "code",
   "execution_count": 55,
   "metadata": {},
   "outputs": [],
   "source": [
    "y_pred = [[idx2tag[i] for i in row] for row in y_pred]\n",
    "y_test_true = [[idx2tag[i] for i in row] for row in y_test_true] "
   ]
  },
  {
   "cell_type": "code",
   "execution_count": 56,
   "metadata": {},
   "outputs": [
    {
     "name": "stdout",
     "output_type": "stream",
     "text": [
      "F1-score is : 76.2%\n"
     ]
    }
   ],
   "source": [
    "print(\"F1-score is : {:.1%}\".format(f1_score(y_test_true, y_pred)))"
   ]
  },
  {
   "cell_type": "code",
   "execution_count": 57,
   "metadata": {},
   "outputs": [
    {
     "name": "stdout",
     "output_type": "stream",
     "text": [
      "              precision    recall  f1-score   support\n",
      "\n",
      "  B-Chemical       0.91      0.61      0.73      5385\n",
      "   B-Disease       0.61      0.70      0.65      4424\n",
      "  I-Chemical       0.77      0.54      0.64      1628\n",
      "   I-Disease       0.49      0.74      0.59      2737\n",
      "           O       0.97      0.97      0.97    110576\n",
      "         PAD       1.00      1.00      1.00    685943\n",
      "\n",
      "    accuracy                           0.99    810693\n",
      "   macro avg       0.79      0.76      0.76    810693\n",
      "weighted avg       0.99      0.99      0.99    810693\n",
      "\n"
     ]
    }
   ],
   "source": [
    "report = flat_classification_report(y_pred=y_pred, y_true=y_test_true)\n",
    "print(report)"
   ]
  },
  {
   "cell_type": "code",
   "execution_count": 58,
   "metadata": {},
   "outputs": [
    {
     "name": "stdout",
     "output_type": "stream",
     "text": [
      "0.6514992660935206\n",
      "0.6334998470792129\n",
      "0.6423734945986458\n",
      "[[6214, 3324], [3595, 107252]]\n"
     ]
    }
   ],
   "source": [
    "##Exact Match\n",
    "TP=0\n",
    "TN=0\n",
    "FP=0\n",
    "FN=0\n",
    "i=0\n",
    "nument=0\n",
    "while i<len(y_test_true):\n",
    "    j=0\n",
    "    #print(i)\n",
    "    while j <len(y_test_true[i]):\n",
    "        #print('j ',j)\n",
    "        if y_test_true[i][j]=='B-Disease':\n",
    "            st=j\n",
    "            nument=nument+1\n",
    "            j=j+1\n",
    "            while (y_test_true[i][j]=='I-Disease') and j<len(y_test_true[i]):\n",
    "                j=j+1\n",
    "                #print('inside ',j)\n",
    "            end=j\n",
    "            if y_test_true[i][st:end]==y_pred[i][st:end]:\n",
    "                TP=TP+1\n",
    "            else:\n",
    "                FN=FN+1\n",
    "\n",
    "        elif y_test_true[i][j]=='B-Chemical':\n",
    "            st=j\n",
    "            nument=nument+1\n",
    "            j=j+1\n",
    "            while (y_test_true[i][j]=='I-Chemical') and j<len(y_test_true[i]):\n",
    "                j=j+1\n",
    "                #print('inside ',j)\n",
    "            end=j\n",
    "            if y_test_true[i][st:end]==y_pred[i][st:end]:\n",
    "                TP=TP+1\n",
    "            else:\n",
    "                FN=FN+1\n",
    "        elif y_test_true[i][j]=='O' and y_pred[i][j]=='O':\n",
    "            TN=TN+1\n",
    "            j=j+1\n",
    "            \n",
    "        elif y_test_true[i][j]=='O' and y_pred[i][j]!='O':\n",
    "            FP=FP+1\n",
    "            j=j+1\n",
    "            \n",
    "        elif y_test_true[i][j]=='PAD':\n",
    "            j=j+1\n",
    "\n",
    "    i=i+1\n",
    "\n",
    "Precision=TP/(TP+FP)\n",
    "print(Precision)\n",
    "Recall=TP/(TP+FN)\n",
    "print(Recall)\n",
    "F1=(2*Precision*Recall)/(Precision+Recall)\n",
    "print(F1)\n",
    "mat=[[TP,FP],[FN,TN]]\n",
    "print(mat)"
   ]
  },
  {
   "cell_type": "code",
   "execution_count": 59,
   "metadata": {},
   "outputs": [
    {
     "name": "stdout",
     "output_type": "stream",
     "text": [
      "0.6685942173479561\n",
      "0.6836578652258131\n",
      "0.6760421392207269\n",
      "[[6706, 3324], [3103, 107252]]\n"
     ]
    }
   ],
   "source": [
    "##Partial Match\n",
    "TP=0\n",
    "TN=0\n",
    "FP=0\n",
    "FN=0\n",
    "i=0\n",
    "nument=0\n",
    "while i<len(y_test_true):\n",
    "    j=0\n",
    "    #print(i)\n",
    "    while j <len(y_test_true[i]):\n",
    "        #print('j ',j)\n",
    "        if y_test_true[i][j]=='B-Disease':\n",
    "            st=j\n",
    "            nument=nument+1\n",
    "            j=j+1\n",
    "            while (y_test_true[i][j]=='I-Disease') and j<len(y_test_true[i]):\n",
    "                j=j+1\n",
    "                #print('inside ',j)\n",
    "            end=j\n",
    "            found=0\n",
    "            for k in range(st,end):\n",
    "                if y_test_true[i][k]==y_pred[i][k]:\n",
    "                    found=1\n",
    "                    break\n",
    "            if found==1:\n",
    "                TP=TP+1\n",
    "            else:\n",
    "                FN=FN+1\n",
    "            '''if y_test_true[i][st:end]==y_pred[i][st:end]:\n",
    "                TP=TP+1'''\n",
    "        elif y_test_true[i][j]=='B-Chemical':\n",
    "            st=j\n",
    "            nument=nument+1\n",
    "            j=j+1\n",
    "            while (y_test_true[i][j]=='I-Chemical') and j<len(y_test_true[i]):\n",
    "                j=j+1\n",
    "                #print('inside ',j)\n",
    "            end=j\n",
    "            found=0\n",
    "            for k in range(st,end):\n",
    "                if y_test_true[i][k]==y_pred[i][k]:\n",
    "                    found=1\n",
    "                    break\n",
    "            if found==1:\n",
    "                TP=TP+1\n",
    "            else:\n",
    "                FN=FN+1\n",
    "        elif y_test_true[i][j]=='O' and y_pred[i][j]=='O':\n",
    "            TN=TN+1\n",
    "            j=j+1\n",
    "            \n",
    "        elif y_test_true[i][j]=='O' and y_pred[i][j]!='O':\n",
    "            FP=FP+1\n",
    "            j=j+1\n",
    "            \n",
    "        elif y_test_true[i][j]=='PAD':\n",
    "            j=j+1\n",
    "        \n",
    "        \n",
    "    i=i+1\n",
    "    \n",
    "Precision=TP/(TP+FP)\n",
    "print(Precision)\n",
    "Recall=TP/(TP+FN)\n",
    "print(Recall)\n",
    "F1=(2*Precision*Recall)/(Precision+Recall)\n",
    "print(F1)\n",
    "mat=[[TP,FP],[FN,TN]]\n",
    "print(mat)"
   ]
  },
  {
   "cell_type": "code",
   "execution_count": null,
   "metadata": {},
   "outputs": [],
   "source": []
  },
  {
   "cell_type": "code",
   "execution_count": null,
   "metadata": {},
   "outputs": [],
   "source": []
  }
 ],
 "metadata": {
  "kernelspec": {
   "display_name": "Python 3",
   "language": "python",
   "name": "python3"
  },
  "language_info": {
   "codemirror_mode": {
    "name": "ipython",
    "version": 3
   },
   "file_extension": ".py",
   "mimetype": "text/x-python",
   "name": "python",
   "nbconvert_exporter": "python",
   "pygments_lexer": "ipython3",
   "version": "3.7.0"
  }
 },
 "nbformat": 4,
 "nbformat_minor": 2
}
