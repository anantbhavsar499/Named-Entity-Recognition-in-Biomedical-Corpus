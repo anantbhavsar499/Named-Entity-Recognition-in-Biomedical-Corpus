{
 "cells": [
  {
   "cell_type": "code",
   "execution_count": 3,
   "metadata": {},
   "outputs": [
    {
     "name": "stderr",
     "output_type": "stream",
     "text": [
      "Using TensorFlow backend.\n"
     ]
    }
   ],
   "source": [
    "import pandas as pd\n",
    "import numpy as np\n",
    "import keras_contrib\n",
    "from keras.preprocessing.sequence import pad_sequences\n",
    "from keras.utils import to_categorical\n",
    "from keras.layers import LSTM, Dense, TimeDistributed, Embedding, Bidirectional\n",
    "from keras.models import Model, Input\n",
    "from keras_contrib.layers import CRF\n",
    "from keras.callbacks import ModelCheckpoint\n",
    "import csv\n",
    "import warnings\n",
    "warnings.filterwarnings(\"ignore\")\n",
    "import random\n",
    "random.seed(10)\n",
    "from sklearn.model_selection import train_test_split\n",
    "import matplotlib.pyplot as plt\n",
    "%matplotlib inline\n",
    "\n",
    "from sklearn_crfsuite.metrics import flat_classification_report\n",
    "from sklearn.metrics import f1_score\n",
    "from seqeval.metrics import precision_score, recall_score, f1_score, classification_report\n",
    "from keras.preprocessing.text import text_to_word_sequence"
   ]
  },
  {
   "cell_type": "code",
   "execution_count": 4,
   "metadata": {},
   "outputs": [],
   "source": [
    "tsvfile=open(\"BC5DR-disease-IOB/train.tsv\",encoding=\"utf-8\")\n",
    "tsvreader = csv.reader(tsvfile, delimiter=\"\\t\")\n",
    "data=[]\n",
    "sentences=[]\n",
    "words=[]\n",
    "tags=[]\n",
    "maxsentlen=0\n",
    "for line in tsvreader:\n",
    "    if line!=[]:\n",
    "        data.append(line)\n",
    "        if line[0] not in words:\n",
    "            words.append(line[0])\n",
    "        if line[1] not in tags:\n",
    "            tags.append(line[1])\n",
    "    else:\n",
    "        sentences.append(data)\n",
    "        if len(data)>maxsentlen:\n",
    "            maxsentlen=len(data)\n",
    "        data=[]"
   ]
  },
  {
   "cell_type": "code",
   "execution_count": 5,
   "metadata": {},
   "outputs": [
    {
     "name": "stdout",
     "output_type": "stream",
     "text": [
      "4560\n",
      "9980\n"
     ]
    }
   ],
   "source": [
    "print(len(sentences))\n",
    "print(len(words))"
   ]
  },
  {
   "cell_type": "code",
   "execution_count": 6,
   "metadata": {},
   "outputs": [
    {
     "name": "stdout",
     "output_type": "stream",
     "text": [
      "2\n",
      "1\n",
      "Selegiline\n",
      "4\n"
     ]
    }
   ],
   "source": [
    "word_to_index = {w : i + 2 for i, w in enumerate(words)}\n",
    "print(word_to_index[words[0]])\n",
    "word_to_index[\"UNK\"] = 1\n",
    "word_to_index[\"PAD\"] = 0\n",
    "\n",
    "# Dictionary lable:index pair\n",
    "# label is key and value is index.\n",
    "tag_to_index = {t : i + 1 for i, t in enumerate(tags)}\n",
    "print(tag_to_index[tags[0]])\n",
    "\n",
    "tag_to_index[\"PAD\"] = 0\n",
    "\n",
    "idx2word = {i: w for w, i in word_to_index.items()}\n",
    "print(idx2word[2])\n",
    "idx2tag = {i: w for w, i in tag_to_index.items()}\n",
    "print(len(tag_to_index))"
   ]
  },
  {
   "cell_type": "code",
   "execution_count": 8,
   "metadata": {},
   "outputs": [],
   "source": [
    "# Number of data points passed in each iteration\n",
    "batch_size =50\n",
    "# Passes through entire dataset\n",
    "epochs = 20\n",
    "# Maximum length of review\n",
    "max_len = maxsentlen+15\n",
    "# Dimension of embedding vector\n",
    "embedding = 200"
   ]
  },
  {
   "cell_type": "code",
   "execution_count": 9,
   "metadata": {},
   "outputs": [
    {
     "name": "stdout",
     "output_type": "stream",
     "text": [
      "[2, 3, 4, 5, 6, 7, 8, 9, 10, 11, 12, 13, 14, 15, 16, 17, 18, 19, 20, 21, 22] [23, 12, 24, 25, 26, 8, 9, 10, 27, 28, 29, 30, 31, 32, 33, 34, 35, 36, 37, 7, 38, 39, 8, 9, 10, 11, 30, 40, 32, 41, 42, 43, 44, 45, 46, 47, 48, 49, 50, 3, 51, 52, 39, 53, 54, 50, 3, 51, 55, 22]\n",
      "[['Selegiline', 'O'], ['-', 'O'], ['induced', 'O'], ['postural', 'B-Disease'], ['hypotension', 'I-Disease'], ['in', 'O'], ['Parkinson', 'B-Disease'], [\"'\", 'I-Disease'], ['s', 'I-Disease'], ['disease', 'I-Disease'], [':', 'O'], ['a', 'O'], ['longitudinal', 'O'], ['study', 'O'], ['on', 'O'], ['the', 'O'], ['effects', 'O'], ['of', 'O'], ['drug', 'O'], ['withdrawal', 'O'], ['.', 'O']]\n",
      "[['OBJECTIVES', 'O'], [':', 'O'], ['The', 'O'], ['United', 'O'], ['Kingdom', 'O'], ['Parkinson', 'B-Disease'], [\"'\", 'I-Disease'], ['s', 'I-Disease'], ['Disease', 'I-Disease'], ['Research', 'O'], ['Group', 'O'], ['(', 'O'], ['UKPDRG', 'O'], [')', 'O'], ['trial', 'O'], ['found', 'O'], ['an', 'O'], ['increased', 'O'], ['mortality', 'O'], ['in', 'O'], ['patients', 'O'], ['with', 'O'], ['Parkinson', 'B-Disease'], [\"'\", 'I-Disease'], ['s', 'I-Disease'], ['disease', 'I-Disease'], ['(', 'O'], ['PD', 'B-Disease'], [')', 'O'], ['randomized', 'O'], ['to', 'O'], ['receive', 'O'], ['10', 'O'], ['mg', 'O'], ['selegiline', 'O'], ['per', 'O'], ['day', 'O'], ['and', 'O'], ['L', 'O'], ['-', 'O'], ['dopa', 'O'], ['compared', 'O'], ['with', 'O'], ['those', 'O'], ['taking', 'O'], ['L', 'O'], ['-', 'O'], ['dopa', 'O'], ['alone', 'O'], ['.', 'O']]\n",
      "[['Recently', 'O'], [',', 'O'], ['we', 'O'], ['found', 'O'], ['that', 'O'], ['therapy', 'O'], ['with', 'O'], ['selegiline', 'O'], ['and', 'O'], ['L', 'O'], ['-', 'O'], ['dopa', 'O'], ['was', 'O'], ['associated', 'O'], ['with', 'O'], ['selective', 'O'], ['systolic', 'B-Disease'], ['orthostatic', 'I-Disease'], ['hypotension', 'I-Disease'], ['which', 'O'], ['was', 'O'], ['abolished', 'O'], ['by', 'O'], ['withdrawal', 'O'], ['of', 'O'], ['selegiline', 'O'], ['.', 'O']]\n",
      "[['This', 'O'], ['unwanted', 'O'], ['effect', 'O'], ['on', 'O'], ['postural', 'O'], ['blood', 'O'], ['pressure', 'O'], ['was', 'O'], ['not', 'O'], ['the', 'O'], ['result', 'O'], ['of', 'O'], ['underlying', 'O'], ['autonomic', 'O'], ['failure', 'O'], ['.', 'O']]\n",
      "[['The', 'O'], ['aims', 'O'], ['of', 'O'], ['this', 'O'], ['study', 'O'], ['were', 'O'], ['to', 'O'], ['confirm', 'O'], ['our', 'O'], ['previous', 'O'], ['findings', 'O'], ['in', 'O'], ['a', 'O'], ['separate', 'O'], ['cohort', 'O'], ['of', 'O'], ['patients', 'O'], ['and', 'O'], ['to', 'O'], ['determine', 'O'], ['the', 'O'], ['time', 'O'], ['course', 'O'], ['of', 'O'], ['the', 'O'], ['cardiovascular', 'O'], ['consequences', 'O'], ['of', 'O'], ['stopping', 'O'], ['selegiline', 'O'], ['in', 'O'], ['the', 'O'], ['expectation', 'O'], ['that', 'O'], ['this', 'O'], ['might', 'O'], ['shed', 'O'], ['light', 'O'], ['on', 'O'], ['the', 'O'], ['mechanisms', 'O'], ['by', 'O'], ['which', 'O'], ['the', 'O'], ['drug', 'O'], ['causes', 'O'], ['orthostatic', 'B-Disease'], ['hypotension', 'I-Disease'], ['.', 'O']]\n",
      "[['METHODS', 'O'], [':', 'O'], ['The', 'O'], ['cardiovascular', 'O'], ['responses', 'O'], ['to', 'O'], ['standing', 'O'], ['and', 'O'], ['head', 'O'], ['-', 'O'], ['up', 'O'], ['tilt', 'O'], ['were', 'O'], ['studied', 'O'], ['repeatedly', 'O'], ['in', 'O'], ['PD', 'B-Disease'], ['patients', 'O'], ['receiving', 'O'], ['selegiline', 'O'], ['and', 'O'], ['as', 'O'], ['the', 'O'], ['drug', 'O'], ['was', 'O'], ['withdrawn', 'O'], ['.', 'O']]\n"
     ]
    }
   ],
   "source": [
    "X = [[word_to_index[w[0]] for w in s] for s in sentences]\n",
    "print(X[0],X[1])\n",
    "count=0\n",
    "for s in sentences:\n",
    "    print(s)\n",
    "    count=count+1\n",
    "    if count>5:\n",
    "        break\n",
    "# Padding each sequence to have same length  of each word\n",
    "X = pad_sequences(maxlen = max_len, sequences = X, padding = \"post\", value = word_to_index[\"PAD\"])"
   ]
  },
  {
   "cell_type": "code",
   "execution_count": 10,
   "metadata": {},
   "outputs": [
    {
     "name": "stdout",
     "output_type": "stream",
     "text": [
      "[ 2  3  4  5  6  7  8  9 10 11 12 13 14 15 16 17 18 19 20 21 22  0  0  0\n",
      "  0  0  0  0  0  0  0  0  0  0  0  0  0  0  0  0  0  0  0  0  0  0  0  0\n",
      "  0  0  0  0  0  0  0  0  0  0  0  0  0  0  0  0  0  0  0  0  0  0  0  0\n",
      "  0  0  0  0  0  0  0  0  0  0  0  0  0  0  0  0  0  0  0  0  0  0  0  0\n",
      "  0  0  0  0  0  0  0  0  0  0  0  0  0  0  0  0  0  0  0  0  0  0  0  0\n",
      "  0  0  0  0  0  0  0  0  0  0  0  0  0  0  0  0  0  0  0  0  0  0  0  0\n",
      "  0  0  0  0  0  0  0  0  0  0  0  0  0  0  0  0  0  0  0  0  0  0  0  0\n",
      "  0]\n"
     ]
    },
    {
     "data": {
      "text/plain": [
       "169"
      ]
     },
     "execution_count": 10,
     "metadata": {},
     "output_type": "execute_result"
    }
   ],
   "source": [
    "print(X[0])\n",
    "len(X[0])"
   ]
  },
  {
   "cell_type": "code",
   "execution_count": 11,
   "metadata": {},
   "outputs": [
    {
     "name": "stdout",
     "output_type": "stream",
     "text": [
      "[1, 1, 1, 2, 3, 1, 2, 3, 3, 3, 1, 1, 1, 1, 1, 1, 1, 1, 1, 1, 1]\n"
     ]
    }
   ],
   "source": [
    "# Convert label to index\n",
    "y = [[tag_to_index[w[1]] for w in s] for s in sentences]\n",
    "print(y[0])\n",
    "# padding\n",
    "y = pad_sequences(maxlen = max_len, sequences = y, padding = \"post\", value = tag_to_index[\"PAD\"])"
   ]
  },
  {
   "cell_type": "code",
   "execution_count": 12,
   "metadata": {},
   "outputs": [
    {
     "name": "stdout",
     "output_type": "stream",
     "text": [
      "3\n",
      "[0. 1. 0. 0.] [0. 1. 0. 0.]\n",
      "4\n"
     ]
    }
   ],
   "source": [
    "num_tag = 3\n",
    "print(num_tag)\n",
    "# One hot encoded labels\n",
    "y = [to_categorical(i, num_classes = num_tag + 1) for i in y]\n",
    "print(y[0][1],y[0][18])\n",
    "print(len(y[0][1]))"
   ]
  },
  {
   "cell_type": "code",
   "execution_count": 13,
   "metadata": {},
   "outputs": [],
   "source": [
    "X_train, X_test, y_train, y_test = train_test_split(X, y, test_size = 0.05)"
   ]
  },
  {
   "cell_type": "code",
   "execution_count": 14,
   "metadata": {},
   "outputs": [
    {
     "name": "stdout",
     "output_type": "stream",
     "text": [
      "Size of training input data :  (4332, 169)\n",
      "Size of training output data :  (4332, 169, 4)\n",
      "Size of testing input data :  (228, 169)\n",
      "Size of testing output data :  (228, 169, 4)\n"
     ]
    }
   ],
   "source": [
    "print(\"Size of training input data : \", X_train.shape)\n",
    "print(\"Size of training output data : \", np.array(y_train).shape)\n",
    "print(\"Size of testing input data : \", X_test.shape)\n",
    "print(\"Size of testing output data : \", np.array(y_test).shape)"
   ]
  },
  {
   "cell_type": "code",
   "execution_count": 15,
   "metadata": {},
   "outputs": [
    {
     "name": "stdout",
     "output_type": "stream",
     "text": [
      "*****Before Processing first sentence : *****\n",
      " Selegiline - induced postural hypotension in Parkinson ' s disease : a longitudinal study on the effects of drug withdrawal .\n",
      "*****After Processing first sentence : *****\n",
      "  [ 2  3  4  5  6  7  8  9 10 11 12 13 14 15 16 17 18 19 20 21 22  0  0  0\n",
      "  0  0  0  0  0  0  0  0  0  0  0  0  0  0  0  0  0  0  0  0  0  0  0  0\n",
      "  0  0  0  0  0  0  0  0  0  0  0  0  0  0  0  0  0  0  0  0  0  0  0  0\n",
      "  0  0  0  0  0  0  0  0  0  0  0  0  0  0  0  0  0  0  0  0  0  0  0  0\n",
      "  0  0  0  0  0  0  0  0  0  0  0  0  0  0  0  0  0  0  0  0  0  0  0  0\n",
      "  0  0  0  0  0  0  0  0  0  0  0  0  0  0  0  0  0  0  0  0  0  0  0  0\n",
      "  0  0  0  0  0  0  0  0  0  0  0  0  0  0  0  0  0  0  0  0  0  0  0  0\n",
      "  0]\n"
     ]
    },
    {
     "data": {
      "text/plain": [
       "169"
      ]
     },
     "execution_count": 15,
     "metadata": {},
     "output_type": "execute_result"
    }
   ],
   "source": [
    "# Let's check the first sentence before and after processing.\n",
    "print('*****Before Processing first sentence : *****\\n', ' '.join([w[0] for w in sentences[0]]))\n",
    "print('*****After Processing first sentence : *****\\n ', X[0])\n",
    "len(X[0])"
   ]
  },
  {
   "cell_type": "code",
   "execution_count": 16,
   "metadata": {},
   "outputs": [
    {
     "name": "stdout",
     "output_type": "stream",
     "text": [
      "*****Before Processing first sentence : *****\n",
      " O O O B-Disease I-Disease O B-Disease I-Disease I-Disease I-Disease O O O O O O O O O O O\n",
      "*****After Processing first sentence : *****\n",
      "  [[0. 1. 0. 0.]\n",
      " [0. 1. 0. 0.]\n",
      " [0. 1. 0. 0.]\n",
      " [0. 0. 1. 0.]\n",
      " [0. 0. 0. 1.]\n",
      " [0. 1. 0. 0.]\n",
      " [0. 0. 1. 0.]\n",
      " [0. 0. 0. 1.]\n",
      " [0. 0. 0. 1.]\n",
      " [0. 0. 0. 1.]\n",
      " [0. 1. 0. 0.]\n",
      " [0. 1. 0. 0.]\n",
      " [0. 1. 0. 0.]\n",
      " [0. 1. 0. 0.]\n",
      " [0. 1. 0. 0.]\n",
      " [0. 1. 0. 0.]\n",
      " [0. 1. 0. 0.]\n",
      " [0. 1. 0. 0.]\n",
      " [0. 1. 0. 0.]\n",
      " [0. 1. 0. 0.]\n",
      " [0. 1. 0. 0.]\n",
      " [1. 0. 0. 0.]\n",
      " [1. 0. 0. 0.]\n",
      " [1. 0. 0. 0.]\n",
      " [1. 0. 0. 0.]\n",
      " [1. 0. 0. 0.]\n",
      " [1. 0. 0. 0.]\n",
      " [1. 0. 0. 0.]\n",
      " [1. 0. 0. 0.]\n",
      " [1. 0. 0. 0.]\n",
      " [1. 0. 0. 0.]\n",
      " [1. 0. 0. 0.]\n",
      " [1. 0. 0. 0.]\n",
      " [1. 0. 0. 0.]\n",
      " [1. 0. 0. 0.]\n",
      " [1. 0. 0. 0.]\n",
      " [1. 0. 0. 0.]\n",
      " [1. 0. 0. 0.]\n",
      " [1. 0. 0. 0.]\n",
      " [1. 0. 0. 0.]\n",
      " [1. 0. 0. 0.]\n",
      " [1. 0. 0. 0.]\n",
      " [1. 0. 0. 0.]\n",
      " [1. 0. 0. 0.]\n",
      " [1. 0. 0. 0.]\n",
      " [1. 0. 0. 0.]\n",
      " [1. 0. 0. 0.]\n",
      " [1. 0. 0. 0.]\n",
      " [1. 0. 0. 0.]\n",
      " [1. 0. 0. 0.]\n",
      " [1. 0. 0. 0.]\n",
      " [1. 0. 0. 0.]\n",
      " [1. 0. 0. 0.]\n",
      " [1. 0. 0. 0.]\n",
      " [1. 0. 0. 0.]\n",
      " [1. 0. 0. 0.]\n",
      " [1. 0. 0. 0.]\n",
      " [1. 0. 0. 0.]\n",
      " [1. 0. 0. 0.]\n",
      " [1. 0. 0. 0.]\n",
      " [1. 0. 0. 0.]\n",
      " [1. 0. 0. 0.]\n",
      " [1. 0. 0. 0.]\n",
      " [1. 0. 0. 0.]\n",
      " [1. 0. 0. 0.]\n",
      " [1. 0. 0. 0.]\n",
      " [1. 0. 0. 0.]\n",
      " [1. 0. 0. 0.]\n",
      " [1. 0. 0. 0.]\n",
      " [1. 0. 0. 0.]\n",
      " [1. 0. 0. 0.]\n",
      " [1. 0. 0. 0.]\n",
      " [1. 0. 0. 0.]\n",
      " [1. 0. 0. 0.]\n",
      " [1. 0. 0. 0.]\n",
      " [1. 0. 0. 0.]\n",
      " [1. 0. 0. 0.]\n",
      " [1. 0. 0. 0.]\n",
      " [1. 0. 0. 0.]\n",
      " [1. 0. 0. 0.]\n",
      " [1. 0. 0. 0.]\n",
      " [1. 0. 0. 0.]\n",
      " [1. 0. 0. 0.]\n",
      " [1. 0. 0. 0.]\n",
      " [1. 0. 0. 0.]\n",
      " [1. 0. 0. 0.]\n",
      " [1. 0. 0. 0.]\n",
      " [1. 0. 0. 0.]\n",
      " [1. 0. 0. 0.]\n",
      " [1. 0. 0. 0.]\n",
      " [1. 0. 0. 0.]\n",
      " [1. 0. 0. 0.]\n",
      " [1. 0. 0. 0.]\n",
      " [1. 0. 0. 0.]\n",
      " [1. 0. 0. 0.]\n",
      " [1. 0. 0. 0.]\n",
      " [1. 0. 0. 0.]\n",
      " [1. 0. 0. 0.]\n",
      " [1. 0. 0. 0.]\n",
      " [1. 0. 0. 0.]\n",
      " [1. 0. 0. 0.]\n",
      " [1. 0. 0. 0.]\n",
      " [1. 0. 0. 0.]\n",
      " [1. 0. 0. 0.]\n",
      " [1. 0. 0. 0.]\n",
      " [1. 0. 0. 0.]\n",
      " [1. 0. 0. 0.]\n",
      " [1. 0. 0. 0.]\n",
      " [1. 0. 0. 0.]\n",
      " [1. 0. 0. 0.]\n",
      " [1. 0. 0. 0.]\n",
      " [1. 0. 0. 0.]\n",
      " [1. 0. 0. 0.]\n",
      " [1. 0. 0. 0.]\n",
      " [1. 0. 0. 0.]\n",
      " [1. 0. 0. 0.]\n",
      " [1. 0. 0. 0.]\n",
      " [1. 0. 0. 0.]\n",
      " [1. 0. 0. 0.]\n",
      " [1. 0. 0. 0.]\n",
      " [1. 0. 0. 0.]\n",
      " [1. 0. 0. 0.]\n",
      " [1. 0. 0. 0.]\n",
      " [1. 0. 0. 0.]\n",
      " [1. 0. 0. 0.]\n",
      " [1. 0. 0. 0.]\n",
      " [1. 0. 0. 0.]\n",
      " [1. 0. 0. 0.]\n",
      " [1. 0. 0. 0.]\n",
      " [1. 0. 0. 0.]\n",
      " [1. 0. 0. 0.]\n",
      " [1. 0. 0. 0.]\n",
      " [1. 0. 0. 0.]\n",
      " [1. 0. 0. 0.]\n",
      " [1. 0. 0. 0.]\n",
      " [1. 0. 0. 0.]\n",
      " [1. 0. 0. 0.]\n",
      " [1. 0. 0. 0.]\n",
      " [1. 0. 0. 0.]\n",
      " [1. 0. 0. 0.]\n",
      " [1. 0. 0. 0.]\n",
      " [1. 0. 0. 0.]\n",
      " [1. 0. 0. 0.]\n",
      " [1. 0. 0. 0.]\n",
      " [1. 0. 0. 0.]\n",
      " [1. 0. 0. 0.]\n",
      " [1. 0. 0. 0.]\n",
      " [1. 0. 0. 0.]\n",
      " [1. 0. 0. 0.]\n",
      " [1. 0. 0. 0.]\n",
      " [1. 0. 0. 0.]\n",
      " [1. 0. 0. 0.]\n",
      " [1. 0. 0. 0.]\n",
      " [1. 0. 0. 0.]\n",
      " [1. 0. 0. 0.]\n",
      " [1. 0. 0. 0.]\n",
      " [1. 0. 0. 0.]\n",
      " [1. 0. 0. 0.]\n",
      " [1. 0. 0. 0.]\n",
      " [1. 0. 0. 0.]\n",
      " [1. 0. 0. 0.]\n",
      " [1. 0. 0. 0.]\n",
      " [1. 0. 0. 0.]\n",
      " [1. 0. 0. 0.]\n",
      " [1. 0. 0. 0.]\n",
      " [1. 0. 0. 0.]\n",
      " [1. 0. 0. 0.]\n",
      " [1. 0. 0. 0.]\n",
      " [1. 0. 0. 0.]]\n"
     ]
    }
   ],
   "source": [
    "# First label before and after processing.\n",
    "print('*****Before Processing first sentence : *****\\n', ' '.join([w[1] for w in sentences[0]]))\n",
    "print('*****After Processing first sentence : *****\\n ', y[0])"
   ]
  },
  {
   "cell_type": "code",
   "execution_count": null,
   "metadata": {},
   "outputs": [],
   "source": [
    "num_tags = 3\n",
    "# Model architecture\n",
    "input = Input(shape = (max_len,))\n",
    "model = Embedding(input_dim = len(words) + 2, output_dim = embedding, input_length = max_len, mask_zero = True)(input)\n",
    "model = Bidirectional(LSTM(units = 100, return_sequences=True, recurrent_dropout=0.1))(model)\n",
    "crf = CRF(num_tags+1)  # CRF layer\n",
    "out = crf(model)  # output\n",
    "\n",
    "model = Model(input, out)\n",
    "model.compile(optimizer=\"rmsprop\", loss=crf.loss_function, metrics=[crf.accuracy])\n",
    "\n",
    "#model.summary()"
   ]
  },
  {
   "cell_type": "code",
   "execution_count": 18,
   "metadata": {},
   "outputs": [],
   "source": [
    "checkpointer = ModelCheckpoint(filepath = 'model.h5',\n",
    "                       verbose = 0,\n",
    "                       mode = 'auto',\n",
    "                       save_best_only = True,\n",
    "                       monitor='val_loss')\n"
   ]
  },
  {
   "cell_type": "code",
   "execution_count": 19,
   "metadata": {},
   "outputs": [
    {
     "name": "stdout",
     "output_type": "stream",
     "text": [
      "WARNING:tensorflow:From C:\\Users\\S. K. BHAVSAR\\Anaconda3\\lib\\site-packages\\tensorflow\\python\\ops\\math_ops.py:3066: to_int32 (from tensorflow.python.ops.math_ops) is deprecated and will be removed in a future version.\n",
      "Instructions for updating:\n",
      "Use tf.cast instead.\n",
      "Train on 3898 samples, validate on 434 samples\n",
      "Epoch 1/20\n",
      "3898/3898 [==============================] - ETA: 3:46 - loss: 11.4555 - crf_viterbi_accuracy: 0.471 - ETA: 2:23 - loss: 11.7176 - crf_viterbi_accuracy: 0.470 - ETA: 1:54 - loss: 11.5049 - crf_viterbi_accuracy: 0.469 - ETA: 1:39 - loss: 11.5100 - crf_viterbi_accuracy: 0.473 - ETA: 1:30 - loss: 11.4468 - crf_viterbi_accuracy: 0.537 - ETA: 1:23 - loss: 11.3052 - crf_viterbi_accuracy: 0.602 - ETA: 1:19 - loss: 11.2537 - crf_viterbi_accuracy: 0.651 - ETA: 1:16 - loss: 11.2762 - crf_viterbi_accuracy: 0.685 - ETA: 1:12 - loss: 11.1617 - crf_viterbi_accuracy: 0.715 - ETA: 1:10 - loss: 11.3042 - crf_viterbi_accuracy: 0.735 - ETA: 1:07 - loss: 11.3426 - crf_viterbi_accuracy: 0.754 - ETA: 1:06 - loss: 11.3098 - crf_viterbi_accuracy: 0.769 - ETA: 1:04 - loss: 11.3928 - crf_viterbi_accuracy: 0.783 - ETA: 1:02 - loss: 11.3510 - crf_viterbi_accuracy: 0.794 - ETA: 1:00 - loss: 11.3755 - crf_viterbi_accuracy: 0.802 - ETA: 59s - loss: 11.3284 - crf_viterbi_accuracy: 0.810 - ETA: 58s - loss: 11.3363 - crf_viterbi_accuracy: 0.81 - ETA: 56s - loss: 11.3258 - crf_viterbi_accuracy: 0.82 - ETA: 55s - loss: 11.2256 - crf_viterbi_accuracy: 0.83 - ETA: 54s - loss: 11.2353 - crf_viterbi_accuracy: 0.83 - ETA: 53s - loss: 11.2632 - crf_viterbi_accuracy: 0.83 - ETA: 52s - loss: 11.3373 - crf_viterbi_accuracy: 0.84 - ETA: 51s - loss: 11.2824 - crf_viterbi_accuracy: 0.84 - ETA: 51s - loss: 11.2595 - crf_viterbi_accuracy: 0.85 - ETA: 50s - loss: 11.2543 - crf_viterbi_accuracy: 0.85 - ETA: 50s - loss: 11.2390 - crf_viterbi_accuracy: 0.85 - ETA: 49s - loss: 11.2232 - crf_viterbi_accuracy: 0.86 - ETA: 49s - loss: 11.2317 - crf_viterbi_accuracy: 0.86 - ETA: 48s - loss: 11.2192 - crf_viterbi_accuracy: 0.86 - ETA: 47s - loss: 11.1990 - crf_viterbi_accuracy: 0.86 - ETA: 47s - loss: 11.2402 - crf_viterbi_accuracy: 0.87 - ETA: 46s - loss: 11.3449 - crf_viterbi_accuracy: 0.87 - ETA: 45s - loss: 11.3942 - crf_viterbi_accuracy: 0.87 - ETA: 44s - loss: 11.4185 - crf_viterbi_accuracy: 0.87 - ETA: 43s - loss: 11.4006 - crf_viterbi_accuracy: 0.88 - ETA: 42s - loss: 11.3666 - crf_viterbi_accuracy: 0.88 - ETA: 41s - loss: 11.3584 - crf_viterbi_accuracy: 0.88 - ETA: 40s - loss: 11.4271 - crf_viterbi_accuracy: 0.88 - ETA: 40s - loss: 11.4589 - crf_viterbi_accuracy: 0.88 - ETA: 39s - loss: 11.4808 - crf_viterbi_accuracy: 0.88 - ETA: 38s - loss: 11.4285 - crf_viterbi_accuracy: 0.88 - ETA: 37s - loss: 11.3965 - crf_viterbi_accuracy: 0.89 - ETA: 36s - loss: 11.3845 - crf_viterbi_accuracy: 0.89 - ETA: 35s - loss: 11.3760 - crf_viterbi_accuracy: 0.89 - ETA: 34s - loss: 11.3778 - crf_viterbi_accuracy: 0.89 - ETA: 33s - loss: 11.3496 - crf_viterbi_accuracy: 0.89 - ETA: 32s - loss: 11.3123 - crf_viterbi_accuracy: 0.89 - ETA: 31s - loss: 11.2775 - crf_viterbi_accuracy: 0.89 - ETA: 30s - loss: 11.2688 - crf_viterbi_accuracy: 0.89 - ETA: 29s - loss: 11.2740 - crf_viterbi_accuracy: 0.89 - ETA: 28s - loss: 11.2645 - crf_viterbi_accuracy: 0.89 - ETA: 27s - loss: 11.2473 - crf_viterbi_accuracy: 0.90 - ETA: 26s - loss: 11.2612 - crf_viterbi_accuracy: 0.90 - ETA: 25s - loss: 11.2499 - crf_viterbi_accuracy: 0.90 - ETA: 24s - loss: 11.2140 - crf_viterbi_accuracy: 0.90 - ETA: 23s - loss: 11.2160 - crf_viterbi_accuracy: 0.90 - ETA: 21s - loss: 11.2166 - crf_viterbi_accuracy: 0.90 - ETA: 20s - loss: 11.2142 - crf_viterbi_accuracy: 0.90 - ETA: 19s - loss: 11.2052 - crf_viterbi_accuracy: 0.90 - ETA: 18s - loss: 11.2047 - crf_viterbi_accuracy: 0.90 - ETA: 17s - loss: 11.1810 - crf_viterbi_accuracy: 0.90 - ETA: 16s - loss: 11.1562 - crf_viterbi_accuracy: 0.90 - ETA: 15s - loss: 11.1407 - crf_viterbi_accuracy: 0.90 - ETA: 14s - loss: 11.1300 - crf_viterbi_accuracy: 0.90 - ETA: 13s - loss: 11.1133 - crf_viterbi_accuracy: 0.90 - ETA: 12s - loss: 11.1178 - crf_viterbi_accuracy: 0.90 - ETA: 11s - loss: 11.1274 - crf_viterbi_accuracy: 0.90 - ETA: 10s - loss: 11.1327 - crf_viterbi_accuracy: 0.91 - ETA: 9s - loss: 11.1092 - crf_viterbi_accuracy: 0.9109 - ETA: 8s - loss: 11.0908 - crf_viterbi_accuracy: 0.911 - ETA: 7s - loss: 11.1285 - crf_viterbi_accuracy: 0.912 - ETA: 6s - loss: 11.1096 - crf_viterbi_accuracy: 0.912 - ETA: 5s - loss: 11.1301 - crf_viterbi_accuracy: 0.913 - ETA: 4s - loss: 11.1129 - crf_viterbi_accuracy: 0.914 - ETA: 3s - loss: 11.1155 - crf_viterbi_accuracy: 0.914 - ETA: 2s - loss: 11.0888 - crf_viterbi_accuracy: 0.915 - ETA: 1s - loss: 11.0840 - crf_viterbi_accuracy: 0.915 - 84s 22ms/step - loss: 11.0682 - crf_viterbi_accuracy: 0.9162 - val_loss: 11.9240 - val_crf_viterbi_accuracy: 0.9553\n",
      "\n",
      "Epoch 00001: loss improved from inf to 11.06815, saving model to model.h5\n",
      "Epoch 2/20\n",
      "3898/3898 [==============================] - ETA: 1:16 - loss: 10.1422 - crf_viterbi_accuracy: 0.962 - ETA: 1:18 - loss: 9.5184 - crf_viterbi_accuracy: 0.943 - ETA: 1:18 - loss: 9.8559 - crf_viterbi_accuracy: 0.93 - ETA: 1:18 - loss: 9.8807 - crf_viterbi_accuracy: 0.94 - ETA: 1:17 - loss: 9.7597 - crf_viterbi_accuracy: 0.94 - ETA: 1:16 - loss: 10.4976 - crf_viterbi_accuracy: 0.949 - ETA: 1:16 - loss: 10.4385 - crf_viterbi_accuracy: 0.951 - ETA: 1:15 - loss: 10.4317 - crf_viterbi_accuracy: 0.955 - ETA: 1:14 - loss: 10.7370 - crf_viterbi_accuracy: 0.955 - ETA: 1:13 - loss: 11.0723 - crf_viterbi_accuracy: 0.957 - ETA: 1:11 - loss: 11.4547 - crf_viterbi_accuracy: 0.959 - ETA: 1:10 - loss: 11.4921 - crf_viterbi_accuracy: 0.959 - ETA: 1:09 - loss: 11.4500 - crf_viterbi_accuracy: 0.960 - ETA: 1:08 - loss: 11.6015 - crf_viterbi_accuracy: 0.960 - ETA: 1:07 - loss: 11.6520 - crf_viterbi_accuracy: 0.959 - ETA: 1:06 - loss: 11.6928 - crf_viterbi_accuracy: 0.959 - ETA: 1:05 - loss: 11.5953 - crf_viterbi_accuracy: 0.959 - ETA: 1:05 - loss: 11.5387 - crf_viterbi_accuracy: 0.959 - ETA: 1:05 - loss: 11.4247 - crf_viterbi_accuracy: 0.960 - ETA: 1:04 - loss: 11.3298 - crf_viterbi_accuracy: 0.960 - ETA: 1:04 - loss: 11.2329 - crf_viterbi_accuracy: 0.961 - ETA: 1:03 - loss: 11.2157 - crf_viterbi_accuracy: 0.961 - ETA: 1:02 - loss: 11.1759 - crf_viterbi_accuracy: 0.961 - ETA: 1:02 - loss: 11.0917 - crf_viterbi_accuracy: 0.961 - ETA: 1:01 - loss: 11.0702 - crf_viterbi_accuracy: 0.961 - ETA: 1:00 - loss: 11.0461 - crf_viterbi_accuracy: 0.962 - ETA: 59s - loss: 11.0186 - crf_viterbi_accuracy: 0.962 - ETA: 57s - loss: 10.9882 - crf_viterbi_accuracy: 0.96 - ETA: 56s - loss: 10.9606 - crf_viterbi_accuracy: 0.96 - ETA: 55s - loss: 10.9337 - crf_viterbi_accuracy: 0.96 - ETA: 54s - loss: 10.9188 - crf_viterbi_accuracy: 0.96 - ETA: 53s - loss: 10.9091 - crf_viterbi_accuracy: 0.96 - ETA: 52s - loss: 10.9033 - crf_viterbi_accuracy: 0.96 - ETA: 51s - loss: 10.8968 - crf_viterbi_accuracy: 0.96 - ETA: 49s - loss: 10.9257 - crf_viterbi_accuracy: 0.96 - ETA: 48s - loss: 10.8689 - crf_viterbi_accuracy: 0.96 - ETA: 47s - loss: 10.9105 - crf_viterbi_accuracy: 0.96 - ETA: 46s - loss: 10.9108 - crf_viterbi_accuracy: 0.96 - ETA: 45s - loss: 10.9179 - crf_viterbi_accuracy: 0.96 - ETA: 44s - loss: 10.9249 - crf_viterbi_accuracy: 0.96 - ETA: 42s - loss: 10.9001 - crf_viterbi_accuracy: 0.96 - ETA: 41s - loss: 10.8687 - crf_viterbi_accuracy: 0.96 - ETA: 40s - loss: 10.9053 - crf_viterbi_accuracy: 0.96 - ETA: 39s - loss: 10.9056 - crf_viterbi_accuracy: 0.96 - ETA: 38s - loss: 10.8908 - crf_viterbi_accuracy: 0.96 - ETA: 37s - loss: 10.8686 - crf_viterbi_accuracy: 0.96 - ETA: 35s - loss: 10.8700 - crf_viterbi_accuracy: 0.96 - ETA: 34s - loss: 10.8529 - crf_viterbi_accuracy: 0.96 - ETA: 33s - loss: 10.8393 - crf_viterbi_accuracy: 0.96 - ETA: 32s - loss: 10.8373 - crf_viterbi_accuracy: 0.96 - ETA: 31s - loss: 10.8160 - crf_viterbi_accuracy: 0.96 - ETA: 30s - loss: 10.8189 - crf_viterbi_accuracy: 0.96 - ETA: 28s - loss: 10.8187 - crf_viterbi_accuracy: 0.96 - ETA: 27s - loss: 10.8068 - crf_viterbi_accuracy: 0.96 - ETA: 26s - loss: 10.7999 - crf_viterbi_accuracy: 0.96 - ETA: 25s - loss: 10.8052 - crf_viterbi_accuracy: 0.96 - ETA: 24s - loss: 10.8336 - crf_viterbi_accuracy: 0.96 - ETA: 23s - loss: 10.8324 - crf_viterbi_accuracy: 0.96 - ETA: 21s - loss: 10.8206 - crf_viterbi_accuracy: 0.96 - ETA: 20s - loss: 10.8384 - crf_viterbi_accuracy: 0.96 - ETA: 19s - loss: 10.8484 - crf_viterbi_accuracy: 0.96 - ETA: 18s - loss: 10.8957 - crf_viterbi_accuracy: 0.96 - ETA: 17s - loss: 10.8854 - crf_viterbi_accuracy: 0.96 - ETA: 16s - loss: 10.8788 - crf_viterbi_accuracy: 0.96 - ETA: 14s - loss: 10.9245 - crf_viterbi_accuracy: 0.96 - ETA: 13s - loss: 10.9338 - crf_viterbi_accuracy: 0.96 - ETA: 12s - loss: 10.9293 - crf_viterbi_accuracy: 0.96 - ETA: 11s - loss: 10.9149 - crf_viterbi_accuracy: 0.96 - ETA: 10s - loss: 10.9009 - crf_viterbi_accuracy: 0.96 - ETA: 9s - loss: 10.8889 - crf_viterbi_accuracy: 0.9676 - ETA: 8s - loss: 10.8720 - crf_viterbi_accuracy: 0.967 - ETA: 6s - loss: 10.8912 - crf_viterbi_accuracy: 0.967 - ETA: 5s - loss: 10.8819 - crf_viterbi_accuracy: 0.967 - ETA: 4s - loss: 10.8784 - crf_viterbi_accuracy: 0.968 - ETA: 3s - loss: 10.8960 - crf_viterbi_accuracy: 0.968 - ETA: 2s - loss: 10.8931 - crf_viterbi_accuracy: 0.968 - ETA: 1s - loss: 10.8808 - crf_viterbi_accuracy: 0.968 - 92s 23ms/step - loss: 10.8652 - crf_viterbi_accuracy: 0.9681 - val_loss: 11.8900 - val_crf_viterbi_accuracy: 0.9665\n",
      "\n",
      "Epoch 00002: loss improved from 11.06815 to 10.86521, saving model to model.h5\n",
      "Epoch 3/20\n"
     ]
    },
    {
     "name": "stdout",
     "output_type": "stream",
     "text": [
      "3898/3898 [==============================] - ETA: 1:28 - loss: 11.6306 - crf_viterbi_accuracy: 0.951 - ETA: 1:26 - loss: 12.0218 - crf_viterbi_accuracy: 0.959 - ETA: 1:24 - loss: 11.2175 - crf_viterbi_accuracy: 0.967 - ETA: 1:23 - loss: 11.2244 - crf_viterbi_accuracy: 0.968 - ETA: 1:23 - loss: 10.8655 - crf_viterbi_accuracy: 0.970 - ETA: 1:23 - loss: 10.7586 - crf_viterbi_accuracy: 0.973 - ETA: 1:22 - loss: 10.7661 - crf_viterbi_accuracy: 0.972 - ETA: 1:21 - loss: 10.9781 - crf_viterbi_accuracy: 0.972 - ETA: 1:19 - loss: 10.7670 - crf_viterbi_accuracy: 0.973 - ETA: 1:18 - loss: 10.6811 - crf_viterbi_accuracy: 0.974 - ETA: 1:17 - loss: 10.6346 - crf_viterbi_accuracy: 0.974 - ETA: 1:16 - loss: 10.5870 - crf_viterbi_accuracy: 0.975 - ETA: 1:14 - loss: 10.7055 - crf_viterbi_accuracy: 0.974 - ETA: 1:13 - loss: 10.9173 - crf_viterbi_accuracy: 0.974 - ETA: 1:12 - loss: 10.9560 - crf_viterbi_accuracy: 0.974 - ETA: 1:10 - loss: 10.9940 - crf_viterbi_accuracy: 0.975 - ETA: 1:09 - loss: 11.0164 - crf_viterbi_accuracy: 0.975 - ETA: 1:08 - loss: 11.0629 - crf_viterbi_accuracy: 0.975 - ETA: 1:07 - loss: 11.0222 - crf_viterbi_accuracy: 0.975 - ETA: 1:06 - loss: 10.9652 - crf_viterbi_accuracy: 0.976 - ETA: 1:04 - loss: 10.8726 - crf_viterbi_accuracy: 0.976 - ETA: 1:03 - loss: 10.7873 - crf_viterbi_accuracy: 0.976 - ETA: 1:02 - loss: 10.7313 - crf_viterbi_accuracy: 0.976 - ETA: 1:01 - loss: 10.7426 - crf_viterbi_accuracy: 0.976 - ETA: 1:00 - loss: 10.7010 - crf_viterbi_accuracy: 0.976 - ETA: 59s - loss: 10.6486 - crf_viterbi_accuracy: 0.976 - ETA: 58s - loss: 10.6201 - crf_viterbi_accuracy: 0.97 - ETA: 57s - loss: 10.6926 - crf_viterbi_accuracy: 0.97 - ETA: 55s - loss: 10.7978 - crf_viterbi_accuracy: 0.97 - ETA: 54s - loss: 10.8114 - crf_viterbi_accuracy: 0.97 - ETA: 53s - loss: 10.8074 - crf_viterbi_accuracy: 0.97 - ETA: 52s - loss: 10.8009 - crf_viterbi_accuracy: 0.97 - ETA: 51s - loss: 10.8577 - crf_viterbi_accuracy: 0.97 - ETA: 50s - loss: 10.8229 - crf_viterbi_accuracy: 0.97 - ETA: 49s - loss: 10.8286 - crf_viterbi_accuracy: 0.97 - ETA: 48s - loss: 10.8456 - crf_viterbi_accuracy: 0.97 - ETA: 46s - loss: 10.8129 - crf_viterbi_accuracy: 0.97 - ETA: 45s - loss: 10.8801 - crf_viterbi_accuracy: 0.97 - ETA: 44s - loss: 10.8795 - crf_viterbi_accuracy: 0.97 - ETA: 43s - loss: 10.9199 - crf_viterbi_accuracy: 0.97 - ETA: 42s - loss: 10.9120 - crf_viterbi_accuracy: 0.97 - ETA: 41s - loss: 10.9110 - crf_viterbi_accuracy: 0.97 - ETA: 40s - loss: 10.9065 - crf_viterbi_accuracy: 0.97 - ETA: 38s - loss: 10.9219 - crf_viterbi_accuracy: 0.97 - ETA: 37s - loss: 10.8945 - crf_viterbi_accuracy: 0.97 - ETA: 36s - loss: 10.8609 - crf_viterbi_accuracy: 0.97 - ETA: 35s - loss: 10.8382 - crf_viterbi_accuracy: 0.97 - ETA: 34s - loss: 10.8159 - crf_viterbi_accuracy: 0.97 - ETA: 33s - loss: 10.8064 - crf_viterbi_accuracy: 0.97 - ETA: 32s - loss: 10.8128 - crf_viterbi_accuracy: 0.97 - ETA: 30s - loss: 10.8521 - crf_viterbi_accuracy: 0.97 - ETA: 29s - loss: 10.8749 - crf_viterbi_accuracy: 0.97 - ETA: 28s - loss: 10.8977 - crf_viterbi_accuracy: 0.97 - ETA: 27s - loss: 10.8792 - crf_viterbi_accuracy: 0.97 - ETA: 26s - loss: 10.8445 - crf_viterbi_accuracy: 0.97 - ETA: 25s - loss: 10.8235 - crf_viterbi_accuracy: 0.97 - ETA: 24s - loss: 10.8126 - crf_viterbi_accuracy: 0.97 - ETA: 22s - loss: 10.8127 - crf_viterbi_accuracy: 0.97 - ETA: 21s - loss: 10.8295 - crf_viterbi_accuracy: 0.97 - ETA: 20s - loss: 10.8088 - crf_viterbi_accuracy: 0.97 - ETA: 19s - loss: 10.8516 - crf_viterbi_accuracy: 0.97 - ETA: 18s - loss: 10.8535 - crf_viterbi_accuracy: 0.97 - ETA: 17s - loss: 10.8550 - crf_viterbi_accuracy: 0.97 - ETA: 16s - loss: 10.8658 - crf_viterbi_accuracy: 0.97 - ETA: 14s - loss: 10.8459 - crf_viterbi_accuracy: 0.97 - ETA: 13s - loss: 10.8299 - crf_viterbi_accuracy: 0.97 - ETA: 12s - loss: 10.8263 - crf_viterbi_accuracy: 0.97 - ETA: 11s - loss: 10.8092 - crf_viterbi_accuracy: 0.97 - ETA: 10s - loss: 10.8405 - crf_viterbi_accuracy: 0.97 - ETA: 9s - loss: 10.8215 - crf_viterbi_accuracy: 0.9785 - ETA: 8s - loss: 10.8322 - crf_viterbi_accuracy: 0.978 - ETA: 6s - loss: 10.8260 - crf_viterbi_accuracy: 0.978 - ETA: 5s - loss: 10.8252 - crf_viterbi_accuracy: 0.978 - ETA: 4s - loss: 10.8321 - crf_viterbi_accuracy: 0.978 - ETA: 3s - loss: 10.8366 - crf_viterbi_accuracy: 0.978 - ETA: 2s - loss: 10.8394 - crf_viterbi_accuracy: 0.978 - ETA: 1s - loss: 10.8189 - crf_viterbi_accuracy: 0.978 - 92s 24ms/step - loss: 10.8300 - crf_viterbi_accuracy: 0.9786 - val_loss: 11.8649 - val_crf_viterbi_accuracy: 0.9724\n",
      "\n",
      "Epoch 00003: loss improved from 10.86521 to 10.82996, saving model to model.h5\n",
      "Epoch 4/20\n",
      "3898/3898 [==============================] - ETA: 1:32 - loss: 10.9468 - crf_viterbi_accuracy: 0.990 - ETA: 1:28 - loss: 10.1047 - crf_viterbi_accuracy: 0.989 - ETA: 1:26 - loss: 10.3749 - crf_viterbi_accuracy: 0.989 - ETA: 1:25 - loss: 10.3524 - crf_viterbi_accuracy: 0.989 - ETA: 1:24 - loss: 10.4874 - crf_viterbi_accuracy: 0.989 - ETA: 1:22 - loss: 10.6158 - crf_viterbi_accuracy: 0.989 - ETA: 1:21 - loss: 10.7179 - crf_viterbi_accuracy: 0.989 - ETA: 1:20 - loss: 10.4319 - crf_viterbi_accuracy: 0.987 - ETA: 1:18 - loss: 10.4120 - crf_viterbi_accuracy: 0.986 - ETA: 1:17 - loss: 10.3417 - crf_viterbi_accuracy: 0.985 - ETA: 1:16 - loss: 10.3538 - crf_viterbi_accuracy: 0.985 - ETA: 1:15 - loss: 10.2770 - crf_viterbi_accuracy: 0.986 - ETA: 1:14 - loss: 10.5350 - crf_viterbi_accuracy: 0.987 - ETA: 1:13 - loss: 10.5534 - crf_viterbi_accuracy: 0.986 - ETA: 1:11 - loss: 10.5377 - crf_viterbi_accuracy: 0.986 - ETA: 1:10 - loss: 10.5652 - crf_viterbi_accuracy: 0.986 - ETA: 1:09 - loss: 10.5285 - crf_viterbi_accuracy: 0.985 - ETA: 1:08 - loss: 10.5118 - crf_viterbi_accuracy: 0.985 - ETA: 1:07 - loss: 10.6260 - crf_viterbi_accuracy: 0.985 - ETA: 1:06 - loss: 10.6110 - crf_viterbi_accuracy: 0.985 - ETA: 1:05 - loss: 10.7130 - crf_viterbi_accuracy: 0.985 - ETA: 1:04 - loss: 10.6569 - crf_viterbi_accuracy: 0.985 - ETA: 1:02 - loss: 10.6608 - crf_viterbi_accuracy: 0.985 - ETA: 1:01 - loss: 10.6428 - crf_viterbi_accuracy: 0.985 - ETA: 1:00 - loss: 10.6392 - crf_viterbi_accuracy: 0.985 - ETA: 59s - loss: 10.6763 - crf_viterbi_accuracy: 0.985 - ETA: 58s - loss: 10.6510 - crf_viterbi_accuracy: 0.98 - ETA: 57s - loss: 10.7026 - crf_viterbi_accuracy: 0.98 - ETA: 56s - loss: 10.7285 - crf_viterbi_accuracy: 0.98 - ETA: 55s - loss: 10.6966 - crf_viterbi_accuracy: 0.98 - ETA: 54s - loss: 10.7377 - crf_viterbi_accuracy: 0.98 - ETA: 53s - loss: 10.7706 - crf_viterbi_accuracy: 0.98 - ETA: 52s - loss: 10.7289 - crf_viterbi_accuracy: 0.98 - ETA: 51s - loss: 10.6968 - crf_viterbi_accuracy: 0.98 - ETA: 49s - loss: 10.7283 - crf_viterbi_accuracy: 0.98 - ETA: 48s - loss: 10.7197 - crf_viterbi_accuracy: 0.98 - ETA: 47s - loss: 10.7208 - crf_viterbi_accuracy: 0.98 - ETA: 46s - loss: 10.6896 - crf_viterbi_accuracy: 0.98 - ETA: 45s - loss: 10.7069 - crf_viterbi_accuracy: 0.98 - ETA: 44s - loss: 10.7564 - crf_viterbi_accuracy: 0.98 - ETA: 42s - loss: 10.7292 - crf_viterbi_accuracy: 0.98 - ETA: 41s - loss: 10.7764 - crf_viterbi_accuracy: 0.98 - ETA: 40s - loss: 10.7867 - crf_viterbi_accuracy: 0.98 - ETA: 39s - loss: 10.8014 - crf_viterbi_accuracy: 0.98 - ETA: 38s - loss: 10.8115 - crf_viterbi_accuracy: 0.98 - ETA: 37s - loss: 10.8094 - crf_viterbi_accuracy: 0.98 - ETA: 36s - loss: 10.8467 - crf_viterbi_accuracy: 0.98 - ETA: 34s - loss: 10.8440 - crf_viterbi_accuracy: 0.98 - ETA: 33s - loss: 10.8716 - crf_viterbi_accuracy: 0.98 - ETA: 32s - loss: 10.8873 - crf_viterbi_accuracy: 0.98 - ETA: 31s - loss: 10.8753 - crf_viterbi_accuracy: 0.98 - ETA: 30s - loss: 10.8683 - crf_viterbi_accuracy: 0.98 - ETA: 29s - loss: 10.8627 - crf_viterbi_accuracy: 0.98 - ETA: 27s - loss: 10.8556 - crf_viterbi_accuracy: 0.98 - ETA: 26s - loss: 10.8911 - crf_viterbi_accuracy: 0.98 - ETA: 25s - loss: 10.8937 - crf_viterbi_accuracy: 0.98 - ETA: 24s - loss: 10.8765 - crf_viterbi_accuracy: 0.98 - ETA: 23s - loss: 10.8902 - crf_viterbi_accuracy: 0.98 - ETA: 21s - loss: 10.8841 - crf_viterbi_accuracy: 0.98 - ETA: 20s - loss: 10.8834 - crf_viterbi_accuracy: 0.98 - ETA: 19s - loss: 10.8927 - crf_viterbi_accuracy: 0.98 - ETA: 18s - loss: 10.9080 - crf_viterbi_accuracy: 0.98 - ETA: 17s - loss: 10.9637 - crf_viterbi_accuracy: 0.98 - ETA: 16s - loss: 10.9251 - crf_viterbi_accuracy: 0.98 - ETA: 14s - loss: 10.9139 - crf_viterbi_accuracy: 0.98 - ETA: 13s - loss: 10.8865 - crf_viterbi_accuracy: 0.98 - ETA: 12s - loss: 10.8956 - crf_viterbi_accuracy: 0.98 - ETA: 11s - loss: 10.8596 - crf_viterbi_accuracy: 0.98 - ETA: 10s - loss: 10.8904 - crf_viterbi_accuracy: 0.98 - ETA: 9s - loss: 10.8732 - crf_viterbi_accuracy: 0.9844 - ETA: 8s - loss: 10.8493 - crf_viterbi_accuracy: 0.984 - ETA: 6s - loss: 10.8686 - crf_viterbi_accuracy: 0.984 - ETA: 5s - loss: 10.8870 - crf_viterbi_accuracy: 0.984 - ETA: 4s - loss: 10.8729 - crf_viterbi_accuracy: 0.984 - ETA: 3s - loss: 10.8536 - crf_viterbi_accuracy: 0.984 - ETA: 2s - loss: 10.8377 - crf_viterbi_accuracy: 0.984 - ETA: 1s - loss: 10.8277 - crf_viterbi_accuracy: 0.984 - 92s 24ms/step - loss: 10.8109 - crf_viterbi_accuracy: 0.9846 - val_loss: 11.8663 - val_crf_viterbi_accuracy: 0.9679\n",
      "\n",
      "Epoch 00004: loss improved from 10.82996 to 10.81086, saving model to model.h5\n",
      "Epoch 5/20\n"
     ]
    },
    {
     "name": "stdout",
     "output_type": "stream",
     "text": [
      "3898/3898 [==============================] - ETA: 1:26 - loss: 10.5356 - crf_viterbi_accuracy: 0.990 - ETA: 1:27 - loss: 10.9202 - crf_viterbi_accuracy: 0.992 - ETA: 1:25 - loss: 11.1282 - crf_viterbi_accuracy: 0.992 - ETA: 1:24 - loss: 10.9939 - crf_viterbi_accuracy: 0.991 - ETA: 1:25 - loss: 11.0633 - crf_viterbi_accuracy: 0.992 - ETA: 1:24 - loss: 10.9197 - crf_viterbi_accuracy: 0.992 - ETA: 1:23 - loss: 10.7585 - crf_viterbi_accuracy: 0.991 - ETA: 1:21 - loss: 10.7540 - crf_viterbi_accuracy: 0.991 - ETA: 1:19 - loss: 10.8974 - crf_viterbi_accuracy: 0.991 - ETA: 1:18 - loss: 10.9245 - crf_viterbi_accuracy: 0.991 - ETA: 1:16 - loss: 10.8663 - crf_viterbi_accuracy: 0.990 - ETA: 1:15 - loss: 11.0544 - crf_viterbi_accuracy: 0.990 - ETA: 1:14 - loss: 11.1503 - crf_viterbi_accuracy: 0.990 - ETA: 1:12 - loss: 11.0492 - crf_viterbi_accuracy: 0.990 - ETA: 1:11 - loss: 11.0440 - crf_viterbi_accuracy: 0.990 - ETA: 1:10 - loss: 10.9547 - crf_viterbi_accuracy: 0.990 - ETA: 1:08 - loss: 10.8450 - crf_viterbi_accuracy: 0.989 - ETA: 1:07 - loss: 10.7896 - crf_viterbi_accuracy: 0.989 - ETA: 1:06 - loss: 10.8489 - crf_viterbi_accuracy: 0.990 - ETA: 1:05 - loss: 10.8126 - crf_viterbi_accuracy: 0.989 - ETA: 1:04 - loss: 10.7406 - crf_viterbi_accuracy: 0.989 - ETA: 1:03 - loss: 10.6936 - crf_viterbi_accuracy: 0.990 - ETA: 1:02 - loss: 10.7618 - crf_viterbi_accuracy: 0.989 - ETA: 1:00 - loss: 10.7267 - crf_viterbi_accuracy: 0.989 - ETA: 59s - loss: 10.8946 - crf_viterbi_accuracy: 0.989 - ETA: 58s - loss: 11.0378 - crf_viterbi_accuracy: 0.98 - ETA: 57s - loss: 11.0305 - crf_viterbi_accuracy: 0.98 - ETA: 56s - loss: 10.9801 - crf_viterbi_accuracy: 0.98 - ETA: 55s - loss: 10.9305 - crf_viterbi_accuracy: 0.98 - ETA: 54s - loss: 10.9525 - crf_viterbi_accuracy: 0.98 - ETA: 53s - loss: 10.9914 - crf_viterbi_accuracy: 0.98 - ETA: 51s - loss: 10.9450 - crf_viterbi_accuracy: 0.98 - ETA: 50s - loss: 10.9606 - crf_viterbi_accuracy: 0.98 - ETA: 49s - loss: 10.9892 - crf_viterbi_accuracy: 0.98 - ETA: 48s - loss: 10.9572 - crf_viterbi_accuracy: 0.98 - ETA: 47s - loss: 10.9600 - crf_viterbi_accuracy: 0.98 - ETA: 46s - loss: 10.9362 - crf_viterbi_accuracy: 0.98 - ETA: 45s - loss: 10.9624 - crf_viterbi_accuracy: 0.98 - ETA: 44s - loss: 10.9802 - crf_viterbi_accuracy: 0.98 - ETA: 42s - loss: 10.9772 - crf_viterbi_accuracy: 0.98 - ETA: 41s - loss: 10.9559 - crf_viterbi_accuracy: 0.98 - ETA: 40s - loss: 10.9250 - crf_viterbi_accuracy: 0.98 - ETA: 39s - loss: 10.9193 - crf_viterbi_accuracy: 0.98 - ETA: 38s - loss: 10.9251 - crf_viterbi_accuracy: 0.98 - ETA: 37s - loss: 10.9199 - crf_viterbi_accuracy: 0.98 - ETA: 36s - loss: 10.8993 - crf_viterbi_accuracy: 0.98 - ETA: 35s - loss: 10.9009 - crf_viterbi_accuracy: 0.98 - ETA: 33s - loss: 10.9555 - crf_viterbi_accuracy: 0.98 - ETA: 32s - loss: 10.9628 - crf_viterbi_accuracy: 0.98 - ETA: 31s - loss: 10.9388 - crf_viterbi_accuracy: 0.98 - ETA: 30s - loss: 10.9155 - crf_viterbi_accuracy: 0.98 - ETA: 29s - loss: 10.9014 - crf_viterbi_accuracy: 0.98 - ETA: 28s - loss: 10.9055 - crf_viterbi_accuracy: 0.98 - ETA: 27s - loss: 10.9335 - crf_viterbi_accuracy: 0.98 - ETA: 25s - loss: 10.9480 - crf_viterbi_accuracy: 0.98 - ETA: 24s - loss: 10.9267 - crf_viterbi_accuracy: 0.98 - ETA: 23s - loss: 10.8982 - crf_viterbi_accuracy: 0.98 - ETA: 22s - loss: 10.8727 - crf_viterbi_accuracy: 0.98 - ETA: 21s - loss: 10.9068 - crf_viterbi_accuracy: 0.98 - ETA: 20s - loss: 10.8785 - crf_viterbi_accuracy: 0.98 - ETA: 19s - loss: 10.8591 - crf_viterbi_accuracy: 0.98 - ETA: 18s - loss: 10.8413 - crf_viterbi_accuracy: 0.98 - ETA: 16s - loss: 10.8019 - crf_viterbi_accuracy: 0.98 - ETA: 15s - loss: 10.7814 - crf_viterbi_accuracy: 0.98 - ETA: 14s - loss: 10.7932 - crf_viterbi_accuracy: 0.98 - ETA: 13s - loss: 10.7761 - crf_viterbi_accuracy: 0.98 - ETA: 12s - loss: 10.7939 - crf_viterbi_accuracy: 0.98 - ETA: 11s - loss: 10.7893 - crf_viterbi_accuracy: 0.98 - ETA: 10s - loss: 10.8021 - crf_viterbi_accuracy: 0.98 - ETA: 9s - loss: 10.7917 - crf_viterbi_accuracy: 0.9873 - ETA: 7s - loss: 10.7817 - crf_viterbi_accuracy: 0.987 - ETA: 6s - loss: 10.7854 - crf_viterbi_accuracy: 0.987 - ETA: 5s - loss: 10.7988 - crf_viterbi_accuracy: 0.987 - ETA: 4s - loss: 10.7997 - crf_viterbi_accuracy: 0.987 - ETA: 3s - loss: 10.8156 - crf_viterbi_accuracy: 0.987 - ETA: 2s - loss: 10.8203 - crf_viterbi_accuracy: 0.987 - ETA: 1s - loss: 10.8082 - crf_viterbi_accuracy: 0.987 - 90s 23ms/step - loss: 10.8009 - crf_viterbi_accuracy: 0.9876 - val_loss: 11.8556 - val_crf_viterbi_accuracy: 0.9743\n",
      "\n",
      "Epoch 00005: loss improved from 10.81086 to 10.80088, saving model to model.h5\n",
      "Epoch 6/20\n",
      "3898/3898 [==============================] - ETA: 1:20 - loss: 9.8829 - crf_viterbi_accuracy: 0.99 - ETA: 1:23 - loss: 10.9762 - crf_viterbi_accuracy: 0.992 - ETA: 1:22 - loss: 9.9374 - crf_viterbi_accuracy: 0.989 - ETA: 1:21 - loss: 10.7237 - crf_viterbi_accuracy: 0.990 - ETA: 1:19 - loss: 10.7004 - crf_viterbi_accuracy: 0.991 - ETA: 1:18 - loss: 10.4989 - crf_viterbi_accuracy: 0.992 - ETA: 1:18 - loss: 10.7963 - crf_viterbi_accuracy: 0.992 - ETA: 1:17 - loss: 10.7634 - crf_viterbi_accuracy: 0.991 - ETA: 1:15 - loss: 10.8487 - crf_viterbi_accuracy: 0.992 - ETA: 1:14 - loss: 11.0687 - crf_viterbi_accuracy: 0.992 - ETA: 1:13 - loss: 10.9156 - crf_viterbi_accuracy: 0.992 - ETA: 1:12 - loss: 10.9495 - crf_viterbi_accuracy: 0.992 - ETA: 1:11 - loss: 11.0766 - crf_viterbi_accuracy: 0.992 - ETA: 1:10 - loss: 10.9937 - crf_viterbi_accuracy: 0.992 - ETA: 1:09 - loss: 10.9871 - crf_viterbi_accuracy: 0.992 - ETA: 1:08 - loss: 10.8658 - crf_viterbi_accuracy: 0.991 - ETA: 1:07 - loss: 10.9287 - crf_viterbi_accuracy: 0.992 - ETA: 1:06 - loss: 10.9830 - crf_viterbi_accuracy: 0.992 - ETA: 1:05 - loss: 10.9570 - crf_viterbi_accuracy: 0.991 - ETA: 1:04 - loss: 10.9896 - crf_viterbi_accuracy: 0.991 - ETA: 1:03 - loss: 10.9616 - crf_viterbi_accuracy: 0.991 - ETA: 1:02 - loss: 10.9632 - crf_viterbi_accuracy: 0.990 - ETA: 1:01 - loss: 10.8666 - crf_viterbi_accuracy: 0.990 - ETA: 1:00 - loss: 10.9131 - crf_viterbi_accuracy: 0.990 - ETA: 59s - loss: 10.8957 - crf_viterbi_accuracy: 0.990 - ETA: 57s - loss: 10.8647 - crf_viterbi_accuracy: 0.99 - ETA: 56s - loss: 10.7874 - crf_viterbi_accuracy: 0.99 - ETA: 55s - loss: 10.7346 - crf_viterbi_accuracy: 0.99 - ETA: 54s - loss: 10.7751 - crf_viterbi_accuracy: 0.99 - ETA: 53s - loss: 10.8338 - crf_viterbi_accuracy: 0.99 - ETA: 52s - loss: 10.8448 - crf_viterbi_accuracy: 0.99 - ETA: 51s - loss: 10.8300 - crf_viterbi_accuracy: 0.99 - ETA: 50s - loss: 10.8789 - crf_viterbi_accuracy: 0.99 - ETA: 49s - loss: 10.8764 - crf_viterbi_accuracy: 0.99 - ETA: 47s - loss: 10.8599 - crf_viterbi_accuracy: 0.98 - ETA: 46s - loss: 10.8563 - crf_viterbi_accuracy: 0.99 - ETA: 45s - loss: 10.8406 - crf_viterbi_accuracy: 0.98 - ETA: 44s - loss: 10.8687 - crf_viterbi_accuracy: 0.99 - ETA: 43s - loss: 10.8862 - crf_viterbi_accuracy: 0.98 - ETA: 42s - loss: 10.9036 - crf_viterbi_accuracy: 0.98 - ETA: 41s - loss: 10.8654 - crf_viterbi_accuracy: 0.99 - ETA: 40s - loss: 10.8843 - crf_viterbi_accuracy: 0.99 - ETA: 38s - loss: 10.8775 - crf_viterbi_accuracy: 0.99 - ETA: 37s - loss: 10.8912 - crf_viterbi_accuracy: 0.99 - ETA: 36s - loss: 10.8919 - crf_viterbi_accuracy: 0.99 - ETA: 35s - loss: 10.8638 - crf_viterbi_accuracy: 0.99 - ETA: 34s - loss: 10.8453 - crf_viterbi_accuracy: 0.99 - ETA: 33s - loss: 10.8448 - crf_viterbi_accuracy: 0.98 - ETA: 32s - loss: 10.8546 - crf_viterbi_accuracy: 0.99 - ETA: 31s - loss: 10.8672 - crf_viterbi_accuracy: 0.99 - ETA: 30s - loss: 10.8738 - crf_viterbi_accuracy: 0.99 - ETA: 28s - loss: 10.8572 - crf_viterbi_accuracy: 0.99 - ETA: 27s - loss: 10.9057 - crf_viterbi_accuracy: 0.99 - ETA: 26s - loss: 10.8717 - crf_viterbi_accuracy: 0.99 - ETA: 25s - loss: 10.8751 - crf_viterbi_accuracy: 0.99 - ETA: 24s - loss: 10.8653 - crf_viterbi_accuracy: 0.99 - ETA: 23s - loss: 10.8449 - crf_viterbi_accuracy: 0.99 - ETA: 22s - loss: 10.8574 - crf_viterbi_accuracy: 0.99 - ETA: 21s - loss: 10.8298 - crf_viterbi_accuracy: 0.99 - ETA: 19s - loss: 10.8350 - crf_viterbi_accuracy: 0.99 - ETA: 18s - loss: 10.8095 - crf_viterbi_accuracy: 0.99 - ETA: 17s - loss: 10.7901 - crf_viterbi_accuracy: 0.99 - ETA: 16s - loss: 10.7917 - crf_viterbi_accuracy: 0.99 - ETA: 15s - loss: 10.7858 - crf_viterbi_accuracy: 0.99 - ETA: 14s - loss: 10.7689 - crf_viterbi_accuracy: 0.99 - ETA: 13s - loss: 10.7557 - crf_viterbi_accuracy: 0.99 - ETA: 12s - loss: 10.7668 - crf_viterbi_accuracy: 0.99 - ETA: 11s - loss: 10.7563 - crf_viterbi_accuracy: 0.99 - ETA: 9s - loss: 10.7457 - crf_viterbi_accuracy: 0.9905 - ETA: 8s - loss: 10.7354 - crf_viterbi_accuracy: 0.990 - ETA: 7s - loss: 10.7569 - crf_viterbi_accuracy: 0.990 - ETA: 6s - loss: 10.7769 - crf_viterbi_accuracy: 0.990 - ETA: 5s - loss: 10.7821 - crf_viterbi_accuracy: 0.990 - ETA: 4s - loss: 10.7801 - crf_viterbi_accuracy: 0.990 - ETA: 3s - loss: 10.7735 - crf_viterbi_accuracy: 0.990 - ETA: 2s - loss: 10.7946 - crf_viterbi_accuracy: 0.990 - ETA: 1s - loss: 10.7880 - crf_viterbi_accuracy: 0.990 - 88s 23ms/step - loss: 10.7929 - crf_viterbi_accuracy: 0.9904 - val_loss: 11.8535 - val_crf_viterbi_accuracy: 0.9801\n",
      "\n",
      "Epoch 00006: loss improved from 10.80088 to 10.79290, saving model to model.h5\n",
      "Epoch 7/20\n"
     ]
    },
    {
     "name": "stdout",
     "output_type": "stream",
     "text": [
      "3898/3898 [==============================] - ETA: 1:18 - loss: 11.5862 - crf_viterbi_accuracy: 0.991 - ETA: 1:21 - loss: 11.8399 - crf_viterbi_accuracy: 0.995 - ETA: 1:22 - loss: 11.1937 - crf_viterbi_accuracy: 0.995 - ETA: 1:21 - loss: 10.4834 - crf_viterbi_accuracy: 0.995 - ETA: 1:20 - loss: 10.5993 - crf_viterbi_accuracy: 0.994 - ETA: 1:19 - loss: 10.3694 - crf_viterbi_accuracy: 0.993 - ETA: 1:17 - loss: 10.5032 - crf_viterbi_accuracy: 0.994 - ETA: 1:17 - loss: 10.4170 - crf_viterbi_accuracy: 0.994 - ETA: 1:15 - loss: 10.3697 - crf_viterbi_accuracy: 0.994 - ETA: 1:14 - loss: 10.3892 - crf_viterbi_accuracy: 0.993 - ETA: 1:13 - loss: 10.5819 - crf_viterbi_accuracy: 0.993 - ETA: 1:12 - loss: 10.6695 - crf_viterbi_accuracy: 0.993 - ETA: 1:11 - loss: 10.6741 - crf_viterbi_accuracy: 0.993 - ETA: 1:10 - loss: 10.5634 - crf_viterbi_accuracy: 0.993 - ETA: 1:09 - loss: 10.5993 - crf_viterbi_accuracy: 0.994 - ETA: 1:08 - loss: 10.5808 - crf_viterbi_accuracy: 0.994 - ETA: 1:07 - loss: 10.6505 - crf_viterbi_accuracy: 0.994 - ETA: 1:06 - loss: 10.6737 - crf_viterbi_accuracy: 0.994 - ETA: 1:05 - loss: 10.8428 - crf_viterbi_accuracy: 0.994 - ETA: 1:04 - loss: 10.8613 - crf_viterbi_accuracy: 0.993 - ETA: 1:03 - loss: 10.9681 - crf_viterbi_accuracy: 0.993 - ETA: 1:01 - loss: 10.9166 - crf_viterbi_accuracy: 0.993 - ETA: 1:00 - loss: 10.8787 - crf_viterbi_accuracy: 0.993 - ETA: 59s - loss: 10.8608 - crf_viterbi_accuracy: 0.993 - ETA: 58s - loss: 10.8636 - crf_viterbi_accuracy: 0.99 - ETA: 57s - loss: 10.8641 - crf_viterbi_accuracy: 0.99 - ETA: 56s - loss: 10.7827 - crf_viterbi_accuracy: 0.99 - ETA: 55s - loss: 10.8740 - crf_viterbi_accuracy: 0.99 - ETA: 54s - loss: 10.8494 - crf_viterbi_accuracy: 0.99 - ETA: 53s - loss: 10.8258 - crf_viterbi_accuracy: 0.99 - ETA: 52s - loss: 10.7921 - crf_viterbi_accuracy: 0.99 - ETA: 51s - loss: 10.7610 - crf_viterbi_accuracy: 0.99 - ETA: 50s - loss: 10.7451 - crf_viterbi_accuracy: 0.99 - ETA: 48s - loss: 10.7189 - crf_viterbi_accuracy: 0.99 - ETA: 47s - loss: 10.7358 - crf_viterbi_accuracy: 0.99 - ETA: 46s - loss: 10.7242 - crf_viterbi_accuracy: 0.99 - ETA: 45s - loss: 10.7422 - crf_viterbi_accuracy: 0.99 - ETA: 44s - loss: 10.7405 - crf_viterbi_accuracy: 0.99 - ETA: 43s - loss: 10.7352 - crf_viterbi_accuracy: 0.99 - ETA: 42s - loss: 10.7818 - crf_viterbi_accuracy: 0.99 - ETA: 41s - loss: 10.8051 - crf_viterbi_accuracy: 0.99 - ETA: 40s - loss: 10.8414 - crf_viterbi_accuracy: 0.99 - ETA: 38s - loss: 10.8480 - crf_viterbi_accuracy: 0.99 - ETA: 37s - loss: 10.8632 - crf_viterbi_accuracy: 0.99 - ETA: 36s - loss: 10.8517 - crf_viterbi_accuracy: 0.99 - ETA: 35s - loss: 10.8362 - crf_viterbi_accuracy: 0.99 - ETA: 34s - loss: 10.8283 - crf_viterbi_accuracy: 0.99 - ETA: 33s - loss: 10.8503 - crf_viterbi_accuracy: 0.99 - ETA: 32s - loss: 10.8520 - crf_viterbi_accuracy: 0.99 - ETA: 31s - loss: 10.8354 - crf_viterbi_accuracy: 0.99 - ETA: 30s - loss: 10.8203 - crf_viterbi_accuracy: 0.99 - ETA: 28s - loss: 10.8492 - crf_viterbi_accuracy: 0.99 - ETA: 27s - loss: 10.8338 - crf_viterbi_accuracy: 0.99 - ETA: 26s - loss: 10.8736 - crf_viterbi_accuracy: 0.99 - ETA: 25s - loss: 10.8371 - crf_viterbi_accuracy: 0.99 - ETA: 24s - loss: 10.8145 - crf_viterbi_accuracy: 0.99 - ETA: 23s - loss: 10.8300 - crf_viterbi_accuracy: 0.99 - ETA: 22s - loss: 10.8089 - crf_viterbi_accuracy: 0.99 - ETA: 21s - loss: 10.8031 - crf_viterbi_accuracy: 0.99 - ETA: 19s - loss: 10.8052 - crf_viterbi_accuracy: 0.99 - ETA: 18s - loss: 10.7961 - crf_viterbi_accuracy: 0.99 - ETA: 17s - loss: 10.8188 - crf_viterbi_accuracy: 0.99 - ETA: 16s - loss: 10.7862 - crf_viterbi_accuracy: 0.99 - ETA: 15s - loss: 10.8133 - crf_viterbi_accuracy: 0.99 - ETA: 14s - loss: 10.8049 - crf_viterbi_accuracy: 0.99 - ETA: 13s - loss: 10.7986 - crf_viterbi_accuracy: 0.99 - ETA: 12s - loss: 10.7741 - crf_viterbi_accuracy: 0.99 - ETA: 11s - loss: 10.7637 - crf_viterbi_accuracy: 0.99 - ETA: 9s - loss: 10.7580 - crf_viterbi_accuracy: 0.9924 - ETA: 8s - loss: 10.7272 - crf_viterbi_accuracy: 0.992 - ETA: 7s - loss: 10.7515 - crf_viterbi_accuracy: 0.992 - ETA: 6s - loss: 10.7401 - crf_viterbi_accuracy: 0.992 - ETA: 5s - loss: 10.7330 - crf_viterbi_accuracy: 0.992 - ETA: 4s - loss: 10.7212 - crf_viterbi_accuracy: 0.992 - ETA: 3s - loss: 10.7665 - crf_viterbi_accuracy: 0.992 - ETA: 2s - loss: 10.7445 - crf_viterbi_accuracy: 0.992 - ETA: 1s - loss: 10.7475 - crf_viterbi_accuracy: 0.992 - 88s 23ms/step - loss: 10.7869 - crf_viterbi_accuracy: 0.9923 - val_loss: 11.8560 - val_crf_viterbi_accuracy: 0.9778\n",
      "\n",
      "Epoch 00007: loss improved from 10.79290 to 10.78693, saving model to model.h5\n",
      "Epoch 8/20\n",
      "3898/3898 [==============================] - ETA: 1:18 - loss: 9.4885 - crf_viterbi_accuracy: 0.99 - ETA: 1:22 - loss: 9.5216 - crf_viterbi_accuracy: 0.99 - ETA: 1:21 - loss: 10.3414 - crf_viterbi_accuracy: 0.994 - ETA: 1:20 - loss: 10.3722 - crf_viterbi_accuracy: 0.994 - ETA: 1:19 - loss: 10.7107 - crf_viterbi_accuracy: 0.994 - ETA: 1:18 - loss: 10.3401 - crf_viterbi_accuracy: 0.995 - ETA: 1:17 - loss: 10.2763 - crf_viterbi_accuracy: 0.995 - ETA: 1:16 - loss: 10.2368 - crf_viterbi_accuracy: 0.996 - ETA: 1:15 - loss: 10.5402 - crf_viterbi_accuracy: 0.996 - ETA: 1:14 - loss: 10.6318 - crf_viterbi_accuracy: 0.996 - ETA: 1:13 - loss: 10.7164 - crf_viterbi_accuracy: 0.996 - ETA: 1:11 - loss: 10.5415 - crf_viterbi_accuracy: 0.995 - ETA: 1:11 - loss: 10.6334 - crf_viterbi_accuracy: 0.995 - ETA: 1:10 - loss: 10.8014 - crf_viterbi_accuracy: 0.995 - ETA: 1:09 - loss: 10.7829 - crf_viterbi_accuracy: 0.994 - ETA: 1:08 - loss: 10.7626 - crf_viterbi_accuracy: 0.995 - ETA: 1:07 - loss: 10.8337 - crf_viterbi_accuracy: 0.995 - ETA: 1:06 - loss: 10.8531 - crf_viterbi_accuracy: 0.995 - ETA: 1:05 - loss: 10.8977 - crf_viterbi_accuracy: 0.995 - ETA: 1:04 - loss: 10.8531 - crf_viterbi_accuracy: 0.995 - ETA: 1:03 - loss: 10.8130 - crf_viterbi_accuracy: 0.995 - ETA: 1:02 - loss: 10.8411 - crf_viterbi_accuracy: 0.995 - ETA: 1:01 - loss: 10.8655 - crf_viterbi_accuracy: 0.995 - ETA: 1:00 - loss: 10.8792 - crf_viterbi_accuracy: 0.995 - ETA: 59s - loss: 10.8077 - crf_viterbi_accuracy: 0.995 - ETA: 57s - loss: 10.8298 - crf_viterbi_accuracy: 0.99 - ETA: 56s - loss: 10.8376 - crf_viterbi_accuracy: 0.99 - ETA: 55s - loss: 10.8935 - crf_viterbi_accuracy: 0.99 - ETA: 54s - loss: 10.8669 - crf_viterbi_accuracy: 0.99 - ETA: 53s - loss: 10.8900 - crf_viterbi_accuracy: 0.99 - ETA: 52s - loss: 10.8798 - crf_viterbi_accuracy: 0.99 - ETA: 51s - loss: 10.9792 - crf_viterbi_accuracy: 0.99 - ETA: 50s - loss: 10.9869 - crf_viterbi_accuracy: 0.99 - ETA: 49s - loss: 10.9920 - crf_viterbi_accuracy: 0.99 - ETA: 48s - loss: 11.0062 - crf_viterbi_accuracy: 0.99 - ETA: 46s - loss: 11.0238 - crf_viterbi_accuracy: 0.99 - ETA: 45s - loss: 10.9865 - crf_viterbi_accuracy: 0.99 - ETA: 44s - loss: 10.9812 - crf_viterbi_accuracy: 0.99 - ETA: 43s - loss: 10.9934 - crf_viterbi_accuracy: 0.99 - ETA: 42s - loss: 10.9424 - crf_viterbi_accuracy: 0.99 - ETA: 41s - loss: 10.9273 - crf_viterbi_accuracy: 0.99 - ETA: 40s - loss: 10.9154 - crf_viterbi_accuracy: 0.99 - ETA: 39s - loss: 10.8980 - crf_viterbi_accuracy: 0.99 - ETA: 37s - loss: 10.8895 - crf_viterbi_accuracy: 0.99 - ETA: 36s - loss: 10.8886 - crf_viterbi_accuracy: 0.99 - ETA: 35s - loss: 10.9237 - crf_viterbi_accuracy: 0.99 - ETA: 34s - loss: 10.9121 - crf_viterbi_accuracy: 0.99 - ETA: 33s - loss: 10.9014 - crf_viterbi_accuracy: 0.99 - ETA: 32s - loss: 10.8896 - crf_viterbi_accuracy: 0.99 - ETA: 31s - loss: 10.8999 - crf_viterbi_accuracy: 0.99 - ETA: 30s - loss: 10.8892 - crf_viterbi_accuracy: 0.99 - ETA: 28s - loss: 10.9080 - crf_viterbi_accuracy: 0.99 - ETA: 27s - loss: 10.8761 - crf_viterbi_accuracy: 0.99 - ETA: 26s - loss: 10.8657 - crf_viterbi_accuracy: 0.99 - ETA: 25s - loss: 10.9175 - crf_viterbi_accuracy: 0.99 - ETA: 24s - loss: 10.9296 - crf_viterbi_accuracy: 0.99 - ETA: 23s - loss: 10.9428 - crf_viterbi_accuracy: 0.99 - ETA: 22s - loss: 10.9127 - crf_viterbi_accuracy: 0.99 - ETA: 21s - loss: 10.9041 - crf_viterbi_accuracy: 0.99 - ETA: 20s - loss: 10.9072 - crf_viterbi_accuracy: 0.99 - ETA: 19s - loss: 10.8646 - crf_viterbi_accuracy: 0.99 - ETA: 17s - loss: 10.8304 - crf_viterbi_accuracy: 0.99 - ETA: 16s - loss: 10.8323 - crf_viterbi_accuracy: 0.99 - ETA: 15s - loss: 10.8082 - crf_viterbi_accuracy: 0.99 - ETA: 14s - loss: 10.8311 - crf_viterbi_accuracy: 0.99 - ETA: 13s - loss: 10.8250 - crf_viterbi_accuracy: 0.99 - ETA: 12s - loss: 10.8052 - crf_viterbi_accuracy: 0.99 - ETA: 11s - loss: 10.8421 - crf_viterbi_accuracy: 0.99 - ETA: 10s - loss: 10.8342 - crf_viterbi_accuracy: 0.99 - ETA: 8s - loss: 10.8190 - crf_viterbi_accuracy: 0.9947 - ETA: 7s - loss: 10.8013 - crf_viterbi_accuracy: 0.994 - ETA: 6s - loss: 10.7834 - crf_viterbi_accuracy: 0.994 - ETA: 5s - loss: 10.7780 - crf_viterbi_accuracy: 0.994 - ETA: 4s - loss: 10.7766 - crf_viterbi_accuracy: 0.994 - ETA: 3s - loss: 10.7799 - crf_viterbi_accuracy: 0.994 - ETA: 2s - loss: 10.7544 - crf_viterbi_accuracy: 0.994 - ETA: 1s - loss: 10.7675 - crf_viterbi_accuracy: 0.994 - 90s 23ms/step - loss: 10.7813 - crf_viterbi_accuracy: 0.9944 - val_loss: 11.8626 - val_crf_viterbi_accuracy: 0.9776\n",
      "\n",
      "Epoch 00008: loss improved from 10.78693 to 10.78134, saving model to model.h5\n",
      "Epoch 9/20\n"
     ]
    },
    {
     "name": "stdout",
     "output_type": "stream",
     "text": [
      "3898/3898 [==============================] - ETA: 1:26 - loss: 11.7388 - crf_viterbi_accuracy: 0.997 - ETA: 1:25 - loss: 11.7805 - crf_viterbi_accuracy: 0.997 - ETA: 1:25 - loss: 11.6474 - crf_viterbi_accuracy: 0.997 - ETA: 1:26 - loss: 11.6678 - crf_viterbi_accuracy: 0.996 - ETA: 1:26 - loss: 11.3726 - crf_viterbi_accuracy: 0.996 - ETA: 1:26 - loss: 11.5476 - crf_viterbi_accuracy: 0.996 - ETA: 1:25 - loss: 11.2571 - crf_viterbi_accuracy: 0.996 - ETA: 1:25 - loss: 11.4528 - crf_viterbi_accuracy: 0.996 - ETA: 1:23 - loss: 11.3547 - crf_viterbi_accuracy: 0.996 - ETA: 1:22 - loss: 11.2277 - crf_viterbi_accuracy: 0.996 - ETA: 1:21 - loss: 11.0651 - crf_viterbi_accuracy: 0.996 - ETA: 1:19 - loss: 10.8940 - crf_viterbi_accuracy: 0.996 - ETA: 1:18 - loss: 10.8929 - crf_viterbi_accuracy: 0.996 - ETA: 1:17 - loss: 10.8821 - crf_viterbi_accuracy: 0.997 - ETA: 1:15 - loss: 10.7986 - crf_viterbi_accuracy: 0.997 - ETA: 1:14 - loss: 10.8293 - crf_viterbi_accuracy: 0.997 - ETA: 1:12 - loss: 10.8174 - crf_viterbi_accuracy: 0.997 - ETA: 1:11 - loss: 10.8149 - crf_viterbi_accuracy: 0.997 - ETA: 1:10 - loss: 10.7704 - crf_viterbi_accuracy: 0.996 - ETA: 1:09 - loss: 10.8747 - crf_viterbi_accuracy: 0.996 - ETA: 1:08 - loss: 10.9325 - crf_viterbi_accuracy: 0.996 - ETA: 1:07 - loss: 10.9330 - crf_viterbi_accuracy: 0.996 - ETA: 1:06 - loss: 10.9214 - crf_viterbi_accuracy: 0.996 - ETA: 1:05 - loss: 11.0177 - crf_viterbi_accuracy: 0.996 - ETA: 1:04 - loss: 11.0371 - crf_viterbi_accuracy: 0.996 - ETA: 1:02 - loss: 11.0323 - crf_viterbi_accuracy: 0.996 - ETA: 1:01 - loss: 11.0221 - crf_viterbi_accuracy: 0.996 - ETA: 1:00 - loss: 10.9270 - crf_viterbi_accuracy: 0.996 - ETA: 58s - loss: 10.9128 - crf_viterbi_accuracy: 0.996 - ETA: 57s - loss: 10.9578 - crf_viterbi_accuracy: 0.99 - ETA: 56s - loss: 10.9990 - crf_viterbi_accuracy: 0.99 - ETA: 54s - loss: 11.0202 - crf_viterbi_accuracy: 0.99 - ETA: 53s - loss: 10.9824 - crf_viterbi_accuracy: 0.99 - ETA: 52s - loss: 10.9445 - crf_viterbi_accuracy: 0.99 - ETA: 51s - loss: 10.9204 - crf_viterbi_accuracy: 0.99 - ETA: 49s - loss: 10.8819 - crf_viterbi_accuracy: 0.99 - ETA: 48s - loss: 10.8754 - crf_viterbi_accuracy: 0.99 - ETA: 47s - loss: 10.9707 - crf_viterbi_accuracy: 0.99 - ETA: 46s - loss: 10.9463 - crf_viterbi_accuracy: 0.99 - ETA: 44s - loss: 10.9394 - crf_viterbi_accuracy: 0.99 - ETA: 43s - loss: 10.9708 - crf_viterbi_accuracy: 0.99 - ETA: 42s - loss: 11.0356 - crf_viterbi_accuracy: 0.99 - ETA: 41s - loss: 11.0350 - crf_viterbi_accuracy: 0.99 - ETA: 39s - loss: 11.0791 - crf_viterbi_accuracy: 0.99 - ETA: 38s - loss: 11.0359 - crf_viterbi_accuracy: 0.99 - ETA: 37s - loss: 11.0128 - crf_viterbi_accuracy: 0.99 - ETA: 36s - loss: 10.9955 - crf_viterbi_accuracy: 0.99 - ETA: 34s - loss: 10.9916 - crf_viterbi_accuracy: 0.99 - ETA: 33s - loss: 11.0184 - crf_viterbi_accuracy: 0.99 - ETA: 32s - loss: 11.0286 - crf_viterbi_accuracy: 0.99 - ETA: 31s - loss: 10.9933 - crf_viterbi_accuracy: 0.99 - ETA: 30s - loss: 10.9924 - crf_viterbi_accuracy: 0.99 - ETA: 28s - loss: 10.9627 - crf_viterbi_accuracy: 0.99 - ETA: 27s - loss: 10.9590 - crf_viterbi_accuracy: 0.99 - ETA: 26s - loss: 10.9436 - crf_viterbi_accuracy: 0.99 - ETA: 25s - loss: 10.9287 - crf_viterbi_accuracy: 0.99 - ETA: 24s - loss: 10.8964 - crf_viterbi_accuracy: 0.99 - ETA: 23s - loss: 10.8822 - crf_viterbi_accuracy: 0.99 - ETA: 21s - loss: 10.8971 - crf_viterbi_accuracy: 0.99 - ETA: 20s - loss: 10.8768 - crf_viterbi_accuracy: 0.99 - ETA: 19s - loss: 10.8615 - crf_viterbi_accuracy: 0.99 - ETA: 18s - loss: 10.8891 - crf_viterbi_accuracy: 0.99 - ETA: 17s - loss: 10.8722 - crf_viterbi_accuracy: 0.99 - ETA: 16s - loss: 10.8546 - crf_viterbi_accuracy: 0.99 - ETA: 14s - loss: 10.8332 - crf_viterbi_accuracy: 0.99 - ETA: 13s - loss: 10.8397 - crf_viterbi_accuracy: 0.99 - ETA: 12s - loss: 10.8081 - crf_viterbi_accuracy: 0.99 - ETA: 11s - loss: 10.7968 - crf_viterbi_accuracy: 0.99 - ETA: 10s - loss: 10.7904 - crf_viterbi_accuracy: 0.99 - ETA: 9s - loss: 10.8012 - crf_viterbi_accuracy: 0.9957 - ETA: 8s - loss: 10.7823 - crf_viterbi_accuracy: 0.995 - ETA: 6s - loss: 10.7715 - crf_viterbi_accuracy: 0.995 - ETA: 5s - loss: 10.7749 - crf_viterbi_accuracy: 0.995 - ETA: 4s - loss: 10.7767 - crf_viterbi_accuracy: 0.995 - ETA: 3s - loss: 10.7856 - crf_viterbi_accuracy: 0.995 - ETA: 2s - loss: 10.7886 - crf_viterbi_accuracy: 0.995 - ETA: 1s - loss: 10.7931 - crf_viterbi_accuracy: 0.995 - 92s 24ms/step - loss: 10.7781 - crf_viterbi_accuracy: 0.9959 - val_loss: 11.8611 - val_crf_viterbi_accuracy: 0.9783\n",
      "\n",
      "Epoch 00009: loss improved from 10.78134 to 10.77807, saving model to model.h5\n",
      "Epoch 10/20\n",
      "3898/3898 [==============================] - ETA: 1:25 - loss: 10.3476 - crf_viterbi_accuracy: 0.996 - ETA: 1:25 - loss: 10.4427 - crf_viterbi_accuracy: 0.998 - ETA: 1:24 - loss: 10.5484 - crf_viterbi_accuracy: 0.997 - ETA: 1:23 - loss: 10.7422 - crf_viterbi_accuracy: 0.998 - ETA: 1:23 - loss: 11.1656 - crf_viterbi_accuracy: 0.998 - ETA: 1:22 - loss: 11.0048 - crf_viterbi_accuracy: 0.998 - ETA: 1:20 - loss: 10.7801 - crf_viterbi_accuracy: 0.998 - ETA: 1:19 - loss: 10.6467 - crf_viterbi_accuracy: 0.998 - ETA: 1:18 - loss: 10.6775 - crf_viterbi_accuracy: 0.998 - ETA: 1:16 - loss: 10.6313 - crf_viterbi_accuracy: 0.998 - ETA: 1:15 - loss: 10.7462 - crf_viterbi_accuracy: 0.998 - ETA: 1:14 - loss: 10.6738 - crf_viterbi_accuracy: 0.998 - ETA: 1:14 - loss: 10.7253 - crf_viterbi_accuracy: 0.998 - ETA: 1:13 - loss: 10.7478 - crf_viterbi_accuracy: 0.998 - ETA: 1:12 - loss: 10.7946 - crf_viterbi_accuracy: 0.998 - ETA: 1:10 - loss: 10.7561 - crf_viterbi_accuracy: 0.998 - ETA: 1:09 - loss: 10.6627 - crf_viterbi_accuracy: 0.998 - ETA: 1:08 - loss: 10.6991 - crf_viterbi_accuracy: 0.998 - ETA: 1:07 - loss: 10.6742 - crf_viterbi_accuracy: 0.998 - ETA: 1:06 - loss: 10.7366 - crf_viterbi_accuracy: 0.998 - ETA: 1:05 - loss: 10.7064 - crf_viterbi_accuracy: 0.998 - ETA: 1:04 - loss: 10.7003 - crf_viterbi_accuracy: 0.998 - ETA: 1:03 - loss: 10.6763 - crf_viterbi_accuracy: 0.998 - ETA: 1:02 - loss: 10.6947 - crf_viterbi_accuracy: 0.998 - ETA: 1:00 - loss: 10.6532 - crf_viterbi_accuracy: 0.998 - ETA: 59s - loss: 10.5767 - crf_viterbi_accuracy: 0.998 - ETA: 58s - loss: 10.5840 - crf_viterbi_accuracy: 0.99 - ETA: 57s - loss: 10.5444 - crf_viterbi_accuracy: 0.99 - ETA: 55s - loss: 10.5699 - crf_viterbi_accuracy: 0.99 - ETA: 54s - loss: 10.5190 - crf_viterbi_accuracy: 0.99 - ETA: 53s - loss: 10.5176 - crf_viterbi_accuracy: 0.99 - ETA: 52s - loss: 10.4766 - crf_viterbi_accuracy: 0.99 - ETA: 51s - loss: 10.4831 - crf_viterbi_accuracy: 0.99 - ETA: 50s - loss: 10.5427 - crf_viterbi_accuracy: 0.99 - ETA: 49s - loss: 10.5877 - crf_viterbi_accuracy: 0.99 - ETA: 47s - loss: 10.5786 - crf_viterbi_accuracy: 0.99 - ETA: 46s - loss: 10.6705 - crf_viterbi_accuracy: 0.99 - ETA: 45s - loss: 10.6714 - crf_viterbi_accuracy: 0.99 - ETA: 44s - loss: 10.6966 - crf_viterbi_accuracy: 0.99 - ETA: 43s - loss: 10.6589 - crf_viterbi_accuracy: 0.99 - ETA: 42s - loss: 10.6821 - crf_viterbi_accuracy: 0.99 - ETA: 41s - loss: 10.6789 - crf_viterbi_accuracy: 0.99 - ETA: 40s - loss: 10.6845 - crf_viterbi_accuracy: 0.99 - ETA: 38s - loss: 10.6839 - crf_viterbi_accuracy: 0.99 - ETA: 37s - loss: 10.6714 - crf_viterbi_accuracy: 0.99 - ETA: 36s - loss: 10.6576 - crf_viterbi_accuracy: 0.99 - ETA: 35s - loss: 10.6439 - crf_viterbi_accuracy: 0.99 - ETA: 34s - loss: 10.6040 - crf_viterbi_accuracy: 0.99 - ETA: 33s - loss: 10.6019 - crf_viterbi_accuracy: 0.99 - ETA: 32s - loss: 10.6219 - crf_viterbi_accuracy: 0.99 - ETA: 30s - loss: 10.6214 - crf_viterbi_accuracy: 0.99 - ETA: 29s - loss: 10.6509 - crf_viterbi_accuracy: 0.99 - ETA: 28s - loss: 10.6446 - crf_viterbi_accuracy: 0.99 - ETA: 27s - loss: 10.7126 - crf_viterbi_accuracy: 0.99 - ETA: 26s - loss: 10.7559 - crf_viterbi_accuracy: 0.99 - ETA: 25s - loss: 10.7531 - crf_viterbi_accuracy: 0.99 - ETA: 24s - loss: 10.7908 - crf_viterbi_accuracy: 0.99 - ETA: 22s - loss: 10.7916 - crf_viterbi_accuracy: 0.99 - ETA: 21s - loss: 10.7774 - crf_viterbi_accuracy: 0.99 - ETA: 20s - loss: 10.7677 - crf_viterbi_accuracy: 0.99 - ETA: 19s - loss: 10.7733 - crf_viterbi_accuracy: 0.99 - ETA: 18s - loss: 10.7899 - crf_viterbi_accuracy: 0.99 - ETA: 17s - loss: 10.7796 - crf_viterbi_accuracy: 0.99 - ETA: 15s - loss: 10.7995 - crf_viterbi_accuracy: 0.99 - ETA: 14s - loss: 10.7857 - crf_viterbi_accuracy: 0.99 - ETA: 13s - loss: 10.7452 - crf_viterbi_accuracy: 0.99 - ETA: 12s - loss: 10.7348 - crf_viterbi_accuracy: 0.99 - ETA: 11s - loss: 10.7165 - crf_viterbi_accuracy: 0.99 - ETA: 10s - loss: 10.7207 - crf_viterbi_accuracy: 0.99 - ETA: 9s - loss: 10.7336 - crf_viterbi_accuracy: 0.9972 - ETA: 7s - loss: 10.7303 - crf_viterbi_accuracy: 0.997 - ETA: 6s - loss: 10.7577 - crf_viterbi_accuracy: 0.997 - ETA: 5s - loss: 10.7404 - crf_viterbi_accuracy: 0.997 - ETA: 4s - loss: 10.7543 - crf_viterbi_accuracy: 0.997 - ETA: 3s - loss: 10.7604 - crf_viterbi_accuracy: 0.997 - ETA: 2s - loss: 10.7971 - crf_viterbi_accuracy: 0.997 - ETA: 1s - loss: 10.7899 - crf_viterbi_accuracy: 0.997 - 90s 23ms/step - loss: 10.7751 - crf_viterbi_accuracy: 0.9972 - val_loss: 11.8732 - val_crf_viterbi_accuracy: 0.9760\n",
      "\n",
      "Epoch 00010: loss improved from 10.77807 to 10.77508, saving model to model.h5\n",
      "Epoch 11/20\n"
     ]
    },
    {
     "name": "stdout",
     "output_type": "stream",
     "text": [
      "3898/3898 [==============================] - ETA: 1:18 - loss: 9.2000 - crf_viterbi_accuracy: 0.99 - ETA: 1:20 - loss: 9.2164 - crf_viterbi_accuracy: 0.99 - ETA: 1:20 - loss: 10.7159 - crf_viterbi_accuracy: 0.998 - ETA: 1:21 - loss: 10.3834 - crf_viterbi_accuracy: 0.999 - ETA: 1:21 - loss: 10.2061 - crf_viterbi_accuracy: 0.998 - ETA: 1:19 - loss: 10.1741 - crf_viterbi_accuracy: 0.999 - ETA: 1:18 - loss: 10.3418 - crf_viterbi_accuracy: 0.998 - ETA: 1:17 - loss: 10.3790 - crf_viterbi_accuracy: 0.998 - ETA: 1:16 - loss: 10.2630 - crf_viterbi_accuracy: 0.998 - ETA: 1:15 - loss: 10.1509 - crf_viterbi_accuracy: 0.999 - ETA: 1:14 - loss: 10.0481 - crf_viterbi_accuracy: 0.999 - ETA: 1:13 - loss: 10.0996 - crf_viterbi_accuracy: 0.998 - ETA: 1:11 - loss: 10.3111 - crf_viterbi_accuracy: 0.998 - ETA: 1:10 - loss: 10.4579 - crf_viterbi_accuracy: 0.998 - ETA: 1:09 - loss: 10.3453 - crf_viterbi_accuracy: 0.998 - ETA: 1:08 - loss: 10.3395 - crf_viterbi_accuracy: 0.998 - ETA: 1:07 - loss: 10.3180 - crf_viterbi_accuracy: 0.998 - ETA: 1:06 - loss: 10.3350 - crf_viterbi_accuracy: 0.998 - ETA: 1:05 - loss: 10.4007 - crf_viterbi_accuracy: 0.998 - ETA: 1:04 - loss: 10.3856 - crf_viterbi_accuracy: 0.998 - ETA: 1:03 - loss: 10.4515 - crf_viterbi_accuracy: 0.998 - ETA: 1:02 - loss: 10.5050 - crf_viterbi_accuracy: 0.998 - ETA: 1:01 - loss: 10.4701 - crf_viterbi_accuracy: 0.998 - ETA: 59s - loss: 10.4970 - crf_viterbi_accuracy: 0.998 - ETA: 58s - loss: 10.4705 - crf_viterbi_accuracy: 0.99 - ETA: 57s - loss: 10.5441 - crf_viterbi_accuracy: 0.99 - ETA: 56s - loss: 10.5784 - crf_viterbi_accuracy: 0.99 - ETA: 55s - loss: 10.5750 - crf_viterbi_accuracy: 0.99 - ETA: 54s - loss: 10.5667 - crf_viterbi_accuracy: 0.99 - ETA: 52s - loss: 10.6572 - crf_viterbi_accuracy: 0.99 - ETA: 51s - loss: 10.6445 - crf_viterbi_accuracy: 0.99 - ETA: 50s - loss: 10.6149 - crf_viterbi_accuracy: 0.99 - ETA: 49s - loss: 10.6123 - crf_viterbi_accuracy: 0.99 - ETA: 48s - loss: 10.6707 - crf_viterbi_accuracy: 0.99 - ETA: 47s - loss: 10.6597 - crf_viterbi_accuracy: 0.99 - ETA: 46s - loss: 10.6735 - crf_viterbi_accuracy: 0.99 - ETA: 45s - loss: 10.6387 - crf_viterbi_accuracy: 0.99 - ETA: 44s - loss: 10.6798 - crf_viterbi_accuracy: 0.99 - ETA: 42s - loss: 10.7011 - crf_viterbi_accuracy: 0.99 - ETA: 41s - loss: 10.7171 - crf_viterbi_accuracy: 0.99 - ETA: 40s - loss: 10.7296 - crf_viterbi_accuracy: 0.99 - ETA: 39s - loss: 10.7126 - crf_viterbi_accuracy: 0.99 - ETA: 38s - loss: 10.7369 - crf_viterbi_accuracy: 0.99 - ETA: 37s - loss: 10.7574 - crf_viterbi_accuracy: 0.99 - ETA: 36s - loss: 10.7889 - crf_viterbi_accuracy: 0.99 - ETA: 35s - loss: 10.7806 - crf_viterbi_accuracy: 0.99 - ETA: 34s - loss: 10.7650 - crf_viterbi_accuracy: 0.99 - ETA: 32s - loss: 10.7647 - crf_viterbi_accuracy: 0.99 - ETA: 31s - loss: 10.7806 - crf_viterbi_accuracy: 0.99 - ETA: 30s - loss: 10.8212 - crf_viterbi_accuracy: 0.99 - ETA: 29s - loss: 10.8111 - crf_viterbi_accuracy: 0.99 - ETA: 28s - loss: 10.8164 - crf_viterbi_accuracy: 0.99 - ETA: 27s - loss: 10.7901 - crf_viterbi_accuracy: 0.99 - ETA: 26s - loss: 10.7830 - crf_viterbi_accuracy: 0.99 - ETA: 25s - loss: 10.7781 - crf_viterbi_accuracy: 0.99 - ETA: 24s - loss: 10.7675 - crf_viterbi_accuracy: 0.99 - ETA: 23s - loss: 10.7625 - crf_viterbi_accuracy: 0.99 - ETA: 21s - loss: 10.7435 - crf_viterbi_accuracy: 0.99 - ETA: 20s - loss: 10.7185 - crf_viterbi_accuracy: 0.99 - ETA: 19s - loss: 10.7454 - crf_viterbi_accuracy: 0.99 - ETA: 18s - loss: 10.7752 - crf_viterbi_accuracy: 0.99 - ETA: 17s - loss: 10.7667 - crf_viterbi_accuracy: 0.99 - ETA: 16s - loss: 10.7675 - crf_viterbi_accuracy: 0.99 - ETA: 15s - loss: 10.7893 - crf_viterbi_accuracy: 0.99 - ETA: 14s - loss: 10.7707 - crf_viterbi_accuracy: 0.99 - ETA: 13s - loss: 10.7518 - crf_viterbi_accuracy: 0.99 - ETA: 12s - loss: 10.7531 - crf_viterbi_accuracy: 0.99 - ETA: 10s - loss: 10.7259 - crf_viterbi_accuracy: 0.99 - ETA: 9s - loss: 10.7171 - crf_viterbi_accuracy: 0.9985 - ETA: 8s - loss: 10.7749 - crf_viterbi_accuracy: 0.998 - ETA: 7s - loss: 10.7666 - crf_viterbi_accuracy: 0.998 - ETA: 6s - loss: 10.7700 - crf_viterbi_accuracy: 0.998 - ETA: 5s - loss: 10.7943 - crf_viterbi_accuracy: 0.998 - ETA: 4s - loss: 10.7880 - crf_viterbi_accuracy: 0.998 - ETA: 3s - loss: 10.7807 - crf_viterbi_accuracy: 0.998 - ETA: 2s - loss: 10.7683 - crf_viterbi_accuracy: 0.998 - ETA: 1s - loss: 10.7804 - crf_viterbi_accuracy: 0.998 - 87s 22ms/step - loss: 10.7732 - crf_viterbi_accuracy: 0.9983 - val_loss: 11.8765 - val_crf_viterbi_accuracy: 0.9778\n",
      "\n",
      "Epoch 00011: loss improved from 10.77508 to 10.77317, saving model to model.h5\n",
      "Epoch 12/20\n",
      "3898/3898 [==============================] - ETA: 1:14 - loss: 9.2401 - crf_viterbi_accuracy: 1.00 - ETA: 1:16 - loss: 10.0734 - crf_viterbi_accuracy: 1.000 - ETA: 1:17 - loss: 10.3013 - crf_viterbi_accuracy: 1.000 - ETA: 1:17 - loss: 11.0253 - crf_viterbi_accuracy: 1.000 - ETA: 1:16 - loss: 10.7036 - crf_viterbi_accuracy: 1.000 - ETA: 1:16 - loss: 10.7667 - crf_viterbi_accuracy: 0.999 - ETA: 1:15 - loss: 10.7617 - crf_viterbi_accuracy: 0.999 - ETA: 1:14 - loss: 10.8975 - crf_viterbi_accuracy: 0.999 - ETA: 1:13 - loss: 10.8175 - crf_viterbi_accuracy: 0.999 - ETA: 1:12 - loss: 10.7293 - crf_viterbi_accuracy: 0.999 - ETA: 1:11 - loss: 10.6329 - crf_viterbi_accuracy: 0.999 - ETA: 1:10 - loss: 10.5413 - crf_viterbi_accuracy: 0.999 - ETA: 1:10 - loss: 10.8064 - crf_viterbi_accuracy: 0.999 - ETA: 1:09 - loss: 10.7651 - crf_viterbi_accuracy: 0.999 - ETA: 1:08 - loss: 10.7424 - crf_viterbi_accuracy: 0.999 - ETA: 1:07 - loss: 10.7582 - crf_viterbi_accuracy: 0.999 - ETA: 1:06 - loss: 10.9500 - crf_viterbi_accuracy: 0.999 - ETA: 1:04 - loss: 10.8526 - crf_viterbi_accuracy: 0.999 - ETA: 1:03 - loss: 10.7694 - crf_viterbi_accuracy: 0.999 - ETA: 1:02 - loss: 10.7324 - crf_viterbi_accuracy: 0.999 - ETA: 1:01 - loss: 10.6910 - crf_viterbi_accuracy: 0.999 - ETA: 1:00 - loss: 10.7153 - crf_viterbi_accuracy: 0.999 - ETA: 59s - loss: 10.7436 - crf_viterbi_accuracy: 0.999 - ETA: 58s - loss: 10.7536 - crf_viterbi_accuracy: 0.99 - ETA: 57s - loss: 10.7376 - crf_viterbi_accuracy: 0.99 - ETA: 56s - loss: 10.7239 - crf_viterbi_accuracy: 0.99 - ETA: 55s - loss: 10.7233 - crf_viterbi_accuracy: 0.99 - ETA: 54s - loss: 10.7302 - crf_viterbi_accuracy: 0.99 - ETA: 52s - loss: 10.7203 - crf_viterbi_accuracy: 0.99 - ETA: 51s - loss: 10.7930 - crf_viterbi_accuracy: 0.99 - ETA: 50s - loss: 10.7713 - crf_viterbi_accuracy: 0.99 - ETA: 49s - loss: 10.7733 - crf_viterbi_accuracy: 0.99 - ETA: 48s - loss: 10.7102 - crf_viterbi_accuracy: 0.99 - ETA: 47s - loss: 10.6985 - crf_viterbi_accuracy: 0.99 - ETA: 46s - loss: 10.6250 - crf_viterbi_accuracy: 0.99 - ETA: 45s - loss: 10.5981 - crf_viterbi_accuracy: 0.99 - ETA: 44s - loss: 10.5745 - crf_viterbi_accuracy: 0.99 - ETA: 43s - loss: 10.5702 - crf_viterbi_accuracy: 0.99 - ETA: 42s - loss: 10.5749 - crf_viterbi_accuracy: 0.99 - ETA: 41s - loss: 10.5711 - crf_viterbi_accuracy: 0.99 - ETA: 40s - loss: 10.5376 - crf_viterbi_accuracy: 0.99 - ETA: 38s - loss: 10.5889 - crf_viterbi_accuracy: 0.99 - ETA: 37s - loss: 10.6738 - crf_viterbi_accuracy: 0.99 - ETA: 36s - loss: 10.6837 - crf_viterbi_accuracy: 0.99 - ETA: 35s - loss: 10.6680 - crf_viterbi_accuracy: 0.99 - ETA: 34s - loss: 10.6678 - crf_viterbi_accuracy: 0.99 - ETA: 33s - loss: 10.6885 - crf_viterbi_accuracy: 0.99 - ETA: 32s - loss: 10.7053 - crf_viterbi_accuracy: 0.99 - ETA: 31s - loss: 10.7117 - crf_viterbi_accuracy: 0.99 - ETA: 30s - loss: 10.7044 - crf_viterbi_accuracy: 0.99 - ETA: 29s - loss: 10.7374 - crf_viterbi_accuracy: 0.99 - ETA: 28s - loss: 10.7509 - crf_viterbi_accuracy: 0.99 - ETA: 27s - loss: 10.7586 - crf_viterbi_accuracy: 0.99 - ETA: 26s - loss: 10.7486 - crf_viterbi_accuracy: 0.99 - ETA: 24s - loss: 10.7116 - crf_viterbi_accuracy: 0.99 - ETA: 23s - loss: 10.7055 - crf_viterbi_accuracy: 0.99 - ETA: 22s - loss: 10.7407 - crf_viterbi_accuracy: 0.99 - ETA: 21s - loss: 10.7085 - crf_viterbi_accuracy: 0.99 - ETA: 20s - loss: 10.7264 - crf_viterbi_accuracy: 0.99 - ETA: 19s - loss: 10.7235 - crf_viterbi_accuracy: 0.99 - ETA: 18s - loss: 10.7360 - crf_viterbi_accuracy: 0.99 - ETA: 17s - loss: 10.7663 - crf_viterbi_accuracy: 0.99 - ETA: 16s - loss: 10.7564 - crf_viterbi_accuracy: 0.99 - ETA: 15s - loss: 10.7497 - crf_viterbi_accuracy: 0.99 - ETA: 14s - loss: 10.7589 - crf_viterbi_accuracy: 0.99 - ETA: 13s - loss: 10.7514 - crf_viterbi_accuracy: 0.99 - ETA: 11s - loss: 10.7349 - crf_viterbi_accuracy: 0.99 - ETA: 10s - loss: 10.7080 - crf_viterbi_accuracy: 0.99 - ETA: 9s - loss: 10.7086 - crf_viterbi_accuracy: 0.9988 - ETA: 8s - loss: 10.6943 - crf_viterbi_accuracy: 0.998 - ETA: 7s - loss: 10.7181 - crf_viterbi_accuracy: 0.998 - ETA: 6s - loss: 10.7157 - crf_viterbi_accuracy: 0.998 - ETA: 5s - loss: 10.7306 - crf_viterbi_accuracy: 0.998 - ETA: 4s - loss: 10.7591 - crf_viterbi_accuracy: 0.998 - ETA: 3s - loss: 10.7431 - crf_viterbi_accuracy: 0.998 - ETA: 2s - loss: 10.7373 - crf_viterbi_accuracy: 0.998 - ETA: 1s - loss: 10.7632 - crf_viterbi_accuracy: 0.998 - 86s 22ms/step - loss: 10.7719 - crf_viterbi_accuracy: 0.9987 - val_loss: 11.8820 - val_crf_viterbi_accuracy: 0.9735\n",
      "\n",
      "Epoch 00012: loss improved from 10.77317 to 10.77190, saving model to model.h5\n",
      "Epoch 13/20\n"
     ]
    },
    {
     "name": "stdout",
     "output_type": "stream",
     "text": [
      "3898/3898 [==============================] - ETA: 1:19 - loss: 10.5046 - crf_viterbi_accuracy: 0.999 - ETA: 1:19 - loss: 10.6091 - crf_viterbi_accuracy: 0.997 - ETA: 1:18 - loss: 10.3597 - crf_viterbi_accuracy: 0.998 - ETA: 1:19 - loss: 10.2263 - crf_viterbi_accuracy: 0.998 - ETA: 1:17 - loss: 10.3024 - crf_viterbi_accuracy: 0.998 - ETA: 1:16 - loss: 10.4550 - crf_viterbi_accuracy: 0.998 - ETA: 1:16 - loss: 10.1793 - crf_viterbi_accuracy: 0.998 - ETA: 1:15 - loss: 10.6652 - crf_viterbi_accuracy: 0.998 - ETA: 1:14 - loss: 10.8516 - crf_viterbi_accuracy: 0.998 - ETA: 1:13 - loss: 10.5866 - crf_viterbi_accuracy: 0.998 - ETA: 1:12 - loss: 10.6366 - crf_viterbi_accuracy: 0.998 - ETA: 1:11 - loss: 10.5480 - crf_viterbi_accuracy: 0.998 - ETA: 1:10 - loss: 10.4112 - crf_viterbi_accuracy: 0.998 - ETA: 1:09 - loss: 10.4294 - crf_viterbi_accuracy: 0.998 - ETA: 1:08 - loss: 10.5615 - crf_viterbi_accuracy: 0.998 - ETA: 1:07 - loss: 10.5732 - crf_viterbi_accuracy: 0.998 - ETA: 1:06 - loss: 10.6016 - crf_viterbi_accuracy: 0.999 - ETA: 1:05 - loss: 10.6253 - crf_viterbi_accuracy: 0.999 - ETA: 1:04 - loss: 10.6416 - crf_viterbi_accuracy: 0.999 - ETA: 1:03 - loss: 10.7277 - crf_viterbi_accuracy: 0.999 - ETA: 1:01 - loss: 10.7930 - crf_viterbi_accuracy: 0.999 - ETA: 1:00 - loss: 10.7955 - crf_viterbi_accuracy: 0.999 - ETA: 59s - loss: 10.8418 - crf_viterbi_accuracy: 0.999 - ETA: 58s - loss: 10.8541 - crf_viterbi_accuracy: 0.99 - ETA: 57s - loss: 10.8407 - crf_viterbi_accuracy: 0.99 - ETA: 56s - loss: 10.8714 - crf_viterbi_accuracy: 0.99 - ETA: 55s - loss: 10.8326 - crf_viterbi_accuracy: 0.99 - ETA: 54s - loss: 10.8961 - crf_viterbi_accuracy: 0.99 - ETA: 53s - loss: 10.8775 - crf_viterbi_accuracy: 0.99 - ETA: 52s - loss: 10.8935 - crf_viterbi_accuracy: 0.99 - ETA: 50s - loss: 10.8758 - crf_viterbi_accuracy: 0.99 - ETA: 49s - loss: 10.8772 - crf_viterbi_accuracy: 0.99 - ETA: 48s - loss: 10.8342 - crf_viterbi_accuracy: 0.99 - ETA: 47s - loss: 10.7897 - crf_viterbi_accuracy: 0.99 - ETA: 46s - loss: 10.8101 - crf_viterbi_accuracy: 0.99 - ETA: 45s - loss: 10.8059 - crf_viterbi_accuracy: 0.99 - ETA: 44s - loss: 10.8015 - crf_viterbi_accuracy: 0.99 - ETA: 43s - loss: 10.7593 - crf_viterbi_accuracy: 0.99 - ETA: 42s - loss: 10.8603 - crf_viterbi_accuracy: 0.99 - ETA: 41s - loss: 10.8570 - crf_viterbi_accuracy: 0.99 - ETA: 40s - loss: 10.8471 - crf_viterbi_accuracy: 0.99 - ETA: 39s - loss: 10.8389 - crf_viterbi_accuracy: 0.99 - ETA: 38s - loss: 10.8712 - crf_viterbi_accuracy: 0.99 - ETA: 37s - loss: 10.9087 - crf_viterbi_accuracy: 0.99 - ETA: 36s - loss: 10.9104 - crf_viterbi_accuracy: 0.99 - ETA: 35s - loss: 10.9280 - crf_viterbi_accuracy: 0.99 - ETA: 33s - loss: 10.9158 - crf_viterbi_accuracy: 0.99 - ETA: 32s - loss: 10.9707 - crf_viterbi_accuracy: 0.99 - ETA: 31s - loss: 10.9250 - crf_viterbi_accuracy: 0.99 - ETA: 30s - loss: 10.9138 - crf_viterbi_accuracy: 0.99 - ETA: 29s - loss: 10.9132 - crf_viterbi_accuracy: 0.99 - ETA: 28s - loss: 10.9182 - crf_viterbi_accuracy: 0.99 - ETA: 27s - loss: 10.9126 - crf_viterbi_accuracy: 0.99 - ETA: 26s - loss: 10.9132 - crf_viterbi_accuracy: 0.99 - ETA: 25s - loss: 10.8712 - crf_viterbi_accuracy: 0.99 - ETA: 24s - loss: 10.8569 - crf_viterbi_accuracy: 0.99 - ETA: 22s - loss: 10.8443 - crf_viterbi_accuracy: 0.99 - ETA: 21s - loss: 10.8326 - crf_viterbi_accuracy: 0.99 - ETA: 20s - loss: 10.8359 - crf_viterbi_accuracy: 0.99 - ETA: 19s - loss: 10.8069 - crf_viterbi_accuracy: 0.99 - ETA: 18s - loss: 10.7802 - crf_viterbi_accuracy: 0.99 - ETA: 17s - loss: 10.8090 - crf_viterbi_accuracy: 0.99 - ETA: 16s - loss: 10.8057 - crf_viterbi_accuracy: 0.99 - ETA: 15s - loss: 10.8117 - crf_viterbi_accuracy: 0.99 - ETA: 14s - loss: 10.7981 - crf_viterbi_accuracy: 0.99 - ETA: 13s - loss: 10.8043 - crf_viterbi_accuracy: 0.99 - ETA: 12s - loss: 10.7903 - crf_viterbi_accuracy: 0.99 - ETA: 10s - loss: 10.8176 - crf_viterbi_accuracy: 0.99 - ETA: 9s - loss: 10.8369 - crf_viterbi_accuracy: 0.9991 - ETA: 8s - loss: 10.8286 - crf_viterbi_accuracy: 0.999 - ETA: 7s - loss: 10.8060 - crf_viterbi_accuracy: 0.999 - ETA: 6s - loss: 10.8096 - crf_viterbi_accuracy: 0.999 - ETA: 5s - loss: 10.8088 - crf_viterbi_accuracy: 0.999 - ETA: 4s - loss: 10.7981 - crf_viterbi_accuracy: 0.999 - ETA: 3s - loss: 10.7845 - crf_viterbi_accuracy: 0.999 - ETA: 2s - loss: 10.7635 - crf_viterbi_accuracy: 0.999 - ETA: 1s - loss: 10.7649 - crf_viterbi_accuracy: 0.999 - 87s 22ms/step - loss: 10.7707 - crf_viterbi_accuracy: 0.9991 - val_loss: 11.8909 - val_crf_viterbi_accuracy: 0.9738\n",
      "\n",
      "Epoch 00013: loss improved from 10.77190 to 10.77071, saving model to model.h5\n",
      "Epoch 14/20\n",
      "3898/3898 [==============================] - ETA: 1:23 - loss: 11.1557 - crf_viterbi_accuracy: 1.000 - ETA: 1:22 - loss: 11.6751 - crf_viterbi_accuracy: 1.000 - ETA: 1:21 - loss: 11.0040 - crf_viterbi_accuracy: 0.999 - ETA: 1:21 - loss: 10.4744 - crf_viterbi_accuracy: 0.999 - ETA: 1:20 - loss: 10.4856 - crf_viterbi_accuracy: 0.999 - ETA: 1:19 - loss: 10.7225 - crf_viterbi_accuracy: 0.999 - ETA: 1:18 - loss: 10.6694 - crf_viterbi_accuracy: 0.999 - ETA: 1:17 - loss: 10.7431 - crf_viterbi_accuracy: 0.999 - ETA: 1:16 - loss: 11.0759 - crf_viterbi_accuracy: 0.999 - ETA: 1:15 - loss: 11.0880 - crf_viterbi_accuracy: 0.999 - ETA: 1:14 - loss: 10.8424 - crf_viterbi_accuracy: 0.999 - ETA: 1:12 - loss: 10.7190 - crf_viterbi_accuracy: 0.999 - ETA: 1:11 - loss: 10.7705 - crf_viterbi_accuracy: 0.999 - ETA: 1:10 - loss: 10.7927 - crf_viterbi_accuracy: 0.999 - ETA: 1:09 - loss: 10.8691 - crf_viterbi_accuracy: 0.999 - ETA: 1:08 - loss: 10.8684 - crf_viterbi_accuracy: 0.999 - ETA: 1:07 - loss: 10.8682 - crf_viterbi_accuracy: 0.999 - ETA: 1:06 - loss: 10.8335 - crf_viterbi_accuracy: 0.999 - ETA: 1:05 - loss: 10.7641 - crf_viterbi_accuracy: 0.999 - ETA: 1:04 - loss: 10.7518 - crf_viterbi_accuracy: 0.999 - ETA: 1:03 - loss: 10.6405 - crf_viterbi_accuracy: 0.999 - ETA: 1:01 - loss: 10.5510 - crf_viterbi_accuracy: 0.999 - ETA: 1:00 - loss: 10.4946 - crf_viterbi_accuracy: 0.999 - ETA: 59s - loss: 10.5525 - crf_viterbi_accuracy: 0.999 - ETA: 58s - loss: 10.5544 - crf_viterbi_accuracy: 0.99 - ETA: 57s - loss: 10.6041 - crf_viterbi_accuracy: 0.99 - ETA: 56s - loss: 10.6342 - crf_viterbi_accuracy: 0.99 - ETA: 54s - loss: 10.6364 - crf_viterbi_accuracy: 0.99 - ETA: 53s - loss: 10.6392 - crf_viterbi_accuracy: 0.99 - ETA: 52s - loss: 10.6149 - crf_viterbi_accuracy: 0.99 - ETA: 51s - loss: 10.6154 - crf_viterbi_accuracy: 0.99 - ETA: 50s - loss: 10.5964 - crf_viterbi_accuracy: 0.99 - ETA: 49s - loss: 10.6549 - crf_viterbi_accuracy: 0.99 - ETA: 48s - loss: 10.5714 - crf_viterbi_accuracy: 0.99 - ETA: 47s - loss: 10.5770 - crf_viterbi_accuracy: 0.99 - ETA: 46s - loss: 10.6757 - crf_viterbi_accuracy: 0.99 - ETA: 45s - loss: 10.6681 - crf_viterbi_accuracy: 0.99 - ETA: 43s - loss: 10.6154 - crf_viterbi_accuracy: 0.99 - ETA: 42s - loss: 10.6142 - crf_viterbi_accuracy: 0.99 - ETA: 41s - loss: 10.6073 - crf_viterbi_accuracy: 0.99 - ETA: 40s - loss: 10.6055 - crf_viterbi_accuracy: 0.99 - ETA: 39s - loss: 10.5699 - crf_viterbi_accuracy: 0.99 - ETA: 38s - loss: 10.5903 - crf_viterbi_accuracy: 0.99 - ETA: 37s - loss: 10.5907 - crf_viterbi_accuracy: 0.99 - ETA: 36s - loss: 10.6029 - crf_viterbi_accuracy: 0.99 - ETA: 35s - loss: 10.6047 - crf_viterbi_accuracy: 0.99 - ETA: 34s - loss: 10.6483 - crf_viterbi_accuracy: 0.99 - ETA: 33s - loss: 10.6119 - crf_viterbi_accuracy: 0.99 - ETA: 32s - loss: 10.6177 - crf_viterbi_accuracy: 0.99 - ETA: 30s - loss: 10.6272 - crf_viterbi_accuracy: 0.99 - ETA: 29s - loss: 10.6765 - crf_viterbi_accuracy: 0.99 - ETA: 28s - loss: 10.6710 - crf_viterbi_accuracy: 0.99 - ETA: 27s - loss: 10.6680 - crf_viterbi_accuracy: 0.99 - ETA: 26s - loss: 10.6744 - crf_viterbi_accuracy: 0.99 - ETA: 25s - loss: 10.7004 - crf_viterbi_accuracy: 0.99 - ETA: 24s - loss: 10.7045 - crf_viterbi_accuracy: 0.99 - ETA: 23s - loss: 10.6822 - crf_viterbi_accuracy: 0.99 - ETA: 22s - loss: 10.7069 - crf_viterbi_accuracy: 0.99 - ETA: 20s - loss: 10.7038 - crf_viterbi_accuracy: 0.99 - ETA: 19s - loss: 10.6945 - crf_viterbi_accuracy: 0.99 - ETA: 18s - loss: 10.7022 - crf_viterbi_accuracy: 0.99 - ETA: 17s - loss: 10.7560 - crf_viterbi_accuracy: 0.99 - ETA: 16s - loss: 10.7929 - crf_viterbi_accuracy: 0.99 - ETA: 15s - loss: 10.7908 - crf_viterbi_accuracy: 0.99 - ETA: 14s - loss: 10.8069 - crf_viterbi_accuracy: 0.99 - ETA: 13s - loss: 10.7934 - crf_viterbi_accuracy: 0.99 - ETA: 12s - loss: 10.7660 - crf_viterbi_accuracy: 0.99 - ETA: 10s - loss: 10.7478 - crf_viterbi_accuracy: 0.99 - ETA: 9s - loss: 10.7320 - crf_viterbi_accuracy: 0.9994 - ETA: 8s - loss: 10.7533 - crf_viterbi_accuracy: 0.999 - ETA: 7s - loss: 10.7189 - crf_viterbi_accuracy: 0.999 - ETA: 6s - loss: 10.7204 - crf_viterbi_accuracy: 0.999 - ETA: 5s - loss: 10.7433 - crf_viterbi_accuracy: 0.999 - ETA: 4s - loss: 10.7448 - crf_viterbi_accuracy: 0.999 - ETA: 3s - loss: 10.7592 - crf_viterbi_accuracy: 0.999 - ETA: 2s - loss: 10.7731 - crf_viterbi_accuracy: 0.999 - ETA: 1s - loss: 10.7687 - crf_viterbi_accuracy: 0.999 - 88s 23ms/step - loss: 10.7701 - crf_viterbi_accuracy: 0.9994 - val_loss: 11.8999 - val_crf_viterbi_accuracy: 0.9761\n",
      "\n",
      "Epoch 00014: loss improved from 10.77071 to 10.77013, saving model to model.h5\n",
      "Epoch 15/20\n"
     ]
    },
    {
     "name": "stdout",
     "output_type": "stream",
     "text": [
      "3898/3898 [==============================] - ETA: 1:22 - loss: 10.1447 - crf_viterbi_accuracy: 1.000 - ETA: 1:24 - loss: 11.1504 - crf_viterbi_accuracy: 0.999 - ETA: 1:23 - loss: 11.3755 - crf_viterbi_accuracy: 0.999 - ETA: 1:22 - loss: 11.5402 - crf_viterbi_accuracy: 0.999 - ETA: 1:22 - loss: 12.0374 - crf_viterbi_accuracy: 0.999 - ETA: 1:20 - loss: 11.6644 - crf_viterbi_accuracy: 0.999 - ETA: 1:20 - loss: 11.4774 - crf_viterbi_accuracy: 0.999 - ETA: 1:19 - loss: 11.2058 - crf_viterbi_accuracy: 0.999 - ETA: 1:17 - loss: 11.0420 - crf_viterbi_accuracy: 0.999 - ETA: 1:16 - loss: 10.8214 - crf_viterbi_accuracy: 0.999 - ETA: 1:15 - loss: 10.8122 - crf_viterbi_accuracy: 0.999 - ETA: 1:14 - loss: 10.7810 - crf_viterbi_accuracy: 0.999 - ETA: 1:13 - loss: 10.6772 - crf_viterbi_accuracy: 0.999 - ETA: 1:12 - loss: 10.7067 - crf_viterbi_accuracy: 0.999 - ETA: 1:10 - loss: 10.7493 - crf_viterbi_accuracy: 0.999 - ETA: 1:09 - loss: 10.6951 - crf_viterbi_accuracy: 0.999 - ETA: 1:08 - loss: 10.7181 - crf_viterbi_accuracy: 0.999 - ETA: 1:07 - loss: 10.6722 - crf_viterbi_accuracy: 0.999 - ETA: 1:06 - loss: 10.6017 - crf_viterbi_accuracy: 0.999 - ETA: 1:04 - loss: 10.6097 - crf_viterbi_accuracy: 0.999 - ETA: 1:03 - loss: 10.5796 - crf_viterbi_accuracy: 0.999 - ETA: 1:02 - loss: 10.5795 - crf_viterbi_accuracy: 0.999 - ETA: 1:01 - loss: 10.5208 - crf_viterbi_accuracy: 0.999 - ETA: 1:00 - loss: 10.6175 - crf_viterbi_accuracy: 0.999 - ETA: 58s - loss: 10.6351 - crf_viterbi_accuracy: 0.999 - ETA: 57s - loss: 10.6005 - crf_viterbi_accuracy: 0.99 - ETA: 56s - loss: 10.6393 - crf_viterbi_accuracy: 0.99 - ETA: 55s - loss: 10.6782 - crf_viterbi_accuracy: 0.99 - ETA: 54s - loss: 10.6407 - crf_viterbi_accuracy: 0.99 - ETA: 53s - loss: 10.6327 - crf_viterbi_accuracy: 0.99 - ETA: 52s - loss: 10.6530 - crf_viterbi_accuracy: 0.99 - ETA: 51s - loss: 10.7072 - crf_viterbi_accuracy: 0.99 - ETA: 49s - loss: 10.6703 - crf_viterbi_accuracy: 0.99 - ETA: 48s - loss: 10.6593 - crf_viterbi_accuracy: 0.99 - ETA: 47s - loss: 10.6483 - crf_viterbi_accuracy: 0.99 - ETA: 46s - loss: 10.6661 - crf_viterbi_accuracy: 0.99 - ETA: 45s - loss: 10.6818 - crf_viterbi_accuracy: 0.99 - ETA: 44s - loss: 10.6377 - crf_viterbi_accuracy: 0.99 - ETA: 43s - loss: 10.6657 - crf_viterbi_accuracy: 0.99 - ETA: 42s - loss: 10.6902 - crf_viterbi_accuracy: 0.99 - ETA: 41s - loss: 10.7304 - crf_viterbi_accuracy: 0.99 - ETA: 40s - loss: 10.7292 - crf_viterbi_accuracy: 0.99 - ETA: 39s - loss: 10.7314 - crf_viterbi_accuracy: 0.99 - ETA: 37s - loss: 10.7102 - crf_viterbi_accuracy: 0.99 - ETA: 36s - loss: 10.6925 - crf_viterbi_accuracy: 0.99 - ETA: 35s - loss: 10.7470 - crf_viterbi_accuracy: 0.99 - ETA: 34s - loss: 10.7752 - crf_viterbi_accuracy: 0.99 - ETA: 33s - loss: 10.7861 - crf_viterbi_accuracy: 0.99 - ETA: 32s - loss: 10.7508 - crf_viterbi_accuracy: 0.99 - ETA: 31s - loss: 10.7660 - crf_viterbi_accuracy: 0.99 - ETA: 30s - loss: 10.7446 - crf_viterbi_accuracy: 0.99 - ETA: 29s - loss: 10.7670 - crf_viterbi_accuracy: 0.99 - ETA: 27s - loss: 10.7683 - crf_viterbi_accuracy: 0.99 - ETA: 26s - loss: 10.7567 - crf_viterbi_accuracy: 0.99 - ETA: 25s - loss: 10.7477 - crf_viterbi_accuracy: 0.99 - ETA: 24s - loss: 10.7427 - crf_viterbi_accuracy: 0.99 - ETA: 23s - loss: 10.7268 - crf_viterbi_accuracy: 0.99 - ETA: 22s - loss: 10.7015 - crf_viterbi_accuracy: 0.99 - ETA: 21s - loss: 10.6754 - crf_viterbi_accuracy: 0.99 - ETA: 20s - loss: 10.6565 - crf_viterbi_accuracy: 0.99 - ETA: 18s - loss: 10.6747 - crf_viterbi_accuracy: 0.99 - ETA: 17s - loss: 10.7122 - crf_viterbi_accuracy: 0.99 - ETA: 16s - loss: 10.7638 - crf_viterbi_accuracy: 0.99 - ETA: 15s - loss: 10.7680 - crf_viterbi_accuracy: 0.99 - ETA: 14s - loss: 10.7796 - crf_viterbi_accuracy: 0.99 - ETA: 13s - loss: 10.7669 - crf_viterbi_accuracy: 0.99 - ETA: 12s - loss: 10.7761 - crf_viterbi_accuracy: 0.99 - ETA: 11s - loss: 10.7802 - crf_viterbi_accuracy: 0.99 - ETA: 10s - loss: 10.7756 - crf_viterbi_accuracy: 0.99 - ETA: 8s - loss: 10.7611 - crf_viterbi_accuracy: 0.9995 - ETA: 7s - loss: 10.7612 - crf_viterbi_accuracy: 0.999 - ETA: 6s - loss: 10.7770 - crf_viterbi_accuracy: 0.999 - ETA: 5s - loss: 10.7762 - crf_viterbi_accuracy: 0.999 - ETA: 4s - loss: 10.7653 - crf_viterbi_accuracy: 0.999 - ETA: 3s - loss: 10.7894 - crf_viterbi_accuracy: 0.999 - ETA: 2s - loss: 10.7911 - crf_viterbi_accuracy: 0.999 - ETA: 1s - loss: 10.7735 - crf_viterbi_accuracy: 0.999 - 89s 23ms/step - loss: 10.7698 - crf_viterbi_accuracy: 0.9994 - val_loss: 11.9038 - val_crf_viterbi_accuracy: 0.9772\n",
      "\n",
      "Epoch 00015: loss improved from 10.77013 to 10.76982, saving model to model.h5\n",
      "Epoch 16/20\n",
      "3898/3898 [==============================] - ETA: 1:24 - loss: 10.8312 - crf_viterbi_accuracy: 1.000 - ETA: 1:26 - loss: 11.0383 - crf_viterbi_accuracy: 0.999 - ETA: 1:25 - loss: 10.9020 - crf_viterbi_accuracy: 0.999 - ETA: 1:24 - loss: 11.0753 - crf_viterbi_accuracy: 0.999 - ETA: 1:22 - loss: 10.6901 - crf_viterbi_accuracy: 0.999 - ETA: 1:21 - loss: 10.4944 - crf_viterbi_accuracy: 0.999 - ETA: 1:20 - loss: 10.5408 - crf_viterbi_accuracy: 0.999 - ETA: 1:18 - loss: 10.6048 - crf_viterbi_accuracy: 0.999 - ETA: 1:17 - loss: 10.8432 - crf_viterbi_accuracy: 0.999 - ETA: 1:16 - loss: 10.7069 - crf_viterbi_accuracy: 0.999 - ETA: 1:15 - loss: 10.5748 - crf_viterbi_accuracy: 0.999 - ETA: 1:13 - loss: 10.7473 - crf_viterbi_accuracy: 0.999 - ETA: 1:12 - loss: 10.8852 - crf_viterbi_accuracy: 0.999 - ETA: 1:11 - loss: 10.8333 - crf_viterbi_accuracy: 0.999 - ETA: 1:10 - loss: 10.8306 - crf_viterbi_accuracy: 0.999 - ETA: 1:09 - loss: 10.7498 - crf_viterbi_accuracy: 0.999 - ETA: 1:08 - loss: 10.7135 - crf_viterbi_accuracy: 0.999 - ETA: 1:07 - loss: 10.7290 - crf_viterbi_accuracy: 0.999 - ETA: 1:05 - loss: 10.6310 - crf_viterbi_accuracy: 0.999 - ETA: 1:04 - loss: 10.6487 - crf_viterbi_accuracy: 0.999 - ETA: 1:03 - loss: 10.6374 - crf_viterbi_accuracy: 0.999 - ETA: 1:02 - loss: 10.5729 - crf_viterbi_accuracy: 0.999 - ETA: 1:01 - loss: 10.5948 - crf_viterbi_accuracy: 0.999 - ETA: 1:00 - loss: 10.5864 - crf_viterbi_accuracy: 0.999 - ETA: 59s - loss: 10.6078 - crf_viterbi_accuracy: 0.999 - ETA: 58s - loss: 10.5434 - crf_viterbi_accuracy: 0.99 - ETA: 57s - loss: 10.5267 - crf_viterbi_accuracy: 0.99 - ETA: 56s - loss: 10.4857 - crf_viterbi_accuracy: 0.99 - ETA: 55s - loss: 10.4701 - crf_viterbi_accuracy: 0.99 - ETA: 54s - loss: 10.4733 - crf_viterbi_accuracy: 0.99 - ETA: 53s - loss: 10.4966 - crf_viterbi_accuracy: 0.99 - ETA: 51s - loss: 10.4947 - crf_viterbi_accuracy: 0.99 - ETA: 50s - loss: 10.4477 - crf_viterbi_accuracy: 0.99 - ETA: 49s - loss: 10.4371 - crf_viterbi_accuracy: 0.99 - ETA: 48s - loss: 10.4824 - crf_viterbi_accuracy: 0.99 - ETA: 47s - loss: 10.5076 - crf_viterbi_accuracy: 0.99 - ETA: 46s - loss: 10.4839 - crf_viterbi_accuracy: 0.99 - ETA: 44s - loss: 10.5206 - crf_viterbi_accuracy: 0.99 - ETA: 43s - loss: 10.5344 - crf_viterbi_accuracy: 0.99 - ETA: 42s - loss: 10.5246 - crf_viterbi_accuracy: 0.99 - ETA: 41s - loss: 10.4802 - crf_viterbi_accuracy: 0.99 - ETA: 40s - loss: 10.5644 - crf_viterbi_accuracy: 0.99 - ETA: 39s - loss: 10.5630 - crf_viterbi_accuracy: 0.99 - ETA: 38s - loss: 10.6170 - crf_viterbi_accuracy: 0.99 - ETA: 36s - loss: 10.6175 - crf_viterbi_accuracy: 0.99 - ETA: 35s - loss: 10.6585 - crf_viterbi_accuracy: 0.99 - ETA: 34s - loss: 10.7603 - crf_viterbi_accuracy: 0.99 - ETA: 33s - loss: 10.7251 - crf_viterbi_accuracy: 0.99 - ETA: 32s - loss: 10.7039 - crf_viterbi_accuracy: 0.99 - ETA: 31s - loss: 10.7070 - crf_viterbi_accuracy: 0.99 - ETA: 30s - loss: 10.7014 - crf_viterbi_accuracy: 0.99 - ETA: 29s - loss: 10.6860 - crf_viterbi_accuracy: 0.99 - ETA: 27s - loss: 10.7155 - crf_viterbi_accuracy: 0.99 - ETA: 26s - loss: 10.7197 - crf_viterbi_accuracy: 0.99 - ETA: 25s - loss: 10.7094 - crf_viterbi_accuracy: 0.99 - ETA: 24s - loss: 10.6645 - crf_viterbi_accuracy: 0.99 - ETA: 23s - loss: 10.6542 - crf_viterbi_accuracy: 0.99 - ETA: 22s - loss: 10.6792 - crf_viterbi_accuracy: 0.99 - ETA: 21s - loss: 10.6799 - crf_viterbi_accuracy: 0.99 - ETA: 20s - loss: 10.6706 - crf_viterbi_accuracy: 0.99 - ETA: 18s - loss: 10.6674 - crf_viterbi_accuracy: 0.99 - ETA: 17s - loss: 10.6961 - crf_viterbi_accuracy: 0.99 - ETA: 16s - loss: 10.7179 - crf_viterbi_accuracy: 0.99 - ETA: 15s - loss: 10.7203 - crf_viterbi_accuracy: 0.99 - ETA: 14s - loss: 10.7704 - crf_viterbi_accuracy: 0.99 - ETA: 13s - loss: 10.7840 - crf_viterbi_accuracy: 0.99 - ETA: 12s - loss: 10.7880 - crf_viterbi_accuracy: 0.99 - ETA: 11s - loss: 10.7633 - crf_viterbi_accuracy: 0.99 - ETA: 10s - loss: 10.7621 - crf_viterbi_accuracy: 0.99 - ETA: 8s - loss: 10.7707 - crf_viterbi_accuracy: 0.9998 - ETA: 7s - loss: 10.7868 - crf_viterbi_accuracy: 0.999 - ETA: 6s - loss: 10.7789 - crf_viterbi_accuracy: 0.999 - ETA: 5s - loss: 10.7644 - crf_viterbi_accuracy: 0.999 - ETA: 4s - loss: 10.7742 - crf_viterbi_accuracy: 0.999 - ETA: 3s - loss: 10.7647 - crf_viterbi_accuracy: 0.999 - ETA: 2s - loss: 10.7503 - crf_viterbi_accuracy: 0.999 - ETA: 1s - loss: 10.7497 - crf_viterbi_accuracy: 0.999 - 89s 23ms/step - loss: 10.7694 - crf_viterbi_accuracy: 0.9998 - val_loss: 11.9203 - val_crf_viterbi_accuracy: 0.9755\n",
      "\n",
      "Epoch 00016: loss improved from 10.76982 to 10.76939, saving model to model.h5\n",
      "Epoch 17/20\n"
     ]
    },
    {
     "name": "stdout",
     "output_type": "stream",
     "text": [
      "3898/3898 [==============================] - ETA: 1:23 - loss: 10.5566 - crf_viterbi_accuracy: 1.000 - ETA: 1:23 - loss: 11.5495 - crf_viterbi_accuracy: 1.000 - ETA: 1:22 - loss: 11.6781 - crf_viterbi_accuracy: 1.000 - ETA: 1:21 - loss: 12.2469 - crf_viterbi_accuracy: 1.000 - ETA: 1:20 - loss: 11.7843 - crf_viterbi_accuracy: 1.000 - ETA: 1:18 - loss: 11.5800 - crf_viterbi_accuracy: 1.000 - ETA: 1:18 - loss: 11.3179 - crf_viterbi_accuracy: 1.000 - ETA: 1:17 - loss: 11.2714 - crf_viterbi_accuracy: 1.000 - ETA: 1:16 - loss: 11.1398 - crf_viterbi_accuracy: 1.000 - ETA: 1:15 - loss: 11.1675 - crf_viterbi_accuracy: 1.000 - ETA: 1:14 - loss: 10.9944 - crf_viterbi_accuracy: 1.000 - ETA: 1:13 - loss: 10.8868 - crf_viterbi_accuracy: 1.000 - ETA: 1:12 - loss: 10.9509 - crf_viterbi_accuracy: 1.000 - ETA: 1:10 - loss: 10.9584 - crf_viterbi_accuracy: 1.000 - ETA: 1:09 - loss: 11.0542 - crf_viterbi_accuracy: 1.000 - ETA: 1:08 - loss: 10.9703 - crf_viterbi_accuracy: 1.000 - ETA: 1:07 - loss: 10.9438 - crf_viterbi_accuracy: 1.000 - ETA: 1:06 - loss: 10.8669 - crf_viterbi_accuracy: 1.000 - ETA: 1:05 - loss: 10.8931 - crf_viterbi_accuracy: 1.000 - ETA: 1:04 - loss: 10.8730 - crf_viterbi_accuracy: 1.000 - ETA: 1:03 - loss: 10.9121 - crf_viterbi_accuracy: 0.999 - ETA: 1:02 - loss: 10.9113 - crf_viterbi_accuracy: 0.999 - ETA: 1:01 - loss: 10.9858 - crf_viterbi_accuracy: 0.999 - ETA: 1:00 - loss: 10.9724 - crf_viterbi_accuracy: 0.999 - ETA: 59s - loss: 10.9689 - crf_viterbi_accuracy: 0.999 - ETA: 58s - loss: 10.9099 - crf_viterbi_accuracy: 0.99 - ETA: 57s - loss: 10.9728 - crf_viterbi_accuracy: 0.99 - ETA: 56s - loss: 10.9207 - crf_viterbi_accuracy: 0.99 - ETA: 55s - loss: 10.9111 - crf_viterbi_accuracy: 0.99 - ETA: 54s - loss: 10.8867 - crf_viterbi_accuracy: 0.99 - ETA: 53s - loss: 10.9049 - crf_viterbi_accuracy: 1.00 - ETA: 52s - loss: 10.9299 - crf_viterbi_accuracy: 1.00 - ETA: 50s - loss: 10.8902 - crf_viterbi_accuracy: 1.00 - ETA: 49s - loss: 10.8612 - crf_viterbi_accuracy: 1.00 - ETA: 48s - loss: 10.8640 - crf_viterbi_accuracy: 1.00 - ETA: 47s - loss: 10.8597 - crf_viterbi_accuracy: 1.00 - ETA: 46s - loss: 10.8453 - crf_viterbi_accuracy: 1.00 - ETA: 45s - loss: 10.8284 - crf_viterbi_accuracy: 1.00 - ETA: 44s - loss: 10.7975 - crf_viterbi_accuracy: 1.00 - ETA: 42s - loss: 10.7537 - crf_viterbi_accuracy: 1.00 - ETA: 41s - loss: 10.7418 - crf_viterbi_accuracy: 1.00 - ETA: 40s - loss: 10.7200 - crf_viterbi_accuracy: 1.00 - ETA: 39s - loss: 10.7002 - crf_viterbi_accuracy: 1.00 - ETA: 38s - loss: 10.7146 - crf_viterbi_accuracy: 1.00 - ETA: 37s - loss: 10.6812 - crf_viterbi_accuracy: 1.00 - ETA: 36s - loss: 10.6831 - crf_viterbi_accuracy: 1.00 - ETA: 34s - loss: 10.7682 - crf_viterbi_accuracy: 1.00 - ETA: 33s - loss: 10.7607 - crf_viterbi_accuracy: 1.00 - ETA: 32s - loss: 10.7181 - crf_viterbi_accuracy: 1.00 - ETA: 31s - loss: 10.6795 - crf_viterbi_accuracy: 0.99 - ETA: 30s - loss: 10.7219 - crf_viterbi_accuracy: 0.99 - ETA: 29s - loss: 10.7085 - crf_viterbi_accuracy: 0.99 - ETA: 28s - loss: 10.7419 - crf_viterbi_accuracy: 0.99 - ETA: 27s - loss: 10.7523 - crf_viterbi_accuracy: 0.99 - ETA: 25s - loss: 10.7634 - crf_viterbi_accuracy: 0.99 - ETA: 24s - loss: 10.8007 - crf_viterbi_accuracy: 0.99 - ETA: 23s - loss: 10.7816 - crf_viterbi_accuracy: 0.99 - ETA: 22s - loss: 10.7726 - crf_viterbi_accuracy: 0.99 - ETA: 21s - loss: 10.7809 - crf_viterbi_accuracy: 0.99 - ETA: 20s - loss: 10.7628 - crf_viterbi_accuracy: 0.99 - ETA: 19s - loss: 10.7747 - crf_viterbi_accuracy: 0.99 - ETA: 17s - loss: 10.7739 - crf_viterbi_accuracy: 0.99 - ETA: 16s - loss: 10.7574 - crf_viterbi_accuracy: 0.99 - ETA: 15s - loss: 10.7660 - crf_viterbi_accuracy: 0.99 - ETA: 14s - loss: 10.7516 - crf_viterbi_accuracy: 0.99 - ETA: 13s - loss: 10.7673 - crf_viterbi_accuracy: 0.99 - ETA: 12s - loss: 10.8080 - crf_viterbi_accuracy: 0.99 - ETA: 11s - loss: 10.7777 - crf_viterbi_accuracy: 0.99 - ETA: 10s - loss: 10.8106 - crf_viterbi_accuracy: 0.99 - ETA: 8s - loss: 10.8101 - crf_viterbi_accuracy: 0.9998 - ETA: 7s - loss: 10.7999 - crf_viterbi_accuracy: 0.999 - ETA: 6s - loss: 10.7938 - crf_viterbi_accuracy: 0.999 - ETA: 5s - loss: 10.7826 - crf_viterbi_accuracy: 0.999 - ETA: 4s - loss: 10.7633 - crf_viterbi_accuracy: 0.999 - ETA: 3s - loss: 10.7783 - crf_viterbi_accuracy: 0.999 - ETA: 2s - loss: 10.7857 - crf_viterbi_accuracy: 0.999 - ETA: 1s - loss: 10.7792 - crf_viterbi_accuracy: 0.999 - 90s 23ms/step - loss: 10.7693 - crf_viterbi_accuracy: 0.9998 - val_loss: 11.9298 - val_crf_viterbi_accuracy: 0.9755\n",
      "\n",
      "Epoch 00017: loss improved from 10.76939 to 10.76929, saving model to model.h5\n",
      "Epoch 18/20\n",
      "3898/3898 [==============================] - ETA: 1:26 - loss: 10.1096 - crf_viterbi_accuracy: 1.000 - ETA: 1:23 - loss: 9.7651 - crf_viterbi_accuracy: 1.000 - ETA: 1:23 - loss: 9.8615 - crf_viterbi_accuracy: 1.00 - ETA: 1:22 - loss: 10.4063 - crf_viterbi_accuracy: 1.000 - ETA: 1:20 - loss: 10.4221 - crf_viterbi_accuracy: 1.000 - ETA: 1:19 - loss: 10.1831 - crf_viterbi_accuracy: 1.000 - ETA: 1:18 - loss: 10.3046 - crf_viterbi_accuracy: 1.000 - ETA: 1:17 - loss: 10.5071 - crf_viterbi_accuracy: 1.000 - ETA: 1:16 - loss: 10.5355 - crf_viterbi_accuracy: 1.000 - ETA: 1:15 - loss: 10.4971 - crf_viterbi_accuracy: 1.000 - ETA: 1:14 - loss: 10.5821 - crf_viterbi_accuracy: 1.000 - ETA: 1:13 - loss: 10.6852 - crf_viterbi_accuracy: 0.999 - ETA: 1:12 - loss: 10.7173 - crf_viterbi_accuracy: 0.999 - ETA: 1:11 - loss: 10.5931 - crf_viterbi_accuracy: 0.999 - ETA: 1:09 - loss: 10.6846 - crf_viterbi_accuracy: 0.999 - ETA: 1:08 - loss: 10.6279 - crf_viterbi_accuracy: 0.999 - ETA: 1:07 - loss: 10.6215 - crf_viterbi_accuracy: 0.999 - ETA: 1:06 - loss: 10.5219 - crf_viterbi_accuracy: 0.999 - ETA: 1:05 - loss: 10.5311 - crf_viterbi_accuracy: 0.999 - ETA: 1:04 - loss: 10.5727 - crf_viterbi_accuracy: 0.999 - ETA: 1:03 - loss: 10.5509 - crf_viterbi_accuracy: 0.999 - ETA: 1:02 - loss: 10.5529 - crf_viterbi_accuracy: 0.999 - ETA: 1:00 - loss: 10.5992 - crf_viterbi_accuracy: 0.999 - ETA: 59s - loss: 10.6615 - crf_viterbi_accuracy: 0.999 - ETA: 58s - loss: 10.6627 - crf_viterbi_accuracy: 0.99 - ETA: 57s - loss: 10.6619 - crf_viterbi_accuracy: 0.99 - ETA: 56s - loss: 10.6892 - crf_viterbi_accuracy: 0.99 - ETA: 55s - loss: 10.6041 - crf_viterbi_accuracy: 0.99 - ETA: 54s - loss: 10.5613 - crf_viterbi_accuracy: 0.99 - ETA: 53s - loss: 10.5426 - crf_viterbi_accuracy: 0.99 - ETA: 52s - loss: 10.5175 - crf_viterbi_accuracy: 0.99 - ETA: 51s - loss: 10.5474 - crf_viterbi_accuracy: 0.99 - ETA: 49s - loss: 10.5214 - crf_viterbi_accuracy: 0.99 - ETA: 48s - loss: 10.5482 - crf_viterbi_accuracy: 0.99 - ETA: 47s - loss: 10.5420 - crf_viterbi_accuracy: 0.99 - ETA: 46s - loss: 10.5672 - crf_viterbi_accuracy: 0.99 - ETA: 45s - loss: 10.5544 - crf_viterbi_accuracy: 0.99 - ETA: 44s - loss: 10.5584 - crf_viterbi_accuracy: 0.99 - ETA: 43s - loss: 10.5433 - crf_viterbi_accuracy: 0.99 - ETA: 42s - loss: 10.5997 - crf_viterbi_accuracy: 0.99 - ETA: 41s - loss: 10.6196 - crf_viterbi_accuracy: 0.99 - ETA: 39s - loss: 10.7185 - crf_viterbi_accuracy: 0.99 - ETA: 38s - loss: 10.6749 - crf_viterbi_accuracy: 0.99 - ETA: 37s - loss: 10.6856 - crf_viterbi_accuracy: 0.99 - ETA: 36s - loss: 10.7306 - crf_viterbi_accuracy: 0.99 - ETA: 35s - loss: 10.7448 - crf_viterbi_accuracy: 0.99 - ETA: 34s - loss: 10.7240 - crf_viterbi_accuracy: 0.99 - ETA: 33s - loss: 10.6990 - crf_viterbi_accuracy: 0.99 - ETA: 32s - loss: 10.6960 - crf_viterbi_accuracy: 0.99 - ETA: 31s - loss: 10.7029 - crf_viterbi_accuracy: 0.99 - ETA: 29s - loss: 10.6871 - crf_viterbi_accuracy: 0.99 - ETA: 28s - loss: 10.6883 - crf_viterbi_accuracy: 0.99 - ETA: 27s - loss: 10.6913 - crf_viterbi_accuracy: 0.99 - ETA: 26s - loss: 10.6833 - crf_viterbi_accuracy: 0.99 - ETA: 25s - loss: 10.6973 - crf_viterbi_accuracy: 0.99 - ETA: 24s - loss: 10.7495 - crf_viterbi_accuracy: 0.99 - ETA: 23s - loss: 10.7310 - crf_viterbi_accuracy: 0.99 - ETA: 22s - loss: 10.7164 - crf_viterbi_accuracy: 0.99 - ETA: 21s - loss: 10.6784 - crf_viterbi_accuracy: 0.99 - ETA: 19s - loss: 10.6903 - crf_viterbi_accuracy: 0.99 - ETA: 18s - loss: 10.7187 - crf_viterbi_accuracy: 0.99 - ETA: 17s - loss: 10.7065 - crf_viterbi_accuracy: 0.99 - ETA: 16s - loss: 10.7056 - crf_viterbi_accuracy: 0.99 - ETA: 15s - loss: 10.6995 - crf_viterbi_accuracy: 0.99 - ETA: 14s - loss: 10.6778 - crf_viterbi_accuracy: 0.99 - ETA: 13s - loss: 10.7111 - crf_viterbi_accuracy: 0.99 - ETA: 12s - loss: 10.7296 - crf_viterbi_accuracy: 0.99 - ETA: 11s - loss: 10.7232 - crf_viterbi_accuracy: 0.99 - ETA: 9s - loss: 10.7503 - crf_viterbi_accuracy: 0.9997 - ETA: 8s - loss: 10.7482 - crf_viterbi_accuracy: 0.999 - ETA: 7s - loss: 10.7499 - crf_viterbi_accuracy: 0.999 - ETA: 6s - loss: 10.7514 - crf_viterbi_accuracy: 0.999 - ETA: 5s - loss: 10.7701 - crf_viterbi_accuracy: 0.999 - ETA: 4s - loss: 10.7866 - crf_viterbi_accuracy: 0.999 - ETA: 3s - loss: 10.7750 - crf_viterbi_accuracy: 0.999 - ETA: 2s - loss: 10.7670 - crf_viterbi_accuracy: 0.999 - ETA: 1s - loss: 10.7643 - crf_viterbi_accuracy: 0.999 - 89s 23ms/step - loss: 10.7693 - crf_viterbi_accuracy: 0.9997 - val_loss: 11.9294 - val_crf_viterbi_accuracy: 0.9752\n",
      "\n",
      "Epoch 00018: loss did not improve from 10.76929\n",
      "Epoch 19/20\n"
     ]
    },
    {
     "name": "stdout",
     "output_type": "stream",
     "text": [
      "3898/3898 [==============================] - ETA: 1:26 - loss: 11.0306 - crf_viterbi_accuracy: 1.000 - ETA: 1:24 - loss: 10.8799 - crf_viterbi_accuracy: 1.000 - ETA: 1:24 - loss: 11.5693 - crf_viterbi_accuracy: 1.000 - ETA: 1:22 - loss: 11.6102 - crf_viterbi_accuracy: 1.000 - ETA: 1:22 - loss: 11.0680 - crf_viterbi_accuracy: 1.000 - ETA: 1:21 - loss: 10.8178 - crf_viterbi_accuracy: 1.000 - ETA: 1:20 - loss: 10.8987 - crf_viterbi_accuracy: 1.000 - ETA: 1:19 - loss: 11.3083 - crf_viterbi_accuracy: 1.000 - ETA: 1:18 - loss: 11.1566 - crf_viterbi_accuracy: 1.000 - ETA: 1:16 - loss: 11.1885 - crf_viterbi_accuracy: 1.000 - ETA: 1:15 - loss: 11.1216 - crf_viterbi_accuracy: 1.000 - ETA: 1:14 - loss: 11.1154 - crf_viterbi_accuracy: 1.000 - ETA: 1:12 - loss: 11.0778 - crf_viterbi_accuracy: 1.000 - ETA: 1:11 - loss: 10.9916 - crf_viterbi_accuracy: 0.999 - ETA: 1:10 - loss: 11.0335 - crf_viterbi_accuracy: 0.999 - ETA: 1:09 - loss: 11.0442 - crf_viterbi_accuracy: 0.999 - ETA: 1:08 - loss: 10.9780 - crf_viterbi_accuracy: 0.999 - ETA: 1:07 - loss: 10.9034 - crf_viterbi_accuracy: 0.999 - ETA: 1:05 - loss: 10.8405 - crf_viterbi_accuracy: 0.999 - ETA: 1:04 - loss: 10.8627 - crf_viterbi_accuracy: 0.999 - ETA: 1:03 - loss: 10.8651 - crf_viterbi_accuracy: 0.999 - ETA: 1:02 - loss: 10.7808 - crf_viterbi_accuracy: 0.999 - ETA: 1:01 - loss: 10.7468 - crf_viterbi_accuracy: 0.999 - ETA: 1:00 - loss: 10.6544 - crf_viterbi_accuracy: 0.999 - ETA: 59s - loss: 10.6260 - crf_viterbi_accuracy: 0.999 - ETA: 58s - loss: 10.6856 - crf_viterbi_accuracy: 0.99 - ETA: 57s - loss: 10.6915 - crf_viterbi_accuracy: 0.99 - ETA: 56s - loss: 10.6626 - crf_viterbi_accuracy: 0.99 - ETA: 54s - loss: 10.7694 - crf_viterbi_accuracy: 0.99 - ETA: 53s - loss: 10.7533 - crf_viterbi_accuracy: 0.99 - ETA: 52s - loss: 10.8096 - crf_viterbi_accuracy: 0.99 - ETA: 51s - loss: 10.7686 - crf_viterbi_accuracy: 0.99 - ETA: 50s - loss: 10.8104 - crf_viterbi_accuracy: 0.99 - ETA: 49s - loss: 10.7557 - crf_viterbi_accuracy: 0.99 - ETA: 48s - loss: 10.7820 - crf_viterbi_accuracy: 0.99 - ETA: 47s - loss: 10.8042 - crf_viterbi_accuracy: 0.99 - ETA: 45s - loss: 10.8095 - crf_viterbi_accuracy: 0.99 - ETA: 44s - loss: 10.7669 - crf_viterbi_accuracy: 0.99 - ETA: 43s - loss: 10.7379 - crf_viterbi_accuracy: 0.99 - ETA: 42s - loss: 10.7322 - crf_viterbi_accuracy: 0.99 - ETA: 41s - loss: 10.7360 - crf_viterbi_accuracy: 0.99 - ETA: 40s - loss: 10.7368 - crf_viterbi_accuracy: 0.99 - ETA: 39s - loss: 10.7394 - crf_viterbi_accuracy: 0.99 - ETA: 37s - loss: 10.7367 - crf_viterbi_accuracy: 0.99 - ETA: 36s - loss: 10.7368 - crf_viterbi_accuracy: 0.99 - ETA: 35s - loss: 10.7754 - crf_viterbi_accuracy: 0.99 - ETA: 34s - loss: 10.7881 - crf_viterbi_accuracy: 0.99 - ETA: 33s - loss: 10.7879 - crf_viterbi_accuracy: 0.99 - ETA: 32s - loss: 10.7854 - crf_viterbi_accuracy: 0.99 - ETA: 31s - loss: 10.7906 - crf_viterbi_accuracy: 0.99 - ETA: 30s - loss: 10.7825 - crf_viterbi_accuracy: 0.99 - ETA: 28s - loss: 10.8199 - crf_viterbi_accuracy: 0.99 - ETA: 27s - loss: 10.8186 - crf_viterbi_accuracy: 0.99 - ETA: 26s - loss: 10.8352 - crf_viterbi_accuracy: 0.99 - ETA: 25s - loss: 10.8462 - crf_viterbi_accuracy: 0.99 - ETA: 24s - loss: 10.8403 - crf_viterbi_accuracy: 0.99 - ETA: 23s - loss: 10.8323 - crf_viterbi_accuracy: 0.99 - ETA: 22s - loss: 10.8024 - crf_viterbi_accuracy: 0.99 - ETA: 21s - loss: 10.8031 - crf_viterbi_accuracy: 0.99 - ETA: 20s - loss: 10.8420 - crf_viterbi_accuracy: 0.99 - ETA: 18s - loss: 10.8340 - crf_viterbi_accuracy: 0.99 - ETA: 17s - loss: 10.8422 - crf_viterbi_accuracy: 0.99 - ETA: 16s - loss: 10.8402 - crf_viterbi_accuracy: 0.99 - ETA: 15s - loss: 10.8542 - crf_viterbi_accuracy: 0.99 - ETA: 14s - loss: 10.8400 - crf_viterbi_accuracy: 0.99 - ETA: 13s - loss: 10.8155 - crf_viterbi_accuracy: 0.99 - ETA: 12s - loss: 10.8248 - crf_viterbi_accuracy: 0.99 - ETA: 11s - loss: 10.8343 - crf_viterbi_accuracy: 0.99 - ETA: 10s - loss: 10.8281 - crf_viterbi_accuracy: 0.99 - ETA: 8s - loss: 10.8328 - crf_viterbi_accuracy: 0.9998 - ETA: 7s - loss: 10.8435 - crf_viterbi_accuracy: 0.999 - ETA: 6s - loss: 10.8349 - crf_viterbi_accuracy: 0.999 - ETA: 5s - loss: 10.8086 - crf_viterbi_accuracy: 0.999 - ETA: 4s - loss: 10.7807 - crf_viterbi_accuracy: 0.999 - ETA: 3s - loss: 10.7803 - crf_viterbi_accuracy: 0.999 - ETA: 2s - loss: 10.7741 - crf_viterbi_accuracy: 0.999 - ETA: 1s - loss: 10.7657 - crf_viterbi_accuracy: 0.999 - 89s 23ms/step - loss: 10.7691 - crf_viterbi_accuracy: 0.9999 - val_loss: 11.9303 - val_crf_viterbi_accuracy: 0.9736\n",
      "\n",
      "Epoch 00019: loss improved from 10.76929 to 10.76912, saving model to model.h5\n",
      "Epoch 20/20\n",
      "3898/3898 [==============================] - ETA: 1:27 - loss: 10.0589 - crf_viterbi_accuracy: 1.000 - ETA: 1:27 - loss: 9.6063 - crf_viterbi_accuracy: 1.000 - ETA: 1:27 - loss: 9.4481 - crf_viterbi_accuracy: 1.00 - ETA: 1:26 - loss: 9.8176 - crf_viterbi_accuracy: 1.00 - ETA: 1:24 - loss: 9.7752 - crf_viterbi_accuracy: 1.00 - ETA: 1:22 - loss: 10.0826 - crf_viterbi_accuracy: 1.000 - ETA: 1:21 - loss: 10.2400 - crf_viterbi_accuracy: 1.000 - ETA: 1:20 - loss: 10.4188 - crf_viterbi_accuracy: 1.000 - ETA: 1:18 - loss: 10.5996 - crf_viterbi_accuracy: 1.000 - ETA: 1:17 - loss: 10.7985 - crf_viterbi_accuracy: 1.000 - ETA: 1:16 - loss: 10.8347 - crf_viterbi_accuracy: 1.000 - ETA: 1:15 - loss: 10.8709 - crf_viterbi_accuracy: 1.000 - ETA: 1:13 - loss: 10.7700 - crf_viterbi_accuracy: 1.000 - ETA: 1:13 - loss: 10.7905 - crf_viterbi_accuracy: 1.000 - ETA: 1:11 - loss: 10.7219 - crf_viterbi_accuracy: 1.000 - ETA: 1:11 - loss: 10.7194 - crf_viterbi_accuracy: 1.000 - ETA: 1:10 - loss: 10.7524 - crf_viterbi_accuracy: 1.000 - ETA: 1:09 - loss: 10.7803 - crf_viterbi_accuracy: 1.000 - ETA: 1:08 - loss: 10.8282 - crf_viterbi_accuracy: 1.000 - ETA: 1:07 - loss: 10.9826 - crf_viterbi_accuracy: 0.999 - ETA: 1:06 - loss: 10.9510 - crf_viterbi_accuracy: 0.999 - ETA: 1:04 - loss: 10.9031 - crf_viterbi_accuracy: 0.999 - ETA: 1:03 - loss: 10.8437 - crf_viterbi_accuracy: 0.999 - ETA: 1:03 - loss: 10.7568 - crf_viterbi_accuracy: 0.999 - ETA: 1:01 - loss: 10.8000 - crf_viterbi_accuracy: 0.999 - ETA: 1:00 - loss: 10.8000 - crf_viterbi_accuracy: 0.999 - ETA: 59s - loss: 10.7783 - crf_viterbi_accuracy: 0.999 - ETA: 58s - loss: 10.7079 - crf_viterbi_accuracy: 0.99 - ETA: 57s - loss: 10.6903 - crf_viterbi_accuracy: 0.99 - ETA: 56s - loss: 10.7865 - crf_viterbi_accuracy: 0.99 - ETA: 55s - loss: 10.7708 - crf_viterbi_accuracy: 0.99 - ETA: 54s - loss: 10.7904 - crf_viterbi_accuracy: 0.99 - ETA: 52s - loss: 10.8090 - crf_viterbi_accuracy: 0.99 - ETA: 51s - loss: 10.8117 - crf_viterbi_accuracy: 0.99 - ETA: 50s - loss: 10.7952 - crf_viterbi_accuracy: 0.99 - ETA: 49s - loss: 10.8268 - crf_viterbi_accuracy: 0.99 - ETA: 48s - loss: 10.8110 - crf_viterbi_accuracy: 0.99 - ETA: 46s - loss: 10.8138 - crf_viterbi_accuracy: 0.99 - ETA: 45s - loss: 10.8023 - crf_viterbi_accuracy: 0.99 - ETA: 44s - loss: 10.7814 - crf_viterbi_accuracy: 0.99 - ETA: 43s - loss: 10.7659 - crf_viterbi_accuracy: 0.99 - ETA: 42s - loss: 10.8295 - crf_viterbi_accuracy: 0.99 - ETA: 40s - loss: 10.8328 - crf_viterbi_accuracy: 0.99 - ETA: 39s - loss: 10.8932 - crf_viterbi_accuracy: 0.99 - ETA: 38s - loss: 10.8644 - crf_viterbi_accuracy: 0.99 - ETA: 37s - loss: 10.8421 - crf_viterbi_accuracy: 0.99 - ETA: 36s - loss: 10.8782 - crf_viterbi_accuracy: 0.99 - ETA: 34s - loss: 10.8719 - crf_viterbi_accuracy: 0.99 - ETA: 33s - loss: 10.8785 - crf_viterbi_accuracy: 0.99 - ETA: 32s - loss: 10.8680 - crf_viterbi_accuracy: 0.99 - ETA: 31s - loss: 10.8873 - crf_viterbi_accuracy: 0.99 - ETA: 30s - loss: 10.8763 - crf_viterbi_accuracy: 0.99 - ETA: 28s - loss: 10.8854 - crf_viterbi_accuracy: 0.99 - ETA: 27s - loss: 10.8500 - crf_viterbi_accuracy: 0.99 - ETA: 26s - loss: 10.8558 - crf_viterbi_accuracy: 0.99 - ETA: 25s - loss: 10.8436 - crf_viterbi_accuracy: 0.99 - ETA: 24s - loss: 10.8420 - crf_viterbi_accuracy: 0.99 - ETA: 23s - loss: 10.8379 - crf_viterbi_accuracy: 0.99 - ETA: 21s - loss: 10.8523 - crf_viterbi_accuracy: 0.99 - ETA: 20s - loss: 10.8257 - crf_viterbi_accuracy: 0.99 - ETA: 19s - loss: 10.8301 - crf_viterbi_accuracy: 0.99 - ETA: 18s - loss: 10.8413 - crf_viterbi_accuracy: 0.99 - ETA: 17s - loss: 10.8381 - crf_viterbi_accuracy: 0.99 - ETA: 16s - loss: 10.8330 - crf_viterbi_accuracy: 0.99 - ETA: 14s - loss: 10.8271 - crf_viterbi_accuracy: 0.99 - ETA: 13s - loss: 10.8217 - crf_viterbi_accuracy: 0.99 - ETA: 12s - loss: 10.7881 - crf_viterbi_accuracy: 0.99 - ETA: 11s - loss: 10.7931 - crf_viterbi_accuracy: 0.99 - ETA: 10s - loss: 10.7857 - crf_viterbi_accuracy: 0.99 - ETA: 9s - loss: 10.7801 - crf_viterbi_accuracy: 0.9998 - ETA: 7s - loss: 10.8007 - crf_viterbi_accuracy: 0.999 - ETA: 6s - loss: 10.7939 - crf_viterbi_accuracy: 0.999 - ETA: 5s - loss: 10.7977 - crf_viterbi_accuracy: 0.999 - ETA: 4s - loss: 10.7965 - crf_viterbi_accuracy: 0.999 - ETA: 3s - loss: 10.8015 - crf_viterbi_accuracy: 0.999 - ETA: 2s - loss: 10.8014 - crf_viterbi_accuracy: 0.999 - ETA: 1s - loss: 10.7847 - crf_viterbi_accuracy: 0.999 - 91s 23ms/step - loss: 10.7693 - crf_viterbi_accuracy: 0.9998 - val_loss: 11.9425 - val_crf_viterbi_accuracy: 0.9745\n",
      "\n",
      "Epoch 00020: loss did not improve from 10.76912\n"
     ]
    }
   ],
   "source": [
    "history = model.fit(X_train, np.array(y_train), batch_size=batch_size, epochs=epochs,\n",
    "                    validation_split=0.1,callbacks=callbacks_list)"
   ]
  },
  {
   "cell_type": "code",
   "execution_count": 21,
   "metadata": {},
   "outputs": [
    {
     "data": {
      "text/plain": [
       "<matplotlib.legend.Legend at 0x1f386fd2940>"
      ]
     },
     "execution_count": 21,
     "metadata": {},
     "output_type": "execute_result"
    },
    {
     "data": {
      "image/png": "[encoded data removed]",
      "text/plain": [
       "<Figure size 576x576 with 1 Axes>"
      ]
     },
     "metadata": {
      "needs_background": "light"
     },
     "output_type": "display_data"
    }
   ],
   "source": [
    "acc = history.history['crf_viterbi_accuracy']\n",
    "val_acc = history.history['val_crf_viterbi_accuracy']\n",
    "loss = history.history['loss']\n",
    "val_loss = history.history['val_loss']\n",
    "plt.figure(figsize = (8, 8))\n",
    "epochs = range(1, len(acc) + 1)\n",
    "plt.plot(epochs, acc, 'bo', label='Training acc')\n",
    "plt.plot(epochs, val_acc, 'b', label='Validation acc')\n",
    "plt.title('Training and validation accuracy')\n",
    "plt.legend()"
   ]
  },
  {
   "cell_type": "code",
   "execution_count": 22,
   "metadata": {},
   "outputs": [
    {
     "data": {
      "image/png": "[encoded data removed]",
      "text/plain": [
       "<Figure size 576x576 with 1 Axes>"
      ]
     },
     "metadata": {
      "needs_background": "light"
     },
     "output_type": "display_data"
    }
   ],
   "source": [
    "plt.figure(figsize = (8, 8))\n",
    "plt.plot(epochs, loss, 'bo', label='Training loss')\n",
    "plt.plot(epochs, val_loss, 'b', label='Validation loss')\n",
    "plt.title('Training and validation loss')\n",
    "plt.legend()\n",
    "plt.show()"
   ]
  },
  {
   "cell_type": "code",
   "execution_count": 23,
   "metadata": {},
   "outputs": [],
   "source": [
    "# Evaluation\n",
    "y_pred = model.predict(X_test)\n",
    "y_pred = np.argmax(y_pred, axis=-1)\n",
    "y_test_true = np.argmax(y_test, -1)"
   ]
  },
  {
   "cell_type": "code",
   "execution_count": 24,
   "metadata": {},
   "outputs": [],
   "source": [
    "# Convert the index to tag\n",
    "y_pred = [[idx2tag[i] for i in row] for row in y_pred]\n",
    "y_test_true = [[idx2tag[i] for i in row] for row in y_test_true] "
   ]
  },
  {
   "cell_type": "code",
   "execution_count": 25,
   "metadata": {},
   "outputs": [
    {
     "name": "stdout",
     "output_type": "stream",
     "text": [
      "F1-score is : 88.0%\n"
     ]
    }
   ],
   "source": [
    "print(\"F1-score is : {:.1%}\".format(f1_score(y_test_true, y_pred)))"
   ]
  },
  {
   "cell_type": "code",
   "execution_count": 26,
   "metadata": {},
   "outputs": [
    {
     "name": "stdout",
     "output_type": "stream",
     "text": [
      "              precision    recall  f1-score   support\n",
      "\n",
      "   B-Disease       0.77      0.78      0.78       190\n",
      "   I-Disease       0.68      0.58      0.63       165\n",
      "           O       0.98      0.99      0.99      5397\n",
      "         PAD       1.00      1.00      1.00     32780\n",
      "\n",
      "    accuracy                           1.00     38532\n",
      "   macro avg       0.86      0.84      0.85     38532\n",
      "weighted avg       1.00      1.00      1.00     38532\n",
      "\n"
     ]
    }
   ],
   "source": [
    "report = flat_classification_report(y_pred=y_pred, y_true=y_test_true)\n",
    "print(report)"
   ]
  },
  {
   "cell_type": "code",
   "execution_count": 27,
   "metadata": {},
   "outputs": [
    {
     "name": "stdout",
     "output_type": "stream",
     "text": [
      "[1, 19, 1, 2672, 7, 17, 6121, 3, 1, 2692, 7, 13, 1, 982, 3, 539, 7400, 22] [1, 3, 1, 30, 123, 3, 982, 32, 150, 13, 1, 2515, 3, 1062, 324, 113, 68, 2672, 7, 17, 1, 2692, 350, 1, 3, 1, 30, 1, 22, 491, 32, 22]\n",
      "[['Clustering', 'O'], ['of', 'O'], ['missense', 'O'], ['mutations', 'O'], ['in', 'O'], ['the', 'O'], ['ataxia', 'B-Disease'], ['-', 'I-Disease'], ['telangiectasia', 'I-Disease'], ['gene', 'O'], ['in', 'O'], ['a', 'O'], ['sporadic', 'B-Disease'], ['T', 'I-Disease'], ['-', 'I-Disease'], ['cell', 'I-Disease'], ['leukaemia', 'I-Disease'], ['.', 'O']]\n",
      "[['Ataxia', 'B-Disease'], ['-', 'I-Disease'], ['telangiectasia', 'I-Disease'], ['(', 'O'], ['A', 'B-Disease'], ['-', 'I-Disease'], ['T', 'I-Disease'], [')', 'O'], ['is', 'O'], ['a', 'O'], ['recessive', 'B-Disease'], ['multi', 'I-Disease'], ['-', 'I-Disease'], ['system', 'I-Disease'], ['disorder', 'I-Disease'], ['caused', 'O'], ['by', 'O'], ['mutations', 'O'], ['in', 'O'], ['the', 'O'], ['ATM', 'O'], ['gene', 'O'], ['at', 'O'], ['11q22', 'O'], ['-', 'O'], ['q23', 'O'], ['(', 'O'], ['ref', 'O'], ['.', 'O'], ['3', 'O'], [')', 'O'], ['.', 'O']]\n",
      "[['The', 'O'], ['risk', 'O'], ['of', 'O'], ['cancer', 'B-Disease'], [',', 'O'], ['especially', 'O'], ['lymphoid', 'B-Disease'], ['neoplasias', 'I-Disease'], [',', 'O'], ['is', 'O'], ['substantially', 'O'], ['elevated', 'O'], ['in', 'O'], ['A', 'B-Disease'], ['-', 'I-Disease'], ['T', 'I-Disease'], ['patients', 'O'], ['and', 'O'], ['has', 'O'], ['long', 'O'], ['been', 'O'], ['associated', 'O'], ['with', 'O'], ['chromosomal', 'O'], ['instability', 'O'], ['.', 'O']]\n",
      "[['By', 'O'], ['analysing', 'O'], ['tumour', 'B-Disease'], ['DNA', 'O'], ['from', 'O'], ['patients', 'O'], ['with', 'O'], ['sporadic', 'B-Disease'], ['T', 'I-Disease'], ['-', 'I-Disease'], ['cell', 'I-Disease'], ['prolymphocytic', 'I-Disease'], ['leukaemia', 'I-Disease'], ['(', 'O'], ['T', 'B-Disease'], ['-', 'I-Disease'], ['PLL', 'I-Disease'], [')', 'O'], [',', 'O'], ['a', 'O'], ['rare', 'O'], ['clonal', 'B-Disease'], ['malignancy', 'I-Disease'], ['with', 'O'], ['similarities', 'O'], ['to', 'O'], ['a', 'O'], ['mature', 'B-Disease'], ['T', 'I-Disease'], ['-', 'I-Disease'], ['cell', 'I-Disease'], ['leukaemia', 'I-Disease'], ['seen', 'O'], ['in', 'O'], ['A', 'B-Disease'], ['-', 'I-Disease'], ['T', 'I-Disease'], [',', 'O'], ['we', 'O'], ['demonstrate', 'O'], ['a', 'O'], ['high', 'O'], ['frequency', 'O'], ['of', 'O'], ['ATM', 'O'], ['mutations', 'O'], ['in', 'O'], ['T', 'B-Disease'], ['-', 'I-Disease'], ['PLL', 'I-Disease'], ['.', 'O']]\n",
      "[['In', 'O'], ['marked', 'O'], ['contrast', 'O'], ['to', 'O'], ['the', 'O'], ['ATM', 'O'], ['mutation', 'O'], ['pattern', 'O'], ['in', 'O'], ['A', 'B-Disease'], ['-', 'I-Disease'], ['T', 'I-Disease'], [',', 'O'], ['the', 'O'], ['most', 'O'], ['frequent', 'O'], ['nucleotide', 'O'], ['changes', 'O'], ['in', 'O'], ['this', 'O'], ['leukaemia', 'B-Disease'], ['were', 'O'], ['missense', 'O'], ['mutations', 'O'], ['.', 'O']]\n",
      "[['These', 'O'], ['clustered', 'O'], ['in', 'O'], ['the', 'O'], ['region', 'O'], ['corresponding', 'O'], ['to', 'O'], ['the', 'O'], ['kinase', 'O'], ['domain', 'O'], [',', 'O'], ['which', 'O'], ['is', 'O'], ['highly', 'O'], ['conserved', 'O'], ['in', 'O'], ['ATM', 'O'], ['-', 'O'], ['related', 'O'], ['proteins', 'O'], ['in', 'O'], ['mouse', 'O'], [',', 'O'], ['yeast', 'O'], ['and', 'O'], ['Drosophila', 'O'], ['.', 'O']]\n",
      "[1, 1, 1, 1, 1, 1, 2, 3, 3, 1, 1, 1, 2, 3, 3, 3, 3, 1]\n",
      "3\n"
     ]
    }
   ],
   "source": [
    "tsvfile=open(\"NCBI-disease-IOB/test.tsv\",encoding=\"utf-8\")\n",
    "tsvreader = csv.reader(tsvfile, delimiter=\"\\t\")\n",
    "data1=[]\n",
    "sentences1=[]\n",
    "words1=[]\n",
    "tags1=[]\n",
    "for line in tsvreader:\n",
    "    if line!=[]:\n",
    "        data1.append(line)\n",
    "        if line[0] not in words1:\n",
    "            words1.append(line[0])\n",
    "        if line[1] not in tags1:\n",
    "            tags1.append(line[1])\n",
    "    else:\n",
    "        sentences1.append(data1)\n",
    "        data1=[]\n",
    "\n",
    "X1 = [[word_to_index[w[0] if w[0] in words else \"UNK\"] for w in s] for s in sentences1]\n",
    "print(X1[0],X1[1])\n",
    "count=0\n",
    "for s in sentences1:\n",
    "    print(s)\n",
    "    count=count+1\n",
    "    if count>5:\n",
    "        break\n",
    "# Padding each sequence to have same length  of each word\n",
    "X1 = pad_sequences(maxlen = max_len, sequences = X1, padding = \"post\", value = word_to_index[\"PAD\"])\n",
    "y1 = [[tag_to_index[w[1]] for w in s] for s in sentences1]\n",
    "print(y1[0])\n",
    "# padding\n",
    "y1 = pad_sequences(maxlen = max_len, sequences = y1, padding = \"post\", value = tag_to_index[\"PAD\"])\n",
    "num_tag = 3\n",
    "print(num_tag)\n",
    "# One hot encoded labels\n",
    "y1=[to_categorical(i, num_classes = num_tag + 1) for i in y1]"
   ]
  },
  {
   "cell_type": "code",
   "execution_count": 28,
   "metadata": {},
   "outputs": [],
   "source": [
    "y_pred = model.predict(X1)\n",
    "y_pred = np.argmax(y_pred, axis=-1)\n",
    "y_test_true = np.argmax(y1, -1)"
   ]
  },
  {
   "cell_type": "code",
   "execution_count": 29,
   "metadata": {},
   "outputs": [],
   "source": [
    "y_pred = [[idx2tag[i] for i in row] for row in y_pred]\n",
    "y_test_true = [[idx2tag[i] for i in row] for row in y_test_true] "
   ]
  },
  {
   "cell_type": "code",
   "execution_count": 30,
   "metadata": {},
   "outputs": [
    {
     "name": "stdout",
     "output_type": "stream",
     "text": [
      "F1-score is : 67.7%\n"
     ]
    }
   ],
   "source": [
    "print(\"F1-score is : {:.1%}\".format(f1_score(y_test_true, y_pred)))"
   ]
  },
  {
   "cell_type": "code",
   "execution_count": 31,
   "metadata": {},
   "outputs": [
    {
     "name": "stdout",
     "output_type": "stream",
     "text": [
      "              precision    recall  f1-score   support\n",
      "\n",
      "   B-Disease       0.48      0.39      0.43       960\n",
      "   I-Disease       0.54      0.45      0.49      1087\n",
      "           O       0.95      0.97      0.96     22441\n",
      "         PAD       1.00      1.00      1.00    134203\n",
      "\n",
      "    accuracy                           0.99    158691\n",
      "   macro avg       0.74      0.70      0.72    158691\n",
      "weighted avg       0.99      0.99      0.99    158691\n",
      "\n"
     ]
    }
   ],
   "source": [
    "report = flat_classification_report(y_pred=y_pred, y_true=y_test_true)\n",
    "print(report)"
   ]
  },
  {
   "cell_type": "code",
   "execution_count": 32,
   "metadata": {},
   "outputs": [
    {
     "name": "stdout",
     "output_type": "stream",
     "text": [
      "0.32954545454545453\n",
      "0.33403141361256544\n",
      "0.3317732709308372\n",
      "[[319, 649], [636, 20845]]\n"
     ]
    }
   ],
   "source": [
    "TP=0\n",
    "TN=0\n",
    "FP=0\n",
    "FN=0\n",
    "i=0\n",
    "nument=0\n",
    "while i<len(y_test_true):\n",
    "    j=0\n",
    "    #print(i)\n",
    "    while j <len(y_test_true[i]):\n",
    "        #print('j ',j)\n",
    "        if y_test_true[i][j]=='B-Disease':\n",
    "            st=j\n",
    "            nument=nument+1\n",
    "            j=j+1\n",
    "            while (y_test_true[i][j]=='I-Disease' or y_test_true[i][j]=='E-Disease') and j<len(y_test_true[i]):\n",
    "                j=j+1\n",
    "                #print('inside ',j)\n",
    "            end=j\n",
    "            if y_test_true[i][st:end]==y_pred[i][st:end]:\n",
    "                TP=TP+1\n",
    "            else:\n",
    "                FN=FN+1\n",
    "        elif y_test_true[i][j]=='O' and y_pred[i][j]=='O':\n",
    "            TN=TN+1\n",
    "            \n",
    "        elif y_test_true[i][j]=='O' and y_pred[i][j]!='O':\n",
    "            FP=FP+1\n",
    "            \n",
    "        j=j+1\n",
    "        \n",
    "    i=i+1\n",
    "    \n",
    "Precision=TP/(TP+FP)\n",
    "print(Precision)\n",
    "Recall=TP/(TP+FN)\n",
    "print(Recall)\n",
    "F1=(2*Precision*Recall)/(Precision+Recall)\n",
    "print(F1)\n",
    "mat=[[TP,FP],[FN,TN]]\n",
    "print(mat)"
   ]
  },
  {
   "cell_type": "code",
   "execution_count": 33,
   "metadata": {},
   "outputs": [
    {
     "name": "stdout",
     "output_type": "stream",
     "text": [
      "0.40129151291512916\n",
      "0.45549738219895286\n",
      "0.42667974497302597\n",
      "[[435, 649], [520, 20845]]\n"
     ]
    }
   ],
   "source": [
    "TP=0\n",
    "TN=0\n",
    "FP=0\n",
    "FN=0\n",
    "i=0\n",
    "nument=0\n",
    "while i<len(y_test_true):\n",
    "    j=0\n",
    "    #print(i)\n",
    "    while j <len(y_test_true[i]):\n",
    "        #print('j ',j)\n",
    "        if y_test_true[i][j]=='B-Disease':\n",
    "            st=j\n",
    "            nument=nument+1\n",
    "            j=j+1\n",
    "            while (y_test_true[i][j]=='I-Disease' or y_test_true[i][j]=='E-Disease') and j<len(y_test_true[i]):\n",
    "                j=j+1\n",
    "                #print('inside ',j)\n",
    "            end=j\n",
    "            found=0\n",
    "            for k in range(st,end):\n",
    "                if y_test_true[i][k]==y_pred[i][k]:\n",
    "                    found=1\n",
    "                    break\n",
    "            if found==1:\n",
    "                TP=TP+1\n",
    "            else:\n",
    "                FN=FN+1\n",
    "            '''if y_test_true[i][st:end]==y_pred[i][st:end]:\n",
    "                TP=TP+1'''\n",
    "            \n",
    "        elif y_test_true[i][j]=='O' and y_pred[i][j]=='O':\n",
    "            TN=TN+1\n",
    "            \n",
    "        elif y_test_true[i][j]=='O' and y_pred[i][j]!='O':\n",
    "            FP=FP+1\n",
    "            \n",
    "        j=j+1\n",
    "        \n",
    "    i=i+1\n",
    "    \n",
    "Precision=TP/(TP+FP)\n",
    "print(Precision)\n",
    "Recall=TP/(TP+FN)\n",
    "print(Recall)\n",
    "F1=(2*Precision*Recall)/(Precision+Recall)\n",
    "print(F1)\n",
    "mat=[[TP,FP],[FN,TN]]\n",
    "print(mat)"
   ]
  },
  {
   "cell_type": "code",
   "execution_count": null,
   "metadata": {},
   "outputs": [],
   "source": []
  },
  {
   "cell_type": "code",
   "execution_count": null,
   "metadata": {},
   "outputs": [],
   "source": []
  }
 ],
 "metadata": {
  "kernelspec": {
   "display_name": "Python 3",
   "language": "python",
   "name": "python3"
  },
  "language_info": {
   "codemirror_mode": {
    "name": "ipython",
    "version": 3
   },
   "file_extension": ".py",
   "mimetype": "text/x-python",
   "name": "python",
   "nbconvert_exporter": "python",
   "pygments_lexer": "ipython3",
   "version": "3.7.0"
  }
 },
 "nbformat": 4,
 "nbformat_minor": 2
}
