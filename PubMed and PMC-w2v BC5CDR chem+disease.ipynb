{
 "cells": [
  {
   "cell_type": "code",
   "execution_count": 6,
   "metadata": {
    "colab": {
     "base_uri": "https://localhost:8080/",
     "height": 35
    },
    "colab_type": "code",
    "executionInfo": {
     "elapsed": 1289,
     "status": "ok",
     "timestamp": 1574902361062,
     "user": {
      "displayName": "Anant Bhavsar",
      "photoUrl": "",
      "userId": "10842212189610618468"
     },
     "user_tz": -330
    },
    "id": "ARlAq1RUWNfn",
    "outputId": "62435f48-cfc6-4b2f-f83d-e33afee41e08"
   },
   "outputs": [
    {
     "name": "stdout",
     "output_type": "stream",
     "text": [
      "Drive already mounted at /content/drive; to attempt to forcibly remount, call drive.mount(\"/content/drive\", force_remount=True).\n"
     ]
    }
   ],
   "source": [
    "import pandas as pd\n",
    "import numpy as np\n",
    "import keras_contrib\n",
    "from keras.preprocessing.sequence import pad_sequences\n",
    "from keras.utils import to_categorical\n",
    "from keras.layers import LSTM, Dense, TimeDistributed, Embedding, Bidirectional\n",
    "from keras.models import Model, Input\n",
    "from keras_contrib.layers import CRF\n",
    "from keras.callbacks import ModelCheckpoint\n",
    "from keras.initializers import Constant\n",
    "import csv\n",
    "import warnings\n",
    "warnings.filterwarnings(\"ignore\")\n",
    "import random\n",
    "random.seed(10)\n",
    "from sklearn.model_selection import train_test_split\n",
    "import matplotlib.pyplot as plt\n",
    "%matplotlib inline\n",
    "import os\n",
    "\n",
    "from sklearn_crfsuite.metrics import flat_classification_report\n",
    "from sklearn.metrics import f1_score\n",
    "from seqeval.metrics import precision_score, recall_score, f1_score, classification_report\n",
    "from sklearn.metrics import confusion_matrix\n",
    "from sklearn.utils.multiclass import unique_labels\n",
    "from keras.preprocessing.text import text_to_word_sequence\n",
    "from gensim.models.keyedvectors import KeyedVectors"
   ]
  },
  {
   "cell_type": "code",
   "execution_count": null,
   "metadata": {
    "colab": {
     "base_uri": "https://localhost:8080/",
     "height": 243
    },
    "colab_type": "code",
    "executionInfo": {
     "elapsed": 3689,
     "status": "error",
     "timestamp": 1574902351578,
     "user": {
      "displayName": "Anant Bhavsar",
      "photoUrl": "",
      "userId": "10842212189610618468"
     },
     "user_tz": -330
    },
    "id": "G3-6XQZvWEUU",
    "outputId": "612cb227-95df-44f4-c135-52ebc7598972"
   },
   "outputs": [],
   "source": [
    "tsvfile=open(\"BC5CDR-IOB/train.tsv\",encoding=\"utf-8\")\n",
    "tsvreader = csv.reader(tsvfile, delimiter=\"\\t\")\n",
    "data=[]\n",
    "sentences=[]\n",
    "words=[]\n",
    "tags=[]\n",
    "maxsentlen=0\n",
    "for line in tsvreader:\n",
    "    if line!=[]:\n",
    "        data.append(line)\n",
    "        if line[0] not in words:\n",
    "            words.append(line[0])\n",
    "        if line[1] not in tags:\n",
    "            tags.append(line[1])\n",
    "    else:\n",
    "        sentences.append(data)\n",
    "        if len(data)>maxsentlen:\n",
    "            maxsentlen=len(data)\n",
    "        data=[]"
   ]
  },
  {
   "cell_type": "code",
   "execution_count": 0,
   "metadata": {
    "colab": {
     "base_uri": "https://localhost:8080/",
     "height": 53
    },
    "colab_type": "code",
    "executionInfo": {
     "elapsed": 1067,
     "status": "ok",
     "timestamp": 1573488012350,
     "user": {
      "displayName": "Anant Bhavsar",
      "photoUrl": "",
      "userId": "10842212189610618468"
     },
     "user_tz": -330
    },
    "id": "u1IVTV7nWEU3",
    "outputId": "675db045-533e-4a6c-9e28-12bbed1df18e"
   },
   "outputs": [
    {
     "name": "stdout",
     "output_type": "stream",
     "text": [
      "4560\n",
      "9980\n"
     ]
    }
   ],
   "source": [
    "print(len(sentences))\n",
    "print(len(words))"
   ]
  },
  {
   "cell_type": "code",
   "execution_count": 0,
   "metadata": {
    "colab": {
     "base_uri": "https://localhost:8080/",
     "height": 90
    },
    "colab_type": "code",
    "executionInfo": {
     "elapsed": 1984,
     "status": "ok",
     "timestamp": 1573488014608,
     "user": {
      "displayName": "Anant Bhavsar",
      "photoUrl": "",
      "userId": "10842212189610618468"
     },
     "user_tz": -330
    },
    "id": "a9p87RdNWEVf",
    "outputId": "053944e4-b7fc-4796-a621-506707a4d991"
   },
   "outputs": [
    {
     "name": "stdout",
     "output_type": "stream",
     "text": [
      "2\n",
      "1\n",
      "Selegiline\n",
      "6\n"
     ]
    }
   ],
   "source": [
    "word_to_index = {w : i + 2 for i, w in enumerate(words)}\n",
    "print(word_to_index[words[0]])\n",
    "word_to_index[\"UNK\"] = 1\n",
    "word_to_index[\"PAD\"] = 0\n",
    "\n",
    "# Dictionary lable:index pair\n",
    "# label is key and value is index.\n",
    "tag_to_index = {t : i + 1 for i, t in enumerate(tags)}\n",
    "print(tag_to_index[tags[0]])\n",
    "\n",
    "tag_to_index[\"PAD\"] = 0\n",
    "\n",
    "idx2word = {i: w for w, i in word_to_index.items()}\n",
    "print(idx2word[2])\n",
    "idx2tag = {i: w for w, i in tag_to_index.items()}\n",
    "print(len(tag_to_index))"
   ]
  },
  {
   "cell_type": "code",
   "execution_count": 0,
   "metadata": {
    "colab": {},
    "colab_type": "code",
    "id": "MgkRWpqnWEWP"
   },
   "outputs": [],
   "source": [
    "# Number of data points passed in each iteration\n",
    "batch_size =50\n",
    "# Passes through entire dataset\n",
    "epochs = 30\n",
    "# Maximum length of review\n",
    "max_len = maxsentlen+15\n",
    "# Dimension of embedding vector\n",
    "embedding_dim= 200"
   ]
  },
  {
   "cell_type": "code",
   "execution_count": 0,
   "metadata": {
    "colab": {
     "base_uri": "https://localhost:8080/",
     "height": 164
    },
    "colab_type": "code",
    "executionInfo": {
     "elapsed": 4594,
     "status": "ok",
     "timestamp": 1573491547281,
     "user": {
      "displayName": "Anant Bhavsar",
      "photoUrl": "",
      "userId": "10842212189610618468"
     },
     "user_tz": -330
    },
    "id": "_EuoNKazWEWr",
    "outputId": "84937ae2-9874-4c5e-88ad-8c1398e54e60"
   },
   "outputs": [
    {
     "name": "stdout",
     "output_type": "stream",
     "text": [
      "[2, 3, 4, 5, 6, 7, 8, 9, 10, 11, 12, 13, 14, 15, 16, 17, 18, 19, 20, 21, 22] [23, 12, 24, 25, 26, 8, 9, 10, 27, 28, 29, 30, 31, 32, 33, 34, 35, 36, 37, 7, 38, 39, 8, 9, 10, 11, 30, 40, 32, 41, 42, 43, 44, 45, 46, 47, 48, 49, 50, 3, 51, 52, 39, 53, 54, 50, 3, 51, 55, 22]\n",
      "[['Selegiline', 'B-Chemical'], ['-', 'O'], ['induced', 'O'], ['postural', 'B-Disease'], ['hypotension', 'I-Disease'], ['in', 'O'], ['Parkinson', 'B-Disease'], [\"'\", 'I-Disease'], ['s', 'I-Disease'], ['disease', 'I-Disease'], [':', 'O'], ['a', 'O'], ['longitudinal', 'O'], ['study', 'O'], ['on', 'O'], ['the', 'O'], ['effects', 'O'], ['of', 'O'], ['drug', 'O'], ['withdrawal', 'O'], ['.', 'O']]\n",
      "[['OBJECTIVES', 'O'], [':', 'O'], ['The', 'O'], ['United', 'O'], ['Kingdom', 'O'], ['Parkinson', 'B-Disease'], [\"'\", 'I-Disease'], ['s', 'I-Disease'], ['Disease', 'I-Disease'], ['Research', 'O'], ['Group', 'O'], ['(', 'O'], ['UKPDRG', 'O'], [')', 'O'], ['trial', 'O'], ['found', 'O'], ['an', 'O'], ['increased', 'O'], ['mortality', 'O'], ['in', 'O'], ['patients', 'O'], ['with', 'O'], ['Parkinson', 'B-Disease'], [\"'\", 'I-Disease'], ['s', 'I-Disease'], ['disease', 'I-Disease'], ['(', 'O'], ['PD', 'B-Disease'], [')', 'O'], ['randomized', 'O'], ['to', 'O'], ['receive', 'O'], ['10', 'O'], ['mg', 'O'], ['selegiline', 'B-Chemical'], ['per', 'O'], ['day', 'O'], ['and', 'O'], ['L', 'B-Chemical'], ['-', 'I-Chemical'], ['dopa', 'I-Chemical'], ['compared', 'O'], ['with', 'O'], ['those', 'O'], ['taking', 'O'], ['L', 'B-Chemical'], ['-', 'I-Chemical'], ['dopa', 'I-Chemical'], ['alone', 'O'], ['.', 'O']]\n",
      "[['Recently', 'O'], [',', 'O'], ['we', 'O'], ['found', 'O'], ['that', 'O'], ['therapy', 'O'], ['with', 'O'], ['selegiline', 'B-Chemical'], ['and', 'O'], ['L', 'B-Chemical'], ['-', 'I-Chemical'], ['dopa', 'I-Chemical'], ['was', 'O'], ['associated', 'O'], ['with', 'O'], ['selective', 'O'], ['systolic', 'B-Disease'], ['orthostatic', 'I-Disease'], ['hypotension', 'I-Disease'], ['which', 'O'], ['was', 'O'], ['abolished', 'O'], ['by', 'O'], ['withdrawal', 'O'], ['of', 'O'], ['selegiline', 'B-Chemical'], ['.', 'O']]\n",
      "[['This', 'O'], ['unwanted', 'O'], ['effect', 'O'], ['on', 'O'], ['postural', 'O'], ['blood', 'O'], ['pressure', 'O'], ['was', 'O'], ['not', 'O'], ['the', 'O'], ['result', 'O'], ['of', 'O'], ['underlying', 'O'], ['autonomic', 'O'], ['failure', 'O'], ['.', 'O']]\n",
      "[['The', 'O'], ['aims', 'O'], ['of', 'O'], ['this', 'O'], ['study', 'O'], ['were', 'O'], ['to', 'O'], ['confirm', 'O'], ['our', 'O'], ['previous', 'O'], ['findings', 'O'], ['in', 'O'], ['a', 'O'], ['separate', 'O'], ['cohort', 'O'], ['of', 'O'], ['patients', 'O'], ['and', 'O'], ['to', 'O'], ['determine', 'O'], ['the', 'O'], ['time', 'O'], ['course', 'O'], ['of', 'O'], ['the', 'O'], ['cardiovascular', 'O'], ['consequences', 'O'], ['of', 'O'], ['stopping', 'O'], ['selegiline', 'B-Chemical'], ['in', 'O'], ['the', 'O'], ['expectation', 'O'], ['that', 'O'], ['this', 'O'], ['might', 'O'], ['shed', 'O'], ['light', 'O'], ['on', 'O'], ['the', 'O'], ['mechanisms', 'O'], ['by', 'O'], ['which', 'O'], ['the', 'O'], ['drug', 'O'], ['causes', 'O'], ['orthostatic', 'B-Disease'], ['hypotension', 'I-Disease'], ['.', 'O']]\n",
      "[['METHODS', 'O'], [':', 'O'], ['The', 'O'], ['cardiovascular', 'O'], ['responses', 'O'], ['to', 'O'], ['standing', 'O'], ['and', 'O'], ['head', 'O'], ['-', 'O'], ['up', 'O'], ['tilt', 'O'], ['were', 'O'], ['studied', 'O'], ['repeatedly', 'O'], ['in', 'O'], ['PD', 'B-Disease'], ['patients', 'O'], ['receiving', 'O'], ['selegiline', 'B-Chemical'], ['and', 'O'], ['as', 'O'], ['the', 'O'], ['drug', 'O'], ['was', 'O'], ['withdrawn', 'O'], ['.', 'O']]\n"
     ]
    }
   ],
   "source": [
    "X = [[word_to_index[w[0]] for w in s] for s in sentences]\n",
    "print(X[0],X[1])\n",
    "count=0\n",
    "for s in sentences:\n",
    "    print(s)\n",
    "    count=count+1\n",
    "    if count>5:\n",
    "        break\n",
    "# Padding each sequence to have same length  of each word\n",
    "X = pad_sequences(maxlen = max_len, sequences = X, padding = \"post\", value = word_to_index[\"PAD\"])"
   ]
  },
  {
   "cell_type": "code",
   "execution_count": 0,
   "metadata": {
    "colab": {
     "base_uri": "https://localhost:8080/",
     "height": 181
    },
    "colab_type": "code",
    "executionInfo": {
     "elapsed": 4446,
     "status": "ok",
     "timestamp": 1573491547283,
     "user": {
      "displayName": "Anant Bhavsar",
      "photoUrl": "",
      "userId": "10842212189610618468"
     },
     "user_tz": -330
    },
    "id": "z7cjgZ5OWEXB",
    "outputId": "32553de3-7b40-410b-9ec6-c97f458d9311"
   },
   "outputs": [
    {
     "name": "stdout",
     "output_type": "stream",
     "text": [
      "[ 2  3  4  5  6  7  8  9 10 11 12 13 14 15 16 17 18 19 20 21 22  0  0  0\n",
      "  0  0  0  0  0  0  0  0  0  0  0  0  0  0  0  0  0  0  0  0  0  0  0  0\n",
      "  0  0  0  0  0  0  0  0  0  0  0  0  0  0  0  0  0  0  0  0  0  0  0  0\n",
      "  0  0  0  0  0  0  0  0  0  0  0  0  0  0  0  0  0  0  0  0  0  0  0  0\n",
      "  0  0  0  0  0  0  0  0  0  0  0  0  0  0  0  0  0  0  0  0  0  0  0  0\n",
      "  0  0  0  0  0  0  0  0  0  0  0  0  0  0  0  0  0  0  0  0  0  0  0  0\n",
      "  0  0  0  0  0  0  0  0  0  0  0  0  0  0  0  0  0  0  0  0  0  0  0  0\n",
      "  0]\n"
     ]
    },
    {
     "data": {
      "text/plain": [
       "169"
      ]
     },
     "execution_count": 184,
     "metadata": {
      "tags": []
     },
     "output_type": "execute_result"
    }
   ],
   "source": [
    "print(X[0])\n",
    "len(X[0])"
   ]
  },
  {
   "cell_type": "code",
   "execution_count": 0,
   "metadata": {
    "colab": {
     "base_uri": "https://localhost:8080/",
     "height": 35
    },
    "colab_type": "code",
    "executionInfo": {
     "elapsed": 4230,
     "status": "ok",
     "timestamp": 1573491547283,
     "user": {
      "displayName": "Anant Bhavsar",
      "photoUrl": "",
      "userId": "10842212189610618468"
     },
     "user_tz": -330
    },
    "id": "9mBsa7QDWEXU",
    "outputId": "7d3d17ef-a5b9-4e1a-aa7d-ac29d4781d21"
   },
   "outputs": [
    {
     "name": "stdout",
     "output_type": "stream",
     "text": [
      "[1, 2, 2, 3, 4, 2, 3, 4, 4, 4, 2, 2, 2, 2, 2, 2, 2, 2, 2, 2, 2]\n"
     ]
    }
   ],
   "source": [
    "# Convert label to index\n",
    "y = [[tag_to_index[w[1]] for w in s] for s in sentences]\n",
    "print(y[0])\n",
    "# padding\n",
    "y = pad_sequences(maxlen = max_len, sequences = y, padding = \"post\", value = tag_to_index[\"PAD\"])"
   ]
  },
  {
   "cell_type": "code",
   "execution_count": 0,
   "metadata": {
    "colab": {
     "base_uri": "https://localhost:8080/",
     "height": 72
    },
    "colab_type": "code",
    "executionInfo": {
     "elapsed": 3991,
     "status": "ok",
     "timestamp": 1573491547284,
     "user": {
      "displayName": "Anant Bhavsar",
      "photoUrl": "",
      "userId": "10842212189610618468"
     },
     "user_tz": -330
    },
    "id": "X2fyCjskWEXk",
    "outputId": "ed8858e9-b3b5-4549-c22f-a2e88bee28eb"
   },
   "outputs": [
    {
     "name": "stdout",
     "output_type": "stream",
     "text": [
      "5\n",
      "[0. 0. 1. 0. 0. 0.] [0. 0. 1. 0. 0. 0.]\n",
      "6\n"
     ]
    }
   ],
   "source": [
    "num_tag = 5\n",
    "print(num_tag)\n",
    "# One hot encoded labels\n",
    "y = [to_categorical(i, num_classes = num_tag + 1) for i in y]\n",
    "print(y[0][1],y[0][18])\n",
    "print(len(y[0][1]))"
   ]
  },
  {
   "cell_type": "code",
   "execution_count": 0,
   "metadata": {
    "colab": {
     "base_uri": "https://localhost:8080/",
     "height": 235
    },
    "colab_type": "code",
    "executionInfo": {
     "elapsed": 3297,
     "status": "ok",
     "timestamp": 1573491547287,
     "user": {
      "displayName": "Anant Bhavsar",
      "photoUrl": "",
      "userId": "10842212189610618468"
     },
     "user_tz": -330
    },
    "id": "WssrPkOGWEYX",
    "outputId": "84ac0cb4-3f97-45f9-860f-82024d8779c7"
   },
   "outputs": [
    {
     "name": "stdout",
     "output_type": "stream",
     "text": [
      "*****Before Processing first sentence : *****\n",
      " Selegiline - induced postural hypotension in Parkinson ' s disease : a longitudinal study on the effects of drug withdrawal .\n",
      "*****After Processing first sentence : *****\n",
      "  [ 2  3  4  5  6  7  8  9 10 11 12 13 14 15 16 17 18 19 20 21 22  0  0  0\n",
      "  0  0  0  0  0  0  0  0  0  0  0  0  0  0  0  0  0  0  0  0  0  0  0  0\n",
      "  0  0  0  0  0  0  0  0  0  0  0  0  0  0  0  0  0  0  0  0  0  0  0  0\n",
      "  0  0  0  0  0  0  0  0  0  0  0  0  0  0  0  0  0  0  0  0  0  0  0  0\n",
      "  0  0  0  0  0  0  0  0  0  0  0  0  0  0  0  0  0  0  0  0  0  0  0  0\n",
      "  0  0  0  0  0  0  0  0  0  0  0  0  0  0  0  0  0  0  0  0  0  0  0  0\n",
      "  0  0  0  0  0  0  0  0  0  0  0  0  0  0  0  0  0  0  0  0  0  0  0  0\n",
      "  0]\n"
     ]
    },
    {
     "data": {
      "text/plain": [
       "169"
      ]
     },
     "execution_count": 189,
     "metadata": {
      "tags": []
     },
     "output_type": "execute_result"
    }
   ],
   "source": [
    "# Let's check the first sentence before and after processing.\n",
    "print('*****Before Processing first sentence : *****\\n', ' '.join([w[0] for w in sentences[0]]))\n",
    "print('*****After Processing first sentence : *****\\n ', X[0])\n",
    "len(X[0])"
   ]
  },
  {
   "cell_type": "code",
   "execution_count": 0,
   "metadata": {
    "colab": {
     "base_uri": "https://localhost:8080/",
     "height": 199
    },
    "colab_type": "code",
    "executionInfo": {
     "elapsed": 3150,
     "status": "ok",
     "timestamp": 1573491547287,
     "user": {
      "displayName": "Anant Bhavsar",
      "photoUrl": "",
      "userId": "10842212189610618468"
     },
     "user_tz": -330
    },
    "id": "_sBzOCBPWEYf",
    "outputId": "08cb8c40-8829-4046-b4e9-bac4c81729d5"
   },
   "outputs": [
    {
     "name": "stdout",
     "output_type": "stream",
     "text": [
      "*****Before Processing first sentence : *****\n",
      " B-Chemical O O B-Disease I-Disease O B-Disease I-Disease I-Disease I-Disease O O O O O O O O O O O\n",
      "*****After Processing first sentence : *****\n",
      "  [[0. 1. 0. 0. 0. 0.]\n",
      " [0. 0. 1. 0. 0. 0.]\n",
      " [0. 0. 1. 0. 0. 0.]\n",
      " ...\n",
      " [1. 0. 0. 0. 0. 0.]\n",
      " [1. 0. 0. 0. 0. 0.]\n",
      " [1. 0. 0. 0. 0. 0.]]\n"
     ]
    }
   ],
   "source": [
    "# First label before and after processing.\n",
    "print('*****Before Processing first sentence : *****\\n', ' '.join([w[1] for w in sentences[0]]))\n",
    "print('*****After Processing first sentence : *****\\n ', y[0])"
   ]
  },
  {
   "cell_type": "code",
   "execution_count": 0,
   "metadata": {
    "colab": {
     "base_uri": "https://localhost:8080/",
     "height": 55
    },
    "colab_type": "code",
    "executionInfo": {
     "elapsed": 5585,
     "status": "ok",
     "timestamp": 1573491550074,
     "user": {
      "displayName": "Anant Bhavsar",
      "photoUrl": "",
      "userId": "10842212189610618468"
     },
     "user_tz": -330
    },
    "id": "9Ohut9VvWEY0",
    "outputId": "2fe9184b-b6c3-4779-a387-579384623727"
   },
   "outputs": [
    {
     "data": {
      "text/plain": [
       "'path = \"/content/drive/My Drive/PubMed-and-PMC-w2v.bin\"\\nembedding = KeyedVectors.load_word2vec_format(path, binary=True)\\nembeddings_index={}\\nfor word in embedding.wv.vocab:\\n    emb = embedding[word]\\n    embeddings_index[word] = emb\\nprint(\\'Found %s word vectors.\\' % len(embeddings_index))'"
      ]
     },
     "execution_count": 192,
     "metadata": {
      "tags": []
     },
     "output_type": "execute_result"
    }
   ],
   "source": [
    "path = \"/content/drive/My Drive/PubMed-and-PMC-w2v.bin\"\n",
    "embedding = KeyedVectors.load_word2vec_format(path, binary=True)\n",
    "embeddings_index={}\n",
    "for word in embedding.wv.vocab:\n",
    "    emb = embedding[word]\n",
    "    embeddings_index[word] = emb\n",
    "print('Found %s word vectors.' % len(embeddings_index))"
   ]
  },
  {
   "cell_type": "code",
   "execution_count": 0,
   "metadata": {
    "colab": {
     "base_uri": "https://localhost:8080/",
     "height": 73
    },
    "colab_type": "code",
    "executionInfo": {
     "elapsed": 5328,
     "status": "ok",
     "timestamp": 1573491550075,
     "user": {
      "displayName": "Anant Bhavsar",
      "photoUrl": "",
      "userId": "10842212189610618468"
     },
     "user_tz": -330
    },
    "id": "ctTilODFAySk",
    "outputId": "c0ab3760-cb09-4606-8907-c8ceddb81883"
   },
   "outputs": [
    {
     "name": "stdout",
     "output_type": "stream",
     "text": [
      "200\n",
      "[0.07244662940502167, -0.04977263882756233, 0.3281272053718567, -0.2102334052324295, -0.11742717027664185, 0.24291102588176727, -0.06996484100818634, -0.06897718459367752, -0.13491259515285492, 0.04875615984201431, -0.12729014456272125, -0.12234103679656982, 0.022687826305627823, 0.02747674286365509, -0.018751805648207664, -0.08000161498785019, 0.07442393153905869, -0.3598812222480774, -0.02211553230881691, 0.15408138930797577, -0.2255682647228241, -0.17841845750808716, -0.036222271621227264, -0.026440801098942757, 0.07837267220020294, 0.04251278191804886, 0.20114818215370178, -0.021924637258052826, 0.3280808627605438, -0.058240972459316254, -0.059281736612319946, -0.06385412812232971, -0.36347639560699463, 0.07640442997217178, 0.02295592613518238, 0.06723490357398987, 0.2081507444381714, 0.08009510487318039, -0.18714424967765808, 0.027903886511921883, 0.012948518618941307, -0.10937636345624924, 0.1512279063463211, -0.03579825535416603, 0.38475432991981506, 0.002862297696992755, -0.3603758215904236, -0.11195658892393112, -0.17477865517139435, -0.17831110954284668, 0.07658534497022629, 0.1255670189857483, 0.0729028582572937, 0.302167683839798, 0.0908925011754036, 0.20533770322799683, 0.08488454669713974, 0.05034565553069115, -0.006512960884720087, 0.21980366110801697, 0.020278343930840492, 0.10640287399291992, -0.21914823353290558, 0.025378398597240448, 0.09195642173290253, -0.09367769211530685, 0.29076719284057617, 0.26133421063423157, -0.19042935967445374, -0.22238855063915253, 0.00012422131840139627, -0.252273827791214, -0.034822482615709305, -0.20821969211101532, -0.03536812216043472, 0.19544187188148499, 0.002616556128486991, 0.1482338160276413, -0.13166069984436035, -0.09378600120544434, 0.20213821530342102, -0.12461518496274948, -0.14117935299873352, 0.11518069356679916, -0.15358185768127441, -0.2049083560705185, -0.2785205841064453, 0.0028344052843749523, -0.15209484100341797, 0.050702519714832306, -0.0878039076924324, -0.12857909500598907, -0.0934302806854248, -0.20349685847759247, 0.013927069492638111, -0.12276795506477356, 0.1243276447057724, 0.06414289027452469, 0.46351033449172974, 0.04793376103043556, -0.05081240087747574, 0.2924104928970337, -0.2118934839963913, -0.18729916214942932, 0.09429387748241425, -0.07591287046670914, 0.007296332623809576, 0.2895832359790802, -0.0003786146698985249, -0.1281316876411438, -0.051336295902729034, -0.08994174748659134, 0.08902262151241302, -0.2031308114528656, 0.11559659987688065, -0.1288604438304901, -0.0814579427242279, 0.20488665997982025, -0.27415144443511963, -0.12374665588140488, -0.056629884988069534, -0.11344484984874725, 0.08917023986577988, -0.13216646015644073, 0.134134441614151, -0.18071486055850983, -0.013522879220545292, -0.08463729172945023, 0.0813373252749443, -0.18320858478546143, 0.009220454841852188, 0.009844494983553886, -0.3387901186943054, 0.17052114009857178, 0.07967740297317505, 0.3679947555065155, -0.0432688407599926, -0.14259324967861176, -0.00443534180521965, -0.024023644626140594, 0.02868478000164032, 0.46667173504829407, 0.09804368764162064, -0.08899696171283722, -0.03751107677817345, 0.09548158198595047, 0.2220546454191208, -0.05576779320836067, 0.0865132063627243, 0.22191813588142395, 0.002216033171862364, 0.19071462750434875, 0.05382349714636803, -0.1991766393184662, 0.0668938010931015, 0.13464483618736267, 0.16335053741931915, -0.1152556762099266, -0.15665733814239502, 0.046707600355148315, -0.05762167647480965, 0.1889873594045639, -0.06076949089765549, 0.3155082166194916, 0.28745946288108826, -0.02868514135479927, -0.16982488334178925, 0.11978431046009064, 0.2337896078824997, -0.02930930256843567, -0.02646169811487198, -0.47350531816482544, -0.11872559040784836, -0.02187734842300415, -0.10133203864097595, -0.012815591879189014, -0.1645852029323578, -0.029895925894379616, -0.07452843338251114, 0.014559447765350342, -0.1784965544939041, 0.009228122420608997, -0.28745782375335693, 0.1387239247560501, 0.1486082673072815, 0.019658571109175682, -0.20461808145046234, -0.007792739197611809, 0.3197847604751587, -0.09745200723409653, 0.29446154832839966, -0.05260678380727768, -0.0553971529006958, 0.16212880611419678, -0.21955759823322296, -0.0697338730096817, -0.4000991880893707, 0.020690500736236572, -0.16250644624233246, 0.16391277313232422]\n"
     ]
    }
   ],
   "source": [
    "emb=embedding['gene'].tolist()\n",
    "print(len(emb))\n",
    "print(emb)"
   ]
  },
  {
   "cell_type": "code",
   "execution_count": 0,
   "metadata": {
    "colab": {},
    "colab_type": "code",
    "id": "KFfUTA7eWEY7"
   },
   "outputs": [],
   "source": [
    "num_words=len(word_to_index) + 1\n",
    "embedding_matrix = np.zeros((len(words)+2, embedding_dim))\n",
    "for word, i in word_to_index.items():\n",
    "    embedding_vector = embeddings_index.get(word)\n",
    "    if embedding_vector is not None:\n",
    "        # words not found in embedding index will be all-zeros.\n",
    "        embedding_matrix[i] = embedding_vector"
   ]
  },
  {
   "cell_type": "code",
   "execution_count": 0,
   "metadata": {
    "colab": {},
    "colab_type": "code",
    "id": "N6MRYkYKWEZC"
   },
   "outputs": [],
   "source": [
    "embedding_layer = Embedding(len(words)+2,\n",
    "                            embedding_dim,\n",
    "                            embeddings_initializer=Constant(embedding_matrix),\n",
    "                            input_length=max_len,\n",
    "                            trainable=False)"
   ]
  },
  {
   "cell_type": "code",
   "execution_count": null,
   "metadata": {
    "colab": {
     "base_uri": "https://localhost:8080/",
     "height": 344
    },
    "colab_type": "code",
    "executionInfo": {
     "elapsed": 7209,
     "status": "ok",
     "timestamp": 1573491552665,
     "user": {
      "displayName": "Anant Bhavsar",
      "photoUrl": "",
      "userId": "10842212189610618468"
     },
     "user_tz": -330
    },
    "id": "qh3Z5RR5WEZL",
    "outputId": "c3e861ab-b112-48da-b7ec-a5934329e92f"
   },
   "outputs": [],
   "source": [
    "num_tags = 5\n",
    "# Model architecture\n",
    "input = Input(shape = (max_len,))\n",
    "model=embedding_layer(input)\n",
    "model = Bidirectional(LSTM(units = 100, return_sequences=True, recurrent_dropout=0.1))(model)\n",
    "crf = CRF(num_tags+1)  # CRF layer\n",
    "out = crf(model)  # output\n",
    "\n",
    "model = Model(input, out)\n",
    "model.compile(optimizer=\"rmsprop\", loss=crf.loss_function, metrics=[crf.accuracy])\n",
    "\n",
    "#model.summary()"
   ]
  },
  {
   "cell_type": "code",
   "execution_count": 0,
   "metadata": {
    "colab": {},
    "colab_type": "code",
    "id": "XHX5Ee81WEZR"
   },
   "outputs": [],
   "source": [
    "checkpointer = ModelCheckpoint(filepath = 'model.h5',\n",
    "                       verbose = 0,\n",
    "                       mode = 'auto',\n",
    "                       save_best_only = True,\n",
    "                       monitor='val_loss')"
   ]
  },
  {
   "cell_type": "code",
   "execution_count": 0,
   "metadata": {
    "colab": {
     "base_uri": "https://localhost:8080/",
     "height": 1000
    },
    "colab_type": "code",
    "executionInfo": {
     "elapsed": 1422555,
     "status": "ok",
     "timestamp": 1573492968400,
     "user": {
      "displayName": "Anant Bhavsar",
      "photoUrl": "",
      "userId": "10842212189610618468"
     },
     "user_tz": -330
    },
    "id": "BeneuONlWEZX",
    "outputId": "4354995c-112a-4d01-9fea-773180712345"
   },
   "outputs": [
    {
     "name": "stdout",
     "output_type": "stream",
     "text": [
      "Train on 4104 samples, validate on 456 samples\n",
      "Epoch 1/30\n",
      "4104/4104 [==============================] - 53s 13ms/step - loss: 0.1095 - crf_viterbi_accuracy: 0.9624 - val_loss: 0.0515 - val_crf_viterbi_accuracy: 0.9845\n",
      "Epoch 2/30\n",
      "4104/4104 [==============================] - 47s 11ms/step - loss: 0.0359 - crf_viterbi_accuracy: 0.9893 - val_loss: 0.0507 - val_crf_viterbi_accuracy: 0.9829\n",
      "Epoch 3/30\n",
      "4104/4104 [==============================] - 47s 11ms/step - loss: 0.0268 - crf_viterbi_accuracy: 0.9918 - val_loss: 0.0289 - val_crf_viterbi_accuracy: 0.9912\n",
      "Epoch 4/30\n",
      "4104/4104 [==============================] - 47s 11ms/step - loss: 0.0219 - crf_viterbi_accuracy: 0.9932 - val_loss: 0.0266 - val_crf_viterbi_accuracy: 0.9919\n",
      "Epoch 5/30\n",
      "4104/4104 [==============================] - 47s 11ms/step - loss: 0.0180 - crf_viterbi_accuracy: 0.9941 - val_loss: 0.0230 - val_crf_viterbi_accuracy: 0.9926\n",
      "Epoch 6/30\n",
      "4104/4104 [==============================] - 47s 11ms/step - loss: 0.0151 - crf_viterbi_accuracy: 0.9948 - val_loss: 0.0238 - val_crf_viterbi_accuracy: 0.9922\n",
      "Epoch 7/30\n",
      "4104/4104 [==============================] - 47s 11ms/step - loss: 0.0128 - crf_viterbi_accuracy: 0.9953 - val_loss: 0.0177 - val_crf_viterbi_accuracy: 0.9937\n",
      "Epoch 8/30\n",
      "4104/4104 [==============================] - 47s 12ms/step - loss: 0.0109 - crf_viterbi_accuracy: 0.9957 - val_loss: 0.0175 - val_crf_viterbi_accuracy: 0.9937\n",
      "Epoch 9/30\n",
      "4104/4104 [==============================] - 47s 11ms/step - loss: 0.0090 - crf_viterbi_accuracy: 0.9962 - val_loss: 0.0163 - val_crf_viterbi_accuracy: 0.9931\n",
      "Epoch 10/30\n",
      "4104/4104 [==============================] - 47s 12ms/step - loss: 0.0073 - crf_viterbi_accuracy: 0.9965 - val_loss: 0.0182 - val_crf_viterbi_accuracy: 0.9933\n",
      "Epoch 11/30\n",
      "4104/4104 [==============================] - 47s 12ms/step - loss: 0.0058 - crf_viterbi_accuracy: 0.9970 - val_loss: 0.0275 - val_crf_viterbi_accuracy: 0.9852\n",
      "Epoch 12/30\n",
      "4104/4104 [==============================] - 47s 11ms/step - loss: 0.0043 - crf_viterbi_accuracy: 0.9973 - val_loss: 0.0212 - val_crf_viterbi_accuracy: 0.9890\n",
      "Epoch 13/30\n",
      "4104/4104 [==============================] - 47s 11ms/step - loss: 0.0029 - crf_viterbi_accuracy: 0.9977 - val_loss: 0.0200 - val_crf_viterbi_accuracy: 0.9916\n",
      "Epoch 14/30\n",
      "4104/4104 [==============================] - 47s 11ms/step - loss: 0.0019 - crf_viterbi_accuracy: 0.9979 - val_loss: 0.0144 - val_crf_viterbi_accuracy: 0.9944\n",
      "Epoch 15/30\n",
      "4104/4104 [==============================] - 47s 11ms/step - loss: 5.7630e-04 - crf_viterbi_accuracy: 0.9981 - val_loss: 0.0123 - val_crf_viterbi_accuracy: 0.9947\n",
      "Epoch 16/30\n",
      "4104/4104 [==============================] - 47s 11ms/step - loss: -4.8237e-04 - crf_viterbi_accuracy: 0.9984 - val_loss: 0.0124 - val_crf_viterbi_accuracy: 0.9940\n",
      "Epoch 17/30\n",
      "4104/4104 [==============================] - 47s 11ms/step - loss: -0.0015 - crf_viterbi_accuracy: 0.9986 - val_loss: 0.0127 - val_crf_viterbi_accuracy: 0.9942\n",
      "Epoch 18/30\n",
      "4104/4104 [==============================] - 47s 11ms/step - loss: -0.0025 - crf_viterbi_accuracy: 0.9988 - val_loss: 0.0126 - val_crf_viterbi_accuracy: 0.9944\n",
      "Epoch 19/30\n",
      "4104/4104 [==============================] - 47s 11ms/step - loss: -0.0032 - crf_viterbi_accuracy: 0.9989 - val_loss: 0.0129 - val_crf_viterbi_accuracy: 0.9933\n",
      "Epoch 20/30\n",
      "4104/4104 [==============================] - 47s 11ms/step - loss: -0.0042 - crf_viterbi_accuracy: 0.9991 - val_loss: 0.0114 - val_crf_viterbi_accuracy: 0.9940\n",
      "Epoch 21/30\n",
      "4104/4104 [==============================] - 47s 11ms/step - loss: -0.0047 - crf_viterbi_accuracy: 0.9992 - val_loss: 0.0152 - val_crf_viterbi_accuracy: 0.9941\n",
      "Epoch 22/30\n",
      "4104/4104 [==============================] - 47s 11ms/step - loss: -0.0058 - crf_viterbi_accuracy: 0.9994 - val_loss: 0.0138 - val_crf_viterbi_accuracy: 0.9944\n",
      "Epoch 23/30\n",
      "4104/4104 [==============================] - 47s 12ms/step - loss: -0.0065 - crf_viterbi_accuracy: 0.9995 - val_loss: 0.0143 - val_crf_viterbi_accuracy: 0.9938\n",
      "Epoch 24/30\n",
      "4104/4104 [==============================] - 47s 11ms/step - loss: -0.0070 - crf_viterbi_accuracy: 0.9995 - val_loss: 0.0138 - val_crf_viterbi_accuracy: 0.9943\n",
      "Epoch 25/30\n",
      "4104/4104 [==============================] - 47s 11ms/step - loss: -0.0078 - crf_viterbi_accuracy: 0.9996 - val_loss: 0.0129 - val_crf_viterbi_accuracy: 0.9941\n",
      "Epoch 26/30\n",
      "4104/4104 [==============================] - 47s 11ms/step - loss: -0.0085 - crf_viterbi_accuracy: 0.9997 - val_loss: 0.0152 - val_crf_viterbi_accuracy: 0.9939\n",
      "Epoch 27/30\n",
      "4104/4104 [==============================] - 47s 11ms/step - loss: -0.0091 - crf_viterbi_accuracy: 0.9998 - val_loss: 0.0132 - val_crf_viterbi_accuracy: 0.9949\n",
      "Epoch 28/30\n",
      "4104/4104 [==============================] - 47s 11ms/step - loss: -0.0095 - crf_viterbi_accuracy: 0.9997 - val_loss: 0.0128 - val_crf_viterbi_accuracy: 0.9946\n",
      "Epoch 29/30\n",
      "4104/4104 [==============================] - 47s 11ms/step - loss: -0.0102 - crf_viterbi_accuracy: 0.9998 - val_loss: 0.0119 - val_crf_viterbi_accuracy: 0.9944\n",
      "Epoch 30/30\n",
      "4104/4104 [==============================] - 47s 11ms/step - loss: -0.0108 - crf_viterbi_accuracy: 0.9998 - val_loss: 0.0166 - val_crf_viterbi_accuracy: 0.9943\n"
     ]
    }
   ],
   "source": [
    "history = model.fit(X, np.array(y), batch_size=batch_size, epochs=epochs,validation_split=0.1)"
   ]
  },
  {
   "cell_type": "code",
   "execution_count": 0,
   "metadata": {
    "colab": {
     "base_uri": "https://localhost:8080/",
     "height": 517
    },
    "colab_type": "code",
    "executionInfo": {
     "elapsed": 1422309,
     "status": "ok",
     "timestamp": 1573492968406,
     "user": {
      "displayName": "Anant Bhavsar",
      "photoUrl": "",
      "userId": "10842212189610618468"
     },
     "user_tz": -330
    },
    "id": "dkLaf6s6WEZg",
    "outputId": "67e13fbd-f403-4f1c-cce5-c9b0da9ef69f"
   },
   "outputs": [
    {
     "data": {
      "text/plain": [
       "<matplotlib.legend.Legend at 0x7f0a0196c828>"
      ]
     },
     "execution_count": 199,
     "metadata": {
      "tags": []
     },
     "output_type": "execute_result"
    },
    {
     "data": {
      "image/png": "[encoded data removed]",
      "text/plain": [
       "<Figure size 576x576 with 1 Axes>"
      ]
     },
     "metadata": {
      "tags": []
     },
     "output_type": "display_data"
    }
   ],
   "source": [
    "acc = history.history['crf_viterbi_accuracy']\n",
    "val_acc = history.history['val_crf_viterbi_accuracy']\n",
    "loss = history.history['loss']\n",
    "val_loss = history.history['val_loss']\n",
    "plt.figure(figsize = (8, 8))\n",
    "epochs = range(1, len(acc) + 1)\n",
    "plt.plot(epochs, acc, 'bo', label='Training acc')\n",
    "plt.plot(epochs, val_acc, 'b', label='Validation acc')\n",
    "plt.title('Training and validation accuracy')\n",
    "plt.legend()"
   ]
  },
  {
   "cell_type": "code",
   "execution_count": 0,
   "metadata": {
    "colab": {
     "base_uri": "https://localhost:8080/",
     "height": 499
    },
    "colab_type": "code",
    "executionInfo": {
     "elapsed": 1422002,
     "status": "ok",
     "timestamp": 1573492968407,
     "user": {
      "displayName": "Anant Bhavsar",
      "photoUrl": "",
      "userId": "10842212189610618468"
     },
     "user_tz": -330
    },
    "id": "Kk9iwtYOWEZp",
    "outputId": "af03a8ef-84cc-4528-f82d-6c95d555f33f"
   },
   "outputs": [
    {
     "data": {
      "image/png": "[encoded data removed]",
      "text/plain": [
       "<Figure size 576x576 with 1 Axes>"
      ]
     },
     "metadata": {
      "tags": []
     },
     "output_type": "display_data"
    }
   ],
   "source": [
    "plt.figure(figsize = (8, 8))\n",
    "plt.plot(epochs, loss, 'bo', label='Training loss')\n",
    "plt.plot(epochs, val_loss, 'b', label='Validation loss')\n",
    "plt.title('Training and validation loss')\n",
    "plt.legend()\n",
    "plt.show()"
   ]
  },
  {
   "cell_type": "code",
   "execution_count": 0,
   "metadata": {
    "colab": {
     "base_uri": "https://localhost:8080/",
     "height": 1000
    },
    "colab_type": "code",
    "executionInfo": {
     "elapsed": 1426591,
     "status": "ok",
     "timestamp": 1573492974303,
     "user": {
      "displayName": "Anant Bhavsar",
      "photoUrl": "",
      "userId": "10842212189610618468"
     },
     "user_tz": -330
    },
    "id": "DJC3kudgWEab",
    "outputId": "8557008e-83f7-4002-e5b8-f51634a482ac"
   },
   "outputs": [
    {
     "name": "stdout",
     "output_type": "stream",
     "text": [
      "[1, 2393, 2394, 1163, 524, 304, 978, 268, 1995, 5606, 309, 7, 13, 609, 39, 4022, 2576, 49, 2040, 1140, 78, 22] [24, 1757, 1758, 17, 466, 19, 13, 4565, 3, 637, 3, 785, 1883, 39, 1820, 57, 475, 1140, 78, 1478, 42, 4022, 2576, 49, 991, 19, 184, 1163, 2885, 545, 1627, 2397, 7342, 49, 1, 2393, 2394, 1163, 524, 304, 117, 3535, 19, 1995, 978, 268, 30, 589, 22, 688, 1, 247, 248, 47, 1297, 32, 5606, 22]\n",
      "[['Torsade', 'B-Disease'], ['de', 'I-Disease'], ['pointes', 'I-Disease'], ['ventricular', 'B-Disease'], ['tachycardia', 'I-Disease'], ['during', 'O'], ['low', 'O'], ['dose', 'O'], ['intermittent', 'O'], ['dobutamine', 'B-Chemical'], ['treatment', 'O'], ['in', 'O'], ['a', 'O'], ['patient', 'O'], ['with', 'O'], ['dilated', 'B-Disease'], ['cardiomyopathy', 'I-Disease'], ['and', 'O'], ['congestive', 'B-Disease'], ['heart', 'I-Disease'], ['failure', 'I-Disease'], ['.', 'O']]\n",
      "[['The', 'O'], ['authors', 'O'], ['describe', 'O'], ['the', 'O'], ['case', 'O'], ['of', 'O'], ['a', 'O'], ['56', 'O'], ['-', 'O'], ['year', 'O'], ['-', 'O'], ['old', 'O'], ['woman', 'O'], ['with', 'O'], ['chronic', 'O'], [',', 'O'], ['severe', 'O'], ['heart', 'B-Disease'], ['failure', 'I-Disease'], ['secondary', 'O'], ['to', 'O'], ['dilated', 'B-Disease'], ['cardiomyopathy', 'I-Disease'], ['and', 'O'], ['absence', 'O'], ['of', 'O'], ['significant', 'O'], ['ventricular', 'B-Disease'], ['arrhythmias', 'I-Disease'], ['who', 'O'], ['developed', 'O'], ['QT', 'B-Disease'], ['prolongation', 'I-Disease'], ['and', 'O'], ['torsade', 'B-Disease'], ['de', 'I-Disease'], ['pointes', 'I-Disease'], ['ventricular', 'B-Disease'], ['tachycardia', 'I-Disease'], ['during', 'O'], ['one', 'O'], ['cycle', 'O'], ['of', 'O'], ['intermittent', 'O'], ['low', 'O'], ['dose', 'O'], ['(', 'O'], ['2', 'O'], ['.', 'O'], ['5', 'O'], ['mcg', 'O'], ['/', 'O'], ['kg', 'O'], ['per', 'O'], ['min', 'O'], [')', 'O'], ['dobutamine', 'B-Chemical'], ['.', 'O']]\n",
      "[['This', 'O'], ['report', 'O'], ['of', 'O'], ['torsade', 'B-Disease'], ['de', 'I-Disease'], ['pointes', 'I-Disease'], ['ventricular', 'B-Disease'], ['tachycardia', 'I-Disease'], ['during', 'O'], ['intermittent', 'O'], ['dobutamine', 'B-Chemical'], ['supports', 'O'], ['the', 'O'], ['hypothesis', 'O'], ['that', 'O'], ['unpredictable', 'O'], ['fatal', 'O'], ['arrhythmias', 'B-Disease'], ['may', 'O'], ['occur', 'O'], ['even', 'O'], ['with', 'O'], ['low', 'O'], ['doses', 'O'], ['and', 'O'], ['in', 'O'], ['patients', 'O'], ['with', 'O'], ['no', 'O'], ['history', 'O'], ['of', 'O'], ['significant', 'O'], ['rhythm', 'O'], ['disturbances', 'O'], ['.', 'O']]\n",
      "[['The', 'O'], ['mechanisms', 'O'], ['of', 'O'], ['proarrhythmic', 'O'], ['effects', 'O'], ['of', 'O'], ['Dubutamine', 'B-Chemical'], ['are', 'O'], ['discussed', 'O'], ['.', 'O']]\n",
      "[['Positive', 'O'], ['skin', 'O'], ['tests', 'O'], ['in', 'O'], ['late', 'O'], ['reactions', 'O'], ['to', 'O'], ['radiographic', 'O'], ['contrast', 'B-Chemical'], ['media', 'I-Chemical'], ['.', 'O']]\n",
      "[['In', 'O'], ['the', 'O'], ['last', 'O'], ['few', 'O'], ['years', 'O'], ['delayed', 'O'], ['reactions', 'O'], ['several', 'O'], ['hours', 'O'], ['after', 'O'], ['the', 'O'], ['injection', 'O'], ['of', 'O'], ['radiographic', 'O'], ['and', 'O'], ['contrast', 'B-Chemical'], ['materials', 'I-Chemical'], ['(', 'O'], ['PRC', 'B-Chemical'], [')', 'O'], ['have', 'O'], ['been', 'O'], ['described', 'O'], ['with', 'O'], ['increasing', 'O'], ['frequency', 'O'], ['.', 'O']]\n",
      "[3, 4, 4, 3, 4, 2, 2, 2, 2, 1, 2, 2, 2, 2, 2, 3, 4, 2, 3, 4, 4, 2]\n",
      "5\n",
      "0\n",
      "['Torsade', 'B-Disease']\n",
      "19\n",
      "['Azotemia', 'B-Disease']\n",
      "73\n",
      "['Catalepsy', 'B-Disease']\n",
      "110\n",
      "['Bleeding', 'B-Disease']\n",
      "121\n",
      "['Deterioration', 'B-Disease']\n",
      "123\n",
      "['Hypercalcemia', 'B-Disease']\n",
      "153\n",
      "['Downbeat', 'B-Disease']\n",
      "213\n",
      "['Hyperglycemic', 'B-Disease']\n",
      "238\n",
      "['Ventricular', 'B-Disease']\n",
      "247\n",
      "['Bradycardia', 'B-Disease']\n",
      "321\n",
      "['Neuropathy', 'B-Disease']\n",
      "334\n",
      "['Fatty', 'B-Disease']\n",
      "350\n",
      "['Anxiety', 'B-Disease']\n",
      "397\n",
      "['Low', 'B-Disease']\n",
      "398\n",
      "['Headache', 'B-Disease']\n",
      "403\n",
      "['Nephrosis', 'B-Disease']\n",
      "414\n",
      "['Pulmonary', 'B-Disease']\n",
      "417\n",
      "['Hypoxaemia', 'B-Disease']\n",
      "419\n",
      "['Hyponatremia', 'B-Disease']\n",
      "500\n",
      "['Neuroleptic', 'B-Disease']\n",
      "573\n",
      "['Central', 'B-Disease']\n",
      "592\n",
      "['Myotonia', 'B-Disease']\n",
      "596\n",
      "['Myotonia', 'B-Disease']\n",
      "651\n",
      "['Acute', 'B-Disease']\n",
      "677\n",
      "['Gustatory', 'B-Disease']\n",
      "706\n",
      "['Myocardial', 'B-Disease']\n",
      "707\n",
      "['Spasm', 'B-Disease']\n",
      "711\n",
      "['Asterixis', 'B-Disease']\n",
      "725\n",
      "['Syndrome', 'B-Disease']\n",
      "730\n",
      "['Heart', 'B-Disease']\n",
      "763\n",
      "['Pain', 'B-Disease']\n",
      "765\n",
      "['Pure', 'B-Disease']\n",
      "768\n",
      "['Skin', 'B-Disease']\n",
      "769\n",
      "['Pure', 'B-Disease']\n",
      "811\n",
      "['Renal', 'B-Disease']\n",
      "847\n",
      "['Flushing', 'B-Disease']\n",
      "904\n",
      "['Coronary', 'B-Disease']\n",
      "917\n",
      "['Swallowing', 'B-Disease']\n",
      "918\n",
      "['Gastrointestinal', 'B-Disease']\n",
      "924\n",
      "['Dyskinetic', 'B-Disease']\n",
      "956\n",
      "['Thoracic', 'B-Disease']\n",
      "960\n",
      "['Mania', 'B-Disease']\n",
      "966\n",
      "['Acute', 'B-Disease']\n",
      "973\n",
      "['Acute', 'B-Disease']\n",
      "988\n",
      "['Brain', 'B-Disease']\n",
      "1083\n",
      "['Drug', 'B-Disease']\n",
      "1117\n",
      "['Myositis', 'B-Disease']\n",
      "1134\n",
      "['Cardiotoxicity', 'B-Disease']\n",
      "1146\n",
      "['Hepatocellular', 'B-Disease']\n",
      "1184\n",
      "['LV', 'B-Disease']\n",
      "1201\n",
      "['Long', 'B-Disease']\n",
      "1271\n",
      "['Acute', 'B-Disease']\n",
      "1273\n",
      "['Nephropathy', 'B-Disease']\n",
      "1283\n",
      "['Toxicity', 'B-Disease']\n",
      "1321\n",
      "['Extrapyramidal', 'B-Disease']\n",
      "1373\n",
      "['Wilson', 'B-Disease']\n",
      "1400\n",
      "['Acute', 'B-Disease']\n",
      "1488\n",
      "['Impaired', 'B-Disease']\n",
      "1500\n",
      "['Damage', 'B-Disease']\n",
      "1521\n",
      "['Cortical', 'B-Disease']\n",
      "1542\n",
      "['Corneal', 'B-Disease']\n",
      "1553\n",
      "['Drug', 'B-Disease']\n",
      "1573\n",
      "['Acute', 'B-Disease']\n",
      "1644\n",
      "['Seizure', 'B-Disease']\n",
      "1677\n",
      "['Anemia', 'B-Disease']\n",
      "1706\n",
      "['Autoimmune', 'B-Disease']\n",
      "1743\n",
      "['Delirium', 'B-Disease']\n",
      "1785\n",
      "['Hemorrhage', 'B-Disease']\n",
      "1788\n",
      "['Nonalcoholic', 'B-Disease']\n",
      "1797\n",
      "['Antineutrophil', 'B-Disease']\n",
      "1836\n",
      "['Rhabdomyolysis', 'B-Disease']\n",
      "1888\n",
      "['Delirium', 'B-Disease']\n",
      "1913\n",
      "['Pneumonitis', 'B-Disease']\n",
      "1969\n",
      "['Binasal', 'B-Disease']\n",
      "1976\n",
      "['Bilateral', 'B-Disease']\n",
      "1995\n",
      "['Cancer', 'B-Disease']\n",
      "2030\n",
      "['Acute', 'B-Disease']\n",
      "2046\n",
      "['Depression', 'B-Disease']\n",
      "2060\n",
      "['Seizures', 'B-Disease']\n",
      "2067\n",
      "['Seizures', 'B-Disease']\n",
      "2156\n",
      "['Thrombosis', 'B-Disease']\n",
      "2158\n",
      "['HIT', 'B-Disease']\n",
      "2183\n",
      "['Mitochondrial', 'B-Disease']\n",
      "2203\n",
      "['Macroprolactinemia', 'B-Disease']\n",
      "2225\n",
      "['Mantle', 'B-Disease']\n",
      "2233\n",
      "['Acute', 'B-Disease']\n",
      "2238\n",
      "['Syncope', 'B-Disease']\n",
      "2248\n",
      "['Musculoskeletal', 'B-Disease']\n",
      "2280\n",
      "['Neurologic', 'B-Disease']\n",
      "2307\n",
      "['Scleroderma', 'B-Disease']\n",
      "2329\n",
      "['Major', 'B-Disease']\n",
      "2347\n",
      "['Menstrual', 'B-Disease']\n",
      "2407\n",
      "['Cardiovascular', 'B-Disease']\n",
      "2424\n",
      "['Peripheral', 'B-Disease']\n",
      "2448\n",
      "['Dyskinesia', 'B-Disease']\n",
      "2471\n",
      "['Proteinuria', 'B-Disease']\n",
      "2522\n",
      "['Deterioration', 'B-Disease']\n",
      "2547\n",
      "['Takotsubo', 'B-Disease']\n",
      "2548\n",
      "['Takotsubo', 'B-Disease']\n",
      "2556\n",
      "['Depression', 'B-Disease']\n",
      "2589\n",
      "['Hodgkin', 'B-Disease']\n",
      "2618\n",
      "['Encephalopathy', 'B-Disease']\n",
      "2641\n",
      "['Hypertension', 'B-Disease']\n",
      "2646\n",
      "['Syndrome', 'B-Disease']\n",
      "2673\n",
      "['Seizures', 'B-Disease']\n",
      "2762\n",
      "['Drug', 'B-Disease']\n",
      "2784\n",
      "['Cardiotoxicity', 'B-Disease']\n",
      "2796\n",
      "['Myoclonic', 'B-Disease']\n",
      "2807\n",
      "['Cholestatic', 'B-Disease']\n",
      "2809\n",
      "['Poisoning', 'B-Disease']\n",
      "2811\n",
      "['Vasovagal', 'B-Disease']\n",
      "2844\n",
      "['Generalised', 'B-Disease']\n",
      "2851\n",
      "['Convulsive', 'B-Disease']\n",
      "2853\n",
      "['Dysfunctional', 'B-Disease']\n",
      "2870\n",
      "['Cerebellar', 'B-Disease']\n",
      "2877\n",
      "['Baboon', 'B-Disease']\n",
      "2880\n",
      "['Baboon', 'B-Disease']\n",
      "2896\n",
      "['Neutropenia', 'B-Disease']\n",
      "2919\n",
      "['Neurological', 'B-Disease']\n",
      "2925\n",
      "['Necrotising', 'B-Disease']\n",
      "2971\n",
      "['OIH', 'B-Disease']\n",
      "2973\n",
      "['OIH', 'B-Disease']\n",
      "2999\n",
      "['Cardiac', 'B-Disease']\n",
      "3056\n",
      "['Toxicity', 'B-Disease']\n",
      "3074\n",
      "['Cognitive', 'B-Disease']\n",
      "3131\n",
      "['Neuroleptic', 'B-Disease']\n",
      "3179\n",
      "['AKI', 'B-Disease']\n",
      "3183\n",
      "['AKI', 'B-Disease']\n",
      "3189\n",
      "['Rhabdomyolysis', 'B-Disease']\n",
      "3206\n",
      "['Peripheral', 'B-Disease']\n",
      "3215\n",
      "['Renal', 'B-Disease']\n",
      "3275\n",
      "['Rhabdomyolysis', 'B-Disease']\n",
      "3283\n",
      "['Butyrylcholinesterase', 'B-Disease']\n",
      "3318\n",
      "['Hepatic', 'B-Disease']\n",
      "3358\n",
      "['Pneumonia', 'B-Disease']\n",
      "3363\n",
      "['Azotemia', 'B-Disease']\n",
      "3365\n",
      "['Azotemia', 'B-Disease']\n",
      "3373\n",
      "['Kidney', 'B-Disease']\n",
      "3397\n",
      "['CML', 'B-Disease']\n",
      "3404\n",
      "['Cancer', 'B-Disease']\n",
      "3443\n",
      "['Bradycardia', 'B-Disease']\n",
      "3446\n",
      "['Bradycardia', 'B-Disease']\n",
      "3458\n",
      "['Convulsion', 'B-Disease']\n",
      "3459\n",
      "['Tonic', 'B-Disease']\n",
      "3512\n",
      "['Blepharoconjunctivitis', 'B-Disease']\n",
      "3596\n",
      "['Acute', 'B-Disease']\n",
      "3607\n",
      "['Cholestasis', 'B-Disease']\n",
      "3640\n",
      "['Hyperkalemia', 'B-Disease']\n",
      "3644\n",
      "['Hypotension', 'B-Disease']\n",
      "3663\n",
      "['Hypertension', 'B-Disease']\n",
      "3664\n",
      "['Hypertension', 'B-Disease']\n",
      "3687\n",
      "['Cardiotoxicity', 'B-Disease']\n",
      "3688\n",
      "['Congestive', 'B-Disease']\n",
      "3751\n",
      "['Bradycardia', 'B-Disease']\n",
      "3760\n",
      "['Downbeat', 'B-Disease']\n",
      "3774\n",
      "['Seizures', 'B-Disease']\n",
      "3816\n",
      "['Cardiovascular', 'B-Disease']\n",
      "3895\n",
      "['Leukocytosis', 'B-Disease']\n",
      "3905\n",
      "['Hypertension', 'B-Disease']\n",
      "3914\n",
      "['Growth', 'B-Disease']\n",
      "3962\n",
      "['Mastodynia', 'B-Disease']\n",
      "3997\n",
      "['Toxic', 'B-Disease']\n",
      "4000\n",
      "['Atrial', 'B-Disease']\n",
      "4007\n",
      "['Alternating', 'B-Disease']\n",
      "4008\n",
      "['Alternating', 'B-Disease']\n",
      "4024\n",
      "['Tumor', 'B-Disease']\n",
      "4029\n",
      "['Ascites', 'B-Disease']\n",
      "4032\n",
      "['Albuminuria', 'B-Disease']\n",
      "4065\n",
      "['Accelerated', 'B-Disease']\n",
      "4067\n",
      "['Accelerated', 'B-Disease']\n",
      "4089\n",
      "['Hematologic', 'B-Disease']\n",
      "4116\n",
      "['Hepatitis', 'B-Disease']\n",
      "4139\n",
      "['Hypotension', 'B-Disease']\n",
      "4206\n",
      "['Nausea', 'B-Disease']\n",
      "4231\n",
      "['Myopathy', 'B-Disease']\n",
      "4243\n",
      "['Toxicities', 'B-Disease']\n",
      "4258\n",
      "['Myoclonus', 'B-Disease']\n",
      "4283\n",
      "['Headache', 'B-Disease']\n",
      "4380\n",
      "['Cytomegalovirus', 'B-Disease']\n",
      "4383\n",
      "['Seizures', 'B-Disease']\n",
      "4385\n",
      "['Delirium', 'B-Disease']\n",
      "4392\n",
      "['Pulmonary', 'B-Disease']\n",
      "4411\n",
      "['Hypokalemia', 'B-Disease']\n",
      "4440\n",
      "['VT', 'B-Disease']\n",
      "4447\n",
      "['Milk', 'B-Disease']\n",
      "4448\n",
      "['Milk', 'B-Disease']\n",
      "4450\n",
      "['Milk', 'B-Disease']\n",
      "4461\n",
      "['Encephalopathy', 'B-Disease']\n",
      "4590\n",
      "['Brain', 'B-Disease']\n",
      "4618\n",
      "['Torsades', 'B-Disease']\n",
      "4628\n",
      "['Hyperprolactinemia', 'B-Disease']\n",
      "4640\n",
      "['Thrombotic', 'B-Disease']\n",
      "4647\n",
      "['Thrombotic', 'B-Disease']\n",
      "4659\n",
      "['Nasal', 'B-Disease']\n",
      "4673\n",
      "['Dehydrated', 'B-Disease']\n",
      "4687\n",
      "['Hypertensive', 'B-Disease']\n",
      "4699\n",
      "['Paraplegia', 'B-Disease']\n",
      "4707\n",
      "['Hyperosmolar', 'B-Disease']\n",
      "4741\n",
      "['Ischemic', 'B-Disease']\n",
      "4764\n",
      "['Neuroleptic', 'B-Disease']\n",
      "4787\n",
      "['Hypotension', 'B-Disease']\n"
     ]
    }
   ],
   "source": [
    "tsvfile=open(\"/content/drive/My Drive/Corpus/Corpus/BC5CDR-IOB/test.tsv\",encoding=\"utf-8\")\n",
    "tsvreader = csv.reader(tsvfile, delimiter=\"\\t\")\n",
    "data1=[]\n",
    "sentences1=[]\n",
    "words1=[]\n",
    "tags1=[]\n",
    "for line in tsvreader:\n",
    "    if line!=[]:\n",
    "        data1.append(line)\n",
    "        if line[0] not in words1:\n",
    "            words1.append(line[0])\n",
    "        if line[1] not in tags1:\n",
    "            tags1.append(line[1])\n",
    "    else:\n",
    "        sentences1.append(data1)\n",
    "        data1=[]\n",
    "\n",
    "X1 = [[word_to_index[w[0] if w[0] in words else \"UNK\"] for w in s] for s in sentences1]\n",
    "print(X1[0],X1[1])\n",
    "count=0\n",
    "for s in sentences1:\n",
    "    print(s)\n",
    "    count=count+1\n",
    "    if count>5:\n",
    "        break\n",
    "# Padding each sequence to have same length  of each word\n",
    "X1 = pad_sequences(maxlen = max_len, sequences = X1, padding = \"post\", value = word_to_index[\"PAD\"])\n",
    "y1 = [[tag_to_index[w[1]] for w in s] for s in sentences1]\n",
    "print(y1[0])\n",
    "# padding\n",
    "y1 = pad_sequences(maxlen = max_len, sequences = y1, padding = \"post\", value = tag_to_index[\"PAD\"])\n",
    "num_tag = 5\n",
    "print(num_tag)\n",
    "# One hot encoded labels\n",
    "y1=[to_categorical(i, num_classes = num_tag + 1) for i in y1]\n",
    "for i in range(len(y1)):\n",
    "    if y1[i][0][3]==1:\n",
    "        print(i)\n",
    "        print(sentences1[i][0])"
   ]
  },
  {
   "cell_type": "code",
   "execution_count": 0,
   "metadata": {
    "colab": {},
    "colab_type": "code",
    "id": "6bP3D6U-WEai"
   },
   "outputs": [],
   "source": [
    "y_pred = model.predict(X1)\n",
    "y_pred = np.argmax(y_pred, axis=-1)\n",
    "y_test_true = np.argmax(y1, -1)"
   ]
  },
  {
   "cell_type": "code",
   "execution_count": 0,
   "metadata": {
    "colab": {},
    "colab_type": "code",
    "id": "XL6NHCHhWEao"
   },
   "outputs": [],
   "source": [
    "y_pred = [[idx2tag[i] for i in row] for row in y_pred]\n",
    "y_test_true = [[idx2tag[i] for i in row] for row in y_test_true] "
   ]
  },
  {
   "cell_type": "code",
   "execution_count": 0,
   "metadata": {
    "colab": {
     "base_uri": "https://localhost:8080/",
     "height": 35
    },
    "colab_type": "code",
    "executionInfo": {
     "elapsed": 1449387,
     "status": "ok",
     "timestamp": 1573492997797,
     "user": {
      "displayName": "Anant Bhavsar",
      "photoUrl": "",
      "userId": "10842212189610618468"
     },
     "user_tz": -330
    },
    "id": "tl7TODDqWEat",
    "outputId": "91e06277-3c37-49d5-e24a-3988806ac172"
   },
   "outputs": [
    {
     "name": "stdout",
     "output_type": "stream",
     "text": [
      "F1-score is : 81.4%\n"
     ]
    }
   ],
   "source": [
    "print(\"F1-score is : {:.1%}\".format(f1_score(y_test_true, y_pred)))"
   ]
  },
  {
   "cell_type": "code",
   "execution_count": 0,
   "metadata": {
    "colab": {
     "base_uri": "https://localhost:8080/",
     "height": 253
    },
    "colab_type": "code",
    "executionInfo": {
     "elapsed": 1453255,
     "status": "ok",
     "timestamp": 1573493001979,
     "user": {
      "displayName": "Anant Bhavsar",
      "photoUrl": "",
      "userId": "10842212189610618468"
     },
     "user_tz": -330
    },
    "id": "WbD8wY4FWEax",
    "outputId": "3d6f2ed2-456f-402e-8103-98d3d2e9daf5"
   },
   "outputs": [
    {
     "name": "stdout",
     "output_type": "stream",
     "text": [
      "              precision    recall  f1-score   support\n",
      "\n",
      "  B-Chemical       0.96      0.58      0.73      5385\n",
      "   B-Disease       0.82      0.67      0.74      4424\n",
      "  I-Chemical       0.90      0.52      0.66      1628\n",
      "   I-Disease       0.79      0.61      0.69      2737\n",
      "           O       0.96      0.99      0.97    110576\n",
      "         PAD       1.00      1.00      1.00    685943\n",
      "\n",
      "    accuracy                           0.99    810693\n",
      "   macro avg       0.90      0.73      0.80    810693\n",
      "weighted avg       0.99      0.99      0.99    810693\n",
      "\n"
     ]
    }
   ],
   "source": [
    "report = flat_classification_report(y_pred=y_pred, y_true=y_test_true)\n",
    "print(report)"
   ]
  },
  {
   "cell_type": "code",
   "execution_count": 0,
   "metadata": {
    "colab": {
     "base_uri": "https://localhost:8080/",
     "height": 55
    },
    "colab_type": "code",
    "executionInfo": {
     "elapsed": 1452791,
     "status": "ok",
     "timestamp": 1573493001980,
     "user": {
      "displayName": "Anant Bhavsar",
      "photoUrl": "",
      "userId": "10842212189610618468"
     },
     "user_tz": -330
    },
    "id": "Uf5xI3lWWEa3",
    "outputId": "de6e40c5-1888-4a34-c523-94b769db39c0"
   },
   "outputs": [
    {
     "name": "stdout",
     "output_type": "stream",
     "text": [
      "['B-Disease', 'I-Disease', 'I-Disease', 'B-Disease', 'I-Disease', 'O', 'O', 'O', 'O', 'B-Chemical', 'O', 'O', 'O', 'O', 'O', 'B-Disease', 'I-Disease', 'O', 'B-Disease', 'I-Disease', 'I-Disease', 'O', 'PAD', 'PAD', 'PAD', 'PAD', 'PAD', 'PAD', 'PAD', 'PAD', 'PAD', 'PAD', 'PAD', 'PAD', 'PAD', 'PAD', 'PAD', 'PAD', 'PAD', 'PAD', 'PAD', 'PAD', 'PAD', 'PAD', 'PAD', 'PAD', 'PAD', 'PAD', 'PAD', 'PAD', 'PAD', 'PAD', 'PAD', 'PAD', 'PAD', 'PAD', 'PAD', 'PAD', 'PAD', 'PAD', 'PAD', 'PAD', 'PAD', 'PAD', 'PAD', 'PAD', 'PAD', 'PAD', 'PAD', 'PAD', 'PAD', 'PAD', 'PAD', 'PAD', 'PAD', 'PAD', 'PAD', 'PAD', 'PAD', 'PAD', 'PAD', 'PAD', 'PAD', 'PAD', 'PAD', 'PAD', 'PAD', 'PAD', 'PAD', 'PAD', 'PAD', 'PAD', 'PAD', 'PAD', 'PAD', 'PAD', 'PAD', 'PAD', 'PAD', 'PAD', 'PAD', 'PAD', 'PAD', 'PAD', 'PAD', 'PAD', 'PAD', 'PAD', 'PAD', 'PAD', 'PAD', 'PAD', 'PAD', 'PAD', 'PAD', 'PAD', 'PAD', 'PAD', 'PAD', 'PAD', 'PAD', 'PAD', 'PAD', 'PAD', 'PAD', 'PAD', 'PAD', 'PAD', 'PAD', 'PAD', 'PAD', 'PAD', 'PAD', 'PAD', 'PAD', 'PAD', 'PAD', 'PAD', 'PAD', 'PAD', 'PAD', 'PAD', 'PAD', 'PAD', 'PAD', 'PAD', 'PAD', 'PAD', 'PAD', 'PAD', 'PAD', 'PAD', 'PAD', 'PAD', 'PAD', 'PAD', 'PAD', 'PAD', 'PAD', 'PAD', 'PAD', 'PAD', 'PAD', 'PAD', 'PAD', 'PAD', 'PAD', 'PAD', 'PAD']\n"
     ]
    }
   ],
   "source": [
    "print(y_test_true[0])"
   ]
  },
  {
   "cell_type": "code",
   "execution_count": 0,
   "metadata": {
    "colab": {
     "base_uri": "https://localhost:8080/",
     "height": 55
    },
    "colab_type": "code",
    "executionInfo": {
     "elapsed": 1452076,
     "status": "ok",
     "timestamp": 1573493001982,
     "user": {
      "displayName": "Anant Bhavsar",
      "photoUrl": "",
      "userId": "10842212189610618468"
     },
     "user_tz": -330
    },
    "id": "R7vKfZrTWEa7",
    "outputId": "b82f1806-43aa-409a-8742-3ddcec1ed0e2"
   },
   "outputs": [
    {
     "name": "stdout",
     "output_type": "stream",
     "text": [
      "['B-Chemical', 'O', 'B-Disease', 'B-Disease', 'I-Disease', 'O', 'O', 'O', 'O', 'B-Chemical', 'O', 'O', 'O', 'O', 'O', 'B-Disease', 'I-Disease', 'O', 'B-Disease', 'I-Disease', 'I-Disease', 'O', 'PAD', 'PAD', 'PAD', 'PAD', 'PAD', 'PAD', 'PAD', 'PAD', 'PAD', 'PAD', 'PAD', 'PAD', 'PAD', 'PAD', 'PAD', 'PAD', 'PAD', 'PAD', 'PAD', 'PAD', 'PAD', 'PAD', 'PAD', 'PAD', 'PAD', 'PAD', 'PAD', 'PAD', 'PAD', 'PAD', 'PAD', 'PAD', 'PAD', 'PAD', 'PAD', 'PAD', 'PAD', 'PAD', 'PAD', 'PAD', 'PAD', 'PAD', 'PAD', 'PAD', 'PAD', 'PAD', 'PAD', 'PAD', 'PAD', 'PAD', 'PAD', 'PAD', 'PAD', 'PAD', 'PAD', 'PAD', 'PAD', 'PAD', 'PAD', 'PAD', 'PAD', 'PAD', 'PAD', 'PAD', 'PAD', 'PAD', 'PAD', 'PAD', 'PAD', 'PAD', 'PAD', 'PAD', 'PAD', 'PAD', 'PAD', 'PAD', 'PAD', 'PAD', 'PAD', 'PAD', 'PAD', 'PAD', 'PAD', 'PAD', 'PAD', 'PAD', 'PAD', 'PAD', 'PAD', 'PAD', 'PAD', 'PAD', 'PAD', 'PAD', 'PAD', 'PAD', 'PAD', 'PAD', 'PAD', 'PAD', 'PAD', 'PAD', 'PAD', 'PAD', 'PAD', 'PAD', 'PAD', 'PAD', 'PAD', 'PAD', 'PAD', 'PAD', 'PAD', 'PAD', 'PAD', 'PAD', 'PAD', 'PAD', 'PAD', 'PAD', 'PAD', 'PAD', 'PAD', 'PAD', 'PAD', 'PAD', 'PAD', 'PAD', 'PAD', 'PAD', 'PAD', 'PAD', 'PAD', 'PAD', 'PAD', 'PAD', 'PAD', 'PAD', 'PAD', 'PAD', 'PAD', 'PAD', 'PAD', 'PAD', 'PAD', 'PAD', 'PAD']\n"
     ]
    }
   ],
   "source": [
    "print(y_pred[0])"
   ]
  },
  {
   "cell_type": "code",
   "execution_count": 0,
   "metadata": {
    "colab": {
     "base_uri": "https://localhost:8080/",
     "height": 35
    },
    "colab_type": "code",
    "executionInfo": {
     "elapsed": 1451484,
     "status": "ok",
     "timestamp": 1573493001982,
     "user": {
      "displayName": "Anant Bhavsar",
      "photoUrl": "",
      "userId": "10842212189610618468"
     },
     "user_tz": -330
    },
    "id": "HLg9sAMCWEbA",
    "outputId": "165cd310-3243-47dc-f724-0674cfb6e63e"
   },
   "outputs": [
    {
     "data": {
      "text/plain": [
       "False"
      ]
     },
     "execution_count": 212,
     "metadata": {
      "tags": []
     },
     "output_type": "execute_result"
    }
   ],
   "source": [
    "y_pred[0][1:16]==y_test_true[0][1:16]"
   ]
  },
  {
   "cell_type": "code",
   "execution_count": 0,
   "metadata": {
    "colab": {
     "base_uri": "https://localhost:8080/",
     "height": 90
    },
    "colab_type": "code",
    "executionInfo": {
     "elapsed": 1451061,
     "status": "ok",
     "timestamp": 1573493001983,
     "user": {
      "displayName": "Anant Bhavsar",
      "photoUrl": "",
      "userId": "10842212189610618468"
     },
     "user_tz": -330
    },
    "id": "Z77JBZ2GWEbG",
    "outputId": "587d1815-613f-48e1-8622-86898ecbfcca"
   },
   "outputs": [
    {
     "name": "stdout",
     "output_type": "stream",
     "text": [
      "0.8826733402031502\n",
      "0.6112753593638496\n",
      "0.722322611733526\n",
      "[[5996, 797], [3813, 109779]]\n"
     ]
    }
   ],
   "source": [
    "TP=0\n",
    "TN=0\n",
    "FP=0\n",
    "FN=0\n",
    "i=0\n",
    "nument=0\n",
    "while i<len(y_test_true):\n",
    "    j=0\n",
    "    #print(i)\n",
    "    while j <len(y_test_true[i]):\n",
    "        #print('j ',j)\n",
    "        if y_test_true[i][j]=='B-Disease':\n",
    "            st=j\n",
    "            nument=nument+1\n",
    "            j=j+1\n",
    "            while (y_test_true[i][j]=='I-Disease') and j<len(y_test_true[i]):\n",
    "                j=j+1\n",
    "                #print('inside ',j)\n",
    "            end=j\n",
    "            if y_test_true[i][st:end]==y_pred[i][st:end]:\n",
    "                TP=TP+1\n",
    "            else:\n",
    "                FN=FN+1\n",
    "\n",
    "        elif y_test_true[i][j]=='B-Chemical':\n",
    "            st=j\n",
    "            nument=nument+1\n",
    "            j=j+1\n",
    "            while (y_test_true[i][j]=='I-Chemical') and j<len(y_test_true[i]):\n",
    "                j=j+1\n",
    "                #print('inside ',j)\n",
    "            end=j\n",
    "            if y_test_true[i][st:end]==y_pred[i][st:end]:\n",
    "                TP=TP+1\n",
    "            else:\n",
    "                FN=FN+1\n",
    "        elif y_test_true[i][j]=='O' and y_pred[i][j]=='O':\n",
    "            TN=TN+1\n",
    "            j=j+1\n",
    "            \n",
    "        elif y_test_true[i][j]=='O' and y_pred[i][j]!='O':\n",
    "            FP=FP+1\n",
    "            j=j+1\n",
    "            \n",
    "        elif y_test_true[i][j]=='PAD':\n",
    "            j=j+1\n",
    "\n",
    "    i=i+1\n",
    "\n",
    "Precision=TP/(TP+FP)\n",
    "print(Precision)\n",
    "Recall=TP/(TP+FN)\n",
    "print(Recall)\n",
    "F1=(2*Precision*Recall)/(Precision+Recall)\n",
    "print(F1)\n",
    "mat=[[TP,FP],[FN,TN]]\n",
    "print(mat)"
   ]
  },
  {
   "cell_type": "code",
   "execution_count": 0,
   "metadata": {
    "colab": {
     "base_uri": "https://localhost:8080/",
     "height": 90
    },
    "colab_type": "code",
    "executionInfo": {
     "elapsed": 1451284,
     "status": "ok",
     "timestamp": 1573493002568,
     "user": {
      "displayName": "Anant Bhavsar",
      "photoUrl": "",
      "userId": "10842212189610618468"
     },
     "user_tz": -330
    },
    "id": "bitGGorQWEbR",
    "outputId": "d37ec3df-54f3-45dd-daa5-c16b05dab281"
   },
   "outputs": [
    {
     "name": "stdout",
     "output_type": "stream",
     "text": [
      "0.8881246490735542\n",
      "0.6450198797023142\n",
      "0.7472981751609283\n",
      "[[6327, 797], [3482, 109779]]\n"
     ]
    }
   ],
   "source": [
    "##Partial Match\n",
    "TP=0\n",
    "TN=0\n",
    "FP=0\n",
    "FN=0\n",
    "i=0\n",
    "nument=0\n",
    "while i<len(y_test_true):\n",
    "    j=0\n",
    "    #print(i)\n",
    "    while j <len(y_test_true[i]):\n",
    "        #print('j ',j)\n",
    "        if y_test_true[i][j]=='B-Disease':\n",
    "            st=j\n",
    "            nument=nument+1\n",
    "            j=j+1\n",
    "            while (y_test_true[i][j]=='I-Disease') and j<len(y_test_true[i]):\n",
    "                j=j+1\n",
    "                #print('inside ',j)\n",
    "            end=j\n",
    "            found=0\n",
    "            for k in range(st,end):\n",
    "                if y_test_true[i][k]==y_pred[i][k]:\n",
    "                    found=1\n",
    "                    break\n",
    "            if found==1:\n",
    "                TP=TP+1\n",
    "            else:\n",
    "                FN=FN+1\n",
    "            '''if y_test_true[i][st:end]==y_pred[i][st:end]:\n",
    "                TP=TP+1'''\n",
    "        elif y_test_true[i][j]=='B-Chemical':\n",
    "            st=j\n",
    "            nument=nument+1\n",
    "            j=j+1\n",
    "            while (y_test_true[i][j]=='I-Chemical') and j<len(y_test_true[i]):\n",
    "                j=j+1\n",
    "                #print('inside ',j)\n",
    "            end=j\n",
    "            found=0\n",
    "            for k in range(st,end):\n",
    "                if y_test_true[i][k]==y_pred[i][k]:\n",
    "                    found=1\n",
    "                    break\n",
    "            if found==1:\n",
    "                TP=TP+1\n",
    "            else:\n",
    "                FN=FN+1\n",
    "        elif y_test_true[i][j]=='O' and y_pred[i][j]=='O':\n",
    "            TN=TN+1\n",
    "            j=j+1\n",
    "            \n",
    "        elif y_test_true[i][j]=='O' and y_pred[i][j]!='O':\n",
    "            FP=FP+1\n",
    "            j=j+1\n",
    "            \n",
    "        elif y_test_true[i][j]=='PAD':\n",
    "            j=j+1\n",
    "        \n",
    "        \n",
    "    i=i+1\n",
    "    \n",
    "Precision=TP/(TP+FP)\n",
    "print(Precision)\n",
    "Recall=TP/(TP+FN)\n",
    "print(Recall)\n",
    "F1=(2*Precision*Recall)/(Precision+Recall)\n",
    "print(F1)\n",
    "mat=[[TP,FP],[FN,TN]]\n",
    "print(mat)"
   ]
  },
  {
   "cell_type": "code",
   "execution_count": 0,
   "metadata": {
    "colab": {
     "base_uri": "https://localhost:8080/",
     "height": 35
    },
    "colab_type": "code",
    "executionInfo": {
     "elapsed": 1450865,
     "status": "ok",
     "timestamp": 1573493002569,
     "user": {
      "displayName": "Anant Bhavsar",
      "photoUrl": "",
      "userId": "10842212189610618468"
     },
     "user_tz": -330
    },
    "id": "19LiXLCYWEbl",
    "outputId": "033c68e6-ebb4-475d-a146-6a25df11ed92"
   },
   "outputs": [
    {
     "data": {
      "text/plain": [
       "4797"
      ]
     },
     "execution_count": 215,
     "metadata": {
      "tags": []
     },
     "output_type": "execute_result"
    }
   ],
   "source": [
    "len(y_test_true)"
   ]
  },
  {
   "cell_type": "code",
   "execution_count": 0,
   "metadata": {
    "colab": {},
    "colab_type": "code",
    "id": "_-baBrG2WEbs"
   },
   "outputs": [],
   "source": []
  },
  {
   "cell_type": "code",
   "execution_count": 0,
   "metadata": {
    "colab": {},
    "colab_type": "code",
    "id": "IbEyOG0ZWEbz"
   },
   "outputs": [],
   "source": []
  }
 ],
 "metadata": {
  "colab": {
   "collapsed_sections": [],
   "name": "PubMed and PMC-w2v BC5CDR chem+disease.ipynb",
   "provenance": []
  },
  "kernelspec": {
   "display_name": "Python 3",
   "language": "python",
   "name": "python3"
  },
  "language_info": {
   "codemirror_mode": {
    "name": "ipython",
    "version": 3
   },
   "file_extension": ".py",
   "mimetype": "text/x-python",
   "name": "python",
   "nbconvert_exporter": "python",
   "pygments_lexer": "ipython3",
   "version": "3.7.0"
  }
 },
 "nbformat": 4,
 "nbformat_minor": 1
}
