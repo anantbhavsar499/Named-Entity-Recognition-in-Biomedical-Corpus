{
 "cells": [
  {
   "cell_type": "code",
   "execution_count": null,
   "metadata": {
    "colab": {
     "base_uri": "https://localhost:8080/",
     "height": 194
    },
    "colab_type": "code",
    "executionInfo": {
     "elapsed": 33606,
     "status": "ok",
     "timestamp": 1573316609135,
     "user": {
      "displayName": "Anant Bhavsar",
      "photoUrl": "",
      "userId": "10842212189610618468"
     },
     "user_tz": -330
    },
    "id": "pfFTknNg5b2_",
    "outputId": "f6b9541c-058a-479d-bb96-57d459cd6e7c"
   },
   "outputs": [],
   "source": [
    "import pandas as pd\n",
    "import numpy as np\n",
    "import keras_contrib\n",
    "from keras.preprocessing.sequence import pad_sequences\n",
    "from keras.utils import to_categorical\n",
    "from keras.layers import LSTM, Dense, TimeDistributed, Embedding, Bidirectional\n",
    "from keras.models import Model, Input\n",
    "from keras_contrib.layers import CRF\n",
    "from keras.callbacks import ModelCheckpoint\n",
    "from keras.initializers import Constant\n",
    "import csv\n",
    "import warnings\n",
    "warnings.filterwarnings(\"ignore\")\n",
    "import random\n",
    "random.seed(10)\n",
    "from sklearn.model_selection import train_test_split\n",
    "import matplotlib.pyplot as plt\n",
    "%matplotlib inline\n",
    "import os\n",
    "\n",
    "from sklearn_crfsuite.metrics import flat_classification_report\n",
    "from sklearn.metrics import f1_score\n",
    "from seqeval.metrics import precision_score, recall_score, f1_score, classification_report\n",
    "from sklearn.metrics import confusion_matrix\n",
    "from sklearn.utils.multiclass import unique_labels\n",
    "from keras.preprocessing.text import text_to_word_sequence\n",
    "from gensim.models.keyedvectors import KeyedVectors"
   ]
  },
  {
   "cell_type": "code",
   "execution_count": 0,
   "metadata": {
    "colab": {},
    "colab_type": "code",
    "id": "93i5YBh9ZGgj"
   },
   "outputs": [],
   "source": [
    "tsvfile=open(\"BC5DR-disease-IOB/train.tsv\",encoding=\"utf-8\")\n",
    "tsvreader = csv.reader(tsvfile, delimiter=\"\\t\")\n",
    "data=[]\n",
    "sentences=[]\n",
    "words=[]\n",
    "tags=[]\n",
    "maxsentlen=0\n",
    "for line in tsvreader:\n",
    "    if line!=[]:\n",
    "        data.append(line)\n",
    "        if line[0] not in words:\n",
    "            words.append(line[0])\n",
    "        if line[1] not in tags:\n",
    "            tags.append(line[1])\n",
    "    else:\n",
    "        sentences.append(data)\n",
    "        if len(data)>maxsentlen:\n",
    "            maxsentlen=len(data)\n",
    "        data=[]"
   ]
  },
  {
   "cell_type": "code",
   "execution_count": 0,
   "metadata": {
    "colab": {
     "base_uri": "https://localhost:8080/",
     "height": 53
    },
    "colab_type": "code",
    "executionInfo": {
     "elapsed": 1907,
     "status": "ok",
     "timestamp": 1573316617787,
     "user": {
      "displayName": "Anant Bhavsar",
      "photoUrl": "",
      "userId": "10842212189610618468"
     },
     "user_tz": -330
    },
    "id": "xaI0D1d1ZGgp",
    "outputId": "defee3fa-4cb7-4142-8c5d-9f9e2a78bd70"
   },
   "outputs": [
    {
     "name": "stdout",
     "output_type": "stream",
     "text": [
      "4560\n",
      "9980\n"
     ]
    }
   ],
   "source": [
    "print(len(sentences))\n",
    "print(len(words))"
   ]
  },
  {
   "cell_type": "code",
   "execution_count": 0,
   "metadata": {
    "colab": {
     "base_uri": "https://localhost:8080/",
     "height": 90
    },
    "colab_type": "code",
    "executionInfo": {
     "elapsed": 1437,
     "status": "ok",
     "timestamp": 1573319431114,
     "user": {
      "displayName": "Anant Bhavsar",
      "photoUrl": "",
      "userId": "10842212189610618468"
     },
     "user_tz": -330
    },
    "id": "q1K-HT-EZGgv",
    "outputId": "d03721d8-5269-4dc8-b325-00d6ef848a08"
   },
   "outputs": [
    {
     "name": "stdout",
     "output_type": "stream",
     "text": [
      "2\n",
      "1\n",
      "Selegiline\n",
      "4\n"
     ]
    }
   ],
   "source": [
    "word_to_index = {w : i + 2 for i, w in enumerate(words)}\n",
    "print(word_to_index[words[0]])\n",
    "word_to_index[\"UNK\"] = 1\n",
    "word_to_index[\"PAD\"] = 0\n",
    "\n",
    "# Dictionary lable:index pair\n",
    "# label is key and value is index.\n",
    "tag_to_index = {t : i + 1 for i, t in enumerate(tags)}\n",
    "print(tag_to_index[tags[0]])\n",
    "\n",
    "tag_to_index[\"PAD\"] = 0\n",
    "\n",
    "idx2word = {i: w for w, i in word_to_index.items()}\n",
    "print(idx2word[2])\n",
    "idx2tag = {i: w for w, i in tag_to_index.items()}\n",
    "print(len(tag_to_index))"
   ]
  },
  {
   "cell_type": "code",
   "execution_count": 0,
   "metadata": {
    "colab": {},
    "colab_type": "code",
    "id": "5o4m1B-DZGg6"
   },
   "outputs": [],
   "source": [
    "# Number of data points passed in each iteration\n",
    "batch_size =50\n",
    "# Passes through entire dataset\n",
    "epochs = 20\n",
    "# Maximum length of review\n",
    "max_len = maxsentlen+15\n",
    "# Dimension of embedding vector\n",
    "embedding_dim= 200"
   ]
  },
  {
   "cell_type": "code",
   "execution_count": 0,
   "metadata": {
    "colab": {
     "base_uri": "https://localhost:8080/",
     "height": 164
    },
    "colab_type": "code",
    "executionInfo": {
     "elapsed": 6065,
     "status": "ok",
     "timestamp": 1573331516838,
     "user": {
      "displayName": "Anant Bhavsar",
      "photoUrl": "",
      "userId": "10842212189610618468"
     },
     "user_tz": -330
    },
    "id": "6c2XCSA9ZGg-",
    "outputId": "734c7ddc-9fea-4f1f-c37e-e9a27241135f"
   },
   "outputs": [
    {
     "name": "stdout",
     "output_type": "stream",
     "text": [
      "[2, 3, 4, 5, 6, 7, 8, 9, 10, 11, 12, 13, 14, 15, 16, 17, 18, 19, 20, 21, 22] [23, 12, 24, 25, 26, 8, 9, 10, 27, 28, 29, 30, 31, 32, 33, 34, 35, 36, 37, 7, 38, 39, 8, 9, 10, 11, 30, 40, 32, 41, 42, 43, 44, 45, 46, 47, 48, 49, 50, 3, 51, 52, 39, 53, 54, 50, 3, 51, 55, 22]\n",
      "[['Selegiline', 'O'], ['-', 'O'], ['induced', 'O'], ['postural', 'B-Disease'], ['hypotension', 'I-Disease'], ['in', 'O'], ['Parkinson', 'B-Disease'], [\"'\", 'I-Disease'], ['s', 'I-Disease'], ['disease', 'I-Disease'], [':', 'O'], ['a', 'O'], ['longitudinal', 'O'], ['study', 'O'], ['on', 'O'], ['the', 'O'], ['effects', 'O'], ['of', 'O'], ['drug', 'O'], ['withdrawal', 'O'], ['.', 'O']]\n",
      "[['OBJECTIVES', 'O'], [':', 'O'], ['The', 'O'], ['United', 'O'], ['Kingdom', 'O'], ['Parkinson', 'B-Disease'], [\"'\", 'I-Disease'], ['s', 'I-Disease'], ['Disease', 'I-Disease'], ['Research', 'O'], ['Group', 'O'], ['(', 'O'], ['UKPDRG', 'O'], [')', 'O'], ['trial', 'O'], ['found', 'O'], ['an', 'O'], ['increased', 'O'], ['mortality', 'O'], ['in', 'O'], ['patients', 'O'], ['with', 'O'], ['Parkinson', 'B-Disease'], [\"'\", 'I-Disease'], ['s', 'I-Disease'], ['disease', 'I-Disease'], ['(', 'O'], ['PD', 'B-Disease'], [')', 'O'], ['randomized', 'O'], ['to', 'O'], ['receive', 'O'], ['10', 'O'], ['mg', 'O'], ['selegiline', 'O'], ['per', 'O'], ['day', 'O'], ['and', 'O'], ['L', 'O'], ['-', 'O'], ['dopa', 'O'], ['compared', 'O'], ['with', 'O'], ['those', 'O'], ['taking', 'O'], ['L', 'O'], ['-', 'O'], ['dopa', 'O'], ['alone', 'O'], ['.', 'O']]\n",
      "[['Recently', 'O'], [',', 'O'], ['we', 'O'], ['found', 'O'], ['that', 'O'], ['therapy', 'O'], ['with', 'O'], ['selegiline', 'O'], ['and', 'O'], ['L', 'O'], ['-', 'O'], ['dopa', 'O'], ['was', 'O'], ['associated', 'O'], ['with', 'O'], ['selective', 'O'], ['systolic', 'B-Disease'], ['orthostatic', 'I-Disease'], ['hypotension', 'I-Disease'], ['which', 'O'], ['was', 'O'], ['abolished', 'O'], ['by', 'O'], ['withdrawal', 'O'], ['of', 'O'], ['selegiline', 'O'], ['.', 'O']]\n",
      "[['This', 'O'], ['unwanted', 'O'], ['effect', 'O'], ['on', 'O'], ['postural', 'O'], ['blood', 'O'], ['pressure', 'O'], ['was', 'O'], ['not', 'O'], ['the', 'O'], ['result', 'O'], ['of', 'O'], ['underlying', 'O'], ['autonomic', 'O'], ['failure', 'O'], ['.', 'O']]\n",
      "[['The', 'O'], ['aims', 'O'], ['of', 'O'], ['this', 'O'], ['study', 'O'], ['were', 'O'], ['to', 'O'], ['confirm', 'O'], ['our', 'O'], ['previous', 'O'], ['findings', 'O'], ['in', 'O'], ['a', 'O'], ['separate', 'O'], ['cohort', 'O'], ['of', 'O'], ['patients', 'O'], ['and', 'O'], ['to', 'O'], ['determine', 'O'], ['the', 'O'], ['time', 'O'], ['course', 'O'], ['of', 'O'], ['the', 'O'], ['cardiovascular', 'O'], ['consequences', 'O'], ['of', 'O'], ['stopping', 'O'], ['selegiline', 'O'], ['in', 'O'], ['the', 'O'], ['expectation', 'O'], ['that', 'O'], ['this', 'O'], ['might', 'O'], ['shed', 'O'], ['light', 'O'], ['on', 'O'], ['the', 'O'], ['mechanisms', 'O'], ['by', 'O'], ['which', 'O'], ['the', 'O'], ['drug', 'O'], ['causes', 'O'], ['orthostatic', 'B-Disease'], ['hypotension', 'I-Disease'], ['.', 'O']]\n",
      "[['METHODS', 'O'], [':', 'O'], ['The', 'O'], ['cardiovascular', 'O'], ['responses', 'O'], ['to', 'O'], ['standing', 'O'], ['and', 'O'], ['head', 'O'], ['-', 'O'], ['up', 'O'], ['tilt', 'O'], ['were', 'O'], ['studied', 'O'], ['repeatedly', 'O'], ['in', 'O'], ['PD', 'B-Disease'], ['patients', 'O'], ['receiving', 'O'], ['selegiline', 'O'], ['and', 'O'], ['as', 'O'], ['the', 'O'], ['drug', 'O'], ['was', 'O'], ['withdrawn', 'O'], ['.', 'O']]\n"
     ]
    }
   ],
   "source": [
    "X = [[word_to_index[w[0]] for w in s] for s in sentences]\n",
    "print(X[0],X[1])\n",
    "count=0\n",
    "for s in sentences:\n",
    "    print(s)\n",
    "    count=count+1\n",
    "    if count>5:\n",
    "        break\n",
    "# Padding each sequence to have same length  of each word\n",
    "X = pad_sequences(maxlen = max_len, sequences = X, padding = \"post\", value = word_to_index[\"PAD\"])"
   ]
  },
  {
   "cell_type": "code",
   "execution_count": 0,
   "metadata": {
    "colab": {
     "base_uri": "https://localhost:8080/",
     "height": 181
    },
    "colab_type": "code",
    "executionInfo": {
     "elapsed": 5892,
     "status": "ok",
     "timestamp": 1573331516841,
     "user": {
      "displayName": "Anant Bhavsar",
      "photoUrl": "",
      "userId": "10842212189610618468"
     },
     "user_tz": -330
    },
    "id": "Z2RHcqtjZGhB",
    "outputId": "d6189b70-e73d-46cc-8fdf-c909ad78b204"
   },
   "outputs": [
    {
     "name": "stdout",
     "output_type": "stream",
     "text": [
      "[ 2  3  4  5  6  7  8  9 10 11 12 13 14 15 16 17 18 19 20 21 22  0  0  0\n",
      "  0  0  0  0  0  0  0  0  0  0  0  0  0  0  0  0  0  0  0  0  0  0  0  0\n",
      "  0  0  0  0  0  0  0  0  0  0  0  0  0  0  0  0  0  0  0  0  0  0  0  0\n",
      "  0  0  0  0  0  0  0  0  0  0  0  0  0  0  0  0  0  0  0  0  0  0  0  0\n",
      "  0  0  0  0  0  0  0  0  0  0  0  0  0  0  0  0  0  0  0  0  0  0  0  0\n",
      "  0  0  0  0  0  0  0  0  0  0  0  0  0  0  0  0  0  0  0  0  0  0  0  0\n",
      "  0  0  0  0  0  0  0  0  0  0  0  0  0  0  0  0  0  0  0  0  0  0  0  0\n",
      "  0]\n"
     ]
    },
    {
     "data": {
      "text/plain": [
       "169"
      ]
     },
     "execution_count": 375,
     "metadata": {
      "tags": []
     },
     "output_type": "execute_result"
    }
   ],
   "source": [
    "print(X[0])\n",
    "len(X[0])"
   ]
  },
  {
   "cell_type": "code",
   "execution_count": 0,
   "metadata": {
    "colab": {
     "base_uri": "https://localhost:8080/",
     "height": 35
    },
    "colab_type": "code",
    "executionInfo": {
     "elapsed": 5674,
     "status": "ok",
     "timestamp": 1573331516843,
     "user": {
      "displayName": "Anant Bhavsar",
      "photoUrl": "",
      "userId": "10842212189610618468"
     },
     "user_tz": -330
    },
    "id": "rkbae6hbZGhH",
    "outputId": "ae526a28-b03f-45c4-90ac-8ec6391be100"
   },
   "outputs": [
    {
     "name": "stdout",
     "output_type": "stream",
     "text": [
      "[1, 1, 1, 2, 3, 1, 2, 3, 3, 3, 1, 1, 1, 1, 1, 1, 1, 1, 1, 1, 1]\n"
     ]
    }
   ],
   "source": [
    "# Convert label to index\n",
    "y = [[tag_to_index[w[1]] for w in s] for s in sentences]\n",
    "print(y[0])\n",
    "# padding\n",
    "y = pad_sequences(maxlen = max_len, sequences = y, padding = \"post\", value = tag_to_index[\"PAD\"])"
   ]
  },
  {
   "cell_type": "code",
   "execution_count": 0,
   "metadata": {
    "colab": {
     "base_uri": "https://localhost:8080/",
     "height": 72
    },
    "colab_type": "code",
    "executionInfo": {
     "elapsed": 5528,
     "status": "ok",
     "timestamp": 1573331516845,
     "user": {
      "displayName": "Anant Bhavsar",
      "photoUrl": "",
      "userId": "10842212189610618468"
     },
     "user_tz": -330
    },
    "id": "3cBf5sseZGhM",
    "outputId": "9f9cef3a-b2a0-4589-e1ad-c19fb1aa60bc"
   },
   "outputs": [
    {
     "name": "stdout",
     "output_type": "stream",
     "text": [
      "3\n",
      "[0. 1. 0. 0.] [0. 0. 1. 0.]\n",
      "4\n"
     ]
    }
   ],
   "source": [
    "num_tag = 3\n",
    "print(num_tag)\n",
    "# One hot encoded labels\n",
    "y = [to_categorical(i, num_classes = num_tag + 1) for i in y]\n",
    "print(y[0][1],y[0][6])\n",
    "print(len(y[0][1]))"
   ]
  },
  {
   "cell_type": "code",
   "execution_count": 0,
   "metadata": {
    "colab": {
     "base_uri": "https://localhost:8080/",
     "height": 235
    },
    "colab_type": "code",
    "executionInfo": {
     "elapsed": 4869,
     "status": "ok",
     "timestamp": 1573331516849,
     "user": {
      "displayName": "Anant Bhavsar",
      "photoUrl": "",
      "userId": "10842212189610618468"
     },
     "user_tz": -330
    },
    "id": "-FsPtEjBZGhc",
    "outputId": "ad30ed67-2c15-4dbe-80af-675364cca07f"
   },
   "outputs": [
    {
     "name": "stdout",
     "output_type": "stream",
     "text": [
      "*****Before Processing first sentence : *****\n",
      " Selegiline - induced postural hypotension in Parkinson ' s disease : a longitudinal study on the effects of drug withdrawal .\n",
      "*****After Processing first sentence : *****\n",
      "  [ 2  3  4  5  6  7  8  9 10 11 12 13 14 15 16 17 18 19 20 21 22  0  0  0\n",
      "  0  0  0  0  0  0  0  0  0  0  0  0  0  0  0  0  0  0  0  0  0  0  0  0\n",
      "  0  0  0  0  0  0  0  0  0  0  0  0  0  0  0  0  0  0  0  0  0  0  0  0\n",
      "  0  0  0  0  0  0  0  0  0  0  0  0  0  0  0  0  0  0  0  0  0  0  0  0\n",
      "  0  0  0  0  0  0  0  0  0  0  0  0  0  0  0  0  0  0  0  0  0  0  0  0\n",
      "  0  0  0  0  0  0  0  0  0  0  0  0  0  0  0  0  0  0  0  0  0  0  0  0\n",
      "  0  0  0  0  0  0  0  0  0  0  0  0  0  0  0  0  0  0  0  0  0  0  0  0\n",
      "  0]\n"
     ]
    },
    {
     "data": {
      "text/plain": [
       "169"
      ]
     },
     "execution_count": 380,
     "metadata": {
      "tags": []
     },
     "output_type": "execute_result"
    }
   ],
   "source": [
    "# Let's check the first sentence before and after processing.\n",
    "print('*****Before Processing first sentence : *****\\n', ' '.join([w[0] for w in sentences[0]]))\n",
    "print('*****After Processing first sentence : *****\\n ', X[0])\n",
    "len(X[0])"
   ]
  },
  {
   "cell_type": "code",
   "execution_count": 0,
   "metadata": {
    "colab": {
     "base_uri": "https://localhost:8080/",
     "height": 1000
    },
    "colab_type": "code",
    "executionInfo": {
     "elapsed": 4729,
     "status": "ok",
     "timestamp": 1573331516850,
     "user": {
      "displayName": "Anant Bhavsar",
      "photoUrl": "",
      "userId": "10842212189610618468"
     },
     "user_tz": -330
    },
    "id": "kx4OOHl-ZGhg",
    "outputId": "6efb0d2d-70ce-4dbb-b754-b5d0b38b76db"
   },
   "outputs": [
    {
     "name": "stdout",
     "output_type": "stream",
     "text": [
      "*****Before Processing first sentence : *****\n",
      " O O O B-Disease I-Disease O B-Disease I-Disease I-Disease I-Disease O O O O O O O O O O O\n",
      "*****After Processing first sentence : *****\n",
      "  [[0. 1. 0. 0.]\n",
      " [0. 1. 0. 0.]\n",
      " [0. 1. 0. 0.]\n",
      " [0. 0. 1. 0.]\n",
      " [0. 0. 0. 1.]\n",
      " [0. 1. 0. 0.]\n",
      " [0. 0. 1. 0.]\n",
      " [0. 0. 0. 1.]\n",
      " [0. 0. 0. 1.]\n",
      " [0. 0. 0. 1.]\n",
      " [0. 1. 0. 0.]\n",
      " [0. 1. 0. 0.]\n",
      " [0. 1. 0. 0.]\n",
      " [0. 1. 0. 0.]\n",
      " [0. 1. 0. 0.]\n",
      " [0. 1. 0. 0.]\n",
      " [0. 1. 0. 0.]\n",
      " [0. 1. 0. 0.]\n",
      " [0. 1. 0. 0.]\n",
      " [0. 1. 0. 0.]\n",
      " [0. 1. 0. 0.]\n",
      " [1. 0. 0. 0.]\n",
      " [1. 0. 0. 0.]\n",
      " [1. 0. 0. 0.]\n",
      " [1. 0. 0. 0.]\n",
      " [1. 0. 0. 0.]\n",
      " [1. 0. 0. 0.]\n",
      " [1. 0. 0. 0.]\n",
      " [1. 0. 0. 0.]\n",
      " [1. 0. 0. 0.]\n",
      " [1. 0. 0. 0.]\n",
      " [1. 0. 0. 0.]\n",
      " [1. 0. 0. 0.]\n",
      " [1. 0. 0. 0.]\n",
      " [1. 0. 0. 0.]\n",
      " [1. 0. 0. 0.]\n",
      " [1. 0. 0. 0.]\n",
      " [1. 0. 0. 0.]\n",
      " [1. 0. 0. 0.]\n",
      " [1. 0. 0. 0.]\n",
      " [1. 0. 0. 0.]\n",
      " [1. 0. 0. 0.]\n",
      " [1. 0. 0. 0.]\n",
      " [1. 0. 0. 0.]\n",
      " [1. 0. 0. 0.]\n",
      " [1. 0. 0. 0.]\n",
      " [1. 0. 0. 0.]\n",
      " [1. 0. 0. 0.]\n",
      " [1. 0. 0. 0.]\n",
      " [1. 0. 0. 0.]\n",
      " [1. 0. 0. 0.]\n",
      " [1. 0. 0. 0.]\n",
      " [1. 0. 0. 0.]\n",
      " [1. 0. 0. 0.]\n",
      " [1. 0. 0. 0.]\n",
      " [1. 0. 0. 0.]\n",
      " [1. 0. 0. 0.]\n",
      " [1. 0. 0. 0.]\n",
      " [1. 0. 0. 0.]\n",
      " [1. 0. 0. 0.]\n",
      " [1. 0. 0. 0.]\n",
      " [1. 0. 0. 0.]\n",
      " [1. 0. 0. 0.]\n",
      " [1. 0. 0. 0.]\n",
      " [1. 0. 0. 0.]\n",
      " [1. 0. 0. 0.]\n",
      " [1. 0. 0. 0.]\n",
      " [1. 0. 0. 0.]\n",
      " [1. 0. 0. 0.]\n",
      " [1. 0. 0. 0.]\n",
      " [1. 0. 0. 0.]\n",
      " [1. 0. 0. 0.]\n",
      " [1. 0. 0. 0.]\n",
      " [1. 0. 0. 0.]\n",
      " [1. 0. 0. 0.]\n",
      " [1. 0. 0. 0.]\n",
      " [1. 0. 0. 0.]\n",
      " [1. 0. 0. 0.]\n",
      " [1. 0. 0. 0.]\n",
      " [1. 0. 0. 0.]\n",
      " [1. 0. 0. 0.]\n",
      " [1. 0. 0. 0.]\n",
      " [1. 0. 0. 0.]\n",
      " [1. 0. 0. 0.]\n",
      " [1. 0. 0. 0.]\n",
      " [1. 0. 0. 0.]\n",
      " [1. 0. 0. 0.]\n",
      " [1. 0. 0. 0.]\n",
      " [1. 0. 0. 0.]\n",
      " [1. 0. 0. 0.]\n",
      " [1. 0. 0. 0.]\n",
      " [1. 0. 0. 0.]\n",
      " [1. 0. 0. 0.]\n",
      " [1. 0. 0. 0.]\n",
      " [1. 0. 0. 0.]\n",
      " [1. 0. 0. 0.]\n",
      " [1. 0. 0. 0.]\n",
      " [1. 0. 0. 0.]\n",
      " [1. 0. 0. 0.]\n",
      " [1. 0. 0. 0.]\n",
      " [1. 0. 0. 0.]\n",
      " [1. 0. 0. 0.]\n",
      " [1. 0. 0. 0.]\n",
      " [1. 0. 0. 0.]\n",
      " [1. 0. 0. 0.]\n",
      " [1. 0. 0. 0.]\n",
      " [1. 0. 0. 0.]\n",
      " [1. 0. 0. 0.]\n",
      " [1. 0. 0. 0.]\n",
      " [1. 0. 0. 0.]\n",
      " [1. 0. 0. 0.]\n",
      " [1. 0. 0. 0.]\n",
      " [1. 0. 0. 0.]\n",
      " [1. 0. 0. 0.]\n",
      " [1. 0. 0. 0.]\n",
      " [1. 0. 0. 0.]\n",
      " [1. 0. 0. 0.]\n",
      " [1. 0. 0. 0.]\n",
      " [1. 0. 0. 0.]\n",
      " [1. 0. 0. 0.]\n",
      " [1. 0. 0. 0.]\n",
      " [1. 0. 0. 0.]\n",
      " [1. 0. 0. 0.]\n",
      " [1. 0. 0. 0.]\n",
      " [1. 0. 0. 0.]\n",
      " [1. 0. 0. 0.]\n",
      " [1. 0. 0. 0.]\n",
      " [1. 0. 0. 0.]\n",
      " [1. 0. 0. 0.]\n",
      " [1. 0. 0. 0.]\n",
      " [1. 0. 0. 0.]\n",
      " [1. 0. 0. 0.]\n",
      " [1. 0. 0. 0.]\n",
      " [1. 0. 0. 0.]\n",
      " [1. 0. 0. 0.]\n",
      " [1. 0. 0. 0.]\n",
      " [1. 0. 0. 0.]\n",
      " [1. 0. 0. 0.]\n",
      " [1. 0. 0. 0.]\n",
      " [1. 0. 0. 0.]\n",
      " [1. 0. 0. 0.]\n",
      " [1. 0. 0. 0.]\n",
      " [1. 0. 0. 0.]\n",
      " [1. 0. 0. 0.]\n",
      " [1. 0. 0. 0.]\n",
      " [1. 0. 0. 0.]\n",
      " [1. 0. 0. 0.]\n",
      " [1. 0. 0. 0.]\n",
      " [1. 0. 0. 0.]\n",
      " [1. 0. 0. 0.]\n",
      " [1. 0. 0. 0.]\n",
      " [1. 0. 0. 0.]\n",
      " [1. 0. 0. 0.]\n",
      " [1. 0. 0. 0.]\n",
      " [1. 0. 0. 0.]\n",
      " [1. 0. 0. 0.]\n",
      " [1. 0. 0. 0.]\n",
      " [1. 0. 0. 0.]\n",
      " [1. 0. 0. 0.]\n",
      " [1. 0. 0. 0.]\n",
      " [1. 0. 0. 0.]\n",
      " [1. 0. 0. 0.]\n",
      " [1. 0. 0. 0.]\n",
      " [1. 0. 0. 0.]\n",
      " [1. 0. 0. 0.]\n",
      " [1. 0. 0. 0.]\n",
      " [1. 0. 0. 0.]\n",
      " [1. 0. 0. 0.]\n",
      " [1. 0. 0. 0.]]\n"
     ]
    }
   ],
   "source": [
    "# First label before and after processing.\n",
    "print('*****Before Processing first sentence : *****\\n', ' '.join([w[1] for w in sentences[0]]))\n",
    "print('*****After Processing first sentence : *****\\n ', y[0])"
   ]
  },
  {
   "cell_type": "code",
   "execution_count": 0,
   "metadata": {
    "colab": {
     "base_uri": "https://localhost:8080/",
     "height": 55
    },
    "colab_type": "code",
    "executionInfo": {
     "elapsed": 4506,
     "status": "ok",
     "timestamp": 1573331516851,
     "user": {
      "displayName": "Anant Bhavsar",
      "photoUrl": "",
      "userId": "10842212189610618468"
     },
     "user_tz": -330
    },
    "id": "sIn2eANtZGhk",
    "outputId": "51e8bddf-d86d-4706-e67a-4f53946466b4"
   },
   "outputs": [
    {
     "data": {
      "text/plain": [
       "'path = \"/content/drive/My Drive/Colab Notebooks/PubMed/wikipedia-pubmed-and-PMC-w2v.bin\"\\nembedding = KeyedVectors.load_word2vec_format(path, binary=True)\\nembeddings_index={}\\nfor word in embedding.wv.vocab:\\n    emb = embedding[word]\\n    embeddings_index[word] = emb\\nprint(\\'Found %s word vectors.\\' % len(embeddings_index))'"
      ]
     },
     "execution_count": 382,
     "metadata": {
      "tags": []
     },
     "output_type": "execute_result"
    }
   ],
   "source": [
    "path = \"Embedding/wikipedia-pubmed-and-PMC-w2v.bin\"\n",
    "embedding = KeyedVectors.load_word2vec_format(path, binary=True)\n",
    "embeddings_index={}\n",
    "for word in embedding.wv.vocab:\n",
    "    emb = embedding[word]\n",
    "    embeddings_index[word] = emb\n",
    "print('Found %s word vectors.' % len(embeddings_index))  "
   ]
  },
  {
   "cell_type": "code",
   "execution_count": 0,
   "metadata": {
    "colab": {},
    "colab_type": "code",
    "id": "Weil0UecZGhn"
   },
   "outputs": [],
   "source": [
    "num_words=len(word_to_index) + 1\n",
    "embedding_matrix = np.zeros((len(words)+2, embedding_dim))\n",
    "for word, i in word_to_index.items():\n",
    "    embedding_vector = embeddings_index.get(word)\n",
    "    if embedding_vector is not None:\n",
    "        # words not found in embedding index will be all-zeros.\n",
    "        embedding_matrix[i] = embedding_vector"
   ]
  },
  {
   "cell_type": "code",
   "execution_count": 0,
   "metadata": {
    "colab": {},
    "colab_type": "code",
    "id": "zmekxoyXZGhr"
   },
   "outputs": [],
   "source": [
    "embedding_layer = Embedding(len(words)+2,\n",
    "                            embedding_dim,\n",
    "                            embeddings_initializer=Constant(embedding_matrix),\n",
    "                            input_length=max_len,\n",
    "                            trainable=False)"
   ]
  },
  {
   "cell_type": "code",
   "execution_count": null,
   "metadata": {
    "colab": {
     "base_uri": "https://localhost:8080/",
     "height": 380
    },
    "colab_type": "code",
    "executionInfo": {
     "elapsed": 5176,
     "status": "ok",
     "timestamp": 1573331518214,
     "user": {
      "displayName": "Anant Bhavsar",
      "photoUrl": "",
      "userId": "10842212189610618468"
     },
     "user_tz": -330
    },
    "id": "Q9T0ZQI_ZGhu",
    "outputId": "22129fa1-aca1-437d-d1aa-4c921347797f"
   },
   "outputs": [],
   "source": [
    "num_tags = 3\n",
    "# Model architecture\n",
    "input = Input(shape = (max_len,))\n",
    "#model = Embedding(input_dim = len(words) + 2, output_dim = embedding_dim, input_length = max_len, mask_zero = True)(input)\n",
    "model=embedding_layer(input)\n",
    "model = Bidirectional(LSTM(units = 100, return_sequences=True, recurrent_dropout=0.1))(model)\n",
    "model = Bidirectional(LSTM(units = 100, return_sequences=True, recurrent_dropout=0.1))(model)\n",
    "\n",
    "crf = CRF(num_tags+1)  # CRF layer\n",
    "out = crf(model)  # output\n",
    "\n",
    "model = Model(input, out)\n",
    "model.compile(optimizer=\"rmsprop\", loss=crf.loss_function, metrics=[crf.accuracy])\n",
    "\n",
    "model.summary()"
   ]
  },
  {
   "cell_type": "code",
   "execution_count": 0,
   "metadata": {
    "colab": {},
    "colab_type": "code",
    "id": "02Wvf8ExZGhx"
   },
   "outputs": [],
   "source": [
    "checkpointer = ModelCheckpoint(filepath = 'model.h5',\n",
    "                       verbose = 0,\n",
    "                       mode = 'auto',\n",
    "                       save_best_only = True,\n",
    "                       monitor='val_loss')"
   ]
  },
  {
   "cell_type": "code",
   "execution_count": 0,
   "metadata": {
    "colab": {
     "base_uri": "https://localhost:8080/",
     "height": 782
    },
    "colab_type": "code",
    "executionInfo": {
     "elapsed": 2008439,
     "status": "ok",
     "timestamp": 1573333522114,
     "user": {
      "displayName": "Anant Bhavsar",
      "photoUrl": "",
      "userId": "10842212189610618468"
     },
     "user_tz": -330
    },
    "id": "Ut7PZuZeZGh1",
    "outputId": "2abf46e4-0a84-490c-9197-8bedbe5df526"
   },
   "outputs": [
    {
     "name": "stdout",
     "output_type": "stream",
     "text": [
      "Train on 4104 samples, validate on 456 samples\n",
      "Epoch 1/20\n",
      "4104/4104 [==============================] - 116s 28ms/step - loss: 0.0771 - crf_viterbi_accuracy: 0.9775 - val_loss: 0.0402 - val_crf_viterbi_accuracy: 0.9854\n",
      "Epoch 2/20\n",
      "4104/4104 [==============================] - 99s 24ms/step - loss: 0.0228 - crf_viterbi_accuracy: 0.9915 - val_loss: 0.0162 - val_crf_viterbi_accuracy: 0.9942\n",
      "Epoch 3/20\n",
      "4104/4104 [==============================] - 100s 24ms/step - loss: 0.0134 - crf_viterbi_accuracy: 0.9948 - val_loss: 0.0126 - val_crf_viterbi_accuracy: 0.9952\n",
      "Epoch 4/20\n",
      "4104/4104 [==============================] - 99s 24ms/step - loss: 0.0099 - crf_viterbi_accuracy: 0.9959 - val_loss: 0.0089 - val_crf_viterbi_accuracy: 0.9960\n",
      "Epoch 5/20\n",
      "4104/4104 [==============================] - 99s 24ms/step - loss: 0.0076 - crf_viterbi_accuracy: 0.9964 - val_loss: 0.0085 - val_crf_viterbi_accuracy: 0.9957\n",
      "Epoch 6/20\n",
      "4104/4104 [==============================] - 100s 24ms/step - loss: 0.0056 - crf_viterbi_accuracy: 0.9967 - val_loss: 0.0068 - val_crf_viterbi_accuracy: 0.9964\n",
      "Epoch 7/20\n",
      "4104/4104 [==============================] - 99s 24ms/step - loss: 0.0038 - crf_viterbi_accuracy: 0.9971 - val_loss: 0.0066 - val_crf_viterbi_accuracy: 0.9960\n",
      "Epoch 8/20\n",
      "4104/4104 [==============================] - 99s 24ms/step - loss: 0.0023 - crf_viterbi_accuracy: 0.9974 - val_loss: 0.0048 - val_crf_viterbi_accuracy: 0.9964\n",
      "Epoch 9/20\n",
      "4104/4104 [==============================] - 99s 24ms/step - loss: 9.4814e-04 - crf_viterbi_accuracy: 0.9978 - val_loss: 0.0040 - val_crf_viterbi_accuracy: 0.9966\n",
      "Epoch 10/20\n",
      "4104/4104 [==============================] - 99s 24ms/step - loss: -3.6726e-04 - crf_viterbi_accuracy: 0.9981 - val_loss: 0.0046 - val_crf_viterbi_accuracy: 0.9964\n",
      "Epoch 11/20\n",
      "4104/4104 [==============================] - 100s 24ms/step - loss: -0.0015 - crf_viterbi_accuracy: 0.9983 - val_loss: 0.0060 - val_crf_viterbi_accuracy: 0.9956\n",
      "Epoch 12/20\n",
      "4104/4104 [==============================] - 100s 24ms/step - loss: -0.0027 - crf_viterbi_accuracy: 0.9986 - val_loss: 0.0029 - val_crf_viterbi_accuracy: 0.9967\n",
      "Epoch 13/20\n",
      "4104/4104 [==============================] - 100s 24ms/step - loss: -0.0035 - crf_viterbi_accuracy: 0.9987 - val_loss: 0.0030 - val_crf_viterbi_accuracy: 0.9962\n",
      "Epoch 14/20\n",
      "4104/4104 [==============================] - 99s 24ms/step - loss: -0.0045 - crf_viterbi_accuracy: 0.9990 - val_loss: 0.0042 - val_crf_viterbi_accuracy: 0.9966\n",
      "Epoch 15/20\n",
      "4104/4104 [==============================] - 99s 24ms/step - loss: -0.0054 - crf_viterbi_accuracy: 0.9992 - val_loss: 0.0022 - val_crf_viterbi_accuracy: 0.9968\n",
      "Epoch 16/20\n",
      "4104/4104 [==============================] - 99s 24ms/step - loss: -0.0062 - crf_viterbi_accuracy: 0.9994 - val_loss: 0.0078 - val_crf_viterbi_accuracy: 0.9957\n",
      "Epoch 17/20\n",
      "4104/4104 [==============================] - 99s 24ms/step - loss: -0.0068 - crf_viterbi_accuracy: 0.9994 - val_loss: 0.0041 - val_crf_viterbi_accuracy: 0.9958\n",
      "Epoch 18/20\n",
      "4104/4104 [==============================] - 99s 24ms/step - loss: -0.0075 - crf_viterbi_accuracy: 0.9995 - val_loss: 0.0025 - val_crf_viterbi_accuracy: 0.9969\n",
      "Epoch 19/20\n",
      "4104/4104 [==============================] - 97s 24ms/step - loss: -0.0082 - crf_viterbi_accuracy: 0.9996 - val_loss: 0.0044 - val_crf_viterbi_accuracy: 0.9968\n",
      "Epoch 20/20\n",
      "4104/4104 [==============================] - 99s 24ms/step - loss: -0.0087 - crf_viterbi_accuracy: 0.9997 - val_loss: 0.0032 - val_crf_viterbi_accuracy: 0.9967\n"
     ]
    }
   ],
   "source": [
    "history = model.fit(X, np.array(y), batch_size=batch_size, epochs=epochs,\n",
    "                    validation_split=0.1)"
   ]
  },
  {
   "cell_type": "code",
   "execution_count": 0,
   "metadata": {
    "colab": {
     "base_uri": "https://localhost:8080/",
     "height": 517
    },
    "colab_type": "code",
    "executionInfo": {
     "elapsed": 2008087,
     "status": "ok",
     "timestamp": 1573333522124,
     "user": {
      "displayName": "Anant Bhavsar",
      "photoUrl": "",
      "userId": "10842212189610618468"
     },
     "user_tz": -330
    },
    "id": "2cpLFKh9ZGh4",
    "outputId": "93b7a17c-c2f3-48b9-ee80-c7da988aee0f"
   },
   "outputs": [
    {
     "data": {
      "text/plain": [
       "<matplotlib.legend.Legend at 0x7f316d199f28>"
      ]
     },
     "execution_count": 388,
     "metadata": {
      "tags": []
     },
     "output_type": "execute_result"
    },
    {
     "data": {
      "image/png": "[encoded data removed]",
      "text/plain": [
       "<Figure size 576x576 with 1 Axes>"
      ]
     },
     "metadata": {
      "tags": []
     },
     "output_type": "display_data"
    }
   ],
   "source": [
    "\n",
    "\n",
    "acc = history.history['crf_viterbi_accuracy']\n",
    "val_acc = history.history['val_crf_viterbi_accuracy']\n",
    "loss = history.history['loss']\n",
    "val_loss = history.history['val_loss']\n",
    "plt.figure(figsize = (8, 8))\n",
    "epochs = range(1, len(acc) + 1)\n",
    "plt.plot(epochs, acc, 'bo', label='Training acc')\n",
    "plt.plot(epochs, val_acc, 'b', label='Validation acc')\n",
    "plt.title('Training and validation accuracy')\n",
    "plt.legend()"
   ]
  },
  {
   "cell_type": "code",
   "execution_count": 0,
   "metadata": {
    "colab": {
     "base_uri": "https://localhost:8080/",
     "height": 499
    },
    "colab_type": "code",
    "executionInfo": {
     "elapsed": 2007462,
     "status": "ok",
     "timestamp": 1573333522127,
     "user": {
      "displayName": "Anant Bhavsar",
      "photoUrl": "",
      "userId": "10842212189610618468"
     },
     "user_tz": -330
    },
    "id": "2sJLylMQZGh8",
    "outputId": "9e44ec4a-9183-4479-ccb3-2e924538b4e1"
   },
   "outputs": [
    {
     "data": {
      "image/png": "[encoded data removed]",
      "text/plain": [
       "<Figure size 576x576 with 1 Axes>"
      ]
     },
     "metadata": {
      "tags": []
     },
     "output_type": "display_data"
    }
   ],
   "source": [
    "plt.figure(figsize = (8, 8))\n",
    "plt.plot(epochs, loss, 'bo', label='Training loss')\n",
    "plt.plot(epochs, val_loss, 'b', label='Validation loss')\n",
    "plt.title('Training and validation loss')\n",
    "plt.legend()\n",
    "plt.show()"
   ]
  },
  {
   "cell_type": "code",
   "execution_count": 0,
   "metadata": {
    "colab": {
     "base_uri": "https://localhost:8080/",
     "height": 201
    },
    "colab_type": "code",
    "executionInfo": {
     "elapsed": 2004801,
     "status": "ok",
     "timestamp": 1573333523416,
     "user": {
      "displayName": "Anant Bhavsar",
      "photoUrl": "",
      "userId": "10842212189610618468"
     },
     "user_tz": -330
    },
    "id": "4y2IO8YzZGiN",
    "outputId": "56ae5f18-907f-45e0-db58-c71048f5806e"
   },
   "outputs": [
    {
     "name": "stdout",
     "output_type": "stream",
     "text": [
      "[1, 19, 1, 2672, 7, 17, 6121, 3, 1, 2692, 7, 13, 1, 982, 3, 539, 7400, 22] [1, 3, 1, 30, 123, 3, 982, 32, 150, 13, 1, 2515, 3, 1062, 324, 113, 68, 2672, 7, 17, 1, 2692, 350, 1, 3, 1, 30, 1, 22, 491, 32, 22]\n",
      "[['Clustering', 'O'], ['of', 'O'], ['missense', 'O'], ['mutations', 'O'], ['in', 'O'], ['the', 'O'], ['ataxia', 'B-Disease'], ['-', 'I-Disease'], ['telangiectasia', 'I-Disease'], ['gene', 'O'], ['in', 'O'], ['a', 'O'], ['sporadic', 'B-Disease'], ['T', 'I-Disease'], ['-', 'I-Disease'], ['cell', 'I-Disease'], ['leukaemia', 'I-Disease'], ['.', 'O']]\n",
      "[['Ataxia', 'B-Disease'], ['-', 'I-Disease'], ['telangiectasia', 'I-Disease'], ['(', 'O'], ['A', 'B-Disease'], ['-', 'I-Disease'], ['T', 'I-Disease'], [')', 'O'], ['is', 'O'], ['a', 'O'], ['recessive', 'B-Disease'], ['multi', 'I-Disease'], ['-', 'I-Disease'], ['system', 'I-Disease'], ['disorder', 'I-Disease'], ['caused', 'O'], ['by', 'O'], ['mutations', 'O'], ['in', 'O'], ['the', 'O'], ['ATM', 'O'], ['gene', 'O'], ['at', 'O'], ['11q22', 'O'], ['-', 'O'], ['q23', 'O'], ['(', 'O'], ['ref', 'O'], ['.', 'O'], ['3', 'O'], [')', 'O'], ['.', 'O']]\n",
      "[['The', 'O'], ['risk', 'O'], ['of', 'O'], ['cancer', 'B-Disease'], [',', 'O'], ['especially', 'O'], ['lymphoid', 'B-Disease'], ['neoplasias', 'I-Disease'], [',', 'O'], ['is', 'O'], ['substantially', 'O'], ['elevated', 'O'], ['in', 'O'], ['A', 'B-Disease'], ['-', 'I-Disease'], ['T', 'I-Disease'], ['patients', 'O'], ['and', 'O'], ['has', 'O'], ['long', 'O'], ['been', 'O'], ['associated', 'O'], ['with', 'O'], ['chromosomal', 'O'], ['instability', 'O'], ['.', 'O']]\n",
      "[['By', 'O'], ['analysing', 'O'], ['tumour', 'B-Disease'], ['DNA', 'O'], ['from', 'O'], ['patients', 'O'], ['with', 'O'], ['sporadic', 'B-Disease'], ['T', 'I-Disease'], ['-', 'I-Disease'], ['cell', 'I-Disease'], ['prolymphocytic', 'I-Disease'], ['leukaemia', 'I-Disease'], ['(', 'O'], ['T', 'B-Disease'], ['-', 'I-Disease'], ['PLL', 'I-Disease'], [')', 'O'], [',', 'O'], ['a', 'O'], ['rare', 'O'], ['clonal', 'B-Disease'], ['malignancy', 'I-Disease'], ['with', 'O'], ['similarities', 'O'], ['to', 'O'], ['a', 'O'], ['mature', 'B-Disease'], ['T', 'I-Disease'], ['-', 'I-Disease'], ['cell', 'I-Disease'], ['leukaemia', 'I-Disease'], ['seen', 'O'], ['in', 'O'], ['A', 'B-Disease'], ['-', 'I-Disease'], ['T', 'I-Disease'], [',', 'O'], ['we', 'O'], ['demonstrate', 'O'], ['a', 'O'], ['high', 'O'], ['frequency', 'O'], ['of', 'O'], ['ATM', 'O'], ['mutations', 'O'], ['in', 'O'], ['T', 'B-Disease'], ['-', 'I-Disease'], ['PLL', 'I-Disease'], ['.', 'O']]\n",
      "[['In', 'O'], ['marked', 'O'], ['contrast', 'O'], ['to', 'O'], ['the', 'O'], ['ATM', 'O'], ['mutation', 'O'], ['pattern', 'O'], ['in', 'O'], ['A', 'B-Disease'], ['-', 'I-Disease'], ['T', 'I-Disease'], [',', 'O'], ['the', 'O'], ['most', 'O'], ['frequent', 'O'], ['nucleotide', 'O'], ['changes', 'O'], ['in', 'O'], ['this', 'O'], ['leukaemia', 'B-Disease'], ['were', 'O'], ['missense', 'O'], ['mutations', 'O'], ['.', 'O']]\n",
      "[['These', 'O'], ['clustered', 'O'], ['in', 'O'], ['the', 'O'], ['region', 'O'], ['corresponding', 'O'], ['to', 'O'], ['the', 'O'], ['kinase', 'O'], ['domain', 'O'], [',', 'O'], ['which', 'O'], ['is', 'O'], ['highly', 'O'], ['conserved', 'O'], ['in', 'O'], ['ATM', 'O'], ['-', 'O'], ['related', 'O'], ['proteins', 'O'], ['in', 'O'], ['mouse', 'O'], [',', 'O'], ['yeast', 'O'], ['and', 'O'], ['Drosophila', 'O'], ['.', 'O']]\n",
      "[1, 1, 1, 1, 1, 1, 2, 3, 3, 1, 1, 1, 2, 3, 3, 3, 3, 1]\n",
      "3\n"
     ]
    }
   ],
   "source": [
    "tsvfile=open(\"NCBI-disease-IOB/test.tsv\",encoding=\"utf-8\")\n",
    "tsvreader = csv.reader(tsvfile, delimiter=\"\\t\")\n",
    "data1=[]\n",
    "sentences1=[]\n",
    "words1=[]\n",
    "tags1=[]\n",
    "for line in tsvreader:\n",
    "    if line!=[]:\n",
    "        data1.append(line)\n",
    "        if line[0] not in words1:\n",
    "            words1.append(line[0])\n",
    "        if line[1] not in tags1:\n",
    "            tags1.append(line[1])\n",
    "    else:\n",
    "        sentences1.append(data1)\n",
    "        data1=[]\n",
    "\n",
    "X1 = [[word_to_index[w[0] if w[0] in words else \"UNK\"] for w in s] for s in sentences1]\n",
    "print(X1[0],X1[1])\n",
    "count=0\n",
    "for s in sentences1:\n",
    "    print(s)\n",
    "    count=count+1\n",
    "    if count>5:\n",
    "        break\n",
    "# Padding each sequence to have same length  of each word\n",
    "X1 = pad_sequences(maxlen = max_len, sequences = X1, padding = \"post\", value = word_to_index[\"PAD\"])\n",
    "y1 = [[tag_to_index[w[1]] for w in s] for s in sentences1]\n",
    "print(y1[0])\n",
    "# padding\n",
    "y1 = pad_sequences(maxlen = max_len, sequences = y1, padding = \"post\", value = tag_to_index[\"PAD\"])\n",
    "num_tag = 3\n",
    "print(num_tag)\n",
    "# One hot encoded labels\n",
    "y1=[to_categorical(i, num_classes = num_tag + 1) for i in y1]"
   ]
  },
  {
   "cell_type": "code",
   "execution_count": 0,
   "metadata": {
    "colab": {},
    "colab_type": "code",
    "id": "9J6P5FJUZGiQ"
   },
   "outputs": [],
   "source": [
    "y_pred = model.predict(X1)\n",
    "y_pred = np.argmax(y_pred, axis=-1)\n",
    "y_test_true = np.argmax(y1, -1)"
   ]
  },
  {
   "cell_type": "code",
   "execution_count": 0,
   "metadata": {
    "colab": {},
    "colab_type": "code",
    "id": "BpOdiRhGZGiR"
   },
   "outputs": [],
   "source": [
    "y_pred = [[idx2tag[i] for i in row] for row in y_pred]\n",
    "y_test_true = [[idx2tag[i] for i in row] for row in y_test_true] "
   ]
  },
  {
   "cell_type": "code",
   "execution_count": 0,
   "metadata": {
    "colab": {
     "base_uri": "https://localhost:8080/",
     "height": 35
    },
    "colab_type": "code",
    "executionInfo": {
     "elapsed": 2013356,
     "status": "ok",
     "timestamp": 1573333533539,
     "user": {
      "displayName": "Anant Bhavsar",
      "photoUrl": "",
      "userId": "10842212189610618468"
     },
     "user_tz": -330
    },
    "id": "JwPyceJKZGiV",
    "outputId": "abc0c556-8db0-4ad8-d2b3-ad7149b08dc8"
   },
   "outputs": [
    {
     "name": "stdout",
     "output_type": "stream",
     "text": [
      "F1-score is : 71.8%\n"
     ]
    }
   ],
   "source": [
    "print(\"F1-score is : {:.1%}\".format(f1_score(y_test_true, y_pred)))"
   ]
  },
  {
   "cell_type": "code",
   "execution_count": 0,
   "metadata": {
    "colab": {
     "base_uri": "https://localhost:8080/",
     "height": 217
    },
    "colab_type": "code",
    "executionInfo": {
     "elapsed": 2014721,
     "status": "ok",
     "timestamp": 1573333535492,
     "user": {
      "displayName": "Anant Bhavsar",
      "photoUrl": "",
      "userId": "10842212189610618468"
     },
     "user_tz": -330
    },
    "id": "uhX1Z2O0ZGiZ",
    "outputId": "663a2dba-8bb5-4ccf-ffa8-a918b3176e9a"
   },
   "outputs": [
    {
     "name": "stdout",
     "output_type": "stream",
     "text": [
      "              precision    recall  f1-score   support\n",
      "\n",
      "   B-Disease       0.61      0.44      0.51       960\n",
      "   I-Disease       0.72      0.37      0.49      1087\n",
      "           O       0.95      0.99      0.97     22441\n",
      "         PAD       1.00      1.00      1.00    134203\n",
      "\n",
      "    accuracy                           0.99    158691\n",
      "   macro avg       0.82      0.70      0.74    158691\n",
      "weighted avg       0.99      0.99      0.99    158691\n",
      "\n"
     ]
    }
   ],
   "source": [
    "report = flat_classification_report(y_pred=y_pred, y_true=y_test_true)\n",
    "print(report)"
   ]
  },
  {
   "cell_type": "code",
   "execution_count": 0,
   "metadata": {
    "colab": {
     "base_uri": "https://localhost:8080/",
     "height": 55
    },
    "colab_type": "code",
    "executionInfo": {
     "elapsed": 2014092,
     "status": "ok",
     "timestamp": 1573333535494,
     "user": {
      "displayName": "Anant Bhavsar",
      "photoUrl": "",
      "userId": "10842212189610618468"
     },
     "user_tz": -330
    },
    "id": "25RqssmsZGib",
    "outputId": "3290076d-c298-45db-f71a-52308346732e"
   },
   "outputs": [
    {
     "name": "stdout",
     "output_type": "stream",
     "text": [
      "['O', 'O', 'O', 'O', 'O', 'O', 'B-Disease', 'I-Disease', 'I-Disease', 'O', 'O', 'O', 'B-Disease', 'I-Disease', 'I-Disease', 'I-Disease', 'I-Disease', 'O', 'PAD', 'PAD', 'PAD', 'PAD', 'PAD', 'PAD', 'PAD', 'PAD', 'PAD', 'PAD', 'PAD', 'PAD', 'PAD', 'PAD', 'PAD', 'PAD', 'PAD', 'PAD', 'PAD', 'PAD', 'PAD', 'PAD', 'PAD', 'PAD', 'PAD', 'PAD', 'PAD', 'PAD', 'PAD', 'PAD', 'PAD', 'PAD', 'PAD', 'PAD', 'PAD', 'PAD', 'PAD', 'PAD', 'PAD', 'PAD', 'PAD', 'PAD', 'PAD', 'PAD', 'PAD', 'PAD', 'PAD', 'PAD', 'PAD', 'PAD', 'PAD', 'PAD', 'PAD', 'PAD', 'PAD', 'PAD', 'PAD', 'PAD', 'PAD', 'PAD', 'PAD', 'PAD', 'PAD', 'PAD', 'PAD', 'PAD', 'PAD', 'PAD', 'PAD', 'PAD', 'PAD', 'PAD', 'PAD', 'PAD', 'PAD', 'PAD', 'PAD', 'PAD', 'PAD', 'PAD', 'PAD', 'PAD', 'PAD', 'PAD', 'PAD', 'PAD', 'PAD', 'PAD', 'PAD', 'PAD', 'PAD', 'PAD', 'PAD', 'PAD', 'PAD', 'PAD', 'PAD', 'PAD', 'PAD', 'PAD', 'PAD', 'PAD', 'PAD', 'PAD', 'PAD', 'PAD', 'PAD', 'PAD', 'PAD', 'PAD', 'PAD', 'PAD', 'PAD', 'PAD', 'PAD', 'PAD', 'PAD', 'PAD', 'PAD', 'PAD', 'PAD', 'PAD', 'PAD', 'PAD', 'PAD', 'PAD', 'PAD', 'PAD', 'PAD', 'PAD', 'PAD', 'PAD', 'PAD', 'PAD', 'PAD', 'PAD', 'PAD', 'PAD', 'PAD', 'PAD', 'PAD', 'PAD', 'PAD', 'PAD', 'PAD', 'PAD', 'PAD', 'PAD', 'PAD', 'PAD', 'PAD']\n"
     ]
    }
   ],
   "source": [
    "print(y_test_true[0])"
   ]
  },
  {
   "cell_type": "code",
   "execution_count": 0,
   "metadata": {
    "colab": {
     "base_uri": "https://localhost:8080/",
     "height": 55
    },
    "colab_type": "code",
    "executionInfo": {
     "elapsed": 2013504,
     "status": "ok",
     "timestamp": 1573333535495,
     "user": {
      "displayName": "Anant Bhavsar",
      "photoUrl": "",
      "userId": "10842212189610618468"
     },
     "user_tz": -330
    },
    "id": "-iZeTuFXZGid",
    "outputId": "76fb9236-f4a6-4ffd-ab94-8e442bcb1342"
   },
   "outputs": [
    {
     "name": "stdout",
     "output_type": "stream",
     "text": [
      "['O', 'O', 'O', 'O', 'O', 'O', 'B-Disease', 'O', 'B-Disease', 'O', 'O', 'O', 'O', 'B-Disease', 'I-Disease', 'I-Disease', 'I-Disease', 'O', 'PAD', 'PAD', 'PAD', 'PAD', 'PAD', 'PAD', 'PAD', 'PAD', 'PAD', 'PAD', 'PAD', 'PAD', 'PAD', 'PAD', 'PAD', 'PAD', 'PAD', 'PAD', 'PAD', 'PAD', 'PAD', 'PAD', 'PAD', 'PAD', 'PAD', 'PAD', 'PAD', 'PAD', 'PAD', 'PAD', 'PAD', 'PAD', 'PAD', 'PAD', 'PAD', 'PAD', 'PAD', 'PAD', 'PAD', 'PAD', 'PAD', 'PAD', 'PAD', 'PAD', 'PAD', 'PAD', 'PAD', 'PAD', 'PAD', 'PAD', 'PAD', 'PAD', 'PAD', 'PAD', 'PAD', 'PAD', 'PAD', 'PAD', 'PAD', 'PAD', 'PAD', 'PAD', 'PAD', 'PAD', 'PAD', 'PAD', 'PAD', 'PAD', 'PAD', 'PAD', 'PAD', 'PAD', 'PAD', 'PAD', 'PAD', 'PAD', 'PAD', 'PAD', 'PAD', 'PAD', 'PAD', 'PAD', 'PAD', 'PAD', 'PAD', 'PAD', 'PAD', 'PAD', 'PAD', 'PAD', 'PAD', 'PAD', 'PAD', 'PAD', 'PAD', 'PAD', 'PAD', 'PAD', 'PAD', 'PAD', 'PAD', 'PAD', 'PAD', 'PAD', 'PAD', 'PAD', 'PAD', 'PAD', 'PAD', 'PAD', 'PAD', 'PAD', 'PAD', 'PAD', 'PAD', 'PAD', 'PAD', 'PAD', 'PAD', 'PAD', 'PAD', 'PAD', 'PAD', 'PAD', 'PAD', 'PAD', 'PAD', 'PAD', 'PAD', 'PAD', 'PAD', 'PAD', 'PAD', 'PAD', 'PAD', 'PAD', 'PAD', 'PAD', 'PAD', 'PAD', 'PAD', 'PAD', 'PAD', 'PAD', 'PAD', 'PAD', 'PAD', 'PAD', 'PAD', 'PAD', 'PAD']\n"
     ]
    }
   ],
   "source": [
    "print(y_pred[0])"
   ]
  },
  {
   "cell_type": "code",
   "execution_count": 0,
   "metadata": {
    "colab": {
     "base_uri": "https://localhost:8080/",
     "height": 35
    },
    "colab_type": "code",
    "executionInfo": {
     "elapsed": 2012837,
     "status": "ok",
     "timestamp": 1573333535497,
     "user": {
      "displayName": "Anant Bhavsar",
      "photoUrl": "",
      "userId": "10842212189610618468"
     },
     "user_tz": -330
    },
    "id": "_K3G6L3VZGig",
    "outputId": "d067c9bf-5562-43ba-e6ec-1a157480f89a"
   },
   "outputs": [
    {
     "data": {
      "text/plain": [
       "False"
      ]
     },
     "execution_count": 401,
     "metadata": {
      "tags": []
     },
     "output_type": "execute_result"
    }
   ],
   "source": [
    "y_pred[0][1:16]==y_test_true[0][1:16]"
   ]
  },
  {
   "cell_type": "code",
   "execution_count": 0,
   "metadata": {
    "colab": {
     "base_uri": "https://localhost:8080/",
     "height": 90
    },
    "colab_type": "code",
    "executionInfo": {
     "elapsed": 2012290,
     "status": "ok",
     "timestamp": 1573333535497,
     "user": {
      "displayName": "Anant Bhavsar",
      "photoUrl": "",
      "userId": "10842212189610618468"
     },
     "user_tz": -330
    },
    "id": "7ACA_lgjZGih",
    "outputId": "7229d5c2-60e8-4627-95ae-a07efac37219"
   },
   "outputs": [
    {
     "name": "stdout",
     "output_type": "stream",
     "text": [
      "0.5546875\n",
      "0.3697916666666667\n",
      "0.44375\n",
      "[[355, 285], [605, 22156]]\n"
     ]
    }
   ],
   "source": [
    "##Exact Match\n",
    "TP=0\n",
    "TN=0\n",
    "FP=0\n",
    "FN=0\n",
    "i=0\n",
    "nument=0\n",
    "while i<len(y_test_true):\n",
    "    j=0\n",
    "    #print(i)\n",
    "    while j <len(y_test_true[i]):\n",
    "        #print('j ',j)\n",
    "        if y_test_true[i][j]=='B-Disease':\n",
    "            st=j\n",
    "            nument=nument+1\n",
    "            j=j+1\n",
    "            while (y_test_true[i][j]=='I-Disease') and j<len(y_test_true[i]):\n",
    "                j=j+1\n",
    "                #print('inside ',j)\n",
    "            end=j\n",
    "            if y_test_true[i][st:end]==y_pred[i][st:end]:\n",
    "                TP=TP+1\n",
    "            else:\n",
    "                FN=FN+1\n",
    "        elif y_test_true[i][j]=='O' and y_pred[i][j]=='O':\n",
    "            TN=TN+1\n",
    "            j=j+1\n",
    "            \n",
    "        elif y_test_true[i][j]=='O' and y_pred[i][j]!='O':\n",
    "            FP=FP+1\n",
    "            j=j+1\n",
    "            \n",
    "        elif y_test_true[i][j]=='PAD':\n",
    "            j=j+1\n",
    "\n",
    "    i=i+1\n",
    "\n",
    "Precision=TP/(TP+FP)\n",
    "print(Precision)\n",
    "Recall=TP/(TP+FN)\n",
    "print(Recall)\n",
    "F1=(2*Precision*Recall)/(Precision+Recall)\n",
    "print(F1)\n",
    "mat=[[TP,FP],[FN,TN]]\n",
    "print(mat)"
   ]
  },
  {
   "cell_type": "code",
   "execution_count": 0,
   "metadata": {
    "colab": {
     "base_uri": "https://localhost:8080/",
     "height": 90
    },
    "colab_type": "code",
    "executionInfo": {
     "elapsed": 2011879,
     "status": "ok",
     "timestamp": 1573333535498,
     "user": {
      "displayName": "Anant Bhavsar",
      "photoUrl": "",
      "userId": "10842212189610618468"
     },
     "user_tz": -330
    },
    "id": "yv-4D9xaZGik",
    "outputId": "a724a1c8-bfce-475e-98d5-043ed410fb36"
   },
   "outputs": [
    {
     "name": "stdout",
     "output_type": "stream",
     "text": [
      "0.6264744429882044\n",
      "0.4979166666666667\n",
      "0.554846198491004\n",
      "[[478, 285], [482, 22156]]\n"
     ]
    }
   ],
   "source": [
    "##Partial Match\n",
    "TP=0\n",
    "TN=0\n",
    "FP=0\n",
    "FN=0\n",
    "i=0\n",
    "nument=0\n",
    "while i<len(y_test_true):\n",
    "    j=0\n",
    "    #print(i)\n",
    "    while j <len(y_test_true[i]):\n",
    "        #print('j ',j)\n",
    "        if y_test_true[i][j]=='B-Disease':\n",
    "            st=j\n",
    "            nument=nument+1\n",
    "            j=j+1\n",
    "            while (y_test_true[i][j]=='I-Disease') and j<len(y_test_true[i]):\n",
    "                j=j+1\n",
    "                #print('inside ',j)\n",
    "            end=j\n",
    "            found=0\n",
    "            for k in range(st,end):\n",
    "                if y_test_true[i][k]==y_pred[i][k]:\n",
    "                    found=1\n",
    "                    break\n",
    "            if found==1:\n",
    "                TP=TP+1\n",
    "            else:\n",
    "                FN=FN+1\n",
    "            '''if y_test_true[i][st:end]==y_pred[i][st:end]:\n",
    "                TP=TP+1'''\n",
    "            \n",
    "        elif y_test_true[i][j]=='O' and y_pred[i][j]=='O':\n",
    "            TN=TN+1\n",
    "            j=j+1\n",
    "            \n",
    "        elif y_test_true[i][j]=='O' and y_pred[i][j]!='O':\n",
    "            FP=FP+1\n",
    "            j=j+1\n",
    "            \n",
    "        elif y_test_true[i][j]=='PAD':\n",
    "            j=j+1\n",
    "        \n",
    "        \n",
    "    i=i+1\n",
    "    \n",
    "Precision=TP/(TP+FP)\n",
    "print(Precision)\n",
    "Recall=TP/(TP+FN)\n",
    "print(Recall)\n",
    "F1=(2*Precision*Recall)/(Precision+Recall)\n",
    "print(F1)\n",
    "mat=[[TP,FP],[FN,TN]]\n",
    "print(mat)"
   ]
  },
  {
   "cell_type": "code",
   "execution_count": 0,
   "metadata": {
    "colab": {
     "base_uri": "https://localhost:8080/",
     "height": 35
    },
    "colab_type": "code",
    "executionInfo": {
     "elapsed": 2011019,
     "status": "ok",
     "timestamp": 1573333535499,
     "user": {
      "displayName": "Anant Bhavsar",
      "photoUrl": "",
      "userId": "10842212189610618468"
     },
     "user_tz": -330
    },
    "id": "kZgK3BbBZGil",
    "outputId": "f1b08ce1-845c-4f17-c271-432cfa19c8a3"
   },
   "outputs": [
    {
     "data": {
      "text/plain": [
       "939"
      ]
     },
     "execution_count": 404,
     "metadata": {
      "tags": []
     },
     "output_type": "execute_result"
    }
   ],
   "source": [
    "len(y_test_true)"
   ]
  },
  {
   "cell_type": "code",
   "execution_count": 0,
   "metadata": {
    "colab": {},
    "colab_type": "code",
    "id": "zJDUhtWGZGio"
   },
   "outputs": [],
   "source": []
  }
 ],
 "metadata": {
  "colab": {
   "collapsed_sections": [],
   "name": "PubMed-PMC-wiki-w2v BC5CDR.ipynb",
   "provenance": []
  },
  "kernelspec": {
   "display_name": "Python 3",
   "language": "python",
   "name": "python3"
  },
  "language_info": {
   "codemirror_mode": {
    "name": "ipython",
    "version": 3
   },
   "file_extension": ".py",
   "mimetype": "text/x-python",
   "name": "python",
   "nbconvert_exporter": "python",
   "pygments_lexer": "ipython3",
   "version": "3.7.0"
  }
 },
 "nbformat": 4,
 "nbformat_minor": 1
}
